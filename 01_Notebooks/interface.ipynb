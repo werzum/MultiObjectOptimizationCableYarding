{
 "cells": [
  {
   "cell_type": "markdown",
   "metadata": {},
   "source": [
    "1. Provide options which dataset/forest to load\n",
    "2. Precompute maps and cable roads\n",
    "3. Set A-Value, slope, etc.\n",
    "4. Provide pre-computed optimized results\n",
    "5. Editor\n",
    "   - top layout\n",
    "   - Pareto frontier\n",
    "   - Current layout properties\n",
    "6. Export? to exact positions of tree\n"
   ]
  },
  {
   "cell_type": "code",
   "execution_count": 1,
   "metadata": {},
   "outputs": [
    {
     "name": "stderr",
     "output_type": "stream",
     "text": [
      "/home/carlo/GitHub/MultiObjectOptimizationCableYarding/moo_env/lib/python3.10/site-packages/requests/__init__.py:109: RequestsDependencyWarning: urllib3 (2.0.6) or chardet (None)/charset_normalizer (2.1.0) doesn't match a supported version!\n",
      "  warnings.warn(\n"
     ]
    }
   ],
   "source": [
    "# Package Imports\n",
    "import pandas as pd\n",
    "import geopandas as gpd\n",
    "\n",
    "import matplotlib.pyplot as plt\n",
    "\n",
    "from shapely.geometry import LineString, Polygon, Point\n",
    "from shapely.affinity import rotate, scale\n",
    "\n",
    "from importlib import reload\n",
    "\n",
    "# to load the interactive plotting version\n",
    "# %matplotlib widget\n",
    "# or regular\n",
    "# %matplotlib inline\n",
    "# %gui qt\n",
    "\n",
    "# Importing my modules\n",
    "from src.main import (\n",
    "    data_loading,\n",
    "    geometry_operations,\n",
    "    geometry_utilities,\n",
    "    cable_road_computation,\n",
    "    mechanical_computations,\n",
    ")"
   ]
  },
  {
   "cell_type": "code",
   "execution_count": 3,
   "metadata": {},
   "outputs": [
    {
     "name": "stdout",
     "output_type": "stream",
     "text": [
      "The autoreload extension is already loaded. To reload it, use:\n",
      "  %reload_ext autoreload\n"
     ]
    }
   ],
   "source": [
    "%load_ext autoreload\n",
    "%autoreload 2"
   ]
  },
  {
   "cell_type": "code",
   "execution_count": 72,
   "metadata": {},
   "outputs": [],
   "source": [
    "data_to_load = 1\n",
    "tree_df, forest_area_gdf, height_df = data_loading.load_bestand_and_forest(data_to_load)"
   ]
  },
  {
   "cell_type": "code",
   "execution_count": 73,
   "metadata": {},
   "outputs": [],
   "source": [
    "# clean up the data\n",
    "tree_df.dropna(inplace=True)\n",
    "tree_df = tree_df[tree_df[\"h\"] > 0]\n",
    "tree_df = tree_df[tree_df[\"crownVolume\"].astype(int) > 0]\n",
    "# tree_df.drop(columns=[\"tile\", \"scanID\", \"id\"], inplace=True)\n",
    "tree_df.reset_index(drop=True, inplace=True)"
   ]
  },
  {
   "cell_type": "code",
   "execution_count": 74,
   "metadata": {},
   "outputs": [],
   "source": [
    "# # recreate the height and diameter series\n",
    "# tree_df[\"height_series\"] = [list(range(3, int(h))) for h in tree_df[\"h\"]]\n",
    "\n",
    "durchmesser_csv = pd.read_csv(\"03_Data/Resources_Organized/durchmesser.csv\")\n",
    "durchmesser_csv = durchmesser_csv[durchmesser_csv.hoehe % 1 == 0]\n",
    "\n",
    "kes = tree_gdf.id.unique()\n",
    "id_dict = {}\n",
    "dm_dict = {}\n",
    "for ke in kes:\n",
    "    id_dict[ke] = durchmesser_csv[durchmesser_csv[\"tree.id\"] == ke][\"hoehe\"].to_list()\n",
    "    dm_dict[ke] = durchmesser_csv[durchmesser_csv[\"tree.id\"] == ke][\n",
    "        \"durchmesser\"\n",
    "    ].to_list()\n",
    "\n",
    "tree_df[\"height_series\"] = tree_df[\"id\"].map(id_dict)\n",
    "tree_df[\"diameter_series\"] = tree_df[\"id\"].map(dm_dict)"
   ]
  },
  {
   "cell_type": "code",
   "execution_count": 116,
   "metadata": {},
   "outputs": [],
   "source": [
    "# ML approach to learn the diameter function from Christophs data\n",
    "features = [\"BHD\", \"Ges.h\", \"hoehe\"]\n",
    "target = \"durchmesser\"\n",
    "\n",
    "locs = 35\n",
    "# # load the data\n",
    "X = durchmesser_csv[features].iloc[0:locs]\n",
    "Y = durchmesser_csv[target].iloc[0:locs]\n",
    "\n",
    "# # split the data\n",
    "from sklearn.model_selection import train_test_split\n",
    "\n",
    "# X_train, X_test, y_train, y_test = train_test_split(X, Y, random_state=42)\n",
    "# # train the model"
   ]
  },
  {
   "cell_type": "code",
   "execution_count": null,
   "metadata": {},
   "outputs": [],
   "source": []
  },
  {
   "cell_type": "code",
   "execution_count": 147,
   "metadata": {},
   "outputs": [],
   "source": [
    "from sklearn.pipeline import make_pipeline\n",
    "from sklearn.svm import SVR\n",
    "from sklearn.preprocessing import StandardScaler\n",
    "\n",
    "clf = make_pipeline(StandardScaler(), SVR(kernel=\"rbf\", C=60))\n",
    "clf.fit(X, Y)\n",
    "\n",
    "# # predict the test data\n",
    "y_pred = clf.predict(X)"
   ]
  },
  {
   "cell_type": "code",
   "execution_count": 148,
   "metadata": {},
   "outputs": [
    {
     "name": "stdout",
     "output_type": "stream",
     "text": [
      "13.396065991181738\n"
     ]
    },
    {
     "data": {
      "text/plain": [
       "<matplotlib.collections.PathCollection at 0x7f6f4d504b20>"
      ]
     },
     "execution_count": 148,
     "metadata": {},
     "output_type": "execute_result"
    },
    {
     "data": {
      "image/png": "[encoded data removed]",
      "text/plain": [
       "<Figure size 640x480 with 1 Axes>"
      ]
     },
     "metadata": {},
     "output_type": "display_data"
    }
   ],
   "source": [
    "# # evaluate the model\n",
    "from sklearn.metrics import mean_squared_error\n",
    "\n",
    "print(mean_squared_error(Y, y_pred))\n",
    "# X_sorted = X_test.sort_values(by=\"hoehe\")\n",
    "# #plot the results\n",
    "# plt.scatter(X_sorted[\"hoehe\"].iloc[0:50], y_train[0:50])\n",
    "# # plt.hold('on')\n",
    "# plt.plot(X_sorted[\"hoehe\"].iloc[0:50], y_pred[0:50], color='navy', label='RBF model')\n",
    "plt.scatter(X[\"hoehe\"], Y, color=\"black\")\n",
    "plt.scatter(X[\"hoehe\"], y_pred, color=\"red\")\n",
    "# plt.plot(X_train[\"hoehe\"],  y_poly)"
   ]
  },
  {
   "cell_type": "code",
   "execution_count": 221,
   "metadata": {},
   "outputs": [
    {
     "name": "stdout",
     "output_type": "stream",
     "text": [
      "0.9494560719006424\n"
     ]
    }
   ],
   "source": [
    "import numpy as np\n",
    "\n",
    "x_id = durchmesser_csv[\"tree.id\"].unique()\n",
    "targets = {}\n",
    "for id in x_id:\n",
    "    this_group = durchmesser_csv[durchmesser_csv[\"tree.id\"] == id][\"durchmesser\"].values\n",
    "    targets[id] = this_group\n",
    "\n",
    "# create an array with the corresponding bhd and tree id for each tree id\n",
    "X = [\n",
    "    durchmesser_csv.loc[durchmesser_csv[\"tree.id\"] == key, [\"BHD\", \"Ges.h\"]]\n",
    "    .iloc[0]\n",
    "    .values\n",
    "    for key in targets.keys()\n",
    "]\n",
    "X = np.array(X)\n",
    "\n",
    "\n",
    "# find the max height\n",
    "max_height = int(max(durchmesser_csv[\"hoehe\"].unique())) + 1\n",
    "# create an empty ndarray of zeros\n",
    "Y = np.zeros((len(targets.keys()), max_height))\n",
    "# fill the array with the corresponding series\n",
    "for i, key in enumerate(targets.keys()):\n",
    "    this_group = targets[key]\n",
    "    Y[i, 0 : len(this_group)] = this_group\n",
    "\n",
    "# split the data\n",
    "from sklearn.model_selection import train_test_split\n",
    "\n",
    "X_train, X_test, y_train, y_test = train_test_split(X, Y, random_state=42)\n",
    "\n",
    "# train a neural network\n",
    "from sklearn.neural_network import MLPRegressor\n",
    "\n",
    "clf = MLPRegressor(max_iter=2000, hidden_layer_sizes=(100, 100, 100), random_state=42)\n",
    "clf.fit(X_train, y_train)\n",
    "\n",
    "# predict the test data\n",
    "y_pred = clf.predict(X_test)\n",
    "\n",
    "# evaluate the model\n",
    "from sklearn.metrics import mean_squared_error\n",
    "\n",
    "print(mean_squared_error(y_test, y_pred))\n",
    "\n",
    "# X_ts = [durchmesser_csv[durchmesser_csv[\"tree.id\"] == x][\"durchmesser\"] for x in x_id]\n",
    "\n",
    "# X_ts = durchmesser_csv[features].iloc[locs : locs + 30]\n",
    "# Y_ts = durchmesser_csv[target].iloc[locs : locs + 30]\n",
    "# y_pred = clf.predict(X_diff)\n",
    "# plt.scatter(X_diff[\"hoehe\"], Y_diff, color=\"black\")\n",
    "# plt.scatter(X_diff[\"hoehe\"], y_pred, color=\"red\")"
   ]
  },
  {
   "cell_type": "code",
   "execution_count": 226,
   "metadata": {},
   "outputs": [
    {
     "data": {
      "text/plain": [
       "[<matplotlib.lines.Line2D at 0x7f6f55ead0c0>]"
      ]
     },
     "execution_count": 226,
     "metadata": {},
     "output_type": "execute_result"
    },
    {
     "data": {
      "image/png": "[encoded data removed]",
      "text/plain": [
       "<Figure size 640x480 with 1 Axes>"
      ]
     },
     "metadata": {},
     "output_type": "display_data"
    }
   ],
   "source": [
    "plt.plot(y_pred[4][0:15])\n",
    "plt.plot(y_test[4][0:15])"
   ]
  },
  {
   "cell_type": "code",
   "execution_count": 229,
   "metadata": {},
   "outputs": [
    {
     "data": {
      "text/plain": [
       "Index(['x', 'y', 'z', 'id', 'BHD', 'h', 'crownLength', 'crownArea',\n",
       "       'crownVolume', 'crownDiameter', 'height_series', 'diameter_series',\n",
       "       'max_supported_force_series', 'max_holding_force'],\n",
       "      dtype='object')"
      ]
     },
     "execution_count": 229,
     "metadata": {},
     "output_type": "execute_result"
    }
   ],
   "source": [
    "tree_df.columns"
   ]
  },
  {
   "cell_type": "code",
   "execution_count": 241,
   "metadata": {},
   "outputs": [],
   "source": [
    "# so this works okay, need to predict all bestands now\n",
    "# Y_new = np.zeros((len(tree_df), max_height))\n",
    "# # fill the array with the corresponding series\n",
    "# for row in tree_df.iterrows():\n",
    "#     this_pred = clf.predict\n",
    "#     Y[i, 0 : len(this_group)] = this_group\n",
    "a = clf.predict(tree_df[[\"BHD\", \"h\"]].values)"
   ]
  },
  {
   "cell_type": "code",
   "execution_count": 248,
   "metadata": {},
   "outputs": [
    {
     "ename": "ValueError",
     "evalue": "Unknown label type: 'continuous-multioutput'",
     "output_type": "error",
     "traceback": [
      "\u001b[0;31m---------------------------------------------------------------------------\u001b[0m",
      "\u001b[0;31mValueError\u001b[0m                                Traceback (most recent call last)",
      "\u001b[1;32m/home/carlo/GitHub/MultiObjectOptimizationCableYarding/01_Notebooks/interface.ipynb Cell 15\u001b[0m line \u001b[0;36m2\n\u001b[1;32m     <a href='vscode-notebook-cell:/home/carlo/GitHub/MultiObjectOptimizationCableYarding/01_Notebooks/interface.ipynb#X64sZmlsZQ%3D%3D?line=16'>17</a>\u001b[0m             cumdist[ai\u001b[39m+\u001b[39m\u001b[39m1\u001b[39m, bi\u001b[39m+\u001b[39m\u001b[39m1\u001b[39m] \u001b[39m=\u001b[39m pointwise_distance[ai,bi] \u001b[39m+\u001b[39m minimum_cost\n\u001b[1;32m     <a href='vscode-notebook-cell:/home/carlo/GitHub/MultiObjectOptimizationCableYarding/01_Notebooks/interface.ipynb#X64sZmlsZQ%3D%3D?line=18'>19</a>\u001b[0m     \u001b[39mreturn\u001b[39;00m cumdist[an, bn]\n\u001b[0;32m---> <a href='vscode-notebook-cell:/home/carlo/GitHub/MultiObjectOptimizationCableYarding/01_Notebooks/interface.ipynb#X64sZmlsZQ%3D%3D?line=20'>21</a>\u001b[0m knns \u001b[39m=\u001b[39m KNeighborsClassifier(metric\u001b[39m=\u001b[39;49mDTW)\u001b[39m.\u001b[39;49mfit(X, Y)\n\u001b[1;32m     <a href='vscode-notebook-cell:/home/carlo/GitHub/MultiObjectOptimizationCableYarding/01_Notebooks/interface.ipynb#X64sZmlsZQ%3D%3D?line=21'>22</a>\u001b[0m \u001b[39m# kmeans = KNeighborsClassifier(metric=DTW).fit(Y)\u001b[39;00m\n",
      "File \u001b[0;32m~/GitHub/MultiObjectOptimizationCableYarding/moo_env/lib/python3.10/site-packages/sklearn/neighbors/_classification.py:200\u001b[0m, in \u001b[0;36mKNeighborsClassifier.fit\u001b[0;34m(self, X, y)\u001b[0m\n\u001b[1;32m    181\u001b[0m \u001b[39m\u001b[39m\u001b[39m\"\"\"Fit the k-nearest neighbors classifier from the training dataset.\u001b[39;00m\n\u001b[1;32m    182\u001b[0m \n\u001b[1;32m    183\u001b[0m \u001b[39mParameters\u001b[39;00m\n\u001b[0;32m   (...)\u001b[0m\n\u001b[1;32m    196\u001b[0m \u001b[39m    The fitted k-nearest neighbors classifier.\u001b[39;00m\n\u001b[1;32m    197\u001b[0m \u001b[39m\"\"\"\u001b[39;00m\n\u001b[1;32m    198\u001b[0m \u001b[39mself\u001b[39m\u001b[39m.\u001b[39mweights \u001b[39m=\u001b[39m _check_weights(\u001b[39mself\u001b[39m\u001b[39m.\u001b[39mweights)\n\u001b[0;32m--> 200\u001b[0m \u001b[39mreturn\u001b[39;00m \u001b[39mself\u001b[39;49m\u001b[39m.\u001b[39;49m_fit(X, y)\n",
      "File \u001b[0;32m~/GitHub/MultiObjectOptimizationCableYarding/moo_env/lib/python3.10/site-packages/sklearn/neighbors/_base.py:429\u001b[0m, in \u001b[0;36mNeighborsBase._fit\u001b[0;34m(self, X, y)\u001b[0m\n\u001b[1;32m    426\u001b[0m \u001b[39melse\u001b[39;00m:\n\u001b[1;32m    427\u001b[0m     \u001b[39mself\u001b[39m\u001b[39m.\u001b[39moutputs_2d_ \u001b[39m=\u001b[39m \u001b[39mTrue\u001b[39;00m\n\u001b[0;32m--> 429\u001b[0m check_classification_targets(y)\n\u001b[1;32m    430\u001b[0m \u001b[39mself\u001b[39m\u001b[39m.\u001b[39mclasses_ \u001b[39m=\u001b[39m []\n\u001b[1;32m    431\u001b[0m \u001b[39mself\u001b[39m\u001b[39m.\u001b[39m_y \u001b[39m=\u001b[39m np\u001b[39m.\u001b[39mempty(y\u001b[39m.\u001b[39mshape, dtype\u001b[39m=\u001b[39m\u001b[39mint\u001b[39m)\n",
      "File \u001b[0;32m~/GitHub/MultiObjectOptimizationCableYarding/moo_env/lib/python3.10/site-packages/sklearn/utils/multiclass.py:200\u001b[0m, in \u001b[0;36mcheck_classification_targets\u001b[0;34m(y)\u001b[0m\n\u001b[1;32m    192\u001b[0m y_type \u001b[39m=\u001b[39m type_of_target(y, input_name\u001b[39m=\u001b[39m\u001b[39m\"\u001b[39m\u001b[39my\u001b[39m\u001b[39m\"\u001b[39m)\n\u001b[1;32m    193\u001b[0m \u001b[39mif\u001b[39;00m y_type \u001b[39mnot\u001b[39;00m \u001b[39min\u001b[39;00m [\n\u001b[1;32m    194\u001b[0m     \u001b[39m\"\u001b[39m\u001b[39mbinary\u001b[39m\u001b[39m\"\u001b[39m,\n\u001b[1;32m    195\u001b[0m     \u001b[39m\"\u001b[39m\u001b[39mmulticlass\u001b[39m\u001b[39m\"\u001b[39m,\n\u001b[0;32m   (...)\u001b[0m\n\u001b[1;32m    198\u001b[0m     \u001b[39m\"\u001b[39m\u001b[39mmultilabel-sequences\u001b[39m\u001b[39m\"\u001b[39m,\n\u001b[1;32m    199\u001b[0m ]:\n\u001b[0;32m--> 200\u001b[0m     \u001b[39mraise\u001b[39;00m \u001b[39mValueError\u001b[39;00m(\u001b[39m\"\u001b[39m\u001b[39mUnknown label type: \u001b[39m\u001b[39m%r\u001b[39;00m\u001b[39m\"\u001b[39m \u001b[39m%\u001b[39m y_type)\n",
      "\u001b[0;31mValueError\u001b[0m: Unknown label type: 'continuous-multioutput'"
     ]
    }
   ],
   "source": [
    "from sklearn.cluster import KMeans\n",
    "from sklearn.neighbors import KNeighborsClassifier\n",
    "\n",
    "\n",
    "# custom metric\n",
    "def DTW(a, b):\n",
    "    an = a.size\n",
    "    bn = b.size\n",
    "    pointwise_distance = distance.cdist(a.reshape(-1, 1), b.reshape(-1, 1))\n",
    "    cumdist = np.matrix(np.ones((an + 1, bn + 1)) * np.inf)\n",
    "    cumdist[0, 0] = 0\n",
    "\n",
    "    for ai in range(an):\n",
    "        for bi in range(bn):\n",
    "            minimum_cost = np.min(\n",
    "                [cumdist[ai, bi + 1], cumdist[ai + 1, bi], cumdist[ai, bi]]\n",
    "            )\n",
    "            cumdist[ai + 1, bi + 1] = pointwise_distance[ai, bi] + minimum_cost\n",
    "\n",
    "    return cumdist[an, bn]\n",
    "\n",
    "\n",
    "knns = KNeighborsClassifier(metric=DTW).fit(X, Y)\n",
    "# kmeans = KNeighborsClassifier(metric=DTW).fit(Y)"
   ]
  },
  {
   "cell_type": "code",
   "execution_count": 244,
   "metadata": {},
   "outputs": [
    {
     "data": {
      "text/plain": [
       "<matplotlib.collections.PathCollection at 0x7f6f55e0d270>"
      ]
     },
     "execution_count": 244,
     "metadata": {},
     "output_type": "execute_result"
    },
    {
     "data": {
      "image/png": "[encoded data removed]",
      "text/plain": [
       "<Figure size 640x480 with 1 Axes>"
      ]
     },
     "metadata": {},
     "output_type": "display_data"
    }
   ],
   "source": [
    "# # plot the kmeans results\n",
    "plt.scatter(X[:, 0], X[:, 1], c=kmeans.labels_, cmap=\"viridis\")"
   ]
  },
  {
   "cell_type": "code",
   "execution_count": 253,
   "metadata": {},
   "outputs": [
    {
     "data": {
      "text/plain": [
       "[<matplotlib.lines.Line2D at 0x7f6f5754f0d0>]"
      ]
     },
     "execution_count": 253,
     "metadata": {},
     "output_type": "execute_result"
    },
    {
     "data": {
      "image/png": "[encoded data removed]",
      "text/plain": [
       "<Figure size 640x480 with 1 Axes>"
      ]
     },
     "metadata": {},
     "output_type": "display_data"
    }
   ],
   "source": [
    "to_plot = 3\n",
    "plt.plot(y_pred[to_plot][0:15])\n",
    "plt.plot(y_test[to_plot][0:15])"
   ]
  },
  {
   "cell_type": "code",
   "execution_count": 249,
   "metadata": {},
   "outputs": [
    {
     "data": {
      "text/plain": [
       "array([1, 0, 1, 1, 1, 1, 1, 1, 1, 1, 1, 0, 1, 1, 1, 1, 1, 1, 1, 1, 1, 1,\n",
       "       1, 0, 1, 1, 1, 1, 0, 0, 0, 1, 1, 0, 1, 0, 0, 1, 0, 0, 1, 1, 1, 0,\n",
       "       0, 1, 0, 1, 1, 1, 1, 0, 1, 1, 1, 1, 0, 1, 1, 0, 1, 0, 1, 0, 0, 0,\n",
       "       0, 1, 1, 0, 1, 1, 0, 1, 1, 0, 1, 1, 0, 1, 0, 1, 0, 1, 1, 1, 1, 1,\n",
       "       1, 1, 1, 0, 1, 0, 0, 1, 0, 1, 1, 1, 1, 1, 1, 0, 1, 1, 1, 1, 1, 0,\n",
       "       1, 0, 1, 1, 1, 1, 1, 1, 0, 1, 0, 1, 0, 1, 1, 1, 1, 1, 1, 0, 1, 1,\n",
       "       1, 1, 0, 1, 1, 1, 0, 1, 1, 1, 1, 1, 0, 0, 1, 0, 1, 1, 1, 0, 1, 1,\n",
       "       0, 0, 1, 1, 1, 0, 1, 1, 1, 0, 1, 0, 1, 0, 0, 0, 0, 0, 0, 1, 1, 1,\n",
       "       1, 0, 1, 1, 1, 0, 0, 0, 0, 0, 0, 0, 0, 0, 0, 0, 0, 0, 1, 1, 0, 1,\n",
       "       0, 0, 1, 1, 0, 1, 1, 0, 1, 0, 0, 1, 1, 1, 1, 1, 0, 0, 0, 0, 0, 0,\n",
       "       0, 0, 0, 0, 0, 0, 0, 0, 0, 0, 0, 1, 0, 0, 0, 0, 0, 0, 0, 0, 1, 0,\n",
       "       1, 0, 0, 0, 0, 0, 0, 0, 0, 0, 0, 0, 0, 0, 1, 0, 0, 0, 0, 0, 1, 0,\n",
       "       0, 0, 1, 1, 0, 0, 0, 1, 0, 1, 0, 0, 0, 0, 0, 0, 0, 1, 0, 0, 0, 0,\n",
       "       0, 0, 0, 1, 0, 0, 0, 0, 1, 0, 0, 0, 0, 0, 0, 0, 0, 0, 0, 0, 1, 1,\n",
       "       0, 1, 0, 0, 0, 0, 0, 0, 0, 0, 0, 0, 1, 0, 0, 1, 0, 0, 0, 1, 1, 0,\n",
       "       0, 0, 0, 0, 0, 0, 0, 0, 1, 0, 0, 0, 0, 1, 0, 0, 0, 0, 0, 0, 0, 0,\n",
       "       0, 0, 0, 0, 0, 0, 1, 1, 0, 1, 1, 0, 0, 0, 0, 1, 1, 0, 1, 1, 1, 0,\n",
       "       0, 1, 0, 0, 1, 0, 1, 1, 1, 1, 1, 1, 1, 1, 1, 1, 1, 1, 1, 1, 1, 0,\n",
       "       0, 1, 1, 1, 0, 1, 0, 0, 1, 1, 0, 1, 1, 1, 1, 1, 1, 0, 0, 0, 0, 0,\n",
       "       1, 0, 1, 1, 0, 1, 1, 1, 0, 1, 0, 0, 1, 0, 1, 1, 1, 0, 1, 1, 1, 1,\n",
       "       1, 0, 0, 1, 1, 1, 1, 1, 1, 1, 1, 1, 1, 1, 1, 0, 1, 1, 1, 1, 1, 1,\n",
       "       1, 1, 1, 1, 0, 1, 1, 1, 0, 1, 1, 1, 0, 0, 0, 1, 1, 1, 1, 1, 1, 1,\n",
       "       1, 1, 0, 1, 1, 1, 1, 1, 1, 1, 0, 1, 0, 1, 1, 1, 1, 1, 1, 0, 1, 0,\n",
       "       1, 1, 1, 1, 1, 1, 0, 1, 1, 1, 1, 1, 1, 1, 1, 1, 1, 1, 1, 1, 1, 1,\n",
       "       0, 0, 0, 1, 1, 1, 1, 1, 1, 1, 1, 1, 0, 1, 0, 1, 0, 1, 1, 1, 0, 0,\n",
       "       0, 0, 0, 1, 0, 1, 1, 0, 0, 0, 0, 1, 1, 1, 1, 1, 1, 0, 0, 0, 0, 1,\n",
       "       1, 1, 0, 0, 0, 0, 1, 1, 0, 1, 1, 1, 0, 0, 0, 0, 1, 1, 1, 1, 1, 1,\n",
       "       0, 0, 1, 1, 1, 1, 0, 1, 1, 1, 1, 1, 1, 1, 0, 1, 1, 1, 1, 1, 0, 0,\n",
       "       1, 1, 1, 1, 0, 0, 0, 1, 1, 1, 1, 1, 1, 0, 1, 0, 0], dtype=int32)"
      ]
     },
     "execution_count": 249,
     "metadata": {},
     "output_type": "execute_result"
    }
   ],
   "source": [
    "from tslearn.clustering import TimeSeriesKMeans"
   ]
  },
  {
   "cell_type": "code",
   "execution_count": 75,
   "metadata": {},
   "outputs": [],
   "source": [
    "# get the euler forces\n",
    "list_of_euler_max_force_lists = []\n",
    "for index, row in tree_df.iterrows():\n",
    "    temp_list = [\n",
    "        mechanical_computations.euler_knicklast(bhd, height)\n",
    "        for bhd, height in zip(row[\"diameter_series\"], row[\"height_series\"])\n",
    "    ]\n",
    "    list_of_euler_max_force_lists.append(temp_list)\n",
    "\n",
    "tree_df[\"max_supported_force_series\"] = list_of_euler_max_force_lists\n",
    "\n",
    "\n",
    "tree_df[\"max_holding_force\"] = (((tree_gdf[\"BHD\"] * 0.1) ** 2) / 3) * 10000"
   ]
  },
  {
   "cell_type": "code",
   "execution_count": 76,
   "metadata": {},
   "outputs": [
    {
     "data": {
      "text/html": [
       "<div>\n",
       "<style scoped>\n",
       "    .dataframe tbody tr th:only-of-type {\n",
       "        vertical-align: middle;\n",
       "    }\n",
       "\n",
       "    .dataframe tbody tr th {\n",
       "        vertical-align: top;\n",
       "    }\n",
       "\n",
       "    .dataframe thead th {\n",
       "        text-align: right;\n",
       "    }\n",
       "</style>\n",
       "<table border=\"1\" class=\"dataframe\">\n",
       "  <thead>\n",
       "    <tr style=\"text-align: right;\">\n",
       "      <th></th>\n",
       "      <th>x</th>\n",
       "      <th>y</th>\n",
       "      <th>z</th>\n",
       "      <th>id</th>\n",
       "      <th>BHD</th>\n",
       "      <th>h</th>\n",
       "      <th>crownLength</th>\n",
       "      <th>crownArea</th>\n",
       "      <th>crownVolume</th>\n",
       "      <th>crownDiameter</th>\n",
       "      <th>height_series</th>\n",
       "      <th>diameter_series</th>\n",
       "      <th>max_supported_force_series</th>\n",
       "      <th>max_holding_force</th>\n",
       "    </tr>\n",
       "  </thead>\n",
       "  <tbody>\n",
       "    <tr>\n",
       "      <th>0</th>\n",
       "      <td>-4.087702</td>\n",
       "      <td>13.812045</td>\n",
       "      <td>-4.793</td>\n",
       "      <td>1.0</td>\n",
       "      <td>37.026019</td>\n",
       "      <td>28.51</td>\n",
       "      <td>22,81</td>\n",
       "      <td>25,2</td>\n",
       "      <td>47.0</td>\n",
       "      <td>6</td>\n",
       "      <td>[0.0, 1.0, 2.0, 3.0, 4.0, 5.0, 6.0, 7.0, 8.0, ...</td>\n",
       "      <td>[75.3285252060416, 59.2357212453479, 50.810257...</td>\n",
       "      <td>[24959017.529930785, 9543866.365885176, 129162...</td>\n",
       "      <td>9041.459324</td>\n",
       "    </tr>\n",
       "    <tr>\n",
       "      <th>1</th>\n",
       "      <td>-72.886940</td>\n",
       "      <td>51.259958</td>\n",
       "      <td>-11.169</td>\n",
       "      <td>2.0</td>\n",
       "      <td>43.708216</td>\n",
       "      <td>27.08</td>\n",
       "      <td>21,18</td>\n",
       "      <td>44,3</td>\n",
       "      <td>92.7</td>\n",
       "      <td>7,8</td>\n",
       "      <td>[0.0, 1.0, 2.0, 3.0]</td>\n",
       "      <td>[5.17530099308459, 4.75298477202177, 3.2428768...</td>\n",
       "      <td>[556.0733471775088, 395.59912126499376, 21.431...</td>\n",
       "      <td>37451.395877</td>\n",
       "    </tr>\n",
       "    <tr>\n",
       "      <th>2</th>\n",
       "      <td>-69.267941</td>\n",
       "      <td>72.119508</td>\n",
       "      <td>-18.080</td>\n",
       "      <td>3.0</td>\n",
       "      <td>36.617772</td>\n",
       "      <td>30.12</td>\n",
       "      <td>24,42</td>\n",
       "      <td>44,8</td>\n",
       "      <td>83.3</td>\n",
       "      <td>8</td>\n",
       "      <td>[0.0, 1.0, 2.0, 3.0, 4.0, 5.0, 6.0, 7.0, 8.0, ...</td>\n",
       "      <td>[46.8504987923709, 36.4729261214776, 31.775120...</td>\n",
       "      <td>[3734620.721509984, 1371740.7949710337, 197550...</td>\n",
       "      <td>2790.798207</td>\n",
       "    </tr>\n",
       "    <tr>\n",
       "      <th>3</th>\n",
       "      <td>-51.388423</td>\n",
       "      <td>76.299677</td>\n",
       "      <td>-22.043</td>\n",
       "      <td>4.0</td>\n",
       "      <td>15.236598</td>\n",
       "      <td>31.80</td>\n",
       "      <td>28,6</td>\n",
       "      <td>16,9</td>\n",
       "      <td>28.6</td>\n",
       "      <td>4,9</td>\n",
       "      <td>[0.0, 1.0, 2.0, 3.0, 4.0, 5.0, 6.0, 7.0, 8.0, ...</td>\n",
       "      <td>[43.2279489877914, 33.8089756227105, 29.540885...</td>\n",
       "      <td>[2706750.015506462, 1012785.9686439564, 147578...</td>\n",
       "      <td>26504.617612</td>\n",
       "    </tr>\n",
       "    <tr>\n",
       "      <th>4</th>\n",
       "      <td>-1.004869</td>\n",
       "      <td>80.451350</td>\n",
       "      <td>-27.953</td>\n",
       "      <td>6.0</td>\n",
       "      <td>39.828429</td>\n",
       "      <td>27.51</td>\n",
       "      <td>23,46</td>\n",
       "      <td>30,8</td>\n",
       "      <td>49.6</td>\n",
       "      <td>6,9</td>\n",
       "      <td>[0.0, 1.0, 2.0, 3.0, 4.0, 5.0, 6.0, 7.0, 8.0, ...</td>\n",
       "      <td>[49.6525908411182, 37.5157809795753, 32.823612...</td>\n",
       "      <td>[4711479.277513838, 1535485.0548590315, 224944...</td>\n",
       "      <td>25287.315740</td>\n",
       "    </tr>\n",
       "    <tr>\n",
       "      <th>...</th>\n",
       "      <td>...</td>\n",
       "      <td>...</td>\n",
       "      <td>...</td>\n",
       "      <td>...</td>\n",
       "      <td>...</td>\n",
       "      <td>...</td>\n",
       "      <td>...</td>\n",
       "      <td>...</td>\n",
       "      <td>...</td>\n",
       "      <td>...</td>\n",
       "      <td>...</td>\n",
       "      <td>...</td>\n",
       "      <td>...</td>\n",
       "      <td>...</td>\n",
       "    </tr>\n",
       "    <tr>\n",
       "      <th>281</th>\n",
       "      <td>56.698030</td>\n",
       "      <td>-13.498930</td>\n",
       "      <td>1.492</td>\n",
       "      <td>378.0</td>\n",
       "      <td>32.540000</td>\n",
       "      <td>31.18</td>\n",
       "      <td>22,03</td>\n",
       "      <td>21,9</td>\n",
       "      <td>33.8</td>\n",
       "      <td>5,6</td>\n",
       "      <td>[0.0, 1.0, 2.0, 3.0, 4.0, 5.0, 6.0, 7.0, 8.0, ...</td>\n",
       "      <td>[24.5584154982255, 17.4878367645024, 16.550812...</td>\n",
       "      <td>[281962.269831994, 72499.32949271392, 14541.42...</td>\n",
       "      <td>2027.980191</td>\n",
       "    </tr>\n",
       "    <tr>\n",
       "      <th>282</th>\n",
       "      <td>54.337650</td>\n",
       "      <td>-19.167180</td>\n",
       "      <td>3.022</td>\n",
       "      <td>380.0</td>\n",
       "      <td>60.780000</td>\n",
       "      <td>40.78</td>\n",
       "      <td>25,13</td>\n",
       "      <td>26,6</td>\n",
       "      <td>36.2</td>\n",
       "      <td>6,3</td>\n",
       "      <td>[0.0, 1.0, 2.0, 3.0, 4.0, 5.0, 6.0, 7.0, 8.0, ...</td>\n",
       "      <td>[58.1869035968253, 43.9293594284743, 38.175859...</td>\n",
       "      <td>[8885678.885141028, 2886749.5628835335, 411609...</td>\n",
       "      <td>1233.302183</td>\n",
       "    </tr>\n",
       "    <tr>\n",
       "      <th>283</th>\n",
       "      <td>61.541710</td>\n",
       "      <td>-41.923750</td>\n",
       "      <td>15.977</td>\n",
       "      <td>386.0</td>\n",
       "      <td>30.300000</td>\n",
       "      <td>28.47</td>\n",
       "      <td>27,32</td>\n",
       "      <td>49,5</td>\n",
       "      <td>65.9</td>\n",
       "      <td>8,6</td>\n",
       "      <td>[0.0, 1.0, 2.0, 3.0, 4.0, 5.0, 6.0, 7.0, 8.0, ...</td>\n",
       "      <td>[51.2060964475487, 38.0865288243451, 33.473539...</td>\n",
       "      <td>[5329375.318423416, 1631079.7637492241, 243296...</td>\n",
       "      <td>16068.263223</td>\n",
       "    </tr>\n",
       "    <tr>\n",
       "      <th>284</th>\n",
       "      <td>57.406860</td>\n",
       "      <td>-45.251310</td>\n",
       "      <td>16.073</td>\n",
       "      <td>387.0</td>\n",
       "      <td>58.020000</td>\n",
       "      <td>25.14</td>\n",
       "      <td>17,44</td>\n",
       "      <td>48,2</td>\n",
       "      <td>40.3</td>\n",
       "      <td>8,5</td>\n",
       "      <td>[0.0, 1.0, 2.0, 3.0, 4.0, 5.0, 6.0, 7.0, 8.0, ...</td>\n",
       "      <td>[74.472996186051, 57.5285745674423, 49.3702663...</td>\n",
       "      <td>[23844319.550379198, 8490320.40678441, 1151307...</td>\n",
       "      <td>17519.321399</td>\n",
       "    </tr>\n",
       "    <tr>\n",
       "      <th>285</th>\n",
       "      <td>10.734430</td>\n",
       "      <td>67.800600</td>\n",
       "      <td>-26.092</td>\n",
       "      <td>388.0</td>\n",
       "      <td>42.980000</td>\n",
       "      <td>27.75</td>\n",
       "      <td>18,15</td>\n",
       "      <td>45,4</td>\n",
       "      <td>118.0</td>\n",
       "      <td>7,8</td>\n",
       "      <td>[0.0, 1.0, 2.0, 3.0, 4.0, 5.0, 6.0, 7.0, 8.0, ...</td>\n",
       "      <td>[87.702202458723, 66.4649350053208, 56.9361476...</td>\n",
       "      <td>[45859744.033542454, 15127249.304895094, 20364...</td>\n",
       "      <td>39274.133217</td>\n",
       "    </tr>\n",
       "  </tbody>\n",
       "</table>\n",
       "<p>286 rows × 14 columns</p>\n",
       "</div>"
      ],
      "text/plain": [
       "             x          y       z     id        BHD      h crownLength  \\\n",
       "0    -4.087702  13.812045  -4.793    1.0  37.026019  28.51       22,81   \n",
       "1   -72.886940  51.259958 -11.169    2.0  43.708216  27.08       21,18   \n",
       "2   -69.267941  72.119508 -18.080    3.0  36.617772  30.12       24,42   \n",
       "3   -51.388423  76.299677 -22.043    4.0  15.236598  31.80        28,6   \n",
       "4    -1.004869  80.451350 -27.953    6.0  39.828429  27.51       23,46   \n",
       "..         ...        ...     ...    ...        ...    ...         ...   \n",
       "281  56.698030 -13.498930   1.492  378.0  32.540000  31.18       22,03   \n",
       "282  54.337650 -19.167180   3.022  380.0  60.780000  40.78       25,13   \n",
       "283  61.541710 -41.923750  15.977  386.0  30.300000  28.47       27,32   \n",
       "284  57.406860 -45.251310  16.073  387.0  58.020000  25.14       17,44   \n",
       "285  10.734430  67.800600 -26.092  388.0  42.980000  27.75       18,15   \n",
       "\n",
       "    crownArea  crownVolume crownDiameter  \\\n",
       "0        25,2         47.0             6   \n",
       "1        44,3         92.7           7,8   \n",
       "2        44,8         83.3             8   \n",
       "3        16,9         28.6           4,9   \n",
       "4        30,8         49.6           6,9   \n",
       "..        ...          ...           ...   \n",
       "281      21,9         33.8           5,6   \n",
       "282      26,6         36.2           6,3   \n",
       "283      49,5         65.9           8,6   \n",
       "284      48,2         40.3           8,5   \n",
       "285      45,4        118.0           7,8   \n",
       "\n",
       "                                         height_series  \\\n",
       "0    [0.0, 1.0, 2.0, 3.0, 4.0, 5.0, 6.0, 7.0, 8.0, ...   \n",
       "1                                 [0.0, 1.0, 2.0, 3.0]   \n",
       "2    [0.0, 1.0, 2.0, 3.0, 4.0, 5.0, 6.0, 7.0, 8.0, ...   \n",
       "3    [0.0, 1.0, 2.0, 3.0, 4.0, 5.0, 6.0, 7.0, 8.0, ...   \n",
       "4    [0.0, 1.0, 2.0, 3.0, 4.0, 5.0, 6.0, 7.0, 8.0, ...   \n",
       "..                                                 ...   \n",
       "281  [0.0, 1.0, 2.0, 3.0, 4.0, 5.0, 6.0, 7.0, 8.0, ...   \n",
       "282  [0.0, 1.0, 2.0, 3.0, 4.0, 5.0, 6.0, 7.0, 8.0, ...   \n",
       "283  [0.0, 1.0, 2.0, 3.0, 4.0, 5.0, 6.0, 7.0, 8.0, ...   \n",
       "284  [0.0, 1.0, 2.0, 3.0, 4.0, 5.0, 6.0, 7.0, 8.0, ...   \n",
       "285  [0.0, 1.0, 2.0, 3.0, 4.0, 5.0, 6.0, 7.0, 8.0, ...   \n",
       "\n",
       "                                       diameter_series  \\\n",
       "0    [75.3285252060416, 59.2357212453479, 50.810257...   \n",
       "1    [5.17530099308459, 4.75298477202177, 3.2428768...   \n",
       "2    [46.8504987923709, 36.4729261214776, 31.775120...   \n",
       "3    [43.2279489877914, 33.8089756227105, 29.540885...   \n",
       "4    [49.6525908411182, 37.5157809795753, 32.823612...   \n",
       "..                                                 ...   \n",
       "281  [24.5584154982255, 17.4878367645024, 16.550812...   \n",
       "282  [58.1869035968253, 43.9293594284743, 38.175859...   \n",
       "283  [51.2060964475487, 38.0865288243451, 33.473539...   \n",
       "284  [74.472996186051, 57.5285745674423, 49.3702663...   \n",
       "285  [87.702202458723, 66.4649350053208, 56.9361476...   \n",
       "\n",
       "                            max_supported_force_series  max_holding_force  \n",
       "0    [24959017.529930785, 9543866.365885176, 129162...        9041.459324  \n",
       "1    [556.0733471775088, 395.59912126499376, 21.431...       37451.395877  \n",
       "2    [3734620.721509984, 1371740.7949710337, 197550...        2790.798207  \n",
       "3    [2706750.015506462, 1012785.9686439564, 147578...       26504.617612  \n",
       "4    [4711479.277513838, 1535485.0548590315, 224944...       25287.315740  \n",
       "..                                                 ...                ...  \n",
       "281  [281962.269831994, 72499.32949271392, 14541.42...        2027.980191  \n",
       "282  [8885678.885141028, 2886749.5628835335, 411609...        1233.302183  \n",
       "283  [5329375.318423416, 1631079.7637492241, 243296...       16068.263223  \n",
       "284  [23844319.550379198, 8490320.40678441, 1151307...       17519.321399  \n",
       "285  [45859744.033542454, 15127249.304895094, 20364...       39274.133217  \n",
       "\n",
       "[286 rows x 14 columns]"
      ]
     },
     "execution_count": 76,
     "metadata": {},
     "output_type": "execute_result"
    }
   ],
   "source": [
    "tree_df"
   ]
  },
  {
   "cell_type": "code",
   "execution_count": 53,
   "metadata": {},
   "outputs": [],
   "source": [
    "tree_df.to_csv(\n",
    "    f\"03_Data/Resources_Organized/Dataframes_Processed/Bestand_{data_to_load}.csv\"\n",
    ")\n",
    "height_df.to_csv(\n",
    "    f\"03_Data/Resources_Organized/Dataframes_Processed/Height_{data_to_load}.csv\"\n",
    ")"
   ]
  },
  {
   "cell_type": "code",
   "execution_count": 57,
   "metadata": {},
   "outputs": [],
   "source": [
    "tree_gdf, height_gdf = data_loading.load_processed_gdfs(data_to_load)"
   ]
  },
  {
   "cell_type": "code",
   "execution_count": null,
   "metadata": {},
   "outputs": [],
   "source": []
  },
  {
   "cell_type": "code",
   "execution_count": 60,
   "metadata": {},
   "outputs": [
    {
     "ename": "KeyError",
     "evalue": "'diameter_series'",
     "output_type": "error",
     "traceback": [
      "\u001b[0;31m---------------------------------------------------------------------------\u001b[0m",
      "\u001b[0;31mKeyError\u001b[0m                                  Traceback (most recent call last)",
      "File \u001b[0;32m~/GitHub/MultiObjectOptimizationCableYarding/moo_env/lib/python3.10/site-packages/pandas/core/indexes/base.py:3621\u001b[0m, in \u001b[0;36mIndex.get_loc\u001b[0;34m(self, key, method, tolerance)\u001b[0m\n\u001b[1;32m   3620\u001b[0m \u001b[39mtry\u001b[39;00m:\n\u001b[0;32m-> 3621\u001b[0m     \u001b[39mreturn\u001b[39;00m \u001b[39mself\u001b[39;49m\u001b[39m.\u001b[39;49m_engine\u001b[39m.\u001b[39;49mget_loc(casted_key)\n\u001b[1;32m   3622\u001b[0m \u001b[39mexcept\u001b[39;00m \u001b[39mKeyError\u001b[39;00m \u001b[39mas\u001b[39;00m err:\n",
      "File \u001b[0;32m~/GitHub/MultiObjectOptimizationCableYarding/moo_env/lib/python3.10/site-packages/pandas/_libs/index.pyx:136\u001b[0m, in \u001b[0;36mpandas._libs.index.IndexEngine.get_loc\u001b[0;34m()\u001b[0m\n",
      "File \u001b[0;32m~/GitHub/MultiObjectOptimizationCableYarding/moo_env/lib/python3.10/site-packages/pandas/_libs/index.pyx:163\u001b[0m, in \u001b[0;36mpandas._libs.index.IndexEngine.get_loc\u001b[0;34m()\u001b[0m\n",
      "File \u001b[0;32mpandas/_libs/hashtable_class_helper.pxi:5198\u001b[0m, in \u001b[0;36mpandas._libs.hashtable.PyObjectHashTable.get_item\u001b[0;34m()\u001b[0m\n",
      "File \u001b[0;32mpandas/_libs/hashtable_class_helper.pxi:5206\u001b[0m, in \u001b[0;36mpandas._libs.hashtable.PyObjectHashTable.get_item\u001b[0;34m()\u001b[0m\n",
      "\u001b[0;31mKeyError\u001b[0m: 'diameter_series'",
      "\nThe above exception was the direct cause of the following exception:\n",
      "\u001b[0;31mKeyError\u001b[0m                                  Traceback (most recent call last)",
      "\u001b[1;32m/home/carlo/GitHub/MultiObjectOptimizationCableYarding/01_Notebooks/interface.ipynb Cell 8\u001b[0m line \u001b[0;36m5\n\u001b[1;32m      <a href='vscode-notebook-cell:/home/carlo/GitHub/MultiObjectOptimizationCableYarding/01_Notebooks/interface.ipynb#X21sZmlsZQ%3D%3D?line=0'>1</a>\u001b[0m list_of_euler_max_force_lists \u001b[39m=\u001b[39m []\n\u001b[1;32m      <a href='vscode-notebook-cell:/home/carlo/GitHub/MultiObjectOptimizationCableYarding/01_Notebooks/interface.ipynb#X21sZmlsZQ%3D%3D?line=1'>2</a>\u001b[0m \u001b[39mfor\u001b[39;00m index, row \u001b[39min\u001b[39;00m tree_gdf\u001b[39m.\u001b[39miterrows():\n\u001b[1;32m      <a href='vscode-notebook-cell:/home/carlo/GitHub/MultiObjectOptimizationCableYarding/01_Notebooks/interface.ipynb#X21sZmlsZQ%3D%3D?line=2'>3</a>\u001b[0m     temp_list \u001b[39m=\u001b[39m [\n\u001b[1;32m      <a href='vscode-notebook-cell:/home/carlo/GitHub/MultiObjectOptimizationCableYarding/01_Notebooks/interface.ipynb#X21sZmlsZQ%3D%3D?line=3'>4</a>\u001b[0m         mechanical_computations\u001b[39m.\u001b[39meuler_knicklast(bhd, height)\n\u001b[0;32m----> <a href='vscode-notebook-cell:/home/carlo/GitHub/MultiObjectOptimizationCableYarding/01_Notebooks/interface.ipynb#X21sZmlsZQ%3D%3D?line=4'>5</a>\u001b[0m         \u001b[39mfor\u001b[39;00m bhd, height \u001b[39min\u001b[39;00m \u001b[39mzip\u001b[39m(row[\u001b[39m\"\u001b[39;49m\u001b[39mdiameter_series\u001b[39;49m\u001b[39m\"\u001b[39;49m], row[\u001b[39m\"\u001b[39m\u001b[39mheight_series\u001b[39m\u001b[39m\"\u001b[39m])\n\u001b[1;32m      <a href='vscode-notebook-cell:/home/carlo/GitHub/MultiObjectOptimizationCableYarding/01_Notebooks/interface.ipynb#X21sZmlsZQ%3D%3D?line=5'>6</a>\u001b[0m     ]\n\u001b[1;32m      <a href='vscode-notebook-cell:/home/carlo/GitHub/MultiObjectOptimizationCableYarding/01_Notebooks/interface.ipynb#X21sZmlsZQ%3D%3D?line=6'>7</a>\u001b[0m     list_of_euler_max_force_lists\u001b[39m.\u001b[39mappend(temp_list)\n\u001b[1;32m      <a href='vscode-notebook-cell:/home/carlo/GitHub/MultiObjectOptimizationCableYarding/01_Notebooks/interface.ipynb#X21sZmlsZQ%3D%3D?line=8'>9</a>\u001b[0m tree_gdf[\u001b[39m\"\u001b[39m\u001b[39mmax_supported_force_series\u001b[39m\u001b[39m\"\u001b[39m] \u001b[39m=\u001b[39m list_of_euler_max_force_lists\n",
      "File \u001b[0;32m~/GitHub/MultiObjectOptimizationCableYarding/moo_env/lib/python3.10/site-packages/pandas/core/series.py:958\u001b[0m, in \u001b[0;36mSeries.__getitem__\u001b[0;34m(self, key)\u001b[0m\n\u001b[1;32m    955\u001b[0m     \u001b[39mreturn\u001b[39;00m \u001b[39mself\u001b[39m\u001b[39m.\u001b[39m_values[key]\n\u001b[1;32m    957\u001b[0m \u001b[39melif\u001b[39;00m key_is_scalar:\n\u001b[0;32m--> 958\u001b[0m     \u001b[39mreturn\u001b[39;00m \u001b[39mself\u001b[39;49m\u001b[39m.\u001b[39;49m_get_value(key)\n\u001b[1;32m    960\u001b[0m \u001b[39mif\u001b[39;00m is_hashable(key):\n\u001b[1;32m    961\u001b[0m     \u001b[39m# Otherwise index.get_value will raise InvalidIndexError\u001b[39;00m\n\u001b[1;32m    962\u001b[0m     \u001b[39mtry\u001b[39;00m:\n\u001b[1;32m    963\u001b[0m         \u001b[39m# For labels that don't resolve as scalars like tuples and frozensets\u001b[39;00m\n",
      "File \u001b[0;32m~/GitHub/MultiObjectOptimizationCableYarding/moo_env/lib/python3.10/site-packages/pandas/core/series.py:1069\u001b[0m, in \u001b[0;36mSeries._get_value\u001b[0;34m(self, label, takeable)\u001b[0m\n\u001b[1;32m   1066\u001b[0m     \u001b[39mreturn\u001b[39;00m \u001b[39mself\u001b[39m\u001b[39m.\u001b[39m_values[label]\n\u001b[1;32m   1068\u001b[0m \u001b[39m# Similar to Index.get_value, but we do not fall back to positional\u001b[39;00m\n\u001b[0;32m-> 1069\u001b[0m loc \u001b[39m=\u001b[39m \u001b[39mself\u001b[39;49m\u001b[39m.\u001b[39;49mindex\u001b[39m.\u001b[39;49mget_loc(label)\n\u001b[1;32m   1070\u001b[0m \u001b[39mreturn\u001b[39;00m \u001b[39mself\u001b[39m\u001b[39m.\u001b[39mindex\u001b[39m.\u001b[39m_get_values_for_loc(\u001b[39mself\u001b[39m, loc, label)\n",
      "File \u001b[0;32m~/GitHub/MultiObjectOptimizationCableYarding/moo_env/lib/python3.10/site-packages/pandas/core/indexes/base.py:3623\u001b[0m, in \u001b[0;36mIndex.get_loc\u001b[0;34m(self, key, method, tolerance)\u001b[0m\n\u001b[1;32m   3621\u001b[0m     \u001b[39mreturn\u001b[39;00m \u001b[39mself\u001b[39m\u001b[39m.\u001b[39m_engine\u001b[39m.\u001b[39mget_loc(casted_key)\n\u001b[1;32m   3622\u001b[0m \u001b[39mexcept\u001b[39;00m \u001b[39mKeyError\u001b[39;00m \u001b[39mas\u001b[39;00m err:\n\u001b[0;32m-> 3623\u001b[0m     \u001b[39mraise\u001b[39;00m \u001b[39mKeyError\u001b[39;00m(key) \u001b[39mfrom\u001b[39;00m \u001b[39merr\u001b[39;00m\n\u001b[1;32m   3624\u001b[0m \u001b[39mexcept\u001b[39;00m \u001b[39mTypeError\u001b[39;00m:\n\u001b[1;32m   3625\u001b[0m     \u001b[39m# If we have a listlike key, _check_indexing_error will raise\u001b[39;00m\n\u001b[1;32m   3626\u001b[0m     \u001b[39m#  InvalidIndexError. Otherwise we fall through and re-raise\u001b[39;00m\n\u001b[1;32m   3627\u001b[0m     \u001b[39m#  the TypeError.\u001b[39;00m\n\u001b[1;32m   3628\u001b[0m     \u001b[39mself\u001b[39m\u001b[39m.\u001b[39m_check_indexing_error(key)\n",
      "\u001b[0;31mKeyError\u001b[0m: 'diameter_series'"
     ]
    }
   ],
   "source": []
  }
 ],
 "metadata": {
  "kernelspec": {
   "display_name": "moo_env",
   "language": "python",
   "name": "python3"
  },
  "language_info": {
   "codemirror_mode": {
    "name": "ipython",
    "version": 3
   },
   "file_extension": ".py",
   "mimetype": "text/x-python",
   "name": "python",
   "nbconvert_exporter": "python",
   "pygments_lexer": "ipython3",
   "version": "3.10.12"
  }
 },
 "nbformat": 4,
 "nbformat_minor": 2
}
