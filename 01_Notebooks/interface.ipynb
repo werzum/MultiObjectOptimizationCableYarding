{
 "cells": [
  {
   "cell_type": "markdown",
   "metadata": {},
   "source": [
    "1. Provide options which dataset/forest to load\n",
    "2. Precompute maps and cable roads\n",
    "3. Set A-Value, slope, etc.\n",
    "4. Provide pre-computed optimized results\n",
    "5. Editor\n",
    "   - top layout\n",
    "   - Pareto frontier\n",
    "   - Current layout properties\n",
    "6. Export? to exact positions of tree\n"
   ]
  },
  {
   "cell_type": "code",
   "execution_count": 1,
   "metadata": {},
   "outputs": [
    {
     "name": "stderr",
     "output_type": "stream",
     "text": [
      "/home/carlo/GitHub/MultiObjectOptimizationCableYarding/moo_env/lib/python3.10/site-packages/requests/__init__.py:109: RequestsDependencyWarning: urllib3 (2.0.6) or chardet (None)/charset_normalizer (2.1.0) doesn't match a supported version!\n",
      "  warnings.warn(\n"
     ]
    }
   ],
   "source": [
    "# Package Imports\n",
    "import pandas as pd\n",
    "import geopandas as gpd\n",
    "\n",
    "import matplotlib.pyplot as plt\n",
    "\n",
    "from shapely.geometry import LineString, Polygon, Point\n",
    "from shapely.affinity import rotate, scale\n",
    "\n",
    "from importlib import reload\n",
    "\n",
    "# to load the interactive plotting version\n",
    "# %matplotlib widget\n",
    "# or regular\n",
    "# %matplotlib inline\n",
    "# %gui qt\n",
    "\n",
    "# Importing my modules\n",
    "from src.main import (\n",
    "    data_loading,\n",
    "    geometry_operations,\n",
    "    geometry_utilities,\n",
    "    cable_road_computation,\n",
    "    mechanical_computations,\n",
    ")"
   ]
  },
  {
   "cell_type": "code",
   "execution_count": 364,
   "metadata": {},
   "outputs": [
    {
     "name": "stdout",
     "output_type": "stream",
     "text": [
      "The autoreload extension is already loaded. To reload it, use:\n",
      "  %reload_ext autoreload\n"
     ]
    }
   ],
   "source": [
    "%load_ext autoreload\n",
    "%autoreload 2"
   ]
  },
  {
   "cell_type": "code",
   "execution_count": 354,
   "metadata": {},
   "outputs": [],
   "source": []
  },
  {
   "cell_type": "markdown",
   "metadata": {},
   "source": [
    "#### Preprocessing\n"
   ]
  },
  {
   "cell_type": "code",
   "execution_count": 363,
   "metadata": {},
   "outputs": [],
   "source": [
    "# Load, preprocess and save the dataframe with the corresponding number - only needed to do once\n",
    "# data_loading.load_and_preprocess_raw_data(data_to_load=1)"
   ]
  },
  {
   "cell_type": "code",
   "execution_count": 57,
   "metadata": {},
   "outputs": [],
   "source": [
    "tree_gdf, height_gdf = data_loading.load_processed_gdfs(data_to_load)"
   ]
  }
 ],
 "metadata": {
  "kernelspec": {
   "display_name": "moo_env",
   "language": "python",
   "name": "python3"
  },
  "language_info": {
   "codemirror_mode": {
    "name": "ipython",
    "version": 3
   },
   "file_extension": ".py",
   "mimetype": "text/x-python",
   "name": "python",
   "nbconvert_exporter": "python",
   "pygments_lexer": "ipython3",
   "version": "3.10.12"
  }
 },
 "nbformat": 4,
 "nbformat_minor": 2
}
