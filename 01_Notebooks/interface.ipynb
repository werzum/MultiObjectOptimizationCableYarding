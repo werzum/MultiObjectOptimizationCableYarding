{
 "cells": [
  {
   "cell_type": "markdown",
   "metadata": {},
   "source": [
    "1. Provide options which dataset/forest to load\n",
    "2. Precompute maps and cable roads\n",
    "3. Set A-Value, slope, etc.\n",
    "4. Provide pre-computed optimized results\n",
    "5. Editor\n",
    "   - top layout\n",
    "   - Pareto frontier\n",
    "   - Current layout properties\n",
    "6. Export? to exact positions of tree\n"
   ]
  },
  {
   "cell_type": "code",
   "execution_count": 1,
   "metadata": {},
   "outputs": [
    {
     "name": "stderr",
     "output_type": "stream",
     "text": [
      "/home/carlo/GitHub/MultiObjectOptimizationCableYarding/moo_env/lib/python3.10/site-packages/requests/__init__.py:109: RequestsDependencyWarning: urllib3 (2.0.6) or chardet (None)/charset_normalizer (2.1.0) doesn't match a supported version!\n",
      "  warnings.warn(\n"
     ]
    }
   ],
   "source": [
    "# Package Imports\n",
    "import pandas as pd\n",
    "import geopandas as gpd\n",
    "\n",
    "import matplotlib.pyplot as plt\n",
    "\n",
    "from shapely.geometry import LineString, Polygon, Point\n",
    "from shapely.affinity import rotate, scale\n",
    "\n",
    "from importlib import reload\n",
    "\n",
    "# to load the interactive plotting version\n",
    "# %matplotlib widget\n",
    "# or regular\n",
    "# %matplotlib inline\n",
    "# %gui qt\n",
    "\n",
    "# Importing my modules\n",
    "from src.main import (\n",
    "    data_loading,\n",
    "    geometry_operations,\n",
    "    geometry_utilities,\n",
    "    cable_road_computation,\n",
    "    mechanical_computations,\n",
    ")"
   ]
  },
  {
   "cell_type": "code",
   "execution_count": 3,
   "metadata": {},
   "outputs": [
    {
     "name": "stdout",
     "output_type": "stream",
     "text": [
      "The autoreload extension is already loaded. To reload it, use:\n",
      "  %reload_ext autoreload\n"
     ]
    }
   ],
   "source": [
    "%load_ext autoreload\n",
    "%autoreload 2"
   ]
  },
  {
   "cell_type": "code",
   "execution_count": 11,
   "metadata": {},
   "outputs": [],
   "source": [
    "tree_df, forest_area_gdf, height_df = data_loading.load_bestand_and_forest(1)"
   ]
  },
  {
   "cell_type": "code",
   "execution_count": 10,
   "metadata": {},
   "outputs": [
    {
     "ename": "ModuleNotFoundError",
     "evalue": "No module named 'dash'",
     "output_type": "error",
     "traceback": [
      "\u001b[0;31m---------------------------------------------------------------------------\u001b[0m",
      "\u001b[0;31mModuleNotFoundError\u001b[0m                       Traceback (most recent call last)",
      "\u001b[1;32m/home/carlo/GitHub/MultiObjectOptimizationCableYarding/01_Notebooks/interface.ipynb Cell 6\u001b[0m line \u001b[0;36m1\n\u001b[0;32m----> <a href='vscode-notebook-cell:/home/carlo/GitHub/MultiObjectOptimizationCableYarding/01_Notebooks/interface.ipynb#W6sZmlsZQ%3D%3D?line=0'>1</a>\u001b[0m \u001b[39mfrom\u001b[39;00m \u001b[39mdash\u001b[39;00m \u001b[39mimport\u001b[39;00m Dash, html, dcc\n\u001b[1;32m      <a href='vscode-notebook-cell:/home/carlo/GitHub/MultiObjectOptimizationCableYarding/01_Notebooks/interface.ipynb#W6sZmlsZQ%3D%3D?line=2'>3</a>\u001b[0m app \u001b[39m=\u001b[39m Dash(\u001b[39m__name__\u001b[39m)\n\u001b[1;32m      <a href='vscode-notebook-cell:/home/carlo/GitHub/MultiObjectOptimizationCableYarding/01_Notebooks/interface.ipynb#W6sZmlsZQ%3D%3D?line=4'>5</a>\u001b[0m app\u001b[39m.\u001b[39mlayout \u001b[39m=\u001b[39m html\u001b[39m.\u001b[39mDiv([\n\u001b[1;32m      <a href='vscode-notebook-cell:/home/carlo/GitHub/MultiObjectOptimizationCableYarding/01_Notebooks/interface.ipynb#W6sZmlsZQ%3D%3D?line=5'>6</a>\u001b[0m     dcc\u001b[39m.\u001b[39mDropdown([\u001b[39m'\u001b[39m\u001b[39mNew York City\u001b[39m\u001b[39m'\u001b[39m, \u001b[39m'\u001b[39m\u001b[39mMontréal\u001b[39m\u001b[39m'\u001b[39m, \u001b[39m'\u001b[39m\u001b[39mSan Francisco\u001b[39m\u001b[39m'\u001b[39m], \u001b[39m'\u001b[39m\u001b[39mMontréal\u001b[39m\u001b[39m'\u001b[39m)\n\u001b[1;32m      <a href='vscode-notebook-cell:/home/carlo/GitHub/MultiObjectOptimizationCableYarding/01_Notebooks/interface.ipynb#W6sZmlsZQ%3D%3D?line=6'>7</a>\u001b[0m ])\n",
      "\u001b[0;31mModuleNotFoundError\u001b[0m: No module named 'dash'"
     ]
    }
   ],
   "source": []
  }
 ],
 "metadata": {
  "kernelspec": {
   "display_name": "moo_env",
   "language": "python",
   "name": "python3"
  },
  "language_info": {
   "codemirror_mode": {
    "name": "ipython",
    "version": 3
   },
   "file_extension": ".py",
   "mimetype": "text/x-python",
   "name": "python",
   "nbconvert_exporter": "python",
   "pygments_lexer": "ipython3",
   "version": "3.10.12"
  }
 },
 "nbformat": 4,
 "nbformat_minor": 2
}
