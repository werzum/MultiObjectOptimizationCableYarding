{
 "cells": [
  {
   "cell_type": "markdown",
   "metadata": {},
   "source": [
    "1. Provide options which dataset/forest to load\n",
    "2. Precompute maps and cable roads\n",
    "3. Set A-Value, slope, etc.\n",
    "4. Provide pre-computed optimized results\n",
    "5. Editor\n",
    "   - top layout\n",
    "   - Pareto frontier\n",
    "   - Current layout properties\n",
    "6. Export? to exact positions of tree\n"
   ]
  },
  {
   "cell_type": "code",
   "execution_count": 1,
   "metadata": {},
   "outputs": [
    {
     "name": "stderr",
     "output_type": "stream",
     "text": [
      "/home/carlo/GitHub/MultiObjectOptimizationCableYarding/moo_env/lib/python3.10/site-packages/requests/__init__.py:109: RequestsDependencyWarning: urllib3 (2.0.6) or chardet (None)/charset_normalizer (2.1.0) doesn't match a supported version!\n",
      "  warnings.warn(\n"
     ]
    }
   ],
   "source": [
    "# Package Imports\n",
    "import pandas as pd\n",
    "import geopandas as gpd\n",
    "\n",
    "import matplotlib.pyplot as plt\n",
    "\n",
    "from shapely.geometry import LineString, Polygon, Point\n",
    "from shapely.affinity import rotate, scale\n",
    "\n",
    "from importlib import reload\n",
    "\n",
    "# to load the interactive plotting version\n",
    "# %matplotlib widget\n",
    "# or regular\n",
    "# %matplotlib inline\n",
    "# %gui qt\n",
    "\n",
    "# Importing my modules\n",
    "from src.main import (\n",
    "    data_loading,\n",
    "    geometry_operations,\n",
    "    geometry_utilities,\n",
    "    cable_road_computation,\n",
    "    mechanical_computations,\n",
    ")"
   ]
  },
  {
   "cell_type": "code",
   "execution_count": 3,
   "metadata": {},
   "outputs": [
    {
     "name": "stdout",
     "output_type": "stream",
     "text": [
      "The autoreload extension is already loaded. To reload it, use:\n",
      "  %reload_ext autoreload\n"
     ]
    }
   ],
   "source": [
    "%load_ext autoreload\n",
    "%autoreload 2"
   ]
  },
  {
   "cell_type": "code",
   "execution_count": 49,
   "metadata": {},
   "outputs": [],
   "source": [
    "data_to_load = 4\n",
    "tree_df, forest_area_gdf, height_df = data_loading.load_bestand_and_forest(data_to_load)"
   ]
  },
  {
   "cell_type": "code",
   "execution_count": 54,
   "metadata": {},
   "outputs": [],
   "source": [
    "# clean up the data\n",
    "tree_df.dropna(inplace=True)\n",
    "tree_df = tree_df[tree_df[\"h\"] > 0]\n",
    "tree_df = tree_df[tree_df[\"crownVolume\"].astype(int) > 0]\n",
    "# tree_df.drop(columns=[\"tile\", \"scanID\", \"id\"], inplace=True)\n",
    "tree_df.reset_index(drop=True, inplace=True)"
   ]
  },
  {
   "cell_type": "code",
   "execution_count": 53,
   "metadata": {},
   "outputs": [],
   "source": [
    "tree_df.to_csv(\n",
    "    f\"03_Data/Resources_Organized/Dataframes_Processed/Bestand_{data_to_load}.csv\"\n",
    ")\n",
    "height_df.to_csv(\n",
    "    f\"03_Data/Resources_Organized/Dataframes_Processed/Height_{data_to_load}.csv\"\n",
    ")"
   ]
  },
  {
   "cell_type": "code",
   "execution_count": 57,
   "metadata": {},
   "outputs": [],
   "source": [
    "tree_gdf, height_gdf = data_loading.load_processed_gdfs(data_to_load)"
   ]
  }
 ],
 "metadata": {
  "kernelspec": {
   "display_name": "moo_env",
   "language": "python",
   "name": "python3"
  },
  "language_info": {
   "codemirror_mode": {
    "name": "ipython",
    "version": 3
   },
   "file_extension": ".py",
   "mimetype": "text/x-python",
   "name": "python",
   "nbconvert_exporter": "python",
   "pygments_lexer": "ipython3",
   "version": "3.10.12"
  }
 },
 "nbformat": 4,
 "nbformat_minor": 2
}
