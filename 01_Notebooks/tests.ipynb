{
 "cells": [
  {
   "attachments": {},
   "cell_type": "markdown",
   "metadata": {},
   "source": [
    "# Loading Tests"
   ]
  },
  {
   "cell_type": "code",
   "execution_count": 2,
   "metadata": {},
   "outputs": [],
   "source": [
    "from importlib import reload\n",
    "from src.main import mechanical_computations, classes, geometry_utilities\n",
    "from src.tests import helper_functions, test_cable_roads, test_geometry, test_mechanical_computations"
   ]
  },
  {
   "cell_type": "code",
   "execution_count": 5,
   "metadata": {},
   "outputs": [],
   "source": [
    "reload(helper_functions)\n",
    "reload(classes)\n",
    "line_gdf, tree_gdf, height_gdf = helper_functions.set_up_gdfs()"
   ]
  },
  {
   "cell_type": "code",
   "execution_count": 6,
   "metadata": {},
   "outputs": [
    {
     "name": "stdout",
     "output_type": "stream",
     "text": [
      "122.2226439780678\n",
      "141.90789913091348\n"
     ]
    }
   ],
   "source": [
    "reload(classes)\n",
    "cable_road = classes.load_cable_road(line_gdf, 0)\n",
    "print(cable_road.b_length_whole_section)\n",
    "print(cable_road.c_rope_length)"
   ]
  },
  {
   "cell_type": "code",
   "execution_count": 5,
   "metadata": {},
   "outputs": [
    {
     "name": "stdout",
     "output_type": "stream",
     "text": [
      "checking if no collisions overall line\n",
      "checking if tower and anchor trees hold\n",
      "found anchor tree that holds\n",
      "checking if support withstands tension\n",
      "forces on lr support 5067.325978612784 4513.24959442041\n",
      "checking if support withstands tension\n",
      "forces on lr support 5067.325978612784 4513.24959442041\n",
      "checking if no collisions overall line\n",
      "checking if no collisions overall line\n"
     ]
    }
   ],
   "source": [
    "reload(test_cable_roads)\n",
    "test_cable_roads.test_supported_cable_road_parameters(line_gdf, height_gdf, line_gdf.iloc[0])"
   ]
  },
  {
   "cell_type": "code",
   "execution_count": 8,
   "metadata": {},
   "outputs": [
    {
     "name": "stdout",
     "output_type": "stream",
     "text": [
      "checking if no collisions overall line\n"
     ]
    }
   ],
   "source": [
    "test_cable_roads.test_unsupported_cable_road_parameters(line_gdf, height_gdf)"
   ]
  },
  {
   "cell_type": "code",
   "execution_count": 11,
   "metadata": {},
   "outputs": [
    {
     "name": "stdout",
     "output_type": "stream",
     "text": [
      "Cable road created from line:  (-22.809794172088516, -5.018566541428784) to  (-107.9110969, 82.70909714)\n",
      "Tension to begin with is 85000.0\n",
      "checking if tower and anchor trees hold\n",
      "did not find anchor tree that holds - iterating\n",
      "did not find anchor tree that holds - iterating\n",
      "did not find anchor tree that holds - iterating\n",
      "Tower and anchors hold: False\n",
      "checking if tower and anchor trees hold\n",
      "did not find anchor tree that holds - iterating\n",
      "did not find anchor tree that holds - iterating\n",
      "did not find anchor tree that holds - iterating\n",
      "Tower and anchors hold: False\n",
      "checking if tower and anchor trees hold\n",
      "did not find anchor tree that holds - iterating\n",
      "did not find anchor tree that holds - iterating\n",
      "did not find anchor tree that holds - iterating\n",
      "Tower and anchors hold: False\n",
      "checking if tower and anchor trees hold\n",
      "found anchor tree that holds\n",
      "Tower and anchors hold: True\n",
      "After the iterative process it is now 55000.0\n",
      "checking if no collisions overall line\n",
      "Found collisions\n",
      "Need to find supports\n",
      "Setting up support candidates\n",
      "Cable road created from line:  (-22.809794172088516, -5.018566541428784) to  (-88.87189632, 60.67692382)\n",
      "Cable road created from line:  (-88.87189632, 60.67692382) to  (-107.9110969, 82.70909714)\n",
      "raising height to  6\n",
      "checking if support withstands tension\n",
      "forces on lr support 2446.0745983591887 2287.435721468848\n",
      "checking if no collisions overall line\n",
      "checking if no collisions overall line\n",
      "iterating through height series since support doesnt hold\n",
      "raising height to  7\n",
      "checking if support withstands tension\n",
      "forces on lr support 1441.2019390090588 1343.9722842952256\n",
      "checking if no collisions overall line\n",
      "checking if no collisions overall line\n",
      "iterating through height series since support doesnt hold\n",
      "raising height to  8\n",
      "checking if support withstands tension\n",
      "forces on lr support 4800.667229688134 3778.4951758408038\n",
      "iterating through height series since support doesnt hold\n",
      "raising height to  9\n",
      "checking if support withstands tension\n",
      "forces on lr support 8410.66581391327 7191.506039821101\n",
      "iterating through height series since support doesnt hold\n",
      "raising height to  10\n",
      "checking if support withstands tension\n",
      "forces on lr support 11874.275590677968 10461.758484614325\n",
      "iterating through height series since support doesnt hold\n",
      "raising height to  11\n",
      "checking if support withstands tension\n",
      "forces on lr support 15189.78131112318 13590.255761653436\n",
      "iterating through height series since support doesnt hold\n",
      "raising height to  12\n",
      "checking if support withstands tension\n",
      "forces on lr support 18358.42494975623 16580.269396650034\n",
      "iterating through height series since support doesnt hold\n",
      "raising height to  13\n",
      "checking if support withstands tension\n",
      "forces on lr support 21383.703279838443 19436.71514926321\n",
      "iterating through height series since support doesnt hold\n",
      "raising height to  14\n",
      "checking if support withstands tension\n",
      "forces on lr support 24270.735869990367 22165.61873105242\n",
      "iterating through height series since support doesnt hold\n",
      "raising height to  15\n",
      "checking if support withstands tension\n",
      "forces on lr support 27025.726668016145 24773.67848212909\n",
      "iterating through height series since support doesnt hold\n",
      "raising height to  16\n",
      "checking if support withstands tension\n",
      "forces on lr support 29655.52548620715 27267.921213080735\n",
      "iterating through height series since support doesnt hold\n",
      "raising height to  17\n",
      "checking if support withstands tension\n",
      "forces on lr support 32167.284765722918 29655.44122941948\n",
      "iterating through height series since support doesnt hold\n",
      "raising height to  18\n",
      "checking if support withstands tension\n",
      "forces on lr support 34568.200933034044 31943.209874260603\n",
      "iterating through height series since support doesnt hold\n",
      "raising height to  19\n",
      "checking if support withstands tension\n",
      "forces on lr support 36865.327125676966 34137.94253385344\n",
      "iterating through height series since support doesnt hold\n",
      "raising height to  20\n",
      "checking if support withstands tension\n",
      "forces on lr support 39065.443812779056 36246.010983392334\n",
      "iterating through height series since support doesnt hold\n",
      "raising height to  21\n",
      "checking if support withstands tension\n",
      "forces on lr support 41174.97488793272 38273.390522417656\n",
      "Attachment raised too high, segment not feasible\n",
      "Cable road created from line:  (-22.809794172088516, -5.018566541428784) to  (-77.894284, 52.61685171)\n",
      "Cable road created from line:  (-77.894284, 52.61685171) to  (-107.9110969, 82.70909714)\n",
      "raising height to  6\n",
      "checking if support withstands tension\n",
      "forces on lr support 2664.6194785381967 2479.2766800581594\n",
      "checking if no collisions overall line\n",
      "checking if no collisions overall line\n",
      "iterating through height series since support doesnt hold\n",
      "raising height to  7\n",
      "checking if support withstands tension\n",
      "forces on lr support 5554.182844778719 5167.222630871085\n",
      "checking if no collisions overall line\n",
      "checking if no collisions overall line\n",
      "found viable sub-config\n"
     ]
    }
   ],
   "source": [
    "test_cable_roads.test_cable_road_creation(line_gdf, height_gdf)"
   ]
  },
  {
   "cell_type": "code",
   "execution_count": 16,
   "metadata": {},
   "outputs": [
    {
     "name": "stdout",
     "output_type": "stream",
     "text": [
      "checking if tower and anchor trees hold\n",
      "found anchor tree that holds\n"
     ]
    }
   ],
   "source": [
    "reload(test_geometry)\n",
    "test_geometry.test_cr_feasability()"
   ]
  },
  {
   "cell_type": "code",
   "execution_count": 21,
   "metadata": {},
   "outputs": [
    {
     "name": "stdout",
     "output_type": "stream",
     "text": [
      "checking if no collisions overall line\n",
      "checking if no collisions overall line\n"
     ]
    }
   ],
   "source": [
    "reload(test_mechanical_computations)\n",
    "\n",
    "test_mechanical_computations.test_check_if_no_collisions_cable_road(line_gdf)\n",
    "test_mechanical_computations.test_check_if_support_withstands_tension(line_gdf)\n",
    "test_mechanical_computations.test_xz_line_from_cr_startpoint_to_centroid(line_gdf)\n",
    "test_mechanical_computations.test_compute_resulting_force_on_cable()"
   ]
  },
  {
   "cell_type": "code",
   "execution_count": 3,
   "metadata": {},
   "outputs": [],
   "source": [
    "reload(test_geometry)\n",
    "reload(geometry_utilities)\n",
    "test_geometry.test_rotation()\n",
    "test_geometry.test_3d_line_rotate()"
   ]
  },
  {
   "cell_type": "code",
   "execution_count": 13,
   "metadata": {},
   "outputs": [
    {
     "data": {
      "text/plain": [
       "<src.main.classes.SupportedSegment at 0x7fb130bb0250>"
      ]
     },
     "execution_count": 13,
     "metadata": {},
     "output_type": "execute_result"
    }
   ],
   "source": [
    "cable_road.supported_segments[1]"
   ]
  },
  {
   "cell_type": "code",
   "execution_count": 7,
   "metadata": {},
   "outputs": [
    {
     "ename": "AttributeError",
     "evalue": "'Cable_Road' object has no attribute 'end_support'",
     "output_type": "error",
     "traceback": [
      "\u001b[0;31m---------------------------------------------------------------------------\u001b[0m",
      "\u001b[0;31mAttributeError\u001b[0m                            Traceback (most recent call last)",
      "Cell \u001b[0;32mIn[7], line 3\u001b[0m\n\u001b[1;32m      1\u001b[0m reload(test_mechanical_computations)\n\u001b[0;32m----> 3\u001b[0m test_mechanical_computations\u001b[39m.\u001b[39;49mtest_compute_tension_loaded_vs_unloaded_cableroad(cable_road)\n",
      "File \u001b[0;32m~/GitHub/MultiObjectOptimizationCableYarding/src/tests/test_mechanical_computations.py:123\u001b[0m, in \u001b[0;36mtest_compute_tension_loaded_vs_unloaded_cableroad\u001b[0;34m(cable_road)\u001b[0m\n\u001b[1;32m    121\u001b[0m loaded_cr \u001b[39m=\u001b[39m cable_road\u001b[39m.\u001b[39msupported_segments[\u001b[39m0\u001b[39m]\u001b[39m.\u001b[39mcable_road\n\u001b[1;32m    122\u001b[0m unloaded_cr \u001b[39m=\u001b[39m cable_road\u001b[39m.\u001b[39msupported_segments[\u001b[39m1\u001b[39m]\u001b[39m.\u001b[39mcable_road\n\u001b[0;32m--> 123\u001b[0m center_point \u001b[39m=\u001b[39m loaded_cr\u001b[39m.\u001b[39;49mend_support\n\u001b[1;32m    125\u001b[0m force \u001b[39m=\u001b[39m mechanical_computations\u001b[39m.\u001b[39mcompute_tension_loaded_vs_unloaded_cableroad(\n\u001b[1;32m    126\u001b[0m     loaded_cr, unloaded_cr, center_point, scaling_factor\u001b[39m=\u001b[39m\u001b[39m10000\u001b[39m\n\u001b[1;32m    127\u001b[0m )\n\u001b[1;32m    129\u001b[0m \u001b[39massert\u001b[39;00m np\u001b[39m.\u001b[39misclose(force, \u001b[39m20000\u001b[39m, rtol\u001b[39m=\u001b[39m\u001b[39m0.2\u001b[39m)\n",
      "\u001b[0;31mAttributeError\u001b[0m: 'Cable_Road' object has no attribute 'end_support'"
     ]
    }
   ],
   "source": [
    "reload(test_mechanical_computations)\n",
    "\n",
    "test_mechanical_computations.test_compute_tension_loaded_vs_unloaded_cableroad(cable_road)\n"
   ]
  }
 ],
 "metadata": {
  "kernelspec": {
   "display_name": "moo_env",
   "language": "python",
   "name": "python3"
  },
  "language_info": {
   "codemirror_mode": {
    "name": "ipython",
    "version": 3
   },
   "file_extension": ".py",
   "mimetype": "text/x-python",
   "name": "python",
   "nbconvert_exporter": "python",
   "pygments_lexer": "ipython3",
   "version": "3.10.6"
  },
  "orig_nbformat": 4
 },
 "nbformat": 4,
 "nbformat_minor": 2
}
