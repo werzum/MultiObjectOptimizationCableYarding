{
 "cells": [
  {
   "attachments": {},
   "cell_type": "markdown",
   "metadata": {},
   "source": [
    "# Loading Tests"
   ]
  },
  {
   "cell_type": "code",
   "execution_count": 55,
   "metadata": {},
   "outputs": [],
   "source": [
    "from importlib import reload\n",
    "from src.main import mechanical_computations, classes, geometry_utilities\n",
    "from src.tests import helper_functions, test_cable_roads, test_geometry, test_mechanical_computations"
   ]
  },
  {
   "cell_type": "code",
   "execution_count": 68,
   "metadata": {},
   "outputs": [],
   "source": [
    "reload(helper_functions)\n",
    "reload(classes)\n",
    "line_gdf, tree_gdf, height_gdf = helper_functions.set_up_gdfs()"
   ]
  },
  {
   "cell_type": "code",
   "execution_count": 69,
   "metadata": {},
   "outputs": [
    {
     "name": "stdout",
     "output_type": "stream",
     "text": [
      "122.2226439780678\n",
      "141.90789913091348\n"
     ]
    }
   ],
   "source": [
    "reload(classes)\n",
    "cable_road = classes.load_cable_road(line_gdf, 0)\n",
    "print(cable_road.b_length_whole_section)\n",
    "print(cable_road.c_rope_length)"
   ]
  },
  {
   "cell_type": "code",
   "execution_count": 62,
   "metadata": {},
   "outputs": [
    {
     "name": "stdout",
     "output_type": "stream",
     "text": [
      "Cable road created from line:  (-22.809794172088516, -5.018566541428784) to  (-107.9110969, 82.70909714)\n"
     ]
    }
   ],
   "source": [
    "cr = classes.initialize_cable_road_with_supports(cable_road.line, height_gdf, 80000)"
   ]
  },
  {
   "cell_type": "code",
   "execution_count": 5,
   "metadata": {},
   "outputs": [
    {
     "name": "stdout",
     "output_type": "stream",
     "text": [
      "checking if no collisions overall line\n",
      "checking if tower and anchor trees hold\n",
      "found anchor tree that holds\n",
      "checking if support withstands tension\n",
      "forces on lr support 5067.325978612784 4513.24959442041\n",
      "checking if support withstands tension\n",
      "forces on lr support 5067.325978612784 4513.24959442041\n",
      "checking if no collisions overall line\n",
      "checking if no collisions overall line\n"
     ]
    }
   ],
   "source": [
    "reload(test_cable_roads)\n",
    "test_cable_roads.test_supported_cable_road_parameters(line_gdf, height_gdf, line_gdf.iloc[0])"
   ]
  },
  {
   "cell_type": "code",
   "execution_count": 8,
   "metadata": {},
   "outputs": [
    {
     "name": "stdout",
     "output_type": "stream",
     "text": [
      "checking if no collisions overall line\n"
     ]
    }
   ],
   "source": [
    "test_cable_roads.test_unsupported_cable_road_parameters(line_gdf, height_gdf)"
   ]
  },
  {
   "cell_type": "code",
   "execution_count": 11,
   "metadata": {},
   "outputs": [
    {
     "name": "stdout",
     "output_type": "stream",
     "text": [
      "Cable road created from line:  (-22.809794172088516, -5.018566541428784) to  (-107.9110969, 82.70909714)\n",
      "Tension to begin with is 85000.0\n",
      "checking if tower and anchor trees hold\n",
      "did not find anchor tree that holds - iterating\n",
      "did not find anchor tree that holds - iterating\n",
      "did not find anchor tree that holds - iterating\n",
      "Tower and anchors hold: False\n",
      "checking if tower and anchor trees hold\n",
      "did not find anchor tree that holds - iterating\n",
      "did not find anchor tree that holds - iterating\n",
      "did not find anchor tree that holds - iterating\n",
      "Tower and anchors hold: False\n",
      "checking if tower and anchor trees hold\n",
      "did not find anchor tree that holds - iterating\n",
      "did not find anchor tree that holds - iterating\n",
      "did not find anchor tree that holds - iterating\n",
      "Tower and anchors hold: False\n",
      "checking if tower and anchor trees hold\n",
      "found anchor tree that holds\n",
      "Tower and anchors hold: True\n",
      "After the iterative process it is now 55000.0\n",
      "checking if no collisions overall line\n",
      "Found collisions\n",
      "Need to find supports\n",
      "Setting up support candidates\n",
      "Cable road created from line:  (-22.809794172088516, -5.018566541428784) to  (-88.87189632, 60.67692382)\n",
      "Cable road created from line:  (-88.87189632, 60.67692382) to  (-107.9110969, 82.70909714)\n",
      "raising height to  6\n",
      "checking if support withstands tension\n",
      "forces on lr support 2446.0745983591887 2287.435721468848\n",
      "checking if no collisions overall line\n",
      "checking if no collisions overall line\n",
      "iterating through height series since support doesnt hold\n",
      "raising height to  7\n",
      "checking if support withstands tension\n",
      "forces on lr support 1441.2019390090588 1343.9722842952256\n",
      "checking if no collisions overall line\n",
      "checking if no collisions overall line\n",
      "iterating through height series since support doesnt hold\n",
      "raising height to  8\n",
      "checking if support withstands tension\n",
      "forces on lr support 4800.667229688134 3778.4951758408038\n",
      "iterating through height series since support doesnt hold\n",
      "raising height to  9\n",
      "checking if support withstands tension\n",
      "forces on lr support 8410.66581391327 7191.506039821101\n",
      "iterating through height series since support doesnt hold\n",
      "raising height to  10\n",
      "checking if support withstands tension\n",
      "forces on lr support 11874.275590677968 10461.758484614325\n",
      "iterating through height series since support doesnt hold\n",
      "raising height to  11\n",
      "checking if support withstands tension\n",
      "forces on lr support 15189.78131112318 13590.255761653436\n",
      "iterating through height series since support doesnt hold\n",
      "raising height to  12\n",
      "checking if support withstands tension\n",
      "forces on lr support 18358.42494975623 16580.269396650034\n",
      "iterating through height series since support doesnt hold\n",
      "raising height to  13\n",
      "checking if support withstands tension\n",
      "forces on lr support 21383.703279838443 19436.71514926321\n",
      "iterating through height series since support doesnt hold\n",
      "raising height to  14\n",
      "checking if support withstands tension\n",
      "forces on lr support 24270.735869990367 22165.61873105242\n",
      "iterating through height series since support doesnt hold\n",
      "raising height to  15\n",
      "checking if support withstands tension\n",
      "forces on lr support 27025.726668016145 24773.67848212909\n",
      "iterating through height series since support doesnt hold\n",
      "raising height to  16\n",
      "checking if support withstands tension\n",
      "forces on lr support 29655.52548620715 27267.921213080735\n",
      "iterating through height series since support doesnt hold\n",
      "raising height to  17\n",
      "checking if support withstands tension\n",
      "forces on lr support 32167.284765722918 29655.44122941948\n",
      "iterating through height series since support doesnt hold\n",
      "raising height to  18\n",
      "checking if support withstands tension\n",
      "forces on lr support 34568.200933034044 31943.209874260603\n",
      "iterating through height series since support doesnt hold\n",
      "raising height to  19\n",
      "checking if support withstands tension\n",
      "forces on lr support 36865.327125676966 34137.94253385344\n",
      "iterating through height series since support doesnt hold\n",
      "raising height to  20\n",
      "checking if support withstands tension\n",
      "forces on lr support 39065.443812779056 36246.010983392334\n",
      "iterating through height series since support doesnt hold\n",
      "raising height to  21\n",
      "checking if support withstands tension\n",
      "forces on lr support 41174.97488793272 38273.390522417656\n",
      "Attachment raised too high, segment not feasible\n",
      "Cable road created from line:  (-22.809794172088516, -5.018566541428784) to  (-77.894284, 52.61685171)\n",
      "Cable road created from line:  (-77.894284, 52.61685171) to  (-107.9110969, 82.70909714)\n",
      "raising height to  6\n",
      "checking if support withstands tension\n",
      "forces on lr support 2664.6194785381967 2479.2766800581594\n",
      "checking if no collisions overall line\n",
      "checking if no collisions overall line\n",
      "iterating through height series since support doesnt hold\n",
      "raising height to  7\n",
      "checking if support withstands tension\n",
      "forces on lr support 5554.182844778719 5167.222630871085\n",
      "checking if no collisions overall line\n",
      "checking if no collisions overall line\n",
      "found viable sub-config\n"
     ]
    }
   ],
   "source": [
    "test_cable_roads.test_cable_road_creation(line_gdf, height_gdf)"
   ]
  },
  {
   "cell_type": "code",
   "execution_count": 16,
   "metadata": {},
   "outputs": [
    {
     "name": "stdout",
     "output_type": "stream",
     "text": [
      "checking if tower and anchor trees hold\n",
      "found anchor tree that holds\n"
     ]
    }
   ],
   "source": [
    "reload(test_geometry)\n",
    "test_geometry.test_cr_feasability()"
   ]
  },
  {
   "cell_type": "code",
   "execution_count": 21,
   "metadata": {},
   "outputs": [
    {
     "name": "stdout",
     "output_type": "stream",
     "text": [
      "checking if no collisions overall line\n",
      "checking if no collisions overall line\n"
     ]
    }
   ],
   "source": [
    "reload(test_mechanical_computations)\n",
    "\n",
    "test_mechanical_computations.test_check_if_no_collisions_cable_road(line_gdf)\n",
    "test_mechanical_computations.test_check_if_support_withstands_tension(line_gdf)\n",
    "test_mechanical_computations.test_xz_line_from_cr_startpoint_to_centroid(line_gdf)\n",
    "test_mechanical_computations.test_compute_resulting_force_on_cable()"
   ]
  },
  {
   "cell_type": "code",
   "execution_count": 86,
   "metadata": {},
   "outputs": [],
   "source": [
    "reload(test_mechanical_computations)\n"
   ]
  },
  {
   "cell_type": "code",
   "execution_count": 107,
   "metadata": {},
   "outputs": [],
   "source": [
    "import numpy as np\n",
    "\n",
    "def Rx(theta):\n",
    "    theta = np.radians(theta)\n",
    "    return np.array([[1, 0, 0],\n",
    "                     [0, np.cos(theta), -np.sin(theta)],\n",
    "                     [0, np.sin(theta), np.cos(theta)]])\n",
    "\n",
    "def Ry(theta):\n",
    "    theta = np.radians(theta)\n",
    "    return np.array([[np.cos(theta), 0, np.sin(theta)],\n",
    "                     [0, 1, 0],\n",
    "                     [-np.sin(theta), 0, np.cos(theta)]])\n",
    "\n",
    "def Rz(theta):\n",
    "    theta = np.radians(theta)\n",
    "    return np.array([[np.cos(theta), -np.sin(theta), 0],\n",
    "                     [np.sin(theta), np.cos(theta), 0],\n",
    "                     [0, 0, 1]])\n",
    "\n",
    "def Rxy(theta_x, theta_y):\n",
    "    return np.multiply(Rx(theta_x), Ry(theta_y))"
   ]
  },
  {
   "cell_type": "code",
   "execution_count": 96,
   "metadata": {},
   "outputs": [
    {
     "name": "stdout",
     "output_type": "stream",
     "text": [
      "[0.98480775 0.98480775 0.        ]\n"
     ]
    }
   ],
   "source": [
    "vec = np.array([1, 1, 0])\n",
    "\n",
    "print(np.dot(Rxy(10* np.pi / 180,10* np.pi / 180), vec))"
   ]
  },
  {
   "cell_type": "code",
   "execution_count": 105,
   "metadata": {},
   "outputs": [
    {
     "data": {
      "text/plain": [
       "array([6.123234e-17, 1.000000e+00, 0.000000e+00])"
      ]
     },
     "execution_count": 105,
     "metadata": {},
     "output_type": "execute_result"
    }
   ],
   "source": [
    "vec = np.array([1, 0, 0])\n",
    "np.dot(Rz(np.radians(90)), vec)"
   ]
  },
  {
   "cell_type": "code",
   "execution_count": 110,
   "metadata": {},
   "outputs": [
    {
     "ename": "AssertionError",
     "evalue": "\nNot equal to tolerance rtol=1e-07, atol=1e-05\n\nMismatched elements: 1 / 3 (33.3%)\nMax absolute difference: 1.\nMax relative difference: 1.\n x: array([6.123234e-17, 0.000000e+00, 0.000000e+00])\n y: array([0, 0, 1])",
     "output_type": "error",
     "traceback": [
      "\u001b[0;31m---------------------------------------------------------------------------\u001b[0m",
      "\u001b[0;31mAssertionError\u001b[0m                            Traceback (most recent call last)",
      "Cell \u001b[0;32mIn[110], line 14\u001b[0m\n\u001b[1;32m      8\u001b[0m     vec \u001b[39m=\u001b[39m np\u001b[39m.\u001b[39marray([\u001b[39m1\u001b[39m, \u001b[39m0\u001b[39m, \u001b[39m0\u001b[39m])\n\u001b[1;32m      9\u001b[0m     np\u001b[39m.\u001b[39mtesting\u001b[39m.\u001b[39massert_allclose(\n\u001b[1;32m     10\u001b[0m         np\u001b[39m.\u001b[39mdot(\n\u001b[1;32m     11\u001b[0m             np\u001b[39m.\u001b[39mmultiply(Rx(\u001b[39m90\u001b[39m), Rz(\u001b[39m90\u001b[39m))\n\u001b[1;32m     12\u001b[0m                         ,vec), np\u001b[39m.\u001b[39marray([\u001b[39m0\u001b[39m, \u001b[39m0\u001b[39m, \u001b[39m1\u001b[39m]), atol\u001b[39m=\u001b[39m\u001b[39m1e-05\u001b[39m)\n\u001b[0;32m---> 14\u001b[0m test_rotation()\n",
      "Cell \u001b[0;32mIn[110], line 9\u001b[0m, in \u001b[0;36mtest_rotation\u001b[0;34m()\u001b[0m\n\u001b[1;32m      7\u001b[0m \u001b[39m# test composition of rotations - rotate around z, then around x axis should give [0, 0, 1]\u001b[39;00m\n\u001b[1;32m      8\u001b[0m vec \u001b[39m=\u001b[39m np\u001b[39m.\u001b[39marray([\u001b[39m1\u001b[39m, \u001b[39m0\u001b[39m, \u001b[39m0\u001b[39m])\n\u001b[0;32m----> 9\u001b[0m np\u001b[39m.\u001b[39;49mtesting\u001b[39m.\u001b[39;49massert_allclose(\n\u001b[1;32m     10\u001b[0m     np\u001b[39m.\u001b[39;49mdot(\n\u001b[1;32m     11\u001b[0m         np\u001b[39m.\u001b[39;49mmultiply(Rx(\u001b[39m90\u001b[39;49m), Rz(\u001b[39m90\u001b[39;49m))\n\u001b[1;32m     12\u001b[0m                     ,vec), np\u001b[39m.\u001b[39;49marray([\u001b[39m0\u001b[39;49m, \u001b[39m0\u001b[39;49m, \u001b[39m1\u001b[39;49m]), atol\u001b[39m=\u001b[39;49m\u001b[39m1e-05\u001b[39;49m)\n",
      "    \u001b[0;31m[... skipping hidden 1 frame]\u001b[0m\n",
      "File \u001b[0;32m~/GitHub/MultiObjectOptimizationCableYarding/moo_env/lib/python3.10/site-packages/numpy/testing/_private/utils.py:844\u001b[0m, in \u001b[0;36massert_array_compare\u001b[0;34m(comparison, x, y, err_msg, verbose, header, precision, equal_nan, equal_inf)\u001b[0m\n\u001b[1;32m    840\u001b[0m         err_msg \u001b[39m+\u001b[39m\u001b[39m=\u001b[39m \u001b[39m'\u001b[39m\u001b[39m\\n\u001b[39;00m\u001b[39m'\u001b[39m \u001b[39m+\u001b[39m \u001b[39m'\u001b[39m\u001b[39m\\n\u001b[39;00m\u001b[39m'\u001b[39m\u001b[39m.\u001b[39mjoin(remarks)\n\u001b[1;32m    841\u001b[0m         msg \u001b[39m=\u001b[39m build_err_msg([ox, oy], err_msg,\n\u001b[1;32m    842\u001b[0m                             verbose\u001b[39m=\u001b[39mverbose, header\u001b[39m=\u001b[39mheader,\n\u001b[1;32m    843\u001b[0m                             names\u001b[39m=\u001b[39m(\u001b[39m'\u001b[39m\u001b[39mx\u001b[39m\u001b[39m'\u001b[39m, \u001b[39m'\u001b[39m\u001b[39my\u001b[39m\u001b[39m'\u001b[39m), precision\u001b[39m=\u001b[39mprecision)\n\u001b[0;32m--> 844\u001b[0m         \u001b[39mraise\u001b[39;00m \u001b[39mAssertionError\u001b[39;00m(msg)\n\u001b[1;32m    845\u001b[0m \u001b[39mexcept\u001b[39;00m \u001b[39mValueError\u001b[39;00m:\n\u001b[1;32m    846\u001b[0m     \u001b[39mimport\u001b[39;00m \u001b[39mtraceback\u001b[39;00m\n",
      "\u001b[0;31mAssertionError\u001b[0m: \nNot equal to tolerance rtol=1e-07, atol=1e-05\n\nMismatched elements: 1 / 3 (33.3%)\nMax absolute difference: 1.\nMax relative difference: 1.\n x: array([6.123234e-17, 0.000000e+00, 0.000000e+00])\n y: array([0, 0, 1])"
     ]
    }
   ],
   "source": [
    "def test_rotation():\n",
    "\n",
    "    # rotate this around z axis should give [0, 1, 0]\n",
    "    vec = np.array([1, 0, 0])\n",
    "    np.testing.assert_allclose(np.dot(Rz(90), vec), np.array([0, 1, 0]), atol=1e-05)\n",
    "\n",
    "    # test composition of rotations - rotate around z, then around x axis should give [0, 0, 1]\n",
    "    vec = np.array([1, 0, 0])\n",
    "    np.testing.assert_allclose(\n",
    "        np.dot(\n",
    "            np.multiply(Rx(90), Rz(90))\n",
    "            ,vec), np.array([0, 0, 1]), atol=1e-05)\n",
    "\n",
    "test_rotation()"
   ]
  }
 ],
 "metadata": {
  "kernelspec": {
   "display_name": "moo_env",
   "language": "python",
   "name": "python3"
  },
  "language_info": {
   "codemirror_mode": {
    "name": "ipython",
    "version": 3
   },
   "file_extension": ".py",
   "mimetype": "text/x-python",
   "name": "python",
   "nbconvert_exporter": "python",
   "pygments_lexer": "ipython3",
   "version": "3.10.6"
  },
  "orig_nbformat": 4
 },
 "nbformat": 4,
 "nbformat_minor": 2
}
