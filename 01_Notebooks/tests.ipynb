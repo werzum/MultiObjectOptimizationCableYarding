{
 "cells": [
  {
   "attachments": {},
   "cell_type": "markdown",
   "metadata": {},
   "source": [
    "# Loading Tests"
   ]
  },
  {
   "cell_type": "code",
   "execution_count": 5,
   "metadata": {},
   "outputs": [],
   "source": [
    "from importlib import reload\n",
    "from src.main import mechanical_computations, classes, geometry_utilities, cable_road_computation\n",
    "from src.tests import helper_functions, test_cable_roads, test_geometry, test_mechanical_computations"
   ]
  },
  {
   "cell_type": "code",
   "execution_count": 46,
   "metadata": {},
   "outputs": [
    {
     "data": {
      "text/plain": [
       "2"
      ]
     },
     "execution_count": 46,
     "metadata": {},
     "output_type": "execute_result"
    }
   ],
   "source": [
    "line_gdf, tree_gdf, height_gdf = helper_functions.set_up_gdfs()"
   ]
  },
  {
   "cell_type": "code",
   "execution_count": 48,
   "metadata": {},
   "outputs": [
    {
     "data": {
      "text/plain": [
       "0"
      ]
     },
     "execution_count": 48,
     "metadata": {},
     "output_type": "execute_result"
    }
   ],
   "source": [
    "cable_road = classes.load_cable_road(line_gdf, 2)\n",
    "cable_road.count_segments()"
   ]
  },
  {
   "cell_type": "code",
   "execution_count": 8,
   "metadata": {},
   "outputs": [
    {
     "name": "stdout",
     "output_type": "stream",
     "text": [
      "checking if no collisions overall line\n",
      "Cable road created from line:  (-22.809794172088516, -5.018566541428784) to  (-107.9110969, 82.70909714)\n",
      "Tension to begin with is 85000.0\n",
      "checking if tower and anchor trees hold\n",
      "exerted force 85000.0\n",
      "did not find anchor tree that holds - iterating\n",
      "exerted force 85000.0\n",
      "did not find anchor tree that holds - iterating\n",
      "exerted force 85000.0\n",
      "did not find anchor tree that holds - iterating\n",
      "Tower and anchors hold: False\n",
      "checking if tower and anchor trees hold\n",
      "exerted force 75000.0\n",
      "did not find anchor tree that holds - iterating\n",
      "exerted force 75000.0\n",
      "did not find anchor tree that holds - iterating\n",
      "exerted force 75000.0\n",
      "did not find anchor tree that holds - iterating\n",
      "Tower and anchors hold: False\n",
      "checking if tower and anchor trees hold\n",
      "exerted force 65000.0\n",
      "did not find anchor tree that holds - iterating\n",
      "exerted force 65000.0\n",
      "did not find anchor tree that holds - iterating\n",
      "exerted force 65000.0\n",
      "did not find anchor tree that holds - iterating\n",
      "Tower and anchors hold: False\n",
      "checking if tower and anchor trees hold\n",
      "exerted force 55000.0\n",
      "found anchor tree that holds\n",
      "Tower and anchors hold: True\n",
      "After the iterative process it is now 55000.0\n",
      "checking if no collisions overall line\n",
      "Found collisions\n",
      "Need to find supports\n",
      "Setting up support candidates\n",
      "Cable road created from line:  (-22.809794172088516, -5.018566541428784) to  (-88.87189632, 60.67692382)\n",
      "Cable road created from line:  (-88.87189632, 60.67692382) to  (-107.9110969, 82.70909714)\n",
      "raising height to  6\n",
      "checking if support withstands tension\n",
      "forces on lr support 692.5319489969387 703.8453434034782\n",
      "checking if no collisions overall line\n",
      "checking if no collisions overall line\n",
      "iterating through height series since we have collisions\n",
      "raising height to  7\n",
      "checking if support withstands tension\n",
      "forces on lr support 413.8260391398125 334.63620163819536\n",
      "checking if no collisions overall line\n",
      "checking if no collisions overall line\n",
      "iterating through height series since we have collisions\n",
      "raising height to  8\n",
      "checking if support withstands tension\n",
      "forces on lr support 461.67556152364295 489.8956684496088\n",
      "checking if no collisions overall line\n",
      "checking if no collisions overall line\n",
      "iterating through height series since we have collisions\n",
      "raising height to  9\n",
      "checking if support withstands tension\n",
      "forces on lr support 513.6089508503184 703.8453434034782\n",
      "checking if no collisions overall line\n",
      "checking if no collisions overall line\n",
      "iterating through height series since we have collisions\n",
      "raising height to  10\n",
      "checking if support withstands tension\n",
      "forces on lr support 569.49080918061 970.6455828594802\n",
      "checking if no collisions overall line\n",
      "checking if no collisions overall line\n",
      "iterating through height series since we have collisions\n",
      "raising height to  11\n",
      "checking if support withstands tension\n",
      "forces on lr support 629.180289052717 1279.3502265319514\n",
      "checking if no collisions overall line\n",
      "checking if no collisions overall line\n",
      "iterating through height series since we have collisions\n",
      "raising height to  12\n",
      "checking if support withstands tension\n",
      "forces on lr support 692.5319489969387 1613.299624766282\n",
      "checking if no collisions overall line\n",
      "checking if no collisions overall line\n",
      "iterating through height series since we have collisions\n",
      "raising height to  13\n",
      "checking if support withstands tension\n",
      "forces on lr support 759.3971073870692 1950.050509465724\n",
      "checking if no collisions overall line\n",
      "checking if no collisions overall line\n",
      "iterating through height series since we have collisions\n",
      "raising height to  14\n",
      "checking if support withstands tension\n",
      "forces on lr support 829.625184740312 2262.044345735508\n",
      "checking if no collisions overall line\n",
      "checking if no collisions overall line\n",
      "iterating through height series since we have collisions\n",
      "Cable road created from line:  (-22.809794172088516, -5.018566541428784) to  (-77.894284, 52.61685171)\n",
      "Cable road created from line:  (-77.894284, 52.61685171) to  (-107.9110969, 82.70909714)\n",
      "raising height to  6\n",
      "checking if support withstands tension\n",
      "forces on lr support 863.2200931866751 852.9442428980526\n",
      "checking if no collisions overall line\n",
      "checking if no collisions overall line\n",
      "iterating through height series since we have collisions\n",
      "raising height to  7\n",
      "checking if support withstands tension\n",
      "forces on lr support 268.7702024497952 19.08155028420744\n",
      "checking if no collisions overall line\n",
      "checking if no collisions overall line\n",
      "iterating through height series since we have collisions\n",
      "raising height to  8\n",
      "checking if support withstands tension\n",
      "forces on lr support 326.24239757010923 20.415986468887056\n",
      "checking if no collisions overall line\n",
      "checking if no collisions overall line\n",
      "iterating through height series since we have collisions\n",
      "raising height to  9\n",
      "checking if support withstands tension\n",
      "forces on lr support 388.9638530280175 50.353492555549664\n",
      "checking if no collisions overall line\n",
      "checking if no collisions overall line\n",
      "iterating through height series since we have collisions\n",
      "raising height to  10\n",
      "checking if support withstands tension\n",
      "forces on lr support 456.72373661514195 110.1225092400861\n",
      "checking if no collisions overall line\n",
      "checking if no collisions overall line\n",
      "iterating through height series since we have collisions\n",
      "raising height to  11\n",
      "checking if support withstands tension\n",
      "forces on lr support 529.3021252990973 200.41666463931986\n",
      "checking if no collisions overall line\n",
      "checking if no collisions overall line\n",
      "iterating through height series since we have collisions\n",
      "raising height to  12\n",
      "checking if support withstands tension\n",
      "forces on lr support 606.4727026178518 321.235998237084\n",
      "checking if no collisions overall line\n",
      "checking if no collisions overall line\n",
      "found viable sub-config\n"
     ]
    }
   ],
   "source": [
    "test_cable_roads.test_supported_cable_road_parameters(line_gdf, height_gdf, line_gdf.iloc[0])\n",
    "test_cable_roads.test_unsupported_cable_road_parameters(line_gdf, height_gdf)\n",
    "test_cable_roads.test_cable_road_creation(line_gdf, height_gdf)\n",
    "test_cable_roads.test_raise_height_and_check_tension(cable_road)"
   ]
  },
  {
   "cell_type": "code",
   "execution_count": 51,
   "metadata": {},
   "outputs": [],
   "source": [
    "reload(test_cable_roads)\n",
    "reload(classes)\n",
    "cable_road = classes.load_cable_road(line_gdf, 0)\n",
    "test_cable_roads.test_raise_tension_and_check_height(cable_road)"
   ]
  },
  {
   "cell_type": "code",
   "execution_count": null,
   "metadata": {},
   "outputs": [],
   "source": []
  },
  {
   "cell_type": "code",
   "execution_count": 85,
   "metadata": {},
   "outputs": [
    {
     "name": "stdout",
     "output_type": "stream",
     "text": [
      "checking if no collisions overall line\n",
      "checking if no collisions overall line\n",
      "checking if support withstands tension\n",
      "Angle between lines 7.975870866838704\n",
      "Angle between lines 6.897933645471483\n",
      "forces on lr support 1554.7139293218052 1409.311350370052\n",
      "checking if support withstands tension\n",
      "Angle between lines 12.440100791930604\n",
      "Angle between lines 9.722163561908644\n",
      "forces on lr support 1641.2076240055937 1441.6988037038827\n"
     ]
    }
   ],
   "source": [
    "reload(test_mechanical_computations)\n",
    "reload(mechanical_computations)\n",
    "test_mechanical_computations.test_check_if_no_collisions_cable_road(line_gdf)\n",
    "test_mechanical_computations.test_check_if_support_withstands_tension(line_gdf)\n",
    "# test_mechanical_computations.test_xz_line_from_cr_startpoint_to_centroid(line_gdf) needs to be reworked for 3D\n",
    "test_mechanical_computations.test_compute_resulting_force_on_cable()\n",
    "# test_mechanical_computations.test_compute_tension_loaded_vs_unloaded_cableroad(cable_road) doesnt work - why is the tension so low?"
   ]
  },
  {
   "cell_type": "code",
   "execution_count": 144,
   "metadata": {},
   "outputs": [
    {
     "name": "stdout",
     "output_type": "stream",
     "text": [
      "checking if tower and anchor trees hold\n",
      "exerted force 55000.0\n",
      "found anchor tree that holds\n",
      "[0 1 0]\n",
      "[0 1 0]\n",
      "[-1  1  0]\n"
     ]
    },
    {
     "ename": "AssertionError",
     "evalue": "\nNot equal to tolerance rtol=1e-07, atol=0.1\n\nMismatched elements: 3 / 3 (100%)\nMax absolute difference: 0.70710678\nMax relative difference: 0.1785113\n x: array([ 1.414214,  1.414214, -0.707107])\n y: array([1.2, 1.2, 0. ])",
     "output_type": "error",
     "traceback": [
      "\u001b[0;31m---------------------------------------------------------------------------\u001b[0m",
      "\u001b[0;31mAssertionError\u001b[0m                            Traceback (most recent call last)",
      "Cell \u001b[0;32mIn[144], line 7\u001b[0m\n\u001b[1;32m      2\u001b[0m reload(geometry_utilities)\n\u001b[1;32m      3\u001b[0m test_geometry\u001b[39m.\u001b[39mtest_cr_parameter_feasability(cable_road,\n\u001b[1;32m      4\u001b[0m         line_gdf,\n\u001b[1;32m      5\u001b[0m         tree_gdf,\n\u001b[1;32m      6\u001b[0m         height_gdf)\n\u001b[0;32m----> 7\u001b[0m test_geometry\u001b[39m.\u001b[39;49mtest_rotation()\n\u001b[1;32m      8\u001b[0m test_geometry\u001b[39m.\u001b[39mtest_3d_line_rotate()\n\u001b[1;32m      9\u001b[0m test_geometry\u001b[39m.\u001b[39mtest_angle_between_3d_lines()\n",
      "File \u001b[0;32m~/GitHub/MultiObjectOptimizationCableYarding/src/tests/test_geometry.py:101\u001b[0m, in \u001b[0;36mtest_rotation\u001b[0;34m()\u001b[0m\n\u001b[1;32m     99\u001b[0m v \u001b[39m=\u001b[39m classes\u001b[39m.\u001b[39mPoint_3D(\u001b[39m1\u001b[39m, \u001b[39m1\u001b[39m, \u001b[39m1\u001b[39m)\n\u001b[1;32m    100\u001b[0m v_prime \u001b[39m=\u001b[39m geometry_utilities\u001b[39m.\u001b[39mrotate_3d_point_in_z_direction(v, \u001b[39m45\u001b[39m)\n\u001b[0;32m--> 101\u001b[0m np\u001b[39m.\u001b[39;49mtesting\u001b[39m.\u001b[39;49massert_allclose(v_prime\u001b[39m.\u001b[39;49mxyz, np\u001b[39m.\u001b[39;49marray([\u001b[39m1.2\u001b[39;49m, \u001b[39m1.2\u001b[39;49m, \u001b[39m0\u001b[39;49m]), atol\u001b[39m=\u001b[39;49m\u001b[39m1e-1\u001b[39;49m)\n\u001b[1;32m    103\u001b[0m \u001b[39m# how about negative xy components with higher values?\u001b[39;00m\n\u001b[1;32m    104\u001b[0m v \u001b[39m=\u001b[39m classes\u001b[39m.\u001b[39mPoint_3D(\u001b[39m-\u001b[39m\u001b[39m10\u001b[39m, \u001b[39m10\u001b[39m, \u001b[39m10\u001b[39m)\n",
      "    \u001b[0;31m[... skipping hidden 1 frame]\u001b[0m\n",
      "File \u001b[0;32m~/GitHub/MultiObjectOptimizationCableYarding/moo_env/lib/python3.10/site-packages/numpy/testing/_private/utils.py:844\u001b[0m, in \u001b[0;36massert_array_compare\u001b[0;34m(comparison, x, y, err_msg, verbose, header, precision, equal_nan, equal_inf)\u001b[0m\n\u001b[1;32m    840\u001b[0m         err_msg \u001b[39m+\u001b[39m\u001b[39m=\u001b[39m \u001b[39m'\u001b[39m\u001b[39m\\n\u001b[39;00m\u001b[39m'\u001b[39m \u001b[39m+\u001b[39m \u001b[39m'\u001b[39m\u001b[39m\\n\u001b[39;00m\u001b[39m'\u001b[39m\u001b[39m.\u001b[39mjoin(remarks)\n\u001b[1;32m    841\u001b[0m         msg \u001b[39m=\u001b[39m build_err_msg([ox, oy], err_msg,\n\u001b[1;32m    842\u001b[0m                             verbose\u001b[39m=\u001b[39mverbose, header\u001b[39m=\u001b[39mheader,\n\u001b[1;32m    843\u001b[0m                             names\u001b[39m=\u001b[39m(\u001b[39m'\u001b[39m\u001b[39mx\u001b[39m\u001b[39m'\u001b[39m, \u001b[39m'\u001b[39m\u001b[39my\u001b[39m\u001b[39m'\u001b[39m), precision\u001b[39m=\u001b[39mprecision)\n\u001b[0;32m--> 844\u001b[0m         \u001b[39mraise\u001b[39;00m \u001b[39mAssertionError\u001b[39;00m(msg)\n\u001b[1;32m    845\u001b[0m \u001b[39mexcept\u001b[39;00m \u001b[39mValueError\u001b[39;00m:\n\u001b[1;32m    846\u001b[0m     \u001b[39mimport\u001b[39;00m \u001b[39mtraceback\u001b[39;00m\n",
      "\u001b[0;31mAssertionError\u001b[0m: \nNot equal to tolerance rtol=1e-07, atol=0.1\n\nMismatched elements: 3 / 3 (100%)\nMax absolute difference: 0.70710678\nMax relative difference: 0.1785113\n x: array([ 1.414214,  1.414214, -0.707107])\n y: array([1.2, 1.2, 0. ])"
     ]
    }
   ],
   "source": [
    "reload(test_geometry)\n",
    "reload(geometry_utilities)\n",
    "test_geometry.test_cr_parameter_feasability(cable_road,\n",
    "        line_gdf,\n",
    "        tree_gdf,\n",
    "        height_gdf)\n",
    "test_geometry.test_rotation()\n",
    "test_geometry.test_3d_line_rotate()\n",
    "test_geometry.test_angle_between_3d_lines()"
   ]
  },
  {
   "cell_type": "code",
   "execution_count": 157,
   "metadata": {},
   "outputs": [
    {
     "name": "stdout",
     "output_type": "stream",
     "text": [
      "[-0.  1.  0.]\n"
     ]
    }
   ],
   "source": [
    "import numpy as np\n",
    "reload(geometry_utilities)\n",
    "point = geometry_utilities.rotate_3d_point_in_z_direction(classes.Point_3D(1, 0, 0), 90)\n",
    "point.xyz"
   ]
  },
  {
   "cell_type": "code",
   "execution_count": 142,
   "metadata": {},
   "outputs": [
    {
     "data": {
      "text/plain": [
       "array([1.11022302e-16, 1.11022302e-16, 2.12132034e+00])"
      ]
     },
     "execution_count": 142,
     "metadata": {},
     "output_type": "execute_result"
    }
   ],
   "source": [
    "reload(geometry_utilities)\n",
    "R = geometry_utilities.construct_rotation_matrix(45, [1, -1, 0])\n",
    "point = np.array([1, 1, 1])\n",
    "point_rotated = np.dot(R, point)\n",
    "point_rotated"
   ]
  }
 ],
 "metadata": {
  "kernelspec": {
   "display_name": "moo_env",
   "language": "python",
   "name": "python3"
  },
  "language_info": {
   "codemirror_mode": {
    "name": "ipython",
    "version": 3
   },
   "file_extension": ".py",
   "mimetype": "text/x-python",
   "name": "python",
   "nbconvert_exporter": "python",
   "pygments_lexer": "ipython3",
   "version": "3.10.6"
  },
  "orig_nbformat": 4
 },
 "nbformat": 4,
 "nbformat_minor": 2
}
