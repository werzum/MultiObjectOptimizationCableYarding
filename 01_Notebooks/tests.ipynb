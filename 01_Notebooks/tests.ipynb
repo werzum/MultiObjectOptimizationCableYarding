{
 "cells": [
  {
   "attachments": {},
   "cell_type": "markdown",
   "metadata": {},
   "source": [
    "# Loading Tests"
   ]
  },
  {
   "cell_type": "code",
   "execution_count": 11,
   "metadata": {},
   "outputs": [],
   "source": [
    "from importlib import reload\n",
    "from src.main import mechanical_computations, classes, geometry_utilities, cable_road_computation\n",
    "from src.tests import helper_functions, test_cable_roads, test_geometry, test_mechanical_computations"
   ]
  },
  {
   "cell_type": "code",
   "execution_count": 2,
   "metadata": {},
   "outputs": [],
   "source": [
    "line_gdf, tree_gdf, height_gdf = helper_functions.set_up_gdfs()\n",
    "cable_road = classes.load_cable_road(line_gdf, 0)"
   ]
  },
  {
   "cell_type": "code",
   "execution_count": 18,
   "metadata": {},
   "outputs": [],
   "source": [
    "# reload(test_cable_roads)\n",
    "# test_cable_roads.test_supported_cable_road_parameters(line_gdf, height_gdf, line_gdf.iloc[0])"
   ]
  },
  {
   "cell_type": "code",
   "execution_count": 6,
   "metadata": {},
   "outputs": [
    {
     "name": "stdout",
     "output_type": "stream",
     "text": [
      "checking if no collisions overall line\n"
     ]
    }
   ],
   "source": [
    "test_cable_roads.test_unsupported_cable_road_parameters(line_gdf, height_gdf)"
   ]
  },
  {
   "cell_type": "code",
   "execution_count": 12,
   "metadata": {},
   "outputs": [
    {
     "name": "stdout",
     "output_type": "stream",
     "text": [
      "Cable road created from line:  (-22.809794172088516, -5.018566541428784) to  (-107.9110969, 82.70909714)\n",
      "Tension to begin with is 85000.0\n",
      "checking if tower and anchor trees hold\n",
      "did not find anchor tree that holds - iterating\n",
      "did not find anchor tree that holds - iterating\n",
      "did not find anchor tree that holds - iterating\n",
      "Tower and anchors hold: False\n",
      "checking if tower and anchor trees hold\n",
      "did not find anchor tree that holds - iterating\n",
      "did not find anchor tree that holds - iterating\n",
      "did not find anchor tree that holds - iterating\n",
      "Tower and anchors hold: False\n",
      "checking if tower and anchor trees hold\n",
      "did not find anchor tree that holds - iterating\n",
      "did not find anchor tree that holds - iterating\n",
      "did not find anchor tree that holds - iterating\n",
      "Tower and anchors hold: False\n",
      "checking if tower and anchor trees hold\n",
      "found anchor tree that holds\n",
      "Tower and anchors hold: True\n",
      "After the iterative process it is now 55000.0\n",
      "checking if no collisions overall line\n",
      "Found collisions\n",
      "Need to find supports\n",
      "Setting up support candidates\n",
      "Cable road created from line:  (-22.809794172088516, -5.018566541428784) to  (-88.87189632, 60.67692382)\n",
      "Cable road created from line:  (-88.87189632, 60.67692382) to  (-107.9110969, 82.70909714)\n",
      "raising height to  6\n",
      "checking if support withstands tension\n",
      "forces on lr support 6442.2732021152415 10146.27629299583\n",
      "checking if no collisions overall line\n",
      "checking if no collisions overall line\n",
      "Cable road created from line:  (-22.809794172088516, -5.018566541428784) to  (-77.894284, 52.61685171)\n",
      "Cable road created from line:  (-77.894284, 52.61685171) to  (-107.9110969, 82.70909714)\n",
      "raising height to  6\n",
      "checking if support withstands tension\n",
      "forces on lr support 7592.657991300107 6972.93373892446\n",
      "checking if no collisions overall line\n",
      "checking if no collisions overall line\n",
      "iterating through height series since we have collisions\n",
      "raising height to  7\n",
      "checking if support withstands tension\n",
      "forces on lr support 7592.657991300107 8156.863323798713\n",
      "checking if no collisions overall line\n",
      "checking if no collisions overall line\n",
      "iterating through height series since we have collisions\n",
      "raising height to  8\n",
      "checking if support withstands tension\n",
      "forces on lr support 7578.987802178498 8721.22937101626\n",
      "checking if no collisions overall line\n",
      "checking if no collisions overall line\n",
      "iterating through height series since we have collisions\n",
      "raising height to  9\n",
      "checking if support withstands tension\n",
      "forces on lr support 7577.992737268555 9309.296563243779\n",
      "checking if no collisions overall line\n",
      "checking if no collisions overall line\n",
      "iterating through height series since we have collisions\n",
      "raising height to  10\n",
      "checking if support withstands tension\n",
      "forces on lr support 7588.950393232794 9915.369965150308\n",
      "checking if no collisions overall line\n",
      "checking if no collisions overall line\n",
      "iterating through height series since we have collisions\n",
      "raising height to  11\n",
      "checking if support withstands tension\n",
      "forces on lr support 7611.114398710026 10534.959793111922\n",
      "checking if no collisions overall line\n",
      "checking if no collisions overall line\n",
      "iterating through height series since we have collisions\n",
      "raising height to  12\n",
      "checking if support withstands tension\n",
      "forces on lr support 7643.725420731426 11164.589698270109\n",
      "checking if no collisions overall line\n",
      "checking if no collisions overall line\n",
      "found viable sub-config\n"
     ]
    }
   ],
   "source": [
    "reload(cable_road_computation)\n",
    "test_cable_roads.test_cable_road_creation(line_gdf, height_gdf)"
   ]
  },
  {
   "cell_type": "code",
   "execution_count": 19,
   "metadata": {},
   "outputs": [
    {
     "name": "stdout",
     "output_type": "stream",
     "text": [
      "checking if tower and anchor trees hold\n",
      "exerted force 55000.0\n",
      "found anchor tree that holds\n"
     ]
    }
   ],
   "source": [
    "reload(test_geometry)\n",
    "reload(mechanical_computations)\n",
    "test_geometry.test_cr_parameter_feasability(cable_road,\n",
    "        line_gdf,\n",
    "        tree_gdf,\n",
    "        height_gdf)"
   ]
  },
  {
   "cell_type": "code",
   "execution_count": 22,
   "metadata": {},
   "outputs": [
    {
     "name": "stdout",
     "output_type": "stream",
     "text": [
      "checking if no collisions overall line\n",
      "checking if no collisions overall line\n",
      "checking if support withstands tension\n",
      "forces on lr support 9057.034151708047 12004.288810948585\n",
      "checking if support withstands tension\n",
      "forces on lr support 5327.66714806371 7061.346359381535\n"
     ]
    }
   ],
   "source": [
    "reload(test_mechanical_computations)\n",
    "\n",
    "test_mechanical_computations.test_check_if_no_collisions_cable_road(line_gdf)\n",
    "test_mechanical_computations.test_check_if_support_withstands_tension(line_gdf)\n",
    "# test_mechanical_computations.test_xz_line_from_cr_startpoint_to_centroid(line_gdf) needs to be reworked for 3D\n",
    "test_mechanical_computations.test_compute_resulting_force_on_cable()"
   ]
  },
  {
   "cell_type": "code",
   "execution_count": 23,
   "metadata": {},
   "outputs": [],
   "source": [
    "reload(test_geometry)\n",
    "reload(geometry_utilities)\n",
    "test_geometry.test_rotation()\n",
    "test_geometry.test_3d_line_rotate()"
   ]
  },
  {
   "cell_type": "code",
   "execution_count": 33,
   "metadata": {},
   "outputs": [
    {
     "ename": "KeyboardInterrupt",
     "evalue": "",
     "output_type": "error",
     "traceback": [
      "\u001b[0;31m---------------------------------------------------------------------------\u001b[0m",
      "\u001b[0;31mKeyboardInterrupt\u001b[0m                         Traceback (most recent call last)",
      "Cell \u001b[0;32mIn[33], line 4\u001b[0m\n\u001b[1;32m      1\u001b[0m reload(test_mechanical_computations)\n\u001b[1;32m      2\u001b[0m reload(mechanical_computations)\n\u001b[0;32m----> 4\u001b[0m test_mechanical_computations\u001b[39m.\u001b[39;49mtest_compute_tension_loaded_vs_unloaded_cableroad(cable_road)\n",
      "File \u001b[0;32m~/GitHub/MultiObjectOptimizationCableYarding/src/tests/test_mechanical_computations.py:129\u001b[0m, in \u001b[0;36mtest_compute_tension_loaded_vs_unloaded_cableroad\u001b[0;34m(cable_road)\u001b[0m\n\u001b[1;32m    126\u001b[0m loaded_cr\u001b[39m.\u001b[39ms_current_tension \u001b[39m=\u001b[39m \u001b[39m50000\u001b[39m\n\u001b[1;32m    127\u001b[0m unloaded_cr\u001b[39m.\u001b[39ms_current_tension \u001b[39m=\u001b[39m \u001b[39m50000\u001b[39m\n\u001b[0;32m--> 129\u001b[0m force \u001b[39m=\u001b[39m mechanical_computations\u001b[39m.\u001b[39;49mcompute_tension_loaded_vs_unloaded_cableroad(\n\u001b[1;32m    130\u001b[0m     loaded_cr, unloaded_cr, center_point, scaling_factor\u001b[39m=\u001b[39;49m\u001b[39m10000\u001b[39;49m\n\u001b[1;32m    131\u001b[0m )\n\u001b[1;32m    133\u001b[0m \u001b[39massert\u001b[39;00m np\u001b[39m.\u001b[39misclose(force, \u001b[39m20000\u001b[39m, rtol\u001b[39m=\u001b[39m\u001b[39m0.2\u001b[39m)\n",
      "File \u001b[0;32m~/GitHub/MultiObjectOptimizationCableYarding/src/main/mechanical_computations.py:229\u001b[0m, in \u001b[0;36mcompute_tension_loaded_vs_unloaded_cableroad\u001b[0;34m(loaded_cable_road, unloaded_cable_road, center_point, scaling_factor, fig)\u001b[0m\n\u001b[1;32m    224\u001b[0m angle_loaded_unloaded_cr \u001b[39m=\u001b[39m geometry_utilities\u001b[39m.\u001b[39mangle_between_3d(\n\u001b[1;32m    225\u001b[0m     loaded_line_sp_centroid\u001b[39m.\u001b[39mend_point\u001b[39m.\u001b[39mxyz, unloaded_line_sp_centroid\u001b[39m.\u001b[39mend_point\u001b[39m.\u001b[39mxyz\n\u001b[1;32m    226\u001b[0m )\n\u001b[1;32m    228\u001b[0m \u001b[39m# rotate the loaded cable by this angle to be able to compare the distance\u001b[39;00m\n\u001b[0;32m--> 229\u001b[0m loaded_line_rotated \u001b[39m=\u001b[39m geometry_utilities\u001b[39m.\u001b[39mrotate_3d_line_in_z_direction(\n\u001b[1;32m    230\u001b[0m     loaded_line_sp_centroid, angle_loaded_unloaded_cr\n\u001b[1;32m    231\u001b[0m )\n\u001b[1;32m    233\u001b[0m \u001b[39mif\u001b[39;00m fig:\n\u001b[1;32m    234\u001b[0m     \u001b[39mprint\u001b[39m(\u001b[39m\"\u001b[39m\u001b[39mAngle between lines\u001b[39m\u001b[39m\"\u001b[39m, angle_loaded_unloaded_cr)\n",
      "File \u001b[0;32m~/GitHub/MultiObjectOptimizationCableYarding/src/main/mechanical_computations.py:229\u001b[0m, in \u001b[0;36mcompute_tension_loaded_vs_unloaded_cableroad\u001b[0;34m(loaded_cable_road, unloaded_cable_road, center_point, scaling_factor, fig)\u001b[0m\n\u001b[1;32m    224\u001b[0m angle_loaded_unloaded_cr \u001b[39m=\u001b[39m geometry_utilities\u001b[39m.\u001b[39mangle_between_3d(\n\u001b[1;32m    225\u001b[0m     loaded_line_sp_centroid\u001b[39m.\u001b[39mend_point\u001b[39m.\u001b[39mxyz, unloaded_line_sp_centroid\u001b[39m.\u001b[39mend_point\u001b[39m.\u001b[39mxyz\n\u001b[1;32m    226\u001b[0m )\n\u001b[1;32m    228\u001b[0m \u001b[39m# rotate the loaded cable by this angle to be able to compare the distance\u001b[39;00m\n\u001b[0;32m--> 229\u001b[0m loaded_line_rotated \u001b[39m=\u001b[39m geometry_utilities\u001b[39m.\u001b[39mrotate_3d_line_in_z_direction(\n\u001b[1;32m    230\u001b[0m     loaded_line_sp_centroid, angle_loaded_unloaded_cr\n\u001b[1;32m    231\u001b[0m )\n\u001b[1;32m    233\u001b[0m \u001b[39mif\u001b[39;00m fig:\n\u001b[1;32m    234\u001b[0m     \u001b[39mprint\u001b[39m(\u001b[39m\"\u001b[39m\u001b[39mAngle between lines\u001b[39m\u001b[39m\"\u001b[39m, angle_loaded_unloaded_cr)\n",
      "File \u001b[0;32m_pydevd_bundle/pydevd_cython.pyx:1457\u001b[0m, in \u001b[0;36m_pydevd_bundle.pydevd_cython.SafeCallWrapper.__call__\u001b[0;34m()\u001b[0m\n",
      "File \u001b[0;32m_pydevd_bundle/pydevd_cython.pyx:701\u001b[0m, in \u001b[0;36m_pydevd_bundle.pydevd_cython.PyDBFrame.trace_dispatch\u001b[0;34m()\u001b[0m\n",
      "File \u001b[0;32m_pydevd_bundle/pydevd_cython.pyx:1152\u001b[0m, in \u001b[0;36m_pydevd_bundle.pydevd_cython.PyDBFrame.trace_dispatch\u001b[0;34m()\u001b[0m\n",
      "File \u001b[0;32m_pydevd_bundle/pydevd_cython.pyx:1135\u001b[0m, in \u001b[0;36m_pydevd_bundle.pydevd_cython.PyDBFrame.trace_dispatch\u001b[0;34m()\u001b[0m\n",
      "File \u001b[0;32m_pydevd_bundle/pydevd_cython.pyx:312\u001b[0m, in \u001b[0;36m_pydevd_bundle.pydevd_cython.PyDBFrame.do_wait_suspend\u001b[0;34m()\u001b[0m\n",
      "File \u001b[0;32m~/GitHub/MultiObjectOptimizationCableYarding/moo_env/lib/python3.10/site-packages/debugpy/_vendored/pydevd/pydevd.py:2070\u001b[0m, in \u001b[0;36mPyDB.do_wait_suspend\u001b[0;34m(self, thread, frame, event, arg, exception_type)\u001b[0m\n\u001b[1;32m   2067\u001b[0m             from_this_thread\u001b[39m.\u001b[39mappend(frame_custom_thread_id)\n\u001b[1;32m   2069\u001b[0m     \u001b[39mwith\u001b[39;00m \u001b[39mself\u001b[39m\u001b[39m.\u001b[39m_threads_suspended_single_notification\u001b[39m.\u001b[39mnotify_thread_suspended(thread_id, thread, stop_reason):\n\u001b[0;32m-> 2070\u001b[0m         keep_suspended \u001b[39m=\u001b[39m \u001b[39mself\u001b[39;49m\u001b[39m.\u001b[39;49m_do_wait_suspend(thread, frame, event, arg, suspend_type, from_this_thread, frames_tracker)\n\u001b[1;32m   2072\u001b[0m frames_list \u001b[39m=\u001b[39m \u001b[39mNone\u001b[39;00m\n\u001b[1;32m   2074\u001b[0m \u001b[39mif\u001b[39;00m keep_suspended:\n\u001b[1;32m   2075\u001b[0m     \u001b[39m# This means that we should pause again after a set next statement.\u001b[39;00m\n",
      "File \u001b[0;32m~/GitHub/MultiObjectOptimizationCableYarding/moo_env/lib/python3.10/site-packages/debugpy/_vendored/pydevd/pydevd.py:2106\u001b[0m, in \u001b[0;36mPyDB._do_wait_suspend\u001b[0;34m(self, thread, frame, event, arg, suspend_type, from_this_thread, frames_tracker)\u001b[0m\n\u001b[1;32m   2103\u001b[0m         \u001b[39mself\u001b[39m\u001b[39m.\u001b[39m_call_input_hook()\n\u001b[1;32m   2105\u001b[0m     \u001b[39mself\u001b[39m\u001b[39m.\u001b[39mprocess_internal_commands()\n\u001b[0;32m-> 2106\u001b[0m     time\u001b[39m.\u001b[39;49msleep(\u001b[39m0.01\u001b[39;49m)\n\u001b[1;32m   2108\u001b[0m \u001b[39mself\u001b[39m\u001b[39m.\u001b[39mcancel_async_evaluation(get_current_thread_id(thread), \u001b[39mstr\u001b[39m(\u001b[39mid\u001b[39m(frame)))\n\u001b[1;32m   2110\u001b[0m \u001b[39m# process any stepping instructions\u001b[39;00m\n",
      "\u001b[0;31mKeyboardInterrupt\u001b[0m: "
     ]
    }
   ],
   "source": [
    "reload(test_mechanical_computations)\n",
    "reload(mechanical_computations)\n",
    "\n",
    "test_mechanical_computations.test_compute_tension_loaded_vs_unloaded_cableroad(cable_road)"
   ]
  }
 ],
 "metadata": {
  "kernelspec": {
   "display_name": "moo_env",
   "language": "python",
   "name": "python3"
  },
  "language_info": {
   "codemirror_mode": {
    "name": "ipython",
    "version": 3
   },
   "file_extension": ".py",
   "mimetype": "text/x-python",
   "name": "python",
   "nbconvert_exporter": "python",
   "pygments_lexer": "ipython3",
   "version": "3.10.6"
  },
  "orig_nbformat": 4
 },
 "nbformat": 4,
 "nbformat_minor": 2
}
