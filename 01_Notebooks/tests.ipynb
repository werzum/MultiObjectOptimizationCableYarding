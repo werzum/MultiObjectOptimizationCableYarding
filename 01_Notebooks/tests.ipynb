{
 "cells": [
  {
   "attachments": {},
   "cell_type": "markdown",
   "metadata": {},
   "source": [
    "# Loading Tests"
   ]
  },
  {
   "cell_type": "code",
   "execution_count": 2,
   "metadata": {},
   "outputs": [],
   "source": [
    "from importlib import reload\n",
    "from src.main import mechanical_computations, classes, geometry_utilities, cable_road_computation\n",
    "from src.tests import helper_functions, test_cable_roads, test_geometry, test_mechanical_computations"
   ]
  },
  {
   "cell_type": "code",
   "execution_count": 3,
   "metadata": {},
   "outputs": [],
   "source": [
    "line_gdf, tree_gdf, height_gdf = helper_functions.set_up_gdfs()"
   ]
  },
  {
   "cell_type": "code",
   "execution_count": 4,
   "metadata": {},
   "outputs": [
    {
     "data": {
      "text/plain": [
       "2"
      ]
     },
     "execution_count": 4,
     "metadata": {},
     "output_type": "execute_result"
    }
   ],
   "source": [
    "cable_road = classes.load_cable_road(line_gdf, 2)\n",
    "cable_road.count_segments()"
   ]
  },
  {
   "cell_type": "code",
   "execution_count": 5,
   "metadata": {},
   "outputs": [],
   "source": [
    "def get_all_subsegments(cable_road: classes.Cable_Road):\n",
    "    \"\"\"get a generator of all subsegments of the cable road\"\"\"\n",
    "    for i in cable_road.supported_segments:\n",
    "        if i.cable_road.supported_segments:\n",
    "            yield from get_all_subsegments(i.cable_road)\n",
    "        else:\n",
    "            yield i"
   ]
  },
  {
   "cell_type": "code",
   "execution_count": 7,
   "metadata": {},
   "outputs": [
    {
     "data": {
      "text/plain": [
       "[<src.main.classes.SupportedSegment at 0x7f87b71fae30>,\n",
       " <src.main.classes.SupportedSegment at 0x7f87b720af50>]"
      ]
     },
     "execution_count": 7,
     "metadata": {},
     "output_type": "execute_result"
    }
   ],
   "source": [
    "list(get_all_subsegments(cable_road))"
   ]
  },
  {
   "cell_type": "code",
   "execution_count": 8,
   "metadata": {},
   "outputs": [
    {
     "name": "stdout",
     "output_type": "stream",
     "text": [
      "checking if no collisions overall line\n",
      "Cable road created from line:  (-22.809794172088516, -5.018566541428784) to  (-107.9110969, 82.70909714)\n",
      "Tension to begin with is 85000.0\n",
      "checking if tower and anchor trees hold\n",
      "exerted force 85000.0\n",
      "did not find anchor tree that holds - iterating\n",
      "exerted force 85000.0\n",
      "did not find anchor tree that holds - iterating\n",
      "exerted force 85000.0\n",
      "did not find anchor tree that holds - iterating\n",
      "Tower and anchors hold: False\n",
      "checking if tower and anchor trees hold\n",
      "exerted force 75000.0\n",
      "did not find anchor tree that holds - iterating\n",
      "exerted force 75000.0\n",
      "did not find anchor tree that holds - iterating\n",
      "exerted force 75000.0\n",
      "did not find anchor tree that holds - iterating\n",
      "Tower and anchors hold: False\n",
      "checking if tower and anchor trees hold\n",
      "exerted force 65000.0\n",
      "did not find anchor tree that holds - iterating\n",
      "exerted force 65000.0\n",
      "did not find anchor tree that holds - iterating\n",
      "exerted force 65000.0\n",
      "did not find anchor tree that holds - iterating\n",
      "Tower and anchors hold: False\n",
      "checking if tower and anchor trees hold\n",
      "exerted force 55000.0\n",
      "found anchor tree that holds\n",
      "Tower and anchors hold: True\n",
      "After the iterative process it is now 55000.0\n",
      "checking if no collisions overall line\n",
      "Found collisions\n",
      "Need to find supports\n",
      "Setting up support candidates\n",
      "Cable road created from line:  (-22.809794172088516, -5.018566541428784) to  (-88.87189632, 60.67692382)\n",
      "Cable road created from line:  (-88.87189632, 60.67692382) to  (-107.9110969, 82.70909714)\n",
      "raising height to  6\n",
      "checking if support withstands tension\n",
      "forces on lr support 692.5319489969387 703.8453434034782\n",
      "checking if no collisions overall line\n",
      "checking if no collisions overall line\n",
      "iterating through height series since we have collisions\n",
      "raising height to  7\n",
      "checking if support withstands tension\n",
      "forces on lr support 413.8260391398125 334.63620163819536\n",
      "checking if no collisions overall line\n",
      "checking if no collisions overall line\n",
      "iterating through height series since we have collisions\n",
      "raising height to  8\n",
      "checking if support withstands tension\n",
      "forces on lr support 461.67556152364295 489.8956684496088\n",
      "checking if no collisions overall line\n",
      "checking if no collisions overall line\n",
      "iterating through height series since we have collisions\n",
      "raising height to  9\n",
      "checking if support withstands tension\n",
      "forces on lr support 513.6089508503184 703.8453434034782\n",
      "checking if no collisions overall line\n",
      "checking if no collisions overall line\n",
      "iterating through height series since we have collisions\n",
      "raising height to  10\n",
      "checking if support withstands tension\n",
      "forces on lr support 569.49080918061 970.6455828594802\n",
      "checking if no collisions overall line\n",
      "checking if no collisions overall line\n",
      "iterating through height series since we have collisions\n",
      "raising height to  11\n",
      "checking if support withstands tension\n",
      "forces on lr support 629.180289052717 1279.3502265319514\n",
      "checking if no collisions overall line\n",
      "checking if no collisions overall line\n",
      "iterating through height series since we have collisions\n",
      "raising height to  12\n",
      "checking if support withstands tension\n",
      "forces on lr support 692.5319489969387 1613.299624766282\n",
      "checking if no collisions overall line\n",
      "checking if no collisions overall line\n",
      "iterating through height series since we have collisions\n",
      "raising height to  13\n",
      "checking if support withstands tension\n",
      "forces on lr support 759.3971073870692 1950.050509465724\n",
      "checking if no collisions overall line\n",
      "checking if no collisions overall line\n",
      "iterating through height series since we have collisions\n",
      "raising height to  14\n",
      "checking if support withstands tension\n",
      "forces on lr support 829.625184740312 2262.044345735508\n",
      "checking if no collisions overall line\n",
      "checking if no collisions overall line\n",
      "iterating through height series since we have collisions\n",
      "Cable road created from line:  (-22.809794172088516, -5.018566541428784) to  (-77.894284, 52.61685171)\n",
      "Cable road created from line:  (-77.894284, 52.61685171) to  (-107.9110969, 82.70909714)\n",
      "raising height to  6\n",
      "checking if support withstands tension\n",
      "forces on lr support 863.2200931866751 852.9442428980526\n",
      "checking if no collisions overall line\n",
      "checking if no collisions overall line\n",
      "iterating through height series since we have collisions\n",
      "raising height to  7\n",
      "checking if support withstands tension\n",
      "forces on lr support 268.7702024497952 19.08155028420744\n",
      "checking if no collisions overall line\n",
      "checking if no collisions overall line\n",
      "iterating through height series since we have collisions\n",
      "raising height to  8\n",
      "checking if support withstands tension\n",
      "forces on lr support 326.24239757010923 20.415986468887056\n",
      "checking if no collisions overall line\n",
      "checking if no collisions overall line\n",
      "iterating through height series since we have collisions\n",
      "raising height to  9\n",
      "checking if support withstands tension\n",
      "forces on lr support 388.9638530280175 50.353492555549664\n",
      "checking if no collisions overall line\n",
      "checking if no collisions overall line\n",
      "iterating through height series since we have collisions\n",
      "raising height to  10\n",
      "checking if support withstands tension\n",
      "forces on lr support 456.72373661514195 110.1225092400861\n",
      "checking if no collisions overall line\n",
      "checking if no collisions overall line\n",
      "iterating through height series since we have collisions\n",
      "raising height to  11\n",
      "checking if support withstands tension\n",
      "forces on lr support 529.3021252990973 200.41666463931986\n",
      "checking if no collisions overall line\n",
      "checking if no collisions overall line\n",
      "iterating through height series since we have collisions\n",
      "raising height to  12\n",
      "checking if support withstands tension\n",
      "forces on lr support 606.4727026178518 321.235998237084\n",
      "checking if no collisions overall line\n",
      "checking if no collisions overall line\n",
      "found viable sub-config\n"
     ]
    }
   ],
   "source": [
    "test_cable_roads.test_supported_cable_road_parameters(line_gdf, height_gdf, line_gdf.iloc[0])\n",
    "test_cable_roads.test_unsupported_cable_road_parameters(line_gdf, height_gdf)\n",
    "test_cable_roads.test_cable_road_creation(line_gdf, height_gdf)\n",
    "test_cable_roads.test_raise_height_and_check_tension(cable_road)"
   ]
  },
  {
   "cell_type": "code",
   "execution_count": 51,
   "metadata": {},
   "outputs": [],
   "source": [
    "reload(test_cable_roads)\n",
    "reload(classes)\n",
    "cable_road = classes.load_cable_road(line_gdf, 0)\n",
    "test_cable_roads.test_raise_tension_and_check_height(cable_road)"
   ]
  },
  {
   "cell_type": "code",
   "execution_count": 244,
   "metadata": {},
   "outputs": [
    {
     "name": "stdout",
     "output_type": "stream",
     "text": [
      "checking if no collisions overall line\n",
      "checking if no collisions overall line\n",
      "checking if support withstands tension\n",
      "[0.90544587 0.42446174 0.        ]\n",
      "Angle between lines 7.975870866838704\n",
      "[-0.89539422 -0.44527428  0.        ]\n",
      "Angle between lines 6.897933645471483\n",
      "forces on lr support 13909.283743754298 12031.89595892669\n",
      "checking if support withstands tension\n",
      "[0.90544587 0.42446174 0.        ]\n",
      "Angle between lines 12.440100791930604\n",
      "[-0.89539422 -0.44527428  0.        ]\n",
      "Angle between lines 9.722163561908644\n",
      "forces on lr support 10834.72476685431 8474.013488457596\n",
      "[0.72292399 0.69092757 0.        ]\n",
      "Angle between lines 12.197694320662691\n"
     ]
    }
   ],
   "source": [
    "reload(test_mechanical_computations)\n",
    "reload(mechanical_computations)\n",
    "test_mechanical_computations.test_check_if_no_collisions_cable_road(line_gdf)\n",
    "test_mechanical_computations.test_check_if_support_withstands_tension(line_gdf)\n",
    "# test_mechanical_computations.test_xz_line_from_cr_startpoint_to_centroid(line_gdf) needs to be reworked for 3D\n",
    "test_mechanical_computations.test_compute_resulting_force_on_cable()\n",
    "test_mechanical_computations.test_compute_tension_loaded_vs_unloaded_cableroad(cable_road)"
   ]
  },
  {
   "cell_type": "code",
   "execution_count": 246,
   "metadata": {},
   "outputs": [
    {
     "name": "stdout",
     "output_type": "stream",
     "text": [
      "checking if tower and anchor trees hold\n",
      "exerted force 55000.0\n",
      "found anchor tree that holds\n"
     ]
    }
   ],
   "source": [
    "reload(test_geometry)\n",
    "reload(geometry_utilities)\n",
    "test_geometry.test_cr_parameter_feasability(cable_road,\n",
    "        line_gdf,\n",
    "        tree_gdf,\n",
    "        height_gdf)\n",
    "test_geometry.test_rotation()\n",
    "test_geometry.test_3d_line_rotate()\n",
    "test_geometry.test_angle_between_3d_lines()"
   ]
  }
 ],
 "metadata": {
  "kernelspec": {
   "display_name": "moo_env",
   "language": "python",
   "name": "python3"
  },
  "language_info": {
   "codemirror_mode": {
    "name": "ipython",
    "version": 3
   },
   "file_extension": ".py",
   "mimetype": "text/x-python",
   "name": "python",
   "nbconvert_exporter": "python",
   "pygments_lexer": "ipython3",
   "version": "3.10.12"
  },
  "orig_nbformat": 4
 },
 "nbformat": 4,
 "nbformat_minor": 2
}
