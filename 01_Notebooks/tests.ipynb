{
 "cells": [
  {
   "attachments": {},
   "cell_type": "markdown",
   "metadata": {},
   "source": [
    "# Loading Tests"
   ]
  },
  {
   "cell_type": "code",
   "execution_count": 12,
   "metadata": {},
   "outputs": [],
   "source": [
    "from importlib import reload\n",
    "from src.main import mechanical_computations, classes\n",
    "from src.tests import helper_functions, test_cable_roads, test_geometry"
   ]
  },
  {
   "cell_type": "code",
   "execution_count": 2,
   "metadata": {},
   "outputs": [],
   "source": [
    "reload(helper_functions)\n",
    "line_gdf, tree_gdf, height_gdf = helper_functions.set_up_gdfs()"
   ]
  },
  {
   "cell_type": "code",
   "execution_count": 3,
   "metadata": {},
   "outputs": [],
   "source": [
    "reload(classes)\n",
    "cable_road = classes.load_cable_road(line_gdf, 0)"
   ]
  },
  {
   "cell_type": "code",
   "execution_count": 5,
   "metadata": {},
   "outputs": [
    {
     "name": "stdout",
     "output_type": "stream",
     "text": [
      "checking if no collisions overall line\n",
      "checking if tower and anchor trees hold\n",
      "found anchor tree that holds\n",
      "checking if support withstands tension\n",
      "forces on lr support 5067.325978612784 4513.24959442041\n",
      "checking if support withstands tension\n",
      "forces on lr support 5067.325978612784 4513.24959442041\n",
      "checking if no collisions overall line\n",
      "checking if no collisions overall line\n"
     ]
    }
   ],
   "source": [
    "reload(test_cable_roads)\n",
    "test_cable_roads.test_supported_cable_road_parameters(line_gdf, height_gdf, line_gdf.iloc[0])"
   ]
  },
  {
   "cell_type": "code",
   "execution_count": 8,
   "metadata": {},
   "outputs": [
    {
     "name": "stdout",
     "output_type": "stream",
     "text": [
      "checking if no collisions overall line\n"
     ]
    }
   ],
   "source": [
    "test_cable_roads.test_unsupported_cable_road_parameters(line_gdf, height_gdf)"
   ]
  },
  {
   "cell_type": "code",
   "execution_count": 11,
   "metadata": {},
   "outputs": [
    {
     "name": "stdout",
     "output_type": "stream",
     "text": [
      "Cable road created from line:  (-22.809794172088516, -5.018566541428784) to  (-107.9110969, 82.70909714)\n",
      "Tension to begin with is 85000.0\n",
      "checking if tower and anchor trees hold\n",
      "did not find anchor tree that holds - iterating\n",
      "did not find anchor tree that holds - iterating\n",
      "did not find anchor tree that holds - iterating\n",
      "Tower and anchors hold: False\n",
      "checking if tower and anchor trees hold\n",
      "did not find anchor tree that holds - iterating\n",
      "did not find anchor tree that holds - iterating\n",
      "did not find anchor tree that holds - iterating\n",
      "Tower and anchors hold: False\n",
      "checking if tower and anchor trees hold\n",
      "did not find anchor tree that holds - iterating\n",
      "did not find anchor tree that holds - iterating\n",
      "did not find anchor tree that holds - iterating\n",
      "Tower and anchors hold: False\n",
      "checking if tower and anchor trees hold\n",
      "found anchor tree that holds\n",
      "Tower and anchors hold: True\n",
      "After the iterative process it is now 55000.0\n",
      "checking if no collisions overall line\n",
      "Found collisions\n",
      "Need to find supports\n",
      "Setting up support candidates\n",
      "Cable road created from line:  (-22.809794172088516, -5.018566541428784) to  (-88.87189632, 60.67692382)\n",
      "Cable road created from line:  (-88.87189632, 60.67692382) to  (-107.9110969, 82.70909714)\n",
      "raising height to  6\n",
      "checking if support withstands tension\n",
      "forces on lr support 2446.0745983591887 2287.435721468848\n",
      "checking if no collisions overall line\n",
      "checking if no collisions overall line\n",
      "iterating through height series since support doesnt hold\n",
      "raising height to  7\n",
      "checking if support withstands tension\n",
      "forces on lr support 1441.2019390090588 1343.9722842952256\n",
      "checking if no collisions overall line\n",
      "checking if no collisions overall line\n",
      "iterating through height series since support doesnt hold\n",
      "raising height to  8\n",
      "checking if support withstands tension\n",
      "forces on lr support 4800.667229688134 3778.4951758408038\n",
      "iterating through height series since support doesnt hold\n",
      "raising height to  9\n",
      "checking if support withstands tension\n",
      "forces on lr support 8410.66581391327 7191.506039821101\n",
      "iterating through height series since support doesnt hold\n",
      "raising height to  10\n",
      "checking if support withstands tension\n",
      "forces on lr support 11874.275590677968 10461.758484614325\n",
      "iterating through height series since support doesnt hold\n",
      "raising height to  11\n",
      "checking if support withstands tension\n",
      "forces on lr support 15189.78131112318 13590.255761653436\n",
      "iterating through height series since support doesnt hold\n",
      "raising height to  12\n",
      "checking if support withstands tension\n",
      "forces on lr support 18358.42494975623 16580.269396650034\n",
      "iterating through height series since support doesnt hold\n",
      "raising height to  13\n",
      "checking if support withstands tension\n",
      "forces on lr support 21383.703279838443 19436.71514926321\n",
      "iterating through height series since support doesnt hold\n",
      "raising height to  14\n",
      "checking if support withstands tension\n",
      "forces on lr support 24270.735869990367 22165.61873105242\n",
      "iterating through height series since support doesnt hold\n",
      "raising height to  15\n",
      "checking if support withstands tension\n",
      "forces on lr support 27025.726668016145 24773.67848212909\n",
      "iterating through height series since support doesnt hold\n",
      "raising height to  16\n",
      "checking if support withstands tension\n",
      "forces on lr support 29655.52548620715 27267.921213080735\n",
      "iterating through height series since support doesnt hold\n",
      "raising height to  17\n",
      "checking if support withstands tension\n",
      "forces on lr support 32167.284765722918 29655.44122941948\n",
      "iterating through height series since support doesnt hold\n",
      "raising height to  18\n",
      "checking if support withstands tension\n",
      "forces on lr support 34568.200933034044 31943.209874260603\n",
      "iterating through height series since support doesnt hold\n",
      "raising height to  19\n",
      "checking if support withstands tension\n",
      "forces on lr support 36865.327125676966 34137.94253385344\n",
      "iterating through height series since support doesnt hold\n",
      "raising height to  20\n",
      "checking if support withstands tension\n",
      "forces on lr support 39065.443812779056 36246.010983392334\n",
      "iterating through height series since support doesnt hold\n",
      "raising height to  21\n",
      "checking if support withstands tension\n",
      "forces on lr support 41174.97488793272 38273.390522417656\n",
      "Attachment raised too high, segment not feasible\n",
      "Cable road created from line:  (-22.809794172088516, -5.018566541428784) to  (-77.894284, 52.61685171)\n",
      "Cable road created from line:  (-77.894284, 52.61685171) to  (-107.9110969, 82.70909714)\n",
      "raising height to  6\n",
      "checking if support withstands tension\n",
      "forces on lr support 2664.6194785381967 2479.2766800581594\n",
      "checking if no collisions overall line\n",
      "checking if no collisions overall line\n",
      "iterating through height series since support doesnt hold\n",
      "raising height to  7\n",
      "checking if support withstands tension\n",
      "forces on lr support 5554.182844778719 5167.222630871085\n",
      "checking if no collisions overall line\n",
      "checking if no collisions overall line\n",
      "found viable sub-config\n"
     ]
    }
   ],
   "source": [
    "test_cable_roads.test_cable_road_creation(line_gdf, height_gdf)"
   ]
  },
  {
   "cell_type": "code",
   "execution_count": 13,
   "metadata": {},
   "outputs": [
    {
     "name": "stdout",
     "output_type": "stream",
     "text": [
      "checking if tower and anchor trees hold\n"
     ]
    },
    {
     "ename": "TypeError",
     "evalue": "'LineString' object is not subscriptable",
     "output_type": "error",
     "traceback": [
      "\u001b[0;31m---------------------------------------------------------------------------\u001b[0m",
      "\u001b[0;31mTypeError\u001b[0m                                 Traceback (most recent call last)",
      "Cell \u001b[0;32mIn[13], line 2\u001b[0m\n\u001b[1;32m      1\u001b[0m reload(test_geometry)\n\u001b[0;32m----> 2\u001b[0m test_geometry\u001b[39m.\u001b[39;49mtest_cr_feasability()\n",
      "File \u001b[0;32m~/GitHub/MultiObjectOptimizationCableYarding/src/tests/test_geometry.py:87\u001b[0m, in \u001b[0;36mtest_cr_feasability\u001b[0;34m()\u001b[0m\n\u001b[1;32m     83\u001b[0m \u001b[39massert\u001b[39;00m tree_0[\u001b[39m\"\u001b[39m\u001b[39mmax_supported_force_series\u001b[39m\u001b[39m\"\u001b[39m][\u001b[39m6\u001b[39m] \u001b[39m>\u001b[39m \u001b[39m50.000\u001b[39m\n\u001b[1;32m     85\u001b[0m \u001b[39m# test if the cable road works on (simulted) strong anchors\u001b[39;00m\n\u001b[1;32m     86\u001b[0m \u001b[39massert\u001b[39;00m (\n\u001b[0;32m---> 87\u001b[0m     mechanical_computations\u001b[39m.\u001b[39;49mcheck_if_tower_and_anchor_trees_hold(\n\u001b[1;32m     88\u001b[0m         cable_road, [\u001b[39m50000\u001b[39;49m, \u001b[39m50000\u001b[39;49m, \u001b[39m50000\u001b[39;49m], cable_road\u001b[39m.\u001b[39;49manchor_triplets, height_gdf\n\u001b[1;32m     89\u001b[0m     )\n\u001b[1;32m     90\u001b[0m     \u001b[39m==\u001b[39m \u001b[39mTrue\u001b[39;00m\n\u001b[1;32m     91\u001b[0m )\n",
      "File \u001b[0;32m~/GitHub/MultiObjectOptimizationCableYarding/src/main/mechanical_computations.py:404\u001b[0m, in \u001b[0;36mcheck_if_tower_and_anchor_trees_hold\u001b[0;34m(this_cable_road, max_holding_force, anchor_triplets, height_gdf)\u001b[0m\n\u001b[1;32m    395\u001b[0m loaded_cr_interpolated_tension_point \u001b[39m=\u001b[39m Point(\n\u001b[1;32m    396\u001b[0m     [\n\u001b[1;32m    397\u001b[0m         this_cable_road\u001b[39m.\u001b[39mstart_point\u001b[39m.\u001b[39mcoords[\u001b[39m0\u001b[39m][\u001b[39m0\u001b[39m] \u001b[39m-\u001b[39m index,\n\u001b[1;32m    398\u001b[0m         this_cable_road\u001b[39m.\u001b[39mabsolute_loaded_line_height[index],\n\u001b[1;32m    399\u001b[0m     ]\n\u001b[1;32m    400\u001b[0m )\n\u001b[1;32m    402\u001b[0m \u001b[39mfor\u001b[39;00m index \u001b[39min\u001b[39;00m \u001b[39mrange\u001b[39m(\u001b[39mlen\u001b[39m(anchor_triplets)):\n\u001b[1;32m    403\u001b[0m     \u001b[39m# set the central anchor point as line\u001b[39;00m\n\u001b[0;32m--> 404\u001b[0m     this_anchor_line \u001b[39m=\u001b[39m anchor_triplets[index][\u001b[39m0\u001b[39;49m]\n\u001b[1;32m    405\u001b[0m     anchor_start_point \u001b[39m=\u001b[39m Point(this_anchor_line\u001b[39m.\u001b[39mcoords[\u001b[39m0\u001b[39m])\n\u001b[1;32m    407\u001b[0m     \u001b[39m# construct the anchor tangent\u001b[39;00m\n",
      "\u001b[0;31mTypeError\u001b[0m: 'LineString' object is not subscriptable"
     ]
    }
   ],
   "source": [
    "reload(test_geometry)\n",
    "test_geometry.test_cr_feasability()"
   ]
  }
 ],
 "metadata": {
  "kernelspec": {
   "display_name": "moo_env",
   "language": "python",
   "name": "python3"
  },
  "language_info": {
   "codemirror_mode": {
    "name": "ipython",
    "version": 3
   },
   "file_extension": ".py",
   "mimetype": "text/x-python",
   "name": "python",
   "nbconvert_exporter": "python",
   "pygments_lexer": "ipython3",
   "version": "3.10.6"
  },
  "orig_nbformat": 4
 },
 "nbformat": 4,
 "nbformat_minor": 2
}
