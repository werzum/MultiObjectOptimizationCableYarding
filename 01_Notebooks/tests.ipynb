{
 "cells": [
  {
   "attachments": {},
   "cell_type": "markdown",
   "metadata": {},
   "source": [
    "# Loading Tests"
   ]
  },
  {
   "cell_type": "code",
   "execution_count": 1,
   "metadata": {},
   "outputs": [],
   "source": [
    "from importlib import reload\n",
    "from src.main import mechanical_computations\n",
    "from src.tests import helper_functions, test_cable_roads"
   ]
  },
  {
   "cell_type": "code",
   "execution_count": 2,
   "metadata": {},
   "outputs": [],
   "source": [
    "from src.tests import test_cable_roads, helper_functions"
   ]
  },
  {
   "cell_type": "code",
   "execution_count": 3,
   "metadata": {},
   "outputs": [],
   "source": [
    "reload(helper_functions)\n",
    "line_gdf, tree_gdf, height_gdf = helper_functions.set_up_gdfs()"
   ]
  },
  {
   "cell_type": "code",
   "execution_count": 4,
   "metadata": {},
   "outputs": [
    {
     "ename": "AttributeError",
     "evalue": "module 'src.main.classes' has no attribute 'set_up_CR_from_linegdf'",
     "output_type": "error",
     "traceback": [
      "\u001b[0;31m---------------------------------------------------------------------------\u001b[0m",
      "\u001b[0;31mAttributeError\u001b[0m                            Traceback (most recent call last)",
      "Cell \u001b[0;32mIn[4], line 1\u001b[0m\n\u001b[0;32m----> 1\u001b[0m cable_road \u001b[39m=\u001b[39m helper_functions\u001b[39m.\u001b[39;49mload_cable_road(line_gdf, height_gdf, \u001b[39m0\u001b[39;49m)\n",
      "File \u001b[0;32m~/GitHub/MultiObjectOptimizationCableYarding/src/tests/helper_functions.py:22\u001b[0m, in \u001b[0;36mload_cable_road\u001b[0;34m(line_gdf, height_gdf, index)\u001b[0m\n\u001b[1;32m     18\u001b[0m \u001b[39mdef\u001b[39;00m \u001b[39mload_cable_road\u001b[39m(\n\u001b[1;32m     19\u001b[0m     line_gdf: gpd\u001b[39m.\u001b[39mGeoDataFrame, height_gdf: gpd\u001b[39m.\u001b[39mGeoDataFrame, index: \u001b[39mint\u001b[39m\n\u001b[1;32m     20\u001b[0m ):\n\u001b[1;32m     21\u001b[0m \u001b[39m    \u001b[39m\u001b[39m\"\"\"Helper function to abstract setting up a sample cable road from the line_gdf\"\"\"\u001b[39;00m\n\u001b[0;32m---> 22\u001b[0m     \u001b[39mreturn\u001b[39;00m classes\u001b[39m.\u001b[39;49mset_up_CR_from_linegdf(line_gdf, index, height_gdf)\n",
      "\u001b[0;31mAttributeError\u001b[0m: module 'src.main.classes' has no attribute 'set_up_CR_from_linegdf'"
     ]
    }
   ],
   "source": [
    "cable_road = helper_functions.load_cable_road(line_gdf, height_gdf, 0)"
   ]
  },
  {
   "cell_type": "code",
   "execution_count": 48,
   "metadata": {},
   "outputs": [
    {
     "name": "stdout",
     "output_type": "stream",
     "text": [
      "Cable road created from line:  (-29.880646898378075, -8.757599103801436) to  (-83.54479257, 57.81202571)\n",
      "Cable road created from line:  (-83.54479257, 57.81202571) to  (-106.0132132, 89.40781657)\n"
     ]
    },
    {
     "ename": "NameError",
     "evalue": "name 'cable_road' is not defined",
     "output_type": "error",
     "traceback": [
      "\u001b[0;31m---------------------------------------------------------------------------\u001b[0m",
      "\u001b[0;31mNameError\u001b[0m                                 Traceback (most recent call last)",
      "Cell \u001b[0;32mIn[48], line 2\u001b[0m\n\u001b[1;32m      1\u001b[0m reload(test_cable_roads)\n\u001b[0;32m----> 2\u001b[0m test_cable_roads\u001b[39m.\u001b[39;49mtest_supported_cable_road_parameters(line_gdf, height_gdf)\n",
      "File \u001b[0;32m~/GitHub/MultiObjectOptimizationCableYarding/src/tests/test_cable_roads.py:74\u001b[0m, in \u001b[0;36mtest_supported_cable_road_parameters\u001b[0;34m(line_gdf, height_gdf)\u001b[0m\n\u001b[1;32m     54\u001b[0m cable_road_list \u001b[39m=\u001b[39m helper_functions\u001b[39m.\u001b[39mcreate_cable_road_segments(\n\u001b[1;32m     55\u001b[0m     line_gdf, height_gdf, \u001b[39m0\u001b[39m\n\u001b[1;32m     56\u001b[0m )\n\u001b[1;32m     58\u001b[0m (\n\u001b[1;32m     59\u001b[0m     max_supported_forces,\n\u001b[1;32m     60\u001b[0m     anchor_triplets,\n\u001b[0;32m   (...)\u001b[0m\n\u001b[1;32m     71\u001b[0m     \u001b[39m0\u001b[39m\n\u001b[1;32m     72\u001b[0m ]\n\u001b[0;32m---> 74\u001b[0m mechanical_computations\u001b[39m.\u001b[39mcheck_if_no_collisions_cable_road(cable_road)\n\u001b[1;32m     75\u001b[0m \u001b[39massert\u001b[39;00m cable_road\u001b[39m.\u001b[39mno_collisions \u001b[39m==\u001b[39m \u001b[39mTrue\u001b[39;00m\n\u001b[1;32m     77\u001b[0m tower_and_anchors_hold \u001b[39m=\u001b[39m (\n\u001b[1;32m     78\u001b[0m     mechanical_computations\u001b[39m.\u001b[39mcheck_if_tower_and_anchor_trees_hold(\n\u001b[1;32m     79\u001b[0m         cable_road, max_supported_forces, anchor_triplets, height_gdf\n\u001b[1;32m     80\u001b[0m     )\n\u001b[1;32m     81\u001b[0m )\n",
      "\u001b[0;31mNameError\u001b[0m: name 'cable_road' is not defined"
     ]
    }
   ],
   "source": [
    "reload(test_cable_roads)\n",
    "test_cable_roads.test_supported_cable_road_parameters(line_gdf, height_gdf)"
   ]
  }
 ],
 "metadata": {
  "kernelspec": {
   "display_name": "moo_env",
   "language": "python",
   "name": "python3"
  },
  "language_info": {
   "codemirror_mode": {
    "name": "ipython",
    "version": 3
   },
   "file_extension": ".py",
   "mimetype": "text/x-python",
   "name": "python",
   "nbconvert_exporter": "python",
   "pygments_lexer": "ipython3",
   "version": "3.10.6"
  },
  "orig_nbformat": 4
 },
 "nbformat": 4,
 "nbformat_minor": 2
}
