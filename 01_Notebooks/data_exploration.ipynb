{
 "cells": [
  {
   "cell_type": "markdown",
   "id": "e1c390d1",
   "metadata": {},
   "source": [
    "**Table of contents**<a id='toc0_'></a>    \n",
    "- [Setting up data](#toc1_1_1_1_1_)    \n",
    "        - [Recording coordinates with interactive figure](#toc1_1_1_1_2_)    \n",
    "        - [Creating extra-geometry from manual coordinates](#toc1_1_1_1_3_)    \n",
    "      - [Generating Eligible Trees and Road Pathway](#toc1_1_1_2_)    \n",
    "      - [Generating Possible Lines](#toc1_1_1_3_)    \n",
    "        - [Setting and rotating the slope line](#toc1_1_1_3_1_)    \n",
    "        - [Generating the possible lines depending on the slope](#toc1_1_1_3_2_)    \n",
    "\n",
    "<!-- vscode-jupyter-toc-config\n",
    "\tnumbering=false\n",
    "\tanchor=true\n",
    "\tflat=false\n",
    "\tminLevel=1\n",
    "\tmaxLevel=6\n",
    "\t/vscode-jupyter-toc-config -->\n",
    "<!-- THIS CELL WILL BE REPLACED ON TOC UPDATE. DO NOT WRITE YOUR TEXT IN THIS CELL -->"
   ]
  },
  {
   "cell_type": "markdown",
   "metadata": {},
   "source": [
    "##### <a id='toc1_1_1_1_1_'></a>[Setting up data](#toc0_)"
   ]
  },
  {
   "cell_type": "code",
   "execution_count": 1,
   "id": "e0075c2e",
   "metadata": {},
   "outputs": [],
   "source": [
    "# Package Imports\n",
    "import pandas as pd\n",
    "import geopandas as gpd\n",
    "\n",
    "import matplotlib.pyplot as plt\n",
    "\n",
    "from shapely.geometry import LineString, Polygon, Point\n",
    "from shapely.affinity import rotate, scale\n",
    "\n",
    "from importlib import reload\n",
    "\n",
    "# to load the interactive plotting version\n",
    "#%matplotlib widget\n",
    "# or regular\n",
    "# %matplotlib inline\n",
    "# %gui qt\n",
    "%matplotlib qt\n",
    "\n",
    "# Importing my modules\n",
    "from src.main import data_loading, plotting, geometry_operations, optimization_functions, geometry_utilities, classes, cable_road_computation, mechanical_computations"
   ]
  },
  {
   "cell_type": "code",
   "execution_count": 2,
   "id": "a23086f6",
   "metadata": {},
   "outputs": [],
   "source": [
    "reload(data_loading)\n",
    "# tree_gdf, height_gdf = data_loading.load_processed_gdfs()\n",
    "from src.tests import test_cable_roads, helper_functions\n",
    "line_gdf, tree_gdf, height_gdf = helper_functions.set_up_gdfs()"
   ]
  },
  {
   "cell_type": "code",
   "execution_count": 3,
   "id": "81c4c250",
   "metadata": {},
   "outputs": [],
   "source": [
    "reload(mechanical_computations)\n",
    "# Brute computation of euler knicklast series\n",
    "\n",
    "list_of_euler_max_force_lists = []\n",
    "for index,row in tree_gdf.iterrows():\n",
    "    temp_list = [mechanical_computations.euler_knicklast(bhd, height) for bhd, height in zip(row[\"diameter_series\"], row[\"height_series\"])]\n",
    "    list_of_euler_max_force_lists.append(temp_list)\n",
    "\n",
    "tree_gdf[\"max_supported_force_series\"] = list_of_euler_max_force_lists\n",
    "\n",
    "tree_gdf[\"max_holding_force\"] = (((tree_gdf[\"BHD\"]*0.1)**2)/3)*10000"
   ]
  },
  {
   "cell_type": "markdown",
   "metadata": {},
   "source": [
    "##### <a id='toc1_1_1_1_2_'></a>[Recording coordinates with interactive figure](#toc0_)"
   ]
  },
  {
   "cell_type": "code",
   "execution_count": 4,
   "id": "d986db5e",
   "metadata": {},
   "outputs": [],
   "source": [
    "# coords = []\n",
    "# fig, ax = plt.subplots()\n",
    "# ax.set_xlabel('X coordinate', fontsize=15)\n",
    "# ax.set_ylabel('Y coordinate', fontsize=15)\n",
    "# ax.scatter(tree_gdf[\"x\"],tree_gdf[\"y\"])\n",
    "\n",
    "# cid = fig.canvas.mpl_connect('button_press_event',  lambda event: plotting.onclick(event,coords))"
   ]
  },
  {
   "cell_type": "code",
   "execution_count": 5,
   "id": "2d499768",
   "metadata": {},
   "outputs": [],
   "source": [
    "# disconnect the interactive figure so it doesnt eat up resources\n",
    "# fig.canvas.mpl_disconnect(cid)"
   ]
  },
  {
   "cell_type": "markdown",
   "metadata": {},
   "source": [
    "##### <a id='toc1_1_1_1_3_'></a>[Creating extra-geometry from manual coordinates](#toc0_)"
   ]
  },
  {
   "cell_type": "code",
   "execution_count": 6,
   "id": "b02782e8",
   "metadata": {},
   "outputs": [
    {
     "name": "stderr",
     "output_type": "stream",
     "text": [
      "/home/carlo/GitHub/MultiObjectOptimizationCableYarding/moo_env/lib/python3.10/site-packages/pandas/core/dtypes/cast.py:122: ShapelyDeprecationWarning: The array interface is deprecated and will no longer work in Shapely 2.0. Convert the '.coords' to a numpy array instead.\n",
      "  arr = construct_1d_object_array_from_listlike(values)\n"
     ]
    },
    {
     "data": {
      "text/plain": [
       "geometry    LINESTRING (-89.62860 -24.46250, -69.61890 -20...\n",
       "Name: road, dtype: geometry"
      ]
     },
     "execution_count": 6,
     "metadata": {},
     "output_type": "execute_result"
    }
   ],
   "source": [
    "# manually insert those coordinates\n",
    "# recorded coordinates for the given areas\n",
    "downhill_anchors = Polygon([Point(xy) for xy in [(-123.88268627035482, 83.05479790035122), (-74.89307684787903, 138.5299549848453), (-21.10056454084676, 161.97821725767267), (-6.051468835903222, 148.2524051955298), (-60.16417466857257, 116.79741921978575), (-115.23746107815322, 64.75371515082742)]])\n",
    "uphill_anchors = Polygon([Point(xy) for xy in [(-55.04107825837903, -15.31352187833928), (-17.578435758838708, -17.601157222029755), (4.194723984483858, -1.5877098161964227), (30.450593086725803, -30.18315161232738), (-11.49475877173387, -41.04941949485714), (-58.5632070403871, -38.189875315244045)]])\n",
    "# road = LineString([(-57.282432937838706, -17.029248386107135), (-34.86888614324194, -21.604519073488092), (-15.337081079379033, -15.31352187833928), (-0.2879853744354932, -7.878707011345227), (12.51975565104837, 6.990922722642864), (19.884206740701615, 21.86055245663097)])\n",
    "# road = LineString([(-59.52378761729838, -12.453977698726185), (-41.91314370725806, -13.597795370571419), (-18.218822810112897, -10.16634235503571), (3.2341434075725886, 0.12801669157144602), (15.401497381782264, 23.576278964398824), (17.00246500996775, 26.43582314401192)])\n",
    "road = LineString([(-89.6286010742188, -24.4624996185303),(-69.618896484375, -20.364200592041),(-41.314998626709, -13.9251003265381),(-29.2644004821777, -8.47910022735596),(-20.2950000762939, -3.67030000686646),(-15.375, -0.148599997162819),(-6.49030017852783, 2.74860000610352),(0.943400025367737, 3.86450004577637),(15.1605997085571, -0.302300006151199),(29.3377990722656, -3.47709989547729)])\n",
    "\n",
    "inner_forest = Polygon([Point(xy) for xy in [(-105.43005197808363, 62.73802056488026), (-10.557896233758669, 146.34023494632802), (13.160142702322588, 51.07259530235265), (8.890895693827957, 9.27148811162877), (-55.62217021231302, -10.17088732591722), (-81.71201304200238, 18.992675830401765)]])\n",
    "\n",
    "extra_geometry_gpd = gpd.GeoDataFrame(pd.DataFrame({\"name\":[\"uphill_anchors\",\"road\",\"downhill_anchors\",\"inner_forest\"],\"geometry\":[uphill_anchors,road,downhill_anchors,inner_forest]}))\n",
    "\n",
    "# set the name as index to easily select the geometry\n",
    "extra_geometry_gpd.set_index(\"name\", inplace = True)\n",
    "extra_geometry_gpd.loc['road']\n",
    "\n",
    "# plotting.plot_gdfs([tree_gdf,extra_geometry_gpd])"
   ]
  },
  {
   "cell_type": "markdown",
   "metadata": {},
   "source": [
    "#### <a id='toc1_1_1_2_'></a>[Generating Eligible Trees and Road Pathway](#toc0_)"
   ]
  },
  {
   "attachments": {},
   "cell_type": "markdown",
   "id": "36763404",
   "metadata": {},
   "source": [
    "Getting the points along the road"
   ]
  },
  {
   "cell_type": "code",
   "execution_count": 7,
   "id": "d9c8cccf",
   "metadata": {},
   "outputs": [],
   "source": [
    "interval = 2\n",
    "road_points = geometry_operations.generate_road_points(extra_geometry_gpd.loc['road'].geometry, interval)\n",
    "# plotting.plot_scatter_xy(road_points)"
   ]
  },
  {
   "attachments": {},
   "cell_type": "markdown",
   "id": "3fdae7fa",
   "metadata": {},
   "source": [
    "Getting the trees contained in the anchor/target tree polygons"
   ]
  },
  {
   "cell_type": "code",
   "execution_count": 8,
   "id": "1841bbfc",
   "metadata": {},
   "outputs": [],
   "source": [
    "# get the eligible anchor and target trees inside the polygon\n",
    "anchor_trees_gdf = geometry_operations.filter_gdf_by_contained_elements(tree_gdf, extra_geometry_gpd.loc[\"uphill_anchors\"].geometry)\n",
    "target_trees_gdf = geometry_operations.filter_gdf_by_contained_elements(tree_gdf,extra_geometry_gpd.loc[\"downhill_anchors\"].geometry)\n",
    "inner_forest_gdf = geometry_operations.filter_gdf_by_contained_elements(tree_gdf, extra_geometry_gpd.loc[\"inner_forest\"].geometry)\n",
    "harvesteable_trees_gdf = pd.concat([target_trees_gdf,inner_forest_gdf])\n",
    "\n",
    "#filter the anchor and target trees for a BHD of 30cm or larger\n",
    "anchor_trees_gdf = anchor_trees_gdf[anchor_trees_gdf[\"BHD\"] >= 30]\n",
    "target_trees_gdf = target_trees_gdf[target_trees_gdf[\"BHD\"] >= 30]\n",
    "\n",
    "# and check if the anchor trees look good\n",
    "plotting.plot_scatter_xy(harvesteable_trees_gdf.geometry)"
   ]
  },
  {
   "cell_type": "code",
   "execution_count": 27,
   "id": "cae9e64b",
   "metadata": {},
   "outputs": [
    {
     "name": "stdout",
     "output_type": "stream",
     "text": [
      "Stored 'harvesteable_trees_gdf' (GeoDataFrame)\n"
     ]
    }
   ],
   "source": [
    "%store harvesteable_trees_gdf"
   ]
  },
  {
   "cell_type": "markdown",
   "id": "e5c65964",
   "metadata": {},
   "source": [
    "#### <a id='toc1_1_1_3_'></a>[Generating Possible Lines](#toc0_)"
   ]
  },
  {
   "cell_type": "markdown",
   "metadata": {},
   "source": [
    "##### <a id='toc1_1_1_3_1_'></a>[Setting and rotating the slope line](#toc0_)"
   ]
  },
  {
   "cell_type": "code",
   "execution_count": 9,
   "id": "07e0c126",
   "metadata": {},
   "outputs": [],
   "source": [
    "slope_degree = 29\n",
    "\n",
    "# set a orientation line we can plan the line deviation around\n",
    "slope_line = LineString([(0,0),(0,1)])\n",
    "slope_line = rotate(slope_line, slope_degree)\n",
    "\n",
    "# scale the line by a factor of 100 and plot it\n",
    "slope_line = scale(slope_line,100,100)\n",
    "\n",
    "# ax = plotting.plot_equal_axis(slope_line)\n",
    "# ax.scatter(bestand_3_csv[\"x\"], bestand_3_csv[\"y\"])"
   ]
  },
  {
   "cell_type": "markdown",
   "metadata": {},
   "source": [
    "##### <a id='toc1_1_1_3_2_'></a>[Generating the possible lines depending on the slope](#toc0_)"
   ]
  },
  {
   "cell_type": "code",
   "execution_count": 10,
   "id": "7efefe18",
   "metadata": {},
   "outputs": [],
   "source": [
    "%load_ext line_profiler"
   ]
  },
  {
   "cell_type": "code",
   "execution_count": 11,
   "id": "eb798012",
   "metadata": {},
   "outputs": [],
   "source": [
    "plt.close(\"all\")"
   ]
  },
  {
   "cell_type": "code",
   "execution_count": 12,
   "id": "ab88c0f0",
   "metadata": {},
   "outputs": [],
   "source": [
    "# reload(geometry_operations)\n",
    "# reload(geometry_utilities)\n",
    "# reload(plotting)\n",
    "# reload(classes)\n",
    "# reload(cable_road_computation)\n",
    "# reload(mechanical_computations)\n",
    "# plot_possible_lines = False\n",
    "\n",
    "# # expression for debugging\n",
    "# # %lprun -T tmp0.txt -f classes.Cable_Road.compute_line_height line_gdf, start_point_dict = cable_road_computation.generate_possible_lines(road_points, target_trees_gdf_filtered_diameter, anchor_trees_gdf_filtered_diameter, tree_gdf, slope_line, height_gdf, plot_possible_lines)\n",
    "# line_gdf, start_point_dict = cable_road_computation.generate_possible_lines(road_points, target_trees_gdf, anchor_trees_gdf, tree_gdf, slope_line, height_gdf, plot_possible_lines)\n",
    "# print(\"we have n lines: \",len(line_gdf))\n",
    "\n",
    "# # unpack to geopandas\n",
    "# buffer = gpd.GeoSeries(line_gdf[\"line_candidates\"].values)\n",
    "# new_line_gdf = gpd.GeoDataFrame(geometry=buffer)\n",
    "# new_line_gdf[line_gdf.columns] = line_gdf[line_gdf.columns].values\n",
    "# new_line_gdf[\"line_length\"] = new_line_gdf.geometry.length\n",
    "# line_gdf = new_line_gdf"
   ]
  },
  {
   "cell_type": "code",
   "execution_count": 13,
   "id": "baa38714",
   "metadata": {},
   "outputs": [],
   "source": [
    "# reload(plotting)\n",
    "# plotting.plot_gdf_with_anchors_and_supports([target_trees_gdf,anchor_trees_gdf, inner_forest_gdf, extra_geometry_gpd], line_gdf)"
   ]
  },
  {
   "cell_type": "code",
   "execution_count": 14,
   "id": "09f5338f",
   "metadata": {},
   "outputs": [],
   "source": [
    "# line_gdf_reworked = line_gdf.copy()\n",
    "# %store line_gdf_reworked"
   ]
  }
 ],
 "metadata": {
  "interpreter": {
   "hash": "91c48f7d0aa2425417474f308d34283669fba62ad21892aa9f3358b3314e0943"
  },
  "kernelspec": {
   "display_name": "Python 3.10.6 ('moo_env': venv)",
   "language": "python",
   "name": "python3"
  },
  "language_info": {
   "codemirror_mode": {
    "name": "ipython",
    "version": 3
   },
   "file_extension": ".py",
   "mimetype": "text/x-python",
   "name": "python",
   "nbconvert_exporter": "python",
   "pygments_lexer": "ipython3",
   "version": "3.10.6"
  },
  "vscode": {
   "interpreter": {
    "hash": "91c48f7d0aa2425417474f308d34283669fba62ad21892aa9f3358b3314e0943"
   }
  }
 },
 "nbformat": 4,
 "nbformat_minor": 5
}
