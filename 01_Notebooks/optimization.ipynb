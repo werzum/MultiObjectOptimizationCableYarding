{
 "cells": [
  {
   "cell_type": "markdown",
   "metadata": {},
   "source": [
    "##### <a id='toc1_1_1_1_1_'></a>[Setting up data and imports](#toc0_)\n"
   ]
  },
  {
   "cell_type": "code",
   "execution_count": 1,
   "metadata": {},
   "outputs": [],
   "source": [
    "import numpy as np\n",
    "from importlib import reload\n",
    "\n",
    "# Importing my modules\n",
    "from src.main import (\n",
    "    classes,\n",
    "    geometry_operations,\n",
    "    optimization_functions,\n",
    "    plotting_2d,\n",
    "    plotting_3d,\n",
    ")"
   ]
  },
  {
   "cell_type": "code",
   "execution_count": 2,
   "metadata": {},
   "outputs": [],
   "source": [
    "# %store -r line_gdf_reworked\n",
    "%store -r line_gdf_75\n",
    "%store -r harvesteable_trees_gdf\n",
    "%store -r height_gdf\n",
    "%store -r anchor_trees_gdf\n",
    "%store -r target_trees_gdf\n",
    "%store -r line_gdf_v1\n",
    "%store -r slope_line\n",
    "%store -r results_df \n",
    "#rewrite this if the result of the main optimization changed\n",
    "\n",
    "line_gdf = line_gdf_v1.copy()\n",
    "# hack to extract this from the line_gdf\n",
    "start_point_dict = dict(\n",
    "    [(key, value.coords[0]) for key, value in enumerate(line_gdf[\"line_candidates\"])]\n",
    ")"
   ]
  },
  {
   "cell_type": "markdown",
   "metadata": {},
   "source": [
    "#### <a id='toc1_1_1_2_'></a>[Optimization Setup](#toc0_)\n"
   ]
  },
  {
   "cell_type": "code",
   "execution_count": 3,
   "metadata": {},
   "outputs": [],
   "source": [
    "bhd_series = harvesteable_trees_gdf[\"BHD\"]\n",
    "height_series = harvesteable_trees_gdf[\"h\"].replace(\",\", \".\", regex=True).astype(float)\n",
    "\n",
    "# Prepare the gdfs\n",
    "uphill_yarding = False\n",
    "line_gdf[\"line_cost\"] = optimization_functions.compute_line_costs(\n",
    "    line_gdf, uphill_yarding, large_yarder=True\n",
    ")\n",
    "harvesteable_trees_gdf[\"cubic_volume\"] = optimization_functions.compute_tree_volume(\n",
    "    bhd_series, height_series\n",
    ")"
   ]
  },
  {
   "cell_type": "code",
   "execution_count": 4,
   "metadata": {},
   "outputs": [],
   "source": [
    "line_gdf = line_gdf.iloc[0:10]\n",
    "harvesteable_trees_gdf = harvesteable_trees_gdf.iloc[0:100]"
   ]
  },
  {
   "cell_type": "markdown",
   "metadata": {},
   "source": [
    "#### <a id='toc1_1_1_3_'></a>[Single-Objective](#toc0_)\n"
   ]
  },
  {
   "cell_type": "code",
   "execution_count": 4,
   "metadata": {},
   "outputs": [
    {
     "name": "stdout",
     "output_type": "stream",
     "text": [
      "Starting with objective 0\n",
      "Starting with objective 1\n",
      "Starting with objective 2\n"
     ]
    }
   ],
   "source": [
    "reload(optimization_functions)\n",
    "reload(classes)\n",
    "# Lists to store the results\n",
    "optimization_result_list = []\n",
    "lscp_model_list = []\n",
    "\n",
    "for i in range(0, 3):\n",
    "    print(f\"Starting with objective {i}\")\n",
    "    # set up the model with firs the monetary objective (0), then sideways slope (1) and steep segments (2) as single objective\n",
    "    lscp_optimization = classes.optimization_model(\n",
    "        \"Single Objective\",\n",
    "        line_gdf,\n",
    "        harvesteable_trees_gdf,\n",
    "        height_gdf,\n",
    "        slope_line,\n",
    "        objective_to_select=i,\n",
    "    )\n",
    "    lscp_optimization.add_generic_vars_and_constraints()\n",
    "    lscp_optimization.add_single_objective()\n",
    "    # and solve it\n",
    "    lscp_optimization.solve()\n",
    "    lscp_model_list.append(lscp_optimization)"
   ]
  },
  {
   "cell_type": "code",
   "execution_count": 5,
   "metadata": {},
   "outputs": [
    {
     "name": "stderr",
     "output_type": "stream",
     "text": [
      "/home/carlo/GitHub/MultiObjectOptimizationCableYarding/moo_env/lib/python3.10/site-packages/geopandas/geodataframe.py:1456: SettingWithCopyWarning: \n",
      "A value is trying to be set on a copy of a slice from a DataFrame.\n",
      "Try using .loc[row_indexer,col_indexer] = value instead\n",
      "\n",
      "See the caveats in the documentation: https://pandas.pydata.org/pandas-docs/stable/user_guide/indexing.html#returning-a-view-versus-a-copy\n",
      "  super().__setitem__(key, value)\n",
      "/home/carlo/GitHub/MultiObjectOptimizationCableYarding/moo_env/lib/python3.10/site-packages/geopandas/geodataframe.py:1456: SettingWithCopyWarning: \n",
      "A value is trying to be set on a copy of a slice from a DataFrame.\n",
      "Try using .loc[row_indexer,col_indexer] = value instead\n",
      "\n",
      "See the caveats in the documentation: https://pandas.pydata.org/pandas-docs/stable/user_guide/indexing.html#returning-a-view-versus-a-copy\n",
      "  super().__setitem__(key, value)\n",
      "/home/carlo/GitHub/MultiObjectOptimizationCableYarding/moo_env/lib/python3.10/site-packages/geopandas/geodataframe.py:1456: SettingWithCopyWarning: \n",
      "A value is trying to be set on a copy of a slice from a DataFrame.\n",
      "Try using .loc[row_indexer,col_indexer] = value instead\n",
      "\n",
      "See the caveats in the documentation: https://pandas.pydata.org/pandas-docs/stable/user_guide/indexing.html#returning-a-view-versus-a-copy\n",
      "  super().__setitem__(key, value)\n"
     ]
    }
   ],
   "source": [
    "for count, optimization_object in enumerate(lscp_model_list):\n",
    "    optimization_result_list.append(\n",
    "        classes.optimization_result(\n",
    "            optimization_object,\n",
    "            line_gdf,\n",
    "            0,\n",
    "            False,\n",
    "            optimization_object.name + str(count),\n",
    "        )\n",
    "    )"
   ]
  },
  {
   "cell_type": "markdown",
   "metadata": {},
   "source": [
    "#### <a id='toc1_1_1_4_'></a>[NSGA 2](#toc0_)\n"
   ]
  },
  {
   "cell_type": "code",
   "execution_count": 6,
   "metadata": {},
   "outputs": [
    {
     "name": "stdout",
     "output_type": "stream",
     "text": [
      "==========================================================================================\n",
      "n_gen  |  n_eval  | n_nds  |     cv_min    |     cv_avg    |      eps      |   indicator  \n",
      "==========================================================================================\n",
      "     1 |        1 |      1 |  5.159484E+02 |  5.159484E+02 |             - |             -\n",
      "     2 |       11 |      7 |  0.000000E+00 |  0.000000E+00 |             - |             -\n",
      "     3 |       21 |      8 |  0.000000E+00 |  0.000000E+00 |  0.1049388002 |         nadir\n",
      "     4 |       31 |      9 |  0.000000E+00 |  0.000000E+00 |  0.0118200212 |         ideal\n",
      "     5 |       41 |     10 |  0.000000E+00 |  0.000000E+00 |  0.0877497869 |         ideal\n",
      "     6 |       51 |     10 |  0.000000E+00 |  0.000000E+00 |  0.0160540052 |             f\n",
      "     7 |       61 |     10 |  0.000000E+00 |  0.000000E+00 |  0.2220232509 |         ideal\n",
      "     8 |       71 |      9 |  0.000000E+00 |  0.000000E+00 |  0.0138775925 |         ideal\n",
      "     9 |       81 |     10 |  0.000000E+00 |  0.000000E+00 |  0.0063701220 |             f\n",
      "    10 |       91 |     10 |  0.000000E+00 |  0.000000E+00 |  0.000000E+00 |             f\n",
      "    11 |      101 |      9 |  0.000000E+00 |  0.000000E+00 |  0.0011304041 |             f\n",
      "    12 |      111 |     10 |  0.000000E+00 |  0.000000E+00 |  0.0050347529 |             f\n",
      "    13 |      121 |     10 |  0.000000E+00 |  0.000000E+00 |  0.1673325287 |         nadir\n",
      "    14 |      131 |     10 |  0.000000E+00 |  0.000000E+00 |  0.0036859285 |             f\n",
      "    15 |      141 |     10 |  0.000000E+00 |  0.000000E+00 |  0.0192524397 |         ideal\n",
      "    16 |      151 |      9 |  0.000000E+00 |  0.000000E+00 |  0.0026257407 |         ideal\n",
      "    17 |      161 |      9 |  0.000000E+00 |  0.000000E+00 |  0.000000E+00 |             f\n",
      "    18 |      171 |      9 |  0.000000E+00 |  0.000000E+00 |  0.0013276724 |             f\n",
      "    19 |      181 |     10 |  0.000000E+00 |  0.000000E+00 |  0.0045807069 |             f\n",
      "    20 |      191 |     10 |  0.000000E+00 |  0.000000E+00 |  0.0014190516 |             f\n"
     ]
    }
   ],
   "source": [
    "from src.main import moo_optimization_functions\n",
    "from pymoo.algorithms.moo.nsga2 import NSGA2\n",
    "from pymoo.operators.sampling.rnd import IntegerRandomSampling\n",
    "from pymoo.termination import get_termination\n",
    "from pymoo.optimize import minimize\n",
    "\n",
    "reload(moo_optimization_functions)\n",
    "\n",
    "sideway_lines = lscp_model_list[0].sideways_slope_deviations_per_cable_road\n",
    "steep_lines = lscp_model_list[0].steep_downhill_segments\n",
    "\n",
    "cost_matrix = lscp_model_list[0].aij\n",
    "nsga_problem = moo_optimization_functions.SupportLinesProblem(\n",
    "    cost_matrix, lscp_model_list[0].facility_cost, sideway_lines, steep_lines\n",
    ")\n",
    "termination = get_termination(\"n_gen\", 20)\n",
    "\n",
    "reload(optimization_functions)\n",
    "\n",
    "client_range = cost_matrix.shape[0]\n",
    "facility_range = cost_matrix.shape[1]\n",
    "\n",
    "algorithm = NSGA2(\n",
    "    pop_size=10,\n",
    "    sampling=moo_optimization_functions.CustomSampling(),  # initally zero matrix, nothing assigned\n",
    "    mutation=moo_optimization_functions.MyMutation(),\n",
    "    repair=moo_optimization_functions.MyRepair(),\n",
    ")\n",
    "\n",
    "# %prun minimize(problem,algorithm,termination,verbose=True,return_least_infeasible=True,seed=0)\n",
    "res = minimize(\n",
    "    nsga_problem,\n",
    "    algorithm,\n",
    "    termination,\n",
    "    verbose=True,\n",
    "    return_least_infeasible=True,\n",
    "    seed=0,\n",
    ")\n",
    "\n",
    "X = res.X\n",
    "F = res.F"
   ]
  },
  {
   "cell_type": "code",
   "execution_count": 35,
   "metadata": {},
   "outputs": [
    {
     "name": "stderr",
     "output_type": "stream",
     "text": [
      "/home/carlo/GitHub/MultiObjectOptimizationCableYarding/moo_env/lib/python3.10/site-packages/geopandas/geodataframe.py:1456: SettingWithCopyWarning: \n",
      "A value is trying to be set on a copy of a slice from a DataFrame.\n",
      "Try using .loc[row_indexer,col_indexer] = value instead\n",
      "\n",
      "See the caveats in the documentation: https://pandas.pydata.org/pandas-docs/stable/user_guide/indexing.html#returning-a-view-versus-a-copy\n",
      "  super().__setitem__(key, value)\n",
      "/home/carlo/GitHub/MultiObjectOptimizationCableYarding/moo_env/lib/python3.10/site-packages/geopandas/geodataframe.py:1456: SettingWithCopyWarning: \n",
      "A value is trying to be set on a copy of a slice from a DataFrame.\n",
      "Try using .loc[row_indexer,col_indexer] = value instead\n",
      "\n",
      "See the caveats in the documentation: https://pandas.pydata.org/pandas-docs/stable/user_guide/indexing.html#returning-a-view-versus-a-copy\n",
      "  super().__setitem__(key, value)\n",
      "/home/carlo/GitHub/MultiObjectOptimizationCableYarding/moo_env/lib/python3.10/site-packages/geopandas/geodataframe.py:1456: SettingWithCopyWarning: \n",
      "A value is trying to be set on a copy of a slice from a DataFrame.\n",
      "Try using .loc[row_indexer,col_indexer] = value instead\n",
      "\n",
      "See the caveats in the documentation: https://pandas.pydata.org/pandas-docs/stable/user_guide/indexing.html#returning-a-view-versus-a-copy\n",
      "  super().__setitem__(key, value)\n"
     ]
    }
   ],
   "source": [
    "reload(classes)\n",
    "len_x = len(res.X)\n",
    "samples = 3\n",
    "for i in np.linspace(0, len_x - 1, samples).astype(int):\n",
    "    optimization_result_list.append(\n",
    "        classes.optimization_result(res, line_gdf, i, False, \"NSGA2 \" + str(i))\n",
    "    )"
   ]
  },
  {
   "cell_type": "code",
   "execution_count": 41,
   "metadata": {},
   "outputs": [
    {
     "name": "stdout",
     "output_type": "stream",
     "text": [
      "Profit baseline is 51853.884670017214\n"
     ]
    }
   ],
   "source": [
    "reload(classes)\n",
    "reload(plotting_2d)\n",
    "\n",
    "tree_volumes_list = harvesteable_trees_gdf[\"cubic_volume\"]\n",
    "(\n",
    "    distance_tree_line,\n",
    "    distance_carriage_support,\n",
    ") = geometry_operations.compute_distances_facilities_clients(\n",
    "    harvesteable_trees_gdf, line_gdf\n",
    ")\n",
    "sample_model = lscp_model_list[0]\n",
    "\n",
    "results_df = plotting_2d.model_results_comparison(\n",
    "    optimization_result_list,\n",
    "    line_gdf,\n",
    "    sample_model.aij,\n",
    "    distance_carriage_support,\n",
    "    sample_model.productivity_cost,\n",
    "    tree_volumes_list,\n",
    "    sample_model.sideways_slope_deviations_per_cable_road,\n",
    "    sample_model.steep_downhill_segments,\n",
    ")"
   ]
  },
  {
   "cell_type": "markdown",
   "metadata": {},
   "source": [
    "### AUGMECON MOO\n"
   ]
  },
  {
   "cell_type": "markdown",
   "metadata": {},
   "source": [
    "#### Creating the reference table for AUGMECON approach\n"
   ]
  },
  {
   "cell_type": "code",
   "execution_count": 47,
   "metadata": {},
   "outputs": [],
   "source": [
    "# determine the ranges of the objectives and divide them in 10 equal parts\n",
    "sideways_true_max = results_df[\"sideways_slope_deviations\"].max()\n",
    "sideways_true_min = results_df[\"sideways_slope_deviations\"].min()\n",
    "# sideways_true_min = 120\n",
    "downhill_true_max = results_df[\"steep_downhill_segments\"].max()\n",
    "downhill_true_min = results_df[\"steep_downhill_segments\"].min()\n",
    "# downhill_true_min = 63\n",
    "\n",
    "# first determine the ranges of the objectives\n",
    "max_overall_profit = results_df[\"overall_profit\"].max()\n",
    "min_overall_profit = results_df[\"overall_profit\"].min()\n",
    "\n",
    "# create a grid of points to evaluate the objective functions\n",
    "profit_range = np.linspace(min_overall_profit, max_overall_profit, 3)\n",
    "\n",
    "sideways_range, sideways_step = np.linspace(\n",
    "    sideways_true_max,\n",
    "    sideways_true_min,\n",
    "    3,\n",
    "    retstep=True,\n",
    ")\n",
    "\n",
    "downhill_range, downhill_step = np.linspace(\n",
    "    downhill_true_max, downhill_true_min, 3, retstep=True\n",
    ")"
   ]
  },
  {
   "cell_type": "code",
   "execution_count": 48,
   "metadata": {},
   "outputs": [
    {
     "name": "stdout",
     "output_type": "stream",
     "text": [
      "i should be : 396.23903644902464\n",
      "i is : 384.9645946343182\n",
      "          j should be: 396.23903644902464\n",
      "          j is :  326.74400678183684\n",
      "          cost is : 5336.204000281543\n"
     ]
    },
    {
     "name": "stderr",
     "output_type": "stream",
     "text": [
      "/home/carlo/GitHub/MultiObjectOptimizationCableYarding/moo_env/lib/python3.10/site-packages/geopandas/geodataframe.py:1456: SettingWithCopyWarning: \n",
      "A value is trying to be set on a copy of a slice from a DataFrame.\n",
      "Try using .loc[row_indexer,col_indexer] = value instead\n",
      "\n",
      "See the caveats in the documentation: https://pandas.pydata.org/pandas-docs/stable/user_guide/indexing.html#returning-a-view-versus-a-copy\n",
      "  super().__setitem__(key, value)\n",
      "/home/carlo/GitHub/MultiObjectOptimizationCableYarding/moo_env/lib/python3.10/site-packages/pulp/pulp.py:1704: UserWarning: Overwriting previously set objective.\n",
      "  warnings.warn(\"Overwriting previously set objective.\")\n"
     ]
    },
    {
     "name": "stdout",
     "output_type": "stream",
     "text": [
      "          j should be: 227.30915875479906\n",
      "          j is :  326.74400678183684\n",
      "          cost is : 5336.204000281543\n"
     ]
    },
    {
     "name": "stderr",
     "output_type": "stream",
     "text": [
      "/home/carlo/GitHub/MultiObjectOptimizationCableYarding/moo_env/lib/python3.10/site-packages/geopandas/geodataframe.py:1456: SettingWithCopyWarning: \n",
      "A value is trying to be set on a copy of a slice from a DataFrame.\n",
      "Try using .loc[row_indexer,col_indexer] = value instead\n",
      "\n",
      "See the caveats in the documentation: https://pandas.pydata.org/pandas-docs/stable/user_guide/indexing.html#returning-a-view-versus-a-copy\n",
      "  super().__setitem__(key, value)\n",
      "/home/carlo/GitHub/MultiObjectOptimizationCableYarding/moo_env/lib/python3.10/site-packages/pulp/pulp.py:1704: UserWarning: Overwriting previously set objective.\n",
      "  warnings.warn(\"Overwriting previously set objective.\")\n"
     ]
    },
    {
     "name": "stdout",
     "output_type": "stream",
     "text": [
      "couldnt improve objective?\n",
      "i should be : 255.53501873981452\n",
      "i is : 250.7978966654938\n",
      "          j should be: 396.23903644902464\n",
      "          j is :  195.96690153064242\n",
      "          cost is : 6312.995086885745\n"
     ]
    },
    {
     "name": "stderr",
     "output_type": "stream",
     "text": [
      "/home/carlo/GitHub/MultiObjectOptimizationCableYarding/moo_env/lib/python3.10/site-packages/geopandas/geodataframe.py:1456: SettingWithCopyWarning: \n",
      "A value is trying to be set on a copy of a slice from a DataFrame.\n",
      "Try using .loc[row_indexer,col_indexer] = value instead\n",
      "\n",
      "See the caveats in the documentation: https://pandas.pydata.org/pandas-docs/stable/user_guide/indexing.html#returning-a-view-versus-a-copy\n",
      "  super().__setitem__(key, value)\n",
      "/home/carlo/GitHub/MultiObjectOptimizationCableYarding/moo_env/lib/python3.10/site-packages/pulp/pulp.py:1704: UserWarning: Overwriting previously set objective.\n",
      "  warnings.warn(\"Overwriting previously set objective.\")\n"
     ]
    },
    {
     "name": "stdout",
     "output_type": "stream",
     "text": [
      "         skipping j_bypass: 1\n",
      "          j should be: 58.3792810605735\n",
      "          j is :  253.56771465575008\n",
      "          cost is : 6249.614268268009\n"
     ]
    },
    {
     "name": "stderr",
     "output_type": "stream",
     "text": [
      "/home/carlo/GitHub/MultiObjectOptimizationCableYarding/moo_env/lib/python3.10/site-packages/geopandas/geodataframe.py:1456: SettingWithCopyWarning: \n",
      "A value is trying to be set on a copy of a slice from a DataFrame.\n",
      "Try using .loc[row_indexer,col_indexer] = value instead\n",
      "\n",
      "See the caveats in the documentation: https://pandas.pydata.org/pandas-docs/stable/user_guide/indexing.html#returning-a-view-versus-a-copy\n",
      "  super().__setitem__(key, value)\n",
      "/home/carlo/GitHub/MultiObjectOptimizationCableYarding/moo_env/lib/python3.10/site-packages/pulp/pulp.py:1704: UserWarning: Overwriting previously set objective.\n",
      "  warnings.warn(\"Overwriting previously set objective.\")\n"
     ]
    },
    {
     "name": "stdout",
     "output_type": "stream",
     "text": [
      "couldnt improve objective?\n",
      "i should be : 114.83100103060437\n",
      "couldnt solve with i  114.83100103060437\n"
     ]
    }
   ],
   "source": [
    "from itertools import islice\n",
    "\n",
    "reload(classes)\n",
    "reload(optimization_functions)\n",
    "# line_gdf = line_gdf.iloc[0:5]\n",
    "# harvesteable_trees_gdf = harvesteable_trees_gdf.iloc[0:20]\n",
    "pareto_optimal_objective_values = [0]\n",
    "pareto_optimal_objects = []\n",
    "\n",
    "\n",
    "def augmecon():\n",
    "    initial_model = classes.optimization_model(\n",
    "        \"Single Objective\",\n",
    "        line_gdf,\n",
    "        harvesteable_trees_gdf,\n",
    "        height_gdf,\n",
    "        slope_line,\n",
    "        objective_to_select=0,\n",
    "    )\n",
    "\n",
    "    initial_model.add_generic_vars_and_constraints()\n",
    "    # add the main monetary objective\n",
    "    initial_model.add_single_objective()\n",
    "    initial_model.solve()\n",
    "\n",
    "    # set up the ranges at iteration objects so we can skip steps in the loop\n",
    "    i_range = iter(sideways_range)\n",
    "\n",
    "    for i in i_range:\n",
    "        print(\"i should be :\", i)\n",
    "        initial_model.add_epsilon_constraint(target_value=i, objective_to_select=1)\n",
    "\n",
    "        try:\n",
    "            initial_model.solve()\n",
    "        except:\n",
    "            print(\"couldnt solve with i \", i)\n",
    "            break\n",
    "\n",
    "        (\n",
    "            cost_objective,\n",
    "            sideways_objective,\n",
    "            steep_objective,\n",
    "        ) = initial_model.get_objective_values()\n",
    "        # determine the slack variable of the sideways constraint - this is the value of the objective function minus the expected value as per the sideways range\n",
    "        i_slack = sideways_objective - i\n",
    "        print(\"i is :\", sideways_objective)\n",
    "\n",
    "        j_range = iter(downhill_range)\n",
    "        # loop through the inner objective\n",
    "        for j in j_range:\n",
    "            print(\"          j should be:\", j)\n",
    "            initial_model.add_epsilon_constraint(target_value=j, objective_to_select=2)\n",
    "\n",
    "            try:\n",
    "                initial_model.solve()\n",
    "            except:\n",
    "                print(\"couldnt solve with j \", j)\n",
    "                break\n",
    "\n",
    "            # determine the slack variable of the downhill constraint - this is the value of the objective function minus the expected value as per the downhill range\n",
    "            j_slack = steep_objective - j\n",
    "            print(\"          j is : \", steep_objective)\n",
    "            print(\"          cost is :\", cost_objective)\n",
    "\n",
    "            # since we could solve this problem, this is a pareto-optimal solution - get the objective value and store it\n",
    "            overall_objective = initial_model.get_total_epsilon_objective_value(\n",
    "                (sideways_true_max - sideways_true_min),\n",
    "                (downhill_true_max - downhill_true_min),\n",
    "            )\n",
    "\n",
    "            result = classes.optimization_result(\n",
    "                initial_model, line_gdf, 0, False, \"Augmecon\"\n",
    "            )\n",
    "\n",
    "            # pareto_optimal_objective_values.append(overall_objective)\n",
    "            pareto_optimal_objects.append(result)\n",
    "\n",
    "            (\n",
    "                cost_objective,\n",
    "                sideways_objective,\n",
    "                steep_objective,\n",
    "            ) = initial_model.get_objective_values()\n",
    "\n",
    "            # set the new objective\n",
    "            initial_model.add_epsilon_objective(\n",
    "                i_slack, j_slack, sideways_range, downhill_range\n",
    "            )\n",
    "\n",
    "            surface_plot_data_x.append(cost_objective)\n",
    "            surface_plot_data_y.append(sideways_objective)\n",
    "            surface_plot_data_z.append(steep_objective)\n",
    "\n",
    "            if j_slack > 0:\n",
    "                print(\"couldnt improve objective?\")\n",
    "                break  # skipping the rest of the downhill range since we cant improve the objective anymore\n",
    "            else:\n",
    "                # the expected value as per the downhill range. If the slack variable is greater than what we would constrain for the next step, we skip those iterations\n",
    "                j_bypass = int(abs(np.floor(j_slack / downhill_step)))\n",
    "                if j_bypass > 0:\n",
    "                    # for iterator j, skip j_bypass steps\n",
    "                    print(\"         skipping j_bypass:\", j_bypass)\n",
    "                    next(islice(j_range, j_bypass, j_bypass), None)\n",
    "\n",
    "\n",
    "surface_plot_data_x = []\n",
    "surface_plot_data_y = []\n",
    "surface_plot_data_z = []\n",
    "augmecon()"
   ]
  },
  {
   "cell_type": "code",
   "execution_count": 57,
   "metadata": {},
   "outputs": [],
   "source": [
    "optimization_result_list = optimization_result_list + pareto_optimal_objects"
   ]
  },
  {
   "cell_type": "code",
   "execution_count": null,
   "metadata": {},
   "outputs": [],
   "source": [
    "a = []"
   ]
  },
  {
   "cell_type": "markdown",
   "metadata": {},
   "source": [
    "#### Comparison of Optimization Results\n"
   ]
  },
  {
   "cell_type": "code",
   "execution_count": 1,
   "metadata": {},
   "outputs": [
    {
     "ename": "NameError",
     "evalue": "name 'harvesteable_trees_gdf' is not defined",
     "output_type": "error",
     "traceback": [
      "\u001b[0;31m---------------------------------------------------------------------------\u001b[0m",
      "\u001b[0;31mNameError\u001b[0m                                 Traceback (most recent call last)",
      "Cell \u001b[0;32mIn[1], line 1\u001b[0m\n\u001b[0;32m----> 1\u001b[0m tree_volumes_list \u001b[39m=\u001b[39m harvesteable_trees_gdf[\u001b[39m\"\u001b[39m\u001b[39mcubic_volume\u001b[39m\u001b[39m\"\u001b[39m]\n\u001b[1;32m      2\u001b[0m (\n\u001b[1;32m      3\u001b[0m     distance_tree_line,\n\u001b[1;32m      4\u001b[0m     distance_carriage_support,\n\u001b[1;32m      5\u001b[0m ) \u001b[39m=\u001b[39m geometry_operations\u001b[39m.\u001b[39mcompute_distances_facilities_clients(\n\u001b[1;32m      6\u001b[0m     harvesteable_trees_gdf, line_gdf\n\u001b[1;32m      7\u001b[0m )\n\u001b[1;32m      8\u001b[0m sample_model \u001b[39m=\u001b[39m lscp_model_list[\u001b[39m0\u001b[39m]\n",
      "\u001b[0;31mNameError\u001b[0m: name 'harvesteable_trees_gdf' is not defined"
     ]
    }
   ],
   "source": [
    "tree_volumes_list = harvesteable_trees_gdf[\"cubic_volume\"]\n",
    "(\n",
    "    distance_tree_line,\n",
    "    distance_carriage_support,\n",
    ") = geometry_operations.compute_distances_facilities_clients(\n",
    "    harvesteable_trees_gdf, line_gdf\n",
    ")\n",
    "sample_model = lscp_model_list[0]\n",
    "reload(classes)\n",
    "reload(plotting_2d)\n",
    "import pandas as pd\n",
    "\n",
    "pd.options.plotting.backend = \"hvplot\"\n",
    "\n",
    "results_df = plotting_2d.model_results_comparison(\n",
    "    optimization_result_list,\n",
    "    line_gdf,\n",
    "    sample_model.aij,\n",
    "    distance_carriage_support,\n",
    "    sample_model.productivity_cost,\n",
    "    tree_volumes_list,\n",
    "    sample_model.sideways_slope_deviations_per_cable_road,\n",
    "    sample_model.steep_downhill_segments,\n",
    ")\n",
    "\n",
    "results_df[results_df.columns[:6]] = results_df[results_df.columns[:6]].astype(int)\n",
    "results_df[results_df.columns[7:]] = results_df[results_df.columns[7:]].astype(int)\n",
    "results_df = results_df.reindex(\n",
    "    columns=[\n",
    "        \"name\",\n",
    "        \"Productivity cost per m3 as per Stampfer\",\n",
    "        \"overall_profit\",\n",
    "        \"profit_comparison\",\n",
    "        \"cable_road_costs\",\n",
    "        \"Total distance from carriage to support\",\n",
    "        \"Total distance of trees to cable roads\",\n",
    "        \"sideways_slope_deviations\",\n",
    "        \"steep_downhill_segments\",\n",
    "    ]\n",
    ")\n",
    "results_df.set_index(\"name\", inplace=True)\n",
    "display(results_df)\n",
    "results_df.plot()"
   ]
  },
  {
   "cell_type": "code",
   "execution_count": 67,
   "metadata": {},
   "outputs": [
    {
     "data": {
      "text/html": [
       "        <script type=\"text/javascript\">\n",
       "        window.PlotlyConfig = {MathJaxConfig: 'local'};\n",
       "        if (window.MathJax && window.MathJax.Hub && window.MathJax.Hub.Config) {window.MathJax.Hub.Config({SVG: {font: \"STIX-Web\"}});}\n",
       "        if (typeof require !== 'undefined') {\n",
       "        require.undef(\"plotly\");\n",
       "        requirejs.config({\n",
       "            paths: {\n",
       "                'plotly': ['https://cdn.plot.ly/plotly-2.18.2.min']\n",
       "            }\n",
       "        });\n",
       "        require(['plotly'], function(Plotly) {\n",
       "            window._Plotly = Plotly;\n",
       "        });\n",
       "        }\n",
       "        </script>\n",
       "        "
      ]
     },
     "metadata": {},
     "output_type": "display_data"
    },
    {
     "data": {
      "text/html": [
       "<div>                            <div id=\"51725919-c7bb-4d53-af28-43fc6b5f7686\" class=\"plotly-graph-div\" style=\"height:800px; width:1200px;\"></div>            <script type=\"text/javascript\">                require([\"plotly\"], function(Plotly) {                    window.PLOTLYENV=window.PLOTLYENV || {};                                    if (document.getElementById(\"51725919-c7bb-4d53-af28-43fc6b5f7686\")) {                    Plotly.newPlot(                        \"51725919-c7bb-4d53-af28-43fc6b5f7686\",                        [{\"marker\":{\"color\":\"black\"},\"x\":[-29.880646898378075,-106.0132132],\"y\":[-8.757599103801436,89.40781657],\"type\":\"scatter\"},{\"marker\":{\"color\":\"red\"},\"mode\":\"markers\",\"name\":\"Trees covered by line 0\",\"x\":[-93.90127238,-97.02245733,-102.7610669,-106.9293573,-107.9110969,-110.3984335,-106.0132132,-96.73072895,-96.22606223,-98.31843957,-115.0619992,-108.786355,-114.5846122,-110.2887047,-103.1629812,-95.55933733,-105.839508,-107.0136188,-102.8911694,-104.5151239,-95.6665854,-105.2474193,-111.0155589,-110.4334077,-109.0691822,-113.8496183,-115.6880358,-116.3580906,-114.450469,-115.5839619,-100.4964897,-113.9290292,-120.5061,-118.8128,-108.5675,-103.0634,-103.6738,-95.93813,-84.08833116,-62.80450732,-47.87548267,-92.01265714,-93.82751185,-83.54479257,-78.19297493,-82.38238939,-63.16261606,-68.69947,-77.894284,-71.4853691,-72.662565,-89.07298,-70.08661831,-88.87189632,-89.04238067,-95.9302225,-81.16040829,-85.85650115,-94.4786539,-96.535378,-63.75294362,-95.71312916,-89.78213333,-101.3700811,-92.95359395,-100.9940699,-100.793763,-100.3478996,-99.5811527,-98.615002,-101.2184867,-96.69549867,-98.09441245,-42.05272394,-58.95692088,-61.24894305,-66.530239,-69.40538898,-62.3774501,-69.61408133,-65.64535138,-47.08279067,-66.57174552,-56.70006471,-57.59924854,-50.10485046,-43.84057345,-74.27956334,-57.05613672,-73.64038121,-52.66540533,-46.96401457,-52.17798164,-66.00952476,-45.20257457,-45.41482262,-65.8870821,-59.03737455,-39.03887005,-59.16029652,-44.91329837,-81.48674652,-60.82878325,-64.271412,-64.747095,-70.83656933,-45.95279935,-84.14636,-82.96498,-82.80746,-79.246,-68.08431,-57.8296,-54.713,-57.2062,-58.2843,-59.36414,-61.23467,-43.494],\"y\":[85.11919619,88.54954267,77.77472,80.351252,82.70909714,75.82409401,89.40781657,98.53306229,100.1307978,100.5692092,85.04506755,77.02719052,82.96372814,86.10765266,85.29616635,104.3161573,86.49467744,95.28771062,86.20745338,87.68086518,102.4783549,97.1181028,90.92524233,96.00547745,82.99614333,87.2107575,80.37969702,88.860498,91.64478486,78.43012638,96.3416446,85.41514138,83.28294,80.60513,85.8628,81.09737,101.2746,90.31217,62.67181938,3.661438659,12.41163467,49.73902457,58.72901398,57.81202571,43.280443,59.70660391,14.21862546,11.68062366,52.61685171,13.69239645,9.753753333,50.99806667,10.52799649,60.67692382,71.26314307,52.33538372,79.16582743,75.32552365,71.09835181,57.0680368,16.11237048,59.49331107,75.87889667,61.58523686,65.33045471,58.10407029,57.17725771,63.67441974,64.05568506,64.13211571,63.57803857,65.44717238,64.92266082,-0.318944394,4.96812146,7.909944762,7.427147,10.34906898,47.315436,48.07348533,21.16043231,22.12641333,47.204756,39.27407121,22.61315719,1.511377768,3.091691893,41.73161398,32.56169672,33.91353359,8.185796,6.821372,4.378941281,23.30821952,9.288627714,13.76034762,16.91638248,23.515587,3.565993622,31.27495377,-0.132877354,49.11636996,38.27663021,52.23652133,41.633555,38.04694933,19.65958551,37.92971,36.92554,33.89332,30.50907,40.82172,0.1746,0.7044,6.7719,16.481,29.308,38.36289,-2.3416],\"type\":\"scatter\"},{\"marker\":{\"color\":\"black\"},\"x\":[-15.12792573,-29.880646898378075],\"y\":[-26.16056076,-8.757599103801436],\"type\":\"scatter\"},{\"marker\":{\"color\":\"black\"},\"x\":[5.750624681,-29.880646898378075],\"y\":[-23.50333184,-8.757599103801436],\"type\":\"scatter\"},{\"marker\":{\"color\":\"black\"},\"x\":[-22.92090482,-29.880646898378075],\"y\":[-30.73934474,-8.757599103801436],\"type\":\"scatter\"},{\"marker\":{\"color\":\"black\"},\"x\":[-83.54479257],\"y\":[57.81202571],\"type\":\"scatter\"},{\"marker\":{\"color\":\"black\"},\"x\":[-24.572446093973856,-74.37847497],\"y\":[-5.963584108606202,104.4872907],\"type\":\"scatter\"},{\"marker\":{\"color\":\"blue\"},\"mode\":\"markers\",\"name\":\"Trees covered by line 1\",\"x\":[-83.48467459,-88.19360784,-77.38716,-74.37847497,-74.12546686,-83.96798843,-89.62130667,-83.3753646,-82.7508461,-78.26144619,-74.66894341,-85.630951,-90.57745961,-72.9690587,-79.21758645,-87.31261084,-78.82330588,-70.18942466,-70.13604975,-69.11292673,-72.28254052,-65.84327489,-87.83312994,-67.58248429,-65.91586274,-66.154401,-61.06820181,-65.06967068,-64.15900983,-61.14652818,-64.44548,-64.87632182,-74.75674,-80.30925,-77.59206,-76.80447,-72.7287,-65.68216,-57.6796,-68.21670068,-42.19841593,-35.66054857,-63.811228,-43.45665946,-35.64954472,-75.60631589,-63.83902737,-45.04949761,-68.96079619,-72.90408841,-54.49800107,-43.49902229,-34.33894197,-42.88247,-42.96844683,-42.88422773,-48.14191589,-34.36197702,-54.42445327,-47.48895232,-40.01723757,-65.83894297,-72.31511771,-47.03967,-44.76037486,-56.52763129,-63.91497622,-67.73621776,-63.74153257,-69.36194202,-42.45386268,-71.06100708,-80.33854904,-77.01644229,-55.73910528,-55.97405282,-58.99396885,-53.95952592,-61.57447094,-80.0400875,-60.4958655,-28.2617947,-30.87206137,-25.73708667,-25.69500145,-25.02978597,-22.30652,-31.39633886,-30.33386573,-28.67903971,-35.14537733,-38.86416389,-39.8912642,-42.67860149,-38.89644161,-41.55115797,-31.56738227,-41.41965835,-38.77894034,-45.08971777,-37.35254208,-47.94450819,-57.6806725,-58.99463714,-42.38344933,-44.55701509,-35.61926952,-59.8437761,-60.93192832,-61.66114429,-52.02315851,-49.13330237,-52.04638421,-52.68046227,-34.06315703,-51.23299876,-40.615716,-46.21868933,-32.25445304,-34.85075714,-42.86287625,-58.14497146,-51.18539067,-43.79230016,-50.13028007,-45.99883432,-38.25214,-28.56954773,-51.51983649,-50.43153156,-36.77754178,-36.97431304,-52.15906782,-62.64994,-69.79732,-66.13502,-60.05328,-46.27285,-42.61056,-41.68514,-49.73825,-46.33192,-31.387,-32.66963,-39.20662,-26.57804,-26.77494,-27.56253],\"y\":[95.86970097,98.34736686,105.531576,104.4872907,104.5034411,102.8353679,107.525112,106.9914629,115.3560539,109.285201,120.7985667,113.1640033,107.7242429,113.7228677,104.8973871,111.5093353,117.612602,120.3503284,119.873547,121.5114816,123.1188927,113.24662,111.5008781,122.3045443,122.5960266,118.6669428,129.0447034,116.4094181,119.7839872,132.0985808,123.662627,130.8051815,104.7006,118.481,119.4655,121.629,126.0789,119.9184,127.0673,61.39562391,22.29488814,48.78942838,60.68509933,45.96339541,62.20546824,72.66518112,71.132852,40.88877161,74.36834876,73.25266903,76.57974267,83.77907886,53.87249423,79.38806,79.17753615,79.5017264,90.12105144,51.01104351,73.38996884,80.04219899,54.851973,81.18862365,83.26069743,92.620915,84.80327676,69.05706172,67.20044389,85.21727234,71.50158228,85.35868131,73.7884278,90.40291679,84.43096494,87.13747124,82.93201083,82.95283865,52.62083967,106.6657674,81.48780766,84.73800696,102.2441972,15.70429784,8.485619598,10.44674038,16.54076148,26.59853797,12.12235333,5.626359429,2.907323459,3.598538571,12.83804781,62.46519968,55.19798306,59.14324874,37.17328227,38.8420729,17.63833001,28.17128838,66.29875835,30.01578138,30.81641938,25.21787333,57.81795917,52.14452743,56.49411867,68.98637917,56.00777619,65.59072248,79.11159821,78.64611429,34.43051143,38.52826698,85.52256734,84.56854314,42.74553598,57.79036526,49.63081867,56.45468667,37.90019062,31.54198771,36.31789783,44.69947795,56.80349467,19.18281558,45.7442706,51.07242743,45.15325,40.1044632,66.06245366,32.90602742,19.00586822,38.85725913,38.50238222,57.39809,85.42912,87.31933,99.13079,50.93986,79.34737,84.44463,86.92554,96.76802,26.5007,29.44582,37.47685,-0.1603819,31.64869,37.92971],\"type\":\"scatter\"},{\"marker\":{\"color\":\"black\"},\"x\":[-15.12792573,-24.572446093973856],\"y\":[-26.16056076,-5.963584108606202],\"type\":\"scatter\"},{\"marker\":{\"color\":\"black\"},\"x\":[5.750624681,-24.572446093973856],\"y\":[-23.50333184,-5.963584108606202],\"type\":\"scatter\"},{\"marker\":{\"color\":\"black\"},\"x\":[-22.92090482,-24.572446093973856],\"y\":[-30.73934474,-5.963584108606202],\"type\":\"scatter\"},{\"marker\":{\"color\":\"black\"},\"x\":[],\"y\":[],\"type\":\"scatter\"},{\"marker\":{\"color\":\"black\"},\"x\":[-6.727108153121151,-29.84199559],\"y\":[2.6713796071534985,140.2430958],\"type\":\"scatter\"},{\"marker\":{\"color\":\"green\"},\"mode\":\"markers\",\"name\":\"Trees covered by line 2\",\"x\":[-20.01427656,-46.08530939,-39.1687174,-41.69020833,-20.15441667,-30.51452551,-55.91586735,-60.13371324,-57.75133942,-51.72634937,-54.22529924,-56.03364748,-51.34979148,-57.75406087,-47.45566976,-54.71720264,-48.32035725,-48.23730243,-37.09976663,-37.47195419,-38.754948,-28.88421312,-45.03471145,-52.09936048,-30.53919388,-33.86425279,-42.03635682,-43.77058695,-48.38149441,-33.38285971,-45.35963829,-20.31095449,-30.12933628,-38.2757944,-37.18284862,-26.71358941,-32.49283298,-29.93719601,-24.30442355,-43.69364112,-36.96231791,-29.73887306,-38.04231305,-26.46417652,-25.02255191,-22.40626011,-29.84199559,-34.43580671,-24.7515566,-38.15196,-29.1106237,-43.13583476,-43.45710629,-17.46835571,-28.66212267,-26.34495444,-28.271429,-26.86485143,-28.02366579,-22.25938746,-23.30889411,-22.14285214,-19.53772261,-28.05956057,-21.99539808,-18.51068583,-21.1580461,-22.93293569,-23.63868957,-21.46493537,-24.29473288,-22.44136039,-20.74738784,-21.35527254,-14.66676903,-16.46067657,-50.2108,-46.54851,-46.70603,-35.52464,-14.96348,-12.39504358,-29.52118366,-25.82151267,-27.440446,-17.82092298,-41.45272492,-37.40364779,-14.75707055,-27.90749342,-5.417156102,-4.340797395,-16.80794933,-8.689096627,-14.61508286,-4.7308435,-46.56984086,-46.3035472,-1.514686918,-4.932367447,-10.04503957,-16.71623767,-28.12296714,-5.661616259,-7.976111714,-14.30092727,-11.09186833,-0.970214667,-1.101420381,0.959775614,-16.73522379,-14.70918078,-31.63498,-3.684222609,-41.02201027,-45.75961067,-18.81114101,-16.42554125,-7.013041031,-9.316790811,-10.57044051,-33.41519219,-5.883315789,-31.05259335,-38.6765687,-3.428835238,-19.78574851,-17.27104514,-21.01267307,-17.9089861,-26.4252543,-35.86348262,-9.506584667,-29.62011305,-31.62244894,-31.45910438,-26.01718061,-25.5937586,-18.45054018,-41.16064667,-39.73316282,-39.92093491,-13.09188479,-11.34937437,-4.71877549,7.004541667,5.493851429,-4.330929125,-1.646586857,-18.9630296,-18.65162734,-15.47295086,-17.78911115,-6.690598095,-19.67749185,-23.84008161,-11.059135,-15.14474109,-4.101818305,-9.93666867,-13.69800957,-18.06885752,-9.295090672,-14.65210971,-8.603829565,-12.23518208,-2.883395794,3.084357143,-13.38512882,-5.484164,0.321903298,-4.673825497,-15.91308293,-7.36146924,-11.601952,-8.913310306,-2.147337167,-16.94963143,-20.20948667,-20.23025629,-27.78574676,-24.44786368,-28.94543143,-33.67924298,-30.05668667,-25.99110432,2.141117714,0.553883429,1.217273145,9.156768,3.921010667,7.098754534,7.479731412,6.139525143,-1.028744857,1.129600536,-4.479498667,11.01780383,-4.786697799,-7.099081333,-2.900987238,5.259022129,-8.28776323,-15.16253286,-20.38245718,-28.993184,2.272871159,-24.92097067,-29.944999,-27.75257914,-28.70804743,-29.96957619,-29.001412,-24.53690497,-25.21215064,-25.4799278,-8.609093084,-26.32428857,-43.94946,-42.39397,-37.06044,-32.64994,-39.36414,-33.3677,-22.71885,-29.49212,-25.41635,-25.4618,-22.26599,-19.31492,-11.9568,-16.12518,-15.98735,-11.77375,-11.2045,-18.36981,-17.73974,-14.90442,-9.314916,-8.094153,-10.456921,-1.222434,-6.1945,-5.731384,4.977446,6.4954,-0.5947494,0.7441527,10.76384],\"y\":[149.922979,140.8923356,139.7536376,142.3992175,148.7100133,144.0812844,136.2810578,135.6421414,129.7407148,139.1805794,132.3293989,131.1800298,136.4680276,135.4419983,141.6323199,138.5854925,139.9950704,134.702649,143.2286398,144.5117223,141.452916,149.7437673,135.7886081,129.4302928,148.8980511,147.9375081,145.0488265,142.5344245,130.5650093,144.4892955,129.9263817,155.2269872,150.6443552,147.5998112,141.5735606,150.2932019,152.1576349,154.1487041,153.6091877,147.2670105,149.7175643,147.3293567,135.0927363,148.6259799,149.9409567,152.3785745,140.2430958,137.6704921,146.9438328,139.1557724,155.6000522,136.0357043,135.9078147,153.7533924,145.4021884,143.7813359,147.1316737,145.8027457,153.0952278,150.7908792,145.2685239,148.0454856,149.7903661,142.6129877,146.2552103,155.5919847,145.62263,156.6022742,144.1373566,145.0063692,143.8484455,147.3931012,145.8831472,145.93957,152.8066188,151.5756583,142.7316,144.0902,144.2674,151.1958,154.9172,77.24231806,47.77308082,80.59336367,85.34171829,77.67130238,93.44422701,75.15095502,84.74432859,48.83765152,8.847342542,81.53936933,93.58312933,10.01766072,91.84376152,42.19041075,108.5148826,108.981916,109.694083,108.8521612,120.7187843,125.3305517,115.1939071,106.5826182,121.755362,101.7534391,125.466655,100.3982661,106.7018923,96.49986281,98.73511212,89.51142653,113.1713044,89.0582687,106.5429704,114.229152,100.5875039,105.5024725,99.48536037,106.6407206,126.8679454,110.2547015,98.33835579,104.6993637,97.60567565,93.7002,127.6360481,122.5399796,125.0750803,118.7230411,121.042114,103.9891685,127.3303587,118.2129548,119.4623426,115.7525987,121.7202521,130.2994724,132.7106863,104.4493693,109.4680707,106.6778969,118.0804011,137.7772238,13.84812451,23.59549,19.41666948,20.2928445,17.47972819,42.3682832,42.51463825,42.88988038,24.66935949,49.72451276,36.45218043,35.58692832,21.8502846,18.82510326,28.81178949,42.1022018,17.48616727,20.80237814,58.89740588,14.20317371,22.22068,25.53155401,24.44928234,12.85137943,23.16962608,22.97693067,25.36297713,29.02559614,19.1406085,61.68461228,11.650616,13.90776621,8.8733685,71.74829257,55.70627325,56.03150514,48.56813041,61.57301977,57.84716161,67.80925329,65.25714533,41.22527541,64.40213029,60.16771829,66.92785654,57.54668876,71.44016667,62.58893516,68.59563745,58.323828,68.91248914,71.11121482,66.127156,52.36532967,73.77888096,59.32604853,55.29820971,82.34198555,55.6569646,74.59968095,65.47596052,69.250824,49.02283551,69.08989467,74.69281,48.92443522,76.19336305,83.24034333,87.892008,39.65303157,45.25440052,77.17356441,75.07819673,59.06835467,102.4166,114.1493,79.1111,90.52876,117.4572,115.6314,48.97327,47.47685,96.35453,102.9989,118.7173,29.95776,27.5647,35.09439,34.83842,59.60334,88.6517,108.166,113.5192,111.9637,29.81993,40.31217,37.20119,45.13377,92.8805,106.3545,44.20835,47.9617,87.14212,85.94105,30.70597],\"type\":\"scatter\"},{\"marker\":{\"color\":\"black\"},\"x\":[-4.352596,-6.727108153121151],\"y\":[-25.27437571,2.6713796071534985],\"type\":\"scatter\"},{\"marker\":{\"color\":\"black\"},\"x\":[15.04316711,-6.727108153121151],\"y\":[-16.67449933,2.6713796071534985],\"type\":\"scatter\"},{\"marker\":{\"color\":\"black\"},\"x\":[-15.12792573,-6.727108153121151],\"y\":[-26.16056076,2.6713796071534985],\"type\":\"scatter\"},{\"marker\":{\"color\":\"black\"},\"x\":[-16.94963143],\"y\":[71.74829257],\"type\":\"scatter\"}],                        {\"template\":{\"data\":{\"histogram2dcontour\":[{\"type\":\"histogram2dcontour\",\"colorbar\":{\"outlinewidth\":0,\"ticks\":\"\"},\"colorscale\":[[0.0,\"#0d0887\"],[0.1111111111111111,\"#46039f\"],[0.2222222222222222,\"#7201a8\"],[0.3333333333333333,\"#9c179e\"],[0.4444444444444444,\"#bd3786\"],[0.5555555555555556,\"#d8576b\"],[0.6666666666666666,\"#ed7953\"],[0.7777777777777778,\"#fb9f3a\"],[0.8888888888888888,\"#fdca26\"],[1.0,\"#f0f921\"]]}],\"choropleth\":[{\"type\":\"choropleth\",\"colorbar\":{\"outlinewidth\":0,\"ticks\":\"\"}}],\"histogram2d\":[{\"type\":\"histogram2d\",\"colorbar\":{\"outlinewidth\":0,\"ticks\":\"\"},\"colorscale\":[[0.0,\"#0d0887\"],[0.1111111111111111,\"#46039f\"],[0.2222222222222222,\"#7201a8\"],[0.3333333333333333,\"#9c179e\"],[0.4444444444444444,\"#bd3786\"],[0.5555555555555556,\"#d8576b\"],[0.6666666666666666,\"#ed7953\"],[0.7777777777777778,\"#fb9f3a\"],[0.8888888888888888,\"#fdca26\"],[1.0,\"#f0f921\"]]}],\"heatmap\":[{\"type\":\"heatmap\",\"colorbar\":{\"outlinewidth\":0,\"ticks\":\"\"},\"colorscale\":[[0.0,\"#0d0887\"],[0.1111111111111111,\"#46039f\"],[0.2222222222222222,\"#7201a8\"],[0.3333333333333333,\"#9c179e\"],[0.4444444444444444,\"#bd3786\"],[0.5555555555555556,\"#d8576b\"],[0.6666666666666666,\"#ed7953\"],[0.7777777777777778,\"#fb9f3a\"],[0.8888888888888888,\"#fdca26\"],[1.0,\"#f0f921\"]]}],\"heatmapgl\":[{\"type\":\"heatmapgl\",\"colorbar\":{\"outlinewidth\":0,\"ticks\":\"\"},\"colorscale\":[[0.0,\"#0d0887\"],[0.1111111111111111,\"#46039f\"],[0.2222222222222222,\"#7201a8\"],[0.3333333333333333,\"#9c179e\"],[0.4444444444444444,\"#bd3786\"],[0.5555555555555556,\"#d8576b\"],[0.6666666666666666,\"#ed7953\"],[0.7777777777777778,\"#fb9f3a\"],[0.8888888888888888,\"#fdca26\"],[1.0,\"#f0f921\"]]}],\"contourcarpet\":[{\"type\":\"contourcarpet\",\"colorbar\":{\"outlinewidth\":0,\"ticks\":\"\"}}],\"contour\":[{\"type\":\"contour\",\"colorbar\":{\"outlinewidth\":0,\"ticks\":\"\"},\"colorscale\":[[0.0,\"#0d0887\"],[0.1111111111111111,\"#46039f\"],[0.2222222222222222,\"#7201a8\"],[0.3333333333333333,\"#9c179e\"],[0.4444444444444444,\"#bd3786\"],[0.5555555555555556,\"#d8576b\"],[0.6666666666666666,\"#ed7953\"],[0.7777777777777778,\"#fb9f3a\"],[0.8888888888888888,\"#fdca26\"],[1.0,\"#f0f921\"]]}],\"surface\":[{\"type\":\"surface\",\"colorbar\":{\"outlinewidth\":0,\"ticks\":\"\"},\"colorscale\":[[0.0,\"#0d0887\"],[0.1111111111111111,\"#46039f\"],[0.2222222222222222,\"#7201a8\"],[0.3333333333333333,\"#9c179e\"],[0.4444444444444444,\"#bd3786\"],[0.5555555555555556,\"#d8576b\"],[0.6666666666666666,\"#ed7953\"],[0.7777777777777778,\"#fb9f3a\"],[0.8888888888888888,\"#fdca26\"],[1.0,\"#f0f921\"]]}],\"mesh3d\":[{\"type\":\"mesh3d\",\"colorbar\":{\"outlinewidth\":0,\"ticks\":\"\"}}],\"scatter\":[{\"fillpattern\":{\"fillmode\":\"overlay\",\"size\":10,\"solidity\":0.2},\"type\":\"scatter\"}],\"parcoords\":[{\"type\":\"parcoords\",\"line\":{\"colorbar\":{\"outlinewidth\":0,\"ticks\":\"\"}}}],\"scatterpolargl\":[{\"type\":\"scatterpolargl\",\"marker\":{\"colorbar\":{\"outlinewidth\":0,\"ticks\":\"\"}}}],\"bar\":[{\"error_x\":{\"color\":\"#2a3f5f\"},\"error_y\":{\"color\":\"#2a3f5f\"},\"marker\":{\"line\":{\"color\":\"#E5ECF6\",\"width\":0.5},\"pattern\":{\"fillmode\":\"overlay\",\"size\":10,\"solidity\":0.2}},\"type\":\"bar\"}],\"scattergeo\":[{\"type\":\"scattergeo\",\"marker\":{\"colorbar\":{\"outlinewidth\":0,\"ticks\":\"\"}}}],\"scatterpolar\":[{\"type\":\"scatterpolar\",\"marker\":{\"colorbar\":{\"outlinewidth\":0,\"ticks\":\"\"}}}],\"histogram\":[{\"marker\":{\"pattern\":{\"fillmode\":\"overlay\",\"size\":10,\"solidity\":0.2}},\"type\":\"histogram\"}],\"scattergl\":[{\"type\":\"scattergl\",\"marker\":{\"colorbar\":{\"outlinewidth\":0,\"ticks\":\"\"}}}],\"scatter3d\":[{\"type\":\"scatter3d\",\"line\":{\"colorbar\":{\"outlinewidth\":0,\"ticks\":\"\"}},\"marker\":{\"colorbar\":{\"outlinewidth\":0,\"ticks\":\"\"}}}],\"scattermapbox\":[{\"type\":\"scattermapbox\",\"marker\":{\"colorbar\":{\"outlinewidth\":0,\"ticks\":\"\"}}}],\"scatterternary\":[{\"type\":\"scatterternary\",\"marker\":{\"colorbar\":{\"outlinewidth\":0,\"ticks\":\"\"}}}],\"scattercarpet\":[{\"type\":\"scattercarpet\",\"marker\":{\"colorbar\":{\"outlinewidth\":0,\"ticks\":\"\"}}}],\"carpet\":[{\"aaxis\":{\"endlinecolor\":\"#2a3f5f\",\"gridcolor\":\"white\",\"linecolor\":\"white\",\"minorgridcolor\":\"white\",\"startlinecolor\":\"#2a3f5f\"},\"baxis\":{\"endlinecolor\":\"#2a3f5f\",\"gridcolor\":\"white\",\"linecolor\":\"white\",\"minorgridcolor\":\"white\",\"startlinecolor\":\"#2a3f5f\"},\"type\":\"carpet\"}],\"table\":[{\"cells\":{\"fill\":{\"color\":\"#EBF0F8\"},\"line\":{\"color\":\"white\"}},\"header\":{\"fill\":{\"color\":\"#C8D4E3\"},\"line\":{\"color\":\"white\"}},\"type\":\"table\"}],\"barpolar\":[{\"marker\":{\"line\":{\"color\":\"#E5ECF6\",\"width\":0.5},\"pattern\":{\"fillmode\":\"overlay\",\"size\":10,\"solidity\":0.2}},\"type\":\"barpolar\"}],\"pie\":[{\"automargin\":true,\"type\":\"pie\"}]},\"layout\":{\"autotypenumbers\":\"strict\",\"colorway\":[\"#636efa\",\"#EF553B\",\"#00cc96\",\"#ab63fa\",\"#FFA15A\",\"#19d3f3\",\"#FF6692\",\"#B6E880\",\"#FF97FF\",\"#FECB52\"],\"font\":{\"color\":\"#2a3f5f\"},\"hovermode\":\"closest\",\"hoverlabel\":{\"align\":\"left\"},\"paper_bgcolor\":\"white\",\"plot_bgcolor\":\"#E5ECF6\",\"polar\":{\"bgcolor\":\"#E5ECF6\",\"angularaxis\":{\"gridcolor\":\"white\",\"linecolor\":\"white\",\"ticks\":\"\"},\"radialaxis\":{\"gridcolor\":\"white\",\"linecolor\":\"white\",\"ticks\":\"\"}},\"ternary\":{\"bgcolor\":\"#E5ECF6\",\"aaxis\":{\"gridcolor\":\"white\",\"linecolor\":\"white\",\"ticks\":\"\"},\"baxis\":{\"gridcolor\":\"white\",\"linecolor\":\"white\",\"ticks\":\"\"},\"caxis\":{\"gridcolor\":\"white\",\"linecolor\":\"white\",\"ticks\":\"\"}},\"coloraxis\":{\"colorbar\":{\"outlinewidth\":0,\"ticks\":\"\"}},\"colorscale\":{\"sequential\":[[0.0,\"#0d0887\"],[0.1111111111111111,\"#46039f\"],[0.2222222222222222,\"#7201a8\"],[0.3333333333333333,\"#9c179e\"],[0.4444444444444444,\"#bd3786\"],[0.5555555555555556,\"#d8576b\"],[0.6666666666666666,\"#ed7953\"],[0.7777777777777778,\"#fb9f3a\"],[0.8888888888888888,\"#fdca26\"],[1.0,\"#f0f921\"]],\"sequentialminus\":[[0.0,\"#0d0887\"],[0.1111111111111111,\"#46039f\"],[0.2222222222222222,\"#7201a8\"],[0.3333333333333333,\"#9c179e\"],[0.4444444444444444,\"#bd3786\"],[0.5555555555555556,\"#d8576b\"],[0.6666666666666666,\"#ed7953\"],[0.7777777777777778,\"#fb9f3a\"],[0.8888888888888888,\"#fdca26\"],[1.0,\"#f0f921\"]],\"diverging\":[[0,\"#8e0152\"],[0.1,\"#c51b7d\"],[0.2,\"#de77ae\"],[0.3,\"#f1b6da\"],[0.4,\"#fde0ef\"],[0.5,\"#f7f7f7\"],[0.6,\"#e6f5d0\"],[0.7,\"#b8e186\"],[0.8,\"#7fbc41\"],[0.9,\"#4d9221\"],[1,\"#276419\"]]},\"xaxis\":{\"gridcolor\":\"white\",\"linecolor\":\"white\",\"ticks\":\"\",\"title\":{\"standoff\":15},\"zerolinecolor\":\"white\",\"automargin\":true,\"zerolinewidth\":2},\"yaxis\":{\"gridcolor\":\"white\",\"linecolor\":\"white\",\"ticks\":\"\",\"title\":{\"standoff\":15},\"zerolinecolor\":\"white\",\"automargin\":true,\"zerolinewidth\":2},\"scene\":{\"xaxis\":{\"backgroundcolor\":\"#E5ECF6\",\"gridcolor\":\"white\",\"linecolor\":\"white\",\"showbackground\":true,\"ticks\":\"\",\"zerolinecolor\":\"white\",\"gridwidth\":2},\"yaxis\":{\"backgroundcolor\":\"#E5ECF6\",\"gridcolor\":\"white\",\"linecolor\":\"white\",\"showbackground\":true,\"ticks\":\"\",\"zerolinecolor\":\"white\",\"gridwidth\":2},\"zaxis\":{\"backgroundcolor\":\"#E5ECF6\",\"gridcolor\":\"white\",\"linecolor\":\"white\",\"showbackground\":true,\"ticks\":\"\",\"zerolinecolor\":\"white\",\"gridwidth\":2}},\"shapedefaults\":{\"line\":{\"color\":\"#2a3f5f\"}},\"annotationdefaults\":{\"arrowcolor\":\"#2a3f5f\",\"arrowhead\":0,\"arrowwidth\":1},\"geo\":{\"bgcolor\":\"white\",\"landcolor\":\"#E5ECF6\",\"subunitcolor\":\"white\",\"showland\":true,\"showlakes\":true,\"lakecolor\":\"white\"},\"title\":{\"x\":0.05},\"mapbox\":{\"style\":\"light\"}}},\"title\":{\"text\":\"model0\"},\"width\":1200,\"height\":800},                        {\"responsive\": true}                    ).then(function(){\n",
       "                            \n",
       "var gd = document.getElementById('51725919-c7bb-4d53-af28-43fc6b5f7686');\n",
       "var x = new MutationObserver(function (mutations, observer) {{\n",
       "        var display = window.getComputedStyle(gd).display;\n",
       "        if (!display || display === 'none') {{\n",
       "            console.log([gd, 'removed!']);\n",
       "            Plotly.purge(gd);\n",
       "            observer.disconnect();\n",
       "        }}\n",
       "}});\n",
       "\n",
       "// Listen for the removal of the full notebook cells\n",
       "var notebookContainer = gd.closest('#notebook-container');\n",
       "if (notebookContainer) {{\n",
       "    x.observe(notebookContainer, {childList: true});\n",
       "}}\n",
       "\n",
       "// Listen for the clearing of the current output cell\n",
       "var outputEl = gd.closest('.output');\n",
       "if (outputEl) {{\n",
       "    x.observe(outputEl, {childList: true});\n",
       "}}\n",
       "\n",
       "                        })                };                });            </script>        </div>"
      ]
     },
     "metadata": {},
     "output_type": "display_data"
    },
    {
     "data": {
      "text/html": [
       "        <script type=\"text/javascript\">\n",
       "        window.PlotlyConfig = {MathJaxConfig: 'local'};\n",
       "        if (window.MathJax && window.MathJax.Hub && window.MathJax.Hub.Config) {window.MathJax.Hub.Config({SVG: {font: \"STIX-Web\"}});}\n",
       "        if (typeof require !== 'undefined') {\n",
       "        require.undef(\"plotly\");\n",
       "        requirejs.config({\n",
       "            paths: {\n",
       "                'plotly': ['https://cdn.plot.ly/plotly-2.18.2.min']\n",
       "            }\n",
       "        });\n",
       "        require(['plotly'], function(Plotly) {\n",
       "            window._Plotly = Plotly;\n",
       "        });\n",
       "        }\n",
       "        </script>\n",
       "        "
      ]
     },
     "metadata": {},
     "output_type": "display_data"
    },
    {
     "data": {
      "text/html": [
       "<div>                            <div id=\"c50b3d07-6d79-4fcf-ba66-dd8cfd6acfbd\" class=\"plotly-graph-div\" style=\"height:800px; width:1200px;\"></div>            <script type=\"text/javascript\">                require([\"plotly\"], function(Plotly) {                    window.PLOTLYENV=window.PLOTLYENV || {};                                    if (document.getElementById(\"c50b3d07-6d79-4fcf-ba66-dd8cfd6acfbd\")) {                    Plotly.newPlot(                        \"c50b3d07-6d79-4fcf-ba66-dd8cfd6acfbd\",                        [{\"marker\":{\"color\":\"black\"},\"x\":[-22.809794172088516,-93.90127238],\"y\":[-5.018566541428784,85.11919619],\"type\":\"scatter\"},{\"marker\":{\"color\":\"red\"},\"mode\":\"markers\",\"name\":\"Trees covered by line 0\",\"x\":[-83.48467459,-88.19360784,-77.38716,-93.90127238,-97.02245733,-102.7610669,-106.9293573,-107.9110969,-110.3984335,-106.0132132,-96.73072895,-96.22606223,-98.31843957,-115.0619992,-108.786355,-114.5846122,-110.2887047,-103.1629812,-95.55933733,-74.37847497,-74.12546686,-83.96798843,-105.839508,-107.0136188,-89.62130667,-83.3753646,-102.8911694,-82.7508461,-78.26144619,-74.66894341,-85.630951,-104.5151239,-90.57745961,-72.9690587,-79.21758645,-87.31261084,-95.6665854,-78.82330588,-70.18942466,-70.13604975,-69.11292673,-105.2474193,-111.0155589,-110.4334077,-109.0691822,-113.8496183,-115.6880358,-116.3580906,-114.450469,-72.28254052,-115.5839619,-20.01427656,-46.08530939,-39.1687174,-41.69020833,-20.15441667,-30.51452551,-65.84327489,-100.4964897,-87.83312994,-67.58248429,-113.9290292,-65.91586274,-66.154401,-61.06820181,-65.06967068,-64.15900983,-55.91586735,-61.14652818,-60.13371324,-64.44548,-64.87632182,-57.75133942,-51.72634937,-54.22529924,-56.03364748,-51.34979148,-57.75406087,-47.45566976,-54.71720264,-48.32035725,-48.23730243,-37.09976663,-37.47195419,-38.754948,-28.88421312,-45.03471145,-52.09936048,-30.53919388,-33.86425279,-42.03635682,-43.77058695,-48.38149441,-33.38285971,-45.35963829,-20.31095449,-30.12933628,-38.2757944,-37.18284862,-26.71358941,-32.49283298,-29.93719601,-24.30442355,-43.69364112,-36.96231791,-29.73887306,-38.04231305,-26.46417652,-25.02255191,-22.40626011,-29.84199559,-34.43580671,-24.7515566,-38.15196,-29.1106237,-43.13583476,-43.45710629,-17.46835571,-28.66212267,-26.34495444,-28.271429,-26.86485143,-28.02366579,-22.25938746,-23.30889411,-22.14285214,-19.53772261,-28.05956057,-21.99539808,-18.51068583,-21.1580461,-22.93293569,-23.63868957,-21.46493537,-24.29473288,-22.44136039,-20.74738784,-21.35527254,-14.66676903,-16.46067657,-120.5061,-118.8128,-108.5675,-103.0634,-103.6738,-95.93813,-74.75674,-80.30925,-77.59206,-76.80447,-72.7287,-65.68216,-57.6796,-50.2108,-46.54851,-46.70603,-35.52464,-14.96348,-68.21670068,-42.19841593,-35.66054857,-63.811228,-12.39504358,-84.08833116,-43.45665946,-29.52118366,-25.82151267,-35.64954472,-75.60631589,-63.83902737,-62.80450732,-47.87548267,-45.04949761,-92.01265714,-68.96079619,-93.82751185,-83.54479257,-72.90408841,-78.19297493,-54.49800107,-82.38238939,-63.16261606,-43.49902229,-34.33894197,-68.69947,-42.88247,-42.96844683,-42.88422773,-48.14191589,-77.894284,-34.36197702,-27.440446,-71.4853691,-72.662565,-54.42445327,-47.48895232,-17.82092298,-89.07298,-40.01723757,-70.08661831,-41.45272492,-88.87189632,-89.04238067,-65.83894297,-72.31511771,-37.40364779,-95.9302225,-47.03967,-81.16040829,-85.85650115,-44.76037486,-14.75707055,-56.52763129,-94.4786539,-96.535378,-27.90749342,-63.75294362,-5.417156102,-4.340797395,-63.91497622,-67.73621776,-63.74153257,-69.36194202,-42.45386268,-71.06100708,-80.33854904,-16.80794933,-77.01644229,-8.689096627,-95.71312916,-89.78213333,-55.73910528,-55.97405282,-14.61508286,-4.7308435,-46.56984086,-46.3035472,-58.99396885,-53.95952592,-101.3700811,-92.95359395,-100.9940699,-61.57447094,-1.514686918,-4.932367447,-10.04503957,-16.71623767,-28.12296714,-5.661616259,-7.976111714,-14.30092727,-11.09186833,-0.970214667,-1.101420381,0.959775614,-16.73522379,-14.70918078,-31.63498,-3.684222609,-41.02201027,-45.75961067,-18.81114101,-16.42554125,-7.013041031,-9.316790811,-10.57044051,-33.41519219,-5.883315789,-31.05259335,-38.6765687,-3.428835238,-19.78574851,-17.27104514,-21.01267307,-17.9089861,-26.4252543,-35.86348262,-9.506584667,-29.62011305,-31.62244894,-31.45910438,-26.01718061,-25.5937586,-18.45054018,-80.0400875,-100.793763,-100.3478996,-99.5811527,-98.615002,-101.2184867,-96.69549867,-98.09441245,-41.16064667,-39.73316282,-39.92093491,-13.09188479,-11.34937437,-4.71877549,7.004541667,-60.4958655,5.493851429,-4.330929125,-1.646586857,-18.9630296,-18.65162734,-28.2617947,-15.47295086,-30.87206137,-25.73708667,-17.78911115,-25.69500145,-6.690598095,-19.67749185,-25.02978597,-23.84008161,-22.30652,-31.39633886,-30.33386573,-28.67903971,-35.14537733,-11.059135,-15.14474109,-4.101818305,-9.93666867,-13.69800957,-18.06885752,-9.295090672,-14.65210971,-8.603829565,-12.23518208,-2.883395794,3.084357143,-13.38512882,-5.484164,0.321903298,-4.673825497,-15.91308293,-7.36146924,-11.601952,-8.913310306,-42.05272394,-58.95692088,-2.147337167,-61.24894305,-66.530239,-69.40538898,-16.94963143,-20.20948667,-20.23025629,-27.78574676,-24.44786368,-28.94543143,-33.67924298,-38.86416389,-39.8912642,-42.67860149,-38.89644161,-41.55115797,-31.56738227,-41.41965835,-30.05668667,-25.99110432,-38.77894034,-45.08971777,-62.3774501,-69.61408133,-37.35254208,-65.64535138,-47.08279067,-47.94450819,-66.57174552,-57.6806725,-56.70006471,-57.59924854,2.141117714,0.553883429,1.217273145,9.156768,3.921010667,7.098754534,7.479731412,6.139525143,-1.028744857,1.129600536,-4.479498667,11.01780383,-4.786697799,-7.099081333,-2.900987238,5.259022129,-8.28776323,-15.16253286,-50.10485046,-43.84057345,-20.38245718,-28.993184,-74.27956334,-57.05613672,-58.99463714,-73.64038121,-52.66540533,-46.96401457,-52.17798164,-42.38344933,-44.55701509,-35.61926952,-59.8437761,-66.00952476,-45.20257457,2.272871159,-24.92097067,-60.93192832,-61.66114429,-52.02315851,-45.41482262,-65.8870821,-59.03737455,-49.13330237,-29.944999,-39.03887005,-59.16029652,-44.91329837,-52.04638421,-52.68046227,-34.06315703,-51.23299876,-81.48674652,-60.82878325,-27.75257914,-40.615716,-46.21868933,-32.25445304,-34.85075714,-42.86287625,-58.14497146,-28.70804743,-29.96957619,-51.18539067,-43.79230016,-64.271412,-50.13028007,-45.99883432,-38.25214,-29.001412,-24.53690497,-28.56954773,-25.21215064,-51.51983649,-64.747095,-50.43153156,-70.83656933,-45.95279935,-36.77754178,-36.97431304,-52.15906782,-25.4799278,-8.609093084,-26.32428857,-84.14636,-82.96498,-82.80746,-79.246,-68.08431,-62.64994,-69.79732,-66.13502,-57.8296,-54.713,-57.2062,-58.2843,-59.36414,-61.23467,-60.05328,-43.494,-46.27285,-42.61056,-41.68514,-49.73825,-46.33192,-43.94946,-42.39397,-31.387,-32.66963,-39.20662,-37.06044,-32.64994,-39.36414,-33.3677,-26.57804,-26.77494,-27.56253,-22.71885,-29.49212,-25.41635,-25.4618,-22.26599,-19.31492,-11.9568,-16.12518,-15.98735,-11.77375,-11.2045,-18.36981,-17.73974,-14.90442,-9.314916,-8.094153,-10.456921,-1.222434,-6.1945,-5.731384,4.977446,6.4954,-0.5947494,0.7441527,10.76384],\"y\":[95.86970097,98.34736686,105.531576,85.11919619,88.54954267,77.77472,80.351252,82.70909714,75.82409401,89.40781657,98.53306229,100.1307978,100.5692092,85.04506755,77.02719052,82.96372814,86.10765266,85.29616635,104.3161573,104.4872907,104.5034411,102.8353679,86.49467744,95.28771062,107.525112,106.9914629,86.20745338,115.3560539,109.285201,120.7985667,113.1640033,87.68086518,107.7242429,113.7228677,104.8973871,111.5093353,102.4783549,117.612602,120.3503284,119.873547,121.5114816,97.1181028,90.92524233,96.00547745,82.99614333,87.2107575,80.37969702,88.860498,91.64478486,123.1188927,78.43012638,149.922979,140.8923356,139.7536376,142.3992175,148.7100133,144.0812844,113.24662,96.3416446,111.5008781,122.3045443,85.41514138,122.5960266,118.6669428,129.0447034,116.4094181,119.7839872,136.2810578,132.0985808,135.6421414,123.662627,130.8051815,129.7407148,139.1805794,132.3293989,131.1800298,136.4680276,135.4419983,141.6323199,138.5854925,139.9950704,134.702649,143.2286398,144.5117223,141.452916,149.7437673,135.7886081,129.4302928,148.8980511,147.9375081,145.0488265,142.5344245,130.5650093,144.4892955,129.9263817,155.2269872,150.6443552,147.5998112,141.5735606,150.2932019,152.1576349,154.1487041,153.6091877,147.2670105,149.7175643,147.3293567,135.0927363,148.6259799,149.9409567,152.3785745,140.2430958,137.6704921,146.9438328,139.1557724,155.6000522,136.0357043,135.9078147,153.7533924,145.4021884,143.7813359,147.1316737,145.8027457,153.0952278,150.7908792,145.2685239,148.0454856,149.7903661,142.6129877,146.2552103,155.5919847,145.62263,156.6022742,144.1373566,145.0063692,143.8484455,147.3931012,145.8831472,145.93957,152.8066188,151.5756583,83.28294,80.60513,85.8628,81.09737,101.2746,90.31217,104.7006,118.481,119.4655,121.629,126.0789,119.9184,127.0673,142.7316,144.0902,144.2674,151.1958,154.9172,61.39562391,22.29488814,48.78942838,60.68509933,77.24231806,62.67181938,45.96339541,47.77308082,80.59336367,62.20546824,72.66518112,71.132852,3.661438659,12.41163467,40.88877161,49.73902457,74.36834876,58.72901398,57.81202571,73.25266903,43.280443,76.57974267,59.70660391,14.21862546,83.77907886,53.87249423,11.68062366,79.38806,79.17753615,79.5017264,90.12105144,52.61685171,51.01104351,85.34171829,13.69239645,9.753753333,73.38996884,80.04219899,77.67130238,50.99806667,54.851973,10.52799649,93.44422701,60.67692382,71.26314307,81.18862365,83.26069743,75.15095502,52.33538372,92.620915,79.16582743,75.32552365,84.80327676,84.74432859,69.05706172,71.09835181,57.0680368,48.83765152,16.11237048,8.847342542,81.53936933,67.20044389,85.21727234,71.50158228,85.35868131,73.7884278,90.40291679,84.43096494,93.58312933,87.13747124,10.01766072,59.49331107,75.87889667,82.93201083,82.95283865,91.84376152,42.19041075,108.5148826,108.981916,52.62083967,106.6657674,61.58523686,65.33045471,58.10407029,81.48780766,109.694083,108.8521612,120.7187843,125.3305517,115.1939071,106.5826182,121.755362,101.7534391,125.466655,100.3982661,106.7018923,96.49986281,98.73511212,89.51142653,113.1713044,89.0582687,106.5429704,114.229152,100.5875039,105.5024725,99.48536037,106.6407206,126.8679454,110.2547015,98.33835579,104.6993637,97.60567565,93.7002,127.6360481,122.5399796,125.0750803,118.7230411,121.042114,103.9891685,127.3303587,118.2129548,119.4623426,115.7525987,121.7202521,130.2994724,132.7106863,84.73800696,57.17725771,63.67441974,64.05568506,64.13211571,63.57803857,65.44717238,64.92266082,104.4493693,109.4680707,106.6778969,118.0804011,137.7772238,13.84812451,23.59549,102.2441972,19.41666948,20.2928445,17.47972819,42.3682832,42.51463825,15.70429784,42.88988038,8.485619598,10.44674038,24.66935949,16.54076148,49.72451276,36.45218043,26.59853797,35.58692832,12.12235333,5.626359429,2.907323459,3.598538571,12.83804781,21.8502846,18.82510326,28.81178949,42.1022018,17.48616727,20.80237814,58.89740588,14.20317371,22.22068,25.53155401,24.44928234,12.85137943,23.16962608,22.97693067,25.36297713,29.02559614,19.1406085,61.68461228,11.650616,13.90776621,-0.318944394,4.96812146,8.8733685,7.909944762,7.427147,10.34906898,71.74829257,55.70627325,56.03150514,48.56813041,61.57301977,57.84716161,67.80925329,62.46519968,55.19798306,59.14324874,37.17328227,38.8420729,17.63833001,28.17128838,65.25714533,41.22527541,66.29875835,30.01578138,47.315436,48.07348533,30.81641938,21.16043231,22.12641333,25.21787333,47.204756,57.81795917,39.27407121,22.61315719,64.40213029,60.16771829,66.92785654,57.54668876,71.44016667,62.58893516,68.59563745,58.323828,68.91248914,71.11121482,66.127156,52.36532967,73.77888096,59.32604853,55.29820971,82.34198555,55.6569646,74.59968095,1.511377768,3.091691893,65.47596052,69.250824,41.73161398,32.56169672,52.14452743,33.91353359,8.185796,6.821372,4.378941281,56.49411867,68.98637917,56.00777619,65.59072248,23.30821952,9.288627714,49.02283551,69.08989467,79.11159821,78.64611429,34.43051143,13.76034762,16.91638248,23.515587,38.52826698,74.69281,3.565993622,31.27495377,-0.132877354,85.52256734,84.56854314,42.74553598,57.79036526,49.11636996,38.27663021,48.92443522,49.63081867,56.45468667,37.90019062,31.54198771,36.31789783,44.69947795,76.19336305,83.24034333,56.80349467,19.18281558,52.23652133,45.7442706,51.07242743,45.15325,87.892008,39.65303157,40.1044632,45.25440052,66.06245366,41.633555,32.90602742,38.04694933,19.65958551,19.00586822,38.85725913,38.50238222,77.17356441,75.07819673,59.06835467,37.92971,36.92554,33.89332,30.50907,40.82172,57.39809,85.42912,87.31933,0.1746,0.7044,6.7719,16.481,29.308,38.36289,99.13079,-2.3416,50.93986,79.34737,84.44463,86.92554,96.76802,102.4166,114.1493,26.5007,29.44582,37.47685,79.1111,90.52876,117.4572,115.6314,-0.1603819,31.64869,37.92971,48.97327,47.47685,96.35453,102.9989,118.7173,29.95776,27.5647,35.09439,34.83842,59.60334,88.6517,108.166,113.5192,111.9637,29.81993,40.31217,37.20119,45.13377,92.8805,106.3545,44.20835,47.9617,87.14212,85.94105,30.70597],\"type\":\"scatter\"},{\"marker\":{\"color\":\"black\"},\"x\":[-4.352596,-22.809794172088516],\"y\":[-25.27437571,-5.018566541428784],\"type\":\"scatter\"},{\"marker\":{\"color\":\"black\"},\"x\":[15.04316711,-22.809794172088516],\"y\":[-16.67449933,-5.018566541428784],\"type\":\"scatter\"},{\"marker\":{\"color\":\"black\"},\"x\":[-17.93511505,-22.809794172088516],\"y\":[-26.03976419,-5.018566541428784],\"type\":\"scatter\"},{\"marker\":{\"color\":\"black\"},\"x\":[-62.3774501],\"y\":[47.315436],\"type\":\"scatter\"}],                        {\"template\":{\"data\":{\"histogram2dcontour\":[{\"type\":\"histogram2dcontour\",\"colorbar\":{\"outlinewidth\":0,\"ticks\":\"\"},\"colorscale\":[[0.0,\"#0d0887\"],[0.1111111111111111,\"#46039f\"],[0.2222222222222222,\"#7201a8\"],[0.3333333333333333,\"#9c179e\"],[0.4444444444444444,\"#bd3786\"],[0.5555555555555556,\"#d8576b\"],[0.6666666666666666,\"#ed7953\"],[0.7777777777777778,\"#fb9f3a\"],[0.8888888888888888,\"#fdca26\"],[1.0,\"#f0f921\"]]}],\"choropleth\":[{\"type\":\"choropleth\",\"colorbar\":{\"outlinewidth\":0,\"ticks\":\"\"}}],\"histogram2d\":[{\"type\":\"histogram2d\",\"colorbar\":{\"outlinewidth\":0,\"ticks\":\"\"},\"colorscale\":[[0.0,\"#0d0887\"],[0.1111111111111111,\"#46039f\"],[0.2222222222222222,\"#7201a8\"],[0.3333333333333333,\"#9c179e\"],[0.4444444444444444,\"#bd3786\"],[0.5555555555555556,\"#d8576b\"],[0.6666666666666666,\"#ed7953\"],[0.7777777777777778,\"#fb9f3a\"],[0.8888888888888888,\"#fdca26\"],[1.0,\"#f0f921\"]]}],\"heatmap\":[{\"type\":\"heatmap\",\"colorbar\":{\"outlinewidth\":0,\"ticks\":\"\"},\"colorscale\":[[0.0,\"#0d0887\"],[0.1111111111111111,\"#46039f\"],[0.2222222222222222,\"#7201a8\"],[0.3333333333333333,\"#9c179e\"],[0.4444444444444444,\"#bd3786\"],[0.5555555555555556,\"#d8576b\"],[0.6666666666666666,\"#ed7953\"],[0.7777777777777778,\"#fb9f3a\"],[0.8888888888888888,\"#fdca26\"],[1.0,\"#f0f921\"]]}],\"heatmapgl\":[{\"type\":\"heatmapgl\",\"colorbar\":{\"outlinewidth\":0,\"ticks\":\"\"},\"colorscale\":[[0.0,\"#0d0887\"],[0.1111111111111111,\"#46039f\"],[0.2222222222222222,\"#7201a8\"],[0.3333333333333333,\"#9c179e\"],[0.4444444444444444,\"#bd3786\"],[0.5555555555555556,\"#d8576b\"],[0.6666666666666666,\"#ed7953\"],[0.7777777777777778,\"#fb9f3a\"],[0.8888888888888888,\"#fdca26\"],[1.0,\"#f0f921\"]]}],\"contourcarpet\":[{\"type\":\"contourcarpet\",\"colorbar\":{\"outlinewidth\":0,\"ticks\":\"\"}}],\"contour\":[{\"type\":\"contour\",\"colorbar\":{\"outlinewidth\":0,\"ticks\":\"\"},\"colorscale\":[[0.0,\"#0d0887\"],[0.1111111111111111,\"#46039f\"],[0.2222222222222222,\"#7201a8\"],[0.3333333333333333,\"#9c179e\"],[0.4444444444444444,\"#bd3786\"],[0.5555555555555556,\"#d8576b\"],[0.6666666666666666,\"#ed7953\"],[0.7777777777777778,\"#fb9f3a\"],[0.8888888888888888,\"#fdca26\"],[1.0,\"#f0f921\"]]}],\"surface\":[{\"type\":\"surface\",\"colorbar\":{\"outlinewidth\":0,\"ticks\":\"\"},\"colorscale\":[[0.0,\"#0d0887\"],[0.1111111111111111,\"#46039f\"],[0.2222222222222222,\"#7201a8\"],[0.3333333333333333,\"#9c179e\"],[0.4444444444444444,\"#bd3786\"],[0.5555555555555556,\"#d8576b\"],[0.6666666666666666,\"#ed7953\"],[0.7777777777777778,\"#fb9f3a\"],[0.8888888888888888,\"#fdca26\"],[1.0,\"#f0f921\"]]}],\"mesh3d\":[{\"type\":\"mesh3d\",\"colorbar\":{\"outlinewidth\":0,\"ticks\":\"\"}}],\"scatter\":[{\"fillpattern\":{\"fillmode\":\"overlay\",\"size\":10,\"solidity\":0.2},\"type\":\"scatter\"}],\"parcoords\":[{\"type\":\"parcoords\",\"line\":{\"colorbar\":{\"outlinewidth\":0,\"ticks\":\"\"}}}],\"scatterpolargl\":[{\"type\":\"scatterpolargl\",\"marker\":{\"colorbar\":{\"outlinewidth\":0,\"ticks\":\"\"}}}],\"bar\":[{\"error_x\":{\"color\":\"#2a3f5f\"},\"error_y\":{\"color\":\"#2a3f5f\"},\"marker\":{\"line\":{\"color\":\"#E5ECF6\",\"width\":0.5},\"pattern\":{\"fillmode\":\"overlay\",\"size\":10,\"solidity\":0.2}},\"type\":\"bar\"}],\"scattergeo\":[{\"type\":\"scattergeo\",\"marker\":{\"colorbar\":{\"outlinewidth\":0,\"ticks\":\"\"}}}],\"scatterpolar\":[{\"type\":\"scatterpolar\",\"marker\":{\"colorbar\":{\"outlinewidth\":0,\"ticks\":\"\"}}}],\"histogram\":[{\"marker\":{\"pattern\":{\"fillmode\":\"overlay\",\"size\":10,\"solidity\":0.2}},\"type\":\"histogram\"}],\"scattergl\":[{\"type\":\"scattergl\",\"marker\":{\"colorbar\":{\"outlinewidth\":0,\"ticks\":\"\"}}}],\"scatter3d\":[{\"type\":\"scatter3d\",\"line\":{\"colorbar\":{\"outlinewidth\":0,\"ticks\":\"\"}},\"marker\":{\"colorbar\":{\"outlinewidth\":0,\"ticks\":\"\"}}}],\"scattermapbox\":[{\"type\":\"scattermapbox\",\"marker\":{\"colorbar\":{\"outlinewidth\":0,\"ticks\":\"\"}}}],\"scatterternary\":[{\"type\":\"scatterternary\",\"marker\":{\"colorbar\":{\"outlinewidth\":0,\"ticks\":\"\"}}}],\"scattercarpet\":[{\"type\":\"scattercarpet\",\"marker\":{\"colorbar\":{\"outlinewidth\":0,\"ticks\":\"\"}}}],\"carpet\":[{\"aaxis\":{\"endlinecolor\":\"#2a3f5f\",\"gridcolor\":\"white\",\"linecolor\":\"white\",\"minorgridcolor\":\"white\",\"startlinecolor\":\"#2a3f5f\"},\"baxis\":{\"endlinecolor\":\"#2a3f5f\",\"gridcolor\":\"white\",\"linecolor\":\"white\",\"minorgridcolor\":\"white\",\"startlinecolor\":\"#2a3f5f\"},\"type\":\"carpet\"}],\"table\":[{\"cells\":{\"fill\":{\"color\":\"#EBF0F8\"},\"line\":{\"color\":\"white\"}},\"header\":{\"fill\":{\"color\":\"#C8D4E3\"},\"line\":{\"color\":\"white\"}},\"type\":\"table\"}],\"barpolar\":[{\"marker\":{\"line\":{\"color\":\"#E5ECF6\",\"width\":0.5},\"pattern\":{\"fillmode\":\"overlay\",\"size\":10,\"solidity\":0.2}},\"type\":\"barpolar\"}],\"pie\":[{\"automargin\":true,\"type\":\"pie\"}]},\"layout\":{\"autotypenumbers\":\"strict\",\"colorway\":[\"#636efa\",\"#EF553B\",\"#00cc96\",\"#ab63fa\",\"#FFA15A\",\"#19d3f3\",\"#FF6692\",\"#B6E880\",\"#FF97FF\",\"#FECB52\"],\"font\":{\"color\":\"#2a3f5f\"},\"hovermode\":\"closest\",\"hoverlabel\":{\"align\":\"left\"},\"paper_bgcolor\":\"white\",\"plot_bgcolor\":\"#E5ECF6\",\"polar\":{\"bgcolor\":\"#E5ECF6\",\"angularaxis\":{\"gridcolor\":\"white\",\"linecolor\":\"white\",\"ticks\":\"\"},\"radialaxis\":{\"gridcolor\":\"white\",\"linecolor\":\"white\",\"ticks\":\"\"}},\"ternary\":{\"bgcolor\":\"#E5ECF6\",\"aaxis\":{\"gridcolor\":\"white\",\"linecolor\":\"white\",\"ticks\":\"\"},\"baxis\":{\"gridcolor\":\"white\",\"linecolor\":\"white\",\"ticks\":\"\"},\"caxis\":{\"gridcolor\":\"white\",\"linecolor\":\"white\",\"ticks\":\"\"}},\"coloraxis\":{\"colorbar\":{\"outlinewidth\":0,\"ticks\":\"\"}},\"colorscale\":{\"sequential\":[[0.0,\"#0d0887\"],[0.1111111111111111,\"#46039f\"],[0.2222222222222222,\"#7201a8\"],[0.3333333333333333,\"#9c179e\"],[0.4444444444444444,\"#bd3786\"],[0.5555555555555556,\"#d8576b\"],[0.6666666666666666,\"#ed7953\"],[0.7777777777777778,\"#fb9f3a\"],[0.8888888888888888,\"#fdca26\"],[1.0,\"#f0f921\"]],\"sequentialminus\":[[0.0,\"#0d0887\"],[0.1111111111111111,\"#46039f\"],[0.2222222222222222,\"#7201a8\"],[0.3333333333333333,\"#9c179e\"],[0.4444444444444444,\"#bd3786\"],[0.5555555555555556,\"#d8576b\"],[0.6666666666666666,\"#ed7953\"],[0.7777777777777778,\"#fb9f3a\"],[0.8888888888888888,\"#fdca26\"],[1.0,\"#f0f921\"]],\"diverging\":[[0,\"#8e0152\"],[0.1,\"#c51b7d\"],[0.2,\"#de77ae\"],[0.3,\"#f1b6da\"],[0.4,\"#fde0ef\"],[0.5,\"#f7f7f7\"],[0.6,\"#e6f5d0\"],[0.7,\"#b8e186\"],[0.8,\"#7fbc41\"],[0.9,\"#4d9221\"],[1,\"#276419\"]]},\"xaxis\":{\"gridcolor\":\"white\",\"linecolor\":\"white\",\"ticks\":\"\",\"title\":{\"standoff\":15},\"zerolinecolor\":\"white\",\"automargin\":true,\"zerolinewidth\":2},\"yaxis\":{\"gridcolor\":\"white\",\"linecolor\":\"white\",\"ticks\":\"\",\"title\":{\"standoff\":15},\"zerolinecolor\":\"white\",\"automargin\":true,\"zerolinewidth\":2},\"scene\":{\"xaxis\":{\"backgroundcolor\":\"#E5ECF6\",\"gridcolor\":\"white\",\"linecolor\":\"white\",\"showbackground\":true,\"ticks\":\"\",\"zerolinecolor\":\"white\",\"gridwidth\":2},\"yaxis\":{\"backgroundcolor\":\"#E5ECF6\",\"gridcolor\":\"white\",\"linecolor\":\"white\",\"showbackground\":true,\"ticks\":\"\",\"zerolinecolor\":\"white\",\"gridwidth\":2},\"zaxis\":{\"backgroundcolor\":\"#E5ECF6\",\"gridcolor\":\"white\",\"linecolor\":\"white\",\"showbackground\":true,\"ticks\":\"\",\"zerolinecolor\":\"white\",\"gridwidth\":2}},\"shapedefaults\":{\"line\":{\"color\":\"#2a3f5f\"}},\"annotationdefaults\":{\"arrowcolor\":\"#2a3f5f\",\"arrowhead\":0,\"arrowwidth\":1},\"geo\":{\"bgcolor\":\"white\",\"landcolor\":\"#E5ECF6\",\"subunitcolor\":\"white\",\"showland\":true,\"showlakes\":true,\"lakecolor\":\"white\"},\"title\":{\"x\":0.05},\"mapbox\":{\"style\":\"light\"}}},\"title\":{\"text\":\"model1\"},\"width\":1200,\"height\":800},                        {\"responsive\": true}                    ).then(function(){\n",
       "                            \n",
       "var gd = document.getElementById('c50b3d07-6d79-4fcf-ba66-dd8cfd6acfbd');\n",
       "var x = new MutationObserver(function (mutations, observer) {{\n",
       "        var display = window.getComputedStyle(gd).display;\n",
       "        if (!display || display === 'none') {{\n",
       "            console.log([gd, 'removed!']);\n",
       "            Plotly.purge(gd);\n",
       "            observer.disconnect();\n",
       "        }}\n",
       "}});\n",
       "\n",
       "// Listen for the removal of the full notebook cells\n",
       "var notebookContainer = gd.closest('#notebook-container');\n",
       "if (notebookContainer) {{\n",
       "    x.observe(notebookContainer, {childList: true});\n",
       "}}\n",
       "\n",
       "// Listen for the clearing of the current output cell\n",
       "var outputEl = gd.closest('.output');\n",
       "if (outputEl) {{\n",
       "    x.observe(outputEl, {childList: true});\n",
       "}}\n",
       "\n",
       "                        })                };                });            </script>        </div>"
      ]
     },
     "metadata": {},
     "output_type": "display_data"
    },
    {
     "data": {
      "text/html": [
       "        <script type=\"text/javascript\">\n",
       "        window.PlotlyConfig = {MathJaxConfig: 'local'};\n",
       "        if (window.MathJax && window.MathJax.Hub && window.MathJax.Hub.Config) {window.MathJax.Hub.Config({SVG: {font: \"STIX-Web\"}});}\n",
       "        if (typeof require !== 'undefined') {\n",
       "        require.undef(\"plotly\");\n",
       "        requirejs.config({\n",
       "            paths: {\n",
       "                'plotly': ['https://cdn.plot.ly/plotly-2.18.2.min']\n",
       "            }\n",
       "        });\n",
       "        require(['plotly'], function(Plotly) {\n",
       "            window._Plotly = Plotly;\n",
       "        });\n",
       "        }\n",
       "        </script>\n",
       "        "
      ]
     },
     "metadata": {},
     "output_type": "display_data"
    },
    {
     "data": {
      "text/html": [
       "<div>                            <div id=\"585950c9-32ff-47ea-8c2b-e67bb207391d\" class=\"plotly-graph-div\" style=\"height:800px; width:1200px;\"></div>            <script type=\"text/javascript\">                require([\"plotly\"], function(Plotly) {                    window.PLOTLYENV=window.PLOTLYENV || {};                                    if (document.getElementById(\"585950c9-32ff-47ea-8c2b-e67bb207391d\")) {                    Plotly.newPlot(                        \"585950c9-32ff-47ea-8c2b-e67bb207391d\",                        [{\"marker\":{\"color\":\"black\"},\"x\":[-16.110041481745412,-103.6738],\"y\":[-0.6747373047348364,101.2746],\"type\":\"scatter\"},{\"marker\":{\"color\":\"red\"},\"mode\":\"markers\",\"name\":\"Trees covered by line 0\",\"x\":[-83.48467459,-88.19360784,-77.38716,-93.90127238,-97.02245733,-102.7610669,-106.9293573,-107.9110969,-110.3984335,-106.0132132,-96.73072895,-96.22606223,-98.31843957,-115.0619992,-108.786355,-114.5846122,-110.2887047,-103.1629812,-95.55933733,-74.37847497,-74.12546686,-83.96798843,-105.839508,-107.0136188,-89.62130667,-83.3753646,-102.8911694,-82.7508461,-78.26144619,-74.66894341,-85.630951,-104.5151239,-90.57745961,-72.9690587,-79.21758645,-87.31261084,-95.6665854,-78.82330588,-70.18942466,-70.13604975,-69.11292673,-105.2474193,-111.0155589,-110.4334077,-109.0691822,-113.8496183,-115.6880358,-116.3580906,-114.450469,-72.28254052,-115.5839619,-20.01427656,-46.08530939,-39.1687174,-41.69020833,-20.15441667,-30.51452551,-65.84327489,-100.4964897,-87.83312994,-67.58248429,-113.9290292,-65.91586274,-66.154401,-61.06820181,-65.06967068,-64.15900983,-55.91586735,-61.14652818,-60.13371324,-64.44548,-64.87632182,-57.75133942,-51.72634937,-54.22529924,-56.03364748,-51.34979148,-57.75406087,-47.45566976,-54.71720264,-48.32035725,-48.23730243,-37.09976663,-37.47195419,-38.754948,-28.88421312,-45.03471145,-52.09936048,-30.53919388,-33.86425279,-42.03635682,-43.77058695,-48.38149441,-33.38285971,-45.35963829,-20.31095449,-30.12933628,-38.2757944,-37.18284862,-26.71358941,-32.49283298,-29.93719601,-24.30442355,-43.69364112,-36.96231791,-29.73887306,-38.04231305,-26.46417652,-25.02255191,-22.40626011,-29.84199559,-34.43580671,-24.7515566,-38.15196,-29.1106237,-43.13583476,-43.45710629,-17.46835571,-28.66212267,-26.34495444,-28.271429,-26.86485143,-28.02366579,-22.25938746,-23.30889411,-22.14285214,-19.53772261,-28.05956057,-21.99539808,-18.51068583,-21.1580461,-22.93293569,-23.63868957,-21.46493537,-24.29473288,-22.44136039,-20.74738784,-21.35527254,-14.66676903,-16.46067657,-120.5061,-118.8128,-108.5675,-103.0634,-103.6738,-95.93813,-74.75674,-80.30925,-77.59206,-76.80447,-72.7287,-65.68216,-57.6796,-50.2108,-46.54851,-46.70603,-35.52464,-14.96348,-68.21670068,-42.19841593,-35.66054857,-63.811228,-12.39504358,-84.08833116,-43.45665946,-29.52118366,-25.82151267,-35.64954472,-75.60631589,-63.83902737,-62.80450732,-47.87548267,-45.04949761,-92.01265714,-68.96079619,-93.82751185,-83.54479257,-72.90408841,-78.19297493,-54.49800107,-82.38238939,-63.16261606,-43.49902229,-34.33894197,-68.69947,-42.88247,-42.96844683,-42.88422773,-48.14191589,-77.894284,-34.36197702,-27.440446,-71.4853691,-72.662565,-54.42445327,-47.48895232,-17.82092298,-89.07298,-40.01723757,-70.08661831,-41.45272492,-88.87189632,-89.04238067,-65.83894297,-72.31511771,-37.40364779,-95.9302225,-47.03967,-81.16040829,-85.85650115,-44.76037486,-14.75707055,-56.52763129,-94.4786539,-96.535378,-27.90749342,-63.75294362,-5.417156102,-4.340797395,-63.91497622,-67.73621776,-63.74153257,-69.36194202,-42.45386268,-71.06100708,-80.33854904,-16.80794933,-77.01644229,-8.689096627,-95.71312916,-89.78213333,-55.73910528,-55.97405282,-14.61508286,-4.7308435,-46.56984086,-46.3035472,-58.99396885,-53.95952592,-101.3700811,-92.95359395,-100.9940699,-61.57447094,-1.514686918,-4.932367447,-10.04503957,-16.71623767,-28.12296714,-5.661616259,-7.976111714,-14.30092727,-11.09186833,-0.970214667,-1.101420381,0.959775614,-16.73522379,-14.70918078,-31.63498,-3.684222609,-41.02201027,-45.75961067,-18.81114101,-16.42554125,-7.013041031,-9.316790811,-10.57044051,-33.41519219,-5.883315789,-31.05259335,-38.6765687,-3.428835238,-19.78574851,-17.27104514,-21.01267307,-17.9089861,-26.4252543,-35.86348262,-9.506584667,-29.62011305,-31.62244894,-31.45910438,-26.01718061,-25.5937586,-18.45054018,-80.0400875,-100.793763,-100.3478996,-99.5811527,-98.615002,-101.2184867,-96.69549867,-98.09441245,-41.16064667,-39.73316282,-39.92093491,-13.09188479,-11.34937437,-4.71877549,7.004541667,-60.4958655,5.493851429,-4.330929125,-1.646586857,-18.9630296,-18.65162734,-28.2617947,-15.47295086,-30.87206137,-25.73708667,-17.78911115,-25.69500145,-6.690598095,-19.67749185,-25.02978597,-23.84008161,-22.30652,-31.39633886,-30.33386573,-28.67903971,-35.14537733,-11.059135,-15.14474109,-4.101818305,-9.93666867,-13.69800957,-18.06885752,-9.295090672,-14.65210971,-8.603829565,-12.23518208,-2.883395794,3.084357143,-13.38512882,-5.484164,0.321903298,-4.673825497,-15.91308293,-7.36146924,-11.601952,-8.913310306,-42.05272394,-58.95692088,-2.147337167,-61.24894305,-66.530239,-69.40538898,-16.94963143,-20.20948667,-20.23025629,-27.78574676,-24.44786368,-28.94543143,-33.67924298,-38.86416389,-39.8912642,-42.67860149,-38.89644161,-41.55115797,-31.56738227,-41.41965835,-30.05668667,-25.99110432,-38.77894034,-45.08971777,-62.3774501,-69.61408133,-37.35254208,-65.64535138,-47.08279067,-47.94450819,-66.57174552,-57.6806725,-56.70006471,-57.59924854,2.141117714,0.553883429,1.217273145,9.156768,3.921010667,7.098754534,7.479731412,6.139525143,-1.028744857,1.129600536,-4.479498667,11.01780383,-4.786697799,-7.099081333,-2.900987238,5.259022129,-8.28776323,-15.16253286,-50.10485046,-43.84057345,-20.38245718,-28.993184,-74.27956334,-57.05613672,-58.99463714,-73.64038121,-52.66540533,-46.96401457,-52.17798164,-42.38344933,-44.55701509,-35.61926952,-59.8437761,-66.00952476,-45.20257457,2.272871159,-24.92097067,-60.93192832,-61.66114429,-52.02315851,-45.41482262,-65.8870821,-59.03737455,-49.13330237,-29.944999,-39.03887005,-59.16029652,-44.91329837,-52.04638421,-52.68046227,-34.06315703,-51.23299876,-81.48674652,-60.82878325,-27.75257914,-40.615716,-46.21868933,-32.25445304,-34.85075714,-42.86287625,-58.14497146,-28.70804743,-29.96957619,-51.18539067,-43.79230016,-64.271412,-50.13028007,-45.99883432,-38.25214,-29.001412,-24.53690497,-28.56954773,-25.21215064,-51.51983649,-64.747095,-50.43153156,-70.83656933,-45.95279935,-36.77754178,-36.97431304,-52.15906782,-25.4799278,-8.609093084,-26.32428857,-84.14636,-82.96498,-82.80746,-79.246,-68.08431,-62.64994,-69.79732,-66.13502,-57.8296,-54.713,-57.2062,-58.2843,-59.36414,-61.23467,-60.05328,-43.494,-46.27285,-42.61056,-41.68514,-49.73825,-46.33192,-43.94946,-42.39397,-31.387,-32.66963,-39.20662,-37.06044,-32.64994,-39.36414,-33.3677,-26.57804,-26.77494,-27.56253,-22.71885,-29.49212,-25.41635,-25.4618,-22.26599,-19.31492,-11.9568,-16.12518,-15.98735,-11.77375,-11.2045,-18.36981,-17.73974,-14.90442,-9.314916,-8.094153,-10.456921,-1.222434,-6.1945,-5.731384,4.977446,6.4954,-0.5947494,0.7441527,10.76384],\"y\":[95.86970097,98.34736686,105.531576,85.11919619,88.54954267,77.77472,80.351252,82.70909714,75.82409401,89.40781657,98.53306229,100.1307978,100.5692092,85.04506755,77.02719052,82.96372814,86.10765266,85.29616635,104.3161573,104.4872907,104.5034411,102.8353679,86.49467744,95.28771062,107.525112,106.9914629,86.20745338,115.3560539,109.285201,120.7985667,113.1640033,87.68086518,107.7242429,113.7228677,104.8973871,111.5093353,102.4783549,117.612602,120.3503284,119.873547,121.5114816,97.1181028,90.92524233,96.00547745,82.99614333,87.2107575,80.37969702,88.860498,91.64478486,123.1188927,78.43012638,149.922979,140.8923356,139.7536376,142.3992175,148.7100133,144.0812844,113.24662,96.3416446,111.5008781,122.3045443,85.41514138,122.5960266,118.6669428,129.0447034,116.4094181,119.7839872,136.2810578,132.0985808,135.6421414,123.662627,130.8051815,129.7407148,139.1805794,132.3293989,131.1800298,136.4680276,135.4419983,141.6323199,138.5854925,139.9950704,134.702649,143.2286398,144.5117223,141.452916,149.7437673,135.7886081,129.4302928,148.8980511,147.9375081,145.0488265,142.5344245,130.5650093,144.4892955,129.9263817,155.2269872,150.6443552,147.5998112,141.5735606,150.2932019,152.1576349,154.1487041,153.6091877,147.2670105,149.7175643,147.3293567,135.0927363,148.6259799,149.9409567,152.3785745,140.2430958,137.6704921,146.9438328,139.1557724,155.6000522,136.0357043,135.9078147,153.7533924,145.4021884,143.7813359,147.1316737,145.8027457,153.0952278,150.7908792,145.2685239,148.0454856,149.7903661,142.6129877,146.2552103,155.5919847,145.62263,156.6022742,144.1373566,145.0063692,143.8484455,147.3931012,145.8831472,145.93957,152.8066188,151.5756583,83.28294,80.60513,85.8628,81.09737,101.2746,90.31217,104.7006,118.481,119.4655,121.629,126.0789,119.9184,127.0673,142.7316,144.0902,144.2674,151.1958,154.9172,61.39562391,22.29488814,48.78942838,60.68509933,77.24231806,62.67181938,45.96339541,47.77308082,80.59336367,62.20546824,72.66518112,71.132852,3.661438659,12.41163467,40.88877161,49.73902457,74.36834876,58.72901398,57.81202571,73.25266903,43.280443,76.57974267,59.70660391,14.21862546,83.77907886,53.87249423,11.68062366,79.38806,79.17753615,79.5017264,90.12105144,52.61685171,51.01104351,85.34171829,13.69239645,9.753753333,73.38996884,80.04219899,77.67130238,50.99806667,54.851973,10.52799649,93.44422701,60.67692382,71.26314307,81.18862365,83.26069743,75.15095502,52.33538372,92.620915,79.16582743,75.32552365,84.80327676,84.74432859,69.05706172,71.09835181,57.0680368,48.83765152,16.11237048,8.847342542,81.53936933,67.20044389,85.21727234,71.50158228,85.35868131,73.7884278,90.40291679,84.43096494,93.58312933,87.13747124,10.01766072,59.49331107,75.87889667,82.93201083,82.95283865,91.84376152,42.19041075,108.5148826,108.981916,52.62083967,106.6657674,61.58523686,65.33045471,58.10407029,81.48780766,109.694083,108.8521612,120.7187843,125.3305517,115.1939071,106.5826182,121.755362,101.7534391,125.466655,100.3982661,106.7018923,96.49986281,98.73511212,89.51142653,113.1713044,89.0582687,106.5429704,114.229152,100.5875039,105.5024725,99.48536037,106.6407206,126.8679454,110.2547015,98.33835579,104.6993637,97.60567565,93.7002,127.6360481,122.5399796,125.0750803,118.7230411,121.042114,103.9891685,127.3303587,118.2129548,119.4623426,115.7525987,121.7202521,130.2994724,132.7106863,84.73800696,57.17725771,63.67441974,64.05568506,64.13211571,63.57803857,65.44717238,64.92266082,104.4493693,109.4680707,106.6778969,118.0804011,137.7772238,13.84812451,23.59549,102.2441972,19.41666948,20.2928445,17.47972819,42.3682832,42.51463825,15.70429784,42.88988038,8.485619598,10.44674038,24.66935949,16.54076148,49.72451276,36.45218043,26.59853797,35.58692832,12.12235333,5.626359429,2.907323459,3.598538571,12.83804781,21.8502846,18.82510326,28.81178949,42.1022018,17.48616727,20.80237814,58.89740588,14.20317371,22.22068,25.53155401,24.44928234,12.85137943,23.16962608,22.97693067,25.36297713,29.02559614,19.1406085,61.68461228,11.650616,13.90776621,-0.318944394,4.96812146,8.8733685,7.909944762,7.427147,10.34906898,71.74829257,55.70627325,56.03150514,48.56813041,61.57301977,57.84716161,67.80925329,62.46519968,55.19798306,59.14324874,37.17328227,38.8420729,17.63833001,28.17128838,65.25714533,41.22527541,66.29875835,30.01578138,47.315436,48.07348533,30.81641938,21.16043231,22.12641333,25.21787333,47.204756,57.81795917,39.27407121,22.61315719,64.40213029,60.16771829,66.92785654,57.54668876,71.44016667,62.58893516,68.59563745,58.323828,68.91248914,71.11121482,66.127156,52.36532967,73.77888096,59.32604853,55.29820971,82.34198555,55.6569646,74.59968095,1.511377768,3.091691893,65.47596052,69.250824,41.73161398,32.56169672,52.14452743,33.91353359,8.185796,6.821372,4.378941281,56.49411867,68.98637917,56.00777619,65.59072248,23.30821952,9.288627714,49.02283551,69.08989467,79.11159821,78.64611429,34.43051143,13.76034762,16.91638248,23.515587,38.52826698,74.69281,3.565993622,31.27495377,-0.132877354,85.52256734,84.56854314,42.74553598,57.79036526,49.11636996,38.27663021,48.92443522,49.63081867,56.45468667,37.90019062,31.54198771,36.31789783,44.69947795,76.19336305,83.24034333,56.80349467,19.18281558,52.23652133,45.7442706,51.07242743,45.15325,87.892008,39.65303157,40.1044632,45.25440052,66.06245366,41.633555,32.90602742,38.04694933,19.65958551,19.00586822,38.85725913,38.50238222,77.17356441,75.07819673,59.06835467,37.92971,36.92554,33.89332,30.50907,40.82172,57.39809,85.42912,87.31933,0.1746,0.7044,6.7719,16.481,29.308,38.36289,99.13079,-2.3416,50.93986,79.34737,84.44463,86.92554,96.76802,102.4166,114.1493,26.5007,29.44582,37.47685,79.1111,90.52876,117.4572,115.6314,-0.1603819,31.64869,37.92971,48.97327,47.47685,96.35453,102.9989,118.7173,29.95776,27.5647,35.09439,34.83842,59.60334,88.6517,108.166,113.5192,111.9637,29.81993,40.31217,37.20119,45.13377,92.8805,106.3545,44.20835,47.9617,87.14212,85.94105,30.70597],\"type\":\"scatter\"},{\"marker\":{\"color\":\"black\"},\"x\":[5.750624681,-16.110041481745412],\"y\":[-23.50333184,-0.6747373047348364],\"type\":\"scatter\"},{\"marker\":{\"color\":\"black\"},\"x\":[15.04316711,-16.110041481745412],\"y\":[-16.67449933,-0.6747373047348364],\"type\":\"scatter\"},{\"marker\":{\"color\":\"black\"},\"x\":[-15.12792573,-16.110041481745412],\"y\":[-26.16056076,-0.6747373047348364],\"type\":\"scatter\"},{\"marker\":{\"color\":\"black\"},\"x\":[],\"y\":[],\"type\":\"scatter\"}],                        {\"template\":{\"data\":{\"histogram2dcontour\":[{\"type\":\"histogram2dcontour\",\"colorbar\":{\"outlinewidth\":0,\"ticks\":\"\"},\"colorscale\":[[0.0,\"#0d0887\"],[0.1111111111111111,\"#46039f\"],[0.2222222222222222,\"#7201a8\"],[0.3333333333333333,\"#9c179e\"],[0.4444444444444444,\"#bd3786\"],[0.5555555555555556,\"#d8576b\"],[0.6666666666666666,\"#ed7953\"],[0.7777777777777778,\"#fb9f3a\"],[0.8888888888888888,\"#fdca26\"],[1.0,\"#f0f921\"]]}],\"choropleth\":[{\"type\":\"choropleth\",\"colorbar\":{\"outlinewidth\":0,\"ticks\":\"\"}}],\"histogram2d\":[{\"type\":\"histogram2d\",\"colorbar\":{\"outlinewidth\":0,\"ticks\":\"\"},\"colorscale\":[[0.0,\"#0d0887\"],[0.1111111111111111,\"#46039f\"],[0.2222222222222222,\"#7201a8\"],[0.3333333333333333,\"#9c179e\"],[0.4444444444444444,\"#bd3786\"],[0.5555555555555556,\"#d8576b\"],[0.6666666666666666,\"#ed7953\"],[0.7777777777777778,\"#fb9f3a\"],[0.8888888888888888,\"#fdca26\"],[1.0,\"#f0f921\"]]}],\"heatmap\":[{\"type\":\"heatmap\",\"colorbar\":{\"outlinewidth\":0,\"ticks\":\"\"},\"colorscale\":[[0.0,\"#0d0887\"],[0.1111111111111111,\"#46039f\"],[0.2222222222222222,\"#7201a8\"],[0.3333333333333333,\"#9c179e\"],[0.4444444444444444,\"#bd3786\"],[0.5555555555555556,\"#d8576b\"],[0.6666666666666666,\"#ed7953\"],[0.7777777777777778,\"#fb9f3a\"],[0.8888888888888888,\"#fdca26\"],[1.0,\"#f0f921\"]]}],\"heatmapgl\":[{\"type\":\"heatmapgl\",\"colorbar\":{\"outlinewidth\":0,\"ticks\":\"\"},\"colorscale\":[[0.0,\"#0d0887\"],[0.1111111111111111,\"#46039f\"],[0.2222222222222222,\"#7201a8\"],[0.3333333333333333,\"#9c179e\"],[0.4444444444444444,\"#bd3786\"],[0.5555555555555556,\"#d8576b\"],[0.6666666666666666,\"#ed7953\"],[0.7777777777777778,\"#fb9f3a\"],[0.8888888888888888,\"#fdca26\"],[1.0,\"#f0f921\"]]}],\"contourcarpet\":[{\"type\":\"contourcarpet\",\"colorbar\":{\"outlinewidth\":0,\"ticks\":\"\"}}],\"contour\":[{\"type\":\"contour\",\"colorbar\":{\"outlinewidth\":0,\"ticks\":\"\"},\"colorscale\":[[0.0,\"#0d0887\"],[0.1111111111111111,\"#46039f\"],[0.2222222222222222,\"#7201a8\"],[0.3333333333333333,\"#9c179e\"],[0.4444444444444444,\"#bd3786\"],[0.5555555555555556,\"#d8576b\"],[0.6666666666666666,\"#ed7953\"],[0.7777777777777778,\"#fb9f3a\"],[0.8888888888888888,\"#fdca26\"],[1.0,\"#f0f921\"]]}],\"surface\":[{\"type\":\"surface\",\"colorbar\":{\"outlinewidth\":0,\"ticks\":\"\"},\"colorscale\":[[0.0,\"#0d0887\"],[0.1111111111111111,\"#46039f\"],[0.2222222222222222,\"#7201a8\"],[0.3333333333333333,\"#9c179e\"],[0.4444444444444444,\"#bd3786\"],[0.5555555555555556,\"#d8576b\"],[0.6666666666666666,\"#ed7953\"],[0.7777777777777778,\"#fb9f3a\"],[0.8888888888888888,\"#fdca26\"],[1.0,\"#f0f921\"]]}],\"mesh3d\":[{\"type\":\"mesh3d\",\"colorbar\":{\"outlinewidth\":0,\"ticks\":\"\"}}],\"scatter\":[{\"fillpattern\":{\"fillmode\":\"overlay\",\"size\":10,\"solidity\":0.2},\"type\":\"scatter\"}],\"parcoords\":[{\"type\":\"parcoords\",\"line\":{\"colorbar\":{\"outlinewidth\":0,\"ticks\":\"\"}}}],\"scatterpolargl\":[{\"type\":\"scatterpolargl\",\"marker\":{\"colorbar\":{\"outlinewidth\":0,\"ticks\":\"\"}}}],\"bar\":[{\"error_x\":{\"color\":\"#2a3f5f\"},\"error_y\":{\"color\":\"#2a3f5f\"},\"marker\":{\"line\":{\"color\":\"#E5ECF6\",\"width\":0.5},\"pattern\":{\"fillmode\":\"overlay\",\"size\":10,\"solidity\":0.2}},\"type\":\"bar\"}],\"scattergeo\":[{\"type\":\"scattergeo\",\"marker\":{\"colorbar\":{\"outlinewidth\":0,\"ticks\":\"\"}}}],\"scatterpolar\":[{\"type\":\"scatterpolar\",\"marker\":{\"colorbar\":{\"outlinewidth\":0,\"ticks\":\"\"}}}],\"histogram\":[{\"marker\":{\"pattern\":{\"fillmode\":\"overlay\",\"size\":10,\"solidity\":0.2}},\"type\":\"histogram\"}],\"scattergl\":[{\"type\":\"scattergl\",\"marker\":{\"colorbar\":{\"outlinewidth\":0,\"ticks\":\"\"}}}],\"scatter3d\":[{\"type\":\"scatter3d\",\"line\":{\"colorbar\":{\"outlinewidth\":0,\"ticks\":\"\"}},\"marker\":{\"colorbar\":{\"outlinewidth\":0,\"ticks\":\"\"}}}],\"scattermapbox\":[{\"type\":\"scattermapbox\",\"marker\":{\"colorbar\":{\"outlinewidth\":0,\"ticks\":\"\"}}}],\"scatterternary\":[{\"type\":\"scatterternary\",\"marker\":{\"colorbar\":{\"outlinewidth\":0,\"ticks\":\"\"}}}],\"scattercarpet\":[{\"type\":\"scattercarpet\",\"marker\":{\"colorbar\":{\"outlinewidth\":0,\"ticks\":\"\"}}}],\"carpet\":[{\"aaxis\":{\"endlinecolor\":\"#2a3f5f\",\"gridcolor\":\"white\",\"linecolor\":\"white\",\"minorgridcolor\":\"white\",\"startlinecolor\":\"#2a3f5f\"},\"baxis\":{\"endlinecolor\":\"#2a3f5f\",\"gridcolor\":\"white\",\"linecolor\":\"white\",\"minorgridcolor\":\"white\",\"startlinecolor\":\"#2a3f5f\"},\"type\":\"carpet\"}],\"table\":[{\"cells\":{\"fill\":{\"color\":\"#EBF0F8\"},\"line\":{\"color\":\"white\"}},\"header\":{\"fill\":{\"color\":\"#C8D4E3\"},\"line\":{\"color\":\"white\"}},\"type\":\"table\"}],\"barpolar\":[{\"marker\":{\"line\":{\"color\":\"#E5ECF6\",\"width\":0.5},\"pattern\":{\"fillmode\":\"overlay\",\"size\":10,\"solidity\":0.2}},\"type\":\"barpolar\"}],\"pie\":[{\"automargin\":true,\"type\":\"pie\"}]},\"layout\":{\"autotypenumbers\":\"strict\",\"colorway\":[\"#636efa\",\"#EF553B\",\"#00cc96\",\"#ab63fa\",\"#FFA15A\",\"#19d3f3\",\"#FF6692\",\"#B6E880\",\"#FF97FF\",\"#FECB52\"],\"font\":{\"color\":\"#2a3f5f\"},\"hovermode\":\"closest\",\"hoverlabel\":{\"align\":\"left\"},\"paper_bgcolor\":\"white\",\"plot_bgcolor\":\"#E5ECF6\",\"polar\":{\"bgcolor\":\"#E5ECF6\",\"angularaxis\":{\"gridcolor\":\"white\",\"linecolor\":\"white\",\"ticks\":\"\"},\"radialaxis\":{\"gridcolor\":\"white\",\"linecolor\":\"white\",\"ticks\":\"\"}},\"ternary\":{\"bgcolor\":\"#E5ECF6\",\"aaxis\":{\"gridcolor\":\"white\",\"linecolor\":\"white\",\"ticks\":\"\"},\"baxis\":{\"gridcolor\":\"white\",\"linecolor\":\"white\",\"ticks\":\"\"},\"caxis\":{\"gridcolor\":\"white\",\"linecolor\":\"white\",\"ticks\":\"\"}},\"coloraxis\":{\"colorbar\":{\"outlinewidth\":0,\"ticks\":\"\"}},\"colorscale\":{\"sequential\":[[0.0,\"#0d0887\"],[0.1111111111111111,\"#46039f\"],[0.2222222222222222,\"#7201a8\"],[0.3333333333333333,\"#9c179e\"],[0.4444444444444444,\"#bd3786\"],[0.5555555555555556,\"#d8576b\"],[0.6666666666666666,\"#ed7953\"],[0.7777777777777778,\"#fb9f3a\"],[0.8888888888888888,\"#fdca26\"],[1.0,\"#f0f921\"]],\"sequentialminus\":[[0.0,\"#0d0887\"],[0.1111111111111111,\"#46039f\"],[0.2222222222222222,\"#7201a8\"],[0.3333333333333333,\"#9c179e\"],[0.4444444444444444,\"#bd3786\"],[0.5555555555555556,\"#d8576b\"],[0.6666666666666666,\"#ed7953\"],[0.7777777777777778,\"#fb9f3a\"],[0.8888888888888888,\"#fdca26\"],[1.0,\"#f0f921\"]],\"diverging\":[[0,\"#8e0152\"],[0.1,\"#c51b7d\"],[0.2,\"#de77ae\"],[0.3,\"#f1b6da\"],[0.4,\"#fde0ef\"],[0.5,\"#f7f7f7\"],[0.6,\"#e6f5d0\"],[0.7,\"#b8e186\"],[0.8,\"#7fbc41\"],[0.9,\"#4d9221\"],[1,\"#276419\"]]},\"xaxis\":{\"gridcolor\":\"white\",\"linecolor\":\"white\",\"ticks\":\"\",\"title\":{\"standoff\":15},\"zerolinecolor\":\"white\",\"automargin\":true,\"zerolinewidth\":2},\"yaxis\":{\"gridcolor\":\"white\",\"linecolor\":\"white\",\"ticks\":\"\",\"title\":{\"standoff\":15},\"zerolinecolor\":\"white\",\"automargin\":true,\"zerolinewidth\":2},\"scene\":{\"xaxis\":{\"backgroundcolor\":\"#E5ECF6\",\"gridcolor\":\"white\",\"linecolor\":\"white\",\"showbackground\":true,\"ticks\":\"\",\"zerolinecolor\":\"white\",\"gridwidth\":2},\"yaxis\":{\"backgroundcolor\":\"#E5ECF6\",\"gridcolor\":\"white\",\"linecolor\":\"white\",\"showbackground\":true,\"ticks\":\"\",\"zerolinecolor\":\"white\",\"gridwidth\":2},\"zaxis\":{\"backgroundcolor\":\"#E5ECF6\",\"gridcolor\":\"white\",\"linecolor\":\"white\",\"showbackground\":true,\"ticks\":\"\",\"zerolinecolor\":\"white\",\"gridwidth\":2}},\"shapedefaults\":{\"line\":{\"color\":\"#2a3f5f\"}},\"annotationdefaults\":{\"arrowcolor\":\"#2a3f5f\",\"arrowhead\":0,\"arrowwidth\":1},\"geo\":{\"bgcolor\":\"white\",\"landcolor\":\"#E5ECF6\",\"subunitcolor\":\"white\",\"showland\":true,\"showlakes\":true,\"lakecolor\":\"white\"},\"title\":{\"x\":0.05},\"mapbox\":{\"style\":\"light\"}}},\"title\":{\"text\":\"model2\"},\"width\":1200,\"height\":800},                        {\"responsive\": true}                    ).then(function(){\n",
       "                            \n",
       "var gd = document.getElementById('585950c9-32ff-47ea-8c2b-e67bb207391d');\n",
       "var x = new MutationObserver(function (mutations, observer) {{\n",
       "        var display = window.getComputedStyle(gd).display;\n",
       "        if (!display || display === 'none') {{\n",
       "            console.log([gd, 'removed!']);\n",
       "            Plotly.purge(gd);\n",
       "            observer.disconnect();\n",
       "        }}\n",
       "}});\n",
       "\n",
       "// Listen for the removal of the full notebook cells\n",
       "var notebookContainer = gd.closest('#notebook-container');\n",
       "if (notebookContainer) {{\n",
       "    x.observe(notebookContainer, {childList: true});\n",
       "}}\n",
       "\n",
       "// Listen for the clearing of the current output cell\n",
       "var outputEl = gd.closest('.output');\n",
       "if (outputEl) {{\n",
       "    x.observe(outputEl, {childList: true});\n",
       "}}\n",
       "\n",
       "                        })                };                });            </script>        </div>"
      ]
     },
     "metadata": {},
     "output_type": "display_data"
    },
    {
     "data": {
      "text/html": [
       "        <script type=\"text/javascript\">\n",
       "        window.PlotlyConfig = {MathJaxConfig: 'local'};\n",
       "        if (window.MathJax && window.MathJax.Hub && window.MathJax.Hub.Config) {window.MathJax.Hub.Config({SVG: {font: \"STIX-Web\"}});}\n",
       "        if (typeof require !== 'undefined') {\n",
       "        require.undef(\"plotly\");\n",
       "        requirejs.config({\n",
       "            paths: {\n",
       "                'plotly': ['https://cdn.plot.ly/plotly-2.18.2.min']\n",
       "            }\n",
       "        });\n",
       "        require(['plotly'], function(Plotly) {\n",
       "            window._Plotly = Plotly;\n",
       "        });\n",
       "        }\n",
       "        </script>\n",
       "        "
      ]
     },
     "metadata": {},
     "output_type": "display_data"
    },
    {
     "data": {
      "text/html": [
       "<div>                            <div id=\"20de681a-80f5-493f-b86f-b3ce997c871e\" class=\"plotly-graph-div\" style=\"height:800px; width:1200px;\"></div>            <script type=\"text/javascript\">                require([\"plotly\"], function(Plotly) {                    window.PLOTLYENV=window.PLOTLYENV || {};                                    if (document.getElementById(\"20de681a-80f5-493f-b86f-b3ce997c871e\")) {                    Plotly.newPlot(                        \"20de681a-80f5-493f-b86f-b3ce997c871e\",                        [{\"marker\":{\"color\":\"black\"},\"x\":[-29.880646898378075,-106.0132132],\"y\":[-8.757599103801436,89.40781657],\"type\":\"scatter\"},{\"marker\":{\"color\":\"red\"},\"mode\":\"markers\",\"name\":\"Trees covered by line 0\",\"x\":[-93.90127238,-97.02245733,-102.7610669,-106.9293573,-107.9110969,-110.3984335,-106.0132132,-96.73072895,-96.22606223,-98.31843957,-115.0619992,-108.786355,-114.5846122,-110.2887047,-103.1629812,-95.55933733,-105.839508,-107.0136188,-102.8911694,-104.5151239,-95.6665854,-105.2474193,-111.0155589,-110.4334077,-109.0691822,-113.8496183,-115.6880358,-116.3580906,-114.450469,-115.5839619,-100.4964897,-113.9290292,-120.5061,-118.8128,-108.5675,-103.0634,-103.6738,-95.93813,-68.21670068,-84.08833116,-75.60631589,-62.80450732,-47.87548267,-92.01265714,-93.82751185,-83.54479257,-78.19297493,-82.38238939,-63.16261606,-68.69947,-77.894284,-71.4853691,-72.662565,-89.07298,-70.08661831,-88.87189632,-89.04238067,-95.9302225,-81.16040829,-85.85650115,-94.4786539,-96.535378,-63.75294362,-95.71312916,-89.78213333,-101.3700811,-92.95359395,-100.9940699,-100.793763,-100.3478996,-99.5811527,-98.615002,-101.2184867,-96.69549867,-98.09441245,-42.05272394,-58.95692088,-61.24894305,-66.530239,-69.40538898,-62.3774501,-69.61408133,-65.64535138,-47.08279067,-47.94450819,-66.57174552,-56.70006471,-57.59924854,-50.10485046,-43.84057345,-74.27956334,-57.05613672,-73.64038121,-52.66540533,-46.96401457,-52.17798164,-66.00952476,-45.20257457,-45.41482262,-65.8870821,-59.03737455,-39.03887005,-59.16029652,-44.91329837,-81.48674652,-60.82878325,-43.79230016,-64.271412,-64.747095,-70.83656933,-45.95279935,-84.14636,-82.96498,-82.80746,-79.246,-68.08431,-57.8296,-54.713,-57.2062,-58.2843,-59.36414,-61.23467,-43.494],\"y\":[85.11919619,88.54954267,77.77472,80.351252,82.70909714,75.82409401,89.40781657,98.53306229,100.1307978,100.5692092,85.04506755,77.02719052,82.96372814,86.10765266,85.29616635,104.3161573,86.49467744,95.28771062,86.20745338,87.68086518,102.4783549,97.1181028,90.92524233,96.00547745,82.99614333,87.2107575,80.37969702,88.860498,91.64478486,78.43012638,96.3416446,85.41514138,83.28294,80.60513,85.8628,81.09737,101.2746,90.31217,61.39562391,62.67181938,72.66518112,3.661438659,12.41163467,49.73902457,58.72901398,57.81202571,43.280443,59.70660391,14.21862546,11.68062366,52.61685171,13.69239645,9.753753333,50.99806667,10.52799649,60.67692382,71.26314307,52.33538372,79.16582743,75.32552365,71.09835181,57.0680368,16.11237048,59.49331107,75.87889667,61.58523686,65.33045471,58.10407029,57.17725771,63.67441974,64.05568506,64.13211571,63.57803857,65.44717238,64.92266082,-0.318944394,4.96812146,7.909944762,7.427147,10.34906898,47.315436,48.07348533,21.16043231,22.12641333,25.21787333,47.204756,39.27407121,22.61315719,1.511377768,3.091691893,41.73161398,32.56169672,33.91353359,8.185796,6.821372,4.378941281,23.30821952,9.288627714,13.76034762,16.91638248,23.515587,3.565993622,31.27495377,-0.132877354,49.11636996,38.27663021,19.18281558,52.23652133,41.633555,38.04694933,19.65958551,37.92971,36.92554,33.89332,30.50907,40.82172,0.1746,0.7044,6.7719,16.481,29.308,38.36289,-2.3416],\"type\":\"scatter\"},{\"marker\":{\"color\":\"black\"},\"x\":[-15.12792573,-29.880646898378075],\"y\":[-26.16056076,-8.757599103801436],\"type\":\"scatter\"},{\"marker\":{\"color\":\"black\"},\"x\":[5.750624681,-29.880646898378075],\"y\":[-23.50333184,-8.757599103801436],\"type\":\"scatter\"},{\"marker\":{\"color\":\"black\"},\"x\":[-22.92090482,-29.880646898378075],\"y\":[-30.73934474,-8.757599103801436],\"type\":\"scatter\"},{\"marker\":{\"color\":\"black\"},\"x\":[-83.54479257],\"y\":[57.81202571],\"type\":\"scatter\"},{\"marker\":{\"color\":\"black\"},\"x\":[-24.572446093973856,-78.82330588],\"y\":[-5.963584108606202,117.612602],\"type\":\"scatter\"},{\"marker\":{\"color\":\"blue\"},\"mode\":\"markers\",\"name\":\"Trees covered by line 1\",\"x\":[-83.48467459,-88.19360784,-77.38716,-74.37847497,-74.12546686,-83.96798843,-89.62130667,-83.3753646,-82.7508461,-78.26144619,-74.66894341,-85.630951,-90.57745961,-72.9690587,-79.21758645,-87.31261084,-78.82330588,-87.83312994,-74.75674,-80.30925,-77.59206,-76.80447,-42.19841593,-63.811228,-43.45665946,-63.83902737,-45.04949761,-68.96079619,-72.90408841,-54.49800107,-54.42445327,-65.83894297,-72.31511771,-56.52763129,-63.91497622,-67.73621776,-63.74153257,-69.36194202,-71.06100708,-80.33854904,-77.01644229,-58.99396885,-61.57447094,-80.0400875,-28.2617947,-30.87206137,-25.73708667,-31.39633886,-30.33386573,-28.67903971,-35.14537733,-38.89644161,-41.55115797,-31.56738227,-41.41965835,-45.08971777,-37.35254208,-57.6806725,-58.99463714,-59.8437761,-60.93192832,-61.66114429,-52.02315851,-49.13330237,-51.23299876,-46.21868933,-34.85075714,-42.86287625,-58.14497146,-51.18539067,-50.13028007,-45.99883432,-51.51983649,-50.43153156,-36.77754178,-52.15906782,-62.64994,-69.79732,-66.13502,-46.27285,-39.20662,-26.57804],\"y\":[95.86970097,98.34736686,105.531576,104.4872907,104.5034411,102.8353679,107.525112,106.9914629,115.3560539,109.285201,120.7985667,113.1640033,107.7242429,113.7228677,104.8973871,111.5093353,117.612602,111.5008781,104.7006,118.481,119.4655,121.629,22.29488814,60.68509933,45.96339541,71.132852,40.88877161,74.36834876,73.25266903,76.57974267,73.38996884,81.18862365,83.26069743,69.05706172,67.20044389,85.21727234,71.50158228,85.35868131,90.40291679,84.43096494,87.13747124,52.62083967,81.48780766,84.73800696,15.70429784,8.485619598,10.44674038,5.626359429,2.907323459,3.598538571,12.83804781,37.17328227,38.8420729,17.63833001,28.17128838,30.01578138,30.81641938,57.81795917,52.14452743,65.59072248,79.11159821,78.64611429,34.43051143,38.52826698,57.79036526,56.45468667,31.54198771,36.31789783,44.69947795,56.80349467,45.7442706,51.07242743,66.06245366,32.90602742,19.00586822,38.50238222,57.39809,85.42912,87.31933,50.93986,37.47685,-0.1603819],\"type\":\"scatter\"},{\"marker\":{\"color\":\"black\"},\"x\":[-15.12792573,-24.572446093973856],\"y\":[-26.16056076,-5.963584108606202],\"type\":\"scatter\"},{\"marker\":{\"color\":\"black\"},\"x\":[5.750624681,-24.572446093973856],\"y\":[-23.50333184,-5.963584108606202],\"type\":\"scatter\"},{\"marker\":{\"color\":\"black\"},\"x\":[-23.72151289,-24.572446093973856],\"y\":[-29.27645096,-5.963584108606202],\"type\":\"scatter\"},{\"marker\":{\"color\":\"black\"},\"x\":[-66.13502],\"y\":[87.31933],\"type\":\"scatter\"},{\"marker\":{\"color\":\"black\"},\"x\":[-14.332943013797312,-65.68216],\"y\":[0.19120298599861893,119.9184],\"type\":\"scatter\"},{\"marker\":{\"color\":\"green\"},\"mode\":\"markers\",\"name\":\"Trees covered by line 2\",\"x\":[-70.18942466,-70.13604975,-69.11292673,-72.28254052,-65.84327489,-67.58248429,-65.91586274,-66.154401,-61.06820181,-65.06967068,-64.15900983,-64.44548,-64.87632182,-72.7287,-65.68216,-35.66054857,-29.52118366,-35.64954472,-43.49902229,-34.33894197,-42.88247,-42.96844683,-42.88422773,-48.14191589,-34.36197702,-47.48895232,-40.01723757,-47.03967,-44.76037486,-42.45386268,-55.73910528,-55.97405282,-53.95952592,-60.4958655,-25.69500145,-25.02978597,-22.30652,-38.86416389,-39.8912642,-42.67860149,-38.77894034,-42.38344933,-44.55701509,-35.61926952,-52.04638421,-52.68046227,-34.06315703,-40.615716,-32.25445304,-38.25214,-28.56954773,-36.97431304,-60.05328,-42.61056,-49.73825,-31.387,-32.66963,-26.77494,-27.56253,-29.49212],\"y\":[120.3503284,119.873547,121.5114816,123.1188927,113.24662,122.3045443,122.5960266,118.6669428,129.0447034,116.4094181,119.7839872,123.662627,130.8051815,126.0789,119.9184,48.78942838,47.77308082,62.20546824,83.77907886,53.87249423,79.38806,79.17753615,79.5017264,90.12105144,51.01104351,80.04219899,54.851973,92.620915,84.80327676,73.7884278,82.93201083,82.95283865,106.6657674,102.2441972,16.54076148,26.59853797,12.12235333,62.46519968,55.19798306,59.14324874,66.29875835,56.49411867,68.98637917,56.00777619,85.52256734,84.56854314,42.74553598,49.63081867,37.90019062,45.15325,40.1044632,38.85725913,99.13079,79.34737,86.92554,26.5007,29.44582,31.64869,37.92971,47.47685],\"type\":\"scatter\"},{\"marker\":{\"color\":\"black\"},\"x\":[-4.352596,-14.332943013797312],\"y\":[-25.27437571,0.19120298599861893],\"type\":\"scatter\"},{\"marker\":{\"color\":\"black\"},\"x\":[15.04316711,-14.332943013797312],\"y\":[-16.67449933,0.19120298599861893],\"type\":\"scatter\"},{\"marker\":{\"color\":\"black\"},\"x\":[-15.12792573,-14.332943013797312],\"y\":[-26.16056076,0.19120298599861893],\"type\":\"scatter\"},{\"marker\":{\"color\":\"black\"},\"x\":[-49.73825],\"y\":[86.92554],\"type\":\"scatter\"},{\"marker\":{\"color\":\"black\"},\"x\":[-10.530025583459231,-48.38149441],\"y\":[1.431291296576059,130.5650093],\"type\":\"scatter\"},{\"marker\":{\"color\":\"orange\"},\"mode\":\"markers\",\"name\":\"Trees covered by line 3\",\"x\":[-46.08530939,-55.91586735,-61.14652818,-60.13371324,-57.75133942,-51.72634937,-54.22529924,-56.03364748,-51.34979148,-57.75406087,-47.45566976,-54.71720264,-48.32035725,-48.23730243,-45.03471145,-52.09936048,-43.77058695,-48.38149441,-45.35963829,-43.13583476,-43.45710629,-57.6796,-50.2108,-46.54851,-46.70603,-41.45272492,-37.40364779,-27.90749342,-46.56984086,-46.3035472,-41.02201027,-45.75961067,-38.6765687,-35.86348262,-41.16064667,-39.73316282,-39.92093491,-18.9630296,-18.65162734,-17.78911115,-19.67749185,-23.84008161,-15.14474109,-13.69800957,-18.06885752,-14.65210971,-15.91308293,-11.601952,-27.78574676,-24.44786368,-28.94543143,-33.67924298,-30.05668667,-25.99110432,-28.993184,-24.92097067,-29.944999,-27.75257914,-28.70804743,-29.96957619,-29.001412,-24.53690497,-25.21215064,-26.32428857,-41.68514,-46.33192,-43.94946,-42.39397,-37.06044,-32.64994,-39.36414,-22.71885,-19.31492],\"y\":[140.8923356,136.2810578,132.0985808,135.6421414,129.7407148,139.1805794,132.3293989,131.1800298,136.4680276,135.4419983,141.6323199,138.5854925,139.9950704,134.702649,135.7886081,129.4302928,142.5344245,130.5650093,129.9263817,136.0357043,135.9078147,127.0673,142.7316,144.0902,144.2674,93.44422701,75.15095502,48.83765152,108.5148826,108.981916,106.5429704,114.229152,97.60567565,103.9891685,104.4493693,109.4680707,106.6778969,42.3682832,42.51463825,24.66935949,36.45218043,35.58692832,18.82510326,17.48616727,20.80237814,14.20317371,19.1406085,11.650616,48.56813041,61.57301977,57.84716161,67.80925329,65.25714533,41.22527541,69.250824,69.08989467,74.69281,48.92443522,76.19336305,83.24034333,87.892008,39.65303157,45.25440052,59.06835467,84.44463,96.76802,102.4166,114.1493,79.1111,90.52876,117.4572,48.97327,29.95776],\"type\":\"scatter\"},{\"marker\":{\"color\":\"black\"},\"x\":[-4.352596,-10.530025583459231],\"y\":[-25.27437571,1.431291296576059],\"type\":\"scatter\"},{\"marker\":{\"color\":\"black\"},\"x\":[15.04316711,-10.530025583459231],\"y\":[-16.67449933,1.431291296576059],\"type\":\"scatter\"},{\"marker\":{\"color\":\"black\"},\"x\":[-15.12792573,-10.530025583459231],\"y\":[-26.16056076,1.431291296576059],\"type\":\"scatter\"},{\"marker\":{\"color\":\"black\"},\"x\":[-39.92093491],\"y\":[106.6778969],\"type\":\"scatter\"},{\"marker\":{\"color\":\"black\"},\"x\":[-6.727108153121151,-29.84199559],\"y\":[2.6713796071534985,140.2430958],\"type\":\"scatter\"},{\"marker\":{\"color\":\"purple\"},\"mode\":\"markers\",\"name\":\"Trees covered by line 4\",\"x\":[-20.01427656,-39.1687174,-41.69020833,-20.15441667,-30.51452551,-37.09976663,-37.47195419,-38.754948,-28.88421312,-30.53919388,-33.86425279,-42.03635682,-33.38285971,-20.31095449,-30.12933628,-38.2757944,-37.18284862,-26.71358941,-32.49283298,-29.93719601,-24.30442355,-43.69364112,-36.96231791,-29.73887306,-38.04231305,-26.46417652,-25.02255191,-22.40626011,-29.84199559,-34.43580671,-24.7515566,-38.15196,-29.1106237,-17.46835571,-28.66212267,-26.34495444,-28.271429,-26.86485143,-28.02366579,-22.25938746,-23.30889411,-22.14285214,-19.53772261,-28.05956057,-21.99539808,-18.51068583,-21.1580461,-22.93293569,-23.63868957,-21.46493537,-24.29473288,-22.44136039,-20.74738784,-21.35527254,-14.66676903,-16.46067657,-35.52464,-14.96348,-12.39504358,-25.82151267,-27.440446,-17.82092298,-14.75707055,-5.417156102,-4.340797395,-16.80794933,-8.689096627,-14.61508286,-4.7308435,-1.514686918,-4.932367447,-10.04503957,-16.71623767,-28.12296714,-5.661616259,-7.976111714,-14.30092727,-11.09186833,-0.970214667,-1.101420381,0.959775614,-16.73522379,-14.70918078,-31.63498,-3.684222609,-18.81114101,-16.42554125,-7.013041031,-9.316790811,-10.57044051,-33.41519219,-5.883315789,-31.05259335,-3.428835238,-19.78574851,-17.27104514,-21.01267307,-17.9089861,-26.4252543,-9.506584667,-29.62011305,-31.62244894,-31.45910438,-26.01718061,-25.5937586,-18.45054018,-13.09188479,-11.34937437,-4.71877549,7.004541667,5.493851429,-4.330929125,-1.646586857,-15.47295086,-6.690598095,-11.059135,-4.101818305,-9.93666867,-9.295090672,-8.603829565,-12.23518208,-2.883395794,3.084357143,-13.38512882,-5.484164,0.321903298,-4.673825497,-7.36146924,-8.913310306,-2.147337167,-16.94963143,-20.20948667,-20.23025629,2.141117714,0.553883429,1.217273145,9.156768,3.921010667,7.098754534,7.479731412,6.139525143,-1.028744857,1.129600536,-4.479498667,11.01780383,-4.786697799,-7.099081333,-2.900987238,5.259022129,-8.28776323,-15.16253286,-20.38245718,2.272871159,-25.4799278,-8.609093084,-33.3677,-25.41635,-25.4618,-22.26599,-11.9568,-16.12518,-15.98735,-11.77375,-11.2045,-18.36981,-17.73974,-14.90442,-9.314916,-8.094153,-10.456921,-1.222434,-6.1945,-5.731384,4.977446,6.4954,-0.5947494,0.7441527,10.76384],\"y\":[149.922979,139.7536376,142.3992175,148.7100133,144.0812844,143.2286398,144.5117223,141.452916,149.7437673,148.8980511,147.9375081,145.0488265,144.4892955,155.2269872,150.6443552,147.5998112,141.5735606,150.2932019,152.1576349,154.1487041,153.6091877,147.2670105,149.7175643,147.3293567,135.0927363,148.6259799,149.9409567,152.3785745,140.2430958,137.6704921,146.9438328,139.1557724,155.6000522,153.7533924,145.4021884,143.7813359,147.1316737,145.8027457,153.0952278,150.7908792,145.2685239,148.0454856,149.7903661,142.6129877,146.2552103,155.5919847,145.62263,156.6022742,144.1373566,145.0063692,143.8484455,147.3931012,145.8831472,145.93957,152.8066188,151.5756583,151.1958,154.9172,77.24231806,80.59336367,85.34171829,77.67130238,84.74432859,8.847342542,81.53936933,93.58312933,10.01766072,91.84376152,42.19041075,109.694083,108.8521612,120.7187843,125.3305517,115.1939071,106.5826182,121.755362,101.7534391,125.466655,100.3982661,106.7018923,96.49986281,98.73511212,89.51142653,113.1713044,89.0582687,100.5875039,105.5024725,99.48536037,106.6407206,126.8679454,110.2547015,98.33835579,104.6993637,93.7002,127.6360481,122.5399796,125.0750803,118.7230411,121.042114,127.3303587,118.2129548,119.4623426,115.7525987,121.7202521,130.2994724,132.7106863,118.0804011,137.7772238,13.84812451,23.59549,19.41666948,20.2928445,17.47972819,42.88988038,49.72451276,21.8502846,28.81178949,42.1022018,58.89740588,22.22068,25.53155401,24.44928234,12.85137943,23.16962608,22.97693067,25.36297713,29.02559614,61.68461228,13.90776621,8.8733685,71.74829257,55.70627325,56.03150514,64.40213029,60.16771829,66.92785654,57.54668876,71.44016667,62.58893516,68.59563745,58.323828,68.91248914,71.11121482,66.127156,52.36532967,73.77888096,59.32604853,55.29820971,82.34198555,55.6569646,74.59968095,65.47596052,49.02283551,77.17356441,75.07819673,115.6314,96.35453,102.9989,118.7173,27.5647,35.09439,34.83842,59.60334,88.6517,108.166,113.5192,111.9637,29.81993,40.31217,37.20119,45.13377,92.8805,106.3545,44.20835,47.9617,87.14212,85.94105,30.70597],\"type\":\"scatter\"},{\"marker\":{\"color\":\"black\"},\"x\":[-4.352596,-6.727108153121151],\"y\":[-25.27437571,2.6713796071534985],\"type\":\"scatter\"},{\"marker\":{\"color\":\"black\"},\"x\":[15.04316711,-6.727108153121151],\"y\":[-16.67449933,2.6713796071534985],\"type\":\"scatter\"},{\"marker\":{\"color\":\"black\"},\"x\":[-15.12792573,-6.727108153121151],\"y\":[-26.16056076,2.6713796071534985],\"type\":\"scatter\"},{\"marker\":{\"color\":\"black\"},\"x\":[-16.94963143],\"y\":[71.74829257],\"type\":\"scatter\"}],                        {\"template\":{\"data\":{\"histogram2dcontour\":[{\"type\":\"histogram2dcontour\",\"colorbar\":{\"outlinewidth\":0,\"ticks\":\"\"},\"colorscale\":[[0.0,\"#0d0887\"],[0.1111111111111111,\"#46039f\"],[0.2222222222222222,\"#7201a8\"],[0.3333333333333333,\"#9c179e\"],[0.4444444444444444,\"#bd3786\"],[0.5555555555555556,\"#d8576b\"],[0.6666666666666666,\"#ed7953\"],[0.7777777777777778,\"#fb9f3a\"],[0.8888888888888888,\"#fdca26\"],[1.0,\"#f0f921\"]]}],\"choropleth\":[{\"type\":\"choropleth\",\"colorbar\":{\"outlinewidth\":0,\"ticks\":\"\"}}],\"histogram2d\":[{\"type\":\"histogram2d\",\"colorbar\":{\"outlinewidth\":0,\"ticks\":\"\"},\"colorscale\":[[0.0,\"#0d0887\"],[0.1111111111111111,\"#46039f\"],[0.2222222222222222,\"#7201a8\"],[0.3333333333333333,\"#9c179e\"],[0.4444444444444444,\"#bd3786\"],[0.5555555555555556,\"#d8576b\"],[0.6666666666666666,\"#ed7953\"],[0.7777777777777778,\"#fb9f3a\"],[0.8888888888888888,\"#fdca26\"],[1.0,\"#f0f921\"]]}],\"heatmap\":[{\"type\":\"heatmap\",\"colorbar\":{\"outlinewidth\":0,\"ticks\":\"\"},\"colorscale\":[[0.0,\"#0d0887\"],[0.1111111111111111,\"#46039f\"],[0.2222222222222222,\"#7201a8\"],[0.3333333333333333,\"#9c179e\"],[0.4444444444444444,\"#bd3786\"],[0.5555555555555556,\"#d8576b\"],[0.6666666666666666,\"#ed7953\"],[0.7777777777777778,\"#fb9f3a\"],[0.8888888888888888,\"#fdca26\"],[1.0,\"#f0f921\"]]}],\"heatmapgl\":[{\"type\":\"heatmapgl\",\"colorbar\":{\"outlinewidth\":0,\"ticks\":\"\"},\"colorscale\":[[0.0,\"#0d0887\"],[0.1111111111111111,\"#46039f\"],[0.2222222222222222,\"#7201a8\"],[0.3333333333333333,\"#9c179e\"],[0.4444444444444444,\"#bd3786\"],[0.5555555555555556,\"#d8576b\"],[0.6666666666666666,\"#ed7953\"],[0.7777777777777778,\"#fb9f3a\"],[0.8888888888888888,\"#fdca26\"],[1.0,\"#f0f921\"]]}],\"contourcarpet\":[{\"type\":\"contourcarpet\",\"colorbar\":{\"outlinewidth\":0,\"ticks\":\"\"}}],\"contour\":[{\"type\":\"contour\",\"colorbar\":{\"outlinewidth\":0,\"ticks\":\"\"},\"colorscale\":[[0.0,\"#0d0887\"],[0.1111111111111111,\"#46039f\"],[0.2222222222222222,\"#7201a8\"],[0.3333333333333333,\"#9c179e\"],[0.4444444444444444,\"#bd3786\"],[0.5555555555555556,\"#d8576b\"],[0.6666666666666666,\"#ed7953\"],[0.7777777777777778,\"#fb9f3a\"],[0.8888888888888888,\"#fdca26\"],[1.0,\"#f0f921\"]]}],\"surface\":[{\"type\":\"surface\",\"colorbar\":{\"outlinewidth\":0,\"ticks\":\"\"},\"colorscale\":[[0.0,\"#0d0887\"],[0.1111111111111111,\"#46039f\"],[0.2222222222222222,\"#7201a8\"],[0.3333333333333333,\"#9c179e\"],[0.4444444444444444,\"#bd3786\"],[0.5555555555555556,\"#d8576b\"],[0.6666666666666666,\"#ed7953\"],[0.7777777777777778,\"#fb9f3a\"],[0.8888888888888888,\"#fdca26\"],[1.0,\"#f0f921\"]]}],\"mesh3d\":[{\"type\":\"mesh3d\",\"colorbar\":{\"outlinewidth\":0,\"ticks\":\"\"}}],\"scatter\":[{\"fillpattern\":{\"fillmode\":\"overlay\",\"size\":10,\"solidity\":0.2},\"type\":\"scatter\"}],\"parcoords\":[{\"type\":\"parcoords\",\"line\":{\"colorbar\":{\"outlinewidth\":0,\"ticks\":\"\"}}}],\"scatterpolargl\":[{\"type\":\"scatterpolargl\",\"marker\":{\"colorbar\":{\"outlinewidth\":0,\"ticks\":\"\"}}}],\"bar\":[{\"error_x\":{\"color\":\"#2a3f5f\"},\"error_y\":{\"color\":\"#2a3f5f\"},\"marker\":{\"line\":{\"color\":\"#E5ECF6\",\"width\":0.5},\"pattern\":{\"fillmode\":\"overlay\",\"size\":10,\"solidity\":0.2}},\"type\":\"bar\"}],\"scattergeo\":[{\"type\":\"scattergeo\",\"marker\":{\"colorbar\":{\"outlinewidth\":0,\"ticks\":\"\"}}}],\"scatterpolar\":[{\"type\":\"scatterpolar\",\"marker\":{\"colorbar\":{\"outlinewidth\":0,\"ticks\":\"\"}}}],\"histogram\":[{\"marker\":{\"pattern\":{\"fillmode\":\"overlay\",\"size\":10,\"solidity\":0.2}},\"type\":\"histogram\"}],\"scattergl\":[{\"type\":\"scattergl\",\"marker\":{\"colorbar\":{\"outlinewidth\":0,\"ticks\":\"\"}}}],\"scatter3d\":[{\"type\":\"scatter3d\",\"line\":{\"colorbar\":{\"outlinewidth\":0,\"ticks\":\"\"}},\"marker\":{\"colorbar\":{\"outlinewidth\":0,\"ticks\":\"\"}}}],\"scattermapbox\":[{\"type\":\"scattermapbox\",\"marker\":{\"colorbar\":{\"outlinewidth\":0,\"ticks\":\"\"}}}],\"scatterternary\":[{\"type\":\"scatterternary\",\"marker\":{\"colorbar\":{\"outlinewidth\":0,\"ticks\":\"\"}}}],\"scattercarpet\":[{\"type\":\"scattercarpet\",\"marker\":{\"colorbar\":{\"outlinewidth\":0,\"ticks\":\"\"}}}],\"carpet\":[{\"aaxis\":{\"endlinecolor\":\"#2a3f5f\",\"gridcolor\":\"white\",\"linecolor\":\"white\",\"minorgridcolor\":\"white\",\"startlinecolor\":\"#2a3f5f\"},\"baxis\":{\"endlinecolor\":\"#2a3f5f\",\"gridcolor\":\"white\",\"linecolor\":\"white\",\"minorgridcolor\":\"white\",\"startlinecolor\":\"#2a3f5f\"},\"type\":\"carpet\"}],\"table\":[{\"cells\":{\"fill\":{\"color\":\"#EBF0F8\"},\"line\":{\"color\":\"white\"}},\"header\":{\"fill\":{\"color\":\"#C8D4E3\"},\"line\":{\"color\":\"white\"}},\"type\":\"table\"}],\"barpolar\":[{\"marker\":{\"line\":{\"color\":\"#E5ECF6\",\"width\":0.5},\"pattern\":{\"fillmode\":\"overlay\",\"size\":10,\"solidity\":0.2}},\"type\":\"barpolar\"}],\"pie\":[{\"automargin\":true,\"type\":\"pie\"}]},\"layout\":{\"autotypenumbers\":\"strict\",\"colorway\":[\"#636efa\",\"#EF553B\",\"#00cc96\",\"#ab63fa\",\"#FFA15A\",\"#19d3f3\",\"#FF6692\",\"#B6E880\",\"#FF97FF\",\"#FECB52\"],\"font\":{\"color\":\"#2a3f5f\"},\"hovermode\":\"closest\",\"hoverlabel\":{\"align\":\"left\"},\"paper_bgcolor\":\"white\",\"plot_bgcolor\":\"#E5ECF6\",\"polar\":{\"bgcolor\":\"#E5ECF6\",\"angularaxis\":{\"gridcolor\":\"white\",\"linecolor\":\"white\",\"ticks\":\"\"},\"radialaxis\":{\"gridcolor\":\"white\",\"linecolor\":\"white\",\"ticks\":\"\"}},\"ternary\":{\"bgcolor\":\"#E5ECF6\",\"aaxis\":{\"gridcolor\":\"white\",\"linecolor\":\"white\",\"ticks\":\"\"},\"baxis\":{\"gridcolor\":\"white\",\"linecolor\":\"white\",\"ticks\":\"\"},\"caxis\":{\"gridcolor\":\"white\",\"linecolor\":\"white\",\"ticks\":\"\"}},\"coloraxis\":{\"colorbar\":{\"outlinewidth\":0,\"ticks\":\"\"}},\"colorscale\":{\"sequential\":[[0.0,\"#0d0887\"],[0.1111111111111111,\"#46039f\"],[0.2222222222222222,\"#7201a8\"],[0.3333333333333333,\"#9c179e\"],[0.4444444444444444,\"#bd3786\"],[0.5555555555555556,\"#d8576b\"],[0.6666666666666666,\"#ed7953\"],[0.7777777777777778,\"#fb9f3a\"],[0.8888888888888888,\"#fdca26\"],[1.0,\"#f0f921\"]],\"sequentialminus\":[[0.0,\"#0d0887\"],[0.1111111111111111,\"#46039f\"],[0.2222222222222222,\"#7201a8\"],[0.3333333333333333,\"#9c179e\"],[0.4444444444444444,\"#bd3786\"],[0.5555555555555556,\"#d8576b\"],[0.6666666666666666,\"#ed7953\"],[0.7777777777777778,\"#fb9f3a\"],[0.8888888888888888,\"#fdca26\"],[1.0,\"#f0f921\"]],\"diverging\":[[0,\"#8e0152\"],[0.1,\"#c51b7d\"],[0.2,\"#de77ae\"],[0.3,\"#f1b6da\"],[0.4,\"#fde0ef\"],[0.5,\"#f7f7f7\"],[0.6,\"#e6f5d0\"],[0.7,\"#b8e186\"],[0.8,\"#7fbc41\"],[0.9,\"#4d9221\"],[1,\"#276419\"]]},\"xaxis\":{\"gridcolor\":\"white\",\"linecolor\":\"white\",\"ticks\":\"\",\"title\":{\"standoff\":15},\"zerolinecolor\":\"white\",\"automargin\":true,\"zerolinewidth\":2},\"yaxis\":{\"gridcolor\":\"white\",\"linecolor\":\"white\",\"ticks\":\"\",\"title\":{\"standoff\":15},\"zerolinecolor\":\"white\",\"automargin\":true,\"zerolinewidth\":2},\"scene\":{\"xaxis\":{\"backgroundcolor\":\"#E5ECF6\",\"gridcolor\":\"white\",\"linecolor\":\"white\",\"showbackground\":true,\"ticks\":\"\",\"zerolinecolor\":\"white\",\"gridwidth\":2},\"yaxis\":{\"backgroundcolor\":\"#E5ECF6\",\"gridcolor\":\"white\",\"linecolor\":\"white\",\"showbackground\":true,\"ticks\":\"\",\"zerolinecolor\":\"white\",\"gridwidth\":2},\"zaxis\":{\"backgroundcolor\":\"#E5ECF6\",\"gridcolor\":\"white\",\"linecolor\":\"white\",\"showbackground\":true,\"ticks\":\"\",\"zerolinecolor\":\"white\",\"gridwidth\":2}},\"shapedefaults\":{\"line\":{\"color\":\"#2a3f5f\"}},\"annotationdefaults\":{\"arrowcolor\":\"#2a3f5f\",\"arrowhead\":0,\"arrowwidth\":1},\"geo\":{\"bgcolor\":\"white\",\"landcolor\":\"#E5ECF6\",\"subunitcolor\":\"white\",\"showland\":true,\"showlakes\":true,\"lakecolor\":\"white\"},\"title\":{\"x\":0.05},\"mapbox\":{\"style\":\"light\"}}},\"title\":{\"text\":\"NSGA2 0\"},\"width\":1200,\"height\":800},                        {\"responsive\": true}                    ).then(function(){\n",
       "                            \n",
       "var gd = document.getElementById('20de681a-80f5-493f-b86f-b3ce997c871e');\n",
       "var x = new MutationObserver(function (mutations, observer) {{\n",
       "        var display = window.getComputedStyle(gd).display;\n",
       "        if (!display || display === 'none') {{\n",
       "            console.log([gd, 'removed!']);\n",
       "            Plotly.purge(gd);\n",
       "            observer.disconnect();\n",
       "        }}\n",
       "}});\n",
       "\n",
       "// Listen for the removal of the full notebook cells\n",
       "var notebookContainer = gd.closest('#notebook-container');\n",
       "if (notebookContainer) {{\n",
       "    x.observe(notebookContainer, {childList: true});\n",
       "}}\n",
       "\n",
       "// Listen for the clearing of the current output cell\n",
       "var outputEl = gd.closest('.output');\n",
       "if (outputEl) {{\n",
       "    x.observe(outputEl, {childList: true});\n",
       "}}\n",
       "\n",
       "                        })                };                });            </script>        </div>"
      ]
     },
     "metadata": {},
     "output_type": "display_data"
    },
    {
     "data": {
      "text/html": [
       "        <script type=\"text/javascript\">\n",
       "        window.PlotlyConfig = {MathJaxConfig: 'local'};\n",
       "        if (window.MathJax && window.MathJax.Hub && window.MathJax.Hub.Config) {window.MathJax.Hub.Config({SVG: {font: \"STIX-Web\"}});}\n",
       "        if (typeof require !== 'undefined') {\n",
       "        require.undef(\"plotly\");\n",
       "        requirejs.config({\n",
       "            paths: {\n",
       "                'plotly': ['https://cdn.plot.ly/plotly-2.18.2.min']\n",
       "            }\n",
       "        });\n",
       "        require(['plotly'], function(Plotly) {\n",
       "            window._Plotly = Plotly;\n",
       "        });\n",
       "        }\n",
       "        </script>\n",
       "        "
      ]
     },
     "metadata": {},
     "output_type": "display_data"
    },
    {
     "data": {
      "text/html": [
       "<div>                            <div id=\"a0c6e40c-e7c0-412e-affe-80edc70fad3b\" class=\"plotly-graph-div\" style=\"height:800px; width:1200px;\"></div>            <script type=\"text/javascript\">                require([\"plotly\"], function(Plotly) {                    window.PLOTLYENV=window.PLOTLYENV || {};                                    if (document.getElementById(\"a0c6e40c-e7c0-412e-affe-80edc70fad3b\")) {                    Plotly.newPlot(                        \"a0c6e40c-e7c0-412e-affe-80edc70fad3b\",                        [{\"marker\":{\"color\":\"black\"},\"x\":[-29.880646898378075,-106.0132132],\"y\":[-8.757599103801436,89.40781657],\"type\":\"scatter\"},{\"marker\":{\"color\":\"red\"},\"mode\":\"markers\",\"name\":\"Trees covered by line 0\",\"x\":[-93.90127238,-97.02245733,-102.7610669,-106.9293573,-107.9110969,-110.3984335,-106.0132132,-96.73072895,-96.22606223,-98.31843957,-115.0619992,-108.786355,-114.5846122,-110.2887047,-103.1629812,-95.55933733,-105.839508,-107.0136188,-102.8911694,-104.5151239,-95.6665854,-105.2474193,-111.0155589,-110.4334077,-109.0691822,-113.8496183,-115.6880358,-116.3580906,-114.450469,-115.5839619,-100.4964897,-113.9290292,-120.5061,-118.8128,-108.5675,-103.0634,-103.6738,-95.93813,-68.21670068,-84.08833116,-75.60631589,-62.80450732,-47.87548267,-92.01265714,-93.82751185,-83.54479257,-78.19297493,-82.38238939,-63.16261606,-68.69947,-77.894284,-71.4853691,-72.662565,-89.07298,-70.08661831,-88.87189632,-89.04238067,-95.9302225,-81.16040829,-85.85650115,-94.4786539,-96.535378,-63.75294362,-95.71312916,-89.78213333,-101.3700811,-92.95359395,-100.9940699,-100.793763,-100.3478996,-99.5811527,-98.615002,-101.2184867,-96.69549867,-98.09441245,-42.05272394,-58.95692088,-61.24894305,-66.530239,-69.40538898,-62.3774501,-69.61408133,-65.64535138,-47.08279067,-47.94450819,-66.57174552,-56.70006471,-57.59924854,-50.10485046,-43.84057345,-74.27956334,-57.05613672,-73.64038121,-52.66540533,-46.96401457,-52.17798164,-66.00952476,-45.20257457,-45.41482262,-65.8870821,-59.03737455,-39.03887005,-59.16029652,-44.91329837,-81.48674652,-60.82878325,-43.79230016,-64.271412,-64.747095,-70.83656933,-45.95279935,-84.14636,-82.96498,-82.80746,-79.246,-68.08431,-57.8296,-54.713,-57.2062,-58.2843,-59.36414,-61.23467,-43.494],\"y\":[85.11919619,88.54954267,77.77472,80.351252,82.70909714,75.82409401,89.40781657,98.53306229,100.1307978,100.5692092,85.04506755,77.02719052,82.96372814,86.10765266,85.29616635,104.3161573,86.49467744,95.28771062,86.20745338,87.68086518,102.4783549,97.1181028,90.92524233,96.00547745,82.99614333,87.2107575,80.37969702,88.860498,91.64478486,78.43012638,96.3416446,85.41514138,83.28294,80.60513,85.8628,81.09737,101.2746,90.31217,61.39562391,62.67181938,72.66518112,3.661438659,12.41163467,49.73902457,58.72901398,57.81202571,43.280443,59.70660391,14.21862546,11.68062366,52.61685171,13.69239645,9.753753333,50.99806667,10.52799649,60.67692382,71.26314307,52.33538372,79.16582743,75.32552365,71.09835181,57.0680368,16.11237048,59.49331107,75.87889667,61.58523686,65.33045471,58.10407029,57.17725771,63.67441974,64.05568506,64.13211571,63.57803857,65.44717238,64.92266082,-0.318944394,4.96812146,7.909944762,7.427147,10.34906898,47.315436,48.07348533,21.16043231,22.12641333,25.21787333,47.204756,39.27407121,22.61315719,1.511377768,3.091691893,41.73161398,32.56169672,33.91353359,8.185796,6.821372,4.378941281,23.30821952,9.288627714,13.76034762,16.91638248,23.515587,3.565993622,31.27495377,-0.132877354,49.11636996,38.27663021,19.18281558,52.23652133,41.633555,38.04694933,19.65958551,37.92971,36.92554,33.89332,30.50907,40.82172,0.1746,0.7044,6.7719,16.481,29.308,38.36289,-2.3416],\"type\":\"scatter\"},{\"marker\":{\"color\":\"black\"},\"x\":[-15.12792573,-29.880646898378075],\"y\":[-26.16056076,-8.757599103801436],\"type\":\"scatter\"},{\"marker\":{\"color\":\"black\"},\"x\":[5.750624681,-29.880646898378075],\"y\":[-23.50333184,-8.757599103801436],\"type\":\"scatter\"},{\"marker\":{\"color\":\"black\"},\"x\":[-22.92090482,-29.880646898378075],\"y\":[-30.73934474,-8.757599103801436],\"type\":\"scatter\"},{\"marker\":{\"color\":\"black\"},\"x\":[-83.54479257],\"y\":[57.81202571],\"type\":\"scatter\"},{\"marker\":{\"color\":\"black\"},\"x\":[-24.572446093973856,-78.82330588],\"y\":[-5.963584108606202,117.612602],\"type\":\"scatter\"},{\"marker\":{\"color\":\"blue\"},\"mode\":\"markers\",\"name\":\"Trees covered by line 1\",\"x\":[-83.48467459,-88.19360784,-77.38716,-74.37847497,-74.12546686,-83.96798843,-89.62130667,-83.3753646,-82.7508461,-78.26144619,-74.66894341,-85.630951,-90.57745961,-72.9690587,-79.21758645,-87.31261084,-78.82330588,-70.18942466,-70.13604975,-69.11292673,-72.28254052,-65.84327489,-87.83312994,-67.58248429,-65.91586274,-66.154401,-65.06967068,-64.15900983,-64.44548,-74.75674,-80.30925,-77.59206,-76.80447,-72.7287,-65.68216,-42.19841593,-63.811228,-43.45665946,-63.83902737,-45.04949761,-68.96079619,-72.90408841,-54.49800107,-54.42445327,-40.01723757,-65.83894297,-72.31511771,-56.52763129,-63.91497622,-67.73621776,-63.74153257,-69.36194202,-71.06100708,-80.33854904,-77.01644229,-55.73910528,-55.97405282,-58.99396885,-61.57447094,-80.0400875,-60.4958655,-28.2617947,-30.87206137,-25.73708667,-25.69500145,-31.39633886,-30.33386573,-28.67903971,-35.14537733,-39.8912642,-42.67860149,-38.89644161,-41.55115797,-31.56738227,-41.41965835,-45.08971777,-37.35254208,-57.6806725,-58.99463714,-42.38344933,-44.55701509,-59.8437761,-60.93192832,-61.66114429,-52.02315851,-49.13330237,-52.04638421,-52.68046227,-34.06315703,-51.23299876,-40.615716,-46.21868933,-34.85075714,-42.86287625,-58.14497146,-51.18539067,-50.13028007,-45.99883432,-38.25214,-51.51983649,-50.43153156,-36.77754178,-36.97431304,-52.15906782,-62.64994,-69.79732,-66.13502,-60.05328,-46.27285,-31.387,-32.66963,-39.20662,-26.57804],\"y\":[95.86970097,98.34736686,105.531576,104.4872907,104.5034411,102.8353679,107.525112,106.9914629,115.3560539,109.285201,120.7985667,113.1640033,107.7242429,113.7228677,104.8973871,111.5093353,117.612602,120.3503284,119.873547,121.5114816,123.1188927,113.24662,111.5008781,122.3045443,122.5960266,118.6669428,116.4094181,119.7839872,123.662627,104.7006,118.481,119.4655,121.629,126.0789,119.9184,22.29488814,60.68509933,45.96339541,71.132852,40.88877161,74.36834876,73.25266903,76.57974267,73.38996884,54.851973,81.18862365,83.26069743,69.05706172,67.20044389,85.21727234,71.50158228,85.35868131,90.40291679,84.43096494,87.13747124,82.93201083,82.95283865,52.62083967,81.48780766,84.73800696,102.2441972,15.70429784,8.485619598,10.44674038,16.54076148,5.626359429,2.907323459,3.598538571,12.83804781,55.19798306,59.14324874,37.17328227,38.8420729,17.63833001,28.17128838,30.01578138,30.81641938,57.81795917,52.14452743,56.49411867,68.98637917,65.59072248,79.11159821,78.64611429,34.43051143,38.52826698,85.52256734,84.56854314,42.74553598,57.79036526,49.63081867,56.45468667,31.54198771,36.31789783,44.69947795,56.80349467,45.7442706,51.07242743,45.15325,66.06245366,32.90602742,19.00586822,38.85725913,38.50238222,57.39809,85.42912,87.31933,99.13079,50.93986,26.5007,29.44582,37.47685,-0.1603819],\"type\":\"scatter\"},{\"marker\":{\"color\":\"black\"},\"x\":[-15.12792573,-24.572446093973856],\"y\":[-26.16056076,-5.963584108606202],\"type\":\"scatter\"},{\"marker\":{\"color\":\"black\"},\"x\":[5.750624681,-24.572446093973856],\"y\":[-23.50333184,-5.963584108606202],\"type\":\"scatter\"},{\"marker\":{\"color\":\"black\"},\"x\":[-23.72151289,-24.572446093973856],\"y\":[-29.27645096,-5.963584108606202],\"type\":\"scatter\"},{\"marker\":{\"color\":\"black\"},\"x\":[-66.13502],\"y\":[87.31933],\"type\":\"scatter\"},{\"marker\":{\"color\":\"black\"},\"x\":[-10.530025583459231,-48.38149441],\"y\":[1.431291296576059,130.5650093],\"type\":\"scatter\"},{\"marker\":{\"color\":\"green\"},\"mode\":\"markers\",\"name\":\"Trees covered by line 2\",\"x\":[-46.08530939,-61.06820181,-55.91586735,-61.14652818,-60.13371324,-64.87632182,-57.75133942,-51.72634937,-54.22529924,-56.03364748,-51.34979148,-57.75406087,-47.45566976,-54.71720264,-48.32035725,-48.23730243,-45.03471145,-52.09936048,-43.77058695,-48.38149441,-45.35963829,-43.13583476,-43.45710629,-57.6796,-50.2108,-46.54851,-46.70603,-35.66054857,-29.52118366,-35.64954472,-43.49902229,-34.33894197,-42.88247,-42.96844683,-42.88422773,-48.14191589,-34.36197702,-47.48895232,-41.45272492,-37.40364779,-47.03967,-44.76037486,-27.90749342,-42.45386268,-46.56984086,-46.3035472,-53.95952592,-41.02201027,-45.75961067,-38.6765687,-35.86348262,-41.16064667,-39.73316282,-39.92093491,-18.9630296,-18.65162734,-17.78911115,-19.67749185,-25.02978597,-23.84008161,-22.30652,-15.14474109,-13.69800957,-18.06885752,-14.65210971,-15.91308293,-11.601952,-27.78574676,-24.44786368,-28.94543143,-33.67924298,-38.86416389,-30.05668667,-25.99110432,-38.77894034,-28.993184,-35.61926952,-24.92097067,-29.944999,-27.75257914,-32.25445304,-28.70804743,-29.96957619,-29.001412,-24.53690497,-28.56954773,-25.21215064,-26.32428857,-42.61056,-41.68514,-49.73825,-46.33192,-43.94946,-42.39397,-37.06044,-32.64994,-39.36414,-26.77494,-27.56253,-22.71885,-29.49212,-19.31492],\"y\":[140.8923356,129.0447034,136.2810578,132.0985808,135.6421414,130.8051815,129.7407148,139.1805794,132.3293989,131.1800298,136.4680276,135.4419983,141.6323199,138.5854925,139.9950704,134.702649,135.7886081,129.4302928,142.5344245,130.5650093,129.9263817,136.0357043,135.9078147,127.0673,142.7316,144.0902,144.2674,48.78942838,47.77308082,62.20546824,83.77907886,53.87249423,79.38806,79.17753615,79.5017264,90.12105144,51.01104351,80.04219899,93.44422701,75.15095502,92.620915,84.80327676,48.83765152,73.7884278,108.5148826,108.981916,106.6657674,106.5429704,114.229152,97.60567565,103.9891685,104.4493693,109.4680707,106.6778969,42.3682832,42.51463825,24.66935949,36.45218043,26.59853797,35.58692832,12.12235333,18.82510326,17.48616727,20.80237814,14.20317371,19.1406085,11.650616,48.56813041,61.57301977,57.84716161,67.80925329,62.46519968,65.25714533,41.22527541,66.29875835,69.250824,56.00777619,69.08989467,74.69281,48.92443522,37.90019062,76.19336305,83.24034333,87.892008,39.65303157,40.1044632,45.25440052,59.06835467,79.34737,84.44463,86.92554,96.76802,102.4166,114.1493,79.1111,90.52876,117.4572,31.64869,37.92971,48.97327,47.47685,29.95776],\"type\":\"scatter\"},{\"marker\":{\"color\":\"black\"},\"x\":[-4.352596,-10.530025583459231],\"y\":[-25.27437571,1.431291296576059],\"type\":\"scatter\"},{\"marker\":{\"color\":\"black\"},\"x\":[15.04316711,-10.530025583459231],\"y\":[-16.67449933,1.431291296576059],\"type\":\"scatter\"},{\"marker\":{\"color\":\"black\"},\"x\":[-15.12792573,-10.530025583459231],\"y\":[-26.16056076,1.431291296576059],\"type\":\"scatter\"},{\"marker\":{\"color\":\"black\"},\"x\":[-39.92093491],\"y\":[106.6778969],\"type\":\"scatter\"},{\"marker\":{\"color\":\"black\"},\"x\":[-6.727108153121151,-29.84199559],\"y\":[2.6713796071534985,140.2430958],\"type\":\"scatter\"},{\"marker\":{\"color\":\"orange\"},\"mode\":\"markers\",\"name\":\"Trees covered by line 3\",\"x\":[-20.01427656,-39.1687174,-41.69020833,-20.15441667,-30.51452551,-37.09976663,-37.47195419,-38.754948,-28.88421312,-30.53919388,-33.86425279,-42.03635682,-33.38285971,-20.31095449,-30.12933628,-38.2757944,-37.18284862,-26.71358941,-32.49283298,-29.93719601,-24.30442355,-43.69364112,-36.96231791,-29.73887306,-38.04231305,-26.46417652,-25.02255191,-22.40626011,-29.84199559,-34.43580671,-24.7515566,-38.15196,-29.1106237,-17.46835571,-28.66212267,-26.34495444,-28.271429,-26.86485143,-28.02366579,-22.25938746,-23.30889411,-22.14285214,-19.53772261,-28.05956057,-21.99539808,-18.51068583,-21.1580461,-22.93293569,-23.63868957,-21.46493537,-24.29473288,-22.44136039,-20.74738784,-21.35527254,-14.66676903,-16.46067657,-35.52464,-14.96348,-12.39504358,-25.82151267,-27.440446,-17.82092298,-14.75707055,-5.417156102,-4.340797395,-16.80794933,-8.689096627,-14.61508286,-4.7308435,-1.514686918,-4.932367447,-10.04503957,-16.71623767,-28.12296714,-5.661616259,-7.976111714,-14.30092727,-11.09186833,-0.970214667,-1.101420381,0.959775614,-16.73522379,-14.70918078,-31.63498,-3.684222609,-18.81114101,-16.42554125,-7.013041031,-9.316790811,-10.57044051,-33.41519219,-5.883315789,-31.05259335,-3.428835238,-19.78574851,-17.27104514,-21.01267307,-17.9089861,-26.4252543,-9.506584667,-29.62011305,-31.62244894,-31.45910438,-26.01718061,-25.5937586,-18.45054018,-13.09188479,-11.34937437,-4.71877549,7.004541667,5.493851429,-4.330929125,-1.646586857,-15.47295086,-6.690598095,-11.059135,-4.101818305,-9.93666867,-9.295090672,-8.603829565,-12.23518208,-2.883395794,3.084357143,-13.38512882,-5.484164,0.321903298,-4.673825497,-7.36146924,-8.913310306,-2.147337167,-16.94963143,-20.20948667,-20.23025629,2.141117714,0.553883429,1.217273145,9.156768,3.921010667,7.098754534,7.479731412,6.139525143,-1.028744857,1.129600536,-4.479498667,11.01780383,-4.786697799,-7.099081333,-2.900987238,5.259022129,-8.28776323,-15.16253286,-20.38245718,2.272871159,-25.4799278,-8.609093084,-33.3677,-25.41635,-25.4618,-22.26599,-11.9568,-16.12518,-15.98735,-11.77375,-11.2045,-18.36981,-17.73974,-14.90442,-9.314916,-8.094153,-10.456921,-1.222434,-6.1945,-5.731384,4.977446,6.4954,-0.5947494,0.7441527,10.76384],\"y\":[149.922979,139.7536376,142.3992175,148.7100133,144.0812844,143.2286398,144.5117223,141.452916,149.7437673,148.8980511,147.9375081,145.0488265,144.4892955,155.2269872,150.6443552,147.5998112,141.5735606,150.2932019,152.1576349,154.1487041,153.6091877,147.2670105,149.7175643,147.3293567,135.0927363,148.6259799,149.9409567,152.3785745,140.2430958,137.6704921,146.9438328,139.1557724,155.6000522,153.7533924,145.4021884,143.7813359,147.1316737,145.8027457,153.0952278,150.7908792,145.2685239,148.0454856,149.7903661,142.6129877,146.2552103,155.5919847,145.62263,156.6022742,144.1373566,145.0063692,143.8484455,147.3931012,145.8831472,145.93957,152.8066188,151.5756583,151.1958,154.9172,77.24231806,80.59336367,85.34171829,77.67130238,84.74432859,8.847342542,81.53936933,93.58312933,10.01766072,91.84376152,42.19041075,109.694083,108.8521612,120.7187843,125.3305517,115.1939071,106.5826182,121.755362,101.7534391,125.466655,100.3982661,106.7018923,96.49986281,98.73511212,89.51142653,113.1713044,89.0582687,100.5875039,105.5024725,99.48536037,106.6407206,126.8679454,110.2547015,98.33835579,104.6993637,93.7002,127.6360481,122.5399796,125.0750803,118.7230411,121.042114,127.3303587,118.2129548,119.4623426,115.7525987,121.7202521,130.2994724,132.7106863,118.0804011,137.7772238,13.84812451,23.59549,19.41666948,20.2928445,17.47972819,42.88988038,49.72451276,21.8502846,28.81178949,42.1022018,58.89740588,22.22068,25.53155401,24.44928234,12.85137943,23.16962608,22.97693067,25.36297713,29.02559614,61.68461228,13.90776621,8.8733685,71.74829257,55.70627325,56.03150514,64.40213029,60.16771829,66.92785654,57.54668876,71.44016667,62.58893516,68.59563745,58.323828,68.91248914,71.11121482,66.127156,52.36532967,73.77888096,59.32604853,55.29820971,82.34198555,55.6569646,74.59968095,65.47596052,49.02283551,77.17356441,75.07819673,115.6314,96.35453,102.9989,118.7173,27.5647,35.09439,34.83842,59.60334,88.6517,108.166,113.5192,111.9637,29.81993,40.31217,37.20119,45.13377,92.8805,106.3545,44.20835,47.9617,87.14212,85.94105,30.70597],\"type\":\"scatter\"},{\"marker\":{\"color\":\"black\"},\"x\":[-4.352596,-6.727108153121151],\"y\":[-25.27437571,2.6713796071534985],\"type\":\"scatter\"},{\"marker\":{\"color\":\"black\"},\"x\":[15.04316711,-6.727108153121151],\"y\":[-16.67449933,2.6713796071534985],\"type\":\"scatter\"},{\"marker\":{\"color\":\"black\"},\"x\":[-15.12792573,-6.727108153121151],\"y\":[-26.16056076,2.6713796071534985],\"type\":\"scatter\"},{\"marker\":{\"color\":\"black\"},\"x\":[-16.94963143],\"y\":[71.74829257],\"type\":\"scatter\"}],                        {\"template\":{\"data\":{\"histogram2dcontour\":[{\"type\":\"histogram2dcontour\",\"colorbar\":{\"outlinewidth\":0,\"ticks\":\"\"},\"colorscale\":[[0.0,\"#0d0887\"],[0.1111111111111111,\"#46039f\"],[0.2222222222222222,\"#7201a8\"],[0.3333333333333333,\"#9c179e\"],[0.4444444444444444,\"#bd3786\"],[0.5555555555555556,\"#d8576b\"],[0.6666666666666666,\"#ed7953\"],[0.7777777777777778,\"#fb9f3a\"],[0.8888888888888888,\"#fdca26\"],[1.0,\"#f0f921\"]]}],\"choropleth\":[{\"type\":\"choropleth\",\"colorbar\":{\"outlinewidth\":0,\"ticks\":\"\"}}],\"histogram2d\":[{\"type\":\"histogram2d\",\"colorbar\":{\"outlinewidth\":0,\"ticks\":\"\"},\"colorscale\":[[0.0,\"#0d0887\"],[0.1111111111111111,\"#46039f\"],[0.2222222222222222,\"#7201a8\"],[0.3333333333333333,\"#9c179e\"],[0.4444444444444444,\"#bd3786\"],[0.5555555555555556,\"#d8576b\"],[0.6666666666666666,\"#ed7953\"],[0.7777777777777778,\"#fb9f3a\"],[0.8888888888888888,\"#fdca26\"],[1.0,\"#f0f921\"]]}],\"heatmap\":[{\"type\":\"heatmap\",\"colorbar\":{\"outlinewidth\":0,\"ticks\":\"\"},\"colorscale\":[[0.0,\"#0d0887\"],[0.1111111111111111,\"#46039f\"],[0.2222222222222222,\"#7201a8\"],[0.3333333333333333,\"#9c179e\"],[0.4444444444444444,\"#bd3786\"],[0.5555555555555556,\"#d8576b\"],[0.6666666666666666,\"#ed7953\"],[0.7777777777777778,\"#fb9f3a\"],[0.8888888888888888,\"#fdca26\"],[1.0,\"#f0f921\"]]}],\"heatmapgl\":[{\"type\":\"heatmapgl\",\"colorbar\":{\"outlinewidth\":0,\"ticks\":\"\"},\"colorscale\":[[0.0,\"#0d0887\"],[0.1111111111111111,\"#46039f\"],[0.2222222222222222,\"#7201a8\"],[0.3333333333333333,\"#9c179e\"],[0.4444444444444444,\"#bd3786\"],[0.5555555555555556,\"#d8576b\"],[0.6666666666666666,\"#ed7953\"],[0.7777777777777778,\"#fb9f3a\"],[0.8888888888888888,\"#fdca26\"],[1.0,\"#f0f921\"]]}],\"contourcarpet\":[{\"type\":\"contourcarpet\",\"colorbar\":{\"outlinewidth\":0,\"ticks\":\"\"}}],\"contour\":[{\"type\":\"contour\",\"colorbar\":{\"outlinewidth\":0,\"ticks\":\"\"},\"colorscale\":[[0.0,\"#0d0887\"],[0.1111111111111111,\"#46039f\"],[0.2222222222222222,\"#7201a8\"],[0.3333333333333333,\"#9c179e\"],[0.4444444444444444,\"#bd3786\"],[0.5555555555555556,\"#d8576b\"],[0.6666666666666666,\"#ed7953\"],[0.7777777777777778,\"#fb9f3a\"],[0.8888888888888888,\"#fdca26\"],[1.0,\"#f0f921\"]]}],\"surface\":[{\"type\":\"surface\",\"colorbar\":{\"outlinewidth\":0,\"ticks\":\"\"},\"colorscale\":[[0.0,\"#0d0887\"],[0.1111111111111111,\"#46039f\"],[0.2222222222222222,\"#7201a8\"],[0.3333333333333333,\"#9c179e\"],[0.4444444444444444,\"#bd3786\"],[0.5555555555555556,\"#d8576b\"],[0.6666666666666666,\"#ed7953\"],[0.7777777777777778,\"#fb9f3a\"],[0.8888888888888888,\"#fdca26\"],[1.0,\"#f0f921\"]]}],\"mesh3d\":[{\"type\":\"mesh3d\",\"colorbar\":{\"outlinewidth\":0,\"ticks\":\"\"}}],\"scatter\":[{\"fillpattern\":{\"fillmode\":\"overlay\",\"size\":10,\"solidity\":0.2},\"type\":\"scatter\"}],\"parcoords\":[{\"type\":\"parcoords\",\"line\":{\"colorbar\":{\"outlinewidth\":0,\"ticks\":\"\"}}}],\"scatterpolargl\":[{\"type\":\"scatterpolargl\",\"marker\":{\"colorbar\":{\"outlinewidth\":0,\"ticks\":\"\"}}}],\"bar\":[{\"error_x\":{\"color\":\"#2a3f5f\"},\"error_y\":{\"color\":\"#2a3f5f\"},\"marker\":{\"line\":{\"color\":\"#E5ECF6\",\"width\":0.5},\"pattern\":{\"fillmode\":\"overlay\",\"size\":10,\"solidity\":0.2}},\"type\":\"bar\"}],\"scattergeo\":[{\"type\":\"scattergeo\",\"marker\":{\"colorbar\":{\"outlinewidth\":0,\"ticks\":\"\"}}}],\"scatterpolar\":[{\"type\":\"scatterpolar\",\"marker\":{\"colorbar\":{\"outlinewidth\":0,\"ticks\":\"\"}}}],\"histogram\":[{\"marker\":{\"pattern\":{\"fillmode\":\"overlay\",\"size\":10,\"solidity\":0.2}},\"type\":\"histogram\"}],\"scattergl\":[{\"type\":\"scattergl\",\"marker\":{\"colorbar\":{\"outlinewidth\":0,\"ticks\":\"\"}}}],\"scatter3d\":[{\"type\":\"scatter3d\",\"line\":{\"colorbar\":{\"outlinewidth\":0,\"ticks\":\"\"}},\"marker\":{\"colorbar\":{\"outlinewidth\":0,\"ticks\":\"\"}}}],\"scattermapbox\":[{\"type\":\"scattermapbox\",\"marker\":{\"colorbar\":{\"outlinewidth\":0,\"ticks\":\"\"}}}],\"scatterternary\":[{\"type\":\"scatterternary\",\"marker\":{\"colorbar\":{\"outlinewidth\":0,\"ticks\":\"\"}}}],\"scattercarpet\":[{\"type\":\"scattercarpet\",\"marker\":{\"colorbar\":{\"outlinewidth\":0,\"ticks\":\"\"}}}],\"carpet\":[{\"aaxis\":{\"endlinecolor\":\"#2a3f5f\",\"gridcolor\":\"white\",\"linecolor\":\"white\",\"minorgridcolor\":\"white\",\"startlinecolor\":\"#2a3f5f\"},\"baxis\":{\"endlinecolor\":\"#2a3f5f\",\"gridcolor\":\"white\",\"linecolor\":\"white\",\"minorgridcolor\":\"white\",\"startlinecolor\":\"#2a3f5f\"},\"type\":\"carpet\"}],\"table\":[{\"cells\":{\"fill\":{\"color\":\"#EBF0F8\"},\"line\":{\"color\":\"white\"}},\"header\":{\"fill\":{\"color\":\"#C8D4E3\"},\"line\":{\"color\":\"white\"}},\"type\":\"table\"}],\"barpolar\":[{\"marker\":{\"line\":{\"color\":\"#E5ECF6\",\"width\":0.5},\"pattern\":{\"fillmode\":\"overlay\",\"size\":10,\"solidity\":0.2}},\"type\":\"barpolar\"}],\"pie\":[{\"automargin\":true,\"type\":\"pie\"}]},\"layout\":{\"autotypenumbers\":\"strict\",\"colorway\":[\"#636efa\",\"#EF553B\",\"#00cc96\",\"#ab63fa\",\"#FFA15A\",\"#19d3f3\",\"#FF6692\",\"#B6E880\",\"#FF97FF\",\"#FECB52\"],\"font\":{\"color\":\"#2a3f5f\"},\"hovermode\":\"closest\",\"hoverlabel\":{\"align\":\"left\"},\"paper_bgcolor\":\"white\",\"plot_bgcolor\":\"#E5ECF6\",\"polar\":{\"bgcolor\":\"#E5ECF6\",\"angularaxis\":{\"gridcolor\":\"white\",\"linecolor\":\"white\",\"ticks\":\"\"},\"radialaxis\":{\"gridcolor\":\"white\",\"linecolor\":\"white\",\"ticks\":\"\"}},\"ternary\":{\"bgcolor\":\"#E5ECF6\",\"aaxis\":{\"gridcolor\":\"white\",\"linecolor\":\"white\",\"ticks\":\"\"},\"baxis\":{\"gridcolor\":\"white\",\"linecolor\":\"white\",\"ticks\":\"\"},\"caxis\":{\"gridcolor\":\"white\",\"linecolor\":\"white\",\"ticks\":\"\"}},\"coloraxis\":{\"colorbar\":{\"outlinewidth\":0,\"ticks\":\"\"}},\"colorscale\":{\"sequential\":[[0.0,\"#0d0887\"],[0.1111111111111111,\"#46039f\"],[0.2222222222222222,\"#7201a8\"],[0.3333333333333333,\"#9c179e\"],[0.4444444444444444,\"#bd3786\"],[0.5555555555555556,\"#d8576b\"],[0.6666666666666666,\"#ed7953\"],[0.7777777777777778,\"#fb9f3a\"],[0.8888888888888888,\"#fdca26\"],[1.0,\"#f0f921\"]],\"sequentialminus\":[[0.0,\"#0d0887\"],[0.1111111111111111,\"#46039f\"],[0.2222222222222222,\"#7201a8\"],[0.3333333333333333,\"#9c179e\"],[0.4444444444444444,\"#bd3786\"],[0.5555555555555556,\"#d8576b\"],[0.6666666666666666,\"#ed7953\"],[0.7777777777777778,\"#fb9f3a\"],[0.8888888888888888,\"#fdca26\"],[1.0,\"#f0f921\"]],\"diverging\":[[0,\"#8e0152\"],[0.1,\"#c51b7d\"],[0.2,\"#de77ae\"],[0.3,\"#f1b6da\"],[0.4,\"#fde0ef\"],[0.5,\"#f7f7f7\"],[0.6,\"#e6f5d0\"],[0.7,\"#b8e186\"],[0.8,\"#7fbc41\"],[0.9,\"#4d9221\"],[1,\"#276419\"]]},\"xaxis\":{\"gridcolor\":\"white\",\"linecolor\":\"white\",\"ticks\":\"\",\"title\":{\"standoff\":15},\"zerolinecolor\":\"white\",\"automargin\":true,\"zerolinewidth\":2},\"yaxis\":{\"gridcolor\":\"white\",\"linecolor\":\"white\",\"ticks\":\"\",\"title\":{\"standoff\":15},\"zerolinecolor\":\"white\",\"automargin\":true,\"zerolinewidth\":2},\"scene\":{\"xaxis\":{\"backgroundcolor\":\"#E5ECF6\",\"gridcolor\":\"white\",\"linecolor\":\"white\",\"showbackground\":true,\"ticks\":\"\",\"zerolinecolor\":\"white\",\"gridwidth\":2},\"yaxis\":{\"backgroundcolor\":\"#E5ECF6\",\"gridcolor\":\"white\",\"linecolor\":\"white\",\"showbackground\":true,\"ticks\":\"\",\"zerolinecolor\":\"white\",\"gridwidth\":2},\"zaxis\":{\"backgroundcolor\":\"#E5ECF6\",\"gridcolor\":\"white\",\"linecolor\":\"white\",\"showbackground\":true,\"ticks\":\"\",\"zerolinecolor\":\"white\",\"gridwidth\":2}},\"shapedefaults\":{\"line\":{\"color\":\"#2a3f5f\"}},\"annotationdefaults\":{\"arrowcolor\":\"#2a3f5f\",\"arrowhead\":0,\"arrowwidth\":1},\"geo\":{\"bgcolor\":\"white\",\"landcolor\":\"#E5ECF6\",\"subunitcolor\":\"white\",\"showland\":true,\"showlakes\":true,\"lakecolor\":\"white\"},\"title\":{\"x\":0.05},\"mapbox\":{\"style\":\"light\"}}},\"title\":{\"text\":\"NSGA2 4\"},\"width\":1200,\"height\":800},                        {\"responsive\": true}                    ).then(function(){\n",
       "                            \n",
       "var gd = document.getElementById('a0c6e40c-e7c0-412e-affe-80edc70fad3b');\n",
       "var x = new MutationObserver(function (mutations, observer) {{\n",
       "        var display = window.getComputedStyle(gd).display;\n",
       "        if (!display || display === 'none') {{\n",
       "            console.log([gd, 'removed!']);\n",
       "            Plotly.purge(gd);\n",
       "            observer.disconnect();\n",
       "        }}\n",
       "}});\n",
       "\n",
       "// Listen for the removal of the full notebook cells\n",
       "var notebookContainer = gd.closest('#notebook-container');\n",
       "if (notebookContainer) {{\n",
       "    x.observe(notebookContainer, {childList: true});\n",
       "}}\n",
       "\n",
       "// Listen for the clearing of the current output cell\n",
       "var outputEl = gd.closest('.output');\n",
       "if (outputEl) {{\n",
       "    x.observe(outputEl, {childList: true});\n",
       "}}\n",
       "\n",
       "                        })                };                });            </script>        </div>"
      ]
     },
     "metadata": {},
     "output_type": "display_data"
    },
    {
     "data": {
      "text/html": [
       "        <script type=\"text/javascript\">\n",
       "        window.PlotlyConfig = {MathJaxConfig: 'local'};\n",
       "        if (window.MathJax && window.MathJax.Hub && window.MathJax.Hub.Config) {window.MathJax.Hub.Config({SVG: {font: \"STIX-Web\"}});}\n",
       "        if (typeof require !== 'undefined') {\n",
       "        require.undef(\"plotly\");\n",
       "        requirejs.config({\n",
       "            paths: {\n",
       "                'plotly': ['https://cdn.plot.ly/plotly-2.18.2.min']\n",
       "            }\n",
       "        });\n",
       "        require(['plotly'], function(Plotly) {\n",
       "            window._Plotly = Plotly;\n",
       "        });\n",
       "        }\n",
       "        </script>\n",
       "        "
      ]
     },
     "metadata": {},
     "output_type": "display_data"
    },
    {
     "data": {
      "text/html": [
       "<div>                            <div id=\"8490cde7-c5ec-4339-977e-a5fbffe5826d\" class=\"plotly-graph-div\" style=\"height:800px; width:1200px;\"></div>            <script type=\"text/javascript\">                require([\"plotly\"], function(Plotly) {                    window.PLOTLYENV=window.PLOTLYENV || {};                                    if (document.getElementById(\"8490cde7-c5ec-4339-977e-a5fbffe5826d\")) {                    Plotly.newPlot(                        \"8490cde7-c5ec-4339-977e-a5fbffe5826d\",                        [{\"marker\":{\"color\":\"black\"},\"x\":[-21.04714225020318,-106.0132132],\"y\":[-4.073548974251366,89.40781657],\"type\":\"scatter\"},{\"marker\":{\"color\":\"red\"},\"mode\":\"markers\",\"name\":\"Trees covered by line 0\",\"x\":[-83.48467459,-88.19360784,-93.90127238,-97.02245733,-102.7610669,-106.9293573,-107.9110969,-110.3984335,-106.0132132,-96.73072895,-96.22606223,-98.31843957,-115.0619992,-108.786355,-114.5846122,-110.2887047,-103.1629812,-95.55933733,-105.839508,-107.0136188,-89.62130667,-102.8911694,-104.5151239,-90.57745961,-95.6665854,-105.2474193,-111.0155589,-110.4334077,-109.0691822,-113.8496183,-115.6880358,-116.3580906,-114.450469,-115.5839619,-100.4964897,-113.9290292,-120.5061,-118.8128,-108.5675,-103.0634,-103.6738,-95.93813,-68.21670068,-42.19841593,-63.811228,-84.08833116,-75.60631589,-62.80450732,-47.87548267,-92.01265714,-68.96079619,-93.82751185,-83.54479257,-72.90408841,-78.19297493,-82.38238939,-63.16261606,-68.69947,-77.894284,-71.4853691,-72.662565,-89.07298,-70.08661831,-88.87189632,-89.04238067,-95.9302225,-81.16040829,-85.85650115,-94.4786539,-96.535378,-63.75294362,-63.91497622,-80.33854904,-77.01644229,-95.71312916,-89.78213333,-58.99396885,-101.3700811,-92.95359395,-100.9940699,-80.0400875,-100.793763,-100.3478996,-99.5811527,-98.615002,-101.2184867,-96.69549867,-98.09441245,-30.87206137,-25.73708667,-31.39633886,-30.33386573,-28.67903971,-35.14537733,-42.05272394,-58.95692088,-61.24894305,-66.530239,-69.40538898,-31.56738227,-41.41965835,-45.08971777,-62.3774501,-69.61408133,-65.64535138,-47.08279067,-47.94450819,-66.57174552,-57.6806725,-56.70006471,-57.59924854,-50.10485046,-43.84057345,-74.27956334,-57.05613672,-58.99463714,-73.64038121,-52.66540533,-46.96401457,-52.17798164,-66.00952476,-45.20257457,-52.02315851,-45.41482262,-65.8870821,-59.03737455,-49.13330237,-39.03887005,-59.16029652,-44.91329837,-81.48674652,-60.82878325,-42.86287625,-58.14497146,-43.79230016,-64.271412,-50.13028007,-64.747095,-50.43153156,-70.83656933,-45.95279935,-36.77754178,-52.15906782,-84.14636,-82.96498,-82.80746,-79.246,-68.08431,-62.64994,-57.8296,-54.713,-57.2062,-58.2843,-59.36414,-61.23467,-43.494,-26.57804],\"y\":[95.86970097,98.34736686,85.11919619,88.54954267,77.77472,80.351252,82.70909714,75.82409401,89.40781657,98.53306229,100.1307978,100.5692092,85.04506755,77.02719052,82.96372814,86.10765266,85.29616635,104.3161573,86.49467744,95.28771062,107.525112,86.20745338,87.68086518,107.7242429,102.4783549,97.1181028,90.92524233,96.00547745,82.99614333,87.2107575,80.37969702,88.860498,91.64478486,78.43012638,96.3416446,85.41514138,83.28294,80.60513,85.8628,81.09737,101.2746,90.31217,61.39562391,22.29488814,60.68509933,62.67181938,72.66518112,3.661438659,12.41163467,49.73902457,74.36834876,58.72901398,57.81202571,73.25266903,43.280443,59.70660391,14.21862546,11.68062366,52.61685171,13.69239645,9.753753333,50.99806667,10.52799649,60.67692382,71.26314307,52.33538372,79.16582743,75.32552365,71.09835181,57.0680368,16.11237048,67.20044389,84.43096494,87.13747124,59.49331107,75.87889667,52.62083967,61.58523686,65.33045471,58.10407029,84.73800696,57.17725771,63.67441974,64.05568506,64.13211571,63.57803857,65.44717238,64.92266082,8.485619598,10.44674038,5.626359429,2.907323459,3.598538571,12.83804781,-0.318944394,4.96812146,7.909944762,7.427147,10.34906898,17.63833001,28.17128838,30.01578138,47.315436,48.07348533,21.16043231,22.12641333,25.21787333,47.204756,57.81795917,39.27407121,22.61315719,1.511377768,3.091691893,41.73161398,32.56169672,52.14452743,33.91353359,8.185796,6.821372,4.378941281,23.30821952,9.288627714,34.43051143,13.76034762,16.91638248,23.515587,38.52826698,3.565993622,31.27495377,-0.132877354,49.11636996,38.27663021,36.31789783,44.69947795,19.18281558,52.23652133,45.7442706,41.633555,32.90602742,38.04694933,19.65958551,19.00586822,38.50238222,37.92971,36.92554,33.89332,30.50907,40.82172,57.39809,0.1746,0.7044,6.7719,16.481,29.308,38.36289,-2.3416,-0.1603819],\"type\":\"scatter\"},{\"marker\":{\"color\":\"black\"},\"x\":[-4.352596,-21.04714225020318],\"y\":[-25.27437571,-4.073548974251366],\"type\":\"scatter\"},{\"marker\":{\"color\":\"black\"},\"x\":[15.04316711,-21.04714225020318],\"y\":[-16.67449933,-4.073548974251366],\"type\":\"scatter\"},{\"marker\":{\"color\":\"black\"},\"x\":[-15.12792573,-21.04714225020318],\"y\":[-26.16056076,-4.073548974251366],\"type\":\"scatter\"},{\"marker\":{\"color\":\"black\"},\"x\":[-84.08833116],\"y\":[62.67181938],\"type\":\"scatter\"},{\"marker\":{\"color\":\"black\"},\"x\":[-14.332943013797312,-65.68216],\"y\":[0.19120298599861893,119.9184],\"type\":\"scatter\"},{\"marker\":{\"color\":\"blue\"},\"mode\":\"markers\",\"name\":\"Trees covered by line 1\",\"x\":[-77.38716,-74.37847497,-74.12546686,-83.96798843,-83.3753646,-82.7508461,-78.26144619,-74.66894341,-85.630951,-72.9690587,-79.21758645,-87.31261084,-78.82330588,-70.18942466,-70.13604975,-69.11292673,-72.28254052,-65.84327489,-87.83312994,-67.58248429,-65.91586274,-66.154401,-61.06820181,-65.06967068,-64.15900983,-55.91586735,-61.14652818,-60.13371324,-64.44548,-64.87632182,-57.75133942,-54.22529924,-56.03364748,-57.75406087,-54.71720264,-52.09936048,-74.75674,-80.30925,-77.59206,-76.80447,-72.7287,-65.68216,-57.6796,-35.66054857,-43.45665946,-29.52118366,-35.64954472,-63.83902737,-45.04949761,-54.49800107,-43.49902229,-34.33894197,-42.88247,-42.96844683,-42.88422773,-48.14191589,-34.36197702,-54.42445327,-47.48895232,-40.01723757,-41.45272492,-65.83894297,-72.31511771,-37.40364779,-47.03967,-44.76037486,-56.52763129,-27.90749342,-67.73621776,-63.74153257,-69.36194202,-42.45386268,-71.06100708,-55.73910528,-55.97405282,-46.56984086,-46.3035472,-53.95952592,-61.57447094,-45.75961067,-41.16064667,-60.4958655,-28.2617947,-17.78911115,-25.69500145,-25.02978597,-23.84008161,-22.30652,-18.06885752,-14.65210971,-15.91308293,-27.78574676,-28.94543143,-33.67924298,-38.86416389,-39.8912642,-42.67860149,-38.89644161,-41.55115797,-30.05668667,-25.99110432,-38.77894034,-37.35254208,-42.38344933,-44.55701509,-35.61926952,-59.8437761,-60.93192832,-61.66114429,-52.04638421,-52.68046227,-34.06315703,-51.23299876,-27.75257914,-40.615716,-46.21868933,-32.25445304,-34.85075714,-51.18539067,-45.99883432,-38.25214,-24.53690497,-28.56954773,-25.21215064,-51.51983649,-36.97431304,-69.79732,-66.13502,-60.05328,-46.27285,-42.61056,-41.68514,-49.73825,-46.33192,-43.94946,-31.387,-32.66963,-39.20662,-37.06044,-26.77494,-27.56253,-29.49212,-19.31492],\"y\":[105.531576,104.4872907,104.5034411,102.8353679,106.9914629,115.3560539,109.285201,120.7985667,113.1640033,113.7228677,104.8973871,111.5093353,117.612602,120.3503284,119.873547,121.5114816,123.1188927,113.24662,111.5008781,122.3045443,122.5960266,118.6669428,129.0447034,116.4094181,119.7839872,136.2810578,132.0985808,135.6421414,123.662627,130.8051815,129.7407148,132.3293989,131.1800298,135.4419983,138.5854925,129.4302928,104.7006,118.481,119.4655,121.629,126.0789,119.9184,127.0673,48.78942838,45.96339541,47.77308082,62.20546824,71.132852,40.88877161,76.57974267,83.77907886,53.87249423,79.38806,79.17753615,79.5017264,90.12105144,51.01104351,73.38996884,80.04219899,54.851973,93.44422701,81.18862365,83.26069743,75.15095502,92.620915,84.80327676,69.05706172,48.83765152,85.21727234,71.50158228,85.35868131,73.7884278,90.40291679,82.93201083,82.95283865,108.5148826,108.981916,106.6657674,81.48780766,114.229152,104.4493693,102.2441972,15.70429784,24.66935949,16.54076148,26.59853797,35.58692832,12.12235333,20.80237814,14.20317371,19.1406085,48.56813041,57.84716161,67.80925329,62.46519968,55.19798306,59.14324874,37.17328227,38.8420729,65.25714533,41.22527541,66.29875835,30.81641938,56.49411867,68.98637917,56.00777619,65.59072248,79.11159821,78.64611429,85.52256734,84.56854314,42.74553598,57.79036526,48.92443522,49.63081867,56.45468667,37.90019062,31.54198771,56.80349467,51.07242743,45.15325,39.65303157,40.1044632,45.25440052,66.06245366,38.85725913,85.42912,87.31933,99.13079,50.93986,79.34737,84.44463,86.92554,96.76802,102.4166,26.5007,29.44582,37.47685,79.1111,31.64869,37.92971,47.47685,29.95776],\"type\":\"scatter\"},{\"marker\":{\"color\":\"black\"},\"x\":[-4.352596,-14.332943013797312],\"y\":[-25.27437571,0.19120298599861893],\"type\":\"scatter\"},{\"marker\":{\"color\":\"black\"},\"x\":[15.04316711,-14.332943013797312],\"y\":[-16.67449933,0.19120298599861893],\"type\":\"scatter\"},{\"marker\":{\"color\":\"black\"},\"x\":[-15.12792573,-14.332943013797312],\"y\":[-26.16056076,0.19120298599861893],\"type\":\"scatter\"},{\"marker\":{\"color\":\"black\"},\"x\":[-49.73825],\"y\":[86.92554],\"type\":\"scatter\"},{\"marker\":{\"color\":\"black\"},\"x\":[-6.727108153121151,-29.84199559],\"y\":[2.6713796071534985,140.2430958],\"type\":\"scatter\"},{\"marker\":{\"color\":\"green\"},\"mode\":\"markers\",\"name\":\"Trees covered by line 2\",\"x\":[-20.01427656,-46.08530939,-39.1687174,-41.69020833,-20.15441667,-30.51452551,-51.72634937,-51.34979148,-47.45566976,-48.32035725,-48.23730243,-37.09976663,-37.47195419,-38.754948,-28.88421312,-45.03471145,-30.53919388,-33.86425279,-42.03635682,-43.77058695,-48.38149441,-33.38285971,-45.35963829,-20.31095449,-30.12933628,-38.2757944,-37.18284862,-26.71358941,-32.49283298,-29.93719601,-24.30442355,-43.69364112,-36.96231791,-29.73887306,-38.04231305,-26.46417652,-25.02255191,-22.40626011,-29.84199559,-34.43580671,-24.7515566,-38.15196,-29.1106237,-43.13583476,-43.45710629,-17.46835571,-28.66212267,-26.34495444,-28.271429,-26.86485143,-28.02366579,-22.25938746,-23.30889411,-22.14285214,-19.53772261,-28.05956057,-21.99539808,-18.51068583,-21.1580461,-22.93293569,-23.63868957,-21.46493537,-24.29473288,-22.44136039,-20.74738784,-21.35527254,-14.66676903,-16.46067657,-50.2108,-46.54851,-46.70603,-35.52464,-14.96348,-12.39504358,-25.82151267,-27.440446,-17.82092298,-14.75707055,-5.417156102,-4.340797395,-16.80794933,-8.689096627,-14.61508286,-4.7308435,-1.514686918,-4.932367447,-10.04503957,-16.71623767,-28.12296714,-5.661616259,-7.976111714,-14.30092727,-11.09186833,-0.970214667,-1.101420381,0.959775614,-16.73522379,-14.70918078,-31.63498,-3.684222609,-41.02201027,-18.81114101,-16.42554125,-7.013041031,-9.316790811,-10.57044051,-33.41519219,-5.883315789,-31.05259335,-38.6765687,-3.428835238,-19.78574851,-17.27104514,-21.01267307,-17.9089861,-26.4252543,-35.86348262,-9.506584667,-29.62011305,-31.62244894,-31.45910438,-26.01718061,-25.5937586,-18.45054018,-39.73316282,-39.92093491,-13.09188479,-11.34937437,-4.71877549,7.004541667,5.493851429,-4.330929125,-1.646586857,-18.9630296,-18.65162734,-15.47295086,-6.690598095,-19.67749185,-11.059135,-15.14474109,-4.101818305,-9.93666867,-13.69800957,-9.295090672,-8.603829565,-12.23518208,-2.883395794,3.084357143,-13.38512882,-5.484164,0.321903298,-4.673825497,-7.36146924,-11.601952,-8.913310306,-2.147337167,-16.94963143,-20.20948667,-20.23025629,-24.44786368,2.141117714,0.553883429,1.217273145,9.156768,3.921010667,7.098754534,7.479731412,6.139525143,-1.028744857,1.129600536,-4.479498667,11.01780383,-4.786697799,-7.099081333,-2.900987238,5.259022129,-8.28776323,-15.16253286,-20.38245718,-28.993184,2.272871159,-24.92097067,-29.944999,-28.70804743,-29.96957619,-29.001412,-25.4799278,-8.609093084,-26.32428857,-42.39397,-32.64994,-39.36414,-33.3677,-22.71885,-25.41635,-25.4618,-22.26599,-11.9568,-16.12518,-15.98735,-11.77375,-11.2045,-18.36981,-17.73974,-14.90442,-9.314916,-8.094153,-10.456921,-1.222434,-6.1945,-5.731384,4.977446,6.4954,-0.5947494,0.7441527,10.76384],\"y\":[149.922979,140.8923356,139.7536376,142.3992175,148.7100133,144.0812844,139.1805794,136.4680276,141.6323199,139.9950704,134.702649,143.2286398,144.5117223,141.452916,149.7437673,135.7886081,148.8980511,147.9375081,145.0488265,142.5344245,130.5650093,144.4892955,129.9263817,155.2269872,150.6443552,147.5998112,141.5735606,150.2932019,152.1576349,154.1487041,153.6091877,147.2670105,149.7175643,147.3293567,135.0927363,148.6259799,149.9409567,152.3785745,140.2430958,137.6704921,146.9438328,139.1557724,155.6000522,136.0357043,135.9078147,153.7533924,145.4021884,143.7813359,147.1316737,145.8027457,153.0952278,150.7908792,145.2685239,148.0454856,149.7903661,142.6129877,146.2552103,155.5919847,145.62263,156.6022742,144.1373566,145.0063692,143.8484455,147.3931012,145.8831472,145.93957,152.8066188,151.5756583,142.7316,144.0902,144.2674,151.1958,154.9172,77.24231806,80.59336367,85.34171829,77.67130238,84.74432859,8.847342542,81.53936933,93.58312933,10.01766072,91.84376152,42.19041075,109.694083,108.8521612,120.7187843,125.3305517,115.1939071,106.5826182,121.755362,101.7534391,125.466655,100.3982661,106.7018923,96.49986281,98.73511212,89.51142653,113.1713044,89.0582687,106.5429704,100.5875039,105.5024725,99.48536037,106.6407206,126.8679454,110.2547015,98.33835579,104.6993637,97.60567565,93.7002,127.6360481,122.5399796,125.0750803,118.7230411,121.042114,103.9891685,127.3303587,118.2129548,119.4623426,115.7525987,121.7202521,130.2994724,132.7106863,109.4680707,106.6778969,118.0804011,137.7772238,13.84812451,23.59549,19.41666948,20.2928445,17.47972819,42.3682832,42.51463825,42.88988038,49.72451276,36.45218043,21.8502846,18.82510326,28.81178949,42.1022018,17.48616727,58.89740588,22.22068,25.53155401,24.44928234,12.85137943,23.16962608,22.97693067,25.36297713,29.02559614,61.68461228,11.650616,13.90776621,8.8733685,71.74829257,55.70627325,56.03150514,61.57301977,64.40213029,60.16771829,66.92785654,57.54668876,71.44016667,62.58893516,68.59563745,58.323828,68.91248914,71.11121482,66.127156,52.36532967,73.77888096,59.32604853,55.29820971,82.34198555,55.6569646,74.59968095,65.47596052,69.250824,49.02283551,69.08989467,74.69281,76.19336305,83.24034333,87.892008,77.17356441,75.07819673,59.06835467,114.1493,90.52876,117.4572,115.6314,48.97327,96.35453,102.9989,118.7173,27.5647,35.09439,34.83842,59.60334,88.6517,108.166,113.5192,111.9637,29.81993,40.31217,37.20119,45.13377,92.8805,106.3545,44.20835,47.9617,87.14212,85.94105,30.70597],\"type\":\"scatter\"},{\"marker\":{\"color\":\"black\"},\"x\":[-4.352596,-6.727108153121151],\"y\":[-25.27437571,2.6713796071534985],\"type\":\"scatter\"},{\"marker\":{\"color\":\"black\"},\"x\":[15.04316711,-6.727108153121151],\"y\":[-16.67449933,2.6713796071534985],\"type\":\"scatter\"},{\"marker\":{\"color\":\"black\"},\"x\":[-15.12792573,-6.727108153121151],\"y\":[-26.16056076,2.6713796071534985],\"type\":\"scatter\"},{\"marker\":{\"color\":\"black\"},\"x\":[-16.94963143],\"y\":[71.74829257],\"type\":\"scatter\"}],                        {\"template\":{\"data\":{\"histogram2dcontour\":[{\"type\":\"histogram2dcontour\",\"colorbar\":{\"outlinewidth\":0,\"ticks\":\"\"},\"colorscale\":[[0.0,\"#0d0887\"],[0.1111111111111111,\"#46039f\"],[0.2222222222222222,\"#7201a8\"],[0.3333333333333333,\"#9c179e\"],[0.4444444444444444,\"#bd3786\"],[0.5555555555555556,\"#d8576b\"],[0.6666666666666666,\"#ed7953\"],[0.7777777777777778,\"#fb9f3a\"],[0.8888888888888888,\"#fdca26\"],[1.0,\"#f0f921\"]]}],\"choropleth\":[{\"type\":\"choropleth\",\"colorbar\":{\"outlinewidth\":0,\"ticks\":\"\"}}],\"histogram2d\":[{\"type\":\"histogram2d\",\"colorbar\":{\"outlinewidth\":0,\"ticks\":\"\"},\"colorscale\":[[0.0,\"#0d0887\"],[0.1111111111111111,\"#46039f\"],[0.2222222222222222,\"#7201a8\"],[0.3333333333333333,\"#9c179e\"],[0.4444444444444444,\"#bd3786\"],[0.5555555555555556,\"#d8576b\"],[0.6666666666666666,\"#ed7953\"],[0.7777777777777778,\"#fb9f3a\"],[0.8888888888888888,\"#fdca26\"],[1.0,\"#f0f921\"]]}],\"heatmap\":[{\"type\":\"heatmap\",\"colorbar\":{\"outlinewidth\":0,\"ticks\":\"\"},\"colorscale\":[[0.0,\"#0d0887\"],[0.1111111111111111,\"#46039f\"],[0.2222222222222222,\"#7201a8\"],[0.3333333333333333,\"#9c179e\"],[0.4444444444444444,\"#bd3786\"],[0.5555555555555556,\"#d8576b\"],[0.6666666666666666,\"#ed7953\"],[0.7777777777777778,\"#fb9f3a\"],[0.8888888888888888,\"#fdca26\"],[1.0,\"#f0f921\"]]}],\"heatmapgl\":[{\"type\":\"heatmapgl\",\"colorbar\":{\"outlinewidth\":0,\"ticks\":\"\"},\"colorscale\":[[0.0,\"#0d0887\"],[0.1111111111111111,\"#46039f\"],[0.2222222222222222,\"#7201a8\"],[0.3333333333333333,\"#9c179e\"],[0.4444444444444444,\"#bd3786\"],[0.5555555555555556,\"#d8576b\"],[0.6666666666666666,\"#ed7953\"],[0.7777777777777778,\"#fb9f3a\"],[0.8888888888888888,\"#fdca26\"],[1.0,\"#f0f921\"]]}],\"contourcarpet\":[{\"type\":\"contourcarpet\",\"colorbar\":{\"outlinewidth\":0,\"ticks\":\"\"}}],\"contour\":[{\"type\":\"contour\",\"colorbar\":{\"outlinewidth\":0,\"ticks\":\"\"},\"colorscale\":[[0.0,\"#0d0887\"],[0.1111111111111111,\"#46039f\"],[0.2222222222222222,\"#7201a8\"],[0.3333333333333333,\"#9c179e\"],[0.4444444444444444,\"#bd3786\"],[0.5555555555555556,\"#d8576b\"],[0.6666666666666666,\"#ed7953\"],[0.7777777777777778,\"#fb9f3a\"],[0.8888888888888888,\"#fdca26\"],[1.0,\"#f0f921\"]]}],\"surface\":[{\"type\":\"surface\",\"colorbar\":{\"outlinewidth\":0,\"ticks\":\"\"},\"colorscale\":[[0.0,\"#0d0887\"],[0.1111111111111111,\"#46039f\"],[0.2222222222222222,\"#7201a8\"],[0.3333333333333333,\"#9c179e\"],[0.4444444444444444,\"#bd3786\"],[0.5555555555555556,\"#d8576b\"],[0.6666666666666666,\"#ed7953\"],[0.7777777777777778,\"#fb9f3a\"],[0.8888888888888888,\"#fdca26\"],[1.0,\"#f0f921\"]]}],\"mesh3d\":[{\"type\":\"mesh3d\",\"colorbar\":{\"outlinewidth\":0,\"ticks\":\"\"}}],\"scatter\":[{\"fillpattern\":{\"fillmode\":\"overlay\",\"size\":10,\"solidity\":0.2},\"type\":\"scatter\"}],\"parcoords\":[{\"type\":\"parcoords\",\"line\":{\"colorbar\":{\"outlinewidth\":0,\"ticks\":\"\"}}}],\"scatterpolargl\":[{\"type\":\"scatterpolargl\",\"marker\":{\"colorbar\":{\"outlinewidth\":0,\"ticks\":\"\"}}}],\"bar\":[{\"error_x\":{\"color\":\"#2a3f5f\"},\"error_y\":{\"color\":\"#2a3f5f\"},\"marker\":{\"line\":{\"color\":\"#E5ECF6\",\"width\":0.5},\"pattern\":{\"fillmode\":\"overlay\",\"size\":10,\"solidity\":0.2}},\"type\":\"bar\"}],\"scattergeo\":[{\"type\":\"scattergeo\",\"marker\":{\"colorbar\":{\"outlinewidth\":0,\"ticks\":\"\"}}}],\"scatterpolar\":[{\"type\":\"scatterpolar\",\"marker\":{\"colorbar\":{\"outlinewidth\":0,\"ticks\":\"\"}}}],\"histogram\":[{\"marker\":{\"pattern\":{\"fillmode\":\"overlay\",\"size\":10,\"solidity\":0.2}},\"type\":\"histogram\"}],\"scattergl\":[{\"type\":\"scattergl\",\"marker\":{\"colorbar\":{\"outlinewidth\":0,\"ticks\":\"\"}}}],\"scatter3d\":[{\"type\":\"scatter3d\",\"line\":{\"colorbar\":{\"outlinewidth\":0,\"ticks\":\"\"}},\"marker\":{\"colorbar\":{\"outlinewidth\":0,\"ticks\":\"\"}}}],\"scattermapbox\":[{\"type\":\"scattermapbox\",\"marker\":{\"colorbar\":{\"outlinewidth\":0,\"ticks\":\"\"}}}],\"scatterternary\":[{\"type\":\"scatterternary\",\"marker\":{\"colorbar\":{\"outlinewidth\":0,\"ticks\":\"\"}}}],\"scattercarpet\":[{\"type\":\"scattercarpet\",\"marker\":{\"colorbar\":{\"outlinewidth\":0,\"ticks\":\"\"}}}],\"carpet\":[{\"aaxis\":{\"endlinecolor\":\"#2a3f5f\",\"gridcolor\":\"white\",\"linecolor\":\"white\",\"minorgridcolor\":\"white\",\"startlinecolor\":\"#2a3f5f\"},\"baxis\":{\"endlinecolor\":\"#2a3f5f\",\"gridcolor\":\"white\",\"linecolor\":\"white\",\"minorgridcolor\":\"white\",\"startlinecolor\":\"#2a3f5f\"},\"type\":\"carpet\"}],\"table\":[{\"cells\":{\"fill\":{\"color\":\"#EBF0F8\"},\"line\":{\"color\":\"white\"}},\"header\":{\"fill\":{\"color\":\"#C8D4E3\"},\"line\":{\"color\":\"white\"}},\"type\":\"table\"}],\"barpolar\":[{\"marker\":{\"line\":{\"color\":\"#E5ECF6\",\"width\":0.5},\"pattern\":{\"fillmode\":\"overlay\",\"size\":10,\"solidity\":0.2}},\"type\":\"barpolar\"}],\"pie\":[{\"automargin\":true,\"type\":\"pie\"}]},\"layout\":{\"autotypenumbers\":\"strict\",\"colorway\":[\"#636efa\",\"#EF553B\",\"#00cc96\",\"#ab63fa\",\"#FFA15A\",\"#19d3f3\",\"#FF6692\",\"#B6E880\",\"#FF97FF\",\"#FECB52\"],\"font\":{\"color\":\"#2a3f5f\"},\"hovermode\":\"closest\",\"hoverlabel\":{\"align\":\"left\"},\"paper_bgcolor\":\"white\",\"plot_bgcolor\":\"#E5ECF6\",\"polar\":{\"bgcolor\":\"#E5ECF6\",\"angularaxis\":{\"gridcolor\":\"white\",\"linecolor\":\"white\",\"ticks\":\"\"},\"radialaxis\":{\"gridcolor\":\"white\",\"linecolor\":\"white\",\"ticks\":\"\"}},\"ternary\":{\"bgcolor\":\"#E5ECF6\",\"aaxis\":{\"gridcolor\":\"white\",\"linecolor\":\"white\",\"ticks\":\"\"},\"baxis\":{\"gridcolor\":\"white\",\"linecolor\":\"white\",\"ticks\":\"\"},\"caxis\":{\"gridcolor\":\"white\",\"linecolor\":\"white\",\"ticks\":\"\"}},\"coloraxis\":{\"colorbar\":{\"outlinewidth\":0,\"ticks\":\"\"}},\"colorscale\":{\"sequential\":[[0.0,\"#0d0887\"],[0.1111111111111111,\"#46039f\"],[0.2222222222222222,\"#7201a8\"],[0.3333333333333333,\"#9c179e\"],[0.4444444444444444,\"#bd3786\"],[0.5555555555555556,\"#d8576b\"],[0.6666666666666666,\"#ed7953\"],[0.7777777777777778,\"#fb9f3a\"],[0.8888888888888888,\"#fdca26\"],[1.0,\"#f0f921\"]],\"sequentialminus\":[[0.0,\"#0d0887\"],[0.1111111111111111,\"#46039f\"],[0.2222222222222222,\"#7201a8\"],[0.3333333333333333,\"#9c179e\"],[0.4444444444444444,\"#bd3786\"],[0.5555555555555556,\"#d8576b\"],[0.6666666666666666,\"#ed7953\"],[0.7777777777777778,\"#fb9f3a\"],[0.8888888888888888,\"#fdca26\"],[1.0,\"#f0f921\"]],\"diverging\":[[0,\"#8e0152\"],[0.1,\"#c51b7d\"],[0.2,\"#de77ae\"],[0.3,\"#f1b6da\"],[0.4,\"#fde0ef\"],[0.5,\"#f7f7f7\"],[0.6,\"#e6f5d0\"],[0.7,\"#b8e186\"],[0.8,\"#7fbc41\"],[0.9,\"#4d9221\"],[1,\"#276419\"]]},\"xaxis\":{\"gridcolor\":\"white\",\"linecolor\":\"white\",\"ticks\":\"\",\"title\":{\"standoff\":15},\"zerolinecolor\":\"white\",\"automargin\":true,\"zerolinewidth\":2},\"yaxis\":{\"gridcolor\":\"white\",\"linecolor\":\"white\",\"ticks\":\"\",\"title\":{\"standoff\":15},\"zerolinecolor\":\"white\",\"automargin\":true,\"zerolinewidth\":2},\"scene\":{\"xaxis\":{\"backgroundcolor\":\"#E5ECF6\",\"gridcolor\":\"white\",\"linecolor\":\"white\",\"showbackground\":true,\"ticks\":\"\",\"zerolinecolor\":\"white\",\"gridwidth\":2},\"yaxis\":{\"backgroundcolor\":\"#E5ECF6\",\"gridcolor\":\"white\",\"linecolor\":\"white\",\"showbackground\":true,\"ticks\":\"\",\"zerolinecolor\":\"white\",\"gridwidth\":2},\"zaxis\":{\"backgroundcolor\":\"#E5ECF6\",\"gridcolor\":\"white\",\"linecolor\":\"white\",\"showbackground\":true,\"ticks\":\"\",\"zerolinecolor\":\"white\",\"gridwidth\":2}},\"shapedefaults\":{\"line\":{\"color\":\"#2a3f5f\"}},\"annotationdefaults\":{\"arrowcolor\":\"#2a3f5f\",\"arrowhead\":0,\"arrowwidth\":1},\"geo\":{\"bgcolor\":\"white\",\"landcolor\":\"#E5ECF6\",\"subunitcolor\":\"white\",\"showland\":true,\"showlakes\":true,\"lakecolor\":\"white\"},\"title\":{\"x\":0.05},\"mapbox\":{\"style\":\"light\"}}},\"title\":{\"text\":\"NSGA2 9\"},\"width\":1200,\"height\":800},                        {\"responsive\": true}                    ).then(function(){\n",
       "                            \n",
       "var gd = document.getElementById('8490cde7-c5ec-4339-977e-a5fbffe5826d');\n",
       "var x = new MutationObserver(function (mutations, observer) {{\n",
       "        var display = window.getComputedStyle(gd).display;\n",
       "        if (!display || display === 'none') {{\n",
       "            console.log([gd, 'removed!']);\n",
       "            Plotly.purge(gd);\n",
       "            observer.disconnect();\n",
       "        }}\n",
       "}});\n",
       "\n",
       "// Listen for the removal of the full notebook cells\n",
       "var notebookContainer = gd.closest('#notebook-container');\n",
       "if (notebookContainer) {{\n",
       "    x.observe(notebookContainer, {childList: true});\n",
       "}}\n",
       "\n",
       "// Listen for the clearing of the current output cell\n",
       "var outputEl = gd.closest('.output');\n",
       "if (outputEl) {{\n",
       "    x.observe(outputEl, {childList: true});\n",
       "}}\n",
       "\n",
       "                        })                };                });            </script>        </div>"
      ]
     },
     "metadata": {},
     "output_type": "display_data"
    },
    {
     "data": {
      "text/html": [
       "        <script type=\"text/javascript\">\n",
       "        window.PlotlyConfig = {MathJaxConfig: 'local'};\n",
       "        if (window.MathJax && window.MathJax.Hub && window.MathJax.Hub.Config) {window.MathJax.Hub.Config({SVG: {font: \"STIX-Web\"}});}\n",
       "        if (typeof require !== 'undefined') {\n",
       "        require.undef(\"plotly\");\n",
       "        requirejs.config({\n",
       "            paths: {\n",
       "                'plotly': ['https://cdn.plot.ly/plotly-2.18.2.min']\n",
       "            }\n",
       "        });\n",
       "        require(['plotly'], function(Plotly) {\n",
       "            window._Plotly = Plotly;\n",
       "        });\n",
       "        }\n",
       "        </script>\n",
       "        "
      ]
     },
     "metadata": {},
     "output_type": "display_data"
    },
    {
     "data": {
      "text/html": [
       "<div>                            <div id=\"e52226f7-039e-4021-8f11-94c88debc015\" class=\"plotly-graph-div\" style=\"height:800px; width:1200px;\"></div>            <script type=\"text/javascript\">                require([\"plotly\"], function(Plotly) {                    window.PLOTLYENV=window.PLOTLYENV || {};                                    if (document.getElementById(\"e52226f7-039e-4021-8f11-94c88debc015\")) {                    Plotly.newPlot(                        \"e52226f7-039e-4021-8f11-94c88debc015\",                        [{\"marker\":{\"color\":\"black\"},\"x\":[-29.880646898378075,-106.0132132],\"y\":[-8.757599103801436,89.40781657],\"type\":\"scatter\"},{\"marker\":{\"color\":\"red\"},\"mode\":\"markers\",\"name\":\"Trees covered by line 0\",\"x\":[-93.90127238,-97.02245733,-102.7610669,-106.9293573,-107.9110969,-110.3984335,-106.0132132,-96.73072895,-96.22606223,-98.31843957,-115.0619992,-108.786355,-114.5846122,-110.2887047,-103.1629812,-95.55933733,-105.839508,-107.0136188,-102.8911694,-104.5151239,-95.6665854,-105.2474193,-111.0155589,-110.4334077,-109.0691822,-113.8496183,-115.6880358,-116.3580906,-114.450469,-115.5839619,-100.4964897,-113.9290292,-120.5061,-118.8128,-108.5675,-103.0634,-103.6738,-95.93813,-84.08833116,-62.80450732,-47.87548267,-92.01265714,-93.82751185,-83.54479257,-78.19297493,-82.38238939,-63.16261606,-68.69947,-77.894284,-71.4853691,-72.662565,-89.07298,-70.08661831,-88.87189632,-89.04238067,-95.9302225,-81.16040829,-85.85650115,-94.4786539,-96.535378,-63.75294362,-95.71312916,-89.78213333,-101.3700811,-92.95359395,-100.9940699,-100.793763,-100.3478996,-99.5811527,-98.615002,-101.2184867,-96.69549867,-98.09441245,-42.05272394,-58.95692088,-61.24894305,-66.530239,-69.40538898,-62.3774501,-69.61408133,-65.64535138,-47.08279067,-66.57174552,-56.70006471,-57.59924854,-50.10485046,-43.84057345,-74.27956334,-57.05613672,-73.64038121,-52.66540533,-46.96401457,-52.17798164,-66.00952476,-45.20257457,-45.41482262,-65.8870821,-59.03737455,-39.03887005,-59.16029652,-44.91329837,-81.48674652,-60.82878325,-64.271412,-64.747095,-70.83656933,-45.95279935,-84.14636,-82.96498,-82.80746,-79.246,-68.08431,-57.8296,-54.713,-57.2062,-58.2843,-59.36414,-61.23467,-43.494],\"y\":[85.11919619,88.54954267,77.77472,80.351252,82.70909714,75.82409401,89.40781657,98.53306229,100.1307978,100.5692092,85.04506755,77.02719052,82.96372814,86.10765266,85.29616635,104.3161573,86.49467744,95.28771062,86.20745338,87.68086518,102.4783549,97.1181028,90.92524233,96.00547745,82.99614333,87.2107575,80.37969702,88.860498,91.64478486,78.43012638,96.3416446,85.41514138,83.28294,80.60513,85.8628,81.09737,101.2746,90.31217,62.67181938,3.661438659,12.41163467,49.73902457,58.72901398,57.81202571,43.280443,59.70660391,14.21862546,11.68062366,52.61685171,13.69239645,9.753753333,50.99806667,10.52799649,60.67692382,71.26314307,52.33538372,79.16582743,75.32552365,71.09835181,57.0680368,16.11237048,59.49331107,75.87889667,61.58523686,65.33045471,58.10407029,57.17725771,63.67441974,64.05568506,64.13211571,63.57803857,65.44717238,64.92266082,-0.318944394,4.96812146,7.909944762,7.427147,10.34906898,47.315436,48.07348533,21.16043231,22.12641333,47.204756,39.27407121,22.61315719,1.511377768,3.091691893,41.73161398,32.56169672,33.91353359,8.185796,6.821372,4.378941281,23.30821952,9.288627714,13.76034762,16.91638248,23.515587,3.565993622,31.27495377,-0.132877354,49.11636996,38.27663021,52.23652133,41.633555,38.04694933,19.65958551,37.92971,36.92554,33.89332,30.50907,40.82172,0.1746,0.7044,6.7719,16.481,29.308,38.36289,-2.3416],\"type\":\"scatter\"},{\"marker\":{\"color\":\"black\"},\"x\":[-15.12792573,-29.880646898378075],\"y\":[-26.16056076,-8.757599103801436],\"type\":\"scatter\"},{\"marker\":{\"color\":\"black\"},\"x\":[5.750624681,-29.880646898378075],\"y\":[-23.50333184,-8.757599103801436],\"type\":\"scatter\"},{\"marker\":{\"color\":\"black\"},\"x\":[-22.92090482,-29.880646898378075],\"y\":[-30.73934474,-8.757599103801436],\"type\":\"scatter\"},{\"marker\":{\"color\":\"black\"},\"x\":[-83.54479257],\"y\":[57.81202571],\"type\":\"scatter\"},{\"marker\":{\"color\":\"black\"},\"x\":[-24.572446093973856,-74.37847497],\"y\":[-5.963584108606202,104.4872907],\"type\":\"scatter\"},{\"marker\":{\"color\":\"blue\"},\"mode\":\"markers\",\"name\":\"Trees covered by line 1\",\"x\":[-83.48467459,-88.19360784,-77.38716,-74.37847497,-74.12546686,-83.96798843,-89.62130667,-83.3753646,-82.7508461,-78.26144619,-74.66894341,-85.630951,-90.57745961,-72.9690587,-79.21758645,-87.31261084,-78.82330588,-70.18942466,-70.13604975,-69.11292673,-72.28254052,-65.84327489,-87.83312994,-67.58248429,-65.91586274,-66.154401,-61.06820181,-65.06967068,-64.15900983,-61.14652818,-64.44548,-64.87632182,-74.75674,-80.30925,-77.59206,-76.80447,-72.7287,-65.68216,-57.6796,-68.21670068,-42.19841593,-35.66054857,-63.811228,-43.45665946,-35.64954472,-75.60631589,-63.83902737,-45.04949761,-68.96079619,-72.90408841,-54.49800107,-43.49902229,-34.33894197,-42.88247,-42.96844683,-42.88422773,-48.14191589,-34.36197702,-54.42445327,-47.48895232,-40.01723757,-65.83894297,-72.31511771,-47.03967,-44.76037486,-56.52763129,-63.91497622,-67.73621776,-63.74153257,-69.36194202,-42.45386268,-71.06100708,-80.33854904,-77.01644229,-55.73910528,-55.97405282,-58.99396885,-53.95952592,-61.57447094,-80.0400875,-60.4958655,-28.2617947,-30.87206137,-25.73708667,-25.69500145,-25.02978597,-22.30652,-31.39633886,-30.33386573,-28.67903971,-35.14537733,-38.86416389,-39.8912642,-42.67860149,-38.89644161,-41.55115797,-31.56738227,-41.41965835,-38.77894034,-45.08971777,-37.35254208,-47.94450819,-57.6806725,-58.99463714,-42.38344933,-44.55701509,-35.61926952,-59.8437761,-60.93192832,-61.66114429,-52.02315851,-49.13330237,-52.04638421,-52.68046227,-34.06315703,-51.23299876,-40.615716,-46.21868933,-32.25445304,-34.85075714,-42.86287625,-58.14497146,-51.18539067,-43.79230016,-50.13028007,-45.99883432,-38.25214,-28.56954773,-51.51983649,-50.43153156,-36.77754178,-36.97431304,-52.15906782,-62.64994,-69.79732,-66.13502,-60.05328,-46.27285,-42.61056,-41.68514,-49.73825,-46.33192,-31.387,-32.66963,-39.20662,-26.57804,-26.77494,-27.56253],\"y\":[95.86970097,98.34736686,105.531576,104.4872907,104.5034411,102.8353679,107.525112,106.9914629,115.3560539,109.285201,120.7985667,113.1640033,107.7242429,113.7228677,104.8973871,111.5093353,117.612602,120.3503284,119.873547,121.5114816,123.1188927,113.24662,111.5008781,122.3045443,122.5960266,118.6669428,129.0447034,116.4094181,119.7839872,132.0985808,123.662627,130.8051815,104.7006,118.481,119.4655,121.629,126.0789,119.9184,127.0673,61.39562391,22.29488814,48.78942838,60.68509933,45.96339541,62.20546824,72.66518112,71.132852,40.88877161,74.36834876,73.25266903,76.57974267,83.77907886,53.87249423,79.38806,79.17753615,79.5017264,90.12105144,51.01104351,73.38996884,80.04219899,54.851973,81.18862365,83.26069743,92.620915,84.80327676,69.05706172,67.20044389,85.21727234,71.50158228,85.35868131,73.7884278,90.40291679,84.43096494,87.13747124,82.93201083,82.95283865,52.62083967,106.6657674,81.48780766,84.73800696,102.2441972,15.70429784,8.485619598,10.44674038,16.54076148,26.59853797,12.12235333,5.626359429,2.907323459,3.598538571,12.83804781,62.46519968,55.19798306,59.14324874,37.17328227,38.8420729,17.63833001,28.17128838,66.29875835,30.01578138,30.81641938,25.21787333,57.81795917,52.14452743,56.49411867,68.98637917,56.00777619,65.59072248,79.11159821,78.64611429,34.43051143,38.52826698,85.52256734,84.56854314,42.74553598,57.79036526,49.63081867,56.45468667,37.90019062,31.54198771,36.31789783,44.69947795,56.80349467,19.18281558,45.7442706,51.07242743,45.15325,40.1044632,66.06245366,32.90602742,19.00586822,38.85725913,38.50238222,57.39809,85.42912,87.31933,99.13079,50.93986,79.34737,84.44463,86.92554,96.76802,26.5007,29.44582,37.47685,-0.1603819,31.64869,37.92971],\"type\":\"scatter\"},{\"marker\":{\"color\":\"black\"},\"x\":[-15.12792573,-24.572446093973856],\"y\":[-26.16056076,-5.963584108606202],\"type\":\"scatter\"},{\"marker\":{\"color\":\"black\"},\"x\":[5.750624681,-24.572446093973856],\"y\":[-23.50333184,-5.963584108606202],\"type\":\"scatter\"},{\"marker\":{\"color\":\"black\"},\"x\":[-22.92090482,-24.572446093973856],\"y\":[-30.73934474,-5.963584108606202],\"type\":\"scatter\"},{\"marker\":{\"color\":\"black\"},\"x\":[],\"y\":[],\"type\":\"scatter\"},{\"marker\":{\"color\":\"black\"},\"x\":[-6.727108153121151,-29.84199559],\"y\":[2.6713796071534985,140.2430958],\"type\":\"scatter\"},{\"marker\":{\"color\":\"green\"},\"mode\":\"markers\",\"name\":\"Trees covered by line 2\",\"x\":[-20.01427656,-46.08530939,-39.1687174,-41.69020833,-20.15441667,-30.51452551,-55.91586735,-60.13371324,-57.75133942,-51.72634937,-54.22529924,-56.03364748,-51.34979148,-57.75406087,-47.45566976,-54.71720264,-48.32035725,-48.23730243,-37.09976663,-37.47195419,-38.754948,-28.88421312,-45.03471145,-52.09936048,-30.53919388,-33.86425279,-42.03635682,-43.77058695,-48.38149441,-33.38285971,-45.35963829,-20.31095449,-30.12933628,-38.2757944,-37.18284862,-26.71358941,-32.49283298,-29.93719601,-24.30442355,-43.69364112,-36.96231791,-29.73887306,-38.04231305,-26.46417652,-25.02255191,-22.40626011,-29.84199559,-34.43580671,-24.7515566,-38.15196,-29.1106237,-43.13583476,-43.45710629,-17.46835571,-28.66212267,-26.34495444,-28.271429,-26.86485143,-28.02366579,-22.25938746,-23.30889411,-22.14285214,-19.53772261,-28.05956057,-21.99539808,-18.51068583,-21.1580461,-22.93293569,-23.63868957,-21.46493537,-24.29473288,-22.44136039,-20.74738784,-21.35527254,-14.66676903,-16.46067657,-50.2108,-46.54851,-46.70603,-35.52464,-14.96348,-12.39504358,-29.52118366,-25.82151267,-27.440446,-17.82092298,-41.45272492,-37.40364779,-14.75707055,-27.90749342,-5.417156102,-4.340797395,-16.80794933,-8.689096627,-14.61508286,-4.7308435,-46.56984086,-46.3035472,-1.514686918,-4.932367447,-10.04503957,-16.71623767,-28.12296714,-5.661616259,-7.976111714,-14.30092727,-11.09186833,-0.970214667,-1.101420381,0.959775614,-16.73522379,-14.70918078,-31.63498,-3.684222609,-41.02201027,-45.75961067,-18.81114101,-16.42554125,-7.013041031,-9.316790811,-10.57044051,-33.41519219,-5.883315789,-31.05259335,-38.6765687,-3.428835238,-19.78574851,-17.27104514,-21.01267307,-17.9089861,-26.4252543,-35.86348262,-9.506584667,-29.62011305,-31.62244894,-31.45910438,-26.01718061,-25.5937586,-18.45054018,-41.16064667,-39.73316282,-39.92093491,-13.09188479,-11.34937437,-4.71877549,7.004541667,5.493851429,-4.330929125,-1.646586857,-18.9630296,-18.65162734,-15.47295086,-17.78911115,-6.690598095,-19.67749185,-23.84008161,-11.059135,-15.14474109,-4.101818305,-9.93666867,-13.69800957,-18.06885752,-9.295090672,-14.65210971,-8.603829565,-12.23518208,-2.883395794,3.084357143,-13.38512882,-5.484164,0.321903298,-4.673825497,-15.91308293,-7.36146924,-11.601952,-8.913310306,-2.147337167,-16.94963143,-20.20948667,-20.23025629,-27.78574676,-24.44786368,-28.94543143,-33.67924298,-30.05668667,-25.99110432,2.141117714,0.553883429,1.217273145,9.156768,3.921010667,7.098754534,7.479731412,6.139525143,-1.028744857,1.129600536,-4.479498667,11.01780383,-4.786697799,-7.099081333,-2.900987238,5.259022129,-8.28776323,-15.16253286,-20.38245718,-28.993184,2.272871159,-24.92097067,-29.944999,-27.75257914,-28.70804743,-29.96957619,-29.001412,-24.53690497,-25.21215064,-25.4799278,-8.609093084,-26.32428857,-43.94946,-42.39397,-37.06044,-32.64994,-39.36414,-33.3677,-22.71885,-29.49212,-25.41635,-25.4618,-22.26599,-19.31492,-11.9568,-16.12518,-15.98735,-11.77375,-11.2045,-18.36981,-17.73974,-14.90442,-9.314916,-8.094153,-10.456921,-1.222434,-6.1945,-5.731384,4.977446,6.4954,-0.5947494,0.7441527,10.76384],\"y\":[149.922979,140.8923356,139.7536376,142.3992175,148.7100133,144.0812844,136.2810578,135.6421414,129.7407148,139.1805794,132.3293989,131.1800298,136.4680276,135.4419983,141.6323199,138.5854925,139.9950704,134.702649,143.2286398,144.5117223,141.452916,149.7437673,135.7886081,129.4302928,148.8980511,147.9375081,145.0488265,142.5344245,130.5650093,144.4892955,129.9263817,155.2269872,150.6443552,147.5998112,141.5735606,150.2932019,152.1576349,154.1487041,153.6091877,147.2670105,149.7175643,147.3293567,135.0927363,148.6259799,149.9409567,152.3785745,140.2430958,137.6704921,146.9438328,139.1557724,155.6000522,136.0357043,135.9078147,153.7533924,145.4021884,143.7813359,147.1316737,145.8027457,153.0952278,150.7908792,145.2685239,148.0454856,149.7903661,142.6129877,146.2552103,155.5919847,145.62263,156.6022742,144.1373566,145.0063692,143.8484455,147.3931012,145.8831472,145.93957,152.8066188,151.5756583,142.7316,144.0902,144.2674,151.1958,154.9172,77.24231806,47.77308082,80.59336367,85.34171829,77.67130238,93.44422701,75.15095502,84.74432859,48.83765152,8.847342542,81.53936933,93.58312933,10.01766072,91.84376152,42.19041075,108.5148826,108.981916,109.694083,108.8521612,120.7187843,125.3305517,115.1939071,106.5826182,121.755362,101.7534391,125.466655,100.3982661,106.7018923,96.49986281,98.73511212,89.51142653,113.1713044,89.0582687,106.5429704,114.229152,100.5875039,105.5024725,99.48536037,106.6407206,126.8679454,110.2547015,98.33835579,104.6993637,97.60567565,93.7002,127.6360481,122.5399796,125.0750803,118.7230411,121.042114,103.9891685,127.3303587,118.2129548,119.4623426,115.7525987,121.7202521,130.2994724,132.7106863,104.4493693,109.4680707,106.6778969,118.0804011,137.7772238,13.84812451,23.59549,19.41666948,20.2928445,17.47972819,42.3682832,42.51463825,42.88988038,24.66935949,49.72451276,36.45218043,35.58692832,21.8502846,18.82510326,28.81178949,42.1022018,17.48616727,20.80237814,58.89740588,14.20317371,22.22068,25.53155401,24.44928234,12.85137943,23.16962608,22.97693067,25.36297713,29.02559614,19.1406085,61.68461228,11.650616,13.90776621,8.8733685,71.74829257,55.70627325,56.03150514,48.56813041,61.57301977,57.84716161,67.80925329,65.25714533,41.22527541,64.40213029,60.16771829,66.92785654,57.54668876,71.44016667,62.58893516,68.59563745,58.323828,68.91248914,71.11121482,66.127156,52.36532967,73.77888096,59.32604853,55.29820971,82.34198555,55.6569646,74.59968095,65.47596052,69.250824,49.02283551,69.08989467,74.69281,48.92443522,76.19336305,83.24034333,87.892008,39.65303157,45.25440052,77.17356441,75.07819673,59.06835467,102.4166,114.1493,79.1111,90.52876,117.4572,115.6314,48.97327,47.47685,96.35453,102.9989,118.7173,29.95776,27.5647,35.09439,34.83842,59.60334,88.6517,108.166,113.5192,111.9637,29.81993,40.31217,37.20119,45.13377,92.8805,106.3545,44.20835,47.9617,87.14212,85.94105,30.70597],\"type\":\"scatter\"},{\"marker\":{\"color\":\"black\"},\"x\":[-4.352596,-6.727108153121151],\"y\":[-25.27437571,2.6713796071534985],\"type\":\"scatter\"},{\"marker\":{\"color\":\"black\"},\"x\":[15.04316711,-6.727108153121151],\"y\":[-16.67449933,2.6713796071534985],\"type\":\"scatter\"},{\"marker\":{\"color\":\"black\"},\"x\":[-15.12792573,-6.727108153121151],\"y\":[-26.16056076,2.6713796071534985],\"type\":\"scatter\"},{\"marker\":{\"color\":\"black\"},\"x\":[-16.94963143],\"y\":[71.74829257],\"type\":\"scatter\"}],                        {\"template\":{\"data\":{\"histogram2dcontour\":[{\"type\":\"histogram2dcontour\",\"colorbar\":{\"outlinewidth\":0,\"ticks\":\"\"},\"colorscale\":[[0.0,\"#0d0887\"],[0.1111111111111111,\"#46039f\"],[0.2222222222222222,\"#7201a8\"],[0.3333333333333333,\"#9c179e\"],[0.4444444444444444,\"#bd3786\"],[0.5555555555555556,\"#d8576b\"],[0.6666666666666666,\"#ed7953\"],[0.7777777777777778,\"#fb9f3a\"],[0.8888888888888888,\"#fdca26\"],[1.0,\"#f0f921\"]]}],\"choropleth\":[{\"type\":\"choropleth\",\"colorbar\":{\"outlinewidth\":0,\"ticks\":\"\"}}],\"histogram2d\":[{\"type\":\"histogram2d\",\"colorbar\":{\"outlinewidth\":0,\"ticks\":\"\"},\"colorscale\":[[0.0,\"#0d0887\"],[0.1111111111111111,\"#46039f\"],[0.2222222222222222,\"#7201a8\"],[0.3333333333333333,\"#9c179e\"],[0.4444444444444444,\"#bd3786\"],[0.5555555555555556,\"#d8576b\"],[0.6666666666666666,\"#ed7953\"],[0.7777777777777778,\"#fb9f3a\"],[0.8888888888888888,\"#fdca26\"],[1.0,\"#f0f921\"]]}],\"heatmap\":[{\"type\":\"heatmap\",\"colorbar\":{\"outlinewidth\":0,\"ticks\":\"\"},\"colorscale\":[[0.0,\"#0d0887\"],[0.1111111111111111,\"#46039f\"],[0.2222222222222222,\"#7201a8\"],[0.3333333333333333,\"#9c179e\"],[0.4444444444444444,\"#bd3786\"],[0.5555555555555556,\"#d8576b\"],[0.6666666666666666,\"#ed7953\"],[0.7777777777777778,\"#fb9f3a\"],[0.8888888888888888,\"#fdca26\"],[1.0,\"#f0f921\"]]}],\"heatmapgl\":[{\"type\":\"heatmapgl\",\"colorbar\":{\"outlinewidth\":0,\"ticks\":\"\"},\"colorscale\":[[0.0,\"#0d0887\"],[0.1111111111111111,\"#46039f\"],[0.2222222222222222,\"#7201a8\"],[0.3333333333333333,\"#9c179e\"],[0.4444444444444444,\"#bd3786\"],[0.5555555555555556,\"#d8576b\"],[0.6666666666666666,\"#ed7953\"],[0.7777777777777778,\"#fb9f3a\"],[0.8888888888888888,\"#fdca26\"],[1.0,\"#f0f921\"]]}],\"contourcarpet\":[{\"type\":\"contourcarpet\",\"colorbar\":{\"outlinewidth\":0,\"ticks\":\"\"}}],\"contour\":[{\"type\":\"contour\",\"colorbar\":{\"outlinewidth\":0,\"ticks\":\"\"},\"colorscale\":[[0.0,\"#0d0887\"],[0.1111111111111111,\"#46039f\"],[0.2222222222222222,\"#7201a8\"],[0.3333333333333333,\"#9c179e\"],[0.4444444444444444,\"#bd3786\"],[0.5555555555555556,\"#d8576b\"],[0.6666666666666666,\"#ed7953\"],[0.7777777777777778,\"#fb9f3a\"],[0.8888888888888888,\"#fdca26\"],[1.0,\"#f0f921\"]]}],\"surface\":[{\"type\":\"surface\",\"colorbar\":{\"outlinewidth\":0,\"ticks\":\"\"},\"colorscale\":[[0.0,\"#0d0887\"],[0.1111111111111111,\"#46039f\"],[0.2222222222222222,\"#7201a8\"],[0.3333333333333333,\"#9c179e\"],[0.4444444444444444,\"#bd3786\"],[0.5555555555555556,\"#d8576b\"],[0.6666666666666666,\"#ed7953\"],[0.7777777777777778,\"#fb9f3a\"],[0.8888888888888888,\"#fdca26\"],[1.0,\"#f0f921\"]]}],\"mesh3d\":[{\"type\":\"mesh3d\",\"colorbar\":{\"outlinewidth\":0,\"ticks\":\"\"}}],\"scatter\":[{\"fillpattern\":{\"fillmode\":\"overlay\",\"size\":10,\"solidity\":0.2},\"type\":\"scatter\"}],\"parcoords\":[{\"type\":\"parcoords\",\"line\":{\"colorbar\":{\"outlinewidth\":0,\"ticks\":\"\"}}}],\"scatterpolargl\":[{\"type\":\"scatterpolargl\",\"marker\":{\"colorbar\":{\"outlinewidth\":0,\"ticks\":\"\"}}}],\"bar\":[{\"error_x\":{\"color\":\"#2a3f5f\"},\"error_y\":{\"color\":\"#2a3f5f\"},\"marker\":{\"line\":{\"color\":\"#E5ECF6\",\"width\":0.5},\"pattern\":{\"fillmode\":\"overlay\",\"size\":10,\"solidity\":0.2}},\"type\":\"bar\"}],\"scattergeo\":[{\"type\":\"scattergeo\",\"marker\":{\"colorbar\":{\"outlinewidth\":0,\"ticks\":\"\"}}}],\"scatterpolar\":[{\"type\":\"scatterpolar\",\"marker\":{\"colorbar\":{\"outlinewidth\":0,\"ticks\":\"\"}}}],\"histogram\":[{\"marker\":{\"pattern\":{\"fillmode\":\"overlay\",\"size\":10,\"solidity\":0.2}},\"type\":\"histogram\"}],\"scattergl\":[{\"type\":\"scattergl\",\"marker\":{\"colorbar\":{\"outlinewidth\":0,\"ticks\":\"\"}}}],\"scatter3d\":[{\"type\":\"scatter3d\",\"line\":{\"colorbar\":{\"outlinewidth\":0,\"ticks\":\"\"}},\"marker\":{\"colorbar\":{\"outlinewidth\":0,\"ticks\":\"\"}}}],\"scattermapbox\":[{\"type\":\"scattermapbox\",\"marker\":{\"colorbar\":{\"outlinewidth\":0,\"ticks\":\"\"}}}],\"scatterternary\":[{\"type\":\"scatterternary\",\"marker\":{\"colorbar\":{\"outlinewidth\":0,\"ticks\":\"\"}}}],\"scattercarpet\":[{\"type\":\"scattercarpet\",\"marker\":{\"colorbar\":{\"outlinewidth\":0,\"ticks\":\"\"}}}],\"carpet\":[{\"aaxis\":{\"endlinecolor\":\"#2a3f5f\",\"gridcolor\":\"white\",\"linecolor\":\"white\",\"minorgridcolor\":\"white\",\"startlinecolor\":\"#2a3f5f\"},\"baxis\":{\"endlinecolor\":\"#2a3f5f\",\"gridcolor\":\"white\",\"linecolor\":\"white\",\"minorgridcolor\":\"white\",\"startlinecolor\":\"#2a3f5f\"},\"type\":\"carpet\"}],\"table\":[{\"cells\":{\"fill\":{\"color\":\"#EBF0F8\"},\"line\":{\"color\":\"white\"}},\"header\":{\"fill\":{\"color\":\"#C8D4E3\"},\"line\":{\"color\":\"white\"}},\"type\":\"table\"}],\"barpolar\":[{\"marker\":{\"line\":{\"color\":\"#E5ECF6\",\"width\":0.5},\"pattern\":{\"fillmode\":\"overlay\",\"size\":10,\"solidity\":0.2}},\"type\":\"barpolar\"}],\"pie\":[{\"automargin\":true,\"type\":\"pie\"}]},\"layout\":{\"autotypenumbers\":\"strict\",\"colorway\":[\"#636efa\",\"#EF553B\",\"#00cc96\",\"#ab63fa\",\"#FFA15A\",\"#19d3f3\",\"#FF6692\",\"#B6E880\",\"#FF97FF\",\"#FECB52\"],\"font\":{\"color\":\"#2a3f5f\"},\"hovermode\":\"closest\",\"hoverlabel\":{\"align\":\"left\"},\"paper_bgcolor\":\"white\",\"plot_bgcolor\":\"#E5ECF6\",\"polar\":{\"bgcolor\":\"#E5ECF6\",\"angularaxis\":{\"gridcolor\":\"white\",\"linecolor\":\"white\",\"ticks\":\"\"},\"radialaxis\":{\"gridcolor\":\"white\",\"linecolor\":\"white\",\"ticks\":\"\"}},\"ternary\":{\"bgcolor\":\"#E5ECF6\",\"aaxis\":{\"gridcolor\":\"white\",\"linecolor\":\"white\",\"ticks\":\"\"},\"baxis\":{\"gridcolor\":\"white\",\"linecolor\":\"white\",\"ticks\":\"\"},\"caxis\":{\"gridcolor\":\"white\",\"linecolor\":\"white\",\"ticks\":\"\"}},\"coloraxis\":{\"colorbar\":{\"outlinewidth\":0,\"ticks\":\"\"}},\"colorscale\":{\"sequential\":[[0.0,\"#0d0887\"],[0.1111111111111111,\"#46039f\"],[0.2222222222222222,\"#7201a8\"],[0.3333333333333333,\"#9c179e\"],[0.4444444444444444,\"#bd3786\"],[0.5555555555555556,\"#d8576b\"],[0.6666666666666666,\"#ed7953\"],[0.7777777777777778,\"#fb9f3a\"],[0.8888888888888888,\"#fdca26\"],[1.0,\"#f0f921\"]],\"sequentialminus\":[[0.0,\"#0d0887\"],[0.1111111111111111,\"#46039f\"],[0.2222222222222222,\"#7201a8\"],[0.3333333333333333,\"#9c179e\"],[0.4444444444444444,\"#bd3786\"],[0.5555555555555556,\"#d8576b\"],[0.6666666666666666,\"#ed7953\"],[0.7777777777777778,\"#fb9f3a\"],[0.8888888888888888,\"#fdca26\"],[1.0,\"#f0f921\"]],\"diverging\":[[0,\"#8e0152\"],[0.1,\"#c51b7d\"],[0.2,\"#de77ae\"],[0.3,\"#f1b6da\"],[0.4,\"#fde0ef\"],[0.5,\"#f7f7f7\"],[0.6,\"#e6f5d0\"],[0.7,\"#b8e186\"],[0.8,\"#7fbc41\"],[0.9,\"#4d9221\"],[1,\"#276419\"]]},\"xaxis\":{\"gridcolor\":\"white\",\"linecolor\":\"white\",\"ticks\":\"\",\"title\":{\"standoff\":15},\"zerolinecolor\":\"white\",\"automargin\":true,\"zerolinewidth\":2},\"yaxis\":{\"gridcolor\":\"white\",\"linecolor\":\"white\",\"ticks\":\"\",\"title\":{\"standoff\":15},\"zerolinecolor\":\"white\",\"automargin\":true,\"zerolinewidth\":2},\"scene\":{\"xaxis\":{\"backgroundcolor\":\"#E5ECF6\",\"gridcolor\":\"white\",\"linecolor\":\"white\",\"showbackground\":true,\"ticks\":\"\",\"zerolinecolor\":\"white\",\"gridwidth\":2},\"yaxis\":{\"backgroundcolor\":\"#E5ECF6\",\"gridcolor\":\"white\",\"linecolor\":\"white\",\"showbackground\":true,\"ticks\":\"\",\"zerolinecolor\":\"white\",\"gridwidth\":2},\"zaxis\":{\"backgroundcolor\":\"#E5ECF6\",\"gridcolor\":\"white\",\"linecolor\":\"white\",\"showbackground\":true,\"ticks\":\"\",\"zerolinecolor\":\"white\",\"gridwidth\":2}},\"shapedefaults\":{\"line\":{\"color\":\"#2a3f5f\"}},\"annotationdefaults\":{\"arrowcolor\":\"#2a3f5f\",\"arrowhead\":0,\"arrowwidth\":1},\"geo\":{\"bgcolor\":\"white\",\"landcolor\":\"#E5ECF6\",\"subunitcolor\":\"white\",\"showland\":true,\"showlakes\":true,\"lakecolor\":\"white\"},\"title\":{\"x\":0.05},\"mapbox\":{\"style\":\"light\"}}},\"title\":{\"text\":\"Augmecon\"},\"width\":1200,\"height\":800},                        {\"responsive\": true}                    ).then(function(){\n",
       "                            \n",
       "var gd = document.getElementById('e52226f7-039e-4021-8f11-94c88debc015');\n",
       "var x = new MutationObserver(function (mutations, observer) {{\n",
       "        var display = window.getComputedStyle(gd).display;\n",
       "        if (!display || display === 'none') {{\n",
       "            console.log([gd, 'removed!']);\n",
       "            Plotly.purge(gd);\n",
       "            observer.disconnect();\n",
       "        }}\n",
       "}});\n",
       "\n",
       "// Listen for the removal of the full notebook cells\n",
       "var notebookContainer = gd.closest('#notebook-container');\n",
       "if (notebookContainer) {{\n",
       "    x.observe(notebookContainer, {childList: true});\n",
       "}}\n",
       "\n",
       "// Listen for the clearing of the current output cell\n",
       "var outputEl = gd.closest('.output');\n",
       "if (outputEl) {{\n",
       "    x.observe(outputEl, {childList: true});\n",
       "}}\n",
       "\n",
       "                        })                };                });            </script>        </div>"
      ]
     },
     "metadata": {},
     "output_type": "display_data"
    },
    {
     "data": {
      "text/html": [
       "        <script type=\"text/javascript\">\n",
       "        window.PlotlyConfig = {MathJaxConfig: 'local'};\n",
       "        if (window.MathJax && window.MathJax.Hub && window.MathJax.Hub.Config) {window.MathJax.Hub.Config({SVG: {font: \"STIX-Web\"}});}\n",
       "        if (typeof require !== 'undefined') {\n",
       "        require.undef(\"plotly\");\n",
       "        requirejs.config({\n",
       "            paths: {\n",
       "                'plotly': ['https://cdn.plot.ly/plotly-2.18.2.min']\n",
       "            }\n",
       "        });\n",
       "        require(['plotly'], function(Plotly) {\n",
       "            window._Plotly = Plotly;\n",
       "        });\n",
       "        }\n",
       "        </script>\n",
       "        "
      ]
     },
     "metadata": {},
     "output_type": "display_data"
    },
    {
     "data": {
      "text/html": [
       "<div>                            <div id=\"0e792329-288e-4ee4-a029-2c3281bad275\" class=\"plotly-graph-div\" style=\"height:800px; width:1200px;\"></div>            <script type=\"text/javascript\">                require([\"plotly\"], function(Plotly) {                    window.PLOTLYENV=window.PLOTLYENV || {};                                    if (document.getElementById(\"0e792329-288e-4ee4-a029-2c3281bad275\")) {                    Plotly.newPlot(                        \"0e792329-288e-4ee4-a029-2c3281bad275\",                        [{\"marker\":{\"color\":\"black\"},\"x\":[-28.09774993774453,-96.73072895],\"y\":[-7.853619242961038,98.53306229],\"type\":\"scatter\"},{\"marker\":{\"color\":\"red\"},\"mode\":\"markers\",\"name\":\"Trees covered by line 0\",\"x\":[-83.48467459,-88.19360784,-77.38716,-93.90127238,-97.02245733,-102.7610669,-106.9293573,-107.9110969,-110.3984335,-106.0132132,-96.73072895,-96.22606223,-98.31843957,-115.0619992,-108.786355,-114.5846122,-110.2887047,-103.1629812,-95.55933733,-74.37847497,-74.12546686,-83.96798843,-105.839508,-107.0136188,-89.62130667,-83.3753646,-102.8911694,-82.7508461,-78.26144619,-74.66894341,-85.630951,-104.5151239,-90.57745961,-72.9690587,-79.21758645,-87.31261084,-95.6665854,-78.82330588,-70.18942466,-70.13604975,-69.11292673,-105.2474193,-111.0155589,-110.4334077,-109.0691822,-113.8496183,-115.6880358,-116.3580906,-114.450469,-72.28254052,-115.5839619,-100.4964897,-87.83312994,-113.9290292,-120.5061,-118.8128,-108.5675,-103.0634,-103.6738,-95.93813,-74.75674,-80.30925,-77.59206,-76.80447,-72.7287,-68.21670068,-42.19841593,-63.811228,-84.08833116,-43.45665946,-75.60631589,-63.83902737,-62.80450732,-47.87548267,-45.04949761,-92.01265714,-68.96079619,-93.82751185,-83.54479257,-72.90408841,-78.19297493,-54.49800107,-82.38238939,-63.16261606,-68.69947,-77.894284,-71.4853691,-72.662565,-54.42445327,-89.07298,-70.08661831,-88.87189632,-89.04238067,-65.83894297,-72.31511771,-95.9302225,-81.16040829,-85.85650115,-56.52763129,-94.4786539,-96.535378,-63.75294362,-63.91497622,-67.73621776,-63.74153257,-69.36194202,-71.06100708,-80.33854904,-77.01644229,-95.71312916,-89.78213333,-55.73910528,-55.97405282,-58.99396885,-101.3700811,-92.95359395,-100.9940699,-61.57447094,-80.0400875,-100.793763,-100.3478996,-99.5811527,-98.615002,-101.2184867,-96.69549867,-98.09441245,-30.87206137,-31.39633886,-30.33386573,-28.67903971,-35.14537733,-42.05272394,-58.95692088,-61.24894305,-66.530239,-69.40538898,-41.55115797,-41.41965835,-45.08971777,-62.3774501,-69.61408133,-37.35254208,-65.64535138,-47.08279067,-47.94450819,-66.57174552,-57.6806725,-56.70006471,-57.59924854,-50.10485046,-43.84057345,-74.27956334,-57.05613672,-58.99463714,-73.64038121,-52.66540533,-46.96401457,-52.17798164,-59.8437761,-66.00952476,-45.20257457,-60.93192832,-61.66114429,-52.02315851,-45.41482262,-65.8870821,-59.03737455,-49.13330237,-39.03887005,-59.16029652,-44.91329837,-51.23299876,-81.48674652,-60.82878325,-46.21868933,-42.86287625,-58.14497146,-51.18539067,-43.79230016,-64.271412,-50.13028007,-45.99883432,-51.51983649,-64.747095,-50.43153156,-70.83656933,-45.95279935,-36.77754178,-52.15906782,-84.14636,-82.96498,-82.80746,-79.246,-68.08431,-62.64994,-69.79732,-66.13502,-57.8296,-54.713,-57.2062,-58.2843,-59.36414,-61.23467,-43.494,-46.27285,-39.20662,-26.57804],\"y\":[95.86970097,98.34736686,105.531576,85.11919619,88.54954267,77.77472,80.351252,82.70909714,75.82409401,89.40781657,98.53306229,100.1307978,100.5692092,85.04506755,77.02719052,82.96372814,86.10765266,85.29616635,104.3161573,104.4872907,104.5034411,102.8353679,86.49467744,95.28771062,107.525112,106.9914629,86.20745338,115.3560539,109.285201,120.7985667,113.1640033,87.68086518,107.7242429,113.7228677,104.8973871,111.5093353,102.4783549,117.612602,120.3503284,119.873547,121.5114816,97.1181028,90.92524233,96.00547745,82.99614333,87.2107575,80.37969702,88.860498,91.64478486,123.1188927,78.43012638,96.3416446,111.5008781,85.41514138,83.28294,80.60513,85.8628,81.09737,101.2746,90.31217,104.7006,118.481,119.4655,121.629,126.0789,61.39562391,22.29488814,60.68509933,62.67181938,45.96339541,72.66518112,71.132852,3.661438659,12.41163467,40.88877161,49.73902457,74.36834876,58.72901398,57.81202571,73.25266903,43.280443,76.57974267,59.70660391,14.21862546,11.68062366,52.61685171,13.69239645,9.753753333,73.38996884,50.99806667,10.52799649,60.67692382,71.26314307,81.18862365,83.26069743,52.33538372,79.16582743,75.32552365,69.05706172,71.09835181,57.0680368,16.11237048,67.20044389,85.21727234,71.50158228,85.35868131,90.40291679,84.43096494,87.13747124,59.49331107,75.87889667,82.93201083,82.95283865,52.62083967,61.58523686,65.33045471,58.10407029,81.48780766,84.73800696,57.17725771,63.67441974,64.05568506,64.13211571,63.57803857,65.44717238,64.92266082,8.485619598,5.626359429,2.907323459,3.598538571,12.83804781,-0.318944394,4.96812146,7.909944762,7.427147,10.34906898,38.8420729,28.17128838,30.01578138,47.315436,48.07348533,30.81641938,21.16043231,22.12641333,25.21787333,47.204756,57.81795917,39.27407121,22.61315719,1.511377768,3.091691893,41.73161398,32.56169672,52.14452743,33.91353359,8.185796,6.821372,4.378941281,65.59072248,23.30821952,9.288627714,79.11159821,78.64611429,34.43051143,13.76034762,16.91638248,23.515587,38.52826698,3.565993622,31.27495377,-0.132877354,57.79036526,49.11636996,38.27663021,56.45468667,36.31789783,44.69947795,56.80349467,19.18281558,52.23652133,45.7442706,51.07242743,66.06245366,41.633555,32.90602742,38.04694933,19.65958551,19.00586822,38.50238222,37.92971,36.92554,33.89332,30.50907,40.82172,57.39809,85.42912,87.31933,0.1746,0.7044,6.7719,16.481,29.308,38.36289,-2.3416,50.93986,37.47685,-0.1603819],\"type\":\"scatter\"},{\"marker\":{\"color\":\"black\"},\"x\":[-15.12792573,-28.09774993774453],\"y\":[-26.16056076,-7.853619242961038],\"type\":\"scatter\"},{\"marker\":{\"color\":\"black\"},\"x\":[5.750624681,-28.09774993774453],\"y\":[-23.50333184,-7.853619242961038],\"type\":\"scatter\"},{\"marker\":{\"color\":\"black\"},\"x\":[-22.92090482,-28.09774993774453],\"y\":[-30.73934474,-7.853619242961038],\"type\":\"scatter\"},{\"marker\":{\"color\":\"black\"},\"x\":[],\"y\":[],\"type\":\"scatter\"},{\"marker\":{\"color\":\"black\"},\"x\":[-19.362655444150658,-34.43580671],\"y\":[-3.0029345497221347,137.6704921],\"type\":\"scatter\"},{\"marker\":{\"color\":\"blue\"},\"mode\":\"markers\",\"name\":\"Trees covered by line 1\",\"x\":[-20.01427656,-46.08530939,-39.1687174,-41.69020833,-20.15441667,-30.51452551,-65.84327489,-67.58248429,-65.91586274,-66.154401,-61.06820181,-65.06967068,-64.15900983,-55.91586735,-61.14652818,-60.13371324,-64.44548,-64.87632182,-57.75133942,-51.72634937,-54.22529924,-56.03364748,-51.34979148,-57.75406087,-47.45566976,-54.71720264,-48.32035725,-48.23730243,-37.09976663,-37.47195419,-38.754948,-28.88421312,-45.03471145,-52.09936048,-30.53919388,-33.86425279,-42.03635682,-43.77058695,-48.38149441,-33.38285971,-45.35963829,-20.31095449,-30.12933628,-38.2757944,-37.18284862,-26.71358941,-32.49283298,-29.93719601,-24.30442355,-43.69364112,-36.96231791,-29.73887306,-38.04231305,-26.46417652,-25.02255191,-22.40626011,-29.84199559,-34.43580671,-24.7515566,-38.15196,-29.1106237,-43.13583476,-43.45710629,-17.46835571,-28.66212267,-26.34495444,-28.271429,-26.86485143,-28.02366579,-22.25938746,-23.30889411,-22.14285214,-19.53772261,-28.05956057,-21.99539808,-18.51068583,-21.1580461,-22.93293569,-23.63868957,-21.46493537,-24.29473288,-22.44136039,-20.74738784,-21.35527254,-14.66676903,-16.46067657,-65.68216,-57.6796,-50.2108,-46.54851,-46.70603,-35.52464,-14.96348,-35.66054857,-12.39504358,-29.52118366,-25.82151267,-35.64954472,-43.49902229,-34.33894197,-42.88247,-42.96844683,-42.88422773,-48.14191589,-34.36197702,-27.440446,-47.48895232,-17.82092298,-40.01723757,-41.45272492,-37.40364779,-47.03967,-44.76037486,-14.75707055,-27.90749342,-5.417156102,-4.340797395,-42.45386268,-16.80794933,-8.689096627,-14.61508286,-4.7308435,-46.56984086,-46.3035472,-53.95952592,-1.514686918,-4.932367447,-10.04503957,-16.71623767,-28.12296714,-5.661616259,-7.976111714,-14.30092727,-11.09186833,-0.970214667,-1.101420381,0.959775614,-16.73522379,-14.70918078,-31.63498,-3.684222609,-41.02201027,-45.75961067,-18.81114101,-16.42554125,-7.013041031,-9.316790811,-10.57044051,-33.41519219,-5.883315789,-31.05259335,-38.6765687,-3.428835238,-19.78574851,-17.27104514,-21.01267307,-17.9089861,-26.4252543,-35.86348262,-9.506584667,-29.62011305,-31.62244894,-31.45910438,-26.01718061,-25.5937586,-18.45054018,-41.16064667,-39.73316282,-39.92093491,-13.09188479,-11.34937437,-4.71877549,7.004541667,-60.4958655,5.493851429,-4.330929125,-1.646586857,-18.9630296,-18.65162734,-28.2617947,-15.47295086,-25.73708667,-17.78911115,-25.69500145,-6.690598095,-19.67749185,-25.02978597,-23.84008161,-22.30652,-11.059135,-15.14474109,-4.101818305,-9.93666867,-13.69800957,-18.06885752,-9.295090672,-14.65210971,-8.603829565,-12.23518208,-2.883395794,3.084357143,-13.38512882,-5.484164,0.321903298,-4.673825497,-15.91308293,-7.36146924,-11.601952,-8.913310306,-2.147337167,-16.94963143,-20.20948667,-20.23025629,-27.78574676,-24.44786368,-28.94543143,-33.67924298,-38.86416389,-39.8912642,-42.67860149,-38.89644161,-31.56738227,-30.05668667,-25.99110432,-38.77894034,2.141117714,0.553883429,1.217273145,9.156768,3.921010667,7.098754534,7.479731412,6.139525143,-1.028744857,1.129600536,-4.479498667,11.01780383,-4.786697799,-7.099081333,-2.900987238,5.259022129,-8.28776323,-15.16253286,-20.38245718,-28.993184,-42.38344933,-44.55701509,-35.61926952,2.272871159,-24.92097067,-29.944999,-52.04638421,-52.68046227,-34.06315703,-27.75257914,-40.615716,-32.25445304,-34.85075714,-28.70804743,-29.96957619,-38.25214,-29.001412,-24.53690497,-28.56954773,-25.21215064,-36.97431304,-25.4799278,-8.609093084,-26.32428857,-60.05328,-42.61056,-41.68514,-49.73825,-46.33192,-43.94946,-42.39397,-31.387,-32.66963,-37.06044,-32.64994,-39.36414,-33.3677,-26.77494,-27.56253,-22.71885,-29.49212,-25.41635,-25.4618,-22.26599,-19.31492,-11.9568,-16.12518,-15.98735,-11.77375,-11.2045,-18.36981,-17.73974,-14.90442,-9.314916,-8.094153,-10.456921,-1.222434,-6.1945,-5.731384,4.977446,6.4954,-0.5947494,0.7441527,10.76384],\"y\":[149.922979,140.8923356,139.7536376,142.3992175,148.7100133,144.0812844,113.24662,122.3045443,122.5960266,118.6669428,129.0447034,116.4094181,119.7839872,136.2810578,132.0985808,135.6421414,123.662627,130.8051815,129.7407148,139.1805794,132.3293989,131.1800298,136.4680276,135.4419983,141.6323199,138.5854925,139.9950704,134.702649,143.2286398,144.5117223,141.452916,149.7437673,135.7886081,129.4302928,148.8980511,147.9375081,145.0488265,142.5344245,130.5650093,144.4892955,129.9263817,155.2269872,150.6443552,147.5998112,141.5735606,150.2932019,152.1576349,154.1487041,153.6091877,147.2670105,149.7175643,147.3293567,135.0927363,148.6259799,149.9409567,152.3785745,140.2430958,137.6704921,146.9438328,139.1557724,155.6000522,136.0357043,135.9078147,153.7533924,145.4021884,143.7813359,147.1316737,145.8027457,153.0952278,150.7908792,145.2685239,148.0454856,149.7903661,142.6129877,146.2552103,155.5919847,145.62263,156.6022742,144.1373566,145.0063692,143.8484455,147.3931012,145.8831472,145.93957,152.8066188,151.5756583,119.9184,127.0673,142.7316,144.0902,144.2674,151.1958,154.9172,48.78942838,77.24231806,47.77308082,80.59336367,62.20546824,83.77907886,53.87249423,79.38806,79.17753615,79.5017264,90.12105144,51.01104351,85.34171829,80.04219899,77.67130238,54.851973,93.44422701,75.15095502,92.620915,84.80327676,84.74432859,48.83765152,8.847342542,81.53936933,73.7884278,93.58312933,10.01766072,91.84376152,42.19041075,108.5148826,108.981916,106.6657674,109.694083,108.8521612,120.7187843,125.3305517,115.1939071,106.5826182,121.755362,101.7534391,125.466655,100.3982661,106.7018923,96.49986281,98.73511212,89.51142653,113.1713044,89.0582687,106.5429704,114.229152,100.5875039,105.5024725,99.48536037,106.6407206,126.8679454,110.2547015,98.33835579,104.6993637,97.60567565,93.7002,127.6360481,122.5399796,125.0750803,118.7230411,121.042114,103.9891685,127.3303587,118.2129548,119.4623426,115.7525987,121.7202521,130.2994724,132.7106863,104.4493693,109.4680707,106.6778969,118.0804011,137.7772238,13.84812451,23.59549,102.2441972,19.41666948,20.2928445,17.47972819,42.3682832,42.51463825,15.70429784,42.88988038,10.44674038,24.66935949,16.54076148,49.72451276,36.45218043,26.59853797,35.58692832,12.12235333,21.8502846,18.82510326,28.81178949,42.1022018,17.48616727,20.80237814,58.89740588,14.20317371,22.22068,25.53155401,24.44928234,12.85137943,23.16962608,22.97693067,25.36297713,29.02559614,19.1406085,61.68461228,11.650616,13.90776621,8.8733685,71.74829257,55.70627325,56.03150514,48.56813041,61.57301977,57.84716161,67.80925329,62.46519968,55.19798306,59.14324874,37.17328227,17.63833001,65.25714533,41.22527541,66.29875835,64.40213029,60.16771829,66.92785654,57.54668876,71.44016667,62.58893516,68.59563745,58.323828,68.91248914,71.11121482,66.127156,52.36532967,73.77888096,59.32604853,55.29820971,82.34198555,55.6569646,74.59968095,65.47596052,69.250824,56.49411867,68.98637917,56.00777619,49.02283551,69.08989467,74.69281,85.52256734,84.56854314,42.74553598,48.92443522,49.63081867,37.90019062,31.54198771,76.19336305,83.24034333,45.15325,87.892008,39.65303157,40.1044632,45.25440052,38.85725913,77.17356441,75.07819673,59.06835467,99.13079,79.34737,84.44463,86.92554,96.76802,102.4166,114.1493,26.5007,29.44582,79.1111,90.52876,117.4572,115.6314,31.64869,37.92971,48.97327,47.47685,96.35453,102.9989,118.7173,29.95776,27.5647,35.09439,34.83842,59.60334,88.6517,108.166,113.5192,111.9637,29.81993,40.31217,37.20119,45.13377,92.8805,106.3545,44.20835,47.9617,87.14212,85.94105,30.70597],\"type\":\"scatter\"},{\"marker\":{\"color\":\"black\"},\"x\":[-15.12792573,-19.362655444150658],\"y\":[-26.16056076,-3.0029345497221347],\"type\":\"scatter\"},{\"marker\":{\"color\":\"black\"},\"x\":[5.750624681,-19.362655444150658],\"y\":[-23.50333184,-3.0029345497221347],\"type\":\"scatter\"},{\"marker\":{\"color\":\"black\"},\"x\":[-32.07481086,-19.362655444150658],\"y\":[-30.17481,-3.0029345497221347],\"type\":\"scatter\"},{\"marker\":{\"color\":\"black\"},\"x\":[-27.440446],\"y\":[85.34171829],\"type\":\"scatter\"}],                        {\"template\":{\"data\":{\"histogram2dcontour\":[{\"type\":\"histogram2dcontour\",\"colorbar\":{\"outlinewidth\":0,\"ticks\":\"\"},\"colorscale\":[[0.0,\"#0d0887\"],[0.1111111111111111,\"#46039f\"],[0.2222222222222222,\"#7201a8\"],[0.3333333333333333,\"#9c179e\"],[0.4444444444444444,\"#bd3786\"],[0.5555555555555556,\"#d8576b\"],[0.6666666666666666,\"#ed7953\"],[0.7777777777777778,\"#fb9f3a\"],[0.8888888888888888,\"#fdca26\"],[1.0,\"#f0f921\"]]}],\"choropleth\":[{\"type\":\"choropleth\",\"colorbar\":{\"outlinewidth\":0,\"ticks\":\"\"}}],\"histogram2d\":[{\"type\":\"histogram2d\",\"colorbar\":{\"outlinewidth\":0,\"ticks\":\"\"},\"colorscale\":[[0.0,\"#0d0887\"],[0.1111111111111111,\"#46039f\"],[0.2222222222222222,\"#7201a8\"],[0.3333333333333333,\"#9c179e\"],[0.4444444444444444,\"#bd3786\"],[0.5555555555555556,\"#d8576b\"],[0.6666666666666666,\"#ed7953\"],[0.7777777777777778,\"#fb9f3a\"],[0.8888888888888888,\"#fdca26\"],[1.0,\"#f0f921\"]]}],\"heatmap\":[{\"type\":\"heatmap\",\"colorbar\":{\"outlinewidth\":0,\"ticks\":\"\"},\"colorscale\":[[0.0,\"#0d0887\"],[0.1111111111111111,\"#46039f\"],[0.2222222222222222,\"#7201a8\"],[0.3333333333333333,\"#9c179e\"],[0.4444444444444444,\"#bd3786\"],[0.5555555555555556,\"#d8576b\"],[0.6666666666666666,\"#ed7953\"],[0.7777777777777778,\"#fb9f3a\"],[0.8888888888888888,\"#fdca26\"],[1.0,\"#f0f921\"]]}],\"heatmapgl\":[{\"type\":\"heatmapgl\",\"colorbar\":{\"outlinewidth\":0,\"ticks\":\"\"},\"colorscale\":[[0.0,\"#0d0887\"],[0.1111111111111111,\"#46039f\"],[0.2222222222222222,\"#7201a8\"],[0.3333333333333333,\"#9c179e\"],[0.4444444444444444,\"#bd3786\"],[0.5555555555555556,\"#d8576b\"],[0.6666666666666666,\"#ed7953\"],[0.7777777777777778,\"#fb9f3a\"],[0.8888888888888888,\"#fdca26\"],[1.0,\"#f0f921\"]]}],\"contourcarpet\":[{\"type\":\"contourcarpet\",\"colorbar\":{\"outlinewidth\":0,\"ticks\":\"\"}}],\"contour\":[{\"type\":\"contour\",\"colorbar\":{\"outlinewidth\":0,\"ticks\":\"\"},\"colorscale\":[[0.0,\"#0d0887\"],[0.1111111111111111,\"#46039f\"],[0.2222222222222222,\"#7201a8\"],[0.3333333333333333,\"#9c179e\"],[0.4444444444444444,\"#bd3786\"],[0.5555555555555556,\"#d8576b\"],[0.6666666666666666,\"#ed7953\"],[0.7777777777777778,\"#fb9f3a\"],[0.8888888888888888,\"#fdca26\"],[1.0,\"#f0f921\"]]}],\"surface\":[{\"type\":\"surface\",\"colorbar\":{\"outlinewidth\":0,\"ticks\":\"\"},\"colorscale\":[[0.0,\"#0d0887\"],[0.1111111111111111,\"#46039f\"],[0.2222222222222222,\"#7201a8\"],[0.3333333333333333,\"#9c179e\"],[0.4444444444444444,\"#bd3786\"],[0.5555555555555556,\"#d8576b\"],[0.6666666666666666,\"#ed7953\"],[0.7777777777777778,\"#fb9f3a\"],[0.8888888888888888,\"#fdca26\"],[1.0,\"#f0f921\"]]}],\"mesh3d\":[{\"type\":\"mesh3d\",\"colorbar\":{\"outlinewidth\":0,\"ticks\":\"\"}}],\"scatter\":[{\"fillpattern\":{\"fillmode\":\"overlay\",\"size\":10,\"solidity\":0.2},\"type\":\"scatter\"}],\"parcoords\":[{\"type\":\"parcoords\",\"line\":{\"colorbar\":{\"outlinewidth\":0,\"ticks\":\"\"}}}],\"scatterpolargl\":[{\"type\":\"scatterpolargl\",\"marker\":{\"colorbar\":{\"outlinewidth\":0,\"ticks\":\"\"}}}],\"bar\":[{\"error_x\":{\"color\":\"#2a3f5f\"},\"error_y\":{\"color\":\"#2a3f5f\"},\"marker\":{\"line\":{\"color\":\"#E5ECF6\",\"width\":0.5},\"pattern\":{\"fillmode\":\"overlay\",\"size\":10,\"solidity\":0.2}},\"type\":\"bar\"}],\"scattergeo\":[{\"type\":\"scattergeo\",\"marker\":{\"colorbar\":{\"outlinewidth\":0,\"ticks\":\"\"}}}],\"scatterpolar\":[{\"type\":\"scatterpolar\",\"marker\":{\"colorbar\":{\"outlinewidth\":0,\"ticks\":\"\"}}}],\"histogram\":[{\"marker\":{\"pattern\":{\"fillmode\":\"overlay\",\"size\":10,\"solidity\":0.2}},\"type\":\"histogram\"}],\"scattergl\":[{\"type\":\"scattergl\",\"marker\":{\"colorbar\":{\"outlinewidth\":0,\"ticks\":\"\"}}}],\"scatter3d\":[{\"type\":\"scatter3d\",\"line\":{\"colorbar\":{\"outlinewidth\":0,\"ticks\":\"\"}},\"marker\":{\"colorbar\":{\"outlinewidth\":0,\"ticks\":\"\"}}}],\"scattermapbox\":[{\"type\":\"scattermapbox\",\"marker\":{\"colorbar\":{\"outlinewidth\":0,\"ticks\":\"\"}}}],\"scatterternary\":[{\"type\":\"scatterternary\",\"marker\":{\"colorbar\":{\"outlinewidth\":0,\"ticks\":\"\"}}}],\"scattercarpet\":[{\"type\":\"scattercarpet\",\"marker\":{\"colorbar\":{\"outlinewidth\":0,\"ticks\":\"\"}}}],\"carpet\":[{\"aaxis\":{\"endlinecolor\":\"#2a3f5f\",\"gridcolor\":\"white\",\"linecolor\":\"white\",\"minorgridcolor\":\"white\",\"startlinecolor\":\"#2a3f5f\"},\"baxis\":{\"endlinecolor\":\"#2a3f5f\",\"gridcolor\":\"white\",\"linecolor\":\"white\",\"minorgridcolor\":\"white\",\"startlinecolor\":\"#2a3f5f\"},\"type\":\"carpet\"}],\"table\":[{\"cells\":{\"fill\":{\"color\":\"#EBF0F8\"},\"line\":{\"color\":\"white\"}},\"header\":{\"fill\":{\"color\":\"#C8D4E3\"},\"line\":{\"color\":\"white\"}},\"type\":\"table\"}],\"barpolar\":[{\"marker\":{\"line\":{\"color\":\"#E5ECF6\",\"width\":0.5},\"pattern\":{\"fillmode\":\"overlay\",\"size\":10,\"solidity\":0.2}},\"type\":\"barpolar\"}],\"pie\":[{\"automargin\":true,\"type\":\"pie\"}]},\"layout\":{\"autotypenumbers\":\"strict\",\"colorway\":[\"#636efa\",\"#EF553B\",\"#00cc96\",\"#ab63fa\",\"#FFA15A\",\"#19d3f3\",\"#FF6692\",\"#B6E880\",\"#FF97FF\",\"#FECB52\"],\"font\":{\"color\":\"#2a3f5f\"},\"hovermode\":\"closest\",\"hoverlabel\":{\"align\":\"left\"},\"paper_bgcolor\":\"white\",\"plot_bgcolor\":\"#E5ECF6\",\"polar\":{\"bgcolor\":\"#E5ECF6\",\"angularaxis\":{\"gridcolor\":\"white\",\"linecolor\":\"white\",\"ticks\":\"\"},\"radialaxis\":{\"gridcolor\":\"white\",\"linecolor\":\"white\",\"ticks\":\"\"}},\"ternary\":{\"bgcolor\":\"#E5ECF6\",\"aaxis\":{\"gridcolor\":\"white\",\"linecolor\":\"white\",\"ticks\":\"\"},\"baxis\":{\"gridcolor\":\"white\",\"linecolor\":\"white\",\"ticks\":\"\"},\"caxis\":{\"gridcolor\":\"white\",\"linecolor\":\"white\",\"ticks\":\"\"}},\"coloraxis\":{\"colorbar\":{\"outlinewidth\":0,\"ticks\":\"\"}},\"colorscale\":{\"sequential\":[[0.0,\"#0d0887\"],[0.1111111111111111,\"#46039f\"],[0.2222222222222222,\"#7201a8\"],[0.3333333333333333,\"#9c179e\"],[0.4444444444444444,\"#bd3786\"],[0.5555555555555556,\"#d8576b\"],[0.6666666666666666,\"#ed7953\"],[0.7777777777777778,\"#fb9f3a\"],[0.8888888888888888,\"#fdca26\"],[1.0,\"#f0f921\"]],\"sequentialminus\":[[0.0,\"#0d0887\"],[0.1111111111111111,\"#46039f\"],[0.2222222222222222,\"#7201a8\"],[0.3333333333333333,\"#9c179e\"],[0.4444444444444444,\"#bd3786\"],[0.5555555555555556,\"#d8576b\"],[0.6666666666666666,\"#ed7953\"],[0.7777777777777778,\"#fb9f3a\"],[0.8888888888888888,\"#fdca26\"],[1.0,\"#f0f921\"]],\"diverging\":[[0,\"#8e0152\"],[0.1,\"#c51b7d\"],[0.2,\"#de77ae\"],[0.3,\"#f1b6da\"],[0.4,\"#fde0ef\"],[0.5,\"#f7f7f7\"],[0.6,\"#e6f5d0\"],[0.7,\"#b8e186\"],[0.8,\"#7fbc41\"],[0.9,\"#4d9221\"],[1,\"#276419\"]]},\"xaxis\":{\"gridcolor\":\"white\",\"linecolor\":\"white\",\"ticks\":\"\",\"title\":{\"standoff\":15},\"zerolinecolor\":\"white\",\"automargin\":true,\"zerolinewidth\":2},\"yaxis\":{\"gridcolor\":\"white\",\"linecolor\":\"white\",\"ticks\":\"\",\"title\":{\"standoff\":15},\"zerolinecolor\":\"white\",\"automargin\":true,\"zerolinewidth\":2},\"scene\":{\"xaxis\":{\"backgroundcolor\":\"#E5ECF6\",\"gridcolor\":\"white\",\"linecolor\":\"white\",\"showbackground\":true,\"ticks\":\"\",\"zerolinecolor\":\"white\",\"gridwidth\":2},\"yaxis\":{\"backgroundcolor\":\"#E5ECF6\",\"gridcolor\":\"white\",\"linecolor\":\"white\",\"showbackground\":true,\"ticks\":\"\",\"zerolinecolor\":\"white\",\"gridwidth\":2},\"zaxis\":{\"backgroundcolor\":\"#E5ECF6\",\"gridcolor\":\"white\",\"linecolor\":\"white\",\"showbackground\":true,\"ticks\":\"\",\"zerolinecolor\":\"white\",\"gridwidth\":2}},\"shapedefaults\":{\"line\":{\"color\":\"#2a3f5f\"}},\"annotationdefaults\":{\"arrowcolor\":\"#2a3f5f\",\"arrowhead\":0,\"arrowwidth\":1},\"geo\":{\"bgcolor\":\"white\",\"landcolor\":\"#E5ECF6\",\"subunitcolor\":\"white\",\"showland\":true,\"showlakes\":true,\"lakecolor\":\"white\"},\"title\":{\"x\":0.05},\"mapbox\":{\"style\":\"light\"}}},\"title\":{\"text\":\"Augmecon\"},\"width\":1200,\"height\":800},                        {\"responsive\": true}                    ).then(function(){\n",
       "                            \n",
       "var gd = document.getElementById('0e792329-288e-4ee4-a029-2c3281bad275');\n",
       "var x = new MutationObserver(function (mutations, observer) {{\n",
       "        var display = window.getComputedStyle(gd).display;\n",
       "        if (!display || display === 'none') {{\n",
       "            console.log([gd, 'removed!']);\n",
       "            Plotly.purge(gd);\n",
       "            observer.disconnect();\n",
       "        }}\n",
       "}});\n",
       "\n",
       "// Listen for the removal of the full notebook cells\n",
       "var notebookContainer = gd.closest('#notebook-container');\n",
       "if (notebookContainer) {{\n",
       "    x.observe(notebookContainer, {childList: true});\n",
       "}}\n",
       "\n",
       "// Listen for the clearing of the current output cell\n",
       "var outputEl = gd.closest('.output');\n",
       "if (outputEl) {{\n",
       "    x.observe(outputEl, {childList: true});\n",
       "}}\n",
       "\n",
       "                        })                };                });            </script>        </div>"
      ]
     },
     "metadata": {},
     "output_type": "display_data"
    },
    {
     "data": {
      "text/html": [
       "        <script type=\"text/javascript\">\n",
       "        window.PlotlyConfig = {MathJaxConfig: 'local'};\n",
       "        if (window.MathJax && window.MathJax.Hub && window.MathJax.Hub.Config) {window.MathJax.Hub.Config({SVG: {font: \"STIX-Web\"}});}\n",
       "        if (typeof require !== 'undefined') {\n",
       "        require.undef(\"plotly\");\n",
       "        requirejs.config({\n",
       "            paths: {\n",
       "                'plotly': ['https://cdn.plot.ly/plotly-2.18.2.min']\n",
       "            }\n",
       "        });\n",
       "        require(['plotly'], function(Plotly) {\n",
       "            window._Plotly = Plotly;\n",
       "        });\n",
       "        }\n",
       "        </script>\n",
       "        "
      ]
     },
     "metadata": {},
     "output_type": "display_data"
    },
    {
     "data": {
      "text/html": [
       "<div>                            <div id=\"baa28783-d1ae-46af-ac25-e57b1c36f3ae\" class=\"plotly-graph-div\" style=\"height:800px; width:1200px;\"></div>            <script type=\"text/javascript\">                require([\"plotly\"], function(Plotly) {                    window.PLOTLYENV=window.PLOTLYENV || {};                                    if (document.getElementById(\"baa28783-d1ae-46af-ac25-e57b1c36f3ae\")) {                    Plotly.newPlot(                        \"baa28783-d1ae-46af-ac25-e57b1c36f3ae\",                        [{\"marker\":{\"color\":\"black\"},\"x\":[-22.809794172088516,-102.7610669],\"y\":[-5.018566541428784,77.77472],\"type\":\"scatter\"},{\"marker\":{\"color\":\"red\"},\"mode\":\"markers\",\"name\":\"Trees covered by line 0\",\"x\":[-83.48467459,-88.19360784,-77.38716,-93.90127238,-97.02245733,-102.7610669,-106.9293573,-107.9110969,-110.3984335,-106.0132132,-96.73072895,-96.22606223,-98.31843957,-115.0619992,-108.786355,-114.5846122,-110.2887047,-103.1629812,-95.55933733,-74.37847497,-74.12546686,-83.96798843,-105.839508,-107.0136188,-89.62130667,-83.3753646,-102.8911694,-82.7508461,-78.26144619,-85.630951,-104.5151239,-90.57745961,-79.21758645,-87.31261084,-95.6665854,-78.82330588,-105.2474193,-111.0155589,-110.4334077,-109.0691822,-113.8496183,-115.6880358,-116.3580906,-114.450469,-115.5839619,-100.4964897,-87.83312994,-113.9290292,-120.5061,-118.8128,-108.5675,-103.0634,-103.6738,-95.93813,-74.75674,-80.30925,-68.21670068,-42.19841593,-63.811228,-84.08833116,-43.45665946,-75.60631589,-63.83902737,-62.80450732,-47.87548267,-45.04949761,-92.01265714,-68.96079619,-93.82751185,-83.54479257,-72.90408841,-78.19297493,-82.38238939,-63.16261606,-68.69947,-77.894284,-71.4853691,-72.662565,-89.07298,-70.08661831,-88.87189632,-89.04238067,-65.83894297,-72.31511771,-95.9302225,-81.16040829,-85.85650115,-56.52763129,-94.4786539,-96.535378,-63.75294362,-63.91497622,-67.73621776,-63.74153257,-69.36194202,-71.06100708,-80.33854904,-77.01644229,-95.71312916,-89.78213333,-58.99396885,-101.3700811,-92.95359395,-100.9940699,-61.57447094,-80.0400875,-100.793763,-100.3478996,-99.5811527,-98.615002,-101.2184867,-96.69549867,-98.09441245,-30.87206137,-31.39633886,-30.33386573,-28.67903971,-35.14537733,-42.05272394,-58.95692088,-61.24894305,-66.530239,-69.40538898,-38.89644161,-41.55115797,-31.56738227,-41.41965835,-45.08971777,-62.3774501,-69.61408133,-37.35254208,-65.64535138,-47.08279067,-47.94450819,-66.57174552,-57.6806725,-56.70006471,-57.59924854,-50.10485046,-43.84057345,-74.27956334,-57.05613672,-58.99463714,-73.64038121,-52.66540533,-46.96401457,-52.17798164,-59.8437761,-66.00952476,-45.20257457,-60.93192832,-61.66114429,-52.02315851,-45.41482262,-65.8870821,-59.03737455,-49.13330237,-39.03887005,-59.16029652,-44.91329837,-51.23299876,-81.48674652,-60.82878325,-34.85075714,-42.86287625,-58.14497146,-51.18539067,-43.79230016,-64.271412,-50.13028007,-45.99883432,-51.51983649,-64.747095,-50.43153156,-70.83656933,-45.95279935,-36.77754178,-52.15906782,-84.14636,-82.96498,-82.80746,-79.246,-68.08431,-62.64994,-69.79732,-66.13502,-57.8296,-54.713,-57.2062,-58.2843,-59.36414,-61.23467,-43.494,-46.27285,-31.387,-39.20662,-26.57804],\"y\":[95.86970097,98.34736686,105.531576,85.11919619,88.54954267,77.77472,80.351252,82.70909714,75.82409401,89.40781657,98.53306229,100.1307978,100.5692092,85.04506755,77.02719052,82.96372814,86.10765266,85.29616635,104.3161573,104.4872907,104.5034411,102.8353679,86.49467744,95.28771062,107.525112,106.9914629,86.20745338,115.3560539,109.285201,113.1640033,87.68086518,107.7242429,104.8973871,111.5093353,102.4783549,117.612602,97.1181028,90.92524233,96.00547745,82.99614333,87.2107575,80.37969702,88.860498,91.64478486,78.43012638,96.3416446,111.5008781,85.41514138,83.28294,80.60513,85.8628,81.09737,101.2746,90.31217,104.7006,118.481,61.39562391,22.29488814,60.68509933,62.67181938,45.96339541,72.66518112,71.132852,3.661438659,12.41163467,40.88877161,49.73902457,74.36834876,58.72901398,57.81202571,73.25266903,43.280443,59.70660391,14.21862546,11.68062366,52.61685171,13.69239645,9.753753333,50.99806667,10.52799649,60.67692382,71.26314307,81.18862365,83.26069743,52.33538372,79.16582743,75.32552365,69.05706172,71.09835181,57.0680368,16.11237048,67.20044389,85.21727234,71.50158228,85.35868131,90.40291679,84.43096494,87.13747124,59.49331107,75.87889667,52.62083967,61.58523686,65.33045471,58.10407029,81.48780766,84.73800696,57.17725771,63.67441974,64.05568506,64.13211571,63.57803857,65.44717238,64.92266082,8.485619598,5.626359429,2.907323459,3.598538571,12.83804781,-0.318944394,4.96812146,7.909944762,7.427147,10.34906898,37.17328227,38.8420729,17.63833001,28.17128838,30.01578138,47.315436,48.07348533,30.81641938,21.16043231,22.12641333,25.21787333,47.204756,57.81795917,39.27407121,22.61315719,1.511377768,3.091691893,41.73161398,32.56169672,52.14452743,33.91353359,8.185796,6.821372,4.378941281,65.59072248,23.30821952,9.288627714,79.11159821,78.64611429,34.43051143,13.76034762,16.91638248,23.515587,38.52826698,3.565993622,31.27495377,-0.132877354,57.79036526,49.11636996,38.27663021,31.54198771,36.31789783,44.69947795,56.80349467,19.18281558,52.23652133,45.7442706,51.07242743,66.06245366,41.633555,32.90602742,38.04694933,19.65958551,19.00586822,38.50238222,37.92971,36.92554,33.89332,30.50907,40.82172,57.39809,85.42912,87.31933,0.1746,0.7044,6.7719,16.481,29.308,38.36289,-2.3416,50.93986,26.5007,37.47685,-0.1603819],\"type\":\"scatter\"},{\"marker\":{\"color\":\"black\"},\"x\":[-4.352596,-22.809794172088516],\"y\":[-25.27437571,-5.018566541428784],\"type\":\"scatter\"},{\"marker\":{\"color\":\"black\"},\"x\":[15.04316711,-22.809794172088516],\"y\":[-16.67449933,-5.018566541428784],\"type\":\"scatter\"},{\"marker\":{\"color\":\"black\"},\"x\":[-15.12792573,-22.809794172088516],\"y\":[-26.16056076,-5.018566541428784],\"type\":\"scatter\"},{\"marker\":{\"color\":\"black\"},\"x\":[-88.87189632],\"y\":[60.67692382],\"type\":\"scatter\"},{\"marker\":{\"color\":\"black\"},\"x\":[-10.530025583459231,-34.43580671],\"y\":[1.431291296576059,137.6704921],\"type\":\"scatter\"},{\"marker\":{\"color\":\"blue\"},\"mode\":\"markers\",\"name\":\"Trees covered by line 1\",\"x\":[-74.66894341,-72.9690587,-70.18942466,-70.13604975,-69.11292673,-72.28254052,-20.01427656,-46.08530939,-39.1687174,-41.69020833,-20.15441667,-30.51452551,-65.84327489,-67.58248429,-65.91586274,-66.154401,-61.06820181,-65.06967068,-64.15900983,-55.91586735,-61.14652818,-60.13371324,-64.44548,-64.87632182,-57.75133942,-51.72634937,-54.22529924,-56.03364748,-51.34979148,-57.75406087,-47.45566976,-54.71720264,-48.32035725,-48.23730243,-37.09976663,-37.47195419,-38.754948,-28.88421312,-45.03471145,-52.09936048,-30.53919388,-33.86425279,-42.03635682,-43.77058695,-48.38149441,-33.38285971,-45.35963829,-20.31095449,-30.12933628,-38.2757944,-37.18284862,-26.71358941,-32.49283298,-29.93719601,-24.30442355,-43.69364112,-36.96231791,-29.73887306,-38.04231305,-26.46417652,-25.02255191,-22.40626011,-29.84199559,-34.43580671,-24.7515566,-38.15196,-29.1106237,-43.13583476,-43.45710629,-17.46835571,-28.66212267,-26.34495444,-28.271429,-26.86485143,-28.02366579,-22.25938746,-23.30889411,-22.14285214,-19.53772261,-28.05956057,-21.99539808,-18.51068583,-21.1580461,-22.93293569,-23.63868957,-21.46493537,-24.29473288,-22.44136039,-20.74738784,-21.35527254,-14.66676903,-16.46067657,-77.59206,-76.80447,-72.7287,-65.68216,-57.6796,-50.2108,-46.54851,-46.70603,-35.52464,-14.96348,-35.66054857,-12.39504358,-29.52118366,-25.82151267,-35.64954472,-54.49800107,-43.49902229,-34.33894197,-42.88247,-42.96844683,-42.88422773,-48.14191589,-34.36197702,-27.440446,-54.42445327,-47.48895232,-17.82092298,-40.01723757,-41.45272492,-37.40364779,-47.03967,-44.76037486,-14.75707055,-27.90749342,-5.417156102,-4.340797395,-42.45386268,-16.80794933,-8.689096627,-55.73910528,-55.97405282,-14.61508286,-4.7308435,-46.56984086,-46.3035472,-53.95952592,-1.514686918,-4.932367447,-10.04503957,-16.71623767,-28.12296714,-5.661616259,-7.976111714,-14.30092727,-11.09186833,-0.970214667,-1.101420381,0.959775614,-16.73522379,-14.70918078,-31.63498,-3.684222609,-41.02201027,-45.75961067,-18.81114101,-16.42554125,-7.013041031,-9.316790811,-10.57044051,-33.41519219,-5.883315789,-31.05259335,-38.6765687,-3.428835238,-19.78574851,-17.27104514,-21.01267307,-17.9089861,-26.4252543,-35.86348262,-9.506584667,-29.62011305,-31.62244894,-31.45910438,-26.01718061,-25.5937586,-18.45054018,-41.16064667,-39.73316282,-39.92093491,-13.09188479,-11.34937437,-4.71877549,7.004541667,-60.4958655,5.493851429,-4.330929125,-1.646586857,-18.9630296,-18.65162734,-28.2617947,-15.47295086,-25.73708667,-17.78911115,-25.69500145,-6.690598095,-19.67749185,-25.02978597,-23.84008161,-22.30652,-11.059135,-15.14474109,-4.101818305,-9.93666867,-13.69800957,-18.06885752,-9.295090672,-14.65210971,-8.603829565,-12.23518208,-2.883395794,3.084357143,-13.38512882,-5.484164,0.321903298,-4.673825497,-15.91308293,-7.36146924,-11.601952,-8.913310306,-2.147337167,-16.94963143,-20.20948667,-20.23025629,-27.78574676,-24.44786368,-28.94543143,-33.67924298,-38.86416389,-39.8912642,-42.67860149,-30.05668667,-25.99110432,-38.77894034,2.141117714,0.553883429,1.217273145,9.156768,3.921010667,7.098754534,7.479731412,6.139525143,-1.028744857,1.129600536,-4.479498667,11.01780383,-4.786697799,-7.099081333,-2.900987238,5.259022129,-8.28776323,-15.16253286,-20.38245718,-28.993184,-42.38344933,-44.55701509,-35.61926952,2.272871159,-24.92097067,-29.944999,-52.04638421,-52.68046227,-34.06315703,-27.75257914,-40.615716,-46.21868933,-32.25445304,-28.70804743,-29.96957619,-38.25214,-29.001412,-24.53690497,-28.56954773,-25.21215064,-36.97431304,-25.4799278,-8.609093084,-26.32428857,-60.05328,-42.61056,-41.68514,-49.73825,-46.33192,-43.94946,-42.39397,-32.66963,-37.06044,-32.64994,-39.36414,-33.3677,-26.77494,-27.56253,-22.71885,-29.49212,-25.41635,-25.4618,-22.26599,-19.31492,-11.9568,-16.12518,-15.98735,-11.77375,-11.2045,-18.36981,-17.73974,-14.90442,-9.314916,-8.094153,-10.456921,-1.222434,-6.1945,-5.731384,4.977446,6.4954,-0.5947494,0.7441527,10.76384],\"y\":[120.7985667,113.7228677,120.3503284,119.873547,121.5114816,123.1188927,149.922979,140.8923356,139.7536376,142.3992175,148.7100133,144.0812844,113.24662,122.3045443,122.5960266,118.6669428,129.0447034,116.4094181,119.7839872,136.2810578,132.0985808,135.6421414,123.662627,130.8051815,129.7407148,139.1805794,132.3293989,131.1800298,136.4680276,135.4419983,141.6323199,138.5854925,139.9950704,134.702649,143.2286398,144.5117223,141.452916,149.7437673,135.7886081,129.4302928,148.8980511,147.9375081,145.0488265,142.5344245,130.5650093,144.4892955,129.9263817,155.2269872,150.6443552,147.5998112,141.5735606,150.2932019,152.1576349,154.1487041,153.6091877,147.2670105,149.7175643,147.3293567,135.0927363,148.6259799,149.9409567,152.3785745,140.2430958,137.6704921,146.9438328,139.1557724,155.6000522,136.0357043,135.9078147,153.7533924,145.4021884,143.7813359,147.1316737,145.8027457,153.0952278,150.7908792,145.2685239,148.0454856,149.7903661,142.6129877,146.2552103,155.5919847,145.62263,156.6022742,144.1373566,145.0063692,143.8484455,147.3931012,145.8831472,145.93957,152.8066188,151.5756583,119.4655,121.629,126.0789,119.9184,127.0673,142.7316,144.0902,144.2674,151.1958,154.9172,48.78942838,77.24231806,47.77308082,80.59336367,62.20546824,76.57974267,83.77907886,53.87249423,79.38806,79.17753615,79.5017264,90.12105144,51.01104351,85.34171829,73.38996884,80.04219899,77.67130238,54.851973,93.44422701,75.15095502,92.620915,84.80327676,84.74432859,48.83765152,8.847342542,81.53936933,73.7884278,93.58312933,10.01766072,82.93201083,82.95283865,91.84376152,42.19041075,108.5148826,108.981916,106.6657674,109.694083,108.8521612,120.7187843,125.3305517,115.1939071,106.5826182,121.755362,101.7534391,125.466655,100.3982661,106.7018923,96.49986281,98.73511212,89.51142653,113.1713044,89.0582687,106.5429704,114.229152,100.5875039,105.5024725,99.48536037,106.6407206,126.8679454,110.2547015,98.33835579,104.6993637,97.60567565,93.7002,127.6360481,122.5399796,125.0750803,118.7230411,121.042114,103.9891685,127.3303587,118.2129548,119.4623426,115.7525987,121.7202521,130.2994724,132.7106863,104.4493693,109.4680707,106.6778969,118.0804011,137.7772238,13.84812451,23.59549,102.2441972,19.41666948,20.2928445,17.47972819,42.3682832,42.51463825,15.70429784,42.88988038,10.44674038,24.66935949,16.54076148,49.72451276,36.45218043,26.59853797,35.58692832,12.12235333,21.8502846,18.82510326,28.81178949,42.1022018,17.48616727,20.80237814,58.89740588,14.20317371,22.22068,25.53155401,24.44928234,12.85137943,23.16962608,22.97693067,25.36297713,29.02559614,19.1406085,61.68461228,11.650616,13.90776621,8.8733685,71.74829257,55.70627325,56.03150514,48.56813041,61.57301977,57.84716161,67.80925329,62.46519968,55.19798306,59.14324874,65.25714533,41.22527541,66.29875835,64.40213029,60.16771829,66.92785654,57.54668876,71.44016667,62.58893516,68.59563745,58.323828,68.91248914,71.11121482,66.127156,52.36532967,73.77888096,59.32604853,55.29820971,82.34198555,55.6569646,74.59968095,65.47596052,69.250824,56.49411867,68.98637917,56.00777619,49.02283551,69.08989467,74.69281,85.52256734,84.56854314,42.74553598,48.92443522,49.63081867,56.45468667,37.90019062,76.19336305,83.24034333,45.15325,87.892008,39.65303157,40.1044632,45.25440052,38.85725913,77.17356441,75.07819673,59.06835467,99.13079,79.34737,84.44463,86.92554,96.76802,102.4166,114.1493,29.44582,79.1111,90.52876,117.4572,115.6314,31.64869,37.92971,48.97327,47.47685,96.35453,102.9989,118.7173,29.95776,27.5647,35.09439,34.83842,59.60334,88.6517,108.166,113.5192,111.9637,29.81993,40.31217,37.20119,45.13377,92.8805,106.3545,44.20835,47.9617,87.14212,85.94105,30.70597],\"type\":\"scatter\"},{\"marker\":{\"color\":\"black\"},\"x\":[-4.352596,-10.530025583459231],\"y\":[-25.27437571,1.431291296576059],\"type\":\"scatter\"},{\"marker\":{\"color\":\"black\"},\"x\":[15.04316711,-10.530025583459231],\"y\":[-16.67449933,1.431291296576059],\"type\":\"scatter\"},{\"marker\":{\"color\":\"black\"},\"x\":[-17.93511505,-10.530025583459231],\"y\":[-26.03976419,1.431291296576059],\"type\":\"scatter\"},{\"marker\":{\"color\":\"black\"},\"x\":[-25.41635],\"y\":[96.35453],\"type\":\"scatter\"}],                        {\"template\":{\"data\":{\"histogram2dcontour\":[{\"type\":\"histogram2dcontour\",\"colorbar\":{\"outlinewidth\":0,\"ticks\":\"\"},\"colorscale\":[[0.0,\"#0d0887\"],[0.1111111111111111,\"#46039f\"],[0.2222222222222222,\"#7201a8\"],[0.3333333333333333,\"#9c179e\"],[0.4444444444444444,\"#bd3786\"],[0.5555555555555556,\"#d8576b\"],[0.6666666666666666,\"#ed7953\"],[0.7777777777777778,\"#fb9f3a\"],[0.8888888888888888,\"#fdca26\"],[1.0,\"#f0f921\"]]}],\"choropleth\":[{\"type\":\"choropleth\",\"colorbar\":{\"outlinewidth\":0,\"ticks\":\"\"}}],\"histogram2d\":[{\"type\":\"histogram2d\",\"colorbar\":{\"outlinewidth\":0,\"ticks\":\"\"},\"colorscale\":[[0.0,\"#0d0887\"],[0.1111111111111111,\"#46039f\"],[0.2222222222222222,\"#7201a8\"],[0.3333333333333333,\"#9c179e\"],[0.4444444444444444,\"#bd3786\"],[0.5555555555555556,\"#d8576b\"],[0.6666666666666666,\"#ed7953\"],[0.7777777777777778,\"#fb9f3a\"],[0.8888888888888888,\"#fdca26\"],[1.0,\"#f0f921\"]]}],\"heatmap\":[{\"type\":\"heatmap\",\"colorbar\":{\"outlinewidth\":0,\"ticks\":\"\"},\"colorscale\":[[0.0,\"#0d0887\"],[0.1111111111111111,\"#46039f\"],[0.2222222222222222,\"#7201a8\"],[0.3333333333333333,\"#9c179e\"],[0.4444444444444444,\"#bd3786\"],[0.5555555555555556,\"#d8576b\"],[0.6666666666666666,\"#ed7953\"],[0.7777777777777778,\"#fb9f3a\"],[0.8888888888888888,\"#fdca26\"],[1.0,\"#f0f921\"]]}],\"heatmapgl\":[{\"type\":\"heatmapgl\",\"colorbar\":{\"outlinewidth\":0,\"ticks\":\"\"},\"colorscale\":[[0.0,\"#0d0887\"],[0.1111111111111111,\"#46039f\"],[0.2222222222222222,\"#7201a8\"],[0.3333333333333333,\"#9c179e\"],[0.4444444444444444,\"#bd3786\"],[0.5555555555555556,\"#d8576b\"],[0.6666666666666666,\"#ed7953\"],[0.7777777777777778,\"#fb9f3a\"],[0.8888888888888888,\"#fdca26\"],[1.0,\"#f0f921\"]]}],\"contourcarpet\":[{\"type\":\"contourcarpet\",\"colorbar\":{\"outlinewidth\":0,\"ticks\":\"\"}}],\"contour\":[{\"type\":\"contour\",\"colorbar\":{\"outlinewidth\":0,\"ticks\":\"\"},\"colorscale\":[[0.0,\"#0d0887\"],[0.1111111111111111,\"#46039f\"],[0.2222222222222222,\"#7201a8\"],[0.3333333333333333,\"#9c179e\"],[0.4444444444444444,\"#bd3786\"],[0.5555555555555556,\"#d8576b\"],[0.6666666666666666,\"#ed7953\"],[0.7777777777777778,\"#fb9f3a\"],[0.8888888888888888,\"#fdca26\"],[1.0,\"#f0f921\"]]}],\"surface\":[{\"type\":\"surface\",\"colorbar\":{\"outlinewidth\":0,\"ticks\":\"\"},\"colorscale\":[[0.0,\"#0d0887\"],[0.1111111111111111,\"#46039f\"],[0.2222222222222222,\"#7201a8\"],[0.3333333333333333,\"#9c179e\"],[0.4444444444444444,\"#bd3786\"],[0.5555555555555556,\"#d8576b\"],[0.6666666666666666,\"#ed7953\"],[0.7777777777777778,\"#fb9f3a\"],[0.8888888888888888,\"#fdca26\"],[1.0,\"#f0f921\"]]}],\"mesh3d\":[{\"type\":\"mesh3d\",\"colorbar\":{\"outlinewidth\":0,\"ticks\":\"\"}}],\"scatter\":[{\"fillpattern\":{\"fillmode\":\"overlay\",\"size\":10,\"solidity\":0.2},\"type\":\"scatter\"}],\"parcoords\":[{\"type\":\"parcoords\",\"line\":{\"colorbar\":{\"outlinewidth\":0,\"ticks\":\"\"}}}],\"scatterpolargl\":[{\"type\":\"scatterpolargl\",\"marker\":{\"colorbar\":{\"outlinewidth\":0,\"ticks\":\"\"}}}],\"bar\":[{\"error_x\":{\"color\":\"#2a3f5f\"},\"error_y\":{\"color\":\"#2a3f5f\"},\"marker\":{\"line\":{\"color\":\"#E5ECF6\",\"width\":0.5},\"pattern\":{\"fillmode\":\"overlay\",\"size\":10,\"solidity\":0.2}},\"type\":\"bar\"}],\"scattergeo\":[{\"type\":\"scattergeo\",\"marker\":{\"colorbar\":{\"outlinewidth\":0,\"ticks\":\"\"}}}],\"scatterpolar\":[{\"type\":\"scatterpolar\",\"marker\":{\"colorbar\":{\"outlinewidth\":0,\"ticks\":\"\"}}}],\"histogram\":[{\"marker\":{\"pattern\":{\"fillmode\":\"overlay\",\"size\":10,\"solidity\":0.2}},\"type\":\"histogram\"}],\"scattergl\":[{\"type\":\"scattergl\",\"marker\":{\"colorbar\":{\"outlinewidth\":0,\"ticks\":\"\"}}}],\"scatter3d\":[{\"type\":\"scatter3d\",\"line\":{\"colorbar\":{\"outlinewidth\":0,\"ticks\":\"\"}},\"marker\":{\"colorbar\":{\"outlinewidth\":0,\"ticks\":\"\"}}}],\"scattermapbox\":[{\"type\":\"scattermapbox\",\"marker\":{\"colorbar\":{\"outlinewidth\":0,\"ticks\":\"\"}}}],\"scatterternary\":[{\"type\":\"scatterternary\",\"marker\":{\"colorbar\":{\"outlinewidth\":0,\"ticks\":\"\"}}}],\"scattercarpet\":[{\"type\":\"scattercarpet\",\"marker\":{\"colorbar\":{\"outlinewidth\":0,\"ticks\":\"\"}}}],\"carpet\":[{\"aaxis\":{\"endlinecolor\":\"#2a3f5f\",\"gridcolor\":\"white\",\"linecolor\":\"white\",\"minorgridcolor\":\"white\",\"startlinecolor\":\"#2a3f5f\"},\"baxis\":{\"endlinecolor\":\"#2a3f5f\",\"gridcolor\":\"white\",\"linecolor\":\"white\",\"minorgridcolor\":\"white\",\"startlinecolor\":\"#2a3f5f\"},\"type\":\"carpet\"}],\"table\":[{\"cells\":{\"fill\":{\"color\":\"#EBF0F8\"},\"line\":{\"color\":\"white\"}},\"header\":{\"fill\":{\"color\":\"#C8D4E3\"},\"line\":{\"color\":\"white\"}},\"type\":\"table\"}],\"barpolar\":[{\"marker\":{\"line\":{\"color\":\"#E5ECF6\",\"width\":0.5},\"pattern\":{\"fillmode\":\"overlay\",\"size\":10,\"solidity\":0.2}},\"type\":\"barpolar\"}],\"pie\":[{\"automargin\":true,\"type\":\"pie\"}]},\"layout\":{\"autotypenumbers\":\"strict\",\"colorway\":[\"#636efa\",\"#EF553B\",\"#00cc96\",\"#ab63fa\",\"#FFA15A\",\"#19d3f3\",\"#FF6692\",\"#B6E880\",\"#FF97FF\",\"#FECB52\"],\"font\":{\"color\":\"#2a3f5f\"},\"hovermode\":\"closest\",\"hoverlabel\":{\"align\":\"left\"},\"paper_bgcolor\":\"white\",\"plot_bgcolor\":\"#E5ECF6\",\"polar\":{\"bgcolor\":\"#E5ECF6\",\"angularaxis\":{\"gridcolor\":\"white\",\"linecolor\":\"white\",\"ticks\":\"\"},\"radialaxis\":{\"gridcolor\":\"white\",\"linecolor\":\"white\",\"ticks\":\"\"}},\"ternary\":{\"bgcolor\":\"#E5ECF6\",\"aaxis\":{\"gridcolor\":\"white\",\"linecolor\":\"white\",\"ticks\":\"\"},\"baxis\":{\"gridcolor\":\"white\",\"linecolor\":\"white\",\"ticks\":\"\"},\"caxis\":{\"gridcolor\":\"white\",\"linecolor\":\"white\",\"ticks\":\"\"}},\"coloraxis\":{\"colorbar\":{\"outlinewidth\":0,\"ticks\":\"\"}},\"colorscale\":{\"sequential\":[[0.0,\"#0d0887\"],[0.1111111111111111,\"#46039f\"],[0.2222222222222222,\"#7201a8\"],[0.3333333333333333,\"#9c179e\"],[0.4444444444444444,\"#bd3786\"],[0.5555555555555556,\"#d8576b\"],[0.6666666666666666,\"#ed7953\"],[0.7777777777777778,\"#fb9f3a\"],[0.8888888888888888,\"#fdca26\"],[1.0,\"#f0f921\"]],\"sequentialminus\":[[0.0,\"#0d0887\"],[0.1111111111111111,\"#46039f\"],[0.2222222222222222,\"#7201a8\"],[0.3333333333333333,\"#9c179e\"],[0.4444444444444444,\"#bd3786\"],[0.5555555555555556,\"#d8576b\"],[0.6666666666666666,\"#ed7953\"],[0.7777777777777778,\"#fb9f3a\"],[0.8888888888888888,\"#fdca26\"],[1.0,\"#f0f921\"]],\"diverging\":[[0,\"#8e0152\"],[0.1,\"#c51b7d\"],[0.2,\"#de77ae\"],[0.3,\"#f1b6da\"],[0.4,\"#fde0ef\"],[0.5,\"#f7f7f7\"],[0.6,\"#e6f5d0\"],[0.7,\"#b8e186\"],[0.8,\"#7fbc41\"],[0.9,\"#4d9221\"],[1,\"#276419\"]]},\"xaxis\":{\"gridcolor\":\"white\",\"linecolor\":\"white\",\"ticks\":\"\",\"title\":{\"standoff\":15},\"zerolinecolor\":\"white\",\"automargin\":true,\"zerolinewidth\":2},\"yaxis\":{\"gridcolor\":\"white\",\"linecolor\":\"white\",\"ticks\":\"\",\"title\":{\"standoff\":15},\"zerolinecolor\":\"white\",\"automargin\":true,\"zerolinewidth\":2},\"scene\":{\"xaxis\":{\"backgroundcolor\":\"#E5ECF6\",\"gridcolor\":\"white\",\"linecolor\":\"white\",\"showbackground\":true,\"ticks\":\"\",\"zerolinecolor\":\"white\",\"gridwidth\":2},\"yaxis\":{\"backgroundcolor\":\"#E5ECF6\",\"gridcolor\":\"white\",\"linecolor\":\"white\",\"showbackground\":true,\"ticks\":\"\",\"zerolinecolor\":\"white\",\"gridwidth\":2},\"zaxis\":{\"backgroundcolor\":\"#E5ECF6\",\"gridcolor\":\"white\",\"linecolor\":\"white\",\"showbackground\":true,\"ticks\":\"\",\"zerolinecolor\":\"white\",\"gridwidth\":2}},\"shapedefaults\":{\"line\":{\"color\":\"#2a3f5f\"}},\"annotationdefaults\":{\"arrowcolor\":\"#2a3f5f\",\"arrowhead\":0,\"arrowwidth\":1},\"geo\":{\"bgcolor\":\"white\",\"landcolor\":\"#E5ECF6\",\"subunitcolor\":\"white\",\"showland\":true,\"showlakes\":true,\"lakecolor\":\"white\"},\"title\":{\"x\":0.05},\"mapbox\":{\"style\":\"light\"}}},\"title\":{\"text\":\"Augmecon\"},\"width\":1200,\"height\":800},                        {\"responsive\": true}                    ).then(function(){\n",
       "                            \n",
       "var gd = document.getElementById('baa28783-d1ae-46af-ac25-e57b1c36f3ae');\n",
       "var x = new MutationObserver(function (mutations, observer) {{\n",
       "        var display = window.getComputedStyle(gd).display;\n",
       "        if (!display || display === 'none') {{\n",
       "            console.log([gd, 'removed!']);\n",
       "            Plotly.purge(gd);\n",
       "            observer.disconnect();\n",
       "        }}\n",
       "}});\n",
       "\n",
       "// Listen for the removal of the full notebook cells\n",
       "var notebookContainer = gd.closest('#notebook-container');\n",
       "if (notebookContainer) {{\n",
       "    x.observe(notebookContainer, {childList: true});\n",
       "}}\n",
       "\n",
       "// Listen for the clearing of the current output cell\n",
       "var outputEl = gd.closest('.output');\n",
       "if (outputEl) {{\n",
       "    x.observe(outputEl, {childList: true});\n",
       "}}\n",
       "\n",
       "                        })                };                });            </script>        </div>"
      ]
     },
     "metadata": {},
     "output_type": "display_data"
    },
    {
     "data": {
      "text/html": [
       "        <script type=\"text/javascript\">\n",
       "        window.PlotlyConfig = {MathJaxConfig: 'local'};\n",
       "        if (window.MathJax && window.MathJax.Hub && window.MathJax.Hub.Config) {window.MathJax.Hub.Config({SVG: {font: \"STIX-Web\"}});}\n",
       "        if (typeof require !== 'undefined') {\n",
       "        require.undef(\"plotly\");\n",
       "        requirejs.config({\n",
       "            paths: {\n",
       "                'plotly': ['https://cdn.plot.ly/plotly-2.18.2.min']\n",
       "            }\n",
       "        });\n",
       "        require(['plotly'], function(Plotly) {\n",
       "            window._Plotly = Plotly;\n",
       "        });\n",
       "        }\n",
       "        </script>\n",
       "        "
      ]
     },
     "metadata": {},
     "output_type": "display_data"
    },
    {
     "data": {
      "text/html": [
       "<div>                            <div id=\"06bec005-8af3-4b9e-8d29-6c5cdf68e2a4\" class=\"plotly-graph-div\" style=\"height:800px; width:1200px;\"></div>            <script type=\"text/javascript\">                require([\"plotly\"], function(Plotly) {                    window.PLOTLYENV=window.PLOTLYENV || {};                                    if (document.getElementById(\"06bec005-8af3-4b9e-8d29-6c5cdf68e2a4\")) {                    Plotly.newPlot(                        \"06bec005-8af3-4b9e-8d29-6c5cdf68e2a4\",                        [{\"marker\":{\"color\":\"black\"},\"x\":[-16.110041481745412,-103.6738],\"y\":[-0.6747373047348364,101.2746],\"type\":\"scatter\"},{\"marker\":{\"color\":\"red\"},\"mode\":\"markers\",\"name\":\"Trees covered by line 0\",\"x\":[-83.48467459,-88.19360784,-77.38716,-93.90127238,-97.02245733,-102.7610669,-106.9293573,-107.9110969,-110.3984335,-106.0132132,-96.73072895,-96.22606223,-98.31843957,-115.0619992,-108.786355,-114.5846122,-110.2887047,-103.1629812,-95.55933733,-74.37847497,-74.12546686,-83.96798843,-105.839508,-107.0136188,-89.62130667,-83.3753646,-102.8911694,-82.7508461,-78.26144619,-74.66894341,-85.630951,-104.5151239,-90.57745961,-72.9690587,-79.21758645,-87.31261084,-95.6665854,-78.82330588,-70.18942466,-70.13604975,-69.11292673,-105.2474193,-111.0155589,-110.4334077,-109.0691822,-113.8496183,-115.6880358,-116.3580906,-114.450469,-72.28254052,-115.5839619,-20.01427656,-46.08530939,-39.1687174,-41.69020833,-20.15441667,-30.51452551,-65.84327489,-100.4964897,-87.83312994,-67.58248429,-113.9290292,-65.91586274,-66.154401,-61.06820181,-65.06967068,-64.15900983,-55.91586735,-61.14652818,-60.13371324,-64.44548,-64.87632182,-57.75133942,-51.72634937,-54.22529924,-56.03364748,-51.34979148,-57.75406087,-47.45566976,-54.71720264,-48.32035725,-48.23730243,-37.09976663,-37.47195419,-38.754948,-28.88421312,-45.03471145,-52.09936048,-30.53919388,-33.86425279,-42.03635682,-43.77058695,-48.38149441,-33.38285971,-45.35963829,-20.31095449,-30.12933628,-38.2757944,-37.18284862,-26.71358941,-32.49283298,-29.93719601,-24.30442355,-43.69364112,-36.96231791,-29.73887306,-38.04231305,-26.46417652,-25.02255191,-22.40626011,-29.84199559,-34.43580671,-24.7515566,-38.15196,-29.1106237,-43.13583476,-43.45710629,-17.46835571,-28.66212267,-26.34495444,-28.271429,-26.86485143,-28.02366579,-22.25938746,-23.30889411,-22.14285214,-19.53772261,-28.05956057,-21.99539808,-18.51068583,-21.1580461,-22.93293569,-23.63868957,-21.46493537,-24.29473288,-22.44136039,-20.74738784,-21.35527254,-14.66676903,-16.46067657,-120.5061,-118.8128,-108.5675,-103.0634,-103.6738,-95.93813,-74.75674,-80.30925,-77.59206,-76.80447,-72.7287,-65.68216,-57.6796,-50.2108,-46.54851,-46.70603,-35.52464,-14.96348,-68.21670068,-42.19841593,-35.66054857,-63.811228,-12.39504358,-84.08833116,-43.45665946,-29.52118366,-25.82151267,-35.64954472,-75.60631589,-63.83902737,-62.80450732,-47.87548267,-45.04949761,-92.01265714,-68.96079619,-93.82751185,-83.54479257,-72.90408841,-78.19297493,-54.49800107,-82.38238939,-63.16261606,-43.49902229,-34.33894197,-68.69947,-42.88247,-42.96844683,-42.88422773,-48.14191589,-77.894284,-34.36197702,-27.440446,-71.4853691,-72.662565,-54.42445327,-47.48895232,-17.82092298,-89.07298,-40.01723757,-70.08661831,-41.45272492,-88.87189632,-89.04238067,-65.83894297,-72.31511771,-37.40364779,-95.9302225,-47.03967,-81.16040829,-85.85650115,-44.76037486,-14.75707055,-56.52763129,-94.4786539,-96.535378,-27.90749342,-63.75294362,-5.417156102,-4.340797395,-63.91497622,-67.73621776,-63.74153257,-69.36194202,-42.45386268,-71.06100708,-80.33854904,-16.80794933,-77.01644229,-8.689096627,-95.71312916,-89.78213333,-55.73910528,-55.97405282,-14.61508286,-4.7308435,-46.56984086,-46.3035472,-58.99396885,-53.95952592,-101.3700811,-92.95359395,-100.9940699,-61.57447094,-1.514686918,-4.932367447,-10.04503957,-16.71623767,-28.12296714,-5.661616259,-7.976111714,-14.30092727,-11.09186833,-0.970214667,-1.101420381,0.959775614,-16.73522379,-14.70918078,-31.63498,-3.684222609,-41.02201027,-45.75961067,-18.81114101,-16.42554125,-7.013041031,-9.316790811,-10.57044051,-33.41519219,-5.883315789,-31.05259335,-38.6765687,-3.428835238,-19.78574851,-17.27104514,-21.01267307,-17.9089861,-26.4252543,-35.86348262,-9.506584667,-29.62011305,-31.62244894,-31.45910438,-26.01718061,-25.5937586,-18.45054018,-80.0400875,-100.793763,-100.3478996,-99.5811527,-98.615002,-101.2184867,-96.69549867,-98.09441245,-41.16064667,-39.73316282,-39.92093491,-13.09188479,-11.34937437,-4.71877549,7.004541667,-60.4958655,5.493851429,-4.330929125,-1.646586857,-18.9630296,-18.65162734,-28.2617947,-15.47295086,-30.87206137,-25.73708667,-17.78911115,-25.69500145,-6.690598095,-19.67749185,-25.02978597,-23.84008161,-22.30652,-31.39633886,-30.33386573,-28.67903971,-35.14537733,-11.059135,-15.14474109,-4.101818305,-9.93666867,-13.69800957,-18.06885752,-9.295090672,-14.65210971,-8.603829565,-12.23518208,-2.883395794,3.084357143,-13.38512882,-5.484164,0.321903298,-4.673825497,-15.91308293,-7.36146924,-11.601952,-8.913310306,-42.05272394,-58.95692088,-2.147337167,-61.24894305,-66.530239,-69.40538898,-16.94963143,-20.20948667,-20.23025629,-27.78574676,-24.44786368,-28.94543143,-33.67924298,-38.86416389,-39.8912642,-42.67860149,-38.89644161,-41.55115797,-31.56738227,-41.41965835,-30.05668667,-25.99110432,-38.77894034,-45.08971777,-62.3774501,-69.61408133,-37.35254208,-65.64535138,-47.08279067,-47.94450819,-66.57174552,-57.6806725,-56.70006471,-57.59924854,2.141117714,0.553883429,1.217273145,9.156768,3.921010667,7.098754534,7.479731412,6.139525143,-1.028744857,1.129600536,-4.479498667,11.01780383,-4.786697799,-7.099081333,-2.900987238,5.259022129,-8.28776323,-15.16253286,-50.10485046,-43.84057345,-20.38245718,-28.993184,-74.27956334,-57.05613672,-58.99463714,-73.64038121,-52.66540533,-46.96401457,-52.17798164,-42.38344933,-44.55701509,-35.61926952,-59.8437761,-66.00952476,-45.20257457,2.272871159,-24.92097067,-60.93192832,-61.66114429,-52.02315851,-45.41482262,-65.8870821,-59.03737455,-49.13330237,-29.944999,-39.03887005,-59.16029652,-44.91329837,-52.04638421,-52.68046227,-34.06315703,-51.23299876,-81.48674652,-60.82878325,-27.75257914,-40.615716,-46.21868933,-32.25445304,-34.85075714,-42.86287625,-58.14497146,-28.70804743,-29.96957619,-51.18539067,-43.79230016,-64.271412,-50.13028007,-45.99883432,-38.25214,-29.001412,-24.53690497,-28.56954773,-25.21215064,-51.51983649,-64.747095,-50.43153156,-70.83656933,-45.95279935,-36.77754178,-36.97431304,-52.15906782,-25.4799278,-8.609093084,-26.32428857,-84.14636,-82.96498,-82.80746,-79.246,-68.08431,-62.64994,-69.79732,-66.13502,-57.8296,-54.713,-57.2062,-58.2843,-59.36414,-61.23467,-60.05328,-43.494,-46.27285,-42.61056,-41.68514,-49.73825,-46.33192,-43.94946,-42.39397,-31.387,-32.66963,-39.20662,-37.06044,-32.64994,-39.36414,-33.3677,-26.57804,-26.77494,-27.56253,-22.71885,-29.49212,-25.41635,-25.4618,-22.26599,-19.31492,-11.9568,-16.12518,-15.98735,-11.77375,-11.2045,-18.36981,-17.73974,-14.90442,-9.314916,-8.094153,-10.456921,-1.222434,-6.1945,-5.731384,4.977446,6.4954,-0.5947494,0.7441527,10.76384],\"y\":[95.86970097,98.34736686,105.531576,85.11919619,88.54954267,77.77472,80.351252,82.70909714,75.82409401,89.40781657,98.53306229,100.1307978,100.5692092,85.04506755,77.02719052,82.96372814,86.10765266,85.29616635,104.3161573,104.4872907,104.5034411,102.8353679,86.49467744,95.28771062,107.525112,106.9914629,86.20745338,115.3560539,109.285201,120.7985667,113.1640033,87.68086518,107.7242429,113.7228677,104.8973871,111.5093353,102.4783549,117.612602,120.3503284,119.873547,121.5114816,97.1181028,90.92524233,96.00547745,82.99614333,87.2107575,80.37969702,88.860498,91.64478486,123.1188927,78.43012638,149.922979,140.8923356,139.7536376,142.3992175,148.7100133,144.0812844,113.24662,96.3416446,111.5008781,122.3045443,85.41514138,122.5960266,118.6669428,129.0447034,116.4094181,119.7839872,136.2810578,132.0985808,135.6421414,123.662627,130.8051815,129.7407148,139.1805794,132.3293989,131.1800298,136.4680276,135.4419983,141.6323199,138.5854925,139.9950704,134.702649,143.2286398,144.5117223,141.452916,149.7437673,135.7886081,129.4302928,148.8980511,147.9375081,145.0488265,142.5344245,130.5650093,144.4892955,129.9263817,155.2269872,150.6443552,147.5998112,141.5735606,150.2932019,152.1576349,154.1487041,153.6091877,147.2670105,149.7175643,147.3293567,135.0927363,148.6259799,149.9409567,152.3785745,140.2430958,137.6704921,146.9438328,139.1557724,155.6000522,136.0357043,135.9078147,153.7533924,145.4021884,143.7813359,147.1316737,145.8027457,153.0952278,150.7908792,145.2685239,148.0454856,149.7903661,142.6129877,146.2552103,155.5919847,145.62263,156.6022742,144.1373566,145.0063692,143.8484455,147.3931012,145.8831472,145.93957,152.8066188,151.5756583,83.28294,80.60513,85.8628,81.09737,101.2746,90.31217,104.7006,118.481,119.4655,121.629,126.0789,119.9184,127.0673,142.7316,144.0902,144.2674,151.1958,154.9172,61.39562391,22.29488814,48.78942838,60.68509933,77.24231806,62.67181938,45.96339541,47.77308082,80.59336367,62.20546824,72.66518112,71.132852,3.661438659,12.41163467,40.88877161,49.73902457,74.36834876,58.72901398,57.81202571,73.25266903,43.280443,76.57974267,59.70660391,14.21862546,83.77907886,53.87249423,11.68062366,79.38806,79.17753615,79.5017264,90.12105144,52.61685171,51.01104351,85.34171829,13.69239645,9.753753333,73.38996884,80.04219899,77.67130238,50.99806667,54.851973,10.52799649,93.44422701,60.67692382,71.26314307,81.18862365,83.26069743,75.15095502,52.33538372,92.620915,79.16582743,75.32552365,84.80327676,84.74432859,69.05706172,71.09835181,57.0680368,48.83765152,16.11237048,8.847342542,81.53936933,67.20044389,85.21727234,71.50158228,85.35868131,73.7884278,90.40291679,84.43096494,93.58312933,87.13747124,10.01766072,59.49331107,75.87889667,82.93201083,82.95283865,91.84376152,42.19041075,108.5148826,108.981916,52.62083967,106.6657674,61.58523686,65.33045471,58.10407029,81.48780766,109.694083,108.8521612,120.7187843,125.3305517,115.1939071,106.5826182,121.755362,101.7534391,125.466655,100.3982661,106.7018923,96.49986281,98.73511212,89.51142653,113.1713044,89.0582687,106.5429704,114.229152,100.5875039,105.5024725,99.48536037,106.6407206,126.8679454,110.2547015,98.33835579,104.6993637,97.60567565,93.7002,127.6360481,122.5399796,125.0750803,118.7230411,121.042114,103.9891685,127.3303587,118.2129548,119.4623426,115.7525987,121.7202521,130.2994724,132.7106863,84.73800696,57.17725771,63.67441974,64.05568506,64.13211571,63.57803857,65.44717238,64.92266082,104.4493693,109.4680707,106.6778969,118.0804011,137.7772238,13.84812451,23.59549,102.2441972,19.41666948,20.2928445,17.47972819,42.3682832,42.51463825,15.70429784,42.88988038,8.485619598,10.44674038,24.66935949,16.54076148,49.72451276,36.45218043,26.59853797,35.58692832,12.12235333,5.626359429,2.907323459,3.598538571,12.83804781,21.8502846,18.82510326,28.81178949,42.1022018,17.48616727,20.80237814,58.89740588,14.20317371,22.22068,25.53155401,24.44928234,12.85137943,23.16962608,22.97693067,25.36297713,29.02559614,19.1406085,61.68461228,11.650616,13.90776621,-0.318944394,4.96812146,8.8733685,7.909944762,7.427147,10.34906898,71.74829257,55.70627325,56.03150514,48.56813041,61.57301977,57.84716161,67.80925329,62.46519968,55.19798306,59.14324874,37.17328227,38.8420729,17.63833001,28.17128838,65.25714533,41.22527541,66.29875835,30.01578138,47.315436,48.07348533,30.81641938,21.16043231,22.12641333,25.21787333,47.204756,57.81795917,39.27407121,22.61315719,64.40213029,60.16771829,66.92785654,57.54668876,71.44016667,62.58893516,68.59563745,58.323828,68.91248914,71.11121482,66.127156,52.36532967,73.77888096,59.32604853,55.29820971,82.34198555,55.6569646,74.59968095,1.511377768,3.091691893,65.47596052,69.250824,41.73161398,32.56169672,52.14452743,33.91353359,8.185796,6.821372,4.378941281,56.49411867,68.98637917,56.00777619,65.59072248,23.30821952,9.288627714,49.02283551,69.08989467,79.11159821,78.64611429,34.43051143,13.76034762,16.91638248,23.515587,38.52826698,74.69281,3.565993622,31.27495377,-0.132877354,85.52256734,84.56854314,42.74553598,57.79036526,49.11636996,38.27663021,48.92443522,49.63081867,56.45468667,37.90019062,31.54198771,36.31789783,44.69947795,76.19336305,83.24034333,56.80349467,19.18281558,52.23652133,45.7442706,51.07242743,45.15325,87.892008,39.65303157,40.1044632,45.25440052,66.06245366,41.633555,32.90602742,38.04694933,19.65958551,19.00586822,38.85725913,38.50238222,77.17356441,75.07819673,59.06835467,37.92971,36.92554,33.89332,30.50907,40.82172,57.39809,85.42912,87.31933,0.1746,0.7044,6.7719,16.481,29.308,38.36289,99.13079,-2.3416,50.93986,79.34737,84.44463,86.92554,96.76802,102.4166,114.1493,26.5007,29.44582,37.47685,79.1111,90.52876,117.4572,115.6314,-0.1603819,31.64869,37.92971,48.97327,47.47685,96.35453,102.9989,118.7173,29.95776,27.5647,35.09439,34.83842,59.60334,88.6517,108.166,113.5192,111.9637,29.81993,40.31217,37.20119,45.13377,92.8805,106.3545,44.20835,47.9617,87.14212,85.94105,30.70597],\"type\":\"scatter\"},{\"marker\":{\"color\":\"black\"},\"x\":[5.750624681,-16.110041481745412],\"y\":[-23.50333184,-0.6747373047348364],\"type\":\"scatter\"},{\"marker\":{\"color\":\"black\"},\"x\":[15.04316711,-16.110041481745412],\"y\":[-16.67449933,-0.6747373047348364],\"type\":\"scatter\"},{\"marker\":{\"color\":\"black\"},\"x\":[-15.12792573,-16.110041481745412],\"y\":[-26.16056076,-0.6747373047348364],\"type\":\"scatter\"},{\"marker\":{\"color\":\"black\"},\"x\":[],\"y\":[],\"type\":\"scatter\"}],                        {\"template\":{\"data\":{\"histogram2dcontour\":[{\"type\":\"histogram2dcontour\",\"colorbar\":{\"outlinewidth\":0,\"ticks\":\"\"},\"colorscale\":[[0.0,\"#0d0887\"],[0.1111111111111111,\"#46039f\"],[0.2222222222222222,\"#7201a8\"],[0.3333333333333333,\"#9c179e\"],[0.4444444444444444,\"#bd3786\"],[0.5555555555555556,\"#d8576b\"],[0.6666666666666666,\"#ed7953\"],[0.7777777777777778,\"#fb9f3a\"],[0.8888888888888888,\"#fdca26\"],[1.0,\"#f0f921\"]]}],\"choropleth\":[{\"type\":\"choropleth\",\"colorbar\":{\"outlinewidth\":0,\"ticks\":\"\"}}],\"histogram2d\":[{\"type\":\"histogram2d\",\"colorbar\":{\"outlinewidth\":0,\"ticks\":\"\"},\"colorscale\":[[0.0,\"#0d0887\"],[0.1111111111111111,\"#46039f\"],[0.2222222222222222,\"#7201a8\"],[0.3333333333333333,\"#9c179e\"],[0.4444444444444444,\"#bd3786\"],[0.5555555555555556,\"#d8576b\"],[0.6666666666666666,\"#ed7953\"],[0.7777777777777778,\"#fb9f3a\"],[0.8888888888888888,\"#fdca26\"],[1.0,\"#f0f921\"]]}],\"heatmap\":[{\"type\":\"heatmap\",\"colorbar\":{\"outlinewidth\":0,\"ticks\":\"\"},\"colorscale\":[[0.0,\"#0d0887\"],[0.1111111111111111,\"#46039f\"],[0.2222222222222222,\"#7201a8\"],[0.3333333333333333,\"#9c179e\"],[0.4444444444444444,\"#bd3786\"],[0.5555555555555556,\"#d8576b\"],[0.6666666666666666,\"#ed7953\"],[0.7777777777777778,\"#fb9f3a\"],[0.8888888888888888,\"#fdca26\"],[1.0,\"#f0f921\"]]}],\"heatmapgl\":[{\"type\":\"heatmapgl\",\"colorbar\":{\"outlinewidth\":0,\"ticks\":\"\"},\"colorscale\":[[0.0,\"#0d0887\"],[0.1111111111111111,\"#46039f\"],[0.2222222222222222,\"#7201a8\"],[0.3333333333333333,\"#9c179e\"],[0.4444444444444444,\"#bd3786\"],[0.5555555555555556,\"#d8576b\"],[0.6666666666666666,\"#ed7953\"],[0.7777777777777778,\"#fb9f3a\"],[0.8888888888888888,\"#fdca26\"],[1.0,\"#f0f921\"]]}],\"contourcarpet\":[{\"type\":\"contourcarpet\",\"colorbar\":{\"outlinewidth\":0,\"ticks\":\"\"}}],\"contour\":[{\"type\":\"contour\",\"colorbar\":{\"outlinewidth\":0,\"ticks\":\"\"},\"colorscale\":[[0.0,\"#0d0887\"],[0.1111111111111111,\"#46039f\"],[0.2222222222222222,\"#7201a8\"],[0.3333333333333333,\"#9c179e\"],[0.4444444444444444,\"#bd3786\"],[0.5555555555555556,\"#d8576b\"],[0.6666666666666666,\"#ed7953\"],[0.7777777777777778,\"#fb9f3a\"],[0.8888888888888888,\"#fdca26\"],[1.0,\"#f0f921\"]]}],\"surface\":[{\"type\":\"surface\",\"colorbar\":{\"outlinewidth\":0,\"ticks\":\"\"},\"colorscale\":[[0.0,\"#0d0887\"],[0.1111111111111111,\"#46039f\"],[0.2222222222222222,\"#7201a8\"],[0.3333333333333333,\"#9c179e\"],[0.4444444444444444,\"#bd3786\"],[0.5555555555555556,\"#d8576b\"],[0.6666666666666666,\"#ed7953\"],[0.7777777777777778,\"#fb9f3a\"],[0.8888888888888888,\"#fdca26\"],[1.0,\"#f0f921\"]]}],\"mesh3d\":[{\"type\":\"mesh3d\",\"colorbar\":{\"outlinewidth\":0,\"ticks\":\"\"}}],\"scatter\":[{\"fillpattern\":{\"fillmode\":\"overlay\",\"size\":10,\"solidity\":0.2},\"type\":\"scatter\"}],\"parcoords\":[{\"type\":\"parcoords\",\"line\":{\"colorbar\":{\"outlinewidth\":0,\"ticks\":\"\"}}}],\"scatterpolargl\":[{\"type\":\"scatterpolargl\",\"marker\":{\"colorbar\":{\"outlinewidth\":0,\"ticks\":\"\"}}}],\"bar\":[{\"error_x\":{\"color\":\"#2a3f5f\"},\"error_y\":{\"color\":\"#2a3f5f\"},\"marker\":{\"line\":{\"color\":\"#E5ECF6\",\"width\":0.5},\"pattern\":{\"fillmode\":\"overlay\",\"size\":10,\"solidity\":0.2}},\"type\":\"bar\"}],\"scattergeo\":[{\"type\":\"scattergeo\",\"marker\":{\"colorbar\":{\"outlinewidth\":0,\"ticks\":\"\"}}}],\"scatterpolar\":[{\"type\":\"scatterpolar\",\"marker\":{\"colorbar\":{\"outlinewidth\":0,\"ticks\":\"\"}}}],\"histogram\":[{\"marker\":{\"pattern\":{\"fillmode\":\"overlay\",\"size\":10,\"solidity\":0.2}},\"type\":\"histogram\"}],\"scattergl\":[{\"type\":\"scattergl\",\"marker\":{\"colorbar\":{\"outlinewidth\":0,\"ticks\":\"\"}}}],\"scatter3d\":[{\"type\":\"scatter3d\",\"line\":{\"colorbar\":{\"outlinewidth\":0,\"ticks\":\"\"}},\"marker\":{\"colorbar\":{\"outlinewidth\":0,\"ticks\":\"\"}}}],\"scattermapbox\":[{\"type\":\"scattermapbox\",\"marker\":{\"colorbar\":{\"outlinewidth\":0,\"ticks\":\"\"}}}],\"scatterternary\":[{\"type\":\"scatterternary\",\"marker\":{\"colorbar\":{\"outlinewidth\":0,\"ticks\":\"\"}}}],\"scattercarpet\":[{\"type\":\"scattercarpet\",\"marker\":{\"colorbar\":{\"outlinewidth\":0,\"ticks\":\"\"}}}],\"carpet\":[{\"aaxis\":{\"endlinecolor\":\"#2a3f5f\",\"gridcolor\":\"white\",\"linecolor\":\"white\",\"minorgridcolor\":\"white\",\"startlinecolor\":\"#2a3f5f\"},\"baxis\":{\"endlinecolor\":\"#2a3f5f\",\"gridcolor\":\"white\",\"linecolor\":\"white\",\"minorgridcolor\":\"white\",\"startlinecolor\":\"#2a3f5f\"},\"type\":\"carpet\"}],\"table\":[{\"cells\":{\"fill\":{\"color\":\"#EBF0F8\"},\"line\":{\"color\":\"white\"}},\"header\":{\"fill\":{\"color\":\"#C8D4E3\"},\"line\":{\"color\":\"white\"}},\"type\":\"table\"}],\"barpolar\":[{\"marker\":{\"line\":{\"color\":\"#E5ECF6\",\"width\":0.5},\"pattern\":{\"fillmode\":\"overlay\",\"size\":10,\"solidity\":0.2}},\"type\":\"barpolar\"}],\"pie\":[{\"automargin\":true,\"type\":\"pie\"}]},\"layout\":{\"autotypenumbers\":\"strict\",\"colorway\":[\"#636efa\",\"#EF553B\",\"#00cc96\",\"#ab63fa\",\"#FFA15A\",\"#19d3f3\",\"#FF6692\",\"#B6E880\",\"#FF97FF\",\"#FECB52\"],\"font\":{\"color\":\"#2a3f5f\"},\"hovermode\":\"closest\",\"hoverlabel\":{\"align\":\"left\"},\"paper_bgcolor\":\"white\",\"plot_bgcolor\":\"#E5ECF6\",\"polar\":{\"bgcolor\":\"#E5ECF6\",\"angularaxis\":{\"gridcolor\":\"white\",\"linecolor\":\"white\",\"ticks\":\"\"},\"radialaxis\":{\"gridcolor\":\"white\",\"linecolor\":\"white\",\"ticks\":\"\"}},\"ternary\":{\"bgcolor\":\"#E5ECF6\",\"aaxis\":{\"gridcolor\":\"white\",\"linecolor\":\"white\",\"ticks\":\"\"},\"baxis\":{\"gridcolor\":\"white\",\"linecolor\":\"white\",\"ticks\":\"\"},\"caxis\":{\"gridcolor\":\"white\",\"linecolor\":\"white\",\"ticks\":\"\"}},\"coloraxis\":{\"colorbar\":{\"outlinewidth\":0,\"ticks\":\"\"}},\"colorscale\":{\"sequential\":[[0.0,\"#0d0887\"],[0.1111111111111111,\"#46039f\"],[0.2222222222222222,\"#7201a8\"],[0.3333333333333333,\"#9c179e\"],[0.4444444444444444,\"#bd3786\"],[0.5555555555555556,\"#d8576b\"],[0.6666666666666666,\"#ed7953\"],[0.7777777777777778,\"#fb9f3a\"],[0.8888888888888888,\"#fdca26\"],[1.0,\"#f0f921\"]],\"sequentialminus\":[[0.0,\"#0d0887\"],[0.1111111111111111,\"#46039f\"],[0.2222222222222222,\"#7201a8\"],[0.3333333333333333,\"#9c179e\"],[0.4444444444444444,\"#bd3786\"],[0.5555555555555556,\"#d8576b\"],[0.6666666666666666,\"#ed7953\"],[0.7777777777777778,\"#fb9f3a\"],[0.8888888888888888,\"#fdca26\"],[1.0,\"#f0f921\"]],\"diverging\":[[0,\"#8e0152\"],[0.1,\"#c51b7d\"],[0.2,\"#de77ae\"],[0.3,\"#f1b6da\"],[0.4,\"#fde0ef\"],[0.5,\"#f7f7f7\"],[0.6,\"#e6f5d0\"],[0.7,\"#b8e186\"],[0.8,\"#7fbc41\"],[0.9,\"#4d9221\"],[1,\"#276419\"]]},\"xaxis\":{\"gridcolor\":\"white\",\"linecolor\":\"white\",\"ticks\":\"\",\"title\":{\"standoff\":15},\"zerolinecolor\":\"white\",\"automargin\":true,\"zerolinewidth\":2},\"yaxis\":{\"gridcolor\":\"white\",\"linecolor\":\"white\",\"ticks\":\"\",\"title\":{\"standoff\":15},\"zerolinecolor\":\"white\",\"automargin\":true,\"zerolinewidth\":2},\"scene\":{\"xaxis\":{\"backgroundcolor\":\"#E5ECF6\",\"gridcolor\":\"white\",\"linecolor\":\"white\",\"showbackground\":true,\"ticks\":\"\",\"zerolinecolor\":\"white\",\"gridwidth\":2},\"yaxis\":{\"backgroundcolor\":\"#E5ECF6\",\"gridcolor\":\"white\",\"linecolor\":\"white\",\"showbackground\":true,\"ticks\":\"\",\"zerolinecolor\":\"white\",\"gridwidth\":2},\"zaxis\":{\"backgroundcolor\":\"#E5ECF6\",\"gridcolor\":\"white\",\"linecolor\":\"white\",\"showbackground\":true,\"ticks\":\"\",\"zerolinecolor\":\"white\",\"gridwidth\":2}},\"shapedefaults\":{\"line\":{\"color\":\"#2a3f5f\"}},\"annotationdefaults\":{\"arrowcolor\":\"#2a3f5f\",\"arrowhead\":0,\"arrowwidth\":1},\"geo\":{\"bgcolor\":\"white\",\"landcolor\":\"#E5ECF6\",\"subunitcolor\":\"white\",\"showland\":true,\"showlakes\":true,\"lakecolor\":\"white\"},\"title\":{\"x\":0.05},\"mapbox\":{\"style\":\"light\"}}},\"title\":{\"text\":\"Augmecon\"},\"width\":1200,\"height\":800},                        {\"responsive\": true}                    ).then(function(){\n",
       "                            \n",
       "var gd = document.getElementById('06bec005-8af3-4b9e-8d29-6c5cdf68e2a4');\n",
       "var x = new MutationObserver(function (mutations, observer) {{\n",
       "        var display = window.getComputedStyle(gd).display;\n",
       "        if (!display || display === 'none') {{\n",
       "            console.log([gd, 'removed!']);\n",
       "            Plotly.purge(gd);\n",
       "            observer.disconnect();\n",
       "        }}\n",
       "}});\n",
       "\n",
       "// Listen for the removal of the full notebook cells\n",
       "var notebookContainer = gd.closest('#notebook-container');\n",
       "if (notebookContainer) {{\n",
       "    x.observe(notebookContainer, {childList: true});\n",
       "}}\n",
       "\n",
       "// Listen for the clearing of the current output cell\n",
       "var outputEl = gd.closest('.output');\n",
       "if (outputEl) {{\n",
       "    x.observe(outputEl, {childList: true});\n",
       "}}\n",
       "\n",
       "                        })                };                });            </script>        </div>"
      ]
     },
     "metadata": {},
     "output_type": "display_data"
    }
   ],
   "source": [
    "reload(plotting_2d)\n",
    "for result in optimization_result_list:\n",
    "    fig = plotting_2d.plot_optimization_layout(result, line_gdf, harvesteable_trees_gdf)\n",
    "    fig.show(\"notebook_connected\")"
   ]
  },
  {
   "cell_type": "code",
   "execution_count": 71,
   "metadata": {},
   "outputs": [
    {
     "data": {
      "text/plain": [
       "Index(['Total distance of trees to cable roads',\n",
       "       'Productivity cost per m3 as per Stampfer',\n",
       "       'Total distance from carriage to support', 'overall_profit',\n",
       "       'cable_road_costs', 'profit_comparison', 'name',\n",
       "       'sideways_slope_deviations', 'steep_downhill_segments'],\n",
       "      dtype='object')"
      ]
     },
     "execution_count": 71,
     "metadata": {},
     "output_type": "execute_result"
    }
   ],
   "source": [
    "results_df.columns"
   ]
  },
  {
   "cell_type": "code",
   "execution_count": 74,
   "metadata": {},
   "outputs": [
    {
     "data": {
      "application/vnd.jupyter.widget-view+json": {
       "model_id": "6af4d523d7b84510a49e0baff5beaf7d",
       "version_major": 2,
       "version_minor": 0
      },
      "text/plain": [
       "VBox(children=(FigureWidget({\n",
       "    'data': [{'type': 'scatter3d',\n",
       "              'uid': '8fff27e0-32fd-47d0-80ed…"
      ]
     },
     "metadata": {},
     "output_type": "display_data"
    }
   ],
   "source": [
    "reload(plotting_2d)\n",
    "import plotly.graph_objects as go\n",
    "from ipywidgets import VBox\n",
    "\n",
    "f = go.FigureWidget(\n",
    "    go.Scatter3d(\n",
    "        x=results_df[\"overall_profit\"],\n",
    "        y=results_df[\"sideways_slope_deviations\"],\n",
    "        z=results_df[\"steep_downhill_segments\"],\n",
    "    )\n",
    ")\n",
    "\n",
    "t = go.FigureWidget([])\n",
    "\n",
    "\n",
    "def selection_fn(trace, points, selector):\n",
    "    # get index of this point in the trace\n",
    "    index = points.point_inds[0]\n",
    "\n",
    "    # update the layout plot to show this result\n",
    "    t.data = []\n",
    "\n",
    "    t.add_traces(\n",
    "        list(\n",
    "            plotting_2d.plot_optimization_layout(\n",
    "                optimization_result_list[index], line_gdf, harvesteable_trees_gdf\n",
    "            ).data\n",
    "        )\n",
    "    )\n",
    "\n",
    "    t.update_layout(title=optimization_result_list[index].name)\n",
    "\n",
    "\n",
    "t.update_layout(width=1200, height=800)\n",
    "f.data[0].on_click(selection_fn)\n",
    "VBox((f, t))"
   ]
  },
  {
   "cell_type": "markdown",
   "metadata": {},
   "source": [
    "#### Interactive CR Selection\n"
   ]
  },
  {
   "cell_type": "code",
   "execution_count": 6,
   "metadata": {},
   "outputs": [
    {
     "data": {
      "application/vnd.jupyter.widget-view+json": {
       "model_id": "b7b6275bc37c48879702139d8c336b1a",
       "version_major": 2,
       "version_minor": 0
      },
      "text/plain": [
       "VBox(children=(FigureWidget({\n",
       "    'data': [{'line': {'color': 'lightgrey'},\n",
       "              'mode': 'lines',\n",
       "   …"
      ]
     },
     "metadata": {},
     "output_type": "display_data"
    }
   ],
   "source": [
    "import plotly.graph_objs as go\n",
    "import plotly.offline as py\n",
    "\n",
    "import pandas as pd\n",
    "import numpy as np\n",
    "from ipywidgets import VBox\n",
    "\n",
    "from random import random\n",
    "\n",
    "# create a trace for the trees\n",
    "xs, ys = zip(*[(row.xy[0][0], row.xy[1][0]) for row in harvesteable_trees_gdf.geometry])\n",
    "trees = go.Scatter(\n",
    "    x=xs,\n",
    "    y=ys,\n",
    "    mode=\"markers\",\n",
    "    marker=dict(color=\"green\"),\n",
    "    name=\"trees\",\n",
    ")\n",
    "\n",
    "# Create traces for each line\n",
    "individual_lines = [\n",
    "    go.Scatter(\n",
    "        x=np.asarray(row.geometry.xy[0]) + random(),\n",
    "        y=np.asarray(row.geometry.xy[1]) + random(),\n",
    "        mode=\"lines\",\n",
    "        line=dict(color=\"lightgrey\"),\n",
    "        name=str(id),\n",
    "    )\n",
    "    for id, row in line_gdf.iterrows()\n",
    "]\n",
    "\n",
    "# create a figure from all individual scatter lines\n",
    "f = go.FigureWidget([*individual_lines, trees])\n",
    "f.update_layout(\n",
    "    width=1000,\n",
    "    height=800,\n",
    ")\n",
    "\n",
    "\n",
    "# create the onclick function to select new CRs\n",
    "def selection_fn(trace, points, selector):\n",
    "    # since the handler is activated for all lines, test if this one has coordinates, ie. is the clicked line\n",
    "    if points.xs:\n",
    "        if trace.line.color == \"black\":\n",
    "            f.update_traces(line=dict(color=\"lightgrey\"), selector={\"name\": trace.name})\n",
    "        elif trace.line.color == \"lightgrey\":\n",
    "            # update this trace to turn black\n",
    "            f.update_traces(line=dict(color=\"black\"), selector={\"name\": trace.name})\n",
    "\n",
    "        # get all active traces\n",
    "        active_traces = f.select_traces(selector={\"line.color\": \"black\"})\n",
    "        active_traces_names = [int(trace.name) for trace in active_traces]\n",
    "\n",
    "        # set the dataframe rows to show only these CRs\n",
    "        t.data[0].cells.values = [df[df.index.isin(active_traces_names)]]\n",
    "        # and update the dataframe showing the computed costs\n",
    "        c.data[0].cells.values = update_layout_cost_df(active_traces_names)\n",
    "\n",
    "\n",
    "# add the onclick function to all traces\n",
    "for trace in f.data:\n",
    "    trace.on_click(selection_fn)\n",
    "\n",
    "# create a dataframe and push it to a figurewidget to display details about our selected lines\n",
    "df = line_gdf[[\"line_cost\", \"line_length\"]]\n",
    "t = go.FigureWidget([go.Table(header=dict(values=df.columns), cells=dict(values=[df]))])\n",
    "\n",
    "cost_gdf = pd.DataFrame(\n",
    "    columns=[\"Tree_to_line_distance\", \"Productivity_cost\", \"Line_cost\", \"Profit\"]\n",
    ")\n",
    "c = go.FigureWidget(\n",
    "    [go.Table(header=dict(values=cost_gdf.columns), cells=dict(values=[cost_gdf]))]\n",
    ")\n",
    "\n",
    "\n",
    "def update_layout_cost_df(indices):\n",
    "    rot_line_gdf = line_gdf[line_gdf.index.isin(indices)]\n",
    "\n",
    "    # Create a matrix with the distance between every tree and line and the distance between the support (beginning of the CR) and the carriage (cloests point on the CR to the tree)\n",
    "    (\n",
    "        distance_tree_line,\n",
    "        distance_carriage_support,\n",
    "    ) = geometry_operations.compute_distances_facilities_clients(\n",
    "        harvesteable_trees_gdf, rot_line_gdf\n",
    "    )\n",
    "\n",
    "    # assign all trees to their closest line\n",
    "    tree_to_line_assignment = np.argmin(distance_tree_line, axis=1)\n",
    "\n",
    "    # compute the distance of each tree to its assigned line\n",
    "    distance_trees_to_lines = sum(\n",
    "        distance_tree_line[range(len(tree_to_line_assignment)), tree_to_line_assignment]\n",
    "    )\n",
    "\n",
    "    # compute the productivity cost\n",
    "    productivity_cost_overall = np.sum(\n",
    "        lscp_model_list[0].productivity_cost[\n",
    "            range(len(tree_to_line_assignment)), tree_to_line_assignment\n",
    "        ]\n",
    "    )\n",
    "\n",
    "    line_cost = sum(rot_line_gdf[\"line_cost\"])\n",
    "    return [\n",
    "        distance_trees_to_lines,\n",
    "        productivity_cost_overall,\n",
    "        line_cost,\n",
    "        3591541 - productivity_cost_overall,\n",
    "    ]\n",
    "\n",
    "\n",
    "# Put everything together in a VBox\n",
    "VBox((f, t, c))"
   ]
  }
 ],
 "metadata": {
  "kernelspec": {
   "display_name": "moo_env",
   "language": "python",
   "name": "python3"
  },
  "language_info": {
   "codemirror_mode": {
    "name": "ipython",
    "version": 3
   },
   "file_extension": ".py",
   "mimetype": "text/x-python",
   "name": "python",
   "nbconvert_exporter": "python",
   "pygments_lexer": "ipython3",
   "version": "3.10.12"
  },
  "orig_nbformat": 4
 },
 "nbformat": 4,
 "nbformat_minor": 2
}
