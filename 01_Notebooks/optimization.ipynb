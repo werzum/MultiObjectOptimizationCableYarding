{
 "cells": [
  {
   "cell_type": "markdown",
   "metadata": {},
   "source": [
    "**Table of contents**<a id='toc0_'></a>\n",
    "\n",
    "- [Setting up data and imports](#toc1_1_1_1_1_)\n",
    "  - [Optimization Setup](#toc1_1_1_2_)\n",
    "  - [SpOPT](#toc1_1_1_3_)\n",
    "  - [PyMOO Testing](#toc1_1_1_4_)\n",
    "\n",
    "<!-- vscode-jupyter-toc-config\n",
    "\tnumbering=false\n",
    "\tanchor=true\n",
    "\tflat=false\n",
    "\tminLevel=1\n",
    "\tmaxLevel=6\n",
    "\t/vscode-jupyter-toc-config -->\n",
    "<!-- THIS CELL WILL BE REPLACED ON TOC UPDATE. DO NOT WRITE YOUR TEXT IN THIS CELL -->\n"
   ]
  },
  {
   "cell_type": "markdown",
   "metadata": {},
   "source": [
    "##### <a id='toc1_1_1_1_1_'></a>[Setting up data and imports](#toc0_)\n"
   ]
  },
  {
   "cell_type": "code",
   "execution_count": 3,
   "metadata": {},
   "outputs": [],
   "source": [
    "import numpy as np\n",
    "from importlib import reload\n",
    "\n",
    "# Importing my modules\n",
    "from src.main import (\n",
    "    classes,\n",
    "    geometry_operations,\n",
    "    optimization_functions,\n",
    "    plotting_2d,\n",
    "    plotting_3d,\n",
    ")"
   ]
  },
  {
   "cell_type": "code",
   "execution_count": 4,
   "metadata": {},
   "outputs": [],
   "source": [
    "# %store -r line_gdf_reworked\n",
    "%store -r line_gdf_75\n",
    "%store -r harvesteable_trees_gdf\n",
    "%store -r height_gdf\n",
    "%store -r anchor_trees_gdf\n",
    "%store -r target_trees_gdf\n",
    "%store -r line_gdf_v1\n",
    "%store -r slope_line\n",
    "\n",
    "line_gdf = line_gdf_v1.copy()\n",
    "# hack to extract this from the line_gdf\n",
    "start_point_dict = dict(\n",
    "    [(key, value.coords[0]) for key, value in enumerate(line_gdf[\"line_candidates\"])]\n",
    ")"
   ]
  },
  {
   "cell_type": "markdown",
   "metadata": {},
   "source": [
    "#### <a id='toc1_1_1_2_'></a>[Optimization Setup](#toc0_)\n"
   ]
  },
  {
   "cell_type": "code",
   "execution_count": 23,
   "metadata": {},
   "outputs": [],
   "source": [
    "bhd_series = harvesteable_trees_gdf[\"BHD\"]\n",
    "height_series = harvesteable_trees_gdf[\"h\"].replace(\",\", \".\", regex=True).astype(float)\n",
    "\n",
    "# Prepare the gdfs\n",
    "uphill_yarding = False\n",
    "line_gdf[\"line_cost\"] = optimization_functions.compute_line_costs(\n",
    "    line_gdf, uphill_yarding, large_yarder=True\n",
    ")\n",
    "harvesteable_trees_gdf[\"cubic_volume\"] = optimization_functions.compute_tree_volume(\n",
    "    bhd_series, height_series\n",
    ")"
   ]
  },
  {
   "cell_type": "markdown",
   "metadata": {},
   "source": [
    "#### <a id='toc1_1_1_3_'></a>[SpOPT](#toc0_)\n"
   ]
  },
  {
   "cell_type": "code",
   "execution_count": 96,
   "metadata": {},
   "outputs": [
    {
     "name": "stdout",
     "output_type": "stream",
     "text": [
      "Starting with objective 0\n",
      "Starting with objective 1\n",
      "Starting with objective 2\n"
     ]
    }
   ],
   "source": [
    "reload(optimization_functions)\n",
    "reload(classes)\n",
    "# Lists to store the results\n",
    "optimization_result_list = []\n",
    "lscp_model_list = []\n",
    "\n",
    "for i in range(0, 3):\n",
    "    print(f\"Starting with objective {i}\")\n",
    "    # set up the model with firs the monetary objective (0), then sideways slope (1) and steep segments (2) as single objective\n",
    "    lscp_optimization = classes.optimization_model(\n",
    "        \"Single Objective\",\n",
    "        line_gdf,\n",
    "        harvesteable_trees_gdf,\n",
    "        height_gdf,\n",
    "        slope_line,\n",
    "        objective_to_select=i,\n",
    "    )\n",
    "    lscp_optimization.add_generic_vars_and_constraints()\n",
    "    lscp_optimization.add_single_objective()\n",
    "    # and solve it\n",
    "    lscp_optimization.solve()\n",
    "    lscp_model_list.append(lscp_optimization)"
   ]
  },
  {
   "cell_type": "code",
   "execution_count": 88,
   "metadata": {},
   "outputs": [
    {
     "name": "stderr",
     "output_type": "stream",
     "text": [
      "/home/carlo/GitHub/MultiObjectOptimizationCableYarding/moo_env/lib/python3.10/site-packages/geopandas/geodataframe.py:1456: SettingWithCopyWarning:\n",
      "\n",
      "\n",
      "A value is trying to be set on a copy of a slice from a DataFrame.\n",
      "Try using .loc[row_indexer,col_indexer] = value instead\n",
      "\n",
      "See the caveats in the documentation: https://pandas.pydata.org/pandas-docs/stable/user_guide/indexing.html#returning-a-view-versus-a-copy\n",
      "\n",
      "/home/carlo/GitHub/MultiObjectOptimizationCableYarding/moo_env/lib/python3.10/site-packages/geopandas/geodataframe.py:1456: SettingWithCopyWarning:\n",
      "\n",
      "\n",
      "A value is trying to be set on a copy of a slice from a DataFrame.\n",
      "Try using .loc[row_indexer,col_indexer] = value instead\n",
      "\n",
      "See the caveats in the documentation: https://pandas.pydata.org/pandas-docs/stable/user_guide/indexing.html#returning-a-view-versus-a-copy\n",
      "\n",
      "/home/carlo/GitHub/MultiObjectOptimizationCableYarding/moo_env/lib/python3.10/site-packages/geopandas/geodataframe.py:1456: SettingWithCopyWarning:\n",
      "\n",
      "\n",
      "A value is trying to be set on a copy of a slice from a DataFrame.\n",
      "Try using .loc[row_indexer,col_indexer] = value instead\n",
      "\n",
      "See the caveats in the documentation: https://pandas.pydata.org/pandas-docs/stable/user_guide/indexing.html#returning-a-view-versus-a-copy\n",
      "\n"
     ]
    }
   ],
   "source": [
    "for count, optimization_object in enumerate(lscp_model_list):\n",
    "    optimization_result_list.append(\n",
    "        classes.optimization_result(\n",
    "            optimization_object,\n",
    "            line_gdf,\n",
    "            0,\n",
    "            False,\n",
    "            optimization_object.name + str(count),\n",
    "        )\n",
    "    )"
   ]
  },
  {
   "cell_type": "code",
   "execution_count": 135,
   "metadata": {},
   "outputs": [
    {
     "name": "stdout",
     "output_type": "stream",
     "text": [
      "Cable road created from line:  (-15.12792573, -26.16056076) to  (-29.880646898378075, -8.757599103801436)\n"
     ]
    },
    {
     "ename": "AttributeError",
     "evalue": "'Support' object has no attribute 'xy_location_numpy'",
     "output_type": "error",
     "traceback": [
      "\u001b[0;31m---------------------------------------------------------------------------\u001b[0m",
      "\u001b[0;31mAttributeError\u001b[0m                            Traceback (most recent call last)",
      "Cell \u001b[0;32mIn[135], line 3\u001b[0m\n\u001b[1;32m      1\u001b[0m \u001b[39mfrom\u001b[39;00m \u001b[39msrc\u001b[39;00m\u001b[39m.\u001b[39;00m\u001b[39mmain\u001b[39;00m \u001b[39mimport\u001b[39;00m global_vars\n\u001b[1;32m      2\u001b[0m kdtree \u001b[39m=\u001b[39m global_vars\u001b[39m.\u001b[39minit(height_gdf)\n\u001b[0;32m----> 3\u001b[0m fig \u001b[39m=\u001b[39m plotting\u001b[39m.\u001b[39;49mplot_3d_model_results(model_list[\u001b[39m1\u001b[39;49m]\u001b[39m.\u001b[39;49mmodel, line_gdf, height_gdf)\n\u001b[1;32m      4\u001b[0m fig\u001b[39m.\u001b[39mshow(\u001b[39m\"\u001b[39m\u001b[39mnotebook_connected\u001b[39m\u001b[39m\"\u001b[39m)\n",
      "File \u001b[0;32m~/GitHub/MultiObjectOptimizationCableYarding/src/main/plotting.py:782\u001b[0m, in \u001b[0;36mplot_3d_model_results\u001b[0;34m(model, line_gdf, height_gdf)\u001b[0m\n\u001b[1;32m    780\u001b[0m \u001b[39mdef\u001b[39;00m \u001b[39mplot_3d_model_results\u001b[39m(model: PMedian, line_gdf, height_gdf) \u001b[39m-\u001b[39m\u001b[39m>\u001b[39m go\u001b[39m.\u001b[39mFigure:\n\u001b[1;32m    781\u001b[0m     line_gdf, cable_road_objects \u001b[39m=\u001b[39m helper_functions\u001b[39m.\u001b[39mmodel_to_line_gdf(model, line_gdf)\n\u001b[0;32m--> 782\u001b[0m     fig \u001b[39m=\u001b[39m plot_all_cable_roads(height_gdf, line_gdf)\n\u001b[1;32m    783\u001b[0m     \u001b[39mreturn\u001b[39;00m fig\n",
      "File \u001b[0;32m~/GitHub/MultiObjectOptimizationCableYarding/src/main/plotting.py:765\u001b[0m, in \u001b[0;36mplot_all_cable_roads\u001b[0;34m(height_gdf, line_gdf)\u001b[0m\n\u001b[1;32m    757\u001b[0m fig\u001b[39m.\u001b[39mupdate_layout(\n\u001b[1;32m    758\u001b[0m     margin\u001b[39m=\u001b[39m\u001b[39mdict\u001b[39m(l\u001b[39m=\u001b[39m\u001b[39m0\u001b[39m, r\u001b[39m=\u001b[39m\u001b[39m0\u001b[39m, b\u001b[39m=\u001b[39m\u001b[39m0\u001b[39m, t\u001b[39m=\u001b[39m\u001b[39m0\u001b[39m),\n\u001b[1;32m    759\u001b[0m     width\u001b[39m=\u001b[39m\u001b[39m1000\u001b[39m,\n\u001b[1;32m    760\u001b[0m     height\u001b[39m=\u001b[39m\u001b[39m800\u001b[39m,\n\u001b[1;32m    761\u001b[0m     title\u001b[39m=\u001b[39m\u001b[39m\"\u001b[39m\u001b[39mRelief Map with possible Cable Roads\u001b[39m\u001b[39m\"\u001b[39m,\n\u001b[1;32m    762\u001b[0m )\n\u001b[1;32m    764\u001b[0m \u001b[39mfor\u001b[39;00m index, row \u001b[39min\u001b[39;00m line_gdf\u001b[39m.\u001b[39miterrows():\n\u001b[0;32m--> 765\u001b[0m     plot_cr_relief(\n\u001b[1;32m    766\u001b[0m         row[\u001b[39m\"\u001b[39;49m\u001b[39mCable Road Object\u001b[39;49m\u001b[39m\"\u001b[39;49m],\n\u001b[1;32m    767\u001b[0m         line_gdf,\n\u001b[1;32m    768\u001b[0m         height_gdf,\n\u001b[1;32m    769\u001b[0m         index,\n\u001b[1;32m    770\u001b[0m         fig,\n\u001b[1;32m    771\u001b[0m         show_straight_line\u001b[39m=\u001b[39;49m\u001b[39mFalse\u001b[39;49;00m,\n\u001b[1;32m    772\u001b[0m     )\n\u001b[1;32m    774\u001b[0m \u001b[39mreturn\u001b[39;00m fig\n",
      "File \u001b[0;32m~/GitHub/MultiObjectOptimizationCableYarding/src/main/plotting.py:520\u001b[0m, in \u001b[0;36mplot_cr_relief\u001b[0;34m(sample_cable_road, line_gdf, height_gdf, index, passed_fig, show_straight_line)\u001b[0m\n\u001b[1;32m    510\u001b[0m \u001b[39m\u001b[39m\u001b[39m\"\"\"Plot the relief of a single cable road with a scatterplot of relief, line and floor points. Refers the plot to the type of cable road (supported or unsupported)\u001b[39;00m\n\u001b[1;32m    511\u001b[0m \n\u001b[1;32m    512\u001b[0m \u001b[39mArgs:\u001b[39;00m\n\u001b[0;32m   (...)\u001b[0m\n\u001b[1;32m    516\u001b[0m \u001b[39m    index (int): the index of the dataframe to extract more data\u001b[39;00m\n\u001b[1;32m    517\u001b[0m \u001b[39m\"\"\"\u001b[39;00m\n\u001b[1;32m    519\u001b[0m \u001b[39mif\u001b[39;00m sample_cable_road\u001b[39m.\u001b[39msupported_segments:\n\u001b[0;32m--> 520\u001b[0m     plot_supported_cr_relief(\n\u001b[1;32m    521\u001b[0m         sample_cable_road,\n\u001b[1;32m    522\u001b[0m         line_gdf,\n\u001b[1;32m    523\u001b[0m         height_gdf,\n\u001b[1;32m    524\u001b[0m         index,\n\u001b[1;32m    525\u001b[0m         passed_fig,\n\u001b[1;32m    526\u001b[0m         show_straight_line\u001b[39m=\u001b[39;49mshow_straight_line,\n\u001b[1;32m    527\u001b[0m     )\n\u001b[1;32m    528\u001b[0m \u001b[39melse\u001b[39;00m:\n\u001b[1;32m    529\u001b[0m     plot_unsupported_cr_relief(\n\u001b[1;32m    530\u001b[0m         sample_cable_road,\n\u001b[1;32m    531\u001b[0m         line_gdf,\n\u001b[0;32m   (...)\u001b[0m\n\u001b[1;32m    535\u001b[0m         show_straight_line\u001b[39m=\u001b[39mshow_straight_line,\n\u001b[1;32m    536\u001b[0m     )\n",
      "File \u001b[0;32m~/GitHub/MultiObjectOptimizationCableYarding/src/main/plotting.py:594\u001b[0m, in \u001b[0;36mplot_supported_cr_relief\u001b[0;34m(sample_cable_road, line_gdf, height_gdf, index, passed_fig, show_straight_line)\u001b[0m\n\u001b[1;32m    591\u001b[0m fig \u001b[39m=\u001b[39m go\u001b[39m.\u001b[39mFigure() \u001b[39mif\u001b[39;00m passed_fig \u001b[39mis\u001b[39;00m \u001b[39mNone\u001b[39;00m \u001b[39melse\u001b[39;00m passed_fig\n\u001b[1;32m    593\u001b[0m add_relief_to_go_figure(sample_cable_road, fig)\n\u001b[0;32m--> 594\u001b[0m add_all_anchors_to_go_figure(sample_cable_road, line_gdf, height_gdf, index, fig)\n\u001b[1;32m    596\u001b[0m \u001b[39m# TODO - iterate over the segments\u001b[39;00m\n\u001b[1;32m    597\u001b[0m \u001b[39m# cable_road_segments = helper_functions.create_cable_road_segments(\u001b[39;00m\n\u001b[1;32m    598\u001b[0m \u001b[39m#     line_gdf, height_gdf, index\u001b[39;00m\n\u001b[1;32m    599\u001b[0m \u001b[39m# )\u001b[39;00m\n\u001b[1;32m    600\u001b[0m \n\u001b[1;32m    601\u001b[0m \u001b[39m# for all individual road segments\u001b[39;00m\n\u001b[1;32m    602\u001b[0m \u001b[39mfor\u001b[39;00m segment \u001b[39min\u001b[39;00m sample_cable_road\u001b[39m.\u001b[39msupported_segments:\n",
      "File \u001b[0;32m~/GitHub/MultiObjectOptimizationCableYarding/src/main/plotting.py:664\u001b[0m, in \u001b[0;36madd_all_anchors_to_go_figure\u001b[0;34m(sample_cable_road, line_gdf, height_gdf, index, fig)\u001b[0m\n\u001b[1;32m    655\u001b[0m anchor_line \u001b[39m=\u001b[39m LineString(\n\u001b[1;32m    656\u001b[0m     [anchor_point, sample_cable_road\u001b[39m.\u001b[39mstart_support\u001b[39m.\u001b[39mxy_location]\n\u001b[1;32m    657\u001b[0m )\n\u001b[1;32m    658\u001b[0m anchor_support \u001b[39m=\u001b[39m classes\u001b[39m.\u001b[39mSupport(\n\u001b[1;32m    659\u001b[0m     sample_cable_road\u001b[39m.\u001b[39mstart_support\u001b[39m.\u001b[39mtotal_height,\n\u001b[1;32m    660\u001b[0m     anchor_point,\n\u001b[1;32m    661\u001b[0m     height_gdf,\n\u001b[1;32m    662\u001b[0m     \u001b[39m80000\u001b[39m,\n\u001b[1;32m    663\u001b[0m )\n\u001b[0;32m--> 664\u001b[0m anchor_cable_road \u001b[39m=\u001b[39m classes\u001b[39m.\u001b[39;49mCable_Road(\n\u001b[1;32m    665\u001b[0m     anchor_line,\n\u001b[1;32m    666\u001b[0m     height_gdf,\n\u001b[1;32m    667\u001b[0m     sample_cable_road\u001b[39m.\u001b[39;49mstart_support,\n\u001b[1;32m    668\u001b[0m     anchor_support,\n\u001b[1;32m    669\u001b[0m     pre_tension\u001b[39m=\u001b[39;49msample_cable_road\u001b[39m.\u001b[39;49ms_current_tension,\n\u001b[1;32m    670\u001b[0m )\n\u001b[1;32m    672\u001b[0m x_anchor_cr, y_anchor_cr, z_line_to_floor \u001b[39m=\u001b[39m get_x_y_z_points(anchor_cable_road)\n\u001b[1;32m    674\u001b[0m fig\u001b[39m.\u001b[39madd_trace(\n\u001b[1;32m    675\u001b[0m     go\u001b[39m.\u001b[39mScatter3d(\n\u001b[1;32m    676\u001b[0m         x\u001b[39m=\u001b[39mx_anchor_cr,\n\u001b[0;32m   (...)\u001b[0m\n\u001b[1;32m    682\u001b[0m     )\n\u001b[1;32m    683\u001b[0m )\n",
      "File \u001b[0;32m~/GitHub/MultiObjectOptimizationCableYarding/src/main/classes.py:185\u001b[0m, in \u001b[0;36mCable_Road.__init__\u001b[0;34m(self, line, height_gdf, start_support, end_support, pre_tension, number_sub_segments)\u001b[0m\n\u001b[1;32m    177\u001b[0m \u001b[39mself\u001b[39m\u001b[39m.\u001b[39mb_length_whole_section \u001b[39m=\u001b[39m \u001b[39mself\u001b[39m\u001b[39m.\u001b[39mstart_support\u001b[39m.\u001b[39mxy_location\u001b[39m.\u001b[39mdistance(\n\u001b[1;32m    178\u001b[0m     \u001b[39mself\u001b[39m\u001b[39m.\u001b[39mend_support\u001b[39m.\u001b[39mxy_location\n\u001b[1;32m    179\u001b[0m )\n\u001b[1;32m    181\u001b[0m \u001b[39mself\u001b[39m\u001b[39m.\u001b[39mc_rope_length \u001b[39m=\u001b[39m \u001b[39mself\u001b[39m\u001b[39m.\u001b[39mstart_support\u001b[39m.\u001b[39mxyz_location\u001b[39m.\u001b[39mdistance(\n\u001b[1;32m    182\u001b[0m     \u001b[39mself\u001b[39m\u001b[39m.\u001b[39mend_support\u001b[39m.\u001b[39mxyz_location\n\u001b[1;32m    183\u001b[0m )\n\u001b[0;32m--> 185\u001b[0m \u001b[39mself\u001b[39;49m\u001b[39m.\u001b[39;49minitialize_line_tension(number_sub_segments, pre_tension)\n",
      "File \u001b[0;32m~/GitHub/MultiObjectOptimizationCableYarding/src/main/classes.py:300\u001b[0m, in \u001b[0;36mCable_Road.initialize_line_tension\u001b[0;34m(self, current_supports, pre_tension)\u001b[0m\n\u001b[1;32m    298\u001b[0m \u001b[39mself\u001b[39m\u001b[39m.\u001b[39ms_max_maximalspannkraft \u001b[39m=\u001b[39m s_br_mindestbruchlast \u001b[39m/\u001b[39m \u001b[39m2\u001b[39m\n\u001b[1;32m    299\u001b[0m \u001b[39mif\u001b[39;00m pre_tension:\n\u001b[0;32m--> 300\u001b[0m     \u001b[39mself\u001b[39;49m\u001b[39m.\u001b[39;49ms_current_tension \u001b[39m=\u001b[39m pre_tension\n\u001b[1;32m    301\u001b[0m \u001b[39melse\u001b[39;00m:\n\u001b[1;32m    302\u001b[0m     \u001b[39mself\u001b[39m\u001b[39m.\u001b[39ms_current_tension \u001b[39m=\u001b[39m \u001b[39mself\u001b[39m\u001b[39m.\u001b[39ms_max_maximalspannkraft\n",
      "File \u001b[0;32m~/GitHub/MultiObjectOptimizationCableYarding/src/main/classes.py:228\u001b[0m, in \u001b[0;36mCable_Road.s_current_tension\u001b[0;34m(self, value)\u001b[0m\n\u001b[1;32m    225\u001b[0m \u001b[39m@s_current_tension\u001b[39m\u001b[39m.\u001b[39msetter\n\u001b[1;32m    226\u001b[0m \u001b[39mdef\u001b[39;00m \u001b[39ms_current_tension\u001b[39m(\u001b[39mself\u001b[39m, value):\n\u001b[1;32m    227\u001b[0m     \u001b[39mself\u001b[39m\u001b[39m.\u001b[39m_s_current_tension \u001b[39m=\u001b[39m value\n\u001b[0;32m--> 228\u001b[0m     \u001b[39mself\u001b[39;49m\u001b[39m.\u001b[39;49mcompute_loaded_unloaded_line_height()\n\u001b[1;32m    230\u001b[0m     \u001b[39m# also for the sub-CRs\u001b[39;00m\n\u001b[1;32m    231\u001b[0m     \u001b[39mif\u001b[39;00m \u001b[39mself\u001b[39m\u001b[39m.\u001b[39msupported_segments:\n",
      "File \u001b[0;32m~/GitHub/MultiObjectOptimizationCableYarding/src/main/classes.py:275\u001b[0m, in \u001b[0;36mCable_Road.compute_loaded_unloaded_line_height\u001b[0;34m(self)\u001b[0m\n\u001b[1;32m    273\u001b[0m \u001b[39mdef\u001b[39;00m \u001b[39mcompute_loaded_unloaded_line_height\u001b[39m(\u001b[39mself\u001b[39m):\n\u001b[1;32m    274\u001b[0m \u001b[39m    \u001b[39m\u001b[39m\"\"\"compute the loaded and unloaded line to floor distances\"\"\"\u001b[39;00m\n\u001b[0;32m--> 275\u001b[0m     \u001b[39mself\u001b[39;49m\u001b[39m.\u001b[39;49mcalculate_cr_deflections(loaded\u001b[39m=\u001b[39;49m\u001b[39mTrue\u001b[39;49;00m)\n\u001b[1;32m    276\u001b[0m     \u001b[39mself\u001b[39m\u001b[39m.\u001b[39mcalculate_cr_deflections(loaded\u001b[39m=\u001b[39m\u001b[39mFalse\u001b[39;00m)\n",
      "File \u001b[0;32m~/GitHub/MultiObjectOptimizationCableYarding/src/main/classes.py:284\u001b[0m, in \u001b[0;36mCable_Road.calculate_cr_deflections\u001b[0;34m(self, loaded)\u001b[0m\n\u001b[1;32m    278\u001b[0m \u001b[39mdef\u001b[39;00m \u001b[39mcalculate_cr_deflections\u001b[39m(\u001b[39mself\u001b[39m, loaded: \u001b[39mbool\u001b[39m \u001b[39m=\u001b[39m \u001b[39mTrue\u001b[39;00m):\n\u001b[1;32m    279\u001b[0m \u001b[39m    \u001b[39m\u001b[39m\"\"\"calculate the deflections of the CR line due to the load, either loaded or unlaoded\u001b[39;00m\n\u001b[1;32m    280\u001b[0m \u001b[39m    Args:\u001b[39;00m\n\u001b[1;32m    281\u001b[0m \u001b[39m        loaded (bool, optional): whether the line is loaded or not. Defaults to True.\u001b[39;00m\n\u001b[1;32m    282\u001b[0m \u001b[39m    \"\"\"\u001b[39;00m\n\u001b[0;32m--> 284\u001b[0m     y_x_deflections \u001b[39m=\u001b[39m mechanical_computations\u001b[39m.\u001b[39;49mpestal_load_path(\u001b[39mself\u001b[39;49m, loaded)\n\u001b[1;32m    286\u001b[0m     \u001b[39mif\u001b[39;00m loaded:\n\u001b[1;32m    287\u001b[0m         \u001b[39mself\u001b[39m\u001b[39m.\u001b[39msloped_line_to_floor_distances \u001b[39m=\u001b[39m (\n\u001b[1;32m    288\u001b[0m             \u001b[39mself\u001b[39m\u001b[39m.\u001b[39mline_to_floor_distances \u001b[39m-\u001b[39m y_x_deflections\n\u001b[1;32m    289\u001b[0m         )\n",
      "File \u001b[0;32m~/GitHub/MultiObjectOptimizationCableYarding/src/main/mechanical_computations.py:618\u001b[0m, in \u001b[0;36mpestal_load_path\u001b[0;34m(cable_road, loaded)\u001b[0m\n\u001b[1;32m    609\u001b[0m T_bar_tensile_force_at_center_span \u001b[39m=\u001b[39m T_0_basic_tensile_force \u001b[39m+\u001b[39m q_s_rope_weight \u001b[39m*\u001b[39m (\n\u001b[1;32m    610\u001b[0m     (h_height_difference \u001b[39m/\u001b[39m \u001b[39m2\u001b[39m)\n\u001b[1;32m    611\u001b[0m )\n\u001b[1;32m    613\u001b[0m H_t_horizontal_force_tragseil \u001b[39m=\u001b[39m T_bar_tensile_force_at_center_span \u001b[39m*\u001b[39m (\n\u001b[1;32m    614\u001b[0m     cable_road\u001b[39m.\u001b[39mb_length_whole_section \u001b[39m/\u001b[39m cable_road\u001b[39m.\u001b[39mc_rope_length\n\u001b[1;32m    615\u001b[0m )  \u001b[39m# improvised value - need to do the parallelverchiebung here\u001b[39;00m\n\u001b[1;32m    617\u001b[0m distances \u001b[39m=\u001b[39m geometry_utilities\u001b[39m.\u001b[39mdistance_between_points_from_origin(\n\u001b[0;32m--> 618\u001b[0m     cable_road\u001b[39m.\u001b[39mpoints_along_line_xy, cable_road\u001b[39m.\u001b[39;49mstart_support\u001b[39m.\u001b[39;49mxy_location_numpy\n\u001b[1;32m    619\u001b[0m )\n\u001b[1;32m    621\u001b[0m \u001b[39mreturn\u001b[39;00m (\n\u001b[1;32m    622\u001b[0m     (distances \u001b[39m*\u001b[39m (cable_road\u001b[39m.\u001b[39mb_length_whole_section \u001b[39m-\u001b[39m distances))\n\u001b[1;32m    623\u001b[0m     \u001b[39m/\u001b[39m (H_t_horizontal_force_tragseil \u001b[39m*\u001b[39m cable_road\u001b[39m.\u001b[39mb_length_whole_section)\n\u001b[1;32m    624\u001b[0m ) \u001b[39m*\u001b[39m (q_vertical_force \u001b[39m+\u001b[39m ((cable_road\u001b[39m.\u001b[39mc_rope_length \u001b[39m*\u001b[39m q_s_rope_weight) \u001b[39m/\u001b[39m \u001b[39m2\u001b[39m))\n",
      "\u001b[0;31mAttributeError\u001b[0m: 'Support' object has no attribute 'xy_location_numpy'"
     ]
    }
   ],
   "source": [
    "from src.main import global_vars\n",
    "\n",
    "kdtree = global_vars.init(height_gdf)\n",
    "fig = plotting_3d.plot_3d_model_results(model_list[1].model, line_gdf, height_gdf)\n",
    "fig.show(\"notebook_connected\")"
   ]
  },
  {
   "cell_type": "markdown",
   "metadata": {},
   "source": [
    "#### E-Constraint MOO\n"
   ]
  },
  {
   "cell_type": "code",
   "execution_count": 95,
   "metadata": {},
   "outputs": [
    {
     "name": "stderr",
     "output_type": "stream",
     "text": [
      "/home/carlo/GitHub/MultiObjectOptimizationCableYarding/moo_env/lib/python3.10/site-packages/geopandas/geodataframe.py:1456: SettingWithCopyWarning:\n",
      "\n",
      "\n",
      "A value is trying to be set on a copy of a slice from a DataFrame.\n",
      "Try using .loc[row_indexer,col_indexer] = value instead\n",
      "\n",
      "See the caveats in the documentation: https://pandas.pydata.org/pandas-docs/stable/user_guide/indexing.html#returning-a-view-versus-a-copy\n",
      "\n",
      "/home/carlo/GitHub/MultiObjectOptimizationCableYarding/moo_env/lib/python3.10/site-packages/geopandas/geodataframe.py:1456: SettingWithCopyWarning:\n",
      "\n",
      "\n",
      "A value is trying to be set on a copy of a slice from a DataFrame.\n",
      "Try using .loc[row_indexer,col_indexer] = value instead\n",
      "\n",
      "See the caveats in the documentation: https://pandas.pydata.org/pandas-docs/stable/user_guide/indexing.html#returning-a-view-versus-a-copy\n",
      "\n"
     ]
    }
   ],
   "source": [
    "epsilon_model_list = []\n",
    "for index in range(0, 2):\n",
    "    e_optimization = classes.single_objective_optimization_model(\n",
    "        \"name\", line_gdf, harvesteable_trees_gdf, height_gdf, slope_line, uphill_yarding\n",
    "    )\n",
    "    model = optimization_functions.optimize_cable_roads_epsilon_constraint(\n",
    "        e_optimization, index\n",
    "    )\n",
    "    epsilon_model_list.append(model)\n",
    "    optimization_result_list.append(\n",
    "        classes.optimization_result(\n",
    "            model, line_gdf, 0, False, \"e-Constraint \" + str(index)\n",
    "        )\n",
    "    )"
   ]
  },
  {
   "cell_type": "markdown",
   "metadata": {},
   "source": [
    "#### <a id='toc1_1_1_4_'></a>[PyMOO Testing](#toc0_)\n"
   ]
  },
  {
   "cell_type": "code",
   "execution_count": 96,
   "metadata": {},
   "outputs": [
    {
     "name": "stdout",
     "output_type": "stream",
     "text": [
      "==========================================================================================\n",
      "n_gen  |  n_eval  | n_nds  |     cv_min    |     cv_avg    |      eps      |   indicator  \n",
      "==========================================================================================\n",
      "     1 |        1 |      1 |  5.159484E+02 |  5.159484E+02 |             - |             -\n",
      "     2 |       51 |      7 |  0.000000E+00 |  0.000000E+00 |             - |             -\n",
      "     3 |      101 |     12 |  0.000000E+00 |  0.000000E+00 |  0.0269916010 |         ideal\n",
      "     4 |      151 |     13 |  0.000000E+00 |  0.000000E+00 |  0.0087122263 |         ideal\n",
      "     5 |      201 |     15 |  0.000000E+00 |  0.000000E+00 |  0.0036806771 |         ideal\n",
      "     6 |      251 |     15 |  0.000000E+00 |  0.000000E+00 |  0.0136701377 |             f\n",
      "     7 |      301 |     18 |  0.000000E+00 |  0.000000E+00 |  0.0208776548 |             f\n",
      "     8 |      351 |     16 |  0.000000E+00 |  0.000000E+00 |  0.0033320483 |         ideal\n",
      "     9 |      401 |     16 |  0.000000E+00 |  0.000000E+00 |  0.000000E+00 |             f\n",
      "    10 |      451 |     16 |  0.000000E+00 |  0.000000E+00 |  0.0056388342 |             f\n",
      "    11 |      501 |     16 |  0.000000E+00 |  0.000000E+00 |  0.0002477433 |             f\n",
      "    12 |      551 |     19 |  0.000000E+00 |  0.000000E+00 |  0.1365279720 |         nadir\n",
      "    13 |      601 |     21 |  0.000000E+00 |  0.000000E+00 |  0.0020421140 |             f\n",
      "    14 |      651 |     21 |  0.000000E+00 |  0.000000E+00 |  0.0020421140 |             f\n",
      "    15 |      701 |     20 |  0.000000E+00 |  0.000000E+00 |  0.0251942794 |         ideal\n",
      "    16 |      751 |     20 |  0.000000E+00 |  0.000000E+00 |  0.0017133481 |             f\n",
      "    17 |      801 |     20 |  0.000000E+00 |  0.000000E+00 |  0.0034067331 |             f\n",
      "    18 |      851 |     20 |  0.000000E+00 |  0.000000E+00 |  0.0063972777 |             f\n",
      "    19 |      901 |     21 |  0.000000E+00 |  0.000000E+00 |  0.0005301574 |             f\n",
      "    20 |      951 |     23 |  0.000000E+00 |  0.000000E+00 |  0.0013724178 |             f\n"
     ]
    }
   ],
   "source": [
    "from src.main import moo_optimization_functions\n",
    "from pymoo.algorithms.moo.nsga2 import NSGA2\n",
    "from pymoo.operators.sampling.rnd import IntegerRandomSampling\n",
    "from pymoo.termination import get_termination\n",
    "from pymoo.optimize import minimize\n",
    "\n",
    "reload(moo_optimization_functions)\n",
    "\n",
    "cost_matrix = lscp_model_list[0].aij\n",
    "nsga_problem = moo_optimization_functions.SupportLinesProblem(\n",
    "    cost_matrix, lscp_model_list[0].facility_cost\n",
    ")\n",
    "termination = get_termination(\"n_gen\", 20)\n",
    "\n",
    "reload(optimization_functions)\n",
    "\n",
    "client_range = cost_matrix.shape[0]\n",
    "facility_range = cost_matrix.shape[1]\n",
    "\n",
    "algorithm = NSGA2(\n",
    "    pop_size=50,\n",
    "    sampling=moo_optimization_functions.CustomSampling(),  # initally zero matrix, nothing assigned\n",
    "    mutation=moo_optimization_functions.MyMutation(),\n",
    "    repair=moo_optimization_functions.MyRepair(),\n",
    ")\n",
    "\n",
    "# %prun minimize(problem,algorithm,termination,verbose=True,return_least_infeasible=True,seed=0)\n",
    "res = minimize(\n",
    "    nsga_problem,\n",
    "    algorithm,\n",
    "    termination,\n",
    "    verbose=True,\n",
    "    return_least_infeasible=True,\n",
    "    seed=0,\n",
    ")\n",
    "\n",
    "X = res.X\n",
    "F = res.F"
   ]
  },
  {
   "cell_type": "code",
   "execution_count": 97,
   "metadata": {},
   "outputs": [
    {
     "name": "stderr",
     "output_type": "stream",
     "text": [
      "/home/carlo/GitHub/MultiObjectOptimizationCableYarding/moo_env/lib/python3.10/site-packages/geopandas/geodataframe.py:1456: SettingWithCopyWarning:\n",
      "\n",
      "\n",
      "A value is trying to be set on a copy of a slice from a DataFrame.\n",
      "Try using .loc[row_indexer,col_indexer] = value instead\n",
      "\n",
      "See the caveats in the documentation: https://pandas.pydata.org/pandas-docs/stable/user_guide/indexing.html#returning-a-view-versus-a-copy\n",
      "\n",
      "/home/carlo/GitHub/MultiObjectOptimizationCableYarding/moo_env/lib/python3.10/site-packages/geopandas/geodataframe.py:1456: SettingWithCopyWarning:\n",
      "\n",
      "\n",
      "A value is trying to be set on a copy of a slice from a DataFrame.\n",
      "Try using .loc[row_indexer,col_indexer] = value instead\n",
      "\n",
      "See the caveats in the documentation: https://pandas.pydata.org/pandas-docs/stable/user_guide/indexing.html#returning-a-view-versus-a-copy\n",
      "\n",
      "/home/carlo/GitHub/MultiObjectOptimizationCableYarding/moo_env/lib/python3.10/site-packages/geopandas/geodataframe.py:1456: SettingWithCopyWarning:\n",
      "\n",
      "\n",
      "A value is trying to be set on a copy of a slice from a DataFrame.\n",
      "Try using .loc[row_indexer,col_indexer] = value instead\n",
      "\n",
      "See the caveats in the documentation: https://pandas.pydata.org/pandas-docs/stable/user_guide/indexing.html#returning-a-view-versus-a-copy\n",
      "\n",
      "/home/carlo/GitHub/MultiObjectOptimizationCableYarding/moo_env/lib/python3.10/site-packages/geopandas/geodataframe.py:1456: SettingWithCopyWarning:\n",
      "\n",
      "\n",
      "A value is trying to be set on a copy of a slice from a DataFrame.\n",
      "Try using .loc[row_indexer,col_indexer] = value instead\n",
      "\n",
      "See the caveats in the documentation: https://pandas.pydata.org/pandas-docs/stable/user_guide/indexing.html#returning-a-view-versus-a-copy\n",
      "\n"
     ]
    }
   ],
   "source": [
    "len_x = len(res.X)\n",
    "samples = 4\n",
    "for i in np.linspace(0, len_x - 1, samples).astype(int):\n",
    "    optimization_result_list.append(\n",
    "        classes.optimization_result(res, line_gdf, i, False, \"NSGA2 \" + str(i))\n",
    "    )"
   ]
  },
  {
   "cell_type": "code",
   "execution_count": 98,
   "metadata": {},
   "outputs": [
    {
     "data": {
      "image/png": "[encoded data removed]",
      "text/plain": [
       "<Figure size 700x500 with 1 Axes>"
      ]
     },
     "metadata": {},
     "output_type": "display_data"
    },
    {
     "data": {
      "image/png": "[encoded data removed]",
      "text/plain": [
       "<Figure size 700x500 with 1 Axes>"
      ]
     },
     "metadata": {},
     "output_type": "display_data"
    }
   ],
   "source": [
    "plotting_2d.plot_NSGA_results(X, F, nsga_problem)"
   ]
  },
  {
   "cell_type": "code",
   "execution_count": null,
   "metadata": {},
   "outputs": [
    {
     "data": {
      "application/vnd.jupyter.widget-view+json": {
       "model_id": "a09fee46de9e46449a546ee30cf9beef",
       "version_major": 2,
       "version_minor": 0
      },
      "text/plain": [
       "interactive(children=(FloatSlider(value=1.0, description='i', max=51.0, min=1.0, step=1.0), Output()), _dom_cl…"
      ]
     },
     "metadata": {},
     "output_type": "display_data"
    },
    {
     "data": {
      "text/plain": [
       "<function __main__.plot_explain(i)>"
      ]
     },
     "metadata": {},
     "output_type": "display_data"
    }
   ],
   "source": [
    "from ipywidgets import interact, interactive, fixed, interact_manual\n",
    "import ipywidgets as widgets\n",
    "import matplotlib.pyplot as plt\n",
    "import seaborn as sns\n",
    "\n",
    "sns.set(rc={'figure.figsize':(8,5)})\n",
    "\n",
    "# for x_sol in range(0,X.shape[0],4):\n",
    "#     plotting.plot_pymoo_results(X[x_sol], facility_points_gdf, demand_points_gdf, anchor_trees_gdf_filtered_diameter, target_trees_gdf_filtered_diameter, line_gdf)\n",
    "\n",
    "def plot_explain(i):\n",
    "    plotting_2d.plot_pymoo_results(X[int(i)], facility_points_gdf, demand_points_gdf, anchor_trees_gdf_filtered_diameter, target_trees_gdf_filtered_diameter, line_gdf)\n",
    "\n",
    "%matplotlib inline\n",
    "\n",
    "import numpy as np\n",
    "\n",
    "interact(plot_explain, i = widgets.FloatSlider(value=1, min=1, max=X.shape[0], step=1))"
   ]
  },
  {
   "cell_type": "code",
   "execution_count": 53,
   "metadata": {},
   "outputs": [],
   "source": [
    "a = sample_model.productivity_cost"
   ]
  },
  {
   "cell_type": "markdown",
   "metadata": {},
   "source": [
    "#### Comparison of Optimization Results\n"
   ]
  },
  {
   "cell_type": "code",
   "execution_count": 89,
   "metadata": {},
   "outputs": [
    {
     "name": "stdout",
     "output_type": "stream",
     "text": [
      "Profit baseline is 51853.884670017214\n"
     ]
    },
    {
     "data": {
      "text/html": [
       "<div>\n",
       "<style scoped>\n",
       "    .dataframe tbody tr th:only-of-type {\n",
       "        vertical-align: middle;\n",
       "    }\n",
       "\n",
       "    .dataframe tbody tr th {\n",
       "        vertical-align: top;\n",
       "    }\n",
       "\n",
       "    .dataframe thead th {\n",
       "        text-align: right;\n",
       "    }\n",
       "</style>\n",
       "<table border=\"1\" class=\"dataframe\">\n",
       "  <thead>\n",
       "    <tr style=\"text-align: right;\">\n",
       "      <th></th>\n",
       "      <th>Total distance of trees to cable roads</th>\n",
       "      <th>Productivity cost per m3 as per Stampfer</th>\n",
       "      <th>Total distance from carriage to support</th>\n",
       "      <th>overall_profit</th>\n",
       "      <th>cable_road_costs</th>\n",
       "      <th>profit_comparison</th>\n",
       "      <th>name</th>\n",
       "      <th>sideways_slope_deviations</th>\n",
       "      <th>steep_downhill_segments</th>\n",
       "    </tr>\n",
       "  </thead>\n",
       "  <tbody>\n",
       "    <tr>\n",
       "      <th>0</th>\n",
       "      <td>5450.915246</td>\n",
       "      <td>3334.885922</td>\n",
       "      <td>44441.141853</td>\n",
       "      <td>63025.435582</td>\n",
       "      <td>2001.318079</td>\n",
       "      <td>11171.550912</td>\n",
       "      <td>model0</td>\n",
       "      <td>384.964595</td>\n",
       "      <td>326.744007</td>\n",
       "    </tr>\n",
       "    <tr>\n",
       "      <th>1</th>\n",
       "      <td>20988.993467</td>\n",
       "      <td>14506.436834</td>\n",
       "      <td>39476.012292</td>\n",
       "      <td>51853.884670</td>\n",
       "      <td>759.655202</td>\n",
       "      <td>0.000000</td>\n",
       "      <td>model1</td>\n",
       "      <td>114.831001</td>\n",
       "      <td>114.831001</td>\n",
       "    </tr>\n",
       "    <tr>\n",
       "      <th>2</th>\n",
       "      <td>19413.397043</td>\n",
       "      <td>12948.895542</td>\n",
       "      <td>40894.567152</td>\n",
       "      <td>53411.425962</td>\n",
       "      <td>575.692242</td>\n",
       "      <td>1557.541292</td>\n",
       "      <td>model2</td>\n",
       "      <td>134.391515</td>\n",
       "      <td>58.379281</td>\n",
       "    </tr>\n",
       "  </tbody>\n",
       "</table>\n",
       "</div>"
      ],
      "text/plain": [
       "   Total distance of trees to cable roads  \\\n",
       "0                             5450.915246   \n",
       "1                            20988.993467   \n",
       "2                            19413.397043   \n",
       "\n",
       "   Productivity cost per m3 as per Stampfer  \\\n",
       "0                               3334.885922   \n",
       "1                              14506.436834   \n",
       "2                              12948.895542   \n",
       "\n",
       "   Total distance from carriage to support  overall_profit  cable_road_costs  \\\n",
       "0                             44441.141853    63025.435582       2001.318079   \n",
       "1                             39476.012292    51853.884670        759.655202   \n",
       "2                             40894.567152    53411.425962        575.692242   \n",
       "\n",
       "   profit_comparison    name  sideways_slope_deviations  \\\n",
       "0       11171.550912  model0                 384.964595   \n",
       "1           0.000000  model1                 114.831001   \n",
       "2        1557.541292  model2                 134.391515   \n",
       "\n",
       "   steep_downhill_segments  \n",
       "0               326.744007  \n",
       "1               114.831001  \n",
       "2                58.379281  "
      ]
     },
     "metadata": {},
     "output_type": "display_data"
    },
    {
     "data": {},
     "metadata": {},
     "output_type": "display_data"
    },
    {
     "data": {
      "application/vnd.holoviews_exec.v0+json": "",
      "text/html": [
       "<div id='3468'>\n",
       "  <div class=\"bk-root\" id=\"0e54f97f-f22a-4350-9e9d-198d96ad9c76\" data-root-id=\"3468\"></div>\n",
       "</div>\n",
       "<script type=\"application/javascript\">(function(root) {\n",
       "  function embed_document(root) {\n",
       "    var docs_json = {\"087f71e6-96cb-4635-adb9-46b892d512b1\":{\"defs\":[{\"extends\":null,\"module\":null,\"name\":\"ReactiveHTML1\",\"overrides\":[],\"properties\":[]},{\"extends\":null,\"module\":null,\"name\":\"FlexBox1\",\"overrides\":[],\"properties\":[{\"default\":\"flex-start\",\"kind\":null,\"name\":\"align_content\"},{\"default\":\"flex-start\",\"kind\":null,\"name\":\"align_items\"},{\"default\":\"row\",\"kind\":null,\"name\":\"flex_direction\"},{\"default\":\"wrap\",\"kind\":null,\"name\":\"flex_wrap\"},{\"default\":\"flex-start\",\"kind\":null,\"name\":\"justify_content\"}]},{\"extends\":null,\"module\":null,\"name\":\"GridStack1\",\"overrides\":[],\"properties\":[{\"default\":\"warn\",\"kind\":null,\"name\":\"mode\"},{\"default\":null,\"kind\":null,\"name\":\"ncols\"},{\"default\":null,\"kind\":null,\"name\":\"nrows\"},{\"default\":true,\"kind\":null,\"name\":\"allow_resize\"},{\"default\":true,\"kind\":null,\"name\":\"allow_drag\"},{\"default\":[],\"kind\":null,\"name\":\"state\"}]},{\"extends\":null,\"module\":null,\"name\":\"click1\",\"overrides\":[],\"properties\":[{\"default\":\"\",\"kind\":null,\"name\":\"terminal_output\"},{\"default\":\"\",\"kind\":null,\"name\":\"debug_name\"},{\"default\":0,\"kind\":null,\"name\":\"clears\"}]},{\"extends\":null,\"module\":null,\"name\":\"NotificationAreaBase1\",\"overrides\":[],\"properties\":[{\"default\":\"bottom-right\",\"kind\":null,\"name\":\"position\"},{\"default\":0,\"kind\":null,\"name\":\"_clear\"}]},{\"extends\":null,\"module\":null,\"name\":\"NotificationArea1\",\"overrides\":[],\"properties\":[{\"default\":[],\"kind\":null,\"name\":\"notifications\"},{\"default\":\"bottom-right\",\"kind\":null,\"name\":\"position\"},{\"default\":0,\"kind\":null,\"name\":\"_clear\"},{\"default\":[{\"background\":\"#ffc107\",\"icon\":{\"className\":\"fas fa-exclamation-triangle\",\"color\":\"white\",\"tagName\":\"i\"},\"type\":\"warning\"},{\"background\":\"#007bff\",\"icon\":{\"className\":\"fas fa-info-circle\",\"color\":\"white\",\"tagName\":\"i\"},\"type\":\"info\"}],\"kind\":null,\"name\":\"types\"}]},{\"extends\":null,\"module\":null,\"name\":\"Notification\",\"overrides\":[],\"properties\":[{\"default\":null,\"kind\":null,\"name\":\"background\"},{\"default\":3000,\"kind\":null,\"name\":\"duration\"},{\"default\":null,\"kind\":null,\"name\":\"icon\"},{\"default\":\"\",\"kind\":null,\"name\":\"message\"},{\"default\":null,\"kind\":null,\"name\":\"notification_type\"},{\"default\":false,\"kind\":null,\"name\":\"_destroyed\"}]},{\"extends\":null,\"module\":null,\"name\":\"TemplateActions1\",\"overrides\":[],\"properties\":[{\"default\":0,\"kind\":null,\"name\":\"open_modal\"},{\"default\":0,\"kind\":null,\"name\":\"close_modal\"}]},{\"extends\":null,\"module\":null,\"name\":\"MaterialTemplateActions1\",\"overrides\":[],\"properties\":[{\"default\":0,\"kind\":null,\"name\":\"open_modal\"},{\"default\":0,\"kind\":null,\"name\":\"close_modal\"}]}],\"roots\":{\"references\":[{\"attributes\":{},\"id\":\"3497\",\"type\":\"SaveTool\"},{\"attributes\":{\"source\":{\"id\":\"3667\"}},\"id\":\"3674\",\"type\":\"CDSView\"},{\"attributes\":{},\"id\":\"3531\",\"type\":\"UnionRenderers\"},{\"attributes\":{\"overlay\":{\"id\":\"3502\"}},\"id\":\"3500\",\"type\":\"BoxZoomTool\"},{\"attributes\":{\"data\":{\"Variable\":[\"Productivity cost per m3 as per Stampfer\",\"Productivity cost per m3 as per Stampfer\",\"Productivity cost per m3 as per Stampfer\"],\"index\":[0,1,2],\"value\":{\"__ndarray__\":\"NzaFl8UNqkDmCi3qN1XMQJ5qG6FySslA\",\"dtype\":\"float64\",\"order\":\"little\",\"shape\":[3]}},\"selected\":{\"id\":\"3538\"},\"selection_policy\":{\"id\":\"3554\"}},\"id\":\"3537\",\"type\":\"ColumnDataSource\"},{\"attributes\":{},\"id\":\"3517\",\"type\":\"Selection\"},{\"attributes\":{\"bottom_units\":\"screen\",\"coordinates\":null,\"fill_alpha\":0.5,\"fill_color\":\"lightgrey\",\"group\":null,\"left_units\":\"screen\",\"level\":\"overlay\",\"line_alpha\":1.0,\"line_color\":\"black\",\"line_dash\":[4,4],\"line_width\":2,\"right_units\":\"screen\",\"syncable\":false,\"top_units\":\"screen\"},\"id\":\"3502\",\"type\":\"BoxAnnotation\"},{\"attributes\":{\"margin\":[5,5,5,5],\"name\":\"HSpacer03133\",\"sizing_mode\":\"stretch_width\"},\"id\":\"3469\",\"type\":\"Spacer\"},{\"attributes\":{\"line_alpha\":0.2,\"line_color\":\"#17becf\",\"line_width\":2,\"x\":{\"field\":\"index\"},\"y\":{\"field\":\"value\"}},\"id\":\"3642\",\"type\":\"Line\"},{\"attributes\":{\"line_alpha\":0.1,\"line_color\":\"#e5ae38\",\"line_width\":2,\"x\":{\"field\":\"index\"},\"y\":{\"field\":\"value\"}},\"id\":\"3563\",\"type\":\"Line\"},{\"attributes\":{\"tools\":[{\"id\":\"3472\"},{\"id\":\"3497\"},{\"id\":\"3498\"},{\"id\":\"3499\"},{\"id\":\"3500\"},{\"id\":\"3501\"}]},\"id\":\"3503\",\"type\":\"Toolbar\"},{\"attributes\":{\"line_alpha\":0.1,\"line_color\":\"#30a2da\",\"line_width\":2,\"x\":{\"field\":\"index\"},\"y\":{\"field\":\"value\"}},\"id\":\"3520\",\"type\":\"Line\"},{\"attributes\":{\"line_alpha\":0.1,\"line_color\":\"#17becf\",\"line_width\":2,\"x\":{\"field\":\"index\"},\"y\":{\"field\":\"value\"}},\"id\":\"3641\",\"type\":\"Line\"},{\"attributes\":{\"line_color\":\"#fc4f30\",\"line_width\":2,\"x\":{\"field\":\"index\"},\"y\":{\"field\":\"value\"}},\"id\":\"3558\",\"type\":\"Line\"},{\"attributes\":{},\"id\":\"3514\",\"type\":\"BasicTickFormatter\"},{\"attributes\":{},\"id\":\"3511\",\"type\":\"BasicTickFormatter\"},{\"attributes\":{\"line_color\":\"#8b8b8b\",\"line_width\":2,\"x\":{\"field\":\"index\"},\"y\":{\"field\":\"value\"}},\"id\":\"3636\",\"type\":\"Line\"},{\"attributes\":{},\"id\":\"3694\",\"type\":\"UnionRenderers\"},{\"attributes\":{\"line_color\":\"#30a2da\",\"line_width\":2,\"x\":{\"field\":\"index\"},\"y\":{\"field\":\"value\"}},\"id\":\"3519\",\"type\":\"Line\"},{\"attributes\":{\"source\":{\"id\":\"3583\"}},\"id\":\"3590\",\"type\":\"CDSView\"},{\"attributes\":{},\"id\":\"3668\",\"type\":\"Selection\"},{\"attributes\":{},\"id\":\"3662\",\"type\":\"UnionRenderers\"},{\"attributes\":{},\"id\":\"3728\",\"type\":\"UnionRenderers\"},{\"attributes\":{\"data\":{\"Variable\":[\"Total distance from carriage to support\",\"Total distance from carriage to support\",\"Total distance from carriage to support\"],\"index\":[0,1,2],\"value\":{\"__ndarray__\":\"8jUQiiSz5UB+/LFkgEbjQMGcHCbS9+NA\",\"dtype\":\"float64\",\"order\":\"little\",\"shape\":[3]}},\"selected\":{\"id\":\"3560\"},\"selection_policy\":{\"id\":\"3578\"}},\"id\":\"3559\",\"type\":\"ColumnDataSource\"},{\"attributes\":{},\"id\":\"3515\",\"type\":\"AllLabels\"},{\"attributes\":{},\"id\":\"3604\",\"type\":\"UnionRenderers\"},{\"attributes\":{\"coordinates\":null,\"data_source\":{\"id\":\"3559\"},\"glyph\":{\"id\":\"3562\"},\"group\":null,\"hover_glyph\":null,\"muted_glyph\":{\"id\":\"3564\"},\"nonselection_glyph\":{\"id\":\"3563\"},\"selection_glyph\":{\"id\":\"3582\"},\"view\":{\"id\":\"3566\"}},\"id\":\"3565\",\"type\":\"GlyphRenderer\"},{\"attributes\":{\"data\":{\"Variable\":[\"profit_comparison\",\"profit_comparison\",\"profit_comparison\"],\"index\":[0,1,2],\"value\":{\"__ndarray__\":\"ZL1LhMbRxUAAAAAAAAAAAEACjUgqVphA\",\"dtype\":\"float64\",\"order\":\"little\",\"shape\":[3]}},\"selected\":{\"id\":\"3638\"},\"selection_policy\":{\"id\":\"3662\"}},\"id\":\"3637\",\"type\":\"ColumnDataSource\"},{\"attributes\":{},\"id\":\"3554\",\"type\":\"UnionRenderers\"},{\"attributes\":{},\"id\":\"3610\",\"type\":\"Selection\"},{\"attributes\":{\"label\":{\"value\":\"profit_comparison\"},\"renderers\":[{\"id\":\"3643\"}]},\"id\":\"3665\",\"type\":\"LegendItem\"},{\"attributes\":{\"click_policy\":\"mute\",\"coordinates\":null,\"group\":null,\"items\":[{\"id\":\"3535\"},{\"id\":\"3557\"},{\"id\":\"3581\"},{\"id\":\"3607\"},{\"id\":\"3635\"},{\"id\":\"3665\"},{\"id\":\"3697\"},{\"id\":\"3731\"}],\"location\":[0,0],\"title\":\"Variable\"},\"id\":\"3534\",\"type\":\"Legend\"},{\"attributes\":{\"coordinates\":null,\"data_source\":{\"id\":\"3583\"},\"glyph\":{\"id\":\"3586\"},\"group\":null,\"hover_glyph\":null,\"muted_glyph\":{\"id\":\"3588\"},\"nonselection_glyph\":{\"id\":\"3587\"},\"selection_glyph\":{\"id\":\"3608\"},\"view\":{\"id\":\"3590\"}},\"id\":\"3589\",\"type\":\"GlyphRenderer\"},{\"attributes\":{\"label\":{\"value\":\"overall_profit\"},\"renderers\":[{\"id\":\"3589\"}]},\"id\":\"3607\",\"type\":\"LegendItem\"},{\"attributes\":{\"children\":[{\"id\":\"3469\"},{\"id\":\"3480\"},{\"id\":\"3757\"}],\"margin\":[0,0,0,0],\"name\":\"Row03129\",\"tags\":[\"embedded\"]},\"id\":\"3468\",\"type\":\"Row\"},{\"attributes\":{\"line_color\":\"#8b8b8b\",\"line_width\":2,\"x\":{\"field\":\"index\"},\"y\":{\"field\":\"value\"}},\"id\":\"3612\",\"type\":\"Line\"},{\"attributes\":{\"line_alpha\":0.2,\"line_color\":\"#30a2da\",\"line_width\":2,\"x\":{\"field\":\"index\"},\"y\":{\"field\":\"value\"}},\"id\":\"3521\",\"type\":\"Line\"},{\"attributes\":{},\"id\":\"3584\",\"type\":\"Selection\"},{\"attributes\":{\"source\":{\"id\":\"3559\"}},\"id\":\"3566\",\"type\":\"CDSView\"},{\"attributes\":{},\"id\":\"3560\",\"type\":\"Selection\"},{\"attributes\":{\"line_alpha\":0.2,\"line_color\":\"#8b8b8b\",\"line_width\":2,\"x\":{\"field\":\"index\"},\"y\":{\"field\":\"value\"}},\"id\":\"3614\",\"type\":\"Line\"},{\"attributes\":{\"line_color\":\"#6d904f\",\"line_width\":2,\"x\":{\"field\":\"index\"},\"y\":{\"field\":\"value\"}},\"id\":\"3586\",\"type\":\"Line\"},{\"attributes\":{\"source\":{\"id\":\"3516\"}},\"id\":\"3523\",\"type\":\"CDSView\"},{\"attributes\":{\"source\":{\"id\":\"3699\"}},\"id\":\"3706\",\"type\":\"CDSView\"},{\"attributes\":{\"label\":{\"value\":\"Total distance from carriage to support\"},\"renderers\":[{\"id\":\"3565\"}]},\"id\":\"3581\",\"type\":\"LegendItem\"},{\"attributes\":{\"line_alpha\":0.2,\"line_color\":\"#6d904f\",\"line_width\":2,\"x\":{\"field\":\"index\"},\"y\":{\"field\":\"value\"}},\"id\":\"3588\",\"type\":\"Line\"},{\"attributes\":{},\"id\":\"3638\",\"type\":\"Selection\"},{\"attributes\":{},\"id\":\"3578\",\"type\":\"UnionRenderers\"},{\"attributes\":{\"coordinates\":null,\"data_source\":{\"id\":\"3637\"},\"glyph\":{\"id\":\"3640\"},\"group\":null,\"hover_glyph\":null,\"muted_glyph\":{\"id\":\"3642\"},\"nonselection_glyph\":{\"id\":\"3641\"},\"selection_glyph\":{\"id\":\"3666\"},\"view\":{\"id\":\"3644\"}},\"id\":\"3643\",\"type\":\"GlyphRenderer\"},{\"attributes\":{\"label\":{\"value\":\"Total distance of trees to cable roads\"},\"renderers\":[{\"id\":\"3522\"}]},\"id\":\"3535\",\"type\":\"LegendItem\"},{\"attributes\":{\"data\":{\"Variable\":[\"overall_profit\",\"overall_profit\",\"overall_profit\"],\"index\":[0,1,2],\"value\":{\"__ndarray__\":\"T25K8C3G7kD2fjdPvFHpQAjne6FtFOpA\",\"dtype\":\"float64\",\"order\":\"little\",\"shape\":[3]}},\"selected\":{\"id\":\"3584\"},\"selection_policy\":{\"id\":\"3604\"}},\"id\":\"3583\",\"type\":\"ColumnDataSource\"},{\"attributes\":{\"line_alpha\":0.1,\"line_color\":\"#9467bd\",\"line_width\":2,\"x\":{\"field\":\"index\"},\"y\":{\"field\":\"value\"}},\"id\":\"3671\",\"type\":\"Line\"},{\"attributes\":{\"end\":69327.97914060306,\"reset_end\":69327.97914060306,\"reset_start\":-6302.543558236642,\"start\":-6302.543558236642,\"tags\":[[[\"value\",\"value\",null]]]},\"id\":\"3471\",\"type\":\"Range1d\"},{\"attributes\":{\"line_color\":\"#17becf\",\"line_width\":2,\"x\":{\"field\":\"index\"},\"y\":{\"field\":\"value\"}},\"id\":\"3666\",\"type\":\"Line\"},{\"attributes\":{\"line_alpha\":0.2,\"line_color\":\"#fc4f30\",\"line_width\":2,\"x\":{\"field\":\"index\"},\"y\":{\"field\":\"value\"}},\"id\":\"3542\",\"type\":\"Line\"},{\"attributes\":{\"coordinates\":null,\"data_source\":{\"id\":\"3699\"},\"glyph\":{\"id\":\"3702\"},\"group\":null,\"hover_glyph\":null,\"muted_glyph\":{\"id\":\"3704\"},\"nonselection_glyph\":{\"id\":\"3703\"},\"selection_glyph\":{\"id\":\"3732\"},\"view\":{\"id\":\"3706\"}},\"id\":\"3705\",\"type\":\"GlyphRenderer\"},{\"attributes\":{\"line_alpha\":0.1,\"line_color\":\"#fc4f30\",\"line_width\":2,\"x\":{\"field\":\"index\"},\"y\":{\"field\":\"value\"}},\"id\":\"3541\",\"type\":\"Line\"},{\"attributes\":{\"source\":{\"id\":\"3609\"}},\"id\":\"3616\",\"type\":\"CDSView\"},{\"attributes\":{\"data\":{\"Variable\":[\"steep_downhill_segments\",\"steep_downhill_segments\",\"steep_downhill_segments\"],\"index\":[0,1,2],\"value\":{\"__ndarray__\":\"3b+nc+drdEDWWPIeL7VcQOOTI0iMME1A\",\"dtype\":\"float64\",\"order\":\"little\",\"shape\":[3]}},\"selected\":{\"id\":\"3700\"},\"selection_policy\":{\"id\":\"3728\"}},\"id\":\"3699\",\"type\":\"ColumnDataSource\"},{\"attributes\":{\"line_color\":\"#30a2da\",\"line_width\":2,\"x\":{\"field\":\"index\"},\"y\":{\"field\":\"value\"}},\"id\":\"3536\",\"type\":\"Line\"},{\"attributes\":{\"callback\":null,\"renderers\":[{\"id\":\"3522\"},{\"id\":\"3543\"},{\"id\":\"3565\"},{\"id\":\"3589\"},{\"id\":\"3615\"},{\"id\":\"3643\"},{\"id\":\"3673\"},{\"id\":\"3705\"}],\"tags\":[\"hv_created\"],\"tooltips\":[[\"Variable\",\"@{Variable}\"],[\"index\",\"@{index}\"],[\"value\",\"@{value}\"]]},\"id\":\"3472\",\"type\":\"HoverTool\"},{\"attributes\":{\"margin\":[5,5,5,5],\"name\":\"HSpacer03134\",\"sizing_mode\":\"stretch_width\"},\"id\":\"3757\",\"type\":\"Spacer\"},{\"attributes\":{},\"id\":\"3632\",\"type\":\"UnionRenderers\"},{\"attributes\":{\"source\":{\"id\":\"3637\"}},\"id\":\"3644\",\"type\":\"CDSView\"},{\"attributes\":{\"line_color\":\"#6d904f\",\"line_width\":2,\"x\":{\"field\":\"index\"},\"y\":{\"field\":\"value\"}},\"id\":\"3608\",\"type\":\"Line\"},{\"attributes\":{\"line_alpha\":0.1,\"line_color\":\"#d62728\",\"line_width\":2,\"x\":{\"field\":\"index\"},\"y\":{\"field\":\"value\"}},\"id\":\"3703\",\"type\":\"Line\"},{\"attributes\":{},\"id\":\"3700\",\"type\":\"Selection\"},{\"attributes\":{\"below\":[{\"id\":\"3489\"}],\"center\":[{\"id\":\"3492\"},{\"id\":\"3496\"}],\"height\":300,\"left\":[{\"id\":\"3493\"}],\"margin\":[5,5,5,5],\"min_border_bottom\":10,\"min_border_left\":10,\"min_border_right\":10,\"min_border_top\":10,\"renderers\":[{\"id\":\"3522\"},{\"id\":\"3543\"},{\"id\":\"3565\"},{\"id\":\"3589\"},{\"id\":\"3615\"},{\"id\":\"3643\"},{\"id\":\"3673\"},{\"id\":\"3705\"}],\"right\":[{\"id\":\"3534\"}],\"sizing_mode\":\"fixed\",\"title\":{\"id\":\"3481\"},\"toolbar\":{\"id\":\"3503\"},\"width\":700,\"x_range\":{\"id\":\"3470\"},\"x_scale\":{\"id\":\"3485\"},\"y_range\":{\"id\":\"3471\"},\"y_scale\":{\"id\":\"3487\"}},\"id\":\"3480\",\"subtype\":\"Figure\",\"type\":\"Plot\"},{\"attributes\":{\"line_alpha\":0.1,\"line_color\":\"#8b8b8b\",\"line_width\":2,\"x\":{\"field\":\"index\"},\"y\":{\"field\":\"value\"}},\"id\":\"3613\",\"type\":\"Line\"},{\"attributes\":{\"line_color\":\"#17becf\",\"line_width\":2,\"x\":{\"field\":\"index\"},\"y\":{\"field\":\"value\"}},\"id\":\"3640\",\"type\":\"Line\"},{\"attributes\":{\"line_color\":\"#d62728\",\"line_width\":2,\"x\":{\"field\":\"index\"},\"y\":{\"field\":\"value\"}},\"id\":\"3702\",\"type\":\"Line\"},{\"attributes\":{\"end\":2.0,\"reset_end\":2.0,\"reset_start\":0.0,\"tags\":[[[\"index\",\"index\",null]]]},\"id\":\"3470\",\"type\":\"Range1d\"},{\"attributes\":{\"coordinates\":null,\"data_source\":{\"id\":\"3537\"},\"glyph\":{\"id\":\"3540\"},\"group\":null,\"hover_glyph\":null,\"muted_glyph\":{\"id\":\"3542\"},\"nonselection_glyph\":{\"id\":\"3541\"},\"selection_glyph\":{\"id\":\"3558\"},\"view\":{\"id\":\"3544\"}},\"id\":\"3543\",\"type\":\"GlyphRenderer\"},{\"attributes\":{\"line_color\":\"#9467bd\",\"line_width\":2,\"x\":{\"field\":\"index\"},\"y\":{\"field\":\"value\"}},\"id\":\"3698\",\"type\":\"Line\"},{\"attributes\":{\"source\":{\"id\":\"3537\"}},\"id\":\"3544\",\"type\":\"CDSView\"},{\"attributes\":{\"data\":{\"Variable\":[\"Total distance of trees to cable roads\",\"Total distance of trees to cable roads\",\"Total distance of trees to cable roads\"],\"index\":[0,1,2],\"value\":{\"__ndarray__\":\"p32NTepKtUAWRfeUP3/UQCyHKGlZ9dJA\",\"dtype\":\"float64\",\"order\":\"little\",\"shape\":[3]}},\"selected\":{\"id\":\"3517\"},\"selection_policy\":{\"id\":\"3531\"}},\"id\":\"3516\",\"type\":\"ColumnDataSource\"},{\"attributes\":{\"coordinates\":null,\"data_source\":{\"id\":\"3609\"},\"glyph\":{\"id\":\"3612\"},\"group\":null,\"hover_glyph\":null,\"muted_glyph\":{\"id\":\"3614\"},\"nonselection_glyph\":{\"id\":\"3613\"},\"selection_glyph\":{\"id\":\"3636\"},\"view\":{\"id\":\"3616\"}},\"id\":\"3615\",\"type\":\"GlyphRenderer\"},{\"attributes\":{\"label\":{\"value\":\"cable_road_costs\"},\"renderers\":[{\"id\":\"3615\"}]},\"id\":\"3635\",\"type\":\"LegendItem\"},{\"attributes\":{\"data\":{\"Variable\":[\"sideways_slope_deviations\",\"sideways_slope_deviations\",\"sideways_slope_deviations\"],\"index\":[0,1,2],\"value\":{\"__ndarray__\":\"s4TI+m4PeEDWWPIeL7VcQNnehEmHzGBA\",\"dtype\":\"float64\",\"order\":\"little\",\"shape\":[3]}},\"selected\":{\"id\":\"3668\"},\"selection_policy\":{\"id\":\"3694\"}},\"id\":\"3667\",\"type\":\"ColumnDataSource\"},{\"attributes\":{\"line_color\":\"#d62728\",\"line_width\":2,\"x\":{\"field\":\"index\"},\"y\":{\"field\":\"value\"}},\"id\":\"3732\",\"type\":\"Line\"},{\"attributes\":{\"axis\":{\"id\":\"3489\"},\"coordinates\":null,\"grid_line_color\":null,\"group\":null,\"ticker\":null},\"id\":\"3492\",\"type\":\"Grid\"},{\"attributes\":{\"line_color\":\"#fc4f30\",\"line_width\":2,\"x\":{\"field\":\"index\"},\"y\":{\"field\":\"value\"}},\"id\":\"3540\",\"type\":\"Line\"},{\"attributes\":{},\"id\":\"3538\",\"type\":\"Selection\"},{\"attributes\":{\"line_color\":\"#e5ae38\",\"line_width\":2,\"x\":{\"field\":\"index\"},\"y\":{\"field\":\"value\"}},\"id\":\"3562\",\"type\":\"Line\"},{\"attributes\":{\"coordinates\":null,\"data_source\":{\"id\":\"3667\"},\"glyph\":{\"id\":\"3670\"},\"group\":null,\"hover_glyph\":null,\"muted_glyph\":{\"id\":\"3672\"},\"nonselection_glyph\":{\"id\":\"3671\"},\"selection_glyph\":{\"id\":\"3698\"},\"view\":{\"id\":\"3674\"}},\"id\":\"3673\",\"type\":\"GlyphRenderer\"},{\"attributes\":{\"label\":{\"value\":\"Productivity cost per m3 as per Stampfer\"},\"renderers\":[{\"id\":\"3543\"}]},\"id\":\"3557\",\"type\":\"LegendItem\"},{\"attributes\":{},\"id\":\"3490\",\"type\":\"BasicTicker\"},{\"attributes\":{\"line_alpha\":0.2,\"line_color\":\"#e5ae38\",\"line_width\":2,\"x\":{\"field\":\"index\"},\"y\":{\"field\":\"value\"}},\"id\":\"3564\",\"type\":\"Line\"},{\"attributes\":{\"label\":{\"value\":\"sideways_slope_deviations\"},\"renderers\":[{\"id\":\"3673\"}]},\"id\":\"3697\",\"type\":\"LegendItem\"},{\"attributes\":{\"coordinates\":null,\"group\":null,\"text_color\":\"black\",\"text_font_size\":\"12pt\"},\"id\":\"3481\",\"type\":\"Title\"},{\"attributes\":{\"coordinates\":null,\"data_source\":{\"id\":\"3516\"},\"glyph\":{\"id\":\"3519\"},\"group\":null,\"hover_glyph\":null,\"muted_glyph\":{\"id\":\"3521\"},\"nonselection_glyph\":{\"id\":\"3520\"},\"selection_glyph\":{\"id\":\"3536\"},\"view\":{\"id\":\"3523\"}},\"id\":\"3522\",\"type\":\"GlyphRenderer\"},{\"attributes\":{},\"id\":\"3485\",\"type\":\"LinearScale\"},{\"attributes\":{\"axis_label\":\"\",\"coordinates\":null,\"formatter\":{\"id\":\"3511\"},\"group\":null,\"major_label_policy\":{\"id\":\"3512\"},\"ticker\":{\"id\":\"3490\"}},\"id\":\"3489\",\"type\":\"LinearAxis\"},{\"attributes\":{\"line_alpha\":0.1,\"line_color\":\"#6d904f\",\"line_width\":2,\"x\":{\"field\":\"index\"},\"y\":{\"field\":\"value\"}},\"id\":\"3587\",\"type\":\"Line\"},{\"attributes\":{},\"id\":\"3512\",\"type\":\"AllLabels\"},{\"attributes\":{},\"id\":\"3487\",\"type\":\"LinearScale\"},{\"attributes\":{\"line_alpha\":0.2,\"line_color\":\"#d62728\",\"line_width\":2,\"x\":{\"field\":\"index\"},\"y\":{\"field\":\"value\"}},\"id\":\"3704\",\"type\":\"Line\"},{\"attributes\":{},\"id\":\"3498\",\"type\":\"PanTool\"},{\"attributes\":{},\"id\":\"3501\",\"type\":\"ResetTool\"},{\"attributes\":{\"line_color\":\"#e5ae38\",\"line_width\":2,\"x\":{\"field\":\"index\"},\"y\":{\"field\":\"value\"}},\"id\":\"3582\",\"type\":\"Line\"},{\"attributes\":{\"axis_label\":\"\",\"coordinates\":null,\"formatter\":{\"id\":\"3514\"},\"group\":null,\"major_label_policy\":{\"id\":\"3515\"},\"ticker\":{\"id\":\"3494\"}},\"id\":\"3493\",\"type\":\"LinearAxis\"},{\"attributes\":{\"label\":{\"value\":\"steep_downhill_segments\"},\"renderers\":[{\"id\":\"3705\"}]},\"id\":\"3731\",\"type\":\"LegendItem\"},{\"attributes\":{},\"id\":\"3494\",\"type\":\"BasicTicker\"},{\"attributes\":{\"axis\":{\"id\":\"3493\"},\"coordinates\":null,\"dimension\":1,\"grid_line_color\":null,\"group\":null,\"ticker\":null},\"id\":\"3496\",\"type\":\"Grid\"},{\"attributes\":{\"data\":{\"Variable\":[\"cable_road_costs\",\"cable_road_costs\",\"cable_road_costs\"],\"index\":[0,1,2],\"value\":{\"__ndarray__\":\"/rlotkVFn0AUSmnaPb2HQEV1S7aJ/YFA\",\"dtype\":\"float64\",\"order\":\"little\",\"shape\":[3]}},\"selected\":{\"id\":\"3610\"},\"selection_policy\":{\"id\":\"3632\"}},\"id\":\"3609\",\"type\":\"ColumnDataSource\"},{\"attributes\":{\"line_color\":\"#9467bd\",\"line_width\":2,\"x\":{\"field\":\"index\"},\"y\":{\"field\":\"value\"}},\"id\":\"3670\",\"type\":\"Line\"},{\"attributes\":{},\"id\":\"3499\",\"type\":\"WheelZoomTool\"},{\"attributes\":{\"line_alpha\":0.2,\"line_color\":\"#9467bd\",\"line_width\":2,\"x\":{\"field\":\"index\"},\"y\":{\"field\":\"value\"}},\"id\":\"3672\",\"type\":\"Line\"}],\"root_ids\":[\"3468\"]},\"title\":\"Bokeh Application\",\"version\":\"2.4.3\"}};\n",
       "    var render_items = [{\"docid\":\"087f71e6-96cb-4635-adb9-46b892d512b1\",\"root_ids\":[\"3468\"],\"roots\":{\"3468\":\"0e54f97f-f22a-4350-9e9d-198d96ad9c76\"}}];\n",
       "    root.Bokeh.embed.embed_items_notebook(docs_json, render_items);\n",
       "  }\n",
       "  if (root.Bokeh !== undefined && root.Bokeh.Panel !== undefined) {\n",
       "    embed_document(root);\n",
       "  } else {\n",
       "    var attempts = 0;\n",
       "    var timer = setInterval(function(root) {\n",
       "      if (root.Bokeh !== undefined && root.Bokeh.Panel !== undefined) {\n",
       "        clearInterval(timer);\n",
       "        embed_document(root);\n",
       "      } else if (document.readyState == \"complete\") {\n",
       "        attempts++;\n",
       "        if (attempts > 200) {\n",
       "          clearInterval(timer);\n",
       "          console.log(\"Bokeh: ERROR: Unable to run BokehJS code because BokehJS library is missing\");\n",
       "        }\n",
       "      }\n",
       "    }, 25, root)\n",
       "  }\n",
       "})(window);</script>"
      ],
      "text/plain": [
       ":NdOverlay   [Variable]\n",
       "   :Curve   [index]   (value)"
      ]
     },
     "execution_count": 89,
     "metadata": {
      "application/vnd.holoviews_exec.v0+json": {
       "id": "3468"
      }
     },
     "output_type": "execute_result"
    }
   ],
   "source": [
    "tree_volumes_list = harvesteable_trees_gdf[\"cubic_volume\"]\n",
    "(\n",
    "    distance_tree_line,\n",
    "    distance_carriage_support,\n",
    ") = geometry_operations.compute_distances_facilities_clients(\n",
    "    harvesteable_trees_gdf, line_gdf\n",
    ")\n",
    "sample_model = lscp_model_list[0]\n",
    "reload(classes)\n",
    "reload(plotting_2d)\n",
    "import pandas as pd\n",
    "\n",
    "pd.options.plotting.backend = \"hvplot\"\n",
    "\n",
    "results_df = plotting_2d.model_results_comparison(\n",
    "    optimization_result_list,\n",
    "    line_gdf,\n",
    "    sample_model.aij,\n",
    "    distance_carriage_support,\n",
    "    sample_model.productivity_cost,\n",
    "    tree_volumes_list,\n",
    "    sample_model.sideways_slope_deviations_per_cable_road,\n",
    "    sample_model.steep_downhill_segments,\n",
    ")\n",
    "display(results_df)\n",
    "results_df.plot()"
   ]
  },
  {
   "cell_type": "code",
   "execution_count": 52,
   "metadata": {},
   "outputs": [
    {
     "data": {
      "text/html": [
       "        <script type=\"text/javascript\">\n",
       "        window.PlotlyConfig = {MathJaxConfig: 'local'};\n",
       "        if (window.MathJax && window.MathJax.Hub && window.MathJax.Hub.Config) {window.MathJax.Hub.Config({SVG: {font: \"STIX-Web\"}});}\n",
       "        if (typeof require !== 'undefined') {\n",
       "        require.undef(\"plotly\");\n",
       "        requirejs.config({\n",
       "            paths: {\n",
       "                'plotly': ['https://cdn.plot.ly/plotly-2.18.2.min']\n",
       "            }\n",
       "        });\n",
       "        require(['plotly'], function(Plotly) {\n",
       "            window._Plotly = Plotly;\n",
       "        });\n",
       "        }\n",
       "        </script>\n",
       "        "
      ]
     },
     "metadata": {},
     "output_type": "display_data"
    },
    {
     "data": {
      "text/html": [
       "<div>                            <div id=\"557f2767-9a7d-429d-be9a-1ab442e42cc9\" class=\"plotly-graph-div\" style=\"height:800px; width:1200px;\"></div>            <script type=\"text/javascript\">                require([\"plotly\"], function(Plotly) {                    window.PLOTLYENV=window.PLOTLYENV || {};                                    if (document.getElementById(\"557f2767-9a7d-429d-be9a-1ab442e42cc9\")) {                    Plotly.newPlot(                        \"557f2767-9a7d-429d-be9a-1ab442e42cc9\",                        [{\"marker\":{\"color\":\"black\"},\"x\":[-29.880646898378075,-106.0132132],\"y\":[-8.757599103801436,89.40781657],\"type\":\"scatter\"},{\"marker\":{\"color\":\"red\"},\"mode\":\"markers\",\"name\":\"Trees covered by line 0\",\"x\":[-93.90127238,-97.02245733,-102.7610669,-106.9293573,-107.9110969,-110.3984335,-106.0132132,-96.73072895,-96.22606223,-98.31843957,-115.0619992,-108.786355,-114.5846122,-110.2887047,-103.1629812,-95.55933733,-105.839508,-107.0136188,-102.8911694,-104.5151239,-95.6665854,-105.2474193,-111.0155589,-110.4334077,-109.0691822,-113.8496183,-115.6880358,-116.3580906,-114.450469,-115.5839619,-100.4964897,-113.9290292,-120.5061,-118.8128,-108.5675,-103.0634,-103.6738,-95.93813,-84.08833116,-62.80450732,-47.87548267,-92.01265714,-93.82751185,-83.54479257,-78.19297493,-82.38238939,-63.16261606,-68.69947,-77.894284,-71.4853691,-72.662565,-89.07298,-70.08661831,-88.87189632,-89.04238067,-95.9302225,-81.16040829,-85.85650115,-94.4786539,-96.535378,-63.75294362,-95.71312916,-89.78213333,-101.3700811,-92.95359395,-100.9940699,-100.793763,-100.3478996,-99.5811527,-98.615002,-101.2184867,-96.69549867,-98.09441245,-42.05272394,-58.95692088,-61.24894305,-66.530239,-69.40538898,-62.3774501,-69.61408133,-65.64535138,-47.08279067,-66.57174552,-56.70006471,-57.59924854,-50.10485046,-43.84057345,-74.27956334,-57.05613672,-73.64038121,-52.66540533,-46.96401457,-52.17798164,-66.00952476,-45.20257457,-45.41482262,-65.8870821,-59.03737455,-39.03887005,-59.16029652,-44.91329837,-81.48674652,-60.82878325,-64.271412,-64.747095,-70.83656933,-45.95279935,-84.14636,-82.96498,-82.80746,-79.246,-68.08431,-57.8296,-54.713,-57.2062,-58.2843,-59.36414,-61.23467,-43.494],\"y\":[85.11919619,88.54954267,77.77472,80.351252,82.70909714,75.82409401,89.40781657,98.53306229,100.1307978,100.5692092,85.04506755,77.02719052,82.96372814,86.10765266,85.29616635,104.3161573,86.49467744,95.28771062,86.20745338,87.68086518,102.4783549,97.1181028,90.92524233,96.00547745,82.99614333,87.2107575,80.37969702,88.860498,91.64478486,78.43012638,96.3416446,85.41514138,83.28294,80.60513,85.8628,81.09737,101.2746,90.31217,62.67181938,3.661438659,12.41163467,49.73902457,58.72901398,57.81202571,43.280443,59.70660391,14.21862546,11.68062366,52.61685171,13.69239645,9.753753333,50.99806667,10.52799649,60.67692382,71.26314307,52.33538372,79.16582743,75.32552365,71.09835181,57.0680368,16.11237048,59.49331107,75.87889667,61.58523686,65.33045471,58.10407029,57.17725771,63.67441974,64.05568506,64.13211571,63.57803857,65.44717238,64.92266082,-0.318944394,4.96812146,7.909944762,7.427147,10.34906898,47.315436,48.07348533,21.16043231,22.12641333,47.204756,39.27407121,22.61315719,1.511377768,3.091691893,41.73161398,32.56169672,33.91353359,8.185796,6.821372,4.378941281,23.30821952,9.288627714,13.76034762,16.91638248,23.515587,3.565993622,31.27495377,-0.132877354,49.11636996,38.27663021,52.23652133,41.633555,38.04694933,19.65958551,37.92971,36.92554,33.89332,30.50907,40.82172,0.1746,0.7044,6.7719,16.481,29.308,38.36289,-2.3416],\"type\":\"scatter\"},{\"marker\":{\"color\":\"black\"},\"x\":[-15.12792573,-29.880646898378075],\"y\":[-26.16056076,-8.757599103801436],\"type\":\"scatter\"},{\"marker\":{\"color\":\"black\"},\"x\":[5.750624681,-29.880646898378075],\"y\":[-23.50333184,-8.757599103801436],\"type\":\"scatter\"},{\"marker\":{\"color\":\"black\"},\"x\":[-22.92090482,-29.880646898378075],\"y\":[-30.73934474,-8.757599103801436],\"type\":\"scatter\"},{\"marker\":{\"color\":\"black\"},\"x\":[-83.54479257],\"y\":[57.81202571],\"type\":\"scatter\"},{\"marker\":{\"color\":\"black\"},\"x\":[-24.572446093973856,-74.37847497],\"y\":[-5.963584108606202,104.4872907],\"type\":\"scatter\"},{\"marker\":{\"color\":\"blue\"},\"mode\":\"markers\",\"name\":\"Trees covered by line 1\",\"x\":[-83.48467459,-88.19360784,-77.38716,-74.37847497,-74.12546686,-83.96798843,-89.62130667,-83.3753646,-82.7508461,-78.26144619,-74.66894341,-85.630951,-90.57745961,-72.9690587,-79.21758645,-87.31261084,-78.82330588,-70.18942466,-70.13604975,-69.11292673,-72.28254052,-65.84327489,-87.83312994,-67.58248429,-65.91586274,-66.154401,-61.06820181,-65.06967068,-64.15900983,-61.14652818,-64.44548,-64.87632182,-74.75674,-80.30925,-77.59206,-76.80447,-72.7287,-65.68216,-57.6796,-68.21670068,-42.19841593,-35.66054857,-63.811228,-43.45665946,-35.64954472,-75.60631589,-63.83902737,-45.04949761,-68.96079619,-72.90408841,-54.49800107,-43.49902229,-34.33894197,-42.88247,-42.96844683,-42.88422773,-48.14191589,-34.36197702,-54.42445327,-47.48895232,-40.01723757,-65.83894297,-72.31511771,-47.03967,-44.76037486,-56.52763129,-63.91497622,-67.73621776,-63.74153257,-69.36194202,-42.45386268,-71.06100708,-80.33854904,-77.01644229,-55.73910528,-55.97405282,-58.99396885,-53.95952592,-61.57447094,-80.0400875,-60.4958655,-28.2617947,-30.87206137,-25.73708667,-25.69500145,-25.02978597,-22.30652,-31.39633886,-30.33386573,-28.67903971,-35.14537733,-38.86416389,-39.8912642,-42.67860149,-38.89644161,-41.55115797,-31.56738227,-41.41965835,-38.77894034,-45.08971777,-37.35254208,-47.94450819,-57.6806725,-58.99463714,-42.38344933,-44.55701509,-35.61926952,-59.8437761,-60.93192832,-61.66114429,-52.02315851,-49.13330237,-52.04638421,-52.68046227,-34.06315703,-51.23299876,-40.615716,-46.21868933,-32.25445304,-34.85075714,-42.86287625,-58.14497146,-51.18539067,-43.79230016,-50.13028007,-45.99883432,-38.25214,-28.56954773,-51.51983649,-50.43153156,-36.77754178,-36.97431304,-52.15906782,-62.64994,-69.79732,-66.13502,-60.05328,-46.27285,-42.61056,-41.68514,-49.73825,-46.33192,-31.387,-32.66963,-39.20662,-26.57804,-26.77494,-27.56253],\"y\":[95.86970097,98.34736686,105.531576,104.4872907,104.5034411,102.8353679,107.525112,106.9914629,115.3560539,109.285201,120.7985667,113.1640033,107.7242429,113.7228677,104.8973871,111.5093353,117.612602,120.3503284,119.873547,121.5114816,123.1188927,113.24662,111.5008781,122.3045443,122.5960266,118.6669428,129.0447034,116.4094181,119.7839872,132.0985808,123.662627,130.8051815,104.7006,118.481,119.4655,121.629,126.0789,119.9184,127.0673,61.39562391,22.29488814,48.78942838,60.68509933,45.96339541,62.20546824,72.66518112,71.132852,40.88877161,74.36834876,73.25266903,76.57974267,83.77907886,53.87249423,79.38806,79.17753615,79.5017264,90.12105144,51.01104351,73.38996884,80.04219899,54.851973,81.18862365,83.26069743,92.620915,84.80327676,69.05706172,67.20044389,85.21727234,71.50158228,85.35868131,73.7884278,90.40291679,84.43096494,87.13747124,82.93201083,82.95283865,52.62083967,106.6657674,81.48780766,84.73800696,102.2441972,15.70429784,8.485619598,10.44674038,16.54076148,26.59853797,12.12235333,5.626359429,2.907323459,3.598538571,12.83804781,62.46519968,55.19798306,59.14324874,37.17328227,38.8420729,17.63833001,28.17128838,66.29875835,30.01578138,30.81641938,25.21787333,57.81795917,52.14452743,56.49411867,68.98637917,56.00777619,65.59072248,79.11159821,78.64611429,34.43051143,38.52826698,85.52256734,84.56854314,42.74553598,57.79036526,49.63081867,56.45468667,37.90019062,31.54198771,36.31789783,44.69947795,56.80349467,19.18281558,45.7442706,51.07242743,45.15325,40.1044632,66.06245366,32.90602742,19.00586822,38.85725913,38.50238222,57.39809,85.42912,87.31933,99.13079,50.93986,79.34737,84.44463,86.92554,96.76802,26.5007,29.44582,37.47685,-0.1603819,31.64869,37.92971],\"type\":\"scatter\"},{\"marker\":{\"color\":\"black\"},\"x\":[-15.12792573,-24.572446093973856],\"y\":[-26.16056076,-5.963584108606202],\"type\":\"scatter\"},{\"marker\":{\"color\":\"black\"},\"x\":[5.750624681,-24.572446093973856],\"y\":[-23.50333184,-5.963584108606202],\"type\":\"scatter\"},{\"marker\":{\"color\":\"black\"},\"x\":[-22.92090482,-24.572446093973856],\"y\":[-30.73934474,-5.963584108606202],\"type\":\"scatter\"},{\"marker\":{\"color\":\"black\"},\"x\":[],\"y\":[],\"type\":\"scatter\"},{\"marker\":{\"color\":\"black\"},\"x\":[-6.727108153121151,-29.84199559],\"y\":[2.6713796071534985,140.2430958],\"type\":\"scatter\"},{\"marker\":{\"color\":\"green\"},\"mode\":\"markers\",\"name\":\"Trees covered by line 2\",\"x\":[-20.01427656,-46.08530939,-39.1687174,-41.69020833,-20.15441667,-30.51452551,-55.91586735,-60.13371324,-57.75133942,-51.72634937,-54.22529924,-56.03364748,-51.34979148,-57.75406087,-47.45566976,-54.71720264,-48.32035725,-48.23730243,-37.09976663,-37.47195419,-38.754948,-28.88421312,-45.03471145,-52.09936048,-30.53919388,-33.86425279,-42.03635682,-43.77058695,-48.38149441,-33.38285971,-45.35963829,-20.31095449,-30.12933628,-38.2757944,-37.18284862,-26.71358941,-32.49283298,-29.93719601,-24.30442355,-43.69364112,-36.96231791,-29.73887306,-38.04231305,-26.46417652,-25.02255191,-22.40626011,-29.84199559,-34.43580671,-24.7515566,-38.15196,-29.1106237,-43.13583476,-43.45710629,-17.46835571,-28.66212267,-26.34495444,-28.271429,-26.86485143,-28.02366579,-22.25938746,-23.30889411,-22.14285214,-19.53772261,-28.05956057,-21.99539808,-18.51068583,-21.1580461,-22.93293569,-23.63868957,-21.46493537,-24.29473288,-22.44136039,-20.74738784,-21.35527254,-14.66676903,-16.46067657,-50.2108,-46.54851,-46.70603,-35.52464,-14.96348,-12.39504358,-29.52118366,-25.82151267,-27.440446,-17.82092298,-41.45272492,-37.40364779,-14.75707055,-27.90749342,-5.417156102,-4.340797395,-16.80794933,-8.689096627,-14.61508286,-4.7308435,-46.56984086,-46.3035472,-1.514686918,-4.932367447,-10.04503957,-16.71623767,-28.12296714,-5.661616259,-7.976111714,-14.30092727,-11.09186833,-0.970214667,-1.101420381,0.959775614,-16.73522379,-14.70918078,-31.63498,-3.684222609,-41.02201027,-45.75961067,-18.81114101,-16.42554125,-7.013041031,-9.316790811,-10.57044051,-33.41519219,-5.883315789,-31.05259335,-38.6765687,-3.428835238,-19.78574851,-17.27104514,-21.01267307,-17.9089861,-26.4252543,-35.86348262,-9.506584667,-29.62011305,-31.62244894,-31.45910438,-26.01718061,-25.5937586,-18.45054018,-41.16064667,-39.73316282,-39.92093491,-13.09188479,-11.34937437,-4.71877549,7.004541667,5.493851429,-4.330929125,-1.646586857,-18.9630296,-18.65162734,-15.47295086,-17.78911115,-6.690598095,-19.67749185,-23.84008161,-11.059135,-15.14474109,-4.101818305,-9.93666867,-13.69800957,-18.06885752,-9.295090672,-14.65210971,-8.603829565,-12.23518208,-2.883395794,3.084357143,-13.38512882,-5.484164,0.321903298,-4.673825497,-15.91308293,-7.36146924,-11.601952,-8.913310306,-2.147337167,-16.94963143,-20.20948667,-20.23025629,-27.78574676,-24.44786368,-28.94543143,-33.67924298,-30.05668667,-25.99110432,2.141117714,0.553883429,1.217273145,9.156768,3.921010667,7.098754534,7.479731412,6.139525143,-1.028744857,1.129600536,-4.479498667,11.01780383,-4.786697799,-7.099081333,-2.900987238,5.259022129,-8.28776323,-15.16253286,-20.38245718,-28.993184,2.272871159,-24.92097067,-29.944999,-27.75257914,-28.70804743,-29.96957619,-29.001412,-24.53690497,-25.21215064,-25.4799278,-8.609093084,-26.32428857,-43.94946,-42.39397,-37.06044,-32.64994,-39.36414,-33.3677,-22.71885,-29.49212,-25.41635,-25.4618,-22.26599,-19.31492,-11.9568,-16.12518,-15.98735,-11.77375,-11.2045,-18.36981,-17.73974,-14.90442,-9.314916,-8.094153,-10.456921,-1.222434,-6.1945,-5.731384,4.977446,6.4954,-0.5947494,0.7441527,10.76384],\"y\":[149.922979,140.8923356,139.7536376,142.3992175,148.7100133,144.0812844,136.2810578,135.6421414,129.7407148,139.1805794,132.3293989,131.1800298,136.4680276,135.4419983,141.6323199,138.5854925,139.9950704,134.702649,143.2286398,144.5117223,141.452916,149.7437673,135.7886081,129.4302928,148.8980511,147.9375081,145.0488265,142.5344245,130.5650093,144.4892955,129.9263817,155.2269872,150.6443552,147.5998112,141.5735606,150.2932019,152.1576349,154.1487041,153.6091877,147.2670105,149.7175643,147.3293567,135.0927363,148.6259799,149.9409567,152.3785745,140.2430958,137.6704921,146.9438328,139.1557724,155.6000522,136.0357043,135.9078147,153.7533924,145.4021884,143.7813359,147.1316737,145.8027457,153.0952278,150.7908792,145.2685239,148.0454856,149.7903661,142.6129877,146.2552103,155.5919847,145.62263,156.6022742,144.1373566,145.0063692,143.8484455,147.3931012,145.8831472,145.93957,152.8066188,151.5756583,142.7316,144.0902,144.2674,151.1958,154.9172,77.24231806,47.77308082,80.59336367,85.34171829,77.67130238,93.44422701,75.15095502,84.74432859,48.83765152,8.847342542,81.53936933,93.58312933,10.01766072,91.84376152,42.19041075,108.5148826,108.981916,109.694083,108.8521612,120.7187843,125.3305517,115.1939071,106.5826182,121.755362,101.7534391,125.466655,100.3982661,106.7018923,96.49986281,98.73511212,89.51142653,113.1713044,89.0582687,106.5429704,114.229152,100.5875039,105.5024725,99.48536037,106.6407206,126.8679454,110.2547015,98.33835579,104.6993637,97.60567565,93.7002,127.6360481,122.5399796,125.0750803,118.7230411,121.042114,103.9891685,127.3303587,118.2129548,119.4623426,115.7525987,121.7202521,130.2994724,132.7106863,104.4493693,109.4680707,106.6778969,118.0804011,137.7772238,13.84812451,23.59549,19.41666948,20.2928445,17.47972819,42.3682832,42.51463825,42.88988038,24.66935949,49.72451276,36.45218043,35.58692832,21.8502846,18.82510326,28.81178949,42.1022018,17.48616727,20.80237814,58.89740588,14.20317371,22.22068,25.53155401,24.44928234,12.85137943,23.16962608,22.97693067,25.36297713,29.02559614,19.1406085,61.68461228,11.650616,13.90776621,8.8733685,71.74829257,55.70627325,56.03150514,48.56813041,61.57301977,57.84716161,67.80925329,65.25714533,41.22527541,64.40213029,60.16771829,66.92785654,57.54668876,71.44016667,62.58893516,68.59563745,58.323828,68.91248914,71.11121482,66.127156,52.36532967,73.77888096,59.32604853,55.29820971,82.34198555,55.6569646,74.59968095,65.47596052,69.250824,49.02283551,69.08989467,74.69281,48.92443522,76.19336305,83.24034333,87.892008,39.65303157,45.25440052,77.17356441,75.07819673,59.06835467,102.4166,114.1493,79.1111,90.52876,117.4572,115.6314,48.97327,47.47685,96.35453,102.9989,118.7173,29.95776,27.5647,35.09439,34.83842,59.60334,88.6517,108.166,113.5192,111.9637,29.81993,40.31217,37.20119,45.13377,92.8805,106.3545,44.20835,47.9617,87.14212,85.94105,30.70597],\"type\":\"scatter\"},{\"marker\":{\"color\":\"black\"},\"x\":[-4.352596,-6.727108153121151],\"y\":[-25.27437571,2.6713796071534985],\"type\":\"scatter\"},{\"marker\":{\"color\":\"black\"},\"x\":[15.04316711,-6.727108153121151],\"y\":[-16.67449933,2.6713796071534985],\"type\":\"scatter\"},{\"marker\":{\"color\":\"black\"},\"x\":[-15.12792573,-6.727108153121151],\"y\":[-26.16056076,2.6713796071534985],\"type\":\"scatter\"},{\"marker\":{\"color\":\"black\"},\"x\":[-16.94963143],\"y\":[71.74829257],\"type\":\"scatter\"}],                        {\"template\":{\"data\":{\"histogram2dcontour\":[{\"type\":\"histogram2dcontour\",\"colorbar\":{\"outlinewidth\":0,\"ticks\":\"\"},\"colorscale\":[[0.0,\"#0d0887\"],[0.1111111111111111,\"#46039f\"],[0.2222222222222222,\"#7201a8\"],[0.3333333333333333,\"#9c179e\"],[0.4444444444444444,\"#bd3786\"],[0.5555555555555556,\"#d8576b\"],[0.6666666666666666,\"#ed7953\"],[0.7777777777777778,\"#fb9f3a\"],[0.8888888888888888,\"#fdca26\"],[1.0,\"#f0f921\"]]}],\"choropleth\":[{\"type\":\"choropleth\",\"colorbar\":{\"outlinewidth\":0,\"ticks\":\"\"}}],\"histogram2d\":[{\"type\":\"histogram2d\",\"colorbar\":{\"outlinewidth\":0,\"ticks\":\"\"},\"colorscale\":[[0.0,\"#0d0887\"],[0.1111111111111111,\"#46039f\"],[0.2222222222222222,\"#7201a8\"],[0.3333333333333333,\"#9c179e\"],[0.4444444444444444,\"#bd3786\"],[0.5555555555555556,\"#d8576b\"],[0.6666666666666666,\"#ed7953\"],[0.7777777777777778,\"#fb9f3a\"],[0.8888888888888888,\"#fdca26\"],[1.0,\"#f0f921\"]]}],\"heatmap\":[{\"type\":\"heatmap\",\"colorbar\":{\"outlinewidth\":0,\"ticks\":\"\"},\"colorscale\":[[0.0,\"#0d0887\"],[0.1111111111111111,\"#46039f\"],[0.2222222222222222,\"#7201a8\"],[0.3333333333333333,\"#9c179e\"],[0.4444444444444444,\"#bd3786\"],[0.5555555555555556,\"#d8576b\"],[0.6666666666666666,\"#ed7953\"],[0.7777777777777778,\"#fb9f3a\"],[0.8888888888888888,\"#fdca26\"],[1.0,\"#f0f921\"]]}],\"heatmapgl\":[{\"type\":\"heatmapgl\",\"colorbar\":{\"outlinewidth\":0,\"ticks\":\"\"},\"colorscale\":[[0.0,\"#0d0887\"],[0.1111111111111111,\"#46039f\"],[0.2222222222222222,\"#7201a8\"],[0.3333333333333333,\"#9c179e\"],[0.4444444444444444,\"#bd3786\"],[0.5555555555555556,\"#d8576b\"],[0.6666666666666666,\"#ed7953\"],[0.7777777777777778,\"#fb9f3a\"],[0.8888888888888888,\"#fdca26\"],[1.0,\"#f0f921\"]]}],\"contourcarpet\":[{\"type\":\"contourcarpet\",\"colorbar\":{\"outlinewidth\":0,\"ticks\":\"\"}}],\"contour\":[{\"type\":\"contour\",\"colorbar\":{\"outlinewidth\":0,\"ticks\":\"\"},\"colorscale\":[[0.0,\"#0d0887\"],[0.1111111111111111,\"#46039f\"],[0.2222222222222222,\"#7201a8\"],[0.3333333333333333,\"#9c179e\"],[0.4444444444444444,\"#bd3786\"],[0.5555555555555556,\"#d8576b\"],[0.6666666666666666,\"#ed7953\"],[0.7777777777777778,\"#fb9f3a\"],[0.8888888888888888,\"#fdca26\"],[1.0,\"#f0f921\"]]}],\"surface\":[{\"type\":\"surface\",\"colorbar\":{\"outlinewidth\":0,\"ticks\":\"\"},\"colorscale\":[[0.0,\"#0d0887\"],[0.1111111111111111,\"#46039f\"],[0.2222222222222222,\"#7201a8\"],[0.3333333333333333,\"#9c179e\"],[0.4444444444444444,\"#bd3786\"],[0.5555555555555556,\"#d8576b\"],[0.6666666666666666,\"#ed7953\"],[0.7777777777777778,\"#fb9f3a\"],[0.8888888888888888,\"#fdca26\"],[1.0,\"#f0f921\"]]}],\"mesh3d\":[{\"type\":\"mesh3d\",\"colorbar\":{\"outlinewidth\":0,\"ticks\":\"\"}}],\"scatter\":[{\"fillpattern\":{\"fillmode\":\"overlay\",\"size\":10,\"solidity\":0.2},\"type\":\"scatter\"}],\"parcoords\":[{\"type\":\"parcoords\",\"line\":{\"colorbar\":{\"outlinewidth\":0,\"ticks\":\"\"}}}],\"scatterpolargl\":[{\"type\":\"scatterpolargl\",\"marker\":{\"colorbar\":{\"outlinewidth\":0,\"ticks\":\"\"}}}],\"bar\":[{\"error_x\":{\"color\":\"#2a3f5f\"},\"error_y\":{\"color\":\"#2a3f5f\"},\"marker\":{\"line\":{\"color\":\"#E5ECF6\",\"width\":0.5},\"pattern\":{\"fillmode\":\"overlay\",\"size\":10,\"solidity\":0.2}},\"type\":\"bar\"}],\"scattergeo\":[{\"type\":\"scattergeo\",\"marker\":{\"colorbar\":{\"outlinewidth\":0,\"ticks\":\"\"}}}],\"scatterpolar\":[{\"type\":\"scatterpolar\",\"marker\":{\"colorbar\":{\"outlinewidth\":0,\"ticks\":\"\"}}}],\"histogram\":[{\"marker\":{\"pattern\":{\"fillmode\":\"overlay\",\"size\":10,\"solidity\":0.2}},\"type\":\"histogram\"}],\"scattergl\":[{\"type\":\"scattergl\",\"marker\":{\"colorbar\":{\"outlinewidth\":0,\"ticks\":\"\"}}}],\"scatter3d\":[{\"type\":\"scatter3d\",\"line\":{\"colorbar\":{\"outlinewidth\":0,\"ticks\":\"\"}},\"marker\":{\"colorbar\":{\"outlinewidth\":0,\"ticks\":\"\"}}}],\"scattermapbox\":[{\"type\":\"scattermapbox\",\"marker\":{\"colorbar\":{\"outlinewidth\":0,\"ticks\":\"\"}}}],\"scatterternary\":[{\"type\":\"scatterternary\",\"marker\":{\"colorbar\":{\"outlinewidth\":0,\"ticks\":\"\"}}}],\"scattercarpet\":[{\"type\":\"scattercarpet\",\"marker\":{\"colorbar\":{\"outlinewidth\":0,\"ticks\":\"\"}}}],\"carpet\":[{\"aaxis\":{\"endlinecolor\":\"#2a3f5f\",\"gridcolor\":\"white\",\"linecolor\":\"white\",\"minorgridcolor\":\"white\",\"startlinecolor\":\"#2a3f5f\"},\"baxis\":{\"endlinecolor\":\"#2a3f5f\",\"gridcolor\":\"white\",\"linecolor\":\"white\",\"minorgridcolor\":\"white\",\"startlinecolor\":\"#2a3f5f\"},\"type\":\"carpet\"}],\"table\":[{\"cells\":{\"fill\":{\"color\":\"#EBF0F8\"},\"line\":{\"color\":\"white\"}},\"header\":{\"fill\":{\"color\":\"#C8D4E3\"},\"line\":{\"color\":\"white\"}},\"type\":\"table\"}],\"barpolar\":[{\"marker\":{\"line\":{\"color\":\"#E5ECF6\",\"width\":0.5},\"pattern\":{\"fillmode\":\"overlay\",\"size\":10,\"solidity\":0.2}},\"type\":\"barpolar\"}],\"pie\":[{\"automargin\":true,\"type\":\"pie\"}]},\"layout\":{\"autotypenumbers\":\"strict\",\"colorway\":[\"#636efa\",\"#EF553B\",\"#00cc96\",\"#ab63fa\",\"#FFA15A\",\"#19d3f3\",\"#FF6692\",\"#B6E880\",\"#FF97FF\",\"#FECB52\"],\"font\":{\"color\":\"#2a3f5f\"},\"hovermode\":\"closest\",\"hoverlabel\":{\"align\":\"left\"},\"paper_bgcolor\":\"white\",\"plot_bgcolor\":\"#E5ECF6\",\"polar\":{\"bgcolor\":\"#E5ECF6\",\"angularaxis\":{\"gridcolor\":\"white\",\"linecolor\":\"white\",\"ticks\":\"\"},\"radialaxis\":{\"gridcolor\":\"white\",\"linecolor\":\"white\",\"ticks\":\"\"}},\"ternary\":{\"bgcolor\":\"#E5ECF6\",\"aaxis\":{\"gridcolor\":\"white\",\"linecolor\":\"white\",\"ticks\":\"\"},\"baxis\":{\"gridcolor\":\"white\",\"linecolor\":\"white\",\"ticks\":\"\"},\"caxis\":{\"gridcolor\":\"white\",\"linecolor\":\"white\",\"ticks\":\"\"}},\"coloraxis\":{\"colorbar\":{\"outlinewidth\":0,\"ticks\":\"\"}},\"colorscale\":{\"sequential\":[[0.0,\"#0d0887\"],[0.1111111111111111,\"#46039f\"],[0.2222222222222222,\"#7201a8\"],[0.3333333333333333,\"#9c179e\"],[0.4444444444444444,\"#bd3786\"],[0.5555555555555556,\"#d8576b\"],[0.6666666666666666,\"#ed7953\"],[0.7777777777777778,\"#fb9f3a\"],[0.8888888888888888,\"#fdca26\"],[1.0,\"#f0f921\"]],\"sequentialminus\":[[0.0,\"#0d0887\"],[0.1111111111111111,\"#46039f\"],[0.2222222222222222,\"#7201a8\"],[0.3333333333333333,\"#9c179e\"],[0.4444444444444444,\"#bd3786\"],[0.5555555555555556,\"#d8576b\"],[0.6666666666666666,\"#ed7953\"],[0.7777777777777778,\"#fb9f3a\"],[0.8888888888888888,\"#fdca26\"],[1.0,\"#f0f921\"]],\"diverging\":[[0,\"#8e0152\"],[0.1,\"#c51b7d\"],[0.2,\"#de77ae\"],[0.3,\"#f1b6da\"],[0.4,\"#fde0ef\"],[0.5,\"#f7f7f7\"],[0.6,\"#e6f5d0\"],[0.7,\"#b8e186\"],[0.8,\"#7fbc41\"],[0.9,\"#4d9221\"],[1,\"#276419\"]]},\"xaxis\":{\"gridcolor\":\"white\",\"linecolor\":\"white\",\"ticks\":\"\",\"title\":{\"standoff\":15},\"zerolinecolor\":\"white\",\"automargin\":true,\"zerolinewidth\":2},\"yaxis\":{\"gridcolor\":\"white\",\"linecolor\":\"white\",\"ticks\":\"\",\"title\":{\"standoff\":15},\"zerolinecolor\":\"white\",\"automargin\":true,\"zerolinewidth\":2},\"scene\":{\"xaxis\":{\"backgroundcolor\":\"#E5ECF6\",\"gridcolor\":\"white\",\"linecolor\":\"white\",\"showbackground\":true,\"ticks\":\"\",\"zerolinecolor\":\"white\",\"gridwidth\":2},\"yaxis\":{\"backgroundcolor\":\"#E5ECF6\",\"gridcolor\":\"white\",\"linecolor\":\"white\",\"showbackground\":true,\"ticks\":\"\",\"zerolinecolor\":\"white\",\"gridwidth\":2},\"zaxis\":{\"backgroundcolor\":\"#E5ECF6\",\"gridcolor\":\"white\",\"linecolor\":\"white\",\"showbackground\":true,\"ticks\":\"\",\"zerolinecolor\":\"white\",\"gridwidth\":2}},\"shapedefaults\":{\"line\":{\"color\":\"#2a3f5f\"}},\"annotationdefaults\":{\"arrowcolor\":\"#2a3f5f\",\"arrowhead\":0,\"arrowwidth\":1},\"geo\":{\"bgcolor\":\"white\",\"landcolor\":\"#E5ECF6\",\"subunitcolor\":\"white\",\"showland\":true,\"showlakes\":true,\"lakecolor\":\"white\"},\"title\":{\"x\":0.05},\"mapbox\":{\"style\":\"light\"}}},\"title\":{\"text\":\"P-Median\"},\"width\":1200,\"height\":800},                        {\"responsive\": true}                    ).then(function(){\n",
       "                            \n",
       "var gd = document.getElementById('557f2767-9a7d-429d-be9a-1ab442e42cc9');\n",
       "var x = new MutationObserver(function (mutations, observer) {{\n",
       "        var display = window.getComputedStyle(gd).display;\n",
       "        if (!display || display === 'none') {{\n",
       "            console.log([gd, 'removed!']);\n",
       "            Plotly.purge(gd);\n",
       "            observer.disconnect();\n",
       "        }}\n",
       "}});\n",
       "\n",
       "// Listen for the removal of the full notebook cells\n",
       "var notebookContainer = gd.closest('#notebook-container');\n",
       "if (notebookContainer) {{\n",
       "    x.observe(notebookContainer, {childList: true});\n",
       "}}\n",
       "\n",
       "// Listen for the clearing of the current output cell\n",
       "var outputEl = gd.closest('.output');\n",
       "if (outputEl) {{\n",
       "    x.observe(outputEl, {childList: true});\n",
       "}}\n",
       "\n",
       "                        })                };                });            </script>        </div>"
      ]
     },
     "metadata": {},
     "output_type": "display_data"
    },
    {
     "data": {
      "text/html": [
       "        <script type=\"text/javascript\">\n",
       "        window.PlotlyConfig = {MathJaxConfig: 'local'};\n",
       "        if (window.MathJax && window.MathJax.Hub && window.MathJax.Hub.Config) {window.MathJax.Hub.Config({SVG: {font: \"STIX-Web\"}});}\n",
       "        if (typeof require !== 'undefined') {\n",
       "        require.undef(\"plotly\");\n",
       "        requirejs.config({\n",
       "            paths: {\n",
       "                'plotly': ['https://cdn.plot.ly/plotly-2.18.2.min']\n",
       "            }\n",
       "        });\n",
       "        require(['plotly'], function(Plotly) {\n",
       "            window._Plotly = Plotly;\n",
       "        });\n",
       "        }\n",
       "        </script>\n",
       "        "
      ]
     },
     "metadata": {},
     "output_type": "display_data"
    },
    {
     "data": {
      "text/html": [
       "<div>                            <div id=\"fdb720c2-2f1a-4d48-9881-b9a5da362679\" class=\"plotly-graph-div\" style=\"height:800px; width:1200px;\"></div>            <script type=\"text/javascript\">                require([\"plotly\"], function(Plotly) {                    window.PLOTLYENV=window.PLOTLYENV || {};                                    if (document.getElementById(\"fdb720c2-2f1a-4d48-9881-b9a5da362679\")) {                    Plotly.newPlot(                        \"fdb720c2-2f1a-4d48-9881-b9a5da362679\",                        [{\"marker\":{\"color\":\"black\"},\"x\":[-22.809794172088516,-93.90127238],\"y\":[-5.018566541428784,85.11919619],\"type\":\"scatter\"},{\"marker\":{\"color\":\"red\"},\"mode\":\"markers\",\"name\":\"Trees covered by line 0\",\"x\":[-83.48467459,-88.19360784,-77.38716,-93.90127238,-97.02245733,-102.7610669,-106.9293573,-107.9110969,-110.3984335,-106.0132132,-96.73072895,-96.22606223,-98.31843957,-115.0619992,-108.786355,-114.5846122,-110.2887047,-103.1629812,-95.55933733,-74.37847497,-74.12546686,-83.96798843,-105.839508,-107.0136188,-89.62130667,-83.3753646,-102.8911694,-82.7508461,-78.26144619,-74.66894341,-85.630951,-104.5151239,-90.57745961,-72.9690587,-79.21758645,-87.31261084,-95.6665854,-78.82330588,-70.18942466,-70.13604975,-69.11292673,-105.2474193,-111.0155589,-110.4334077,-109.0691822,-113.8496183,-115.6880358,-116.3580906,-114.450469,-72.28254052,-115.5839619,-20.01427656,-46.08530939,-39.1687174,-41.69020833,-20.15441667,-30.51452551,-65.84327489,-100.4964897,-87.83312994,-67.58248429,-113.9290292,-65.91586274,-66.154401,-61.06820181,-65.06967068,-64.15900983,-55.91586735,-61.14652818,-60.13371324,-64.44548,-64.87632182,-57.75133942,-51.72634937,-54.22529924,-56.03364748,-51.34979148,-57.75406087,-47.45566976,-54.71720264,-48.32035725,-48.23730243,-37.09976663,-37.47195419,-38.754948,-28.88421312,-45.03471145,-52.09936048,-30.53919388,-33.86425279,-42.03635682,-43.77058695,-48.38149441,-33.38285971,-45.35963829,-20.31095449,-30.12933628,-38.2757944,-37.18284862,-26.71358941,-32.49283298,-29.93719601,-24.30442355,-43.69364112,-36.96231791,-29.73887306,-38.04231305,-26.46417652,-25.02255191,-22.40626011,-29.84199559,-34.43580671,-24.7515566,-38.15196,-29.1106237,-43.13583476,-43.45710629,-17.46835571,-28.66212267,-26.34495444,-28.271429,-26.86485143,-28.02366579,-22.25938746,-23.30889411,-22.14285214,-19.53772261,-28.05956057,-21.99539808,-18.51068583,-21.1580461,-22.93293569,-23.63868957,-21.46493537,-24.29473288,-22.44136039,-20.74738784,-21.35527254,-14.66676903,-16.46067657,-120.5061,-118.8128,-108.5675,-103.0634,-103.6738,-95.93813,-74.75674,-80.30925,-77.59206,-76.80447,-72.7287,-65.68216,-57.6796,-50.2108,-46.54851,-46.70603,-35.52464,-14.96348,-68.21670068,-42.19841593,-35.66054857,-63.811228,-12.39504358,-84.08833116,-43.45665946,-29.52118366,-25.82151267,-35.64954472,-75.60631589,-63.83902737,-62.80450732,-47.87548267,-45.04949761,-92.01265714,-68.96079619,-93.82751185,-83.54479257,-72.90408841,-78.19297493,-54.49800107,-82.38238939,-63.16261606,-43.49902229,-34.33894197,-68.69947,-42.88247,-42.96844683,-42.88422773,-48.14191589,-77.894284,-34.36197702,-27.440446,-71.4853691,-72.662565,-54.42445327,-47.48895232,-17.82092298,-89.07298,-40.01723757,-70.08661831,-41.45272492,-88.87189632,-89.04238067,-65.83894297,-72.31511771,-37.40364779,-95.9302225,-47.03967,-81.16040829,-85.85650115,-44.76037486,-14.75707055,-56.52763129,-94.4786539,-96.535378,-27.90749342,-63.75294362,-5.417156102,-4.340797395,-63.91497622,-67.73621776,-63.74153257,-69.36194202,-42.45386268,-71.06100708,-80.33854904,-16.80794933,-77.01644229,-8.689096627,-95.71312916,-89.78213333,-55.73910528,-55.97405282,-14.61508286,-4.7308435,-46.56984086,-46.3035472,-58.99396885,-53.95952592,-101.3700811,-92.95359395,-100.9940699,-61.57447094,-1.514686918,-4.932367447,-10.04503957,-16.71623767,-28.12296714,-5.661616259,-7.976111714,-14.30092727,-11.09186833,-0.970214667,-1.101420381,0.959775614,-16.73522379,-14.70918078,-31.63498,-3.684222609,-41.02201027,-45.75961067,-18.81114101,-16.42554125,-7.013041031,-9.316790811,-10.57044051,-33.41519219,-5.883315789,-31.05259335,-38.6765687,-3.428835238,-19.78574851,-17.27104514,-21.01267307,-17.9089861,-26.4252543,-35.86348262,-9.506584667,-29.62011305,-31.62244894,-31.45910438,-26.01718061,-25.5937586,-18.45054018,-80.0400875,-100.793763,-100.3478996,-99.5811527,-98.615002,-101.2184867,-96.69549867,-98.09441245,-41.16064667,-39.73316282,-39.92093491,-13.09188479,-11.34937437,-4.71877549,7.004541667,-60.4958655,5.493851429,-4.330929125,-1.646586857,-18.9630296,-18.65162734,-28.2617947,-15.47295086,-30.87206137,-25.73708667,-17.78911115,-25.69500145,-6.690598095,-19.67749185,-25.02978597,-23.84008161,-22.30652,-31.39633886,-30.33386573,-28.67903971,-35.14537733,-11.059135,-15.14474109,-4.101818305,-9.93666867,-13.69800957,-18.06885752,-9.295090672,-14.65210971,-8.603829565,-12.23518208,-2.883395794,3.084357143,-13.38512882,-5.484164,0.321903298,-4.673825497,-15.91308293,-7.36146924,-11.601952,-8.913310306,-42.05272394,-58.95692088,-2.147337167,-61.24894305,-66.530239,-69.40538898,-16.94963143,-20.20948667,-20.23025629,-27.78574676,-24.44786368,-28.94543143,-33.67924298,-38.86416389,-39.8912642,-42.67860149,-38.89644161,-41.55115797,-31.56738227,-41.41965835,-30.05668667,-25.99110432,-38.77894034,-45.08971777,-62.3774501,-69.61408133,-37.35254208,-65.64535138,-47.08279067,-47.94450819,-66.57174552,-57.6806725,-56.70006471,-57.59924854,2.141117714,0.553883429,1.217273145,9.156768,3.921010667,7.098754534,7.479731412,6.139525143,-1.028744857,1.129600536,-4.479498667,11.01780383,-4.786697799,-7.099081333,-2.900987238,5.259022129,-8.28776323,-15.16253286,-50.10485046,-43.84057345,-20.38245718,-28.993184,-74.27956334,-57.05613672,-58.99463714,-73.64038121,-52.66540533,-46.96401457,-52.17798164,-42.38344933,-44.55701509,-35.61926952,-59.8437761,-66.00952476,-45.20257457,2.272871159,-24.92097067,-60.93192832,-61.66114429,-52.02315851,-45.41482262,-65.8870821,-59.03737455,-49.13330237,-29.944999,-39.03887005,-59.16029652,-44.91329837,-52.04638421,-52.68046227,-34.06315703,-51.23299876,-81.48674652,-60.82878325,-27.75257914,-40.615716,-46.21868933,-32.25445304,-34.85075714,-42.86287625,-58.14497146,-28.70804743,-29.96957619,-51.18539067,-43.79230016,-64.271412,-50.13028007,-45.99883432,-38.25214,-29.001412,-24.53690497,-28.56954773,-25.21215064,-51.51983649,-64.747095,-50.43153156,-70.83656933,-45.95279935,-36.77754178,-36.97431304,-52.15906782,-25.4799278,-8.609093084,-26.32428857,-84.14636,-82.96498,-82.80746,-79.246,-68.08431,-62.64994,-69.79732,-66.13502,-57.8296,-54.713,-57.2062,-58.2843,-59.36414,-61.23467,-60.05328,-43.494,-46.27285,-42.61056,-41.68514,-49.73825,-46.33192,-43.94946,-42.39397,-31.387,-32.66963,-39.20662,-37.06044,-32.64994,-39.36414,-33.3677,-26.57804,-26.77494,-27.56253,-22.71885,-29.49212,-25.41635,-25.4618,-22.26599,-19.31492,-11.9568,-16.12518,-15.98735,-11.77375,-11.2045,-18.36981,-17.73974,-14.90442,-9.314916,-8.094153,-10.456921,-1.222434,-6.1945,-5.731384,4.977446,6.4954,-0.5947494,0.7441527,10.76384],\"y\":[95.86970097,98.34736686,105.531576,85.11919619,88.54954267,77.77472,80.351252,82.70909714,75.82409401,89.40781657,98.53306229,100.1307978,100.5692092,85.04506755,77.02719052,82.96372814,86.10765266,85.29616635,104.3161573,104.4872907,104.5034411,102.8353679,86.49467744,95.28771062,107.525112,106.9914629,86.20745338,115.3560539,109.285201,120.7985667,113.1640033,87.68086518,107.7242429,113.7228677,104.8973871,111.5093353,102.4783549,117.612602,120.3503284,119.873547,121.5114816,97.1181028,90.92524233,96.00547745,82.99614333,87.2107575,80.37969702,88.860498,91.64478486,123.1188927,78.43012638,149.922979,140.8923356,139.7536376,142.3992175,148.7100133,144.0812844,113.24662,96.3416446,111.5008781,122.3045443,85.41514138,122.5960266,118.6669428,129.0447034,116.4094181,119.7839872,136.2810578,132.0985808,135.6421414,123.662627,130.8051815,129.7407148,139.1805794,132.3293989,131.1800298,136.4680276,135.4419983,141.6323199,138.5854925,139.9950704,134.702649,143.2286398,144.5117223,141.452916,149.7437673,135.7886081,129.4302928,148.8980511,147.9375081,145.0488265,142.5344245,130.5650093,144.4892955,129.9263817,155.2269872,150.6443552,147.5998112,141.5735606,150.2932019,152.1576349,154.1487041,153.6091877,147.2670105,149.7175643,147.3293567,135.0927363,148.6259799,149.9409567,152.3785745,140.2430958,137.6704921,146.9438328,139.1557724,155.6000522,136.0357043,135.9078147,153.7533924,145.4021884,143.7813359,147.1316737,145.8027457,153.0952278,150.7908792,145.2685239,148.0454856,149.7903661,142.6129877,146.2552103,155.5919847,145.62263,156.6022742,144.1373566,145.0063692,143.8484455,147.3931012,145.8831472,145.93957,152.8066188,151.5756583,83.28294,80.60513,85.8628,81.09737,101.2746,90.31217,104.7006,118.481,119.4655,121.629,126.0789,119.9184,127.0673,142.7316,144.0902,144.2674,151.1958,154.9172,61.39562391,22.29488814,48.78942838,60.68509933,77.24231806,62.67181938,45.96339541,47.77308082,80.59336367,62.20546824,72.66518112,71.132852,3.661438659,12.41163467,40.88877161,49.73902457,74.36834876,58.72901398,57.81202571,73.25266903,43.280443,76.57974267,59.70660391,14.21862546,83.77907886,53.87249423,11.68062366,79.38806,79.17753615,79.5017264,90.12105144,52.61685171,51.01104351,85.34171829,13.69239645,9.753753333,73.38996884,80.04219899,77.67130238,50.99806667,54.851973,10.52799649,93.44422701,60.67692382,71.26314307,81.18862365,83.26069743,75.15095502,52.33538372,92.620915,79.16582743,75.32552365,84.80327676,84.74432859,69.05706172,71.09835181,57.0680368,48.83765152,16.11237048,8.847342542,81.53936933,67.20044389,85.21727234,71.50158228,85.35868131,73.7884278,90.40291679,84.43096494,93.58312933,87.13747124,10.01766072,59.49331107,75.87889667,82.93201083,82.95283865,91.84376152,42.19041075,108.5148826,108.981916,52.62083967,106.6657674,61.58523686,65.33045471,58.10407029,81.48780766,109.694083,108.8521612,120.7187843,125.3305517,115.1939071,106.5826182,121.755362,101.7534391,125.466655,100.3982661,106.7018923,96.49986281,98.73511212,89.51142653,113.1713044,89.0582687,106.5429704,114.229152,100.5875039,105.5024725,99.48536037,106.6407206,126.8679454,110.2547015,98.33835579,104.6993637,97.60567565,93.7002,127.6360481,122.5399796,125.0750803,118.7230411,121.042114,103.9891685,127.3303587,118.2129548,119.4623426,115.7525987,121.7202521,130.2994724,132.7106863,84.73800696,57.17725771,63.67441974,64.05568506,64.13211571,63.57803857,65.44717238,64.92266082,104.4493693,109.4680707,106.6778969,118.0804011,137.7772238,13.84812451,23.59549,102.2441972,19.41666948,20.2928445,17.47972819,42.3682832,42.51463825,15.70429784,42.88988038,8.485619598,10.44674038,24.66935949,16.54076148,49.72451276,36.45218043,26.59853797,35.58692832,12.12235333,5.626359429,2.907323459,3.598538571,12.83804781,21.8502846,18.82510326,28.81178949,42.1022018,17.48616727,20.80237814,58.89740588,14.20317371,22.22068,25.53155401,24.44928234,12.85137943,23.16962608,22.97693067,25.36297713,29.02559614,19.1406085,61.68461228,11.650616,13.90776621,-0.318944394,4.96812146,8.8733685,7.909944762,7.427147,10.34906898,71.74829257,55.70627325,56.03150514,48.56813041,61.57301977,57.84716161,67.80925329,62.46519968,55.19798306,59.14324874,37.17328227,38.8420729,17.63833001,28.17128838,65.25714533,41.22527541,66.29875835,30.01578138,47.315436,48.07348533,30.81641938,21.16043231,22.12641333,25.21787333,47.204756,57.81795917,39.27407121,22.61315719,64.40213029,60.16771829,66.92785654,57.54668876,71.44016667,62.58893516,68.59563745,58.323828,68.91248914,71.11121482,66.127156,52.36532967,73.77888096,59.32604853,55.29820971,82.34198555,55.6569646,74.59968095,1.511377768,3.091691893,65.47596052,69.250824,41.73161398,32.56169672,52.14452743,33.91353359,8.185796,6.821372,4.378941281,56.49411867,68.98637917,56.00777619,65.59072248,23.30821952,9.288627714,49.02283551,69.08989467,79.11159821,78.64611429,34.43051143,13.76034762,16.91638248,23.515587,38.52826698,74.69281,3.565993622,31.27495377,-0.132877354,85.52256734,84.56854314,42.74553598,57.79036526,49.11636996,38.27663021,48.92443522,49.63081867,56.45468667,37.90019062,31.54198771,36.31789783,44.69947795,76.19336305,83.24034333,56.80349467,19.18281558,52.23652133,45.7442706,51.07242743,45.15325,87.892008,39.65303157,40.1044632,45.25440052,66.06245366,41.633555,32.90602742,38.04694933,19.65958551,19.00586822,38.85725913,38.50238222,77.17356441,75.07819673,59.06835467,37.92971,36.92554,33.89332,30.50907,40.82172,57.39809,85.42912,87.31933,0.1746,0.7044,6.7719,16.481,29.308,38.36289,99.13079,-2.3416,50.93986,79.34737,84.44463,86.92554,96.76802,102.4166,114.1493,26.5007,29.44582,37.47685,79.1111,90.52876,117.4572,115.6314,-0.1603819,31.64869,37.92971,48.97327,47.47685,96.35453,102.9989,118.7173,29.95776,27.5647,35.09439,34.83842,59.60334,88.6517,108.166,113.5192,111.9637,29.81993,40.31217,37.20119,45.13377,92.8805,106.3545,44.20835,47.9617,87.14212,85.94105,30.70597],\"type\":\"scatter\"},{\"marker\":{\"color\":\"black\"},\"x\":[-4.352596,-22.809794172088516],\"y\":[-25.27437571,-5.018566541428784],\"type\":\"scatter\"},{\"marker\":{\"color\":\"black\"},\"x\":[15.04316711,-22.809794172088516],\"y\":[-16.67449933,-5.018566541428784],\"type\":\"scatter\"},{\"marker\":{\"color\":\"black\"},\"x\":[-17.93511505,-22.809794172088516],\"y\":[-26.03976419,-5.018566541428784],\"type\":\"scatter\"},{\"marker\":{\"color\":\"black\"},\"x\":[-62.3774501],\"y\":[47.315436],\"type\":\"scatter\"}],                        {\"template\":{\"data\":{\"histogram2dcontour\":[{\"type\":\"histogram2dcontour\",\"colorbar\":{\"outlinewidth\":0,\"ticks\":\"\"},\"colorscale\":[[0.0,\"#0d0887\"],[0.1111111111111111,\"#46039f\"],[0.2222222222222222,\"#7201a8\"],[0.3333333333333333,\"#9c179e\"],[0.4444444444444444,\"#bd3786\"],[0.5555555555555556,\"#d8576b\"],[0.6666666666666666,\"#ed7953\"],[0.7777777777777778,\"#fb9f3a\"],[0.8888888888888888,\"#fdca26\"],[1.0,\"#f0f921\"]]}],\"choropleth\":[{\"type\":\"choropleth\",\"colorbar\":{\"outlinewidth\":0,\"ticks\":\"\"}}],\"histogram2d\":[{\"type\":\"histogram2d\",\"colorbar\":{\"outlinewidth\":0,\"ticks\":\"\"},\"colorscale\":[[0.0,\"#0d0887\"],[0.1111111111111111,\"#46039f\"],[0.2222222222222222,\"#7201a8\"],[0.3333333333333333,\"#9c179e\"],[0.4444444444444444,\"#bd3786\"],[0.5555555555555556,\"#d8576b\"],[0.6666666666666666,\"#ed7953\"],[0.7777777777777778,\"#fb9f3a\"],[0.8888888888888888,\"#fdca26\"],[1.0,\"#f0f921\"]]}],\"heatmap\":[{\"type\":\"heatmap\",\"colorbar\":{\"outlinewidth\":0,\"ticks\":\"\"},\"colorscale\":[[0.0,\"#0d0887\"],[0.1111111111111111,\"#46039f\"],[0.2222222222222222,\"#7201a8\"],[0.3333333333333333,\"#9c179e\"],[0.4444444444444444,\"#bd3786\"],[0.5555555555555556,\"#d8576b\"],[0.6666666666666666,\"#ed7953\"],[0.7777777777777778,\"#fb9f3a\"],[0.8888888888888888,\"#fdca26\"],[1.0,\"#f0f921\"]]}],\"heatmapgl\":[{\"type\":\"heatmapgl\",\"colorbar\":{\"outlinewidth\":0,\"ticks\":\"\"},\"colorscale\":[[0.0,\"#0d0887\"],[0.1111111111111111,\"#46039f\"],[0.2222222222222222,\"#7201a8\"],[0.3333333333333333,\"#9c179e\"],[0.4444444444444444,\"#bd3786\"],[0.5555555555555556,\"#d8576b\"],[0.6666666666666666,\"#ed7953\"],[0.7777777777777778,\"#fb9f3a\"],[0.8888888888888888,\"#fdca26\"],[1.0,\"#f0f921\"]]}],\"contourcarpet\":[{\"type\":\"contourcarpet\",\"colorbar\":{\"outlinewidth\":0,\"ticks\":\"\"}}],\"contour\":[{\"type\":\"contour\",\"colorbar\":{\"outlinewidth\":0,\"ticks\":\"\"},\"colorscale\":[[0.0,\"#0d0887\"],[0.1111111111111111,\"#46039f\"],[0.2222222222222222,\"#7201a8\"],[0.3333333333333333,\"#9c179e\"],[0.4444444444444444,\"#bd3786\"],[0.5555555555555556,\"#d8576b\"],[0.6666666666666666,\"#ed7953\"],[0.7777777777777778,\"#fb9f3a\"],[0.8888888888888888,\"#fdca26\"],[1.0,\"#f0f921\"]]}],\"surface\":[{\"type\":\"surface\",\"colorbar\":{\"outlinewidth\":0,\"ticks\":\"\"},\"colorscale\":[[0.0,\"#0d0887\"],[0.1111111111111111,\"#46039f\"],[0.2222222222222222,\"#7201a8\"],[0.3333333333333333,\"#9c179e\"],[0.4444444444444444,\"#bd3786\"],[0.5555555555555556,\"#d8576b\"],[0.6666666666666666,\"#ed7953\"],[0.7777777777777778,\"#fb9f3a\"],[0.8888888888888888,\"#fdca26\"],[1.0,\"#f0f921\"]]}],\"mesh3d\":[{\"type\":\"mesh3d\",\"colorbar\":{\"outlinewidth\":0,\"ticks\":\"\"}}],\"scatter\":[{\"fillpattern\":{\"fillmode\":\"overlay\",\"size\":10,\"solidity\":0.2},\"type\":\"scatter\"}],\"parcoords\":[{\"type\":\"parcoords\",\"line\":{\"colorbar\":{\"outlinewidth\":0,\"ticks\":\"\"}}}],\"scatterpolargl\":[{\"type\":\"scatterpolargl\",\"marker\":{\"colorbar\":{\"outlinewidth\":0,\"ticks\":\"\"}}}],\"bar\":[{\"error_x\":{\"color\":\"#2a3f5f\"},\"error_y\":{\"color\":\"#2a3f5f\"},\"marker\":{\"line\":{\"color\":\"#E5ECF6\",\"width\":0.5},\"pattern\":{\"fillmode\":\"overlay\",\"size\":10,\"solidity\":0.2}},\"type\":\"bar\"}],\"scattergeo\":[{\"type\":\"scattergeo\",\"marker\":{\"colorbar\":{\"outlinewidth\":0,\"ticks\":\"\"}}}],\"scatterpolar\":[{\"type\":\"scatterpolar\",\"marker\":{\"colorbar\":{\"outlinewidth\":0,\"ticks\":\"\"}}}],\"histogram\":[{\"marker\":{\"pattern\":{\"fillmode\":\"overlay\",\"size\":10,\"solidity\":0.2}},\"type\":\"histogram\"}],\"scattergl\":[{\"type\":\"scattergl\",\"marker\":{\"colorbar\":{\"outlinewidth\":0,\"ticks\":\"\"}}}],\"scatter3d\":[{\"type\":\"scatter3d\",\"line\":{\"colorbar\":{\"outlinewidth\":0,\"ticks\":\"\"}},\"marker\":{\"colorbar\":{\"outlinewidth\":0,\"ticks\":\"\"}}}],\"scattermapbox\":[{\"type\":\"scattermapbox\",\"marker\":{\"colorbar\":{\"outlinewidth\":0,\"ticks\":\"\"}}}],\"scatterternary\":[{\"type\":\"scatterternary\",\"marker\":{\"colorbar\":{\"outlinewidth\":0,\"ticks\":\"\"}}}],\"scattercarpet\":[{\"type\":\"scattercarpet\",\"marker\":{\"colorbar\":{\"outlinewidth\":0,\"ticks\":\"\"}}}],\"carpet\":[{\"aaxis\":{\"endlinecolor\":\"#2a3f5f\",\"gridcolor\":\"white\",\"linecolor\":\"white\",\"minorgridcolor\":\"white\",\"startlinecolor\":\"#2a3f5f\"},\"baxis\":{\"endlinecolor\":\"#2a3f5f\",\"gridcolor\":\"white\",\"linecolor\":\"white\",\"minorgridcolor\":\"white\",\"startlinecolor\":\"#2a3f5f\"},\"type\":\"carpet\"}],\"table\":[{\"cells\":{\"fill\":{\"color\":\"#EBF0F8\"},\"line\":{\"color\":\"white\"}},\"header\":{\"fill\":{\"color\":\"#C8D4E3\"},\"line\":{\"color\":\"white\"}},\"type\":\"table\"}],\"barpolar\":[{\"marker\":{\"line\":{\"color\":\"#E5ECF6\",\"width\":0.5},\"pattern\":{\"fillmode\":\"overlay\",\"size\":10,\"solidity\":0.2}},\"type\":\"barpolar\"}],\"pie\":[{\"automargin\":true,\"type\":\"pie\"}]},\"layout\":{\"autotypenumbers\":\"strict\",\"colorway\":[\"#636efa\",\"#EF553B\",\"#00cc96\",\"#ab63fa\",\"#FFA15A\",\"#19d3f3\",\"#FF6692\",\"#B6E880\",\"#FF97FF\",\"#FECB52\"],\"font\":{\"color\":\"#2a3f5f\"},\"hovermode\":\"closest\",\"hoverlabel\":{\"align\":\"left\"},\"paper_bgcolor\":\"white\",\"plot_bgcolor\":\"#E5ECF6\",\"polar\":{\"bgcolor\":\"#E5ECF6\",\"angularaxis\":{\"gridcolor\":\"white\",\"linecolor\":\"white\",\"ticks\":\"\"},\"radialaxis\":{\"gridcolor\":\"white\",\"linecolor\":\"white\",\"ticks\":\"\"}},\"ternary\":{\"bgcolor\":\"#E5ECF6\",\"aaxis\":{\"gridcolor\":\"white\",\"linecolor\":\"white\",\"ticks\":\"\"},\"baxis\":{\"gridcolor\":\"white\",\"linecolor\":\"white\",\"ticks\":\"\"},\"caxis\":{\"gridcolor\":\"white\",\"linecolor\":\"white\",\"ticks\":\"\"}},\"coloraxis\":{\"colorbar\":{\"outlinewidth\":0,\"ticks\":\"\"}},\"colorscale\":{\"sequential\":[[0.0,\"#0d0887\"],[0.1111111111111111,\"#46039f\"],[0.2222222222222222,\"#7201a8\"],[0.3333333333333333,\"#9c179e\"],[0.4444444444444444,\"#bd3786\"],[0.5555555555555556,\"#d8576b\"],[0.6666666666666666,\"#ed7953\"],[0.7777777777777778,\"#fb9f3a\"],[0.8888888888888888,\"#fdca26\"],[1.0,\"#f0f921\"]],\"sequentialminus\":[[0.0,\"#0d0887\"],[0.1111111111111111,\"#46039f\"],[0.2222222222222222,\"#7201a8\"],[0.3333333333333333,\"#9c179e\"],[0.4444444444444444,\"#bd3786\"],[0.5555555555555556,\"#d8576b\"],[0.6666666666666666,\"#ed7953\"],[0.7777777777777778,\"#fb9f3a\"],[0.8888888888888888,\"#fdca26\"],[1.0,\"#f0f921\"]],\"diverging\":[[0,\"#8e0152\"],[0.1,\"#c51b7d\"],[0.2,\"#de77ae\"],[0.3,\"#f1b6da\"],[0.4,\"#fde0ef\"],[0.5,\"#f7f7f7\"],[0.6,\"#e6f5d0\"],[0.7,\"#b8e186\"],[0.8,\"#7fbc41\"],[0.9,\"#4d9221\"],[1,\"#276419\"]]},\"xaxis\":{\"gridcolor\":\"white\",\"linecolor\":\"white\",\"ticks\":\"\",\"title\":{\"standoff\":15},\"zerolinecolor\":\"white\",\"automargin\":true,\"zerolinewidth\":2},\"yaxis\":{\"gridcolor\":\"white\",\"linecolor\":\"white\",\"ticks\":\"\",\"title\":{\"standoff\":15},\"zerolinecolor\":\"white\",\"automargin\":true,\"zerolinewidth\":2},\"scene\":{\"xaxis\":{\"backgroundcolor\":\"#E5ECF6\",\"gridcolor\":\"white\",\"linecolor\":\"white\",\"showbackground\":true,\"ticks\":\"\",\"zerolinecolor\":\"white\",\"gridwidth\":2},\"yaxis\":{\"backgroundcolor\":\"#E5ECF6\",\"gridcolor\":\"white\",\"linecolor\":\"white\",\"showbackground\":true,\"ticks\":\"\",\"zerolinecolor\":\"white\",\"gridwidth\":2},\"zaxis\":{\"backgroundcolor\":\"#E5ECF6\",\"gridcolor\":\"white\",\"linecolor\":\"white\",\"showbackground\":true,\"ticks\":\"\",\"zerolinecolor\":\"white\",\"gridwidth\":2}},\"shapedefaults\":{\"line\":{\"color\":\"#2a3f5f\"}},\"annotationdefaults\":{\"arrowcolor\":\"#2a3f5f\",\"arrowhead\":0,\"arrowwidth\":1},\"geo\":{\"bgcolor\":\"white\",\"landcolor\":\"#E5ECF6\",\"subunitcolor\":\"white\",\"showland\":true,\"showlakes\":true,\"lakecolor\":\"white\"},\"title\":{\"x\":0.05},\"mapbox\":{\"style\":\"light\"}}},\"title\":{\"text\":\"P-Median\"},\"width\":1200,\"height\":800},                        {\"responsive\": true}                    ).then(function(){\n",
       "                            \n",
       "var gd = document.getElementById('fdb720c2-2f1a-4d48-9881-b9a5da362679');\n",
       "var x = new MutationObserver(function (mutations, observer) {{\n",
       "        var display = window.getComputedStyle(gd).display;\n",
       "        if (!display || display === 'none') {{\n",
       "            console.log([gd, 'removed!']);\n",
       "            Plotly.purge(gd);\n",
       "            observer.disconnect();\n",
       "        }}\n",
       "}});\n",
       "\n",
       "// Listen for the removal of the full notebook cells\n",
       "var notebookContainer = gd.closest('#notebook-container');\n",
       "if (notebookContainer) {{\n",
       "    x.observe(notebookContainer, {childList: true});\n",
       "}}\n",
       "\n",
       "// Listen for the clearing of the current output cell\n",
       "var outputEl = gd.closest('.output');\n",
       "if (outputEl) {{\n",
       "    x.observe(outputEl, {childList: true});\n",
       "}}\n",
       "\n",
       "                        })                };                });            </script>        </div>"
      ]
     },
     "metadata": {},
     "output_type": "display_data"
    },
    {
     "data": {
      "text/html": [
       "        <script type=\"text/javascript\">\n",
       "        window.PlotlyConfig = {MathJaxConfig: 'local'};\n",
       "        if (window.MathJax && window.MathJax.Hub && window.MathJax.Hub.Config) {window.MathJax.Hub.Config({SVG: {font: \"STIX-Web\"}});}\n",
       "        if (typeof require !== 'undefined') {\n",
       "        require.undef(\"plotly\");\n",
       "        requirejs.config({\n",
       "            paths: {\n",
       "                'plotly': ['https://cdn.plot.ly/plotly-2.18.2.min']\n",
       "            }\n",
       "        });\n",
       "        require(['plotly'], function(Plotly) {\n",
       "            window._Plotly = Plotly;\n",
       "        });\n",
       "        }\n",
       "        </script>\n",
       "        "
      ]
     },
     "metadata": {},
     "output_type": "display_data"
    },
    {
     "data": {
      "text/html": [
       "<div>                            <div id=\"0de56594-bad2-4acd-aae3-987f9c2dec88\" class=\"plotly-graph-div\" style=\"height:800px; width:1200px;\"></div>            <script type=\"text/javascript\">                require([\"plotly\"], function(Plotly) {                    window.PLOTLYENV=window.PLOTLYENV || {};                                    if (document.getElementById(\"0de56594-bad2-4acd-aae3-987f9c2dec88\")) {                    Plotly.newPlot(                        \"0de56594-bad2-4acd-aae3-987f9c2dec88\",                        [{\"marker\":{\"color\":\"black\"},\"x\":[-16.110041481745412,-103.6738],\"y\":[-0.6747373047348364,101.2746],\"type\":\"scatter\"},{\"marker\":{\"color\":\"red\"},\"mode\":\"markers\",\"name\":\"Trees covered by line 0\",\"x\":[-83.48467459,-88.19360784,-77.38716,-93.90127238,-97.02245733,-102.7610669,-106.9293573,-107.9110969,-110.3984335,-106.0132132,-96.73072895,-96.22606223,-98.31843957,-115.0619992,-108.786355,-114.5846122,-110.2887047,-103.1629812,-95.55933733,-74.37847497,-74.12546686,-83.96798843,-105.839508,-107.0136188,-89.62130667,-83.3753646,-102.8911694,-82.7508461,-78.26144619,-74.66894341,-85.630951,-104.5151239,-90.57745961,-72.9690587,-79.21758645,-87.31261084,-95.6665854,-78.82330588,-70.18942466,-70.13604975,-69.11292673,-105.2474193,-111.0155589,-110.4334077,-109.0691822,-113.8496183,-115.6880358,-116.3580906,-114.450469,-72.28254052,-115.5839619,-20.01427656,-46.08530939,-39.1687174,-41.69020833,-20.15441667,-30.51452551,-65.84327489,-100.4964897,-87.83312994,-67.58248429,-113.9290292,-65.91586274,-66.154401,-61.06820181,-65.06967068,-64.15900983,-55.91586735,-61.14652818,-60.13371324,-64.44548,-64.87632182,-57.75133942,-51.72634937,-54.22529924,-56.03364748,-51.34979148,-57.75406087,-47.45566976,-54.71720264,-48.32035725,-48.23730243,-37.09976663,-37.47195419,-38.754948,-28.88421312,-45.03471145,-52.09936048,-30.53919388,-33.86425279,-42.03635682,-43.77058695,-48.38149441,-33.38285971,-45.35963829,-20.31095449,-30.12933628,-38.2757944,-37.18284862,-26.71358941,-32.49283298,-29.93719601,-24.30442355,-43.69364112,-36.96231791,-29.73887306,-38.04231305,-26.46417652,-25.02255191,-22.40626011,-29.84199559,-34.43580671,-24.7515566,-38.15196,-29.1106237,-43.13583476,-43.45710629,-17.46835571,-28.66212267,-26.34495444,-28.271429,-26.86485143,-28.02366579,-22.25938746,-23.30889411,-22.14285214,-19.53772261,-28.05956057,-21.99539808,-18.51068583,-21.1580461,-22.93293569,-23.63868957,-21.46493537,-24.29473288,-22.44136039,-20.74738784,-21.35527254,-14.66676903,-16.46067657,-120.5061,-118.8128,-108.5675,-103.0634,-103.6738,-95.93813,-74.75674,-80.30925,-77.59206,-76.80447,-72.7287,-65.68216,-57.6796,-50.2108,-46.54851,-46.70603,-35.52464,-14.96348,-68.21670068,-42.19841593,-35.66054857,-63.811228,-12.39504358,-84.08833116,-43.45665946,-29.52118366,-25.82151267,-35.64954472,-75.60631589,-63.83902737,-62.80450732,-47.87548267,-45.04949761,-92.01265714,-68.96079619,-93.82751185,-83.54479257,-72.90408841,-78.19297493,-54.49800107,-82.38238939,-63.16261606,-43.49902229,-34.33894197,-68.69947,-42.88247,-42.96844683,-42.88422773,-48.14191589,-77.894284,-34.36197702,-27.440446,-71.4853691,-72.662565,-54.42445327,-47.48895232,-17.82092298,-89.07298,-40.01723757,-70.08661831,-41.45272492,-88.87189632,-89.04238067,-65.83894297,-72.31511771,-37.40364779,-95.9302225,-47.03967,-81.16040829,-85.85650115,-44.76037486,-14.75707055,-56.52763129,-94.4786539,-96.535378,-27.90749342,-63.75294362,-5.417156102,-4.340797395,-63.91497622,-67.73621776,-63.74153257,-69.36194202,-42.45386268,-71.06100708,-80.33854904,-16.80794933,-77.01644229,-8.689096627,-95.71312916,-89.78213333,-55.73910528,-55.97405282,-14.61508286,-4.7308435,-46.56984086,-46.3035472,-58.99396885,-53.95952592,-101.3700811,-92.95359395,-100.9940699,-61.57447094,-1.514686918,-4.932367447,-10.04503957,-16.71623767,-28.12296714,-5.661616259,-7.976111714,-14.30092727,-11.09186833,-0.970214667,-1.101420381,0.959775614,-16.73522379,-14.70918078,-31.63498,-3.684222609,-41.02201027,-45.75961067,-18.81114101,-16.42554125,-7.013041031,-9.316790811,-10.57044051,-33.41519219,-5.883315789,-31.05259335,-38.6765687,-3.428835238,-19.78574851,-17.27104514,-21.01267307,-17.9089861,-26.4252543,-35.86348262,-9.506584667,-29.62011305,-31.62244894,-31.45910438,-26.01718061,-25.5937586,-18.45054018,-80.0400875,-100.793763,-100.3478996,-99.5811527,-98.615002,-101.2184867,-96.69549867,-98.09441245,-41.16064667,-39.73316282,-39.92093491,-13.09188479,-11.34937437,-4.71877549,7.004541667,-60.4958655,5.493851429,-4.330929125,-1.646586857,-18.9630296,-18.65162734,-28.2617947,-15.47295086,-30.87206137,-25.73708667,-17.78911115,-25.69500145,-6.690598095,-19.67749185,-25.02978597,-23.84008161,-22.30652,-31.39633886,-30.33386573,-28.67903971,-35.14537733,-11.059135,-15.14474109,-4.101818305,-9.93666867,-13.69800957,-18.06885752,-9.295090672,-14.65210971,-8.603829565,-12.23518208,-2.883395794,3.084357143,-13.38512882,-5.484164,0.321903298,-4.673825497,-15.91308293,-7.36146924,-11.601952,-8.913310306,-42.05272394,-58.95692088,-2.147337167,-61.24894305,-66.530239,-69.40538898,-16.94963143,-20.20948667,-20.23025629,-27.78574676,-24.44786368,-28.94543143,-33.67924298,-38.86416389,-39.8912642,-42.67860149,-38.89644161,-41.55115797,-31.56738227,-41.41965835,-30.05668667,-25.99110432,-38.77894034,-45.08971777,-62.3774501,-69.61408133,-37.35254208,-65.64535138,-47.08279067,-47.94450819,-66.57174552,-57.6806725,-56.70006471,-57.59924854,2.141117714,0.553883429,1.217273145,9.156768,3.921010667,7.098754534,7.479731412,6.139525143,-1.028744857,1.129600536,-4.479498667,11.01780383,-4.786697799,-7.099081333,-2.900987238,5.259022129,-8.28776323,-15.16253286,-50.10485046,-43.84057345,-20.38245718,-28.993184,-74.27956334,-57.05613672,-58.99463714,-73.64038121,-52.66540533,-46.96401457,-52.17798164,-42.38344933,-44.55701509,-35.61926952,-59.8437761,-66.00952476,-45.20257457,2.272871159,-24.92097067,-60.93192832,-61.66114429,-52.02315851,-45.41482262,-65.8870821,-59.03737455,-49.13330237,-29.944999,-39.03887005,-59.16029652,-44.91329837,-52.04638421,-52.68046227,-34.06315703,-51.23299876,-81.48674652,-60.82878325,-27.75257914,-40.615716,-46.21868933,-32.25445304,-34.85075714,-42.86287625,-58.14497146,-28.70804743,-29.96957619,-51.18539067,-43.79230016,-64.271412,-50.13028007,-45.99883432,-38.25214,-29.001412,-24.53690497,-28.56954773,-25.21215064,-51.51983649,-64.747095,-50.43153156,-70.83656933,-45.95279935,-36.77754178,-36.97431304,-52.15906782,-25.4799278,-8.609093084,-26.32428857,-84.14636,-82.96498,-82.80746,-79.246,-68.08431,-62.64994,-69.79732,-66.13502,-57.8296,-54.713,-57.2062,-58.2843,-59.36414,-61.23467,-60.05328,-43.494,-46.27285,-42.61056,-41.68514,-49.73825,-46.33192,-43.94946,-42.39397,-31.387,-32.66963,-39.20662,-37.06044,-32.64994,-39.36414,-33.3677,-26.57804,-26.77494,-27.56253,-22.71885,-29.49212,-25.41635,-25.4618,-22.26599,-19.31492,-11.9568,-16.12518,-15.98735,-11.77375,-11.2045,-18.36981,-17.73974,-14.90442,-9.314916,-8.094153,-10.456921,-1.222434,-6.1945,-5.731384,4.977446,6.4954,-0.5947494,0.7441527,10.76384],\"y\":[95.86970097,98.34736686,105.531576,85.11919619,88.54954267,77.77472,80.351252,82.70909714,75.82409401,89.40781657,98.53306229,100.1307978,100.5692092,85.04506755,77.02719052,82.96372814,86.10765266,85.29616635,104.3161573,104.4872907,104.5034411,102.8353679,86.49467744,95.28771062,107.525112,106.9914629,86.20745338,115.3560539,109.285201,120.7985667,113.1640033,87.68086518,107.7242429,113.7228677,104.8973871,111.5093353,102.4783549,117.612602,120.3503284,119.873547,121.5114816,97.1181028,90.92524233,96.00547745,82.99614333,87.2107575,80.37969702,88.860498,91.64478486,123.1188927,78.43012638,149.922979,140.8923356,139.7536376,142.3992175,148.7100133,144.0812844,113.24662,96.3416446,111.5008781,122.3045443,85.41514138,122.5960266,118.6669428,129.0447034,116.4094181,119.7839872,136.2810578,132.0985808,135.6421414,123.662627,130.8051815,129.7407148,139.1805794,132.3293989,131.1800298,136.4680276,135.4419983,141.6323199,138.5854925,139.9950704,134.702649,143.2286398,144.5117223,141.452916,149.7437673,135.7886081,129.4302928,148.8980511,147.9375081,145.0488265,142.5344245,130.5650093,144.4892955,129.9263817,155.2269872,150.6443552,147.5998112,141.5735606,150.2932019,152.1576349,154.1487041,153.6091877,147.2670105,149.7175643,147.3293567,135.0927363,148.6259799,149.9409567,152.3785745,140.2430958,137.6704921,146.9438328,139.1557724,155.6000522,136.0357043,135.9078147,153.7533924,145.4021884,143.7813359,147.1316737,145.8027457,153.0952278,150.7908792,145.2685239,148.0454856,149.7903661,142.6129877,146.2552103,155.5919847,145.62263,156.6022742,144.1373566,145.0063692,143.8484455,147.3931012,145.8831472,145.93957,152.8066188,151.5756583,83.28294,80.60513,85.8628,81.09737,101.2746,90.31217,104.7006,118.481,119.4655,121.629,126.0789,119.9184,127.0673,142.7316,144.0902,144.2674,151.1958,154.9172,61.39562391,22.29488814,48.78942838,60.68509933,77.24231806,62.67181938,45.96339541,47.77308082,80.59336367,62.20546824,72.66518112,71.132852,3.661438659,12.41163467,40.88877161,49.73902457,74.36834876,58.72901398,57.81202571,73.25266903,43.280443,76.57974267,59.70660391,14.21862546,83.77907886,53.87249423,11.68062366,79.38806,79.17753615,79.5017264,90.12105144,52.61685171,51.01104351,85.34171829,13.69239645,9.753753333,73.38996884,80.04219899,77.67130238,50.99806667,54.851973,10.52799649,93.44422701,60.67692382,71.26314307,81.18862365,83.26069743,75.15095502,52.33538372,92.620915,79.16582743,75.32552365,84.80327676,84.74432859,69.05706172,71.09835181,57.0680368,48.83765152,16.11237048,8.847342542,81.53936933,67.20044389,85.21727234,71.50158228,85.35868131,73.7884278,90.40291679,84.43096494,93.58312933,87.13747124,10.01766072,59.49331107,75.87889667,82.93201083,82.95283865,91.84376152,42.19041075,108.5148826,108.981916,52.62083967,106.6657674,61.58523686,65.33045471,58.10407029,81.48780766,109.694083,108.8521612,120.7187843,125.3305517,115.1939071,106.5826182,121.755362,101.7534391,125.466655,100.3982661,106.7018923,96.49986281,98.73511212,89.51142653,113.1713044,89.0582687,106.5429704,114.229152,100.5875039,105.5024725,99.48536037,106.6407206,126.8679454,110.2547015,98.33835579,104.6993637,97.60567565,93.7002,127.6360481,122.5399796,125.0750803,118.7230411,121.042114,103.9891685,127.3303587,118.2129548,119.4623426,115.7525987,121.7202521,130.2994724,132.7106863,84.73800696,57.17725771,63.67441974,64.05568506,64.13211571,63.57803857,65.44717238,64.92266082,104.4493693,109.4680707,106.6778969,118.0804011,137.7772238,13.84812451,23.59549,102.2441972,19.41666948,20.2928445,17.47972819,42.3682832,42.51463825,15.70429784,42.88988038,8.485619598,10.44674038,24.66935949,16.54076148,49.72451276,36.45218043,26.59853797,35.58692832,12.12235333,5.626359429,2.907323459,3.598538571,12.83804781,21.8502846,18.82510326,28.81178949,42.1022018,17.48616727,20.80237814,58.89740588,14.20317371,22.22068,25.53155401,24.44928234,12.85137943,23.16962608,22.97693067,25.36297713,29.02559614,19.1406085,61.68461228,11.650616,13.90776621,-0.318944394,4.96812146,8.8733685,7.909944762,7.427147,10.34906898,71.74829257,55.70627325,56.03150514,48.56813041,61.57301977,57.84716161,67.80925329,62.46519968,55.19798306,59.14324874,37.17328227,38.8420729,17.63833001,28.17128838,65.25714533,41.22527541,66.29875835,30.01578138,47.315436,48.07348533,30.81641938,21.16043231,22.12641333,25.21787333,47.204756,57.81795917,39.27407121,22.61315719,64.40213029,60.16771829,66.92785654,57.54668876,71.44016667,62.58893516,68.59563745,58.323828,68.91248914,71.11121482,66.127156,52.36532967,73.77888096,59.32604853,55.29820971,82.34198555,55.6569646,74.59968095,1.511377768,3.091691893,65.47596052,69.250824,41.73161398,32.56169672,52.14452743,33.91353359,8.185796,6.821372,4.378941281,56.49411867,68.98637917,56.00777619,65.59072248,23.30821952,9.288627714,49.02283551,69.08989467,79.11159821,78.64611429,34.43051143,13.76034762,16.91638248,23.515587,38.52826698,74.69281,3.565993622,31.27495377,-0.132877354,85.52256734,84.56854314,42.74553598,57.79036526,49.11636996,38.27663021,48.92443522,49.63081867,56.45468667,37.90019062,31.54198771,36.31789783,44.69947795,76.19336305,83.24034333,56.80349467,19.18281558,52.23652133,45.7442706,51.07242743,45.15325,87.892008,39.65303157,40.1044632,45.25440052,66.06245366,41.633555,32.90602742,38.04694933,19.65958551,19.00586822,38.85725913,38.50238222,77.17356441,75.07819673,59.06835467,37.92971,36.92554,33.89332,30.50907,40.82172,57.39809,85.42912,87.31933,0.1746,0.7044,6.7719,16.481,29.308,38.36289,99.13079,-2.3416,50.93986,79.34737,84.44463,86.92554,96.76802,102.4166,114.1493,26.5007,29.44582,37.47685,79.1111,90.52876,117.4572,115.6314,-0.1603819,31.64869,37.92971,48.97327,47.47685,96.35453,102.9989,118.7173,29.95776,27.5647,35.09439,34.83842,59.60334,88.6517,108.166,113.5192,111.9637,29.81993,40.31217,37.20119,45.13377,92.8805,106.3545,44.20835,47.9617,87.14212,85.94105,30.70597],\"type\":\"scatter\"},{\"marker\":{\"color\":\"black\"},\"x\":[5.750624681,-16.110041481745412],\"y\":[-23.50333184,-0.6747373047348364],\"type\":\"scatter\"},{\"marker\":{\"color\":\"black\"},\"x\":[15.04316711,-16.110041481745412],\"y\":[-16.67449933,-0.6747373047348364],\"type\":\"scatter\"},{\"marker\":{\"color\":\"black\"},\"x\":[-15.12792573,-16.110041481745412],\"y\":[-26.16056076,-0.6747373047348364],\"type\":\"scatter\"},{\"marker\":{\"color\":\"black\"},\"x\":[],\"y\":[],\"type\":\"scatter\"}],                        {\"template\":{\"data\":{\"histogram2dcontour\":[{\"type\":\"histogram2dcontour\",\"colorbar\":{\"outlinewidth\":0,\"ticks\":\"\"},\"colorscale\":[[0.0,\"#0d0887\"],[0.1111111111111111,\"#46039f\"],[0.2222222222222222,\"#7201a8\"],[0.3333333333333333,\"#9c179e\"],[0.4444444444444444,\"#bd3786\"],[0.5555555555555556,\"#d8576b\"],[0.6666666666666666,\"#ed7953\"],[0.7777777777777778,\"#fb9f3a\"],[0.8888888888888888,\"#fdca26\"],[1.0,\"#f0f921\"]]}],\"choropleth\":[{\"type\":\"choropleth\",\"colorbar\":{\"outlinewidth\":0,\"ticks\":\"\"}}],\"histogram2d\":[{\"type\":\"histogram2d\",\"colorbar\":{\"outlinewidth\":0,\"ticks\":\"\"},\"colorscale\":[[0.0,\"#0d0887\"],[0.1111111111111111,\"#46039f\"],[0.2222222222222222,\"#7201a8\"],[0.3333333333333333,\"#9c179e\"],[0.4444444444444444,\"#bd3786\"],[0.5555555555555556,\"#d8576b\"],[0.6666666666666666,\"#ed7953\"],[0.7777777777777778,\"#fb9f3a\"],[0.8888888888888888,\"#fdca26\"],[1.0,\"#f0f921\"]]}],\"heatmap\":[{\"type\":\"heatmap\",\"colorbar\":{\"outlinewidth\":0,\"ticks\":\"\"},\"colorscale\":[[0.0,\"#0d0887\"],[0.1111111111111111,\"#46039f\"],[0.2222222222222222,\"#7201a8\"],[0.3333333333333333,\"#9c179e\"],[0.4444444444444444,\"#bd3786\"],[0.5555555555555556,\"#d8576b\"],[0.6666666666666666,\"#ed7953\"],[0.7777777777777778,\"#fb9f3a\"],[0.8888888888888888,\"#fdca26\"],[1.0,\"#f0f921\"]]}],\"heatmapgl\":[{\"type\":\"heatmapgl\",\"colorbar\":{\"outlinewidth\":0,\"ticks\":\"\"},\"colorscale\":[[0.0,\"#0d0887\"],[0.1111111111111111,\"#46039f\"],[0.2222222222222222,\"#7201a8\"],[0.3333333333333333,\"#9c179e\"],[0.4444444444444444,\"#bd3786\"],[0.5555555555555556,\"#d8576b\"],[0.6666666666666666,\"#ed7953\"],[0.7777777777777778,\"#fb9f3a\"],[0.8888888888888888,\"#fdca26\"],[1.0,\"#f0f921\"]]}],\"contourcarpet\":[{\"type\":\"contourcarpet\",\"colorbar\":{\"outlinewidth\":0,\"ticks\":\"\"}}],\"contour\":[{\"type\":\"contour\",\"colorbar\":{\"outlinewidth\":0,\"ticks\":\"\"},\"colorscale\":[[0.0,\"#0d0887\"],[0.1111111111111111,\"#46039f\"],[0.2222222222222222,\"#7201a8\"],[0.3333333333333333,\"#9c179e\"],[0.4444444444444444,\"#bd3786\"],[0.5555555555555556,\"#d8576b\"],[0.6666666666666666,\"#ed7953\"],[0.7777777777777778,\"#fb9f3a\"],[0.8888888888888888,\"#fdca26\"],[1.0,\"#f0f921\"]]}],\"surface\":[{\"type\":\"surface\",\"colorbar\":{\"outlinewidth\":0,\"ticks\":\"\"},\"colorscale\":[[0.0,\"#0d0887\"],[0.1111111111111111,\"#46039f\"],[0.2222222222222222,\"#7201a8\"],[0.3333333333333333,\"#9c179e\"],[0.4444444444444444,\"#bd3786\"],[0.5555555555555556,\"#d8576b\"],[0.6666666666666666,\"#ed7953\"],[0.7777777777777778,\"#fb9f3a\"],[0.8888888888888888,\"#fdca26\"],[1.0,\"#f0f921\"]]}],\"mesh3d\":[{\"type\":\"mesh3d\",\"colorbar\":{\"outlinewidth\":0,\"ticks\":\"\"}}],\"scatter\":[{\"fillpattern\":{\"fillmode\":\"overlay\",\"size\":10,\"solidity\":0.2},\"type\":\"scatter\"}],\"parcoords\":[{\"type\":\"parcoords\",\"line\":{\"colorbar\":{\"outlinewidth\":0,\"ticks\":\"\"}}}],\"scatterpolargl\":[{\"type\":\"scatterpolargl\",\"marker\":{\"colorbar\":{\"outlinewidth\":0,\"ticks\":\"\"}}}],\"bar\":[{\"error_x\":{\"color\":\"#2a3f5f\"},\"error_y\":{\"color\":\"#2a3f5f\"},\"marker\":{\"line\":{\"color\":\"#E5ECF6\",\"width\":0.5},\"pattern\":{\"fillmode\":\"overlay\",\"size\":10,\"solidity\":0.2}},\"type\":\"bar\"}],\"scattergeo\":[{\"type\":\"scattergeo\",\"marker\":{\"colorbar\":{\"outlinewidth\":0,\"ticks\":\"\"}}}],\"scatterpolar\":[{\"type\":\"scatterpolar\",\"marker\":{\"colorbar\":{\"outlinewidth\":0,\"ticks\":\"\"}}}],\"histogram\":[{\"marker\":{\"pattern\":{\"fillmode\":\"overlay\",\"size\":10,\"solidity\":0.2}},\"type\":\"histogram\"}],\"scattergl\":[{\"type\":\"scattergl\",\"marker\":{\"colorbar\":{\"outlinewidth\":0,\"ticks\":\"\"}}}],\"scatter3d\":[{\"type\":\"scatter3d\",\"line\":{\"colorbar\":{\"outlinewidth\":0,\"ticks\":\"\"}},\"marker\":{\"colorbar\":{\"outlinewidth\":0,\"ticks\":\"\"}}}],\"scattermapbox\":[{\"type\":\"scattermapbox\",\"marker\":{\"colorbar\":{\"outlinewidth\":0,\"ticks\":\"\"}}}],\"scatterternary\":[{\"type\":\"scatterternary\",\"marker\":{\"colorbar\":{\"outlinewidth\":0,\"ticks\":\"\"}}}],\"scattercarpet\":[{\"type\":\"scattercarpet\",\"marker\":{\"colorbar\":{\"outlinewidth\":0,\"ticks\":\"\"}}}],\"carpet\":[{\"aaxis\":{\"endlinecolor\":\"#2a3f5f\",\"gridcolor\":\"white\",\"linecolor\":\"white\",\"minorgridcolor\":\"white\",\"startlinecolor\":\"#2a3f5f\"},\"baxis\":{\"endlinecolor\":\"#2a3f5f\",\"gridcolor\":\"white\",\"linecolor\":\"white\",\"minorgridcolor\":\"white\",\"startlinecolor\":\"#2a3f5f\"},\"type\":\"carpet\"}],\"table\":[{\"cells\":{\"fill\":{\"color\":\"#EBF0F8\"},\"line\":{\"color\":\"white\"}},\"header\":{\"fill\":{\"color\":\"#C8D4E3\"},\"line\":{\"color\":\"white\"}},\"type\":\"table\"}],\"barpolar\":[{\"marker\":{\"line\":{\"color\":\"#E5ECF6\",\"width\":0.5},\"pattern\":{\"fillmode\":\"overlay\",\"size\":10,\"solidity\":0.2}},\"type\":\"barpolar\"}],\"pie\":[{\"automargin\":true,\"type\":\"pie\"}]},\"layout\":{\"autotypenumbers\":\"strict\",\"colorway\":[\"#636efa\",\"#EF553B\",\"#00cc96\",\"#ab63fa\",\"#FFA15A\",\"#19d3f3\",\"#FF6692\",\"#B6E880\",\"#FF97FF\",\"#FECB52\"],\"font\":{\"color\":\"#2a3f5f\"},\"hovermode\":\"closest\",\"hoverlabel\":{\"align\":\"left\"},\"paper_bgcolor\":\"white\",\"plot_bgcolor\":\"#E5ECF6\",\"polar\":{\"bgcolor\":\"#E5ECF6\",\"angularaxis\":{\"gridcolor\":\"white\",\"linecolor\":\"white\",\"ticks\":\"\"},\"radialaxis\":{\"gridcolor\":\"white\",\"linecolor\":\"white\",\"ticks\":\"\"}},\"ternary\":{\"bgcolor\":\"#E5ECF6\",\"aaxis\":{\"gridcolor\":\"white\",\"linecolor\":\"white\",\"ticks\":\"\"},\"baxis\":{\"gridcolor\":\"white\",\"linecolor\":\"white\",\"ticks\":\"\"},\"caxis\":{\"gridcolor\":\"white\",\"linecolor\":\"white\",\"ticks\":\"\"}},\"coloraxis\":{\"colorbar\":{\"outlinewidth\":0,\"ticks\":\"\"}},\"colorscale\":{\"sequential\":[[0.0,\"#0d0887\"],[0.1111111111111111,\"#46039f\"],[0.2222222222222222,\"#7201a8\"],[0.3333333333333333,\"#9c179e\"],[0.4444444444444444,\"#bd3786\"],[0.5555555555555556,\"#d8576b\"],[0.6666666666666666,\"#ed7953\"],[0.7777777777777778,\"#fb9f3a\"],[0.8888888888888888,\"#fdca26\"],[1.0,\"#f0f921\"]],\"sequentialminus\":[[0.0,\"#0d0887\"],[0.1111111111111111,\"#46039f\"],[0.2222222222222222,\"#7201a8\"],[0.3333333333333333,\"#9c179e\"],[0.4444444444444444,\"#bd3786\"],[0.5555555555555556,\"#d8576b\"],[0.6666666666666666,\"#ed7953\"],[0.7777777777777778,\"#fb9f3a\"],[0.8888888888888888,\"#fdca26\"],[1.0,\"#f0f921\"]],\"diverging\":[[0,\"#8e0152\"],[0.1,\"#c51b7d\"],[0.2,\"#de77ae\"],[0.3,\"#f1b6da\"],[0.4,\"#fde0ef\"],[0.5,\"#f7f7f7\"],[0.6,\"#e6f5d0\"],[0.7,\"#b8e186\"],[0.8,\"#7fbc41\"],[0.9,\"#4d9221\"],[1,\"#276419\"]]},\"xaxis\":{\"gridcolor\":\"white\",\"linecolor\":\"white\",\"ticks\":\"\",\"title\":{\"standoff\":15},\"zerolinecolor\":\"white\",\"automargin\":true,\"zerolinewidth\":2},\"yaxis\":{\"gridcolor\":\"white\",\"linecolor\":\"white\",\"ticks\":\"\",\"title\":{\"standoff\":15},\"zerolinecolor\":\"white\",\"automargin\":true,\"zerolinewidth\":2},\"scene\":{\"xaxis\":{\"backgroundcolor\":\"#E5ECF6\",\"gridcolor\":\"white\",\"linecolor\":\"white\",\"showbackground\":true,\"ticks\":\"\",\"zerolinecolor\":\"white\",\"gridwidth\":2},\"yaxis\":{\"backgroundcolor\":\"#E5ECF6\",\"gridcolor\":\"white\",\"linecolor\":\"white\",\"showbackground\":true,\"ticks\":\"\",\"zerolinecolor\":\"white\",\"gridwidth\":2},\"zaxis\":{\"backgroundcolor\":\"#E5ECF6\",\"gridcolor\":\"white\",\"linecolor\":\"white\",\"showbackground\":true,\"ticks\":\"\",\"zerolinecolor\":\"white\",\"gridwidth\":2}},\"shapedefaults\":{\"line\":{\"color\":\"#2a3f5f\"}},\"annotationdefaults\":{\"arrowcolor\":\"#2a3f5f\",\"arrowhead\":0,\"arrowwidth\":1},\"geo\":{\"bgcolor\":\"white\",\"landcolor\":\"#E5ECF6\",\"subunitcolor\":\"white\",\"showland\":true,\"showlakes\":true,\"lakecolor\":\"white\"},\"title\":{\"x\":0.05},\"mapbox\":{\"style\":\"light\"}}},\"title\":{\"text\":\"P-Median\"},\"width\":1200,\"height\":800},                        {\"responsive\": true}                    ).then(function(){\n",
       "                            \n",
       "var gd = document.getElementById('0de56594-bad2-4acd-aae3-987f9c2dec88');\n",
       "var x = new MutationObserver(function (mutations, observer) {{\n",
       "        var display = window.getComputedStyle(gd).display;\n",
       "        if (!display || display === 'none') {{\n",
       "            console.log([gd, 'removed!']);\n",
       "            Plotly.purge(gd);\n",
       "            observer.disconnect();\n",
       "        }}\n",
       "}});\n",
       "\n",
       "// Listen for the removal of the full notebook cells\n",
       "var notebookContainer = gd.closest('#notebook-container');\n",
       "if (notebookContainer) {{\n",
       "    x.observe(notebookContainer, {childList: true});\n",
       "}}\n",
       "\n",
       "// Listen for the clearing of the current output cell\n",
       "var outputEl = gd.closest('.output');\n",
       "if (outputEl) {{\n",
       "    x.observe(outputEl, {childList: true});\n",
       "}}\n",
       "\n",
       "                        })                };                });            </script>        </div>"
      ]
     },
     "metadata": {},
     "output_type": "display_data"
    }
   ],
   "source": [
    "for result in optimization_result_list:\n",
    "    plotting_2d.plot_optimization_layout(result, line_gdf, harvesteable_trees_gdf)"
   ]
  },
  {
   "cell_type": "markdown",
   "metadata": {},
   "source": [
    "### Creating the reference table for AUGMECON approach\n"
   ]
  },
  {
   "cell_type": "code",
   "execution_count": 55,
   "metadata": {},
   "outputs": [
    {
     "data": {
      "text/html": [
       "<div>\n",
       "<style scoped>\n",
       "    .dataframe tbody tr th:only-of-type {\n",
       "        vertical-align: middle;\n",
       "    }\n",
       "\n",
       "    .dataframe tbody tr th {\n",
       "        vertical-align: top;\n",
       "    }\n",
       "\n",
       "    .dataframe thead th {\n",
       "        text-align: right;\n",
       "    }\n",
       "</style>\n",
       "<table border=\"1\" class=\"dataframe\">\n",
       "  <thead>\n",
       "    <tr style=\"text-align: right;\">\n",
       "      <th></th>\n",
       "      <th>overall_profit</th>\n",
       "      <th>sideways_slope_deviations</th>\n",
       "      <th>steep_downhill_segments</th>\n",
       "    </tr>\n",
       "  </thead>\n",
       "  <tbody>\n",
       "    <tr>\n",
       "      <th>0</th>\n",
       "      <td>63025.435582</td>\n",
       "      <td>384.964595</td>\n",
       "      <td>326.744007</td>\n",
       "    </tr>\n",
       "    <tr>\n",
       "      <th>1</th>\n",
       "      <td>51853.884670</td>\n",
       "      <td>114.831001</td>\n",
       "      <td>114.831001</td>\n",
       "    </tr>\n",
       "    <tr>\n",
       "      <th>2</th>\n",
       "      <td>53411.425962</td>\n",
       "      <td>134.391515</td>\n",
       "      <td>58.379281</td>\n",
       "    </tr>\n",
       "  </tbody>\n",
       "</table>\n",
       "</div>"
      ],
      "text/plain": [
       "   overall_profit  sideways_slope_deviations  steep_downhill_segments\n",
       "0    63025.435582                 384.964595               326.744007\n",
       "1    51853.884670                 114.831001               114.831001\n",
       "2    53411.425962                 134.391515                58.379281"
      ]
     },
     "metadata": {},
     "output_type": "display_data"
    }
   ],
   "source": [
    "columns_to_select = [\n",
    "    \"overall_profit\",\n",
    "    \"sideways_slope_deviations\",\n",
    "    \"steep_downhill_segments\",\n",
    "]\n",
    "display(results_df[columns_to_select])"
   ]
  },
  {
   "cell_type": "code",
   "execution_count": 108,
   "metadata": {},
   "outputs": [
    {
     "data": {
      "text/html": [
       "<div>\n",
       "<style scoped>\n",
       "    .dataframe tbody tr th:only-of-type {\n",
       "        vertical-align: middle;\n",
       "    }\n",
       "\n",
       "    .dataframe tbody tr th {\n",
       "        vertical-align: top;\n",
       "    }\n",
       "\n",
       "    .dataframe thead th {\n",
       "        text-align: right;\n",
       "    }\n",
       "</style>\n",
       "<table border=\"1\" class=\"dataframe\">\n",
       "  <thead>\n",
       "    <tr style=\"text-align: right;\">\n",
       "      <th></th>\n",
       "      <th>overall_profit</th>\n",
       "      <th>sideways_slope_deviations_rni</th>\n",
       "      <th>steep_downhill_segments_rni</th>\n",
       "    </tr>\n",
       "  </thead>\n",
       "  <tbody>\n",
       "    <tr>\n",
       "      <th>0</th>\n",
       "      <td>63025.435582</td>\n",
       "      <td>1.000000</td>\n",
       "      <td>1.00000</td>\n",
       "    </tr>\n",
       "    <tr>\n",
       "      <th>1</th>\n",
       "      <td>51853.884670</td>\n",
       "      <td>0.298290</td>\n",
       "      <td>0.35144</td>\n",
       "    </tr>\n",
       "    <tr>\n",
       "      <th>2</th>\n",
       "      <td>53411.425962</td>\n",
       "      <td>0.349101</td>\n",
       "      <td>0.17867</td>\n",
       "    </tr>\n",
       "  </tbody>\n",
       "</table>\n",
       "</div>"
      ],
      "text/plain": [
       "   overall_profit  sideways_slope_deviations_rni  steep_downhill_segments_rni\n",
       "0    63025.435582                       1.000000                      1.00000\n",
       "1    51853.884670                       0.298290                      0.35144\n",
       "2    53411.425962                       0.349101                      0.17867"
      ]
     },
     "metadata": {},
     "output_type": "display_data"
    }
   ],
   "source": [
    "# first normalize sideways and downhill for relative negative impact\n",
    "sideways_true_max = results_df[\"sideways_slope_deviations\"].max()\n",
    "downhill_true_max = results_df[\"steep_downhill_segments\"].max()\n",
    "\n",
    "results_df[\"sideways_slope_deviations_rni\"] = (\n",
    "    results_df[\"sideways_slope_deviations\"] / sideways_true_max\n",
    ")\n",
    "results_df[\"steep_downhill_segments_rni\"] = (\n",
    "    results_df[\"steep_downhill_segments\"] / downhill_true_max\n",
    ")\n",
    "columns_to_select = [\n",
    "    \"overall_profit\",\n",
    "    \"sideways_slope_deviations_rni\",\n",
    "    \"steep_downhill_segments_rni\",\n",
    "]\n",
    "display(results_df[columns_to_select])"
   ]
  },
  {
   "cell_type": "code",
   "execution_count": 110,
   "metadata": {},
   "outputs": [
    {
     "data": {
      "text/plain": [
       "'profit_range:'"
      ]
     },
     "metadata": {},
     "output_type": "display_data"
    },
    {
     "data": {
      "text/plain": [
       "array([51853.88467002, 53095.16810472, 54336.45153943, 55577.73497413,\n",
       "       56819.01840884, 58060.30184354, 59301.58527825, 60542.86871296,\n",
       "       61784.15214766, 63025.43558237])"
      ]
     },
     "metadata": {},
     "output_type": "display_data"
    },
    {
     "data": {
      "text/plain": [
       "'sideways_range:'"
      ]
     },
     "metadata": {},
     "output_type": "display_data"
    },
    {
     "data": {
      "text/plain": [
       "array([100.        ,  92.20321969,  84.40643937,  76.60965906,\n",
       "        68.81287874,  61.01609843,  53.21931811,  45.4225378 ,\n",
       "        37.62575748,  29.82897717])"
      ]
     },
     "metadata": {},
     "output_type": "display_data"
    },
    {
     "data": {
      "text/plain": [
       "'downhill_range:'"
      ]
     },
     "metadata": {},
     "output_type": "display_data"
    },
    {
     "data": {
      "text/plain": [
       "array([100.        ,  90.87410871,  81.74821742,  72.62232613,\n",
       "        63.49643484,  54.37054355,  45.24465226,  36.11876096,\n",
       "        26.99286967,  17.86697838])"
      ]
     },
     "metadata": {},
     "output_type": "display_data"
    }
   ],
   "source": [
    "# determine the ranges of the objectives and divide them in 10 equal parts\n",
    "# this is done to create a grid of points to evaluate the objective functions\n",
    "\n",
    "# first determine the ranges of the objectives\n",
    "max_overall_profit = results_df[\"overall_profit\"].max()\n",
    "min_overall_profit = results_df[\"overall_profit\"].min()\n",
    "max_sideways_slope_deviations_rni = (\n",
    "    results_df[\"sideways_slope_deviations_rni\"].max() * 100\n",
    ")\n",
    "min_sideways_slope_deviations_rni = (\n",
    "    results_df[\"sideways_slope_deviations_rni\"].min() * 100\n",
    ")\n",
    "max_steep_downhill_segments_rni = results_df[\"steep_downhill_segments_rni\"].max() * 100\n",
    "min_steep_downhill_segments_rni = results_df[\"steep_downhill_segments_rni\"].min() * 100\n",
    "\n",
    "# create a grid of points to evaluate the objective functions\n",
    "profit_range = np.linspace(min_overall_profit, max_overall_profit, 10)\n",
    "sideways_range, sideways_step = np.linspace(\n",
    "    max_sideways_slope_deviations_rni,\n",
    "    min_sideways_slope_deviations_rni,\n",
    "    10,\n",
    "    retstep=True,\n",
    ")\n",
    "downhill_range, downhill_step = np.linspace(\n",
    "    max_steep_downhill_segments_rni, min_steep_downhill_segments_rni, 10, retstep=True\n",
    ")\n",
    "\n",
    "display(\"profit_range:\", profit_range)\n",
    "display(\"sideways_range:\", sideways_range)\n",
    "display(\"downhill_range:\", downhill_range)"
   ]
  },
  {
   "cell_type": "code",
   "execution_count": null,
   "metadata": {},
   "outputs": [
    {
     "name": "stdout",
     "output_type": "stream",
     "text": [
      "i: 100.0\n",
      "j: 100.0\n"
     ]
    }
   ],
   "source": [
    "from itertools import islice\n",
    "\n",
    "reload(classes)\n",
    "reload(optimization_functions)\n",
    "\n",
    "\n",
    "def augmecon():\n",
    "    initial_model = classes.optimization_model(\n",
    "        \"Single Objective\",\n",
    "        line_gdf,\n",
    "        harvesteable_trees_gdf,\n",
    "        height_gdf,\n",
    "        slope_line,\n",
    "        objective_to_select=0,\n",
    "    )\n",
    "\n",
    "    initial_model.add_generic_vars_and_constraints()\n",
    "    # add the main monetary objective\n",
    "    initial_model.add_single_objective()\n",
    "\n",
    "    # set up the ranges at iteration objects so we can skip steps in the loop\n",
    "    i_range = iter(sideways_range)\n",
    "    j_range = iter(downhill_range)\n",
    "\n",
    "    for i in i_range:\n",
    "        print(\"i:\", i)\n",
    "        initial_model.add_epsilon_constraint(target_value=i, objective_to_select=1)\n",
    "\n",
    "        (\n",
    "            cost_objective,\n",
    "            sideways_objective,\n",
    "            steep_objective,\n",
    "        ) = initial_model.get_objective_values(sideways_true_max, downhill_true_max)\n",
    "        # determine the slack variable of the sideways constraint - this is the value of the objective function minus the expected value as per the sideways range\n",
    "        i_slack = sideways_objective - i\n",
    "\n",
    "        # loop through the inner objective\n",
    "        for j in j_range:\n",
    "            print(\"j:\", j)\n",
    "            initial_model.add_epsilon_constraint(target_value=j, objective_to_select=2)\n",
    "\n",
    "            initial_model.solve()\n",
    "\n",
    "            (\n",
    "                cost_objective,\n",
    "                sideways_objective,\n",
    "                steep_objective,\n",
    "            ) = initial_model.get_objective_values(sideways_true_max, downhill_true_max)\n",
    "\n",
    "            # determine the slack variable of the downhill constraint - this is the value of the objective function minus the expected value as per the downhill range\n",
    "            j_slack = steep_objective - j\n",
    "\n",
    "            # the expected value as per the downhill range. If the slack variable is greater than what we would constrain for the next step, we skip those iterations\n",
    "            j_bypass = np.floor(j_slack / downhill_step)\n",
    "            if j_bypass < 0:\n",
    "                # for iterator j, skip j_bypass steps\n",
    "                next(islice(j_range, j_bypass, j_bypass), None)\n",
    "\n",
    "            # add the epsilon objective for the remaining objectives\n",
    "            initial_model.add_epsilon_objective(\n",
    "                i_slack, j_slack, sideways_range, downhill_range\n",
    "            )\n",
    "\n",
    "\n",
    "augmecon()"
   ]
  },
  {
   "cell_type": "code",
   "execution_count": 24,
   "metadata": {},
   "outputs": [
    {
     "data": {
      "application/vnd.plotly.v1+json": {
       "config": {
        "plotlyServerURL": "https://plot.ly"
       },
       "data": [
        {
         "mode": "lines",
         "type": "scatter",
         "uid": "753250f8-f019-4650-bb3f-f3ecbf313488",
         "x": [
          -29.880646898378075,
          -8.757599103801436,
          -28.09774993774453,
          -7.853619242961038,
          -26.335098015859195,
          -6.90860167578362,
          -26.335098015859195,
          -6.90860167578362,
          -26.335098015859195,
          -6.90860167578362,
          -26.335098015859195,
          -6.90860167578362,
          -26.335098015859195,
          -6.90860167578362,
          -26.335098015859195,
          -6.90860167578362,
          -26.335098015859195,
          -6.90860167578362,
          -24.572446093973856,
          -5.963584108606202,
          -24.572446093973856,
          -5.963584108606202,
          -24.572446093973856,
          -5.963584108606202,
          -24.572446093973856,
          -5.963584108606202,
          -22.809794172088516,
          -5.018566541428784,
          -22.809794172088516,
          -5.018566541428784,
          -22.809794172088516,
          -5.018566541428784,
          -22.809794172088516,
          -5.018566541428784,
          -22.809794172088516,
          -5.018566541428784,
          -22.809794172088516,
          -5.018566541428784,
          -22.809794172088516,
          -5.018566541428784,
          -22.809794172088516,
          -5.018566541428784,
          -22.809794172088516,
          -5.018566541428784,
          -22.809794172088516,
          -5.018566541428784,
          -21.04714225020318,
          -4.073548974251366,
          -21.04714225020318,
          -4.073548974251366,
          -21.04714225020318,
          -4.073548974251366,
          -21.04714225020318,
          -4.073548974251366,
          -21.04714225020318,
          -4.073548974251366,
          -21.04714225020318,
          -4.073548974251366,
          -19.362655444150658,
          -3.0029345497221347,
          -19.362655444150658,
          -3.0029345497221347,
          -19.362655444150658,
          -3.0029345497221347,
          -19.362655444150658,
          -3.0029345497221347,
          -19.362655444150658,
          -3.0029345497221347,
          -19.362655444150658,
          -3.0029345497221347,
          -19.362655444150658,
          -3.0029345497221347,
          -19.362655444150658,
          -3.0029345497221347,
          -19.362655444150658,
          -3.0029345497221347,
          -19.362655444150658,
          -3.0029345497221347,
          -17.736348462948033,
          -1.8388359272284855,
          -17.736348462948033,
          -1.8388359272284855,
          -17.736348462948033,
          -1.8388359272284855,
          -17.736348462948033,
          -1.8388359272284855,
          -17.736348462948033,
          -1.8388359272284855,
          -17.736348462948033,
          -1.8388359272284855,
          -17.736348462948033,
          -1.8388359272284855,
          -17.736348462948033,
          -1.8388359272284855,
          -17.736348462948033,
          -1.8388359272284855,
          -17.736348462948033,
          -1.8388359272284855,
          -17.736348462948033,
          -1.8388359272284855,
          -16.110041481745412,
          -0.6747373047348364,
          -16.110041481745412,
          -0.6747373047348364,
          -16.110041481745412,
          -0.6747373047348364,
          -16.110041481745412,
          -0.6747373047348364,
          -16.110041481745412,
          -0.6747373047348364,
          -16.110041481745412,
          -0.6747373047348364,
          -16.110041481745412,
          -0.6747373047348364,
          -16.110041481745412,
          -0.6747373047348364,
          -14.332943013797312,
          0.19120298599861893,
          -14.332943013797312,
          0.19120298599861893,
          -14.332943013797312,
          0.19120298599861893,
          -14.332943013797312,
          0.19120298599861893,
          -12.431484298628272,
          0.8112471412873389,
          -12.431484298628272,
          0.8112471412873389,
          -12.431484298628272,
          0.8112471412873389,
          -12.431484298628272,
          0.8112471412873389,
          -10.530025583459231,
          1.431291296576059,
          -10.530025583459231,
          1.431291296576059,
          -10.530025583459231,
          1.431291296576059,
          -10.530025583459231,
          1.431291296576059,
          -8.628566868290193,
          2.051335451864779,
          -8.628566868290193,
          2.051335451864779,
          -8.628566868290193,
          2.051335451864779,
          -8.628566868290193,
          2.051335451864779,
          -6.727108153121151,
          2.6713796071534985
         ],
         "y": [
          -106.0132132,
          89.40781657,
          -96.73072895,
          98.53306229,
          -83.48467459,
          95.86970097,
          -83.96798843,
          102.8353679,
          -89.62130667,
          107.525112,
          -83.3753646,
          106.9914629,
          -85.630951,
          113.1640033,
          -79.21758645,
          104.8973871,
          -87.31261084,
          111.5093353,
          -74.37847497,
          104.4872907,
          -72.9690587,
          113.7228677,
          -78.82330588,
          117.612602,
          -74.75674,
          104.7006,
          -93.90127238,
          85.11919619,
          -97.02245733,
          88.54954267,
          -102.7610669,
          77.77472,
          -107.9110969,
          82.70909714,
          -110.3984335,
          75.82409401,
          -67.58248429,
          122.3045443,
          -65.91586274,
          122.5960266,
          -64.44548,
          123.662627,
          -103.0634,
          81.09737,
          -65.68216,
          119.9184,
          -97.02245733,
          88.54954267,
          -106.0132132,
          89.40781657,
          -48.38149441,
          130.5650093,
          -45.35963829,
          129.9263817,
          -103.0634,
          81.09737,
          -103.6738,
          101.2746,
          -83.48467459,
          95.86970097,
          -88.19360784,
          98.34736686,
          -102.7610669,
          77.77472,
          -107.9110969,
          82.70909714,
          -83.96798843,
          102.8353679,
          -89.62130667,
          107.525112,
          -83.3753646,
          106.9914629,
          -87.31261084,
          111.5093353,
          -34.43580671,
          137.6704921,
          -103.6738,
          101.2746,
          -83.48467459,
          95.86970097,
          -106.0132132,
          89.40781657,
          -74.37847497,
          104.4872907,
          -83.96798843,
          102.8353679,
          -89.62130667,
          107.525112,
          -83.3753646,
          106.9914629,
          -85.630951,
          113.1640033,
          -72.9690587,
          113.7228677,
          -79.21758645,
          104.8973871,
          -87.31261084,
          111.5093353,
          -74.75674,
          104.7006,
          -74.37847497,
          104.4872907,
          -82.7508461,
          115.3560539,
          -72.9690587,
          113.7228677,
          -67.58248429,
          122.3045443,
          -65.91586274,
          122.5960266,
          -103.6738,
          101.2746,
          -74.75674,
          104.7006,
          -65.68216,
          119.9184,
          -83.48467459,
          95.86970097,
          -67.58248429,
          122.3045443,
          -65.91586274,
          122.5960266,
          -65.68216,
          119.9184,
          -85.630951,
          113.1640033,
          -79.21758645,
          104.8973871,
          -48.38149441,
          130.5650093,
          -45.35963829,
          129.9263817,
          -72.9690587,
          113.7228677,
          -48.38149441,
          130.5650093,
          -45.35963829,
          129.9263817,
          -34.43580671,
          137.6704921,
          -65.91586274,
          122.5960266,
          -29.84199559,
          140.2430958,
          -34.43580671,
          137.6704921,
          -65.68216,
          119.9184,
          -29.84199559,
          140.2430958
         ]
        }
       ],
       "layout": {
        "height": 800,
        "template": {
         "data": {
          "bar": [
           {
            "error_x": {
             "color": "#2a3f5f"
            },
            "error_y": {
             "color": "#2a3f5f"
            },
            "marker": {
             "line": {
              "color": "#E5ECF6",
              "width": 0.5
             },
             "pattern": {
              "fillmode": "overlay",
              "size": 10,
              "solidity": 0.2
             }
            },
            "type": "bar"
           }
          ],
          "barpolar": [
           {
            "marker": {
             "line": {
              "color": "#E5ECF6",
              "width": 0.5
             },
             "pattern": {
              "fillmode": "overlay",
              "size": 10,
              "solidity": 0.2
             }
            },
            "type": "barpolar"
           }
          ],
          "carpet": [
           {
            "aaxis": {
             "endlinecolor": "#2a3f5f",
             "gridcolor": "white",
             "linecolor": "white",
             "minorgridcolor": "white",
             "startlinecolor": "#2a3f5f"
            },
            "baxis": {
             "endlinecolor": "#2a3f5f",
             "gridcolor": "white",
             "linecolor": "white",
             "minorgridcolor": "white",
             "startlinecolor": "#2a3f5f"
            },
            "type": "carpet"
           }
          ],
          "choropleth": [
           {
            "colorbar": {
             "outlinewidth": 0,
             "ticks": ""
            },
            "type": "choropleth"
           }
          ],
          "contour": [
           {
            "colorbar": {
             "outlinewidth": 0,
             "ticks": ""
            },
            "colorscale": [
             [
              0,
              "#0d0887"
             ],
             [
              0.1111111111111111,
              "#46039f"
             ],
             [
              0.2222222222222222,
              "#7201a8"
             ],
             [
              0.3333333333333333,
              "#9c179e"
             ],
             [
              0.4444444444444444,
              "#bd3786"
             ],
             [
              0.5555555555555556,
              "#d8576b"
             ],
             [
              0.6666666666666666,
              "#ed7953"
             ],
             [
              0.7777777777777778,
              "#fb9f3a"
             ],
             [
              0.8888888888888888,
              "#fdca26"
             ],
             [
              1,
              "#f0f921"
             ]
            ],
            "type": "contour"
           }
          ],
          "contourcarpet": [
           {
            "colorbar": {
             "outlinewidth": 0,
             "ticks": ""
            },
            "type": "contourcarpet"
           }
          ],
          "heatmap": [
           {
            "colorbar": {
             "outlinewidth": 0,
             "ticks": ""
            },
            "colorscale": [
             [
              0,
              "#0d0887"
             ],
             [
              0.1111111111111111,
              "#46039f"
             ],
             [
              0.2222222222222222,
              "#7201a8"
             ],
             [
              0.3333333333333333,
              "#9c179e"
             ],
             [
              0.4444444444444444,
              "#bd3786"
             ],
             [
              0.5555555555555556,
              "#d8576b"
             ],
             [
              0.6666666666666666,
              "#ed7953"
             ],
             [
              0.7777777777777778,
              "#fb9f3a"
             ],
             [
              0.8888888888888888,
              "#fdca26"
             ],
             [
              1,
              "#f0f921"
             ]
            ],
            "type": "heatmap"
           }
          ],
          "heatmapgl": [
           {
            "colorbar": {
             "outlinewidth": 0,
             "ticks": ""
            },
            "colorscale": [
             [
              0,
              "#0d0887"
             ],
             [
              0.1111111111111111,
              "#46039f"
             ],
             [
              0.2222222222222222,
              "#7201a8"
             ],
             [
              0.3333333333333333,
              "#9c179e"
             ],
             [
              0.4444444444444444,
              "#bd3786"
             ],
             [
              0.5555555555555556,
              "#d8576b"
             ],
             [
              0.6666666666666666,
              "#ed7953"
             ],
             [
              0.7777777777777778,
              "#fb9f3a"
             ],
             [
              0.8888888888888888,
              "#fdca26"
             ],
             [
              1,
              "#f0f921"
             ]
            ],
            "type": "heatmapgl"
           }
          ],
          "histogram": [
           {
            "marker": {
             "pattern": {
              "fillmode": "overlay",
              "size": 10,
              "solidity": 0.2
             }
            },
            "type": "histogram"
           }
          ],
          "histogram2d": [
           {
            "colorbar": {
             "outlinewidth": 0,
             "ticks": ""
            },
            "colorscale": [
             [
              0,
              "#0d0887"
             ],
             [
              0.1111111111111111,
              "#46039f"
             ],
             [
              0.2222222222222222,
              "#7201a8"
             ],
             [
              0.3333333333333333,
              "#9c179e"
             ],
             [
              0.4444444444444444,
              "#bd3786"
             ],
             [
              0.5555555555555556,
              "#d8576b"
             ],
             [
              0.6666666666666666,
              "#ed7953"
             ],
             [
              0.7777777777777778,
              "#fb9f3a"
             ],
             [
              0.8888888888888888,
              "#fdca26"
             ],
             [
              1,
              "#f0f921"
             ]
            ],
            "type": "histogram2d"
           }
          ],
          "histogram2dcontour": [
           {
            "colorbar": {
             "outlinewidth": 0,
             "ticks": ""
            },
            "colorscale": [
             [
              0,
              "#0d0887"
             ],
             [
              0.1111111111111111,
              "#46039f"
             ],
             [
              0.2222222222222222,
              "#7201a8"
             ],
             [
              0.3333333333333333,
              "#9c179e"
             ],
             [
              0.4444444444444444,
              "#bd3786"
             ],
             [
              0.5555555555555556,
              "#d8576b"
             ],
             [
              0.6666666666666666,
              "#ed7953"
             ],
             [
              0.7777777777777778,
              "#fb9f3a"
             ],
             [
              0.8888888888888888,
              "#fdca26"
             ],
             [
              1,
              "#f0f921"
             ]
            ],
            "type": "histogram2dcontour"
           }
          ],
          "mesh3d": [
           {
            "colorbar": {
             "outlinewidth": 0,
             "ticks": ""
            },
            "type": "mesh3d"
           }
          ],
          "parcoords": [
           {
            "line": {
             "colorbar": {
              "outlinewidth": 0,
              "ticks": ""
             }
            },
            "type": "parcoords"
           }
          ],
          "pie": [
           {
            "automargin": true,
            "type": "pie"
           }
          ],
          "scatter": [
           {
            "fillpattern": {
             "fillmode": "overlay",
             "size": 10,
             "solidity": 0.2
            },
            "type": "scatter"
           }
          ],
          "scatter3d": [
           {
            "line": {
             "colorbar": {
              "outlinewidth": 0,
              "ticks": ""
             }
            },
            "marker": {
             "colorbar": {
              "outlinewidth": 0,
              "ticks": ""
             }
            },
            "type": "scatter3d"
           }
          ],
          "scattercarpet": [
           {
            "marker": {
             "colorbar": {
              "outlinewidth": 0,
              "ticks": ""
             }
            },
            "type": "scattercarpet"
           }
          ],
          "scattergeo": [
           {
            "marker": {
             "colorbar": {
              "outlinewidth": 0,
              "ticks": ""
             }
            },
            "type": "scattergeo"
           }
          ],
          "scattergl": [
           {
            "marker": {
             "colorbar": {
              "outlinewidth": 0,
              "ticks": ""
             }
            },
            "type": "scattergl"
           }
          ],
          "scattermapbox": [
           {
            "marker": {
             "colorbar": {
              "outlinewidth": 0,
              "ticks": ""
             }
            },
            "type": "scattermapbox"
           }
          ],
          "scatterpolar": [
           {
            "marker": {
             "colorbar": {
              "outlinewidth": 0,
              "ticks": ""
             }
            },
            "type": "scatterpolar"
           }
          ],
          "scatterpolargl": [
           {
            "marker": {
             "colorbar": {
              "outlinewidth": 0,
              "ticks": ""
             }
            },
            "type": "scatterpolargl"
           }
          ],
          "scatterternary": [
           {
            "marker": {
             "colorbar": {
              "outlinewidth": 0,
              "ticks": ""
             }
            },
            "type": "scatterternary"
           }
          ],
          "surface": [
           {
            "colorbar": {
             "outlinewidth": 0,
             "ticks": ""
            },
            "colorscale": [
             [
              0,
              "#0d0887"
             ],
             [
              0.1111111111111111,
              "#46039f"
             ],
             [
              0.2222222222222222,
              "#7201a8"
             ],
             [
              0.3333333333333333,
              "#9c179e"
             ],
             [
              0.4444444444444444,
              "#bd3786"
             ],
             [
              0.5555555555555556,
              "#d8576b"
             ],
             [
              0.6666666666666666,
              "#ed7953"
             ],
             [
              0.7777777777777778,
              "#fb9f3a"
             ],
             [
              0.8888888888888888,
              "#fdca26"
             ],
             [
              1,
              "#f0f921"
             ]
            ],
            "type": "surface"
           }
          ],
          "table": [
           {
            "cells": {
             "fill": {
              "color": "#EBF0F8"
             },
             "line": {
              "color": "white"
             }
            },
            "header": {
             "fill": {
              "color": "#C8D4E3"
             },
             "line": {
              "color": "white"
             }
            },
            "type": "table"
           }
          ]
         },
         "layout": {
          "annotationdefaults": {
           "arrowcolor": "#2a3f5f",
           "arrowhead": 0,
           "arrowwidth": 1
          },
          "autotypenumbers": "strict",
          "coloraxis": {
           "colorbar": {
            "outlinewidth": 0,
            "ticks": ""
           }
          },
          "colorscale": {
           "diverging": [
            [
             0,
             "#8e0152"
            ],
            [
             0.1,
             "#c51b7d"
            ],
            [
             0.2,
             "#de77ae"
            ],
            [
             0.3,
             "#f1b6da"
            ],
            [
             0.4,
             "#fde0ef"
            ],
            [
             0.5,
             "#f7f7f7"
            ],
            [
             0.6,
             "#e6f5d0"
            ],
            [
             0.7,
             "#b8e186"
            ],
            [
             0.8,
             "#7fbc41"
            ],
            [
             0.9,
             "#4d9221"
            ],
            [
             1,
             "#276419"
            ]
           ],
           "sequential": [
            [
             0,
             "#0d0887"
            ],
            [
             0.1111111111111111,
             "#46039f"
            ],
            [
             0.2222222222222222,
             "#7201a8"
            ],
            [
             0.3333333333333333,
             "#9c179e"
            ],
            [
             0.4444444444444444,
             "#bd3786"
            ],
            [
             0.5555555555555556,
             "#d8576b"
            ],
            [
             0.6666666666666666,
             "#ed7953"
            ],
            [
             0.7777777777777778,
             "#fb9f3a"
            ],
            [
             0.8888888888888888,
             "#fdca26"
            ],
            [
             1,
             "#f0f921"
            ]
           ],
           "sequentialminus": [
            [
             0,
             "#0d0887"
            ],
            [
             0.1111111111111111,
             "#46039f"
            ],
            [
             0.2222222222222222,
             "#7201a8"
            ],
            [
             0.3333333333333333,
             "#9c179e"
            ],
            [
             0.4444444444444444,
             "#bd3786"
            ],
            [
             0.5555555555555556,
             "#d8576b"
            ],
            [
             0.6666666666666666,
             "#ed7953"
            ],
            [
             0.7777777777777778,
             "#fb9f3a"
            ],
            [
             0.8888888888888888,
             "#fdca26"
            ],
            [
             1,
             "#f0f921"
            ]
           ]
          },
          "colorway": [
           "#636efa",
           "#EF553B",
           "#00cc96",
           "#ab63fa",
           "#FFA15A",
           "#19d3f3",
           "#FF6692",
           "#B6E880",
           "#FF97FF",
           "#FECB52"
          ],
          "font": {
           "color": "#2a3f5f"
          },
          "geo": {
           "bgcolor": "white",
           "lakecolor": "white",
           "landcolor": "#E5ECF6",
           "showlakes": true,
           "showland": true,
           "subunitcolor": "white"
          },
          "hoverlabel": {
           "align": "left"
          },
          "hovermode": "closest",
          "mapbox": {
           "style": "light"
          },
          "paper_bgcolor": "white",
          "plot_bgcolor": "#E5ECF6",
          "polar": {
           "angularaxis": {
            "gridcolor": "white",
            "linecolor": "white",
            "ticks": ""
           },
           "bgcolor": "#E5ECF6",
           "radialaxis": {
            "gridcolor": "white",
            "linecolor": "white",
            "ticks": ""
           }
          },
          "scene": {
           "xaxis": {
            "backgroundcolor": "#E5ECF6",
            "gridcolor": "white",
            "gridwidth": 2,
            "linecolor": "white",
            "showbackground": true,
            "ticks": "",
            "zerolinecolor": "white"
           },
           "yaxis": {
            "backgroundcolor": "#E5ECF6",
            "gridcolor": "white",
            "gridwidth": 2,
            "linecolor": "white",
            "showbackground": true,
            "ticks": "",
            "zerolinecolor": "white"
           },
           "zaxis": {
            "backgroundcolor": "#E5ECF6",
            "gridcolor": "white",
            "gridwidth": 2,
            "linecolor": "white",
            "showbackground": true,
            "ticks": "",
            "zerolinecolor": "white"
           }
          },
          "shapedefaults": {
           "line": {
            "color": "#2a3f5f"
           }
          },
          "ternary": {
           "aaxis": {
            "gridcolor": "white",
            "linecolor": "white",
            "ticks": ""
           },
           "baxis": {
            "gridcolor": "white",
            "linecolor": "white",
            "ticks": ""
           },
           "bgcolor": "#E5ECF6",
           "caxis": {
            "gridcolor": "white",
            "linecolor": "white",
            "ticks": ""
           }
          },
          "title": {
           "x": 0.05
          },
          "xaxis": {
           "automargin": true,
           "gridcolor": "white",
           "linecolor": "white",
           "ticks": "",
           "title": {
            "standoff": 15
           },
           "zerolinecolor": "white",
           "zerolinewidth": 2
          },
          "yaxis": {
           "automargin": true,
           "gridcolor": "white",
           "linecolor": "white",
           "ticks": "",
           "title": {
            "standoff": 15
           },
           "zerolinecolor": "white",
           "zerolinewidth": 2
          }
         }
        },
        "width": 800
       }
      }
     },
     "metadata": {},
     "output_type": "display_data"
    },
    {
     "name": "stdout",
     "output_type": "stream",
     "text": [
      "done\n"
     ]
    }
   ],
   "source": [
    "import plotly.graph_objs as go\n",
    "import plotly.offline as py\n",
    "\n",
    "import pandas as pd\n",
    "import numpy as np\n",
    "from ipywidgets import interactive, HBox, VBox\n",
    "\n",
    "lats, lons, names = [], [], []\n",
    "for id, row in line_gdf.iterrows():\n",
    "    p1, p2 = row.geometry.xy\n",
    "    lats = np.append(lats, p1[0])\n",
    "    lats = np.append(lats, p2[0])\n",
    "    lons = np.append(lons, p1[1])\n",
    "    lons = np.append(lons, p2[1])\n",
    "    names = np.append(names, str(id) + \"_0\")\n",
    "    names = np.append(names, str(id) + \"_1\")\n",
    "\n",
    "# get the 2D figure of all CRs\n",
    "import plotly.express as px\n",
    "\n",
    "f = go.FigureWidget([go.Scatter(y=lons, x=lats, mode=\"lines\")])\n",
    "\n",
    "f.update_layout(width=800, height=800)\n",
    "scatter = f.data[0]\n",
    "f.show()\n",
    "# f = go.FigureWidget([go.Scatter(y = df['City mpg'], x = df['City mpg'], mode = 'markers')])\n",
    "# scatter = f.data[0]\n",
    "# N = len(df)\n",
    "# scatter.x = scatter.x + np.random.rand(N)/10 *(df['City mpg'].max() - df['City mpg'].min())\n",
    "# scatter.y = scatter.y + np.random.rand(N)/10 *(df['City mpg'].max() - df['City mpg'].min())\n",
    "# scatter.marker.opacity = 0.5\n",
    "\n",
    "# def update_axes(xaxis, yaxis):\n",
    "#     scatter = f.data[0]\n",
    "#     scatter.x = df[xaxis]\n",
    "#     scatter.y = df[yaxis]\n",
    "#     with f.batch_update():\n",
    "#         f.layout.xaxis.title = xaxis\n",
    "#         f.layout.yaxis.title = yaxis\n",
    "#         scatter.x = scatter.x + np.random.rand(N)/10 *(df[xaxis].max() - df[xaxis].min())\n",
    "#         scatter.y = scatter.y + np.random.rand(N)/10 *(df[yaxis].max() - df[yaxis].min())\n",
    "\n",
    "# axis_dropdowns = interactive(update_axes, yaxis = df.select_dtypes('int64').columns, xaxis = df.select_dtypes('int64').columns)\n",
    "\n",
    "# # Create a table FigureWidget that updates on selection from points in the scatter plot of f\n",
    "# t = go.FigureWidget([go.Table(\n",
    "#     header=dict(values=['ID','Classification','Driveline','Hybrid'],\n",
    "#                 fill = dict(color='#C2D4FF'),\n",
    "#                 align = ['left'] * 5),\n",
    "#     cells=dict(values=[df[col] for col in ['ID','Classification','Driveline','Hybrid']],\n",
    "#                fill = dict(color='#F5F8FF'),\n",
    "#                align = ['left'] * 5))])\n",
    "\n",
    "# def selection_fn(trace,points,selector):\n",
    "#     t.data[0].cells.values = [df.loc[points.point_inds][col] for col in ['ID','Classification','Driveline','Hybrid']]\n",
    "\n",
    "# scatter.on_selection(selection_fn)\n",
    "\n",
    "# # Put everything together\n",
    "# VBox((HBox(axis_dropdowns.children),f,t))\n",
    "print(\"done\")"
   ]
  }
 ],
 "metadata": {
  "kernelspec": {
   "display_name": "moo_env",
   "language": "python",
   "name": "python3"
  },
  "language_info": {
   "codemirror_mode": {
    "name": "ipython",
    "version": 3
   },
   "file_extension": ".py",
   "mimetype": "text/x-python",
   "name": "python",
   "nbconvert_exporter": "python",
   "pygments_lexer": "ipython3",
   "version": "3.10.12"
  },
  "orig_nbformat": 4
 },
 "nbformat": 4,
 "nbformat_minor": 2
}
