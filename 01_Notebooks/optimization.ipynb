{
 "cells": [
  {
   "cell_type": "markdown",
   "metadata": {},
   "source": [
    "##### <a id='toc1_1_1_1_1_'></a>[Setting up data and imports](#toc0_)\n"
   ]
  },
  {
   "cell_type": "code",
   "execution_count": 1,
   "metadata": {},
   "outputs": [
    {
     "name": "stderr",
     "output_type": "stream",
     "text": [
      "/home/carlo/GitHub/MultiObjectOptimizationCableYarding/moo_env/lib/python3.10/site-packages/requests/__init__.py:109: RequestsDependencyWarning: urllib3 (2.0.6) or chardet (None)/charset_normalizer (2.1.0) doesn't match a supported version!\n",
      "  warnings.warn(\n"
     ]
    }
   ],
   "source": [
    "import numpy as np\n",
    "from importlib import reload\n",
    "\n",
    "# Importing my modules\n",
    "from src.main import (\n",
    "    geometry_operations,\n",
    "    optimization_compute_quantification,\n",
    "    classes_linear_optimization,\n",
    ")"
   ]
  },
  {
   "cell_type": "code",
   "execution_count": 2,
   "metadata": {},
   "outputs": [],
   "source": [
    "# %store -r line_gdf_reworked\n",
    "%store -r harvesteable_trees_gdf\n",
    "%store -r height_gdf\n",
    "%store -r anchor_trees_gdf\n",
    "%store -r target_trees_gdf\n",
    "# %store -r line_gdf_v1\n",
    "%store -r slope_line\n",
    "%store -r results_df \n",
    "%store -r line_gdf_19_10_2023\n",
    "#rewrite this if the result of the main optimization changed\n",
    "\n",
    "line_gdf = line_gdf_19_10_2023.copy()\n",
    "# hack to extract this from the line_gdf\n",
    "start_point_dict = dict(\n",
    "    [(key, value.coords[0]) for key, value in enumerate(line_gdf[\"line_candidates\"])]\n",
    ")"
   ]
  },
  {
   "cell_type": "markdown",
   "metadata": {},
   "source": [
    "#### <a id='toc1_1_1_2_'></a>[Optimization Setup](#toc0_)\n"
   ]
  },
  {
   "cell_type": "code",
   "execution_count": 3,
   "metadata": {},
   "outputs": [],
   "source": [
    "bhd_series = harvesteable_trees_gdf[\"BHD\"]\n",
    "height_series = harvesteable_trees_gdf[\"h\"].replace(\",\", \".\", regex=True).astype(float)\n",
    "\n",
    "# Prepare the gdfs\n",
    "uphill_yarding = True\n",
    "line_gdf[\"line_cost\"] = optimization_compute_quantification.compute_line_costs(\n",
    "    line_gdf, uphill_yarding, large_yarder=True\n",
    ")\n",
    "harvesteable_trees_gdf[\n",
    "    \"cubic_volume\"\n",
    "] = optimization_compute_quantification.compute_tree_volume(bhd_series, height_series)"
   ]
  },
  {
   "cell_type": "code",
   "execution_count": 4,
   "metadata": {},
   "outputs": [],
   "source": [
    "line_gdf = line_gdf.iloc[0:10]\n",
    "harvesteable_trees_gdf = harvesteable_trees_gdf.iloc[0:100]"
   ]
  },
  {
   "cell_type": "markdown",
   "metadata": {},
   "source": [
    "#### Clustering Trees for Sortiment\n"
   ]
  },
  {
   "cell_type": "code",
   "execution_count": 5,
   "metadata": {},
   "outputs": [],
   "source": [
    "from sklearn.cluster import KMeans\n",
    "\n",
    "n_clusters = len(harvesteable_trees_gdf) // 20\n",
    "k_means = KMeans(n_clusters=n_clusters)\n",
    "y = k_means.fit_predict(\n",
    "    X=[*zip(harvesteable_trees_gdf[\"x\"], harvesteable_trees_gdf[\"y\"])]\n",
    ")"
   ]
  },
  {
   "cell_type": "code",
   "execution_count": 6,
   "metadata": {},
   "outputs": [
    {
     "data": {
      "application/vnd.plotly.v1+json": {
       "config": {
        "plotlyServerURL": "https://plot.ly"
       },
       "data": [
        {
         "hovertemplate": "<extra></extra>",
         "legendgroup": "",
         "marker": {
          "color": "#636efa",
          "symbol": "circle"
         },
         "mode": "markers",
         "name": "",
         "orientation": "v",
         "showlegend": false,
         "type": "scatter",
         "xaxis": "x",
         "yaxis": "y"
        },
        {
         "marker": {
          "color": [
           3,
           3,
           3,
           0,
           0,
           0,
           0,
           0,
           0,
           0,
           3,
           3,
           3,
           0,
           0,
           0,
           0,
           0,
           3,
           3,
           3,
           3,
           0,
           0,
           3,
           3,
           0,
           3,
           3,
           1,
           3,
           0,
           3,
           1,
           3,
           3,
           3,
           1,
           1,
           1,
           1,
           0,
           0,
           0,
           0,
           0,
           0,
           0,
           0,
           1,
           0,
           2,
           4,
           2,
           2,
           2,
           2,
           1,
           0,
           3,
           1,
           0,
           1,
           1,
           4,
           1,
           1,
           4,
           4,
           4,
           1,
           1,
           4,
           4,
           4,
           4,
           4,
           4,
           4,
           4,
           4,
           4,
           2,
           2,
           2,
           2,
           4,
           4,
           2,
           2,
           2,
           2,
           4,
           2,
           4,
           2,
           2,
           2,
           2,
           2
          ]
         },
         "mode": "markers",
         "type": "scatter",
         "x": [
          -83.48467459,
          -88.19360784,
          -77.38716,
          -93.90127238,
          -97.02245733,
          -102.7610669,
          -106.9293573,
          -107.9110969,
          -110.3984335,
          -106.0132132,
          -96.73072895,
          -96.22606223,
          -98.31843957,
          -115.0619992,
          -108.786355,
          -114.5846122,
          -110.2887047,
          -103.1629812,
          -95.55933733,
          -74.37847497,
          -74.12546686,
          -83.96798843,
          -105.839508,
          -107.0136188,
          -89.62130667,
          -83.3753646,
          -102.8911694,
          -82.7508461,
          -78.26144619,
          -74.66894341,
          -85.630951,
          -104.5151239,
          -90.57745961,
          -72.9690587,
          -79.21758645,
          -87.31261084,
          -95.6665854,
          -78.82330588,
          -70.18942466,
          -70.13604975,
          -69.11292673,
          -105.2474193,
          -111.0155589,
          -110.4334077,
          -109.0691822,
          -113.8496183,
          -115.6880358,
          -116.3580906,
          -114.450469,
          -72.28254052,
          -115.5839619,
          -20.01427656,
          -46.08530939,
          -39.1687174,
          -41.69020833,
          -20.15441667,
          -30.51452551,
          -65.84327489,
          -100.4964897,
          -87.83312994,
          -67.58248429,
          -113.9290292,
          -65.91586274,
          -66.154401,
          -61.06820181,
          -65.06967068,
          -64.15900983,
          -55.91586735,
          -61.14652818,
          -60.13371324,
          -64.44548,
          -64.87632182,
          -57.75133942,
          -51.72634937,
          -54.22529924,
          -56.03364748,
          -51.34979148,
          -57.75406087,
          -47.45566976,
          -54.71720264,
          -48.32035725,
          -48.23730243,
          -37.09976663,
          -37.47195419,
          -38.754948,
          -28.88421312,
          -45.03471145,
          -52.09936048,
          -30.53919388,
          -33.86425279,
          -42.03635682,
          -43.77058695,
          -48.38149441,
          -33.38285971,
          -45.35963829,
          -20.31095449,
          -30.12933628,
          -38.2757944,
          -37.18284862,
          -26.71358941
         ],
         "y": [
          95.86970097,
          98.34736686,
          105.531576,
          85.11919619,
          88.54954267,
          77.77472,
          80.351252,
          82.70909714,
          75.82409401,
          89.40781657,
          98.53306229,
          100.1307978,
          100.5692092,
          85.04506755,
          77.02719052,
          82.96372814,
          86.10765266,
          85.29616635,
          104.3161573,
          104.4872907,
          104.5034411,
          102.8353679,
          86.49467744,
          95.28771062,
          107.525112,
          106.9914629,
          86.20745338,
          115.3560539,
          109.285201,
          120.7985667,
          113.1640033,
          87.68086518,
          107.7242429,
          113.7228677,
          104.8973871,
          111.5093353,
          102.4783549,
          117.612602,
          120.3503284,
          119.873547,
          121.5114816,
          97.1181028,
          90.92524233,
          96.00547745,
          82.99614333,
          87.2107575,
          80.37969702,
          88.860498,
          91.64478486,
          123.1188927,
          78.43012638,
          149.922979,
          140.8923356,
          139.7536376,
          142.3992175,
          148.7100133,
          144.0812844,
          113.24662,
          96.3416446,
          111.5008781,
          122.3045443,
          85.41514138,
          122.5960266,
          118.6669428,
          129.0447034,
          116.4094181,
          119.7839872,
          136.2810578,
          132.0985808,
          135.6421414,
          123.662627,
          130.8051815,
          129.7407148,
          139.1805794,
          132.3293989,
          131.1800298,
          136.4680276,
          135.4419983,
          141.6323199,
          138.5854925,
          139.9950704,
          134.702649,
          143.2286398,
          144.5117223,
          141.452916,
          149.7437673,
          135.7886081,
          129.4302928,
          148.8980511,
          147.9375081,
          145.0488265,
          142.5344245,
          130.5650093,
          144.4892955,
          129.9263817,
          155.2269872,
          150.6443552,
          147.5998112,
          141.5735606,
          150.2932019
         ]
        }
       ],
       "layout": {
        "legend": {
         "tracegroupgap": 0
        },
        "margin": {
         "t": 60
        },
        "template": {
         "data": {
          "bar": [
           {
            "error_x": {
             "color": "#2a3f5f"
            },
            "error_y": {
             "color": "#2a3f5f"
            },
            "marker": {
             "line": {
              "color": "#E5ECF6",
              "width": 0.5
             },
             "pattern": {
              "fillmode": "overlay",
              "size": 10,
              "solidity": 0.2
             }
            },
            "type": "bar"
           }
          ],
          "barpolar": [
           {
            "marker": {
             "line": {
              "color": "#E5ECF6",
              "width": 0.5
             },
             "pattern": {
              "fillmode": "overlay",
              "size": 10,
              "solidity": 0.2
             }
            },
            "type": "barpolar"
           }
          ],
          "carpet": [
           {
            "aaxis": {
             "endlinecolor": "#2a3f5f",
             "gridcolor": "white",
             "linecolor": "white",
             "minorgridcolor": "white",
             "startlinecolor": "#2a3f5f"
            },
            "baxis": {
             "endlinecolor": "#2a3f5f",
             "gridcolor": "white",
             "linecolor": "white",
             "minorgridcolor": "white",
             "startlinecolor": "#2a3f5f"
            },
            "type": "carpet"
           }
          ],
          "choropleth": [
           {
            "colorbar": {
             "outlinewidth": 0,
             "ticks": ""
            },
            "type": "choropleth"
           }
          ],
          "contour": [
           {
            "colorbar": {
             "outlinewidth": 0,
             "ticks": ""
            },
            "colorscale": [
             [
              0,
              "#0d0887"
             ],
             [
              0.1111111111111111,
              "#46039f"
             ],
             [
              0.2222222222222222,
              "#7201a8"
             ],
             [
              0.3333333333333333,
              "#9c179e"
             ],
             [
              0.4444444444444444,
              "#bd3786"
             ],
             [
              0.5555555555555556,
              "#d8576b"
             ],
             [
              0.6666666666666666,
              "#ed7953"
             ],
             [
              0.7777777777777778,
              "#fb9f3a"
             ],
             [
              0.8888888888888888,
              "#fdca26"
             ],
             [
              1,
              "#f0f921"
             ]
            ],
            "type": "contour"
           }
          ],
          "contourcarpet": [
           {
            "colorbar": {
             "outlinewidth": 0,
             "ticks": ""
            },
            "type": "contourcarpet"
           }
          ],
          "heatmap": [
           {
            "colorbar": {
             "outlinewidth": 0,
             "ticks": ""
            },
            "colorscale": [
             [
              0,
              "#0d0887"
             ],
             [
              0.1111111111111111,
              "#46039f"
             ],
             [
              0.2222222222222222,
              "#7201a8"
             ],
             [
              0.3333333333333333,
              "#9c179e"
             ],
             [
              0.4444444444444444,
              "#bd3786"
             ],
             [
              0.5555555555555556,
              "#d8576b"
             ],
             [
              0.6666666666666666,
              "#ed7953"
             ],
             [
              0.7777777777777778,
              "#fb9f3a"
             ],
             [
              0.8888888888888888,
              "#fdca26"
             ],
             [
              1,
              "#f0f921"
             ]
            ],
            "type": "heatmap"
           }
          ],
          "heatmapgl": [
           {
            "colorbar": {
             "outlinewidth": 0,
             "ticks": ""
            },
            "colorscale": [
             [
              0,
              "#0d0887"
             ],
             [
              0.1111111111111111,
              "#46039f"
             ],
             [
              0.2222222222222222,
              "#7201a8"
             ],
             [
              0.3333333333333333,
              "#9c179e"
             ],
             [
              0.4444444444444444,
              "#bd3786"
             ],
             [
              0.5555555555555556,
              "#d8576b"
             ],
             [
              0.6666666666666666,
              "#ed7953"
             ],
             [
              0.7777777777777778,
              "#fb9f3a"
             ],
             [
              0.8888888888888888,
              "#fdca26"
             ],
             [
              1,
              "#f0f921"
             ]
            ],
            "type": "heatmapgl"
           }
          ],
          "histogram": [
           {
            "marker": {
             "pattern": {
              "fillmode": "overlay",
              "size": 10,
              "solidity": 0.2
             }
            },
            "type": "histogram"
           }
          ],
          "histogram2d": [
           {
            "colorbar": {
             "outlinewidth": 0,
             "ticks": ""
            },
            "colorscale": [
             [
              0,
              "#0d0887"
             ],
             [
              0.1111111111111111,
              "#46039f"
             ],
             [
              0.2222222222222222,
              "#7201a8"
             ],
             [
              0.3333333333333333,
              "#9c179e"
             ],
             [
              0.4444444444444444,
              "#bd3786"
             ],
             [
              0.5555555555555556,
              "#d8576b"
             ],
             [
              0.6666666666666666,
              "#ed7953"
             ],
             [
              0.7777777777777778,
              "#fb9f3a"
             ],
             [
              0.8888888888888888,
              "#fdca26"
             ],
             [
              1,
              "#f0f921"
             ]
            ],
            "type": "histogram2d"
           }
          ],
          "histogram2dcontour": [
           {
            "colorbar": {
             "outlinewidth": 0,
             "ticks": ""
            },
            "colorscale": [
             [
              0,
              "#0d0887"
             ],
             [
              0.1111111111111111,
              "#46039f"
             ],
             [
              0.2222222222222222,
              "#7201a8"
             ],
             [
              0.3333333333333333,
              "#9c179e"
             ],
             [
              0.4444444444444444,
              "#bd3786"
             ],
             [
              0.5555555555555556,
              "#d8576b"
             ],
             [
              0.6666666666666666,
              "#ed7953"
             ],
             [
              0.7777777777777778,
              "#fb9f3a"
             ],
             [
              0.8888888888888888,
              "#fdca26"
             ],
             [
              1,
              "#f0f921"
             ]
            ],
            "type": "histogram2dcontour"
           }
          ],
          "mesh3d": [
           {
            "colorbar": {
             "outlinewidth": 0,
             "ticks": ""
            },
            "type": "mesh3d"
           }
          ],
          "parcoords": [
           {
            "line": {
             "colorbar": {
              "outlinewidth": 0,
              "ticks": ""
             }
            },
            "type": "parcoords"
           }
          ],
          "pie": [
           {
            "automargin": true,
            "type": "pie"
           }
          ],
          "scatter": [
           {
            "fillpattern": {
             "fillmode": "overlay",
             "size": 10,
             "solidity": 0.2
            },
            "type": "scatter"
           }
          ],
          "scatter3d": [
           {
            "line": {
             "colorbar": {
              "outlinewidth": 0,
              "ticks": ""
             }
            },
            "marker": {
             "colorbar": {
              "outlinewidth": 0,
              "ticks": ""
             }
            },
            "type": "scatter3d"
           }
          ],
          "scattercarpet": [
           {
            "marker": {
             "colorbar": {
              "outlinewidth": 0,
              "ticks": ""
             }
            },
            "type": "scattercarpet"
           }
          ],
          "scattergeo": [
           {
            "marker": {
             "colorbar": {
              "outlinewidth": 0,
              "ticks": ""
             }
            },
            "type": "scattergeo"
           }
          ],
          "scattergl": [
           {
            "marker": {
             "colorbar": {
              "outlinewidth": 0,
              "ticks": ""
             }
            },
            "type": "scattergl"
           }
          ],
          "scattermapbox": [
           {
            "marker": {
             "colorbar": {
              "outlinewidth": 0,
              "ticks": ""
             }
            },
            "type": "scattermapbox"
           }
          ],
          "scatterpolar": [
           {
            "marker": {
             "colorbar": {
              "outlinewidth": 0,
              "ticks": ""
             }
            },
            "type": "scatterpolar"
           }
          ],
          "scatterpolargl": [
           {
            "marker": {
             "colorbar": {
              "outlinewidth": 0,
              "ticks": ""
             }
            },
            "type": "scatterpolargl"
           }
          ],
          "scatterternary": [
           {
            "marker": {
             "colorbar": {
              "outlinewidth": 0,
              "ticks": ""
             }
            },
            "type": "scatterternary"
           }
          ],
          "surface": [
           {
            "colorbar": {
             "outlinewidth": 0,
             "ticks": ""
            },
            "colorscale": [
             [
              0,
              "#0d0887"
             ],
             [
              0.1111111111111111,
              "#46039f"
             ],
             [
              0.2222222222222222,
              "#7201a8"
             ],
             [
              0.3333333333333333,
              "#9c179e"
             ],
             [
              0.4444444444444444,
              "#bd3786"
             ],
             [
              0.5555555555555556,
              "#d8576b"
             ],
             [
              0.6666666666666666,
              "#ed7953"
             ],
             [
              0.7777777777777778,
              "#fb9f3a"
             ],
             [
              0.8888888888888888,
              "#fdca26"
             ],
             [
              1,
              "#f0f921"
             ]
            ],
            "type": "surface"
           }
          ],
          "table": [
           {
            "cells": {
             "fill": {
              "color": "#EBF0F8"
             },
             "line": {
              "color": "white"
             }
            },
            "header": {
             "fill": {
              "color": "#C8D4E3"
             },
             "line": {
              "color": "white"
             }
            },
            "type": "table"
           }
          ]
         },
         "layout": {
          "annotationdefaults": {
           "arrowcolor": "#2a3f5f",
           "arrowhead": 0,
           "arrowwidth": 1
          },
          "autotypenumbers": "strict",
          "coloraxis": {
           "colorbar": {
            "outlinewidth": 0,
            "ticks": ""
           }
          },
          "colorscale": {
           "diverging": [
            [
             0,
             "#8e0152"
            ],
            [
             0.1,
             "#c51b7d"
            ],
            [
             0.2,
             "#de77ae"
            ],
            [
             0.3,
             "#f1b6da"
            ],
            [
             0.4,
             "#fde0ef"
            ],
            [
             0.5,
             "#f7f7f7"
            ],
            [
             0.6,
             "#e6f5d0"
            ],
            [
             0.7,
             "#b8e186"
            ],
            [
             0.8,
             "#7fbc41"
            ],
            [
             0.9,
             "#4d9221"
            ],
            [
             1,
             "#276419"
            ]
           ],
           "sequential": [
            [
             0,
             "#0d0887"
            ],
            [
             0.1111111111111111,
             "#46039f"
            ],
            [
             0.2222222222222222,
             "#7201a8"
            ],
            [
             0.3333333333333333,
             "#9c179e"
            ],
            [
             0.4444444444444444,
             "#bd3786"
            ],
            [
             0.5555555555555556,
             "#d8576b"
            ],
            [
             0.6666666666666666,
             "#ed7953"
            ],
            [
             0.7777777777777778,
             "#fb9f3a"
            ],
            [
             0.8888888888888888,
             "#fdca26"
            ],
            [
             1,
             "#f0f921"
            ]
           ],
           "sequentialminus": [
            [
             0,
             "#0d0887"
            ],
            [
             0.1111111111111111,
             "#46039f"
            ],
            [
             0.2222222222222222,
             "#7201a8"
            ],
            [
             0.3333333333333333,
             "#9c179e"
            ],
            [
             0.4444444444444444,
             "#bd3786"
            ],
            [
             0.5555555555555556,
             "#d8576b"
            ],
            [
             0.6666666666666666,
             "#ed7953"
            ],
            [
             0.7777777777777778,
             "#fb9f3a"
            ],
            [
             0.8888888888888888,
             "#fdca26"
            ],
            [
             1,
             "#f0f921"
            ]
           ]
          },
          "colorway": [
           "#636efa",
           "#EF553B",
           "#00cc96",
           "#ab63fa",
           "#FFA15A",
           "#19d3f3",
           "#FF6692",
           "#B6E880",
           "#FF97FF",
           "#FECB52"
          ],
          "font": {
           "color": "#2a3f5f"
          },
          "geo": {
           "bgcolor": "white",
           "lakecolor": "white",
           "landcolor": "#E5ECF6",
           "showlakes": true,
           "showland": true,
           "subunitcolor": "white"
          },
          "hoverlabel": {
           "align": "left"
          },
          "hovermode": "closest",
          "mapbox": {
           "style": "light"
          },
          "paper_bgcolor": "white",
          "plot_bgcolor": "#E5ECF6",
          "polar": {
           "angularaxis": {
            "gridcolor": "white",
            "linecolor": "white",
            "ticks": ""
           },
           "bgcolor": "#E5ECF6",
           "radialaxis": {
            "gridcolor": "white",
            "linecolor": "white",
            "ticks": ""
           }
          },
          "scene": {
           "xaxis": {
            "backgroundcolor": "#E5ECF6",
            "gridcolor": "white",
            "gridwidth": 2,
            "linecolor": "white",
            "showbackground": true,
            "ticks": "",
            "zerolinecolor": "white"
           },
           "yaxis": {
            "backgroundcolor": "#E5ECF6",
            "gridcolor": "white",
            "gridwidth": 2,
            "linecolor": "white",
            "showbackground": true,
            "ticks": "",
            "zerolinecolor": "white"
           },
           "zaxis": {
            "backgroundcolor": "#E5ECF6",
            "gridcolor": "white",
            "gridwidth": 2,
            "linecolor": "white",
            "showbackground": true,
            "ticks": "",
            "zerolinecolor": "white"
           }
          },
          "shapedefaults": {
           "line": {
            "color": "#2a3f5f"
           }
          },
          "ternary": {
           "aaxis": {
            "gridcolor": "white",
            "linecolor": "white",
            "ticks": ""
           },
           "baxis": {
            "gridcolor": "white",
            "linecolor": "white",
            "ticks": ""
           },
           "bgcolor": "#E5ECF6",
           "caxis": {
            "gridcolor": "white",
            "linecolor": "white",
            "ticks": ""
           }
          },
          "title": {
           "x": 0.05
          },
          "xaxis": {
           "automargin": true,
           "gridcolor": "white",
           "linecolor": "white",
           "ticks": "",
           "title": {
            "standoff": 15
           },
           "zerolinecolor": "white",
           "zerolinewidth": 2
          },
          "yaxis": {
           "automargin": true,
           "gridcolor": "white",
           "linecolor": "white",
           "ticks": "",
           "title": {
            "standoff": 15
           },
           "zerolinecolor": "white",
           "zerolinewidth": 2
          }
         }
        },
        "xaxis": {
         "anchor": "y",
         "domain": [
          0,
          1
         ]
        },
        "yaxis": {
         "anchor": "x",
         "domain": [
          0,
          1
         ]
        }
       }
      }
     },
     "metadata": {},
     "output_type": "display_data"
    }
   ],
   "source": [
    "import plotly.express as px\n",
    "\n",
    "fig = px.scatter()\n",
    "fig.add_scatter(\n",
    "    x=harvesteable_trees_gdf[\"x\"],\n",
    "    y=harvesteable_trees_gdf[\"y\"],\n",
    "    mode=\"markers\",\n",
    "    marker=dict(color=y),\n",
    ")\n",
    "\n",
    "fig.show()"
   ]
  },
  {
   "cell_type": "markdown",
   "metadata": {},
   "source": [
    "Der A-Wert ist prinzipiell nicht auf eine Baumart beschränkt, bislang wurde er jedoch von uns nur in Fichtenbeständen angewandt. Er ist zum einen vom H/D-Wert (Höhe zu Durchmesser) des Z-Baumes und zum anderen vom Durchmesser und dem Abstand des jeweiligen Nachbarbaumes abhängig. Bei der Entwicklung des A-Wertes ging Johann von folgenden, jedem Forstmann bekannten Überlegungen aus:\n",
    "\n",
    "    Der Standraumbedarf eines Z-Stammes ist umso größer, je höher er ist. Ein Nachbarbaum wird zum Konkurrenten (K), indem er in den Standraum des Z-Stammes (Z) eindringt. Ist die Höhe des Konkurrenten gleich wie die Höhe (H) des Z-Baumes, d.h. von gleicher sozialer Stel-lung, so steigt der Konkurrenzdruck mit zunehmender Baumhöhe und abnehmen-der Entfernung (E) zwischen den beiden: H/E\n",
    "    Ein niedriger bzw. (sozial) schwächerer Baum wird auf den Z-Stamm vergleichsweise einen geringeren Konkurrenzdruck ausüben als ein stärkerer. Dieser Sachverhalt lässt sich auch als Verhältnis der Durchmesser von Konkurrent (d) zu Z-Stamm (D) darstellen: d/D\n",
    "\n",
    "Beide Überlegungen zusammengefasst ergeben die Formel für den A-Wert eines Nachbarbaumes des Z-Stammes:\n",
    "A=H/E \\* d/D\n",
    "\n",
    "Bei der Freistellung nach A-Wert wird ein Konkurrent immer dann entnommen, wenn seine Entfernung zum Z-Baum eine bestimmte Grenzdistanz (GD) – bei festgelegtem A-Wert - unterschreitet:\n",
    "GD < H/A\\*d/D\n",
    "\n",
    "In der Abbildung 1 ist der Zusammenhang zwischen H/D-Wert des Z-Baumes, BHD des Konkurrenten und Grenzdistanz dargestellt. Beispielsweise beträgt für einen Z-Stamm mit H/D-Wert 80 und einem festgelegten A-Wert von 4 bzw. 6 die Grenz-distanz eines Konkurrenten mit 30 cm BHD 6 m bzw. 4 m; bei einem H/D-Wert von 100 betragen die Grenzdistanzen 7,5 m bzw. 5 m.\n"
   ]
  },
  {
   "cell_type": "code",
   "execution_count": 7,
   "metadata": {},
   "outputs": [
    {
     "name": "stderr",
     "output_type": "stream",
     "text": [
      "/home/carlo/GitHub/MultiObjectOptimizationCableYarding/moo_env/lib/python3.10/site-packages/geopandas/geodataframe.py:1456: SettingWithCopyWarning:\n",
      "\n",
      "\n",
      "A value is trying to be set on a copy of a slice from a DataFrame.\n",
      "Try using .loc[row_indexer,col_indexer] = value instead\n",
      "\n",
      "See the caveats in the documentation: https://pandas.pydata.org/pandas-docs/stable/user_guide/indexing.html#returning-a-view-versus-a-copy\n",
      "\n"
     ]
    }
   ],
   "source": [
    "harvesteable_trees_gdf[\"h\"] = (\n",
    "    harvesteable_trees_gdf[\"h\"].replace(\",\", \".\", regex=True).astype(float)\n",
    ")"
   ]
  },
  {
   "cell_type": "code",
   "execution_count": 8,
   "metadata": {},
   "outputs": [
    {
     "name": "stderr",
     "output_type": "stream",
     "text": [
      "/home/carlo/GitHub/MultiObjectOptimizationCableYarding/moo_env/lib/python3.10/site-packages/geopandas/geodataframe.py:1456: SettingWithCopyWarning:\n",
      "\n",
      "\n",
      "A value is trying to be set on a copy of a slice from a DataFrame.\n",
      "Try using .loc[row_indexer,col_indexer] = value instead\n",
      "\n",
      "See the caveats in the documentation: https://pandas.pydata.org/pandas-docs/stable/user_guide/indexing.html#returning-a-view-versus-a-copy\n",
      "\n",
      "/home/carlo/GitHub/MultiObjectOptimizationCableYarding/moo_env/lib/python3.10/site-packages/geopandas/geodataframe.py:1456: SettingWithCopyWarning:\n",
      "\n",
      "\n",
      "A value is trying to be set on a copy of a slice from a DataFrame.\n",
      "Try using .loc[row_indexer,col_indexer] = value instead\n",
      "\n",
      "See the caveats in the documentation: https://pandas.pydata.org/pandas-docs/stable/user_guide/indexing.html#returning-a-view-versus-a-copy\n",
      "\n",
      "/tmp/ipykernel_41343/3571965119.py:24: SettingWithCopyWarning:\n",
      "\n",
      "\n",
      "A value is trying to be set on a copy of a slice from a DataFrame\n",
      "\n",
      "See the caveats in the documentation: https://pandas.pydata.org/pandas-docs/stable/user_guide/indexing.html#returning-a-view-versus-a-copy\n",
      "\n",
      "/home/carlo/GitHub/MultiObjectOptimizationCableYarding/moo_env/lib/python3.10/site-packages/geopandas/geodataframe.py:1456: SettingWithCopyWarning:\n",
      "\n",
      "\n",
      "A value is trying to be set on a copy of a slice from a DataFrame.\n",
      "Try using .loc[row_indexer,col_indexer] = value instead\n",
      "\n",
      "See the caveats in the documentation: https://pandas.pydata.org/pandas-docs/stable/user_guide/indexing.html#returning-a-view-versus-a-copy\n",
      "\n",
      "/tmp/ipykernel_41343/3571965119.py:24: SettingWithCopyWarning:\n",
      "\n",
      "\n",
      "A value is trying to be set on a copy of a slice from a DataFrame\n",
      "\n",
      "See the caveats in the documentation: https://pandas.pydata.org/pandas-docs/stable/user_guide/indexing.html#returning-a-view-versus-a-copy\n",
      "\n",
      "/home/carlo/GitHub/MultiObjectOptimizationCableYarding/moo_env/lib/python3.10/site-packages/geopandas/geodataframe.py:1456: SettingWithCopyWarning:\n",
      "\n",
      "\n",
      "A value is trying to be set on a copy of a slice from a DataFrame.\n",
      "Try using .loc[row_indexer,col_indexer] = value instead\n",
      "\n",
      "See the caveats in the documentation: https://pandas.pydata.org/pandas-docs/stable/user_guide/indexing.html#returning-a-view-versus-a-copy\n",
      "\n",
      "/tmp/ipykernel_41343/3571965119.py:24: SettingWithCopyWarning:\n",
      "\n",
      "\n",
      "A value is trying to be set on a copy of a slice from a DataFrame\n",
      "\n",
      "See the caveats in the documentation: https://pandas.pydata.org/pandas-docs/stable/user_guide/indexing.html#returning-a-view-versus-a-copy\n",
      "\n",
      "/home/carlo/GitHub/MultiObjectOptimizationCableYarding/moo_env/lib/python3.10/site-packages/geopandas/geodataframe.py:1456: SettingWithCopyWarning:\n",
      "\n",
      "\n",
      "A value is trying to be set on a copy of a slice from a DataFrame.\n",
      "Try using .loc[row_indexer,col_indexer] = value instead\n",
      "\n",
      "See the caveats in the documentation: https://pandas.pydata.org/pandas-docs/stable/user_guide/indexing.html#returning-a-view-versus-a-copy\n",
      "\n",
      "/tmp/ipykernel_41343/3571965119.py:24: SettingWithCopyWarning:\n",
      "\n",
      "\n",
      "A value is trying to be set on a copy of a slice from a DataFrame\n",
      "\n",
      "See the caveats in the documentation: https://pandas.pydata.org/pandas-docs/stable/user_guide/indexing.html#returning-a-view-versus-a-copy\n",
      "\n",
      "/home/carlo/GitHub/MultiObjectOptimizationCableYarding/moo_env/lib/python3.10/site-packages/geopandas/geodataframe.py:1456: SettingWithCopyWarning:\n",
      "\n",
      "\n",
      "A value is trying to be set on a copy of a slice from a DataFrame.\n",
      "Try using .loc[row_indexer,col_indexer] = value instead\n",
      "\n",
      "See the caveats in the documentation: https://pandas.pydata.org/pandas-docs/stable/user_guide/indexing.html#returning-a-view-versus-a-copy\n",
      "\n",
      "/tmp/ipykernel_41343/3571965119.py:24: SettingWithCopyWarning:\n",
      "\n",
      "\n",
      "A value is trying to be set on a copy of a slice from a DataFrame\n",
      "\n",
      "See the caveats in the documentation: https://pandas.pydata.org/pandas-docs/stable/user_guide/indexing.html#returning-a-view-versus-a-copy\n",
      "\n"
     ]
    }
   ],
   "source": [
    "harvesteable_trees_gdf[\"H/D_value\"] = (\n",
    "    harvesteable_trees_gdf[\"h\"] / harvesteable_trees_gdf[\"BHD\"]\n",
    ")\n",
    "\n",
    "indexes_to_keep = []\n",
    "A_value = 5\n",
    "\n",
    "# doing this too many times\n",
    "for cluster in range(n_clusters):\n",
    "    # select trees\n",
    "    index = np.where(y == cluster)\n",
    "    sub_df = harvesteable_trees_gdf.iloc[index]\n",
    "\n",
    "    # determine index of largest tree\n",
    "    z_tree_index = sub_df[\"BHD\"].idxmax()\n",
    "    z_tree = sub_df.loc[z_tree_index]\n",
    "    z_tree_bhd = z_tree[\"BHD\"]\n",
    "    z_tree_h = z_tree[\"h\"]\n",
    "\n",
    "    # compute the distance of all trees to the largest tree\n",
    "    sub_df[\"distance_to_z_tree\"] = sub_df.distance(sub_df.loc[z_tree_index].geometry)\n",
    "\n",
    "    # drop the largest tree from the dataframe so we dont fell it\n",
    "    sub_df.drop(z_tree_index, inplace=True)\n",
    "\n",
    "    # # A=H/E * d/D\n",
    "    # sub_df[\"A_value\"] = (z_tree_h / sub_df[\"distance_to_z_tree\"]) * (\n",
    "    #     sub_df[\"BHD\"] / z_tree_bhd\n",
    "    # )\n",
    "\n",
    "    # select those trees which are too close to the z tree with GD < H/A*d/D\n",
    "    # negate the condition, since those are the trees we keep. The trees in the list will be felled\n",
    "    sub_df = sub_df[\n",
    "        ~(\n",
    "            sub_df[\"distance_to_z_tree\"]\n",
    "            < (z_tree_h / A_value) * (sub_df[\"BHD\"] / z_tree_bhd)\n",
    "        )\n",
    "    ]\n",
    "\n",
    "    # add the indexes to fell to the list\n",
    "    indexes_to_keep.extend(sub_df.index)\n",
    "\n",
    "harvesteable_trees_gdf_sortiment = harvesteable_trees_gdf.loc[indexes_to_keep]"
   ]
  },
  {
   "cell_type": "code",
   "execution_count": 9,
   "metadata": {},
   "outputs": [
    {
     "name": "stdout",
     "output_type": "stream",
     "text": [
      "went from  100  to  90  trees\n"
     ]
    }
   ],
   "source": [
    "print(\n",
    "    \"went from \",\n",
    "    len(harvesteable_trees_gdf),\n",
    "    \" to \",\n",
    "    len(harvesteable_trees_gdf_sortiment),\n",
    "    \" trees\",\n",
    ")"
   ]
  },
  {
   "cell_type": "markdown",
   "metadata": {},
   "source": [
    "#### <a id='toc1_1_1_3_'></a>[Single-Objective](#toc0_)\n"
   ]
  },
  {
   "cell_type": "code",
   "execution_count": 42,
   "metadata": {},
   "outputs": [
    {
     "name": "stdout",
     "output_type": "stream",
     "text": [
      "Starting with objective 0\n",
      "Starting with objective 1\n",
      "Starting with objective 2\n"
     ]
    }
   ],
   "source": [
    "reload(optimization_compute_quantification)\n",
    "reload(classes_linear_optimization)\n",
    "# Lists to store the results\n",
    "optimization_result_list = []\n",
    "lscp_model_list = []\n",
    "\n",
    "for i in range(0, 3):\n",
    "    print(f\"Starting with objective {i}\")\n",
    "    # set up the model with firs the monetary objective (0), then sideways slope (1) and steep segments (2) as single objective\n",
    "    lscp_optimization = classes_linear_optimization.optimization_object_spopt(\n",
    "        \"Single Objective\",\n",
    "        line_gdf,\n",
    "        harvesteable_trees_gdf,\n",
    "        height_gdf,\n",
    "        objective_to_select=i,\n",
    "        maximum_nuber_cable_roads=4,\n",
    "    )\n",
    "    lscp_optimization.add_generic_vars_and_constraints()\n",
    "    lscp_optimization.add_single_objective_function()\n",
    "    # and solve it\n",
    "    lscp_optimization.solve()\n",
    "    lscp_model_list.append(lscp_optimization)"
   ]
  },
  {
   "cell_type": "code",
   "execution_count": 43,
   "metadata": {},
   "outputs": [],
   "source": [
    "reload(classes_linear_optimization)\n",
    "for count, optimization_object in enumerate(lscp_model_list):\n",
    "    optimization_result_list.append(\n",
    "        classes_linear_optimization.spopt_result(\n",
    "            optimization_object,\n",
    "            line_gdf,\n",
    "            optimization_object.name + str(count),\n",
    "        )\n",
    "    )"
   ]
  },
  {
   "cell_type": "code",
   "execution_count": 47,
   "metadata": {},
   "outputs": [
    {
     "name": "stdout",
     "output_type": "stream",
     "text": [
      "Profit baseline is 2174.65496161942\n"
     ]
    },
    {
     "data": {
      "text/plain": [
       "<AxesSubplot:>"
      ]
     },
     "execution_count": 47,
     "metadata": {},
     "output_type": "execute_result"
    },
    {
     "data": {
      "image/png": "[encoded data removed]",
      "text/plain": [
       "<Figure size 640x480 with 1 Axes>"
      ]
     },
     "metadata": {},
     "output_type": "display_data"
    }
   ],
   "source": [
    "reload(classes_linear_optimization)\n",
    "\n",
    "tree_volumes_list = harvesteable_trees_gdf[\"cubic_volume\"]\n",
    "(\n",
    "    distance_tree_line,\n",
    "    distance_carriage_support,\n",
    ") = geometry_operations.compute_distances_facilities_clients(\n",
    "    harvesteable_trees_gdf, line_gdf\n",
    ")\n",
    "sample_model = lscp_model_list[0]\n",
    "\n",
    "results_df = classes_linear_optimization.model_results_comparison(\n",
    "    optimization_result_list,\n",
    "    line_gdf,\n",
    "    sample_model.distance_tree_line,\n",
    "    distance_carriage_support,\n",
    "    sample_model.productivity_cost,\n",
    "    tree_volumes_list,\n",
    ")\n",
    "\n",
    "results_df.plot()"
   ]
  },
  {
   "cell_type": "code",
   "execution_count": 48,
   "metadata": {},
   "outputs": [
    {
     "data": {
      "text/html": [
       "        <script type=\"text/javascript\">\n",
       "        window.PlotlyConfig = {MathJaxConfig: 'local'};\n",
       "        if (window.MathJax && window.MathJax.Hub && window.MathJax.Hub.Config) {window.MathJax.Hub.Config({SVG: {font: \"STIX-Web\"}});}\n",
       "        if (typeof require !== 'undefined') {\n",
       "        require.undef(\"plotly\");\n",
       "        requirejs.config({\n",
       "            paths: {\n",
       "                'plotly': ['https://cdn.plot.ly/plotly-2.18.2.min']\n",
       "            }\n",
       "        });\n",
       "        require(['plotly'], function(Plotly) {\n",
       "            window._Plotly = Plotly;\n",
       "        });\n",
       "        }\n",
       "        </script>\n",
       "        "
      ]
     },
     "metadata": {},
     "output_type": "display_data"
    },
    {
     "data": {
      "text/html": [
       "<div>                            <div id=\"c08d3329-d3f6-43ae-bb26-9d2073c66076\" class=\"plotly-graph-div\" style=\"height:800px; width:1200px;\"></div>            <script type=\"text/javascript\">                require([\"plotly\"], function(Plotly) {                    window.PLOTLYENV=window.PLOTLYENV || {};                                    if (document.getElementById(\"c08d3329-d3f6-43ae-bb26-9d2073c66076\")) {                    Plotly.newPlot(                        \"c08d3329-d3f6-43ae-bb26-9d2073c66076\",                        [{\"marker\":{\"color\":\"black\"},\"x\":[-26.335098015859195,-85.630951],\"y\":[-6.90860167578362,113.1640033],\"type\":\"scatter\"},{\"marker\":{\"color\":\"red\"},\"mode\":\"markers\",\"name\":\"Trees covered by line 0\",\"x\":[-83.48467459,-88.19360784,-77.38716,-93.90127238,-97.02245733,-102.7610669,-106.9293573,-107.9110969,-110.3984335,-106.0132132,-96.73072895,-96.22606223,-98.31843957,-115.0619992,-108.786355,-114.5846122,-110.2887047,-103.1629812,-95.55933733,-74.37847497,-74.12546686,-83.96798843,-105.839508,-107.0136188,-89.62130667,-83.3753646,-102.8911694,-82.7508461,-78.26144619,-74.66894341,-85.630951,-104.5151239,-90.57745961,-72.9690587,-79.21758645,-87.31261084,-95.6665854,-78.82330588,-70.18942466,-70.13604975,-69.11292673,-105.2474193,-111.0155589,-110.4334077,-109.0691822,-113.8496183,-115.6880358,-116.3580906,-114.450469,-72.28254052,-115.5839619,-20.01427656,-46.08530939,-39.1687174,-41.69020833,-20.15441667,-30.51452551,-65.84327489,-100.4964897,-87.83312994,-67.58248429,-113.9290292,-65.91586274,-66.154401,-61.06820181,-65.06967068,-64.15900983,-55.91586735,-61.14652818,-60.13371324,-64.44548,-64.87632182,-57.75133942,-51.72634937,-54.22529924,-56.03364748,-51.34979148,-57.75406087,-47.45566976,-54.71720264,-48.32035725,-48.23730243,-37.09976663,-37.47195419,-38.754948,-28.88421312,-45.03471145,-52.09936048,-30.53919388,-33.86425279,-42.03635682,-43.77058695,-48.38149441,-33.38285971,-45.35963829,-20.31095449,-30.12933628,-38.2757944,-37.18284862,-26.71358941],\"y\":[95.86970097,98.34736686,105.531576,85.11919619,88.54954267,77.77472,80.351252,82.70909714,75.82409401,89.40781657,98.53306229,100.1307978,100.5692092,85.04506755,77.02719052,82.96372814,86.10765266,85.29616635,104.3161573,104.4872907,104.5034411,102.8353679,86.49467744,95.28771062,107.525112,106.9914629,86.20745338,115.3560539,109.285201,120.7985667,113.1640033,87.68086518,107.7242429,113.7228677,104.8973871,111.5093353,102.4783549,117.612602,120.3503284,119.873547,121.5114816,97.1181028,90.92524233,96.00547745,82.99614333,87.2107575,80.37969702,88.860498,91.64478486,123.1188927,78.43012638,149.922979,140.8923356,139.7536376,142.3992175,148.7100133,144.0812844,113.24662,96.3416446,111.5008781,122.3045443,85.41514138,122.5960266,118.6669428,129.0447034,116.4094181,119.7839872,136.2810578,132.0985808,135.6421414,123.662627,130.8051815,129.7407148,139.1805794,132.3293989,131.1800298,136.4680276,135.4419983,141.6323199,138.5854925,139.9950704,134.702649,143.2286398,144.5117223,141.452916,149.7437673,135.7886081,129.4302928,148.8980511,147.9375081,145.0488265,142.5344245,130.5650093,144.4892955,129.9263817,155.2269872,150.6443552,147.5998112,141.5735606,150.2932019],\"type\":\"scatter\"},{\"marker\":{\"color\":\"black\"},\"x\":[-15.12792573,-26.335098015859195],\"y\":[-26.16056076,-6.90860167578362],\"type\":\"scatter\"},{\"marker\":{\"color\":\"black\"},\"x\":[5.750624681,-26.335098015859195],\"y\":[-23.50333184,-6.90860167578362],\"type\":\"scatter\"},{\"marker\":{\"color\":\"black\"},\"x\":[-32.07481086,-26.335098015859195],\"y\":[-30.17481,-6.90860167578362],\"type\":\"scatter\"},{\"marker\":{\"color\":\"black\"},\"x\":[],\"y\":[],\"type\":\"scatter\"}],                        {\"template\":{\"data\":{\"histogram2dcontour\":[{\"type\":\"histogram2dcontour\",\"colorbar\":{\"outlinewidth\":0,\"ticks\":\"\"},\"colorscale\":[[0.0,\"#0d0887\"],[0.1111111111111111,\"#46039f\"],[0.2222222222222222,\"#7201a8\"],[0.3333333333333333,\"#9c179e\"],[0.4444444444444444,\"#bd3786\"],[0.5555555555555556,\"#d8576b\"],[0.6666666666666666,\"#ed7953\"],[0.7777777777777778,\"#fb9f3a\"],[0.8888888888888888,\"#fdca26\"],[1.0,\"#f0f921\"]]}],\"choropleth\":[{\"type\":\"choropleth\",\"colorbar\":{\"outlinewidth\":0,\"ticks\":\"\"}}],\"histogram2d\":[{\"type\":\"histogram2d\",\"colorbar\":{\"outlinewidth\":0,\"ticks\":\"\"},\"colorscale\":[[0.0,\"#0d0887\"],[0.1111111111111111,\"#46039f\"],[0.2222222222222222,\"#7201a8\"],[0.3333333333333333,\"#9c179e\"],[0.4444444444444444,\"#bd3786\"],[0.5555555555555556,\"#d8576b\"],[0.6666666666666666,\"#ed7953\"],[0.7777777777777778,\"#fb9f3a\"],[0.8888888888888888,\"#fdca26\"],[1.0,\"#f0f921\"]]}],\"heatmap\":[{\"type\":\"heatmap\",\"colorbar\":{\"outlinewidth\":0,\"ticks\":\"\"},\"colorscale\":[[0.0,\"#0d0887\"],[0.1111111111111111,\"#46039f\"],[0.2222222222222222,\"#7201a8\"],[0.3333333333333333,\"#9c179e\"],[0.4444444444444444,\"#bd3786\"],[0.5555555555555556,\"#d8576b\"],[0.6666666666666666,\"#ed7953\"],[0.7777777777777778,\"#fb9f3a\"],[0.8888888888888888,\"#fdca26\"],[1.0,\"#f0f921\"]]}],\"heatmapgl\":[{\"type\":\"heatmapgl\",\"colorbar\":{\"outlinewidth\":0,\"ticks\":\"\"},\"colorscale\":[[0.0,\"#0d0887\"],[0.1111111111111111,\"#46039f\"],[0.2222222222222222,\"#7201a8\"],[0.3333333333333333,\"#9c179e\"],[0.4444444444444444,\"#bd3786\"],[0.5555555555555556,\"#d8576b\"],[0.6666666666666666,\"#ed7953\"],[0.7777777777777778,\"#fb9f3a\"],[0.8888888888888888,\"#fdca26\"],[1.0,\"#f0f921\"]]}],\"contourcarpet\":[{\"type\":\"contourcarpet\",\"colorbar\":{\"outlinewidth\":0,\"ticks\":\"\"}}],\"contour\":[{\"type\":\"contour\",\"colorbar\":{\"outlinewidth\":0,\"ticks\":\"\"},\"colorscale\":[[0.0,\"#0d0887\"],[0.1111111111111111,\"#46039f\"],[0.2222222222222222,\"#7201a8\"],[0.3333333333333333,\"#9c179e\"],[0.4444444444444444,\"#bd3786\"],[0.5555555555555556,\"#d8576b\"],[0.6666666666666666,\"#ed7953\"],[0.7777777777777778,\"#fb9f3a\"],[0.8888888888888888,\"#fdca26\"],[1.0,\"#f0f921\"]]}],\"surface\":[{\"type\":\"surface\",\"colorbar\":{\"outlinewidth\":0,\"ticks\":\"\"},\"colorscale\":[[0.0,\"#0d0887\"],[0.1111111111111111,\"#46039f\"],[0.2222222222222222,\"#7201a8\"],[0.3333333333333333,\"#9c179e\"],[0.4444444444444444,\"#bd3786\"],[0.5555555555555556,\"#d8576b\"],[0.6666666666666666,\"#ed7953\"],[0.7777777777777778,\"#fb9f3a\"],[0.8888888888888888,\"#fdca26\"],[1.0,\"#f0f921\"]]}],\"mesh3d\":[{\"type\":\"mesh3d\",\"colorbar\":{\"outlinewidth\":0,\"ticks\":\"\"}}],\"scatter\":[{\"fillpattern\":{\"fillmode\":\"overlay\",\"size\":10,\"solidity\":0.2},\"type\":\"scatter\"}],\"parcoords\":[{\"type\":\"parcoords\",\"line\":{\"colorbar\":{\"outlinewidth\":0,\"ticks\":\"\"}}}],\"scatterpolargl\":[{\"type\":\"scatterpolargl\",\"marker\":{\"colorbar\":{\"outlinewidth\":0,\"ticks\":\"\"}}}],\"bar\":[{\"error_x\":{\"color\":\"#2a3f5f\"},\"error_y\":{\"color\":\"#2a3f5f\"},\"marker\":{\"line\":{\"color\":\"#E5ECF6\",\"width\":0.5},\"pattern\":{\"fillmode\":\"overlay\",\"size\":10,\"solidity\":0.2}},\"type\":\"bar\"}],\"scattergeo\":[{\"type\":\"scattergeo\",\"marker\":{\"colorbar\":{\"outlinewidth\":0,\"ticks\":\"\"}}}],\"scatterpolar\":[{\"type\":\"scatterpolar\",\"marker\":{\"colorbar\":{\"outlinewidth\":0,\"ticks\":\"\"}}}],\"histogram\":[{\"marker\":{\"pattern\":{\"fillmode\":\"overlay\",\"size\":10,\"solidity\":0.2}},\"type\":\"histogram\"}],\"scattergl\":[{\"type\":\"scattergl\",\"marker\":{\"colorbar\":{\"outlinewidth\":0,\"ticks\":\"\"}}}],\"scatter3d\":[{\"type\":\"scatter3d\",\"line\":{\"colorbar\":{\"outlinewidth\":0,\"ticks\":\"\"}},\"marker\":{\"colorbar\":{\"outlinewidth\":0,\"ticks\":\"\"}}}],\"scattermapbox\":[{\"type\":\"scattermapbox\",\"marker\":{\"colorbar\":{\"outlinewidth\":0,\"ticks\":\"\"}}}],\"scatterternary\":[{\"type\":\"scatterternary\",\"marker\":{\"colorbar\":{\"outlinewidth\":0,\"ticks\":\"\"}}}],\"scattercarpet\":[{\"type\":\"scattercarpet\",\"marker\":{\"colorbar\":{\"outlinewidth\":0,\"ticks\":\"\"}}}],\"carpet\":[{\"aaxis\":{\"endlinecolor\":\"#2a3f5f\",\"gridcolor\":\"white\",\"linecolor\":\"white\",\"minorgridcolor\":\"white\",\"startlinecolor\":\"#2a3f5f\"},\"baxis\":{\"endlinecolor\":\"#2a3f5f\",\"gridcolor\":\"white\",\"linecolor\":\"white\",\"minorgridcolor\":\"white\",\"startlinecolor\":\"#2a3f5f\"},\"type\":\"carpet\"}],\"table\":[{\"cells\":{\"fill\":{\"color\":\"#EBF0F8\"},\"line\":{\"color\":\"white\"}},\"header\":{\"fill\":{\"color\":\"#C8D4E3\"},\"line\":{\"color\":\"white\"}},\"type\":\"table\"}],\"barpolar\":[{\"marker\":{\"line\":{\"color\":\"#E5ECF6\",\"width\":0.5},\"pattern\":{\"fillmode\":\"overlay\",\"size\":10,\"solidity\":0.2}},\"type\":\"barpolar\"}],\"pie\":[{\"automargin\":true,\"type\":\"pie\"}]},\"layout\":{\"autotypenumbers\":\"strict\",\"colorway\":[\"#636efa\",\"#EF553B\",\"#00cc96\",\"#ab63fa\",\"#FFA15A\",\"#19d3f3\",\"#FF6692\",\"#B6E880\",\"#FF97FF\",\"#FECB52\"],\"font\":{\"color\":\"#2a3f5f\"},\"hovermode\":\"closest\",\"hoverlabel\":{\"align\":\"left\"},\"paper_bgcolor\":\"white\",\"plot_bgcolor\":\"#E5ECF6\",\"polar\":{\"bgcolor\":\"#E5ECF6\",\"angularaxis\":{\"gridcolor\":\"white\",\"linecolor\":\"white\",\"ticks\":\"\"},\"radialaxis\":{\"gridcolor\":\"white\",\"linecolor\":\"white\",\"ticks\":\"\"}},\"ternary\":{\"bgcolor\":\"#E5ECF6\",\"aaxis\":{\"gridcolor\":\"white\",\"linecolor\":\"white\",\"ticks\":\"\"},\"baxis\":{\"gridcolor\":\"white\",\"linecolor\":\"white\",\"ticks\":\"\"},\"caxis\":{\"gridcolor\":\"white\",\"linecolor\":\"white\",\"ticks\":\"\"}},\"coloraxis\":{\"colorbar\":{\"outlinewidth\":0,\"ticks\":\"\"}},\"colorscale\":{\"sequential\":[[0.0,\"#0d0887\"],[0.1111111111111111,\"#46039f\"],[0.2222222222222222,\"#7201a8\"],[0.3333333333333333,\"#9c179e\"],[0.4444444444444444,\"#bd3786\"],[0.5555555555555556,\"#d8576b\"],[0.6666666666666666,\"#ed7953\"],[0.7777777777777778,\"#fb9f3a\"],[0.8888888888888888,\"#fdca26\"],[1.0,\"#f0f921\"]],\"sequentialminus\":[[0.0,\"#0d0887\"],[0.1111111111111111,\"#46039f\"],[0.2222222222222222,\"#7201a8\"],[0.3333333333333333,\"#9c179e\"],[0.4444444444444444,\"#bd3786\"],[0.5555555555555556,\"#d8576b\"],[0.6666666666666666,\"#ed7953\"],[0.7777777777777778,\"#fb9f3a\"],[0.8888888888888888,\"#fdca26\"],[1.0,\"#f0f921\"]],\"diverging\":[[0,\"#8e0152\"],[0.1,\"#c51b7d\"],[0.2,\"#de77ae\"],[0.3,\"#f1b6da\"],[0.4,\"#fde0ef\"],[0.5,\"#f7f7f7\"],[0.6,\"#e6f5d0\"],[0.7,\"#b8e186\"],[0.8,\"#7fbc41\"],[0.9,\"#4d9221\"],[1,\"#276419\"]]},\"xaxis\":{\"gridcolor\":\"white\",\"linecolor\":\"white\",\"ticks\":\"\",\"title\":{\"standoff\":15},\"zerolinecolor\":\"white\",\"automargin\":true,\"zerolinewidth\":2},\"yaxis\":{\"gridcolor\":\"white\",\"linecolor\":\"white\",\"ticks\":\"\",\"title\":{\"standoff\":15},\"zerolinecolor\":\"white\",\"automargin\":true,\"zerolinewidth\":2},\"scene\":{\"xaxis\":{\"backgroundcolor\":\"#E5ECF6\",\"gridcolor\":\"white\",\"linecolor\":\"white\",\"showbackground\":true,\"ticks\":\"\",\"zerolinecolor\":\"white\",\"gridwidth\":2},\"yaxis\":{\"backgroundcolor\":\"#E5ECF6\",\"gridcolor\":\"white\",\"linecolor\":\"white\",\"showbackground\":true,\"ticks\":\"\",\"zerolinecolor\":\"white\",\"gridwidth\":2},\"zaxis\":{\"backgroundcolor\":\"#E5ECF6\",\"gridcolor\":\"white\",\"linecolor\":\"white\",\"showbackground\":true,\"ticks\":\"\",\"zerolinecolor\":\"white\",\"gridwidth\":2}},\"shapedefaults\":{\"line\":{\"color\":\"#2a3f5f\"}},\"annotationdefaults\":{\"arrowcolor\":\"#2a3f5f\",\"arrowhead\":0,\"arrowwidth\":1},\"geo\":{\"bgcolor\":\"white\",\"landcolor\":\"#E5ECF6\",\"subunitcolor\":\"white\",\"showland\":true,\"showlakes\":true,\"lakecolor\":\"white\"},\"title\":{\"x\":0.05},\"mapbox\":{\"style\":\"light\"}}},\"width\":1200,\"height\":800,\"showlegend\":false},                        {\"responsive\": true}                    ).then(function(){\n",
       "                            \n",
       "var gd = document.getElementById('c08d3329-d3f6-43ae-bb26-9d2073c66076');\n",
       "var x = new MutationObserver(function (mutations, observer) {{\n",
       "        var display = window.getComputedStyle(gd).display;\n",
       "        if (!display || display === 'none') {{\n",
       "            console.log([gd, 'removed!']);\n",
       "            Plotly.purge(gd);\n",
       "            observer.disconnect();\n",
       "        }}\n",
       "}});\n",
       "\n",
       "// Listen for the removal of the full notebook cells\n",
       "var notebookContainer = gd.closest('#notebook-container');\n",
       "if (notebookContainer) {{\n",
       "    x.observe(notebookContainer, {childList: true});\n",
       "}}\n",
       "\n",
       "// Listen for the clearing of the current output cell\n",
       "var outputEl = gd.closest('.output');\n",
       "if (outputEl) {{\n",
       "    x.observe(outputEl, {childList: true});\n",
       "}}\n",
       "\n",
       "                        })                };                });            </script>        </div>"
      ]
     },
     "metadata": {},
     "output_type": "display_data"
    },
    {
     "data": {
      "text/html": [
       "        <script type=\"text/javascript\">\n",
       "        window.PlotlyConfig = {MathJaxConfig: 'local'};\n",
       "        if (window.MathJax && window.MathJax.Hub && window.MathJax.Hub.Config) {window.MathJax.Hub.Config({SVG: {font: \"STIX-Web\"}});}\n",
       "        if (typeof require !== 'undefined') {\n",
       "        require.undef(\"plotly\");\n",
       "        requirejs.config({\n",
       "            paths: {\n",
       "                'plotly': ['https://cdn.plot.ly/plotly-2.18.2.min']\n",
       "            }\n",
       "        });\n",
       "        require(['plotly'], function(Plotly) {\n",
       "            window._Plotly = Plotly;\n",
       "        });\n",
       "        }\n",
       "        </script>\n",
       "        "
      ]
     },
     "metadata": {},
     "output_type": "display_data"
    },
    {
     "data": {
      "text/html": [
       "<div>                            <div id=\"87938fa4-9efe-4526-9a15-b4ccc8e39a65\" class=\"plotly-graph-div\" style=\"height:800px; width:1200px;\"></div>            <script type=\"text/javascript\">                require([\"plotly\"], function(Plotly) {                    window.PLOTLYENV=window.PLOTLYENV || {};                                    if (document.getElementById(\"87938fa4-9efe-4526-9a15-b4ccc8e39a65\")) {                    Plotly.newPlot(                        \"87938fa4-9efe-4526-9a15-b4ccc8e39a65\",                        [{\"marker\":{\"color\":\"black\"},\"x\":[-29.880646898378075,-106.0132132],\"y\":[-8.757599103801436,89.40781657],\"type\":\"scatter\"},{\"marker\":{\"color\":\"red\"},\"mode\":\"markers\",\"name\":\"Trees covered by line 0\",\"x\":[-93.90127238,-97.02245733,-102.7610669,-106.9293573,-107.9110969,-110.3984335,-106.0132132,-115.0619992,-108.786355,-114.5846122,-110.2887047,-103.1629812,-105.839508,-107.0136188,-102.8911694,-104.5151239,-105.2474193,-111.0155589,-110.4334077,-109.0691822,-113.8496183,-115.6880358,-116.3580906,-114.450469,-115.5839619,-100.4964897,-113.9290292],\"y\":[85.11919619,88.54954267,77.77472,80.351252,82.70909714,75.82409401,89.40781657,85.04506755,77.02719052,82.96372814,86.10765266,85.29616635,86.49467744,95.28771062,86.20745338,87.68086518,97.1181028,90.92524233,96.00547745,82.99614333,87.2107575,80.37969702,88.860498,91.64478486,78.43012638,96.3416446,85.41514138],\"type\":\"scatter\"},{\"marker\":{\"color\":\"black\"},\"x\":[-15.12792573,-29.880646898378075],\"y\":[-26.16056076,-8.757599103801436],\"type\":\"scatter\"},{\"marker\":{\"color\":\"black\"},\"x\":[5.750624681,-29.880646898378075],\"y\":[-23.50333184,-8.757599103801436],\"type\":\"scatter\"},{\"marker\":{\"color\":\"black\"},\"x\":[-22.92090482,-29.880646898378075],\"y\":[-30.73934474,-8.757599103801436],\"type\":\"scatter\"},{\"marker\":{\"color\":\"black\"},\"x\":[-83.54479257],\"y\":[57.81202571],\"type\":\"scatter\"},{\"marker\":{\"color\":\"black\"},\"x\":[-28.09774993774453,-96.73072895],\"y\":[-7.853619242961038,98.53306229],\"type\":\"scatter\"},{\"marker\":{\"color\":\"blue\"},\"mode\":\"markers\",\"name\":\"Trees covered by line 1\",\"x\":[-83.48467459,-88.19360784,-96.73072895,-96.22606223,-98.31843957,-95.55933733,-95.6665854],\"y\":[95.86970097,98.34736686,98.53306229,100.1307978,100.5692092,104.3161573,102.4783549],\"type\":\"scatter\"},{\"marker\":{\"color\":\"black\"},\"x\":[-15.12792573,-28.09774993774453],\"y\":[-26.16056076,-7.853619242961038],\"type\":\"scatter\"},{\"marker\":{\"color\":\"black\"},\"x\":[5.750624681,-28.09774993774453],\"y\":[-23.50333184,-7.853619242961038],\"type\":\"scatter\"},{\"marker\":{\"color\":\"black\"},\"x\":[-22.92090482,-28.09774993774453],\"y\":[-30.73934474,-7.853619242961038],\"type\":\"scatter\"},{\"marker\":{\"color\":\"black\"},\"x\":[],\"y\":[],\"type\":\"scatter\"},{\"marker\":{\"color\":\"black\"},\"x\":[-26.335098015859195,-85.630951],\"y\":[-6.90860167578362,113.1640033],\"type\":\"scatter\"},{\"marker\":{\"color\":\"green\"},\"mode\":\"markers\",\"name\":\"Trees covered by line 2\",\"x\":[-77.38716,-74.37847497,-74.12546686,-83.96798843,-89.62130667,-83.3753646,-82.7508461,-78.26144619,-74.66894341,-85.630951,-90.57745961,-79.21758645,-87.31261084,-78.82330588,-72.28254052,-87.83312994,-60.13371324,-64.87632182],\"y\":[105.531576,104.4872907,104.5034411,102.8353679,107.525112,106.9914629,115.3560539,109.285201,120.7985667,113.1640033,107.7242429,104.8973871,111.5093353,117.612602,123.1188927,111.5008781,135.6421414,130.8051815],\"type\":\"scatter\"},{\"marker\":{\"color\":\"black\"},\"x\":[-15.12792573,-26.335098015859195],\"y\":[-26.16056076,-6.90860167578362],\"type\":\"scatter\"},{\"marker\":{\"color\":\"black\"},\"x\":[5.750624681,-26.335098015859195],\"y\":[-23.50333184,-6.90860167578362],\"type\":\"scatter\"},{\"marker\":{\"color\":\"black\"},\"x\":[-32.07481086,-26.335098015859195],\"y\":[-30.17481,-6.90860167578362],\"type\":\"scatter\"},{\"marker\":{\"color\":\"black\"},\"x\":[],\"y\":[],\"type\":\"scatter\"},{\"marker\":{\"color\":\"black\"},\"x\":[-24.572446093973856,-74.37847497],\"y\":[-5.963584108606202,104.4872907],\"type\":\"scatter\"},{\"marker\":{\"color\":\"orange\"},\"mode\":\"markers\",\"name\":\"Trees covered by line 3\",\"x\":[-72.9690587,-70.18942466,-70.13604975,-69.11292673,-20.01427656,-46.08530939,-39.1687174,-41.69020833,-20.15441667,-30.51452551,-65.84327489,-67.58248429,-65.91586274,-66.154401,-61.06820181,-65.06967068,-64.15900983,-55.91586735,-61.14652818,-64.44548,-57.75133942,-51.72634937,-54.22529924,-56.03364748,-51.34979148,-57.75406087,-47.45566976,-54.71720264,-48.32035725,-48.23730243,-37.09976663,-37.47195419,-38.754948,-28.88421312,-45.03471145,-52.09936048,-30.53919388,-33.86425279,-42.03635682,-43.77058695,-48.38149441,-33.38285971,-45.35963829,-20.31095449,-30.12933628,-38.2757944,-37.18284862,-26.71358941],\"y\":[113.7228677,120.3503284,119.873547,121.5114816,149.922979,140.8923356,139.7536376,142.3992175,148.7100133,144.0812844,113.24662,122.3045443,122.5960266,118.6669428,129.0447034,116.4094181,119.7839872,136.2810578,132.0985808,123.662627,129.7407148,139.1805794,132.3293989,131.1800298,136.4680276,135.4419983,141.6323199,138.5854925,139.9950704,134.702649,143.2286398,144.5117223,141.452916,149.7437673,135.7886081,129.4302928,148.8980511,147.9375081,145.0488265,142.5344245,130.5650093,144.4892955,129.9263817,155.2269872,150.6443552,147.5998112,141.5735606,150.2932019],\"type\":\"scatter\"},{\"marker\":{\"color\":\"black\"},\"x\":[-15.12792573,-24.572446093973856],\"y\":[-26.16056076,-5.963584108606202],\"type\":\"scatter\"},{\"marker\":{\"color\":\"black\"},\"x\":[5.750624681,-24.572446093973856],\"y\":[-23.50333184,-5.963584108606202],\"type\":\"scatter\"},{\"marker\":{\"color\":\"black\"},\"x\":[-22.92090482,-24.572446093973856],\"y\":[-30.73934474,-5.963584108606202],\"type\":\"scatter\"},{\"marker\":{\"color\":\"black\"},\"x\":[],\"y\":[],\"type\":\"scatter\"}],                        {\"template\":{\"data\":{\"histogram2dcontour\":[{\"type\":\"histogram2dcontour\",\"colorbar\":{\"outlinewidth\":0,\"ticks\":\"\"},\"colorscale\":[[0.0,\"#0d0887\"],[0.1111111111111111,\"#46039f\"],[0.2222222222222222,\"#7201a8\"],[0.3333333333333333,\"#9c179e\"],[0.4444444444444444,\"#bd3786\"],[0.5555555555555556,\"#d8576b\"],[0.6666666666666666,\"#ed7953\"],[0.7777777777777778,\"#fb9f3a\"],[0.8888888888888888,\"#fdca26\"],[1.0,\"#f0f921\"]]}],\"choropleth\":[{\"type\":\"choropleth\",\"colorbar\":{\"outlinewidth\":0,\"ticks\":\"\"}}],\"histogram2d\":[{\"type\":\"histogram2d\",\"colorbar\":{\"outlinewidth\":0,\"ticks\":\"\"},\"colorscale\":[[0.0,\"#0d0887\"],[0.1111111111111111,\"#46039f\"],[0.2222222222222222,\"#7201a8\"],[0.3333333333333333,\"#9c179e\"],[0.4444444444444444,\"#bd3786\"],[0.5555555555555556,\"#d8576b\"],[0.6666666666666666,\"#ed7953\"],[0.7777777777777778,\"#fb9f3a\"],[0.8888888888888888,\"#fdca26\"],[1.0,\"#f0f921\"]]}],\"heatmap\":[{\"type\":\"heatmap\",\"colorbar\":{\"outlinewidth\":0,\"ticks\":\"\"},\"colorscale\":[[0.0,\"#0d0887\"],[0.1111111111111111,\"#46039f\"],[0.2222222222222222,\"#7201a8\"],[0.3333333333333333,\"#9c179e\"],[0.4444444444444444,\"#bd3786\"],[0.5555555555555556,\"#d8576b\"],[0.6666666666666666,\"#ed7953\"],[0.7777777777777778,\"#fb9f3a\"],[0.8888888888888888,\"#fdca26\"],[1.0,\"#f0f921\"]]}],\"heatmapgl\":[{\"type\":\"heatmapgl\",\"colorbar\":{\"outlinewidth\":0,\"ticks\":\"\"},\"colorscale\":[[0.0,\"#0d0887\"],[0.1111111111111111,\"#46039f\"],[0.2222222222222222,\"#7201a8\"],[0.3333333333333333,\"#9c179e\"],[0.4444444444444444,\"#bd3786\"],[0.5555555555555556,\"#d8576b\"],[0.6666666666666666,\"#ed7953\"],[0.7777777777777778,\"#fb9f3a\"],[0.8888888888888888,\"#fdca26\"],[1.0,\"#f0f921\"]]}],\"contourcarpet\":[{\"type\":\"contourcarpet\",\"colorbar\":{\"outlinewidth\":0,\"ticks\":\"\"}}],\"contour\":[{\"type\":\"contour\",\"colorbar\":{\"outlinewidth\":0,\"ticks\":\"\"},\"colorscale\":[[0.0,\"#0d0887\"],[0.1111111111111111,\"#46039f\"],[0.2222222222222222,\"#7201a8\"],[0.3333333333333333,\"#9c179e\"],[0.4444444444444444,\"#bd3786\"],[0.5555555555555556,\"#d8576b\"],[0.6666666666666666,\"#ed7953\"],[0.7777777777777778,\"#fb9f3a\"],[0.8888888888888888,\"#fdca26\"],[1.0,\"#f0f921\"]]}],\"surface\":[{\"type\":\"surface\",\"colorbar\":{\"outlinewidth\":0,\"ticks\":\"\"},\"colorscale\":[[0.0,\"#0d0887\"],[0.1111111111111111,\"#46039f\"],[0.2222222222222222,\"#7201a8\"],[0.3333333333333333,\"#9c179e\"],[0.4444444444444444,\"#bd3786\"],[0.5555555555555556,\"#d8576b\"],[0.6666666666666666,\"#ed7953\"],[0.7777777777777778,\"#fb9f3a\"],[0.8888888888888888,\"#fdca26\"],[1.0,\"#f0f921\"]]}],\"mesh3d\":[{\"type\":\"mesh3d\",\"colorbar\":{\"outlinewidth\":0,\"ticks\":\"\"}}],\"scatter\":[{\"fillpattern\":{\"fillmode\":\"overlay\",\"size\":10,\"solidity\":0.2},\"type\":\"scatter\"}],\"parcoords\":[{\"type\":\"parcoords\",\"line\":{\"colorbar\":{\"outlinewidth\":0,\"ticks\":\"\"}}}],\"scatterpolargl\":[{\"type\":\"scatterpolargl\",\"marker\":{\"colorbar\":{\"outlinewidth\":0,\"ticks\":\"\"}}}],\"bar\":[{\"error_x\":{\"color\":\"#2a3f5f\"},\"error_y\":{\"color\":\"#2a3f5f\"},\"marker\":{\"line\":{\"color\":\"#E5ECF6\",\"width\":0.5},\"pattern\":{\"fillmode\":\"overlay\",\"size\":10,\"solidity\":0.2}},\"type\":\"bar\"}],\"scattergeo\":[{\"type\":\"scattergeo\",\"marker\":{\"colorbar\":{\"outlinewidth\":0,\"ticks\":\"\"}}}],\"scatterpolar\":[{\"type\":\"scatterpolar\",\"marker\":{\"colorbar\":{\"outlinewidth\":0,\"ticks\":\"\"}}}],\"histogram\":[{\"marker\":{\"pattern\":{\"fillmode\":\"overlay\",\"size\":10,\"solidity\":0.2}},\"type\":\"histogram\"}],\"scattergl\":[{\"type\":\"scattergl\",\"marker\":{\"colorbar\":{\"outlinewidth\":0,\"ticks\":\"\"}}}],\"scatter3d\":[{\"type\":\"scatter3d\",\"line\":{\"colorbar\":{\"outlinewidth\":0,\"ticks\":\"\"}},\"marker\":{\"colorbar\":{\"outlinewidth\":0,\"ticks\":\"\"}}}],\"scattermapbox\":[{\"type\":\"scattermapbox\",\"marker\":{\"colorbar\":{\"outlinewidth\":0,\"ticks\":\"\"}}}],\"scatterternary\":[{\"type\":\"scatterternary\",\"marker\":{\"colorbar\":{\"outlinewidth\":0,\"ticks\":\"\"}}}],\"scattercarpet\":[{\"type\":\"scattercarpet\",\"marker\":{\"colorbar\":{\"outlinewidth\":0,\"ticks\":\"\"}}}],\"carpet\":[{\"aaxis\":{\"endlinecolor\":\"#2a3f5f\",\"gridcolor\":\"white\",\"linecolor\":\"white\",\"minorgridcolor\":\"white\",\"startlinecolor\":\"#2a3f5f\"},\"baxis\":{\"endlinecolor\":\"#2a3f5f\",\"gridcolor\":\"white\",\"linecolor\":\"white\",\"minorgridcolor\":\"white\",\"startlinecolor\":\"#2a3f5f\"},\"type\":\"carpet\"}],\"table\":[{\"cells\":{\"fill\":{\"color\":\"#EBF0F8\"},\"line\":{\"color\":\"white\"}},\"header\":{\"fill\":{\"color\":\"#C8D4E3\"},\"line\":{\"color\":\"white\"}},\"type\":\"table\"}],\"barpolar\":[{\"marker\":{\"line\":{\"color\":\"#E5ECF6\",\"width\":0.5},\"pattern\":{\"fillmode\":\"overlay\",\"size\":10,\"solidity\":0.2}},\"type\":\"barpolar\"}],\"pie\":[{\"automargin\":true,\"type\":\"pie\"}]},\"layout\":{\"autotypenumbers\":\"strict\",\"colorway\":[\"#636efa\",\"#EF553B\",\"#00cc96\",\"#ab63fa\",\"#FFA15A\",\"#19d3f3\",\"#FF6692\",\"#B6E880\",\"#FF97FF\",\"#FECB52\"],\"font\":{\"color\":\"#2a3f5f\"},\"hovermode\":\"closest\",\"hoverlabel\":{\"align\":\"left\"},\"paper_bgcolor\":\"white\",\"plot_bgcolor\":\"#E5ECF6\",\"polar\":{\"bgcolor\":\"#E5ECF6\",\"angularaxis\":{\"gridcolor\":\"white\",\"linecolor\":\"white\",\"ticks\":\"\"},\"radialaxis\":{\"gridcolor\":\"white\",\"linecolor\":\"white\",\"ticks\":\"\"}},\"ternary\":{\"bgcolor\":\"#E5ECF6\",\"aaxis\":{\"gridcolor\":\"white\",\"linecolor\":\"white\",\"ticks\":\"\"},\"baxis\":{\"gridcolor\":\"white\",\"linecolor\":\"white\",\"ticks\":\"\"},\"caxis\":{\"gridcolor\":\"white\",\"linecolor\":\"white\",\"ticks\":\"\"}},\"coloraxis\":{\"colorbar\":{\"outlinewidth\":0,\"ticks\":\"\"}},\"colorscale\":{\"sequential\":[[0.0,\"#0d0887\"],[0.1111111111111111,\"#46039f\"],[0.2222222222222222,\"#7201a8\"],[0.3333333333333333,\"#9c179e\"],[0.4444444444444444,\"#bd3786\"],[0.5555555555555556,\"#d8576b\"],[0.6666666666666666,\"#ed7953\"],[0.7777777777777778,\"#fb9f3a\"],[0.8888888888888888,\"#fdca26\"],[1.0,\"#f0f921\"]],\"sequentialminus\":[[0.0,\"#0d0887\"],[0.1111111111111111,\"#46039f\"],[0.2222222222222222,\"#7201a8\"],[0.3333333333333333,\"#9c179e\"],[0.4444444444444444,\"#bd3786\"],[0.5555555555555556,\"#d8576b\"],[0.6666666666666666,\"#ed7953\"],[0.7777777777777778,\"#fb9f3a\"],[0.8888888888888888,\"#fdca26\"],[1.0,\"#f0f921\"]],\"diverging\":[[0,\"#8e0152\"],[0.1,\"#c51b7d\"],[0.2,\"#de77ae\"],[0.3,\"#f1b6da\"],[0.4,\"#fde0ef\"],[0.5,\"#f7f7f7\"],[0.6,\"#e6f5d0\"],[0.7,\"#b8e186\"],[0.8,\"#7fbc41\"],[0.9,\"#4d9221\"],[1,\"#276419\"]]},\"xaxis\":{\"gridcolor\":\"white\",\"linecolor\":\"white\",\"ticks\":\"\",\"title\":{\"standoff\":15},\"zerolinecolor\":\"white\",\"automargin\":true,\"zerolinewidth\":2},\"yaxis\":{\"gridcolor\":\"white\",\"linecolor\":\"white\",\"ticks\":\"\",\"title\":{\"standoff\":15},\"zerolinecolor\":\"white\",\"automargin\":true,\"zerolinewidth\":2},\"scene\":{\"xaxis\":{\"backgroundcolor\":\"#E5ECF6\",\"gridcolor\":\"white\",\"linecolor\":\"white\",\"showbackground\":true,\"ticks\":\"\",\"zerolinecolor\":\"white\",\"gridwidth\":2},\"yaxis\":{\"backgroundcolor\":\"#E5ECF6\",\"gridcolor\":\"white\",\"linecolor\":\"white\",\"showbackground\":true,\"ticks\":\"\",\"zerolinecolor\":\"white\",\"gridwidth\":2},\"zaxis\":{\"backgroundcolor\":\"#E5ECF6\",\"gridcolor\":\"white\",\"linecolor\":\"white\",\"showbackground\":true,\"ticks\":\"\",\"zerolinecolor\":\"white\",\"gridwidth\":2}},\"shapedefaults\":{\"line\":{\"color\":\"#2a3f5f\"}},\"annotationdefaults\":{\"arrowcolor\":\"#2a3f5f\",\"arrowhead\":0,\"arrowwidth\":1},\"geo\":{\"bgcolor\":\"white\",\"landcolor\":\"#E5ECF6\",\"subunitcolor\":\"white\",\"showland\":true,\"showlakes\":true,\"lakecolor\":\"white\"},\"title\":{\"x\":0.05},\"mapbox\":{\"style\":\"light\"}}},\"width\":1200,\"height\":800,\"showlegend\":false},                        {\"responsive\": true}                    ).then(function(){\n",
       "                            \n",
       "var gd = document.getElementById('87938fa4-9efe-4526-9a15-b4ccc8e39a65');\n",
       "var x = new MutationObserver(function (mutations, observer) {{\n",
       "        var display = window.getComputedStyle(gd).display;\n",
       "        if (!display || display === 'none') {{\n",
       "            console.log([gd, 'removed!']);\n",
       "            Plotly.purge(gd);\n",
       "            observer.disconnect();\n",
       "        }}\n",
       "}});\n",
       "\n",
       "// Listen for the removal of the full notebook cells\n",
       "var notebookContainer = gd.closest('#notebook-container');\n",
       "if (notebookContainer) {{\n",
       "    x.observe(notebookContainer, {childList: true});\n",
       "}}\n",
       "\n",
       "// Listen for the clearing of the current output cell\n",
       "var outputEl = gd.closest('.output');\n",
       "if (outputEl) {{\n",
       "    x.observe(outputEl, {childList: true});\n",
       "}}\n",
       "\n",
       "                        })                };                });            </script>        </div>"
      ]
     },
     "metadata": {},
     "output_type": "display_data"
    },
    {
     "data": {
      "text/html": [
       "        <script type=\"text/javascript\">\n",
       "        window.PlotlyConfig = {MathJaxConfig: 'local'};\n",
       "        if (window.MathJax && window.MathJax.Hub && window.MathJax.Hub.Config) {window.MathJax.Hub.Config({SVG: {font: \"STIX-Web\"}});}\n",
       "        if (typeof require !== 'undefined') {\n",
       "        require.undef(\"plotly\");\n",
       "        requirejs.config({\n",
       "            paths: {\n",
       "                'plotly': ['https://cdn.plot.ly/plotly-2.18.2.min']\n",
       "            }\n",
       "        });\n",
       "        require(['plotly'], function(Plotly) {\n",
       "            window._Plotly = Plotly;\n",
       "        });\n",
       "        }\n",
       "        </script>\n",
       "        "
      ]
     },
     "metadata": {},
     "output_type": "display_data"
    },
    {
     "data": {
      "text/html": [
       "<div>                            <div id=\"e3666e1b-7cae-4d8d-8f4f-31b65e93d706\" class=\"plotly-graph-div\" style=\"height:800px; width:1200px;\"></div>            <script type=\"text/javascript\">                require([\"plotly\"], function(Plotly) {                    window.PLOTLYENV=window.PLOTLYENV || {};                                    if (document.getElementById(\"e3666e1b-7cae-4d8d-8f4f-31b65e93d706\")) {                    Plotly.newPlot(                        \"e3666e1b-7cae-4d8d-8f4f-31b65e93d706\",                        [{\"marker\":{\"color\":\"black\"},\"x\":[-29.880646898378075,-106.0132132],\"y\":[-8.757599103801436,89.40781657],\"type\":\"scatter\"},{\"marker\":{\"color\":\"red\"},\"mode\":\"markers\",\"name\":\"Trees covered by line 0\",\"x\":[-93.90127238,-97.02245733,-102.7610669,-106.9293573,-107.9110969,-110.3984335,-106.0132132,-96.73072895,-96.22606223,-98.31843957,-115.0619992,-108.786355,-114.5846122,-110.2887047,-103.1629812,-105.839508,-107.0136188,-102.8911694,-104.5151239,-105.2474193,-111.0155589,-110.4334077,-109.0691822,-113.8496183,-115.6880358,-116.3580906,-114.450469,-115.5839619,-100.4964897,-113.9290292],\"y\":[85.11919619,88.54954267,77.77472,80.351252,82.70909714,75.82409401,89.40781657,98.53306229,100.1307978,100.5692092,85.04506755,77.02719052,82.96372814,86.10765266,85.29616635,86.49467744,95.28771062,86.20745338,87.68086518,97.1181028,90.92524233,96.00547745,82.99614333,87.2107575,80.37969702,88.860498,91.64478486,78.43012638,96.3416446,85.41514138],\"type\":\"scatter\"},{\"marker\":{\"color\":\"black\"},\"x\":[-15.12792573,-29.880646898378075],\"y\":[-26.16056076,-8.757599103801436],\"type\":\"scatter\"},{\"marker\":{\"color\":\"black\"},\"x\":[5.750624681,-29.880646898378075],\"y\":[-23.50333184,-8.757599103801436],\"type\":\"scatter\"},{\"marker\":{\"color\":\"black\"},\"x\":[-22.92090482,-29.880646898378075],\"y\":[-30.73934474,-8.757599103801436],\"type\":\"scatter\"},{\"marker\":{\"color\":\"black\"},\"x\":[-83.54479257],\"y\":[57.81202571],\"type\":\"scatter\"},{\"marker\":{\"color\":\"black\"},\"x\":[-28.09774993774453,-96.73072895],\"y\":[-7.853619242961038,98.53306229],\"type\":\"scatter\"},{\"marker\":{\"color\":\"blue\"},\"mode\":\"markers\",\"name\":\"Trees covered by line 1\",\"x\":[-83.48467459,-88.19360784,-95.55933733,-83.96798843,-89.62130667,-90.57745961,-95.6665854],\"y\":[95.86970097,98.34736686,104.3161573,102.8353679,107.525112,107.7242429,102.4783549],\"type\":\"scatter\"},{\"marker\":{\"color\":\"black\"},\"x\":[-15.12792573,-28.09774993774453],\"y\":[-26.16056076,-7.853619242961038],\"type\":\"scatter\"},{\"marker\":{\"color\":\"black\"},\"x\":[5.750624681,-28.09774993774453],\"y\":[-23.50333184,-7.853619242961038],\"type\":\"scatter\"},{\"marker\":{\"color\":\"black\"},\"x\":[-22.92090482,-28.09774993774453],\"y\":[-30.73934474,-7.853619242961038],\"type\":\"scatter\"},{\"marker\":{\"color\":\"black\"},\"x\":[],\"y\":[],\"type\":\"scatter\"},{\"marker\":{\"color\":\"black\"},\"x\":[-26.335098015859195,-85.630951],\"y\":[-6.90860167578362,113.1640033],\"type\":\"scatter\"},{\"marker\":{\"color\":\"green\"},\"mode\":\"markers\",\"name\":\"Trees covered by line 2\",\"x\":[-77.38716,-74.37847497,-74.12546686,-83.3753646,-82.7508461,-78.26144619,-74.66894341,-85.630951,-72.9690587,-79.21758645,-87.31261084,-78.82330588,-72.28254052,-87.83312994,-60.13371324,-64.87632182],\"y\":[105.531576,104.4872907,104.5034411,106.9914629,115.3560539,109.285201,120.7985667,113.1640033,113.7228677,104.8973871,111.5093353,117.612602,123.1188927,111.5008781,135.6421414,130.8051815],\"type\":\"scatter\"},{\"marker\":{\"color\":\"black\"},\"x\":[-15.12792573,-26.335098015859195],\"y\":[-26.16056076,-6.90860167578362],\"type\":\"scatter\"},{\"marker\":{\"color\":\"black\"},\"x\":[5.750624681,-26.335098015859195],\"y\":[-23.50333184,-6.90860167578362],\"type\":\"scatter\"},{\"marker\":{\"color\":\"black\"},\"x\":[-32.07481086,-26.335098015859195],\"y\":[-30.17481,-6.90860167578362],\"type\":\"scatter\"},{\"marker\":{\"color\":\"black\"},\"x\":[],\"y\":[],\"type\":\"scatter\"},{\"marker\":{\"color\":\"black\"},\"x\":[-24.572446093973856,-74.37847497],\"y\":[-5.963584108606202,104.4872907],\"type\":\"scatter\"},{\"marker\":{\"color\":\"orange\"},\"mode\":\"markers\",\"name\":\"Trees covered by line 3\",\"x\":[-70.18942466,-70.13604975,-69.11292673,-20.01427656,-46.08530939,-39.1687174,-41.69020833,-20.15441667,-30.51452551,-65.84327489,-67.58248429,-65.91586274,-66.154401,-61.06820181,-65.06967068,-64.15900983,-55.91586735,-61.14652818,-64.44548,-57.75133942,-51.72634937,-54.22529924,-56.03364748,-51.34979148,-57.75406087,-47.45566976,-54.71720264,-48.32035725,-48.23730243,-37.09976663,-37.47195419,-38.754948,-28.88421312,-45.03471145,-52.09936048,-30.53919388,-33.86425279,-42.03635682,-43.77058695,-48.38149441,-33.38285971,-45.35963829,-20.31095449,-30.12933628,-38.2757944,-37.18284862,-26.71358941],\"y\":[120.3503284,119.873547,121.5114816,149.922979,140.8923356,139.7536376,142.3992175,148.7100133,144.0812844,113.24662,122.3045443,122.5960266,118.6669428,129.0447034,116.4094181,119.7839872,136.2810578,132.0985808,123.662627,129.7407148,139.1805794,132.3293989,131.1800298,136.4680276,135.4419983,141.6323199,138.5854925,139.9950704,134.702649,143.2286398,144.5117223,141.452916,149.7437673,135.7886081,129.4302928,148.8980511,147.9375081,145.0488265,142.5344245,130.5650093,144.4892955,129.9263817,155.2269872,150.6443552,147.5998112,141.5735606,150.2932019],\"type\":\"scatter\"},{\"marker\":{\"color\":\"black\"},\"x\":[-15.12792573,-24.572446093973856],\"y\":[-26.16056076,-5.963584108606202],\"type\":\"scatter\"},{\"marker\":{\"color\":\"black\"},\"x\":[5.750624681,-24.572446093973856],\"y\":[-23.50333184,-5.963584108606202],\"type\":\"scatter\"},{\"marker\":{\"color\":\"black\"},\"x\":[-22.92090482,-24.572446093973856],\"y\":[-30.73934474,-5.963584108606202],\"type\":\"scatter\"},{\"marker\":{\"color\":\"black\"},\"x\":[],\"y\":[],\"type\":\"scatter\"}],                        {\"template\":{\"data\":{\"histogram2dcontour\":[{\"type\":\"histogram2dcontour\",\"colorbar\":{\"outlinewidth\":0,\"ticks\":\"\"},\"colorscale\":[[0.0,\"#0d0887\"],[0.1111111111111111,\"#46039f\"],[0.2222222222222222,\"#7201a8\"],[0.3333333333333333,\"#9c179e\"],[0.4444444444444444,\"#bd3786\"],[0.5555555555555556,\"#d8576b\"],[0.6666666666666666,\"#ed7953\"],[0.7777777777777778,\"#fb9f3a\"],[0.8888888888888888,\"#fdca26\"],[1.0,\"#f0f921\"]]}],\"choropleth\":[{\"type\":\"choropleth\",\"colorbar\":{\"outlinewidth\":0,\"ticks\":\"\"}}],\"histogram2d\":[{\"type\":\"histogram2d\",\"colorbar\":{\"outlinewidth\":0,\"ticks\":\"\"},\"colorscale\":[[0.0,\"#0d0887\"],[0.1111111111111111,\"#46039f\"],[0.2222222222222222,\"#7201a8\"],[0.3333333333333333,\"#9c179e\"],[0.4444444444444444,\"#bd3786\"],[0.5555555555555556,\"#d8576b\"],[0.6666666666666666,\"#ed7953\"],[0.7777777777777778,\"#fb9f3a\"],[0.8888888888888888,\"#fdca26\"],[1.0,\"#f0f921\"]]}],\"heatmap\":[{\"type\":\"heatmap\",\"colorbar\":{\"outlinewidth\":0,\"ticks\":\"\"},\"colorscale\":[[0.0,\"#0d0887\"],[0.1111111111111111,\"#46039f\"],[0.2222222222222222,\"#7201a8\"],[0.3333333333333333,\"#9c179e\"],[0.4444444444444444,\"#bd3786\"],[0.5555555555555556,\"#d8576b\"],[0.6666666666666666,\"#ed7953\"],[0.7777777777777778,\"#fb9f3a\"],[0.8888888888888888,\"#fdca26\"],[1.0,\"#f0f921\"]]}],\"heatmapgl\":[{\"type\":\"heatmapgl\",\"colorbar\":{\"outlinewidth\":0,\"ticks\":\"\"},\"colorscale\":[[0.0,\"#0d0887\"],[0.1111111111111111,\"#46039f\"],[0.2222222222222222,\"#7201a8\"],[0.3333333333333333,\"#9c179e\"],[0.4444444444444444,\"#bd3786\"],[0.5555555555555556,\"#d8576b\"],[0.6666666666666666,\"#ed7953\"],[0.7777777777777778,\"#fb9f3a\"],[0.8888888888888888,\"#fdca26\"],[1.0,\"#f0f921\"]]}],\"contourcarpet\":[{\"type\":\"contourcarpet\",\"colorbar\":{\"outlinewidth\":0,\"ticks\":\"\"}}],\"contour\":[{\"type\":\"contour\",\"colorbar\":{\"outlinewidth\":0,\"ticks\":\"\"},\"colorscale\":[[0.0,\"#0d0887\"],[0.1111111111111111,\"#46039f\"],[0.2222222222222222,\"#7201a8\"],[0.3333333333333333,\"#9c179e\"],[0.4444444444444444,\"#bd3786\"],[0.5555555555555556,\"#d8576b\"],[0.6666666666666666,\"#ed7953\"],[0.7777777777777778,\"#fb9f3a\"],[0.8888888888888888,\"#fdca26\"],[1.0,\"#f0f921\"]]}],\"surface\":[{\"type\":\"surface\",\"colorbar\":{\"outlinewidth\":0,\"ticks\":\"\"},\"colorscale\":[[0.0,\"#0d0887\"],[0.1111111111111111,\"#46039f\"],[0.2222222222222222,\"#7201a8\"],[0.3333333333333333,\"#9c179e\"],[0.4444444444444444,\"#bd3786\"],[0.5555555555555556,\"#d8576b\"],[0.6666666666666666,\"#ed7953\"],[0.7777777777777778,\"#fb9f3a\"],[0.8888888888888888,\"#fdca26\"],[1.0,\"#f0f921\"]]}],\"mesh3d\":[{\"type\":\"mesh3d\",\"colorbar\":{\"outlinewidth\":0,\"ticks\":\"\"}}],\"scatter\":[{\"fillpattern\":{\"fillmode\":\"overlay\",\"size\":10,\"solidity\":0.2},\"type\":\"scatter\"}],\"parcoords\":[{\"type\":\"parcoords\",\"line\":{\"colorbar\":{\"outlinewidth\":0,\"ticks\":\"\"}}}],\"scatterpolargl\":[{\"type\":\"scatterpolargl\",\"marker\":{\"colorbar\":{\"outlinewidth\":0,\"ticks\":\"\"}}}],\"bar\":[{\"error_x\":{\"color\":\"#2a3f5f\"},\"error_y\":{\"color\":\"#2a3f5f\"},\"marker\":{\"line\":{\"color\":\"#E5ECF6\",\"width\":0.5},\"pattern\":{\"fillmode\":\"overlay\",\"size\":10,\"solidity\":0.2}},\"type\":\"bar\"}],\"scattergeo\":[{\"type\":\"scattergeo\",\"marker\":{\"colorbar\":{\"outlinewidth\":0,\"ticks\":\"\"}}}],\"scatterpolar\":[{\"type\":\"scatterpolar\",\"marker\":{\"colorbar\":{\"outlinewidth\":0,\"ticks\":\"\"}}}],\"histogram\":[{\"marker\":{\"pattern\":{\"fillmode\":\"overlay\",\"size\":10,\"solidity\":0.2}},\"type\":\"histogram\"}],\"scattergl\":[{\"type\":\"scattergl\",\"marker\":{\"colorbar\":{\"outlinewidth\":0,\"ticks\":\"\"}}}],\"scatter3d\":[{\"type\":\"scatter3d\",\"line\":{\"colorbar\":{\"outlinewidth\":0,\"ticks\":\"\"}},\"marker\":{\"colorbar\":{\"outlinewidth\":0,\"ticks\":\"\"}}}],\"scattermapbox\":[{\"type\":\"scattermapbox\",\"marker\":{\"colorbar\":{\"outlinewidth\":0,\"ticks\":\"\"}}}],\"scatterternary\":[{\"type\":\"scatterternary\",\"marker\":{\"colorbar\":{\"outlinewidth\":0,\"ticks\":\"\"}}}],\"scattercarpet\":[{\"type\":\"scattercarpet\",\"marker\":{\"colorbar\":{\"outlinewidth\":0,\"ticks\":\"\"}}}],\"carpet\":[{\"aaxis\":{\"endlinecolor\":\"#2a3f5f\",\"gridcolor\":\"white\",\"linecolor\":\"white\",\"minorgridcolor\":\"white\",\"startlinecolor\":\"#2a3f5f\"},\"baxis\":{\"endlinecolor\":\"#2a3f5f\",\"gridcolor\":\"white\",\"linecolor\":\"white\",\"minorgridcolor\":\"white\",\"startlinecolor\":\"#2a3f5f\"},\"type\":\"carpet\"}],\"table\":[{\"cells\":{\"fill\":{\"color\":\"#EBF0F8\"},\"line\":{\"color\":\"white\"}},\"header\":{\"fill\":{\"color\":\"#C8D4E3\"},\"line\":{\"color\":\"white\"}},\"type\":\"table\"}],\"barpolar\":[{\"marker\":{\"line\":{\"color\":\"#E5ECF6\",\"width\":0.5},\"pattern\":{\"fillmode\":\"overlay\",\"size\":10,\"solidity\":0.2}},\"type\":\"barpolar\"}],\"pie\":[{\"automargin\":true,\"type\":\"pie\"}]},\"layout\":{\"autotypenumbers\":\"strict\",\"colorway\":[\"#636efa\",\"#EF553B\",\"#00cc96\",\"#ab63fa\",\"#FFA15A\",\"#19d3f3\",\"#FF6692\",\"#B6E880\",\"#FF97FF\",\"#FECB52\"],\"font\":{\"color\":\"#2a3f5f\"},\"hovermode\":\"closest\",\"hoverlabel\":{\"align\":\"left\"},\"paper_bgcolor\":\"white\",\"plot_bgcolor\":\"#E5ECF6\",\"polar\":{\"bgcolor\":\"#E5ECF6\",\"angularaxis\":{\"gridcolor\":\"white\",\"linecolor\":\"white\",\"ticks\":\"\"},\"radialaxis\":{\"gridcolor\":\"white\",\"linecolor\":\"white\",\"ticks\":\"\"}},\"ternary\":{\"bgcolor\":\"#E5ECF6\",\"aaxis\":{\"gridcolor\":\"white\",\"linecolor\":\"white\",\"ticks\":\"\"},\"baxis\":{\"gridcolor\":\"white\",\"linecolor\":\"white\",\"ticks\":\"\"},\"caxis\":{\"gridcolor\":\"white\",\"linecolor\":\"white\",\"ticks\":\"\"}},\"coloraxis\":{\"colorbar\":{\"outlinewidth\":0,\"ticks\":\"\"}},\"colorscale\":{\"sequential\":[[0.0,\"#0d0887\"],[0.1111111111111111,\"#46039f\"],[0.2222222222222222,\"#7201a8\"],[0.3333333333333333,\"#9c179e\"],[0.4444444444444444,\"#bd3786\"],[0.5555555555555556,\"#d8576b\"],[0.6666666666666666,\"#ed7953\"],[0.7777777777777778,\"#fb9f3a\"],[0.8888888888888888,\"#fdca26\"],[1.0,\"#f0f921\"]],\"sequentialminus\":[[0.0,\"#0d0887\"],[0.1111111111111111,\"#46039f\"],[0.2222222222222222,\"#7201a8\"],[0.3333333333333333,\"#9c179e\"],[0.4444444444444444,\"#bd3786\"],[0.5555555555555556,\"#d8576b\"],[0.6666666666666666,\"#ed7953\"],[0.7777777777777778,\"#fb9f3a\"],[0.8888888888888888,\"#fdca26\"],[1.0,\"#f0f921\"]],\"diverging\":[[0,\"#8e0152\"],[0.1,\"#c51b7d\"],[0.2,\"#de77ae\"],[0.3,\"#f1b6da\"],[0.4,\"#fde0ef\"],[0.5,\"#f7f7f7\"],[0.6,\"#e6f5d0\"],[0.7,\"#b8e186\"],[0.8,\"#7fbc41\"],[0.9,\"#4d9221\"],[1,\"#276419\"]]},\"xaxis\":{\"gridcolor\":\"white\",\"linecolor\":\"white\",\"ticks\":\"\",\"title\":{\"standoff\":15},\"zerolinecolor\":\"white\",\"automargin\":true,\"zerolinewidth\":2},\"yaxis\":{\"gridcolor\":\"white\",\"linecolor\":\"white\",\"ticks\":\"\",\"title\":{\"standoff\":15},\"zerolinecolor\":\"white\",\"automargin\":true,\"zerolinewidth\":2},\"scene\":{\"xaxis\":{\"backgroundcolor\":\"#E5ECF6\",\"gridcolor\":\"white\",\"linecolor\":\"white\",\"showbackground\":true,\"ticks\":\"\",\"zerolinecolor\":\"white\",\"gridwidth\":2},\"yaxis\":{\"backgroundcolor\":\"#E5ECF6\",\"gridcolor\":\"white\",\"linecolor\":\"white\",\"showbackground\":true,\"ticks\":\"\",\"zerolinecolor\":\"white\",\"gridwidth\":2},\"zaxis\":{\"backgroundcolor\":\"#E5ECF6\",\"gridcolor\":\"white\",\"linecolor\":\"white\",\"showbackground\":true,\"ticks\":\"\",\"zerolinecolor\":\"white\",\"gridwidth\":2}},\"shapedefaults\":{\"line\":{\"color\":\"#2a3f5f\"}},\"annotationdefaults\":{\"arrowcolor\":\"#2a3f5f\",\"arrowhead\":0,\"arrowwidth\":1},\"geo\":{\"bgcolor\":\"white\",\"landcolor\":\"#E5ECF6\",\"subunitcolor\":\"white\",\"showland\":true,\"showlakes\":true,\"lakecolor\":\"white\"},\"title\":{\"x\":0.05},\"mapbox\":{\"style\":\"light\"}}},\"width\":1200,\"height\":800,\"showlegend\":false},                        {\"responsive\": true}                    ).then(function(){\n",
       "                            \n",
       "var gd = document.getElementById('e3666e1b-7cae-4d8d-8f4f-31b65e93d706');\n",
       "var x = new MutationObserver(function (mutations, observer) {{\n",
       "        var display = window.getComputedStyle(gd).display;\n",
       "        if (!display || display === 'none') {{\n",
       "            console.log([gd, 'removed!']);\n",
       "            Plotly.purge(gd);\n",
       "            observer.disconnect();\n",
       "        }}\n",
       "}});\n",
       "\n",
       "// Listen for the removal of the full notebook cells\n",
       "var notebookContainer = gd.closest('#notebook-container');\n",
       "if (notebookContainer) {{\n",
       "    x.observe(notebookContainer, {childList: true});\n",
       "}}\n",
       "\n",
       "// Listen for the clearing of the current output cell\n",
       "var outputEl = gd.closest('.output');\n",
       "if (outputEl) {{\n",
       "    x.observe(outputEl, {childList: true});\n",
       "}}\n",
       "\n",
       "                        })                };                });            </script>        </div>"
      ]
     },
     "metadata": {},
     "output_type": "display_data"
    }
   ],
   "source": [
    "from src.main import plotting_2d\n",
    "\n",
    "reload(plotting_2d)\n",
    "for result in optimization_result_list:\n",
    "    fig = plotting_2d.plot_optimization_layout(result, line_gdf, harvesteable_trees_gdf)\n",
    "    fig.update_layout(showlegend=False)\n",
    "    fig.show(\"notebook_connected\")"
   ]
  },
  {
   "cell_type": "markdown",
   "metadata": {},
   "source": [
    "#### <a id='toc1_1_1_4_'></a>[NSGA 2](#toc0_)\n"
   ]
  },
  {
   "cell_type": "code",
   "execution_count": 103,
   "metadata": {},
   "outputs": [
    {
     "name": "stdout",
     "output_type": "stream",
     "text": [
      "==========================================================================================\n",
      "n_gen  |  n_eval  | n_nds  |     cv_min    |     cv_avg    |      eps      |   indicator  \n",
      "==========================================================================================\n",
      "     1 |        1 |      1 |  0.000000E+00 |  0.000000E+00 |             - |             -\n",
      "     2 |       11 |     10 |  0.000000E+00 |  0.000000E+00 |  1.852657E+03 |         ideal\n"
     ]
    },
    {
     "name": "stderr",
     "output_type": "stream",
     "text": [
      "/home/carlo/GitHub/MultiObjectOptimizationCableYarding/src/main/classes_mo_optimization.py:369: RuntimeWarning:\n",
      "\n",
      "overflow encountered in exp\n",
      "\n"
     ]
    },
    {
     "name": "stdout",
     "output_type": "stream",
     "text": [
      "     3 |       21 |     10 |  0.000000E+00 |  0.000000E+00 |  1.112738E+04 |         ideal\n",
      "     4 |       31 |     10 |  0.000000E+00 |  0.000000E+00 |  0.000000E+00 |             f\n",
      "     5 |       41 |     10 |  0.000000E+00 |  0.000000E+00 |  3.472548E+03 |         ideal\n",
      "     6 |       51 |     10 |  0.000000E+00 |  0.000000E+00 |  0.000000E+00 |             f\n",
      "     7 |       61 |     10 |  0.000000E+00 |  0.000000E+00 |  8.187016E+02 |         ideal\n",
      "     8 |       71 |     10 |  0.000000E+00 |  0.000000E+00 |  1.091464E+02 |         ideal\n",
      "     9 |       81 |     10 |  0.000000E+00 |  0.000000E+00 |  1.0000000000 |         ideal\n",
      "    10 |       91 |     10 |  0.000000E+00 |  0.000000E+00 |  0.000000E+00 |             f\n"
     ]
    }
   ],
   "source": [
    "from pymoo.algorithms.moo.nsga2 import NSGA2\n",
    "from pymoo.operators.sampling.rnd import IntegerRandomSampling\n",
    "from pymoo.termination import get_termination\n",
    "from pymoo.optimize import minimize\n",
    "\n",
    "from src.main import classes_mo_optimization\n",
    "\n",
    "reload(classes_mo_optimization)\n",
    "\n",
    "cost_matrix = lscp_model_list[0].distance_tree_line\n",
    "nsga_problem = classes_mo_optimization.optimization_object_pymoo(\n",
    "    cost_matrix,\n",
    "    lscp_model_list[0].productivity_cost,\n",
    "    lscp_model_list[0].facility_cost,\n",
    "    lscp_model_list[0].ecological_penalty_lateral_distances,\n",
    "    lscp_model_list[0].ergonomic_penalty_lateral_distances,\n",
    ")\n",
    "termination = get_termination(\"n_gen\", 10)\n",
    "\n",
    "\n",
    "client_range = cost_matrix.shape[0]\n",
    "facility_range = cost_matrix.shape[1]\n",
    "\n",
    "algorithm = NSGA2(\n",
    "    pop_size=10,\n",
    "    sampling=classes_mo_optimization.CustomSampling(),  # initally zero matrix, nothing assigned\n",
    "    mutation=classes_mo_optimization.MyMutation(),\n",
    "    repair=classes_mo_optimization.MyRepair(),\n",
    ")\n",
    "\n",
    "# %prun minimize(problem,algorithm,termination,verbose=True,return_least_infeasible=True,seed=0)\n",
    "res = minimize(\n",
    "    nsga_problem,\n",
    "    algorithm,\n",
    "    termination,\n",
    "    verbose=True,\n",
    "    return_least_infeasible=True,\n",
    "    seed=0,\n",
    ")\n",
    "\n",
    "X = res.X\n",
    "F = res.F"
   ]
  },
  {
   "cell_type": "code",
   "execution_count": 104,
   "metadata": {},
   "outputs": [],
   "source": [
    "reload(classes_mo_optimization)\n",
    "len_x = len(res.X)\n",
    "optimization_result_list = []\n",
    "samples = 10\n",
    "for i in np.linspace(0, len_x - 1, samples).astype(int):\n",
    "    optimization_result_list.append(\n",
    "        classes_mo_optimization.pymoo_result(\n",
    "            res.problem,\n",
    "            res.X[i],\n",
    "            line_gdf,\n",
    "            client_range,\n",
    "            facility_range,\n",
    "            \"NSGA2 \" + str(i),\n",
    "        )\n",
    "    )"
   ]
  },
  {
   "cell_type": "code",
   "execution_count": 38,
   "metadata": {},
   "outputs": [
    {
     "name": "stdout",
     "output_type": "stream",
     "text": [
      "Profit baseline is 55128.39539945951\n"
     ]
    },
    {
     "data": {
      "text/plain": [
       "<AxesSubplot:>"
      ]
     },
     "execution_count": 38,
     "metadata": {},
     "output_type": "execute_result"
    },
    {
     "data": {
      "image/png": "[encoded data removed]",
      "text/plain": [
       "<Figure size 640x480 with 1 Axes>"
      ]
     },
     "metadata": {},
     "output_type": "display_data"
    }
   ],
   "source": [
    "reload(classes_linear_optimization)\n",
    "\n",
    "tree_volumes_list = harvesteable_trees_gdf[\"cubic_volume\"]\n",
    "(\n",
    "    distance_tree_line,\n",
    "    distance_carriage_support,\n",
    ") = geometry_operations.compute_distances_facilities_clients(\n",
    "    harvesteable_trees_gdf, line_gdf\n",
    ")\n",
    "sample_model = lscp_model_list[0]\n",
    "\n",
    "results_df = classes_linear_optimization.model_results_comparison(\n",
    "    optimization_result_list,\n",
    "    line_gdf,\n",
    "    sample_model.distance_tree_line,\n",
    "    distance_carriage_support,\n",
    "    sample_model.productivity_cost,\n",
    "    tree_volumes_list,\n",
    ")\n",
    "\n",
    "results_df.plot()"
   ]
  },
  {
   "cell_type": "code",
   "execution_count": 14,
   "metadata": {},
   "outputs": [
    {
     "data": {
      "text/html": [
       "<div>\n",
       "<style scoped>\n",
       "    .dataframe tbody tr th:only-of-type {\n",
       "        vertical-align: middle;\n",
       "    }\n",
       "\n",
       "    .dataframe tbody tr th {\n",
       "        vertical-align: top;\n",
       "    }\n",
       "\n",
       "    .dataframe thead th {\n",
       "        text-align: right;\n",
       "    }\n",
       "</style>\n",
       "<table border=\"1\" class=\"dataframe\">\n",
       "  <thead>\n",
       "    <tr style=\"text-align: right;\">\n",
       "      <th></th>\n",
       "      <th>Total distance of trees to cable roads</th>\n",
       "      <th>Productivity cost per m3 as per Stampfer</th>\n",
       "      <th>Total distance from carriage to support</th>\n",
       "      <th>overall_profit</th>\n",
       "      <th>cable_road_costs</th>\n",
       "      <th>profit_comparison</th>\n",
       "      <th>name</th>\n",
       "      <th>ecological_distances</th>\n",
       "      <th>ergonomics_distances</th>\n",
       "    </tr>\n",
       "  </thead>\n",
       "  <tbody>\n",
       "    <tr>\n",
       "      <th>0</th>\n",
       "      <td>3212.263238</td>\n",
       "      <td>2026.024175</td>\n",
       "      <td>12841.476164</td>\n",
       "      <td>3624.853497</td>\n",
       "      <td>464.418532</td>\n",
       "      <td>429.798894</td>\n",
       "      <td>model0</td>\n",
       "      <td>2300.535928</td>\n",
       "      <td>3778.054867</td>\n",
       "    </tr>\n",
       "    <tr>\n",
       "      <th>1</th>\n",
       "      <td>3817.524764</td>\n",
       "      <td>2455.823069</td>\n",
       "      <td>12233.119651</td>\n",
       "      <td>3195.054603</td>\n",
       "      <td>4713.187364</td>\n",
       "      <td>0.000000</td>\n",
       "      <td>model1</td>\n",
       "      <td>1556.275954</td>\n",
       "      <td>2590.600838</td>\n",
       "    </tr>\n",
       "    <tr>\n",
       "      <th>2</th>\n",
       "      <td>3817.524764</td>\n",
       "      <td>2455.823069</td>\n",
       "      <td>12233.119651</td>\n",
       "      <td>3195.054603</td>\n",
       "      <td>4713.187364</td>\n",
       "      <td>0.000000</td>\n",
       "      <td>model2</td>\n",
       "      <td>1556.275954</td>\n",
       "      <td>2590.600838</td>\n",
       "    </tr>\n",
       "  </tbody>\n",
       "</table>\n",
       "</div>"
      ],
      "text/plain": [
       "   Total distance of trees to cable roads  \\\n",
       "0                             3212.263238   \n",
       "1                             3817.524764   \n",
       "2                             3817.524764   \n",
       "\n",
       "   Productivity cost per m3 as per Stampfer  \\\n",
       "0                               2026.024175   \n",
       "1                               2455.823069   \n",
       "2                               2455.823069   \n",
       "\n",
       "   Total distance from carriage to support  overall_profit  cable_road_costs  \\\n",
       "0                             12841.476164     3624.853497        464.418532   \n",
       "1                             12233.119651     3195.054603       4713.187364   \n",
       "2                             12233.119651     3195.054603       4713.187364   \n",
       "\n",
       "   profit_comparison    name  ecological_distances  ergonomics_distances  \n",
       "0         429.798894  model0           2300.535928           3778.054867  \n",
       "1           0.000000  model1           1556.275954           2590.600838  \n",
       "2           0.000000  model2           1556.275954           2590.600838  "
      ]
     },
     "execution_count": 14,
     "metadata": {},
     "output_type": "execute_result"
    }
   ],
   "source": [
    "results_df"
   ]
  },
  {
   "cell_type": "markdown",
   "metadata": {},
   "source": [
    "### AUGMECON MOO\n"
   ]
  },
  {
   "cell_type": "markdown",
   "metadata": {},
   "source": [
    "#### Creating the reference table for AUGMECON approach\n"
   ]
  },
  {
   "cell_type": "code",
   "execution_count": 34,
   "metadata": {},
   "outputs": [],
   "source": [
    "# determine the ranges of the objectives and divide them in 10 equal parts\n",
    "ecological_true_max = results_df[\"ecological_distances\"].max()\n",
    "ecological_true_min = results_df[\"ecological_distances\"].min() + 1\n",
    "# ecological_true_min = 120\n",
    "ergonomics_true_max = results_df[\"ergonomics_distances\"].max()\n",
    "ergonomics_true_min = results_df[\"ergonomics_distances\"].min() + 1\n",
    "# ergonomics_true_min = 63\n",
    "\n",
    "# first determine the ranges of the objectives\n",
    "max_overall_profit = results_df[\"overall_profit\"].max()\n",
    "min_overall_profit = results_df[\"overall_profit\"].min() + 1\n",
    "\n",
    "grid_points = 5\n",
    "# create a grid of points to evaluate the objective functions\n",
    "profit_range = np.linspace(min_overall_profit, max_overall_profit, grid_points)\n",
    "\n",
    "ecological_range, ecological_step = np.linspace(\n",
    "    ecological_true_max,\n",
    "    ecological_true_min,\n",
    "    grid_points,\n",
    "    retstep=True,\n",
    ")\n",
    "\n",
    "ergonomics_range, ergonomics_step = np.linspace(\n",
    "    ergonomics_true_max, ergonomics_true_min, grid_points, retstep=True\n",
    ")"
   ]
  },
  {
   "cell_type": "code",
   "execution_count": 35,
   "metadata": {},
   "outputs": [
    {
     "name": "stdout",
     "output_type": "stream",
     "text": [
      "i should be : 2300.535928060735\n",
      "i is : 2300.535928060735\n",
      "          j should be: 3778.054867395766\n",
      "          j is :  3778.054867395766\n",
      "          cost is : 2490.442706850213\n",
      "          j should be: 3481.441359996025\n"
     ]
    },
    {
     "name": "stderr",
     "output_type": "stream",
     "text": [
      "/home/carlo/GitHub/MultiObjectOptimizationCableYarding/moo_env/lib/python3.10/site-packages/pulp/pulp.py:1704: UserWarning:\n",
      "\n",
      "Overwriting previously set objective.\n",
      "\n"
     ]
    },
    {
     "name": "stdout",
     "output_type": "stream",
     "text": [
      "          j is :  2785.902135358519\n",
      "          cost is : 2516.6687976648163\n",
      "         skipping j_bypass: 2\n",
      "          j should be: 2591.600837796801\n",
      "          j is :  2590.600837796801\n",
      "          cost is : 3017.6377130544124\n",
      "i should be : 2114.7209345677097\n"
     ]
    },
    {
     "name": "stderr",
     "output_type": "stream",
     "text": [
      "/home/carlo/GitHub/MultiObjectOptimizationCableYarding/moo_env/lib/python3.10/site-packages/pulp/pulp.py:1704: UserWarning:\n",
      "\n",
      "Overwriting previously set objective.\n",
      "\n",
      "/home/carlo/GitHub/MultiObjectOptimizationCableYarding/moo_env/lib/python3.10/site-packages/pulp/pulp.py:1704: UserWarning:\n",
      "\n",
      "Overwriting previously set objective.\n",
      "\n"
     ]
    },
    {
     "name": "stdout",
     "output_type": "stream",
     "text": [
      "i is : 1767.7164117237473\n",
      "          j should be: 3778.054867395766\n",
      "          j is :  2785.902135358519\n",
      "          cost is : 2516.6687976648163\n",
      "         skipping j_bypass: 3\n",
      "          j should be: 2591.600837796801\n",
      "          j is :  2590.600837796801\n",
      "          cost is : 3017.6377130544124\n",
      "i should be : 1928.9059410746845\n"
     ]
    },
    {
     "name": "stderr",
     "output_type": "stream",
     "text": [
      "/home/carlo/GitHub/MultiObjectOptimizationCableYarding/moo_env/lib/python3.10/site-packages/pulp/pulp.py:1704: UserWarning:\n",
      "\n",
      "Overwriting previously set objective.\n",
      "\n",
      "/home/carlo/GitHub/MultiObjectOptimizationCableYarding/moo_env/lib/python3.10/site-packages/pulp/pulp.py:1704: UserWarning:\n",
      "\n",
      "Overwriting previously set objective.\n",
      "\n"
     ]
    },
    {
     "name": "stdout",
     "output_type": "stream",
     "text": [
      "i is : 1767.7164117237473\n",
      "          j should be: 3778.054867395766\n",
      "          j is :  2785.902135358519\n",
      "          cost is : 2516.6687976648163\n",
      "         skipping j_bypass: 3\n",
      "          j should be: 2591.600837796801\n",
      "          j is :  2590.600837796801\n",
      "          cost is : 3017.6377130544124\n",
      "i should be : 1743.0909475816595\n"
     ]
    },
    {
     "name": "stderr",
     "output_type": "stream",
     "text": [
      "/home/carlo/GitHub/MultiObjectOptimizationCableYarding/moo_env/lib/python3.10/site-packages/pulp/pulp.py:1704: UserWarning:\n",
      "\n",
      "Overwriting previously set objective.\n",
      "\n",
      "/home/carlo/GitHub/MultiObjectOptimizationCableYarding/moo_env/lib/python3.10/site-packages/pulp/pulp.py:1704: UserWarning:\n",
      "\n",
      "Overwriting previously set objective.\n",
      "\n"
     ]
    },
    {
     "name": "stdout",
     "output_type": "stream",
     "text": [
      "i is : 1629.0065045745146\n",
      "          j should be: 3778.054867395766\n",
      "          j is :  2613.9014699387435\n",
      "          cost is : 2559.78157707725\n",
      "         skipping j_bypass: 3\n",
      "          j should be: 2591.600837796801\n"
     ]
    },
    {
     "name": "stderr",
     "output_type": "stream",
     "text": [
      "/home/carlo/GitHub/MultiObjectOptimizationCableYarding/moo_env/lib/python3.10/site-packages/pulp/pulp.py:1704: UserWarning:\n",
      "\n",
      "Overwriting previously set objective.\n",
      "\n"
     ]
    },
    {
     "name": "stdout",
     "output_type": "stream",
     "text": [
      "          j is :  2590.600837796801\n",
      "          cost is : 3017.6377130544124\n",
      "i should be : 1557.2759540886343\n"
     ]
    },
    {
     "name": "stderr",
     "output_type": "stream",
     "text": [
      "/home/carlo/GitHub/MultiObjectOptimizationCableYarding/moo_env/lib/python3.10/site-packages/pulp/pulp.py:1704: UserWarning:\n",
      "\n",
      "Overwriting previously set objective.\n",
      "\n"
     ]
    },
    {
     "name": "stdout",
     "output_type": "stream",
     "text": [
      "i is : 1556.2759540886343\n",
      "          j should be: 3778.054867395766\n",
      "          j is :  2590.600837796801\n",
      "          cost is : 3472.159480234428\n",
      "         skipping j_bypass: 4\n"
     ]
    },
    {
     "name": "stderr",
     "output_type": "stream",
     "text": [
      "/home/carlo/GitHub/MultiObjectOptimizationCableYarding/moo_env/lib/python3.10/site-packages/pulp/pulp.py:1704: UserWarning:\n",
      "\n",
      "Overwriting previously set objective.\n",
      "\n"
     ]
    }
   ],
   "source": [
    "from itertools import islice\n",
    "\n",
    "reload(classes_linear_optimization)\n",
    "# line_gdf = line_gdf.iloc[0:5]\n",
    "# harvesteable_trees_gdf = harvesteable_trees_gdf.iloc[0:20]\n",
    "pareto_optimal_objective_values = [0]\n",
    "pareto_optimal_objects = []\n",
    "\n",
    "\n",
    "def augmecon():\n",
    "    initial_model = classes_linear_optimization.optimization_object_spopt(\n",
    "        \"Single Objective\",\n",
    "        line_gdf,\n",
    "        harvesteable_trees_gdf,\n",
    "        height_gdf,\n",
    "        objective_to_select=0,\n",
    "    )\n",
    "\n",
    "    initial_model.add_generic_vars_and_constraints()\n",
    "    # add the main monetary objective\n",
    "    initial_model.add_single_objective_function()\n",
    "    initial_model.solve()\n",
    "\n",
    "    # set up the ranges at iteration objects so we can skip steps in the loop\n",
    "    i_range = iter(ecological_range)\n",
    "    for i in i_range:\n",
    "        print(\"i should be :\", i)\n",
    "        initial_model.add_epsilon_constraint(\n",
    "            target_value=i,\n",
    "            constraint_to_select=\"eco_constraint\",\n",
    "            distances_to_use=initial_model.ecological_penalty_lateral_distances,\n",
    "        )\n",
    "\n",
    "        try:\n",
    "            initial_model.remove_epsilon_constraint(\"ergo_constraint\")\n",
    "        except:\n",
    "            # if the constraint doesnt exist, we pass\n",
    "            pass\n",
    "\n",
    "        try:\n",
    "            initial_model.solve()\n",
    "        except:\n",
    "            print(\"couldnt solve with i \", i)\n",
    "            break\n",
    "\n",
    "        (\n",
    "            cost_objective,\n",
    "            ecological_objective,\n",
    "            ergonomics_objective,\n",
    "        ) = initial_model.get_objective_values()\n",
    "        print(\"i is :\", ecological_objective)\n",
    "\n",
    "        #\n",
    "        # # determine the slack variable of the ecological constraint - this is the value of the objective function minus the expected value as per the ecological range\n",
    "        # i_slack = ecological_objective - i\n",
    "        # print(\"i is :\", ecological_objective)\n",
    "\n",
    "        j_range = iter(ergonomics_range)\n",
    "        # loop through the inner objective\n",
    "        for j in j_range:\n",
    "            print(\"          j should be:\", j)\n",
    "            initial_model.add_epsilon_constraint(\n",
    "                target_value=j,\n",
    "                constraint_to_select=\"ergo_constraint\",\n",
    "                distances_to_use=initial_model.ergonomic_penalty_lateral_distances,\n",
    "            )\n",
    "\n",
    "            try:\n",
    "                initial_model.solve()\n",
    "            except:\n",
    "                print(\"couldnt solve with j \", j)\n",
    "                break\n",
    "\n",
    "            (\n",
    "                cost_objective,\n",
    "                ecological_objective,\n",
    "                ergonomics_objective,\n",
    "            ) = initial_model.get_objective_values()\n",
    "            i_slack = ecological_objective - i\n",
    "            # determine the slack variable of the ergonomics constraint - this is the value of the objective function minus the expected value as per the ergonomics range\n",
    "            j_slack = ergonomics_objective - j\n",
    "            print(\"          j is : \", ergonomics_objective)\n",
    "            print(\"          cost is :\", cost_objective)\n",
    "\n",
    "            ecological_index = np.where(ecological_range == i)[0][0]\n",
    "            ergonomics_index = np.where(ergonomics_range == j)[0][0]\n",
    "            result = classes_linear_optimization.spopt_result(\n",
    "                initial_model,\n",
    "                line_gdf,\n",
    "                \"Augmecon\" + str(ecological_index) + str(ergonomics_index),\n",
    "            )\n",
    "\n",
    "            # pareto_optimal_objective_values.append(overall_objective)\n",
    "            pareto_optimal_objects.append(result)\n",
    "\n",
    "            (\n",
    "                cost_objective,\n",
    "                ecological_objective,\n",
    "                ergonomics_objective,\n",
    "            ) = initial_model.get_objective_values()\n",
    "\n",
    "            # set the new objective\n",
    "            initial_model.add_epsilon_objective(\n",
    "                i_slack, j_slack, ecological_range, ergonomics_range\n",
    "            )\n",
    "\n",
    "            surface_plot_data_x.append(cost_objective)\n",
    "            surface_plot_data_y.append(ecological_objective)\n",
    "            surface_plot_data_z.append(ergonomics_objective)\n",
    "\n",
    "            if j_slack > 0:\n",
    "                print(\"couldnt improve objective?\")\n",
    "                break  # skipping the rest of the ergonomics range since we cant improve the objective anymore\n",
    "            else:\n",
    "                # the expected value as per the ergonomics range. If the slack variable is greater than what we would constrain for the next step, we skip those iterations\n",
    "                j_bypass = int(abs(np.floor(j_slack / ergonomics_step)))\n",
    "                if j_bypass > 0:\n",
    "                    # for iterator j, skip j_bypass steps\n",
    "                    print(\"         skipping j_bypass:\", j_bypass)\n",
    "                    next(islice(j_range, j_bypass, j_bypass), None)\n",
    "\n",
    "\n",
    "surface_plot_data_x = []\n",
    "surface_plot_data_y = []\n",
    "surface_plot_data_z = []\n",
    "augmecon()"
   ]
  },
  {
   "cell_type": "code",
   "execution_count": 36,
   "metadata": {},
   "outputs": [],
   "source": [
    "optimization_result_list = optimization_result_list + pareto_optimal_objects"
   ]
  },
  {
   "cell_type": "markdown",
   "metadata": {},
   "source": [
    "#### Comparison of Optimization Results\n"
   ]
  },
  {
   "cell_type": "code",
   "execution_count": 41,
   "metadata": {},
   "outputs": [
    {
     "name": "stdout",
     "output_type": "stream",
     "text": [
      "Profit baseline is 2174.65496161942\n"
     ]
    },
    {
     "data": {
      "text/html": [
       "<div>\n",
       "<style scoped>\n",
       "    .dataframe tbody tr th:only-of-type {\n",
       "        vertical-align: middle;\n",
       "    }\n",
       "\n",
       "    .dataframe tbody tr th {\n",
       "        vertical-align: top;\n",
       "    }\n",
       "\n",
       "    .dataframe thead th {\n",
       "        text-align: right;\n",
       "    }\n",
       "</style>\n",
       "<table border=\"1\" class=\"dataframe\">\n",
       "  <thead>\n",
       "    <tr style=\"text-align: right;\">\n",
       "      <th></th>\n",
       "      <th>Productivity cost per m3 as per Stampfer</th>\n",
       "      <th>overall_profit</th>\n",
       "      <th>profit_comparison</th>\n",
       "      <th>cable_road_costs</th>\n",
       "      <th>Total distance from carriage to support</th>\n",
       "      <th>Total distance of trees to cable roads</th>\n",
       "      <th>ecological_distances</th>\n",
       "      <th>ergonomics_distances</th>\n",
       "    </tr>\n",
       "    <tr>\n",
       "      <th>name</th>\n",
       "      <th></th>\n",
       "      <th></th>\n",
       "      <th></th>\n",
       "      <th></th>\n",
       "      <th></th>\n",
       "      <th></th>\n",
       "      <th></th>\n",
       "      <th></th>\n",
       "    </tr>\n",
       "  </thead>\n",
       "  <tbody>\n",
       "    <tr>\n",
       "      <th>model0</th>\n",
       "      <td>2026</td>\n",
       "      <td>3160</td>\n",
       "      <td>985</td>\n",
       "      <td>464</td>\n",
       "      <td>12841</td>\n",
       "      <td>3212</td>\n",
       "      <td>2300</td>\n",
       "      <td>3778</td>\n",
       "    </tr>\n",
       "    <tr>\n",
       "      <th>model1</th>\n",
       "      <td>1533</td>\n",
       "      <td>2175</td>\n",
       "      <td>1</td>\n",
       "      <td>1941</td>\n",
       "      <td>12299</td>\n",
       "      <td>2339</td>\n",
       "      <td>1556</td>\n",
       "      <td>2590</td>\n",
       "    </tr>\n",
       "    <tr>\n",
       "      <th>model2</th>\n",
       "      <td>1534</td>\n",
       "      <td>2174</td>\n",
       "      <td>0</td>\n",
       "      <td>1941</td>\n",
       "      <td>12290</td>\n",
       "      <td>2397</td>\n",
       "      <td>1556</td>\n",
       "      <td>2590</td>\n",
       "    </tr>\n",
       "    <tr>\n",
       "      <th>Augmecon00</th>\n",
       "      <td>2026</td>\n",
       "      <td>3160</td>\n",
       "      <td>985</td>\n",
       "      <td>464</td>\n",
       "      <td>12841</td>\n",
       "      <td>3212</td>\n",
       "      <td>2300</td>\n",
       "      <td>3778</td>\n",
       "    </tr>\n",
       "    <tr>\n",
       "      <th>Augmecon01</th>\n",
       "      <td>1609</td>\n",
       "      <td>3134</td>\n",
       "      <td>959</td>\n",
       "      <td>907</td>\n",
       "      <td>12167</td>\n",
       "      <td>2677</td>\n",
       "      <td>1767</td>\n",
       "      <td>2785</td>\n",
       "    </tr>\n",
       "    <tr>\n",
       "      <th>Augmecon04</th>\n",
       "      <td>1532</td>\n",
       "      <td>2633</td>\n",
       "      <td>458</td>\n",
       "      <td>1485</td>\n",
       "      <td>12227</td>\n",
       "      <td>2437</td>\n",
       "      <td>1573</td>\n",
       "      <td>2590</td>\n",
       "    </tr>\n",
       "    <tr>\n",
       "      <th>Augmecon10</th>\n",
       "      <td>1609</td>\n",
       "      <td>3134</td>\n",
       "      <td>959</td>\n",
       "      <td>907</td>\n",
       "      <td>12167</td>\n",
       "      <td>2677</td>\n",
       "      <td>1767</td>\n",
       "      <td>2785</td>\n",
       "    </tr>\n",
       "    <tr>\n",
       "      <th>Augmecon14</th>\n",
       "      <td>1532</td>\n",
       "      <td>2633</td>\n",
       "      <td>458</td>\n",
       "      <td>1485</td>\n",
       "      <td>12227</td>\n",
       "      <td>2437</td>\n",
       "      <td>1573</td>\n",
       "      <td>2590</td>\n",
       "    </tr>\n",
       "    <tr>\n",
       "      <th>Augmecon20</th>\n",
       "      <td>1609</td>\n",
       "      <td>3134</td>\n",
       "      <td>959</td>\n",
       "      <td>907</td>\n",
       "      <td>12167</td>\n",
       "      <td>2677</td>\n",
       "      <td>1767</td>\n",
       "      <td>2785</td>\n",
       "    </tr>\n",
       "    <tr>\n",
       "      <th>Augmecon24</th>\n",
       "      <td>1532</td>\n",
       "      <td>2633</td>\n",
       "      <td>458</td>\n",
       "      <td>1485</td>\n",
       "      <td>12227</td>\n",
       "      <td>2437</td>\n",
       "      <td>1573</td>\n",
       "      <td>2590</td>\n",
       "    </tr>\n",
       "    <tr>\n",
       "      <th>Augmecon30</th>\n",
       "      <td>1539</td>\n",
       "      <td>3091</td>\n",
       "      <td>916</td>\n",
       "      <td>1020</td>\n",
       "      <td>12133</td>\n",
       "      <td>2497</td>\n",
       "      <td>1629</td>\n",
       "      <td>2613</td>\n",
       "    </tr>\n",
       "    <tr>\n",
       "      <th>Augmecon34</th>\n",
       "      <td>1532</td>\n",
       "      <td>2633</td>\n",
       "      <td>458</td>\n",
       "      <td>1485</td>\n",
       "      <td>12227</td>\n",
       "      <td>2437</td>\n",
       "      <td>1573</td>\n",
       "      <td>2590</td>\n",
       "    </tr>\n",
       "    <tr>\n",
       "      <th>Augmecon40</th>\n",
       "      <td>1530</td>\n",
       "      <td>2178</td>\n",
       "      <td>4</td>\n",
       "      <td>1941</td>\n",
       "      <td>12269</td>\n",
       "      <td>2338</td>\n",
       "      <td>1556</td>\n",
       "      <td>2590</td>\n",
       "    </tr>\n",
       "  </tbody>\n",
       "</table>\n",
       "</div>"
      ],
      "text/plain": [
       "            Productivity cost per m3 as per Stampfer  overall_profit  \\\n",
       "name                                                                   \n",
       "model0                                          2026            3160   \n",
       "model1                                          1533            2175   \n",
       "model2                                          1534            2174   \n",
       "Augmecon00                                      2026            3160   \n",
       "Augmecon01                                      1609            3134   \n",
       "Augmecon04                                      1532            2633   \n",
       "Augmecon10                                      1609            3134   \n",
       "Augmecon14                                      1532            2633   \n",
       "Augmecon20                                      1609            3134   \n",
       "Augmecon24                                      1532            2633   \n",
       "Augmecon30                                      1539            3091   \n",
       "Augmecon34                                      1532            2633   \n",
       "Augmecon40                                      1530            2178   \n",
       "\n",
       "            profit_comparison  cable_road_costs  \\\n",
       "name                                              \n",
       "model0                    985               464   \n",
       "model1                      1              1941   \n",
       "model2                      0              1941   \n",
       "Augmecon00                985               464   \n",
       "Augmecon01                959               907   \n",
       "Augmecon04                458              1485   \n",
       "Augmecon10                959               907   \n",
       "Augmecon14                458              1485   \n",
       "Augmecon20                959               907   \n",
       "Augmecon24                458              1485   \n",
       "Augmecon30                916              1020   \n",
       "Augmecon34                458              1485   \n",
       "Augmecon40                  4              1941   \n",
       "\n",
       "            Total distance from carriage to support  \\\n",
       "name                                                  \n",
       "model0                                        12841   \n",
       "model1                                        12299   \n",
       "model2                                        12290   \n",
       "Augmecon00                                    12841   \n",
       "Augmecon01                                    12167   \n",
       "Augmecon04                                    12227   \n",
       "Augmecon10                                    12167   \n",
       "Augmecon14                                    12227   \n",
       "Augmecon20                                    12167   \n",
       "Augmecon24                                    12227   \n",
       "Augmecon30                                    12133   \n",
       "Augmecon34                                    12227   \n",
       "Augmecon40                                    12269   \n",
       "\n",
       "            Total distance of trees to cable roads  ecological_distances  \\\n",
       "name                                                                       \n",
       "model0                                        3212                  2300   \n",
       "model1                                        2339                  1556   \n",
       "model2                                        2397                  1556   \n",
       "Augmecon00                                    3212                  2300   \n",
       "Augmecon01                                    2677                  1767   \n",
       "Augmecon04                                    2437                  1573   \n",
       "Augmecon10                                    2677                  1767   \n",
       "Augmecon14                                    2437                  1573   \n",
       "Augmecon20                                    2677                  1767   \n",
       "Augmecon24                                    2437                  1573   \n",
       "Augmecon30                                    2497                  1629   \n",
       "Augmecon34                                    2437                  1573   \n",
       "Augmecon40                                    2338                  1556   \n",
       "\n",
       "            ergonomics_distances  \n",
       "name                              \n",
       "model0                      3778  \n",
       "model1                      2590  \n",
       "model2                      2590  \n",
       "Augmecon00                  3778  \n",
       "Augmecon01                  2785  \n",
       "Augmecon04                  2590  \n",
       "Augmecon10                  2785  \n",
       "Augmecon14                  2590  \n",
       "Augmecon20                  2785  \n",
       "Augmecon24                  2590  \n",
       "Augmecon30                  2613  \n",
       "Augmecon34                  2590  \n",
       "Augmecon40                  2590  "
      ]
     },
     "metadata": {},
     "output_type": "display_data"
    },
    {
     "data": {
      "text/plain": [
       "<AxesSubplot:xlabel='name'>"
      ]
     },
     "execution_count": 41,
     "metadata": {},
     "output_type": "execute_result"
    },
    {
     "data": {
      "image/png": "[encoded data removed]",
      "text/plain": [
       "<Figure size 640x480 with 1 Axes>"
      ]
     },
     "metadata": {},
     "output_type": "display_data"
    }
   ],
   "source": [
    "reload(classes_linear_optimization)\n",
    "\n",
    "tree_volumes_list = harvesteable_trees_gdf[\"cubic_volume\"]\n",
    "(\n",
    "    distance_tree_line,\n",
    "    distance_carriage_support,\n",
    ") = geometry_operations.compute_distances_facilities_clients(\n",
    "    harvesteable_trees_gdf, line_gdf\n",
    ")\n",
    "sample_model = lscp_model_list[0]\n",
    "\n",
    "results_df = classes_linear_optimization.model_results_comparison(\n",
    "    optimization_result_list,\n",
    "    line_gdf,\n",
    "    sample_model.distance_tree_line,\n",
    "    distance_carriage_support,\n",
    "    sample_model.productivity_cost,\n",
    "    tree_volumes_list,\n",
    ")\n",
    "\n",
    "results_df[results_df.columns[:6]] = results_df[results_df.columns[:6]].astype(int)\n",
    "results_df[results_df.columns[7:]] = results_df[results_df.columns[7:]].astype(int)\n",
    "results_df = results_df.reindex(\n",
    "    columns=[\n",
    "        \"name\",\n",
    "        \"Productivity cost per m3 as per Stampfer\",\n",
    "        \"overall_profit\",\n",
    "        \"profit_comparison\",\n",
    "        \"cable_road_costs\",\n",
    "        \"Total distance from carriage to support\",\n",
    "        \"Total distance of trees to cable roads\",\n",
    "        \"ecological_distances\",\n",
    "        \"ergonomics_distances\",\n",
    "    ]\n",
    ")\n",
    "results_df.set_index(\"name\", inplace=True)\n",
    "display(results_df)\n",
    "results_df.plot()"
   ]
  },
  {
   "cell_type": "code",
   "execution_count": 75,
   "metadata": {},
   "outputs": [],
   "source": [
    "pd.options.plotting.backend = \"matplotlib\""
   ]
  },
  {
   "cell_type": "code",
   "execution_count": 76,
   "metadata": {},
   "outputs": [
    {
     "data": {
      "text/plain": [
       "array([[<AxesSubplot:title={'center':'Overall profit'}, xlabel='name'>,\n",
       "        <AxesSubplot:title={'center':'Sideways slope deviations'}, xlabel='name'>,\n",
       "        <AxesSubplot:title={'center':'Bad ergonomics distance'}, xlabel='name'>]],\n",
       "      dtype=object)"
      ]
     },
     "execution_count": 76,
     "metadata": {},
     "output_type": "execute_result"
    },
    {
     "data": {
      "image/png": "[encoded data removed]",
      "text/plain": [
       "<Figure size 3000x700 with 3 Axes>"
      ]
     },
     "metadata": {},
     "output_type": "display_data"
    }
   ],
   "source": [
    "results_df[\n",
    "    [\"overall_profit\", \"sideways_slope_deviations\", \"bad_ergonomics_distance\"]\n",
    "].plot(\n",
    "    subplots=True,\n",
    "    layout=(1, 3),\n",
    "    figsize=(30, 7),\n",
    "    legend=False,\n",
    "    title=[\"Overall profit\", \"Sideways slope deviations\", \"Bad ergonomics distance\"],\n",
    ")"
   ]
  },
  {
   "cell_type": "code",
   "execution_count": 38,
   "metadata": {},
   "outputs": [
    {
     "data": {
      "text/html": [
       "        <script type=\"text/javascript\">\n",
       "        window.PlotlyConfig = {MathJaxConfig: 'local'};\n",
       "        if (window.MathJax && window.MathJax.Hub && window.MathJax.Hub.Config) {window.MathJax.Hub.Config({SVG: {font: \"STIX-Web\"}});}\n",
       "        if (typeof require !== 'undefined') {\n",
       "        require.undef(\"plotly\");\n",
       "        requirejs.config({\n",
       "            paths: {\n",
       "                'plotly': ['https://cdn.plot.ly/plotly-2.18.2.min']\n",
       "            }\n",
       "        });\n",
       "        require(['plotly'], function(Plotly) {\n",
       "            window._Plotly = Plotly;\n",
       "        });\n",
       "        }\n",
       "        </script>\n",
       "        "
      ]
     },
     "metadata": {},
     "output_type": "display_data"
    },
    {
     "data": {
      "text/html": [
       "<div>                            <div id=\"ae6fef68-25a5-48a6-98fd-6442c81317cf\" class=\"plotly-graph-div\" style=\"height:800px; width:1200px;\"></div>            <script type=\"text/javascript\">                require([\"plotly\"], function(Plotly) {                    window.PLOTLYENV=window.PLOTLYENV || {};                                    if (document.getElementById(\"ae6fef68-25a5-48a6-98fd-6442c81317cf\")) {                    Plotly.newPlot(                        \"ae6fef68-25a5-48a6-98fd-6442c81317cf\",                        [{\"marker\":{\"color\":\"black\"},\"x\":[-26.335098015859195,-85.630951],\"y\":[-6.90860167578362,113.1640033],\"type\":\"scatter\"},{\"marker\":{\"color\":\"red\"},\"mode\":\"markers\",\"name\":\"Trees covered by line 0\",\"x\":[-83.48467459,-88.19360784,-77.38716,-93.90127238,-97.02245733,-102.7610669,-106.9293573,-107.9110969,-110.3984335,-106.0132132,-96.73072895,-96.22606223,-98.31843957,-115.0619992,-108.786355,-114.5846122,-110.2887047,-103.1629812,-95.55933733,-74.37847497,-74.12546686,-83.96798843,-105.839508,-107.0136188,-89.62130667,-83.3753646,-102.8911694,-82.7508461,-78.26144619,-74.66894341,-85.630951,-104.5151239,-90.57745961,-72.9690587,-79.21758645,-87.31261084,-95.6665854,-78.82330588,-70.18942466,-70.13604975,-69.11292673,-105.2474193,-111.0155589,-110.4334077,-109.0691822,-113.8496183,-115.6880358,-116.3580906,-114.450469,-72.28254052,-115.5839619,-20.01427656,-46.08530939,-39.1687174,-41.69020833,-20.15441667,-30.51452551,-65.84327489,-100.4964897,-87.83312994,-67.58248429,-113.9290292,-65.91586274,-66.154401,-61.06820181,-65.06967068,-64.15900983,-55.91586735,-61.14652818,-60.13371324,-64.44548,-64.87632182,-57.75133942,-51.72634937,-54.22529924,-56.03364748,-51.34979148,-57.75406087,-47.45566976,-54.71720264,-48.32035725,-48.23730243,-37.09976663,-37.47195419,-38.754948,-28.88421312,-45.03471145,-52.09936048,-30.53919388,-33.86425279,-42.03635682,-43.77058695,-48.38149441,-33.38285971,-45.35963829,-20.31095449,-30.12933628,-38.2757944,-37.18284862,-26.71358941],\"y\":[95.86970097,98.34736686,105.531576,85.11919619,88.54954267,77.77472,80.351252,82.70909714,75.82409401,89.40781657,98.53306229,100.1307978,100.5692092,85.04506755,77.02719052,82.96372814,86.10765266,85.29616635,104.3161573,104.4872907,104.5034411,102.8353679,86.49467744,95.28771062,107.525112,106.9914629,86.20745338,115.3560539,109.285201,120.7985667,113.1640033,87.68086518,107.7242429,113.7228677,104.8973871,111.5093353,102.4783549,117.612602,120.3503284,119.873547,121.5114816,97.1181028,90.92524233,96.00547745,82.99614333,87.2107575,80.37969702,88.860498,91.64478486,123.1188927,78.43012638,149.922979,140.8923356,139.7536376,142.3992175,148.7100133,144.0812844,113.24662,96.3416446,111.5008781,122.3045443,85.41514138,122.5960266,118.6669428,129.0447034,116.4094181,119.7839872,136.2810578,132.0985808,135.6421414,123.662627,130.8051815,129.7407148,139.1805794,132.3293989,131.1800298,136.4680276,135.4419983,141.6323199,138.5854925,139.9950704,134.702649,143.2286398,144.5117223,141.452916,149.7437673,135.7886081,129.4302928,148.8980511,147.9375081,145.0488265,142.5344245,130.5650093,144.4892955,129.9263817,155.2269872,150.6443552,147.5998112,141.5735606,150.2932019],\"type\":\"scatter\"},{\"marker\":{\"color\":\"black\"},\"x\":[-15.12792573,-26.335098015859195],\"y\":[-26.16056076,-6.90860167578362],\"type\":\"scatter\"},{\"marker\":{\"color\":\"black\"},\"x\":[5.750624681,-26.335098015859195],\"y\":[-23.50333184,-6.90860167578362],\"type\":\"scatter\"},{\"marker\":{\"color\":\"black\"},\"x\":[-32.07481086,-26.335098015859195],\"y\":[-30.17481,-6.90860167578362],\"type\":\"scatter\"},{\"marker\":{\"color\":\"black\"},\"x\":[],\"y\":[],\"type\":\"scatter\"}],                        {\"template\":{\"data\":{\"histogram2dcontour\":[{\"type\":\"histogram2dcontour\",\"colorbar\":{\"outlinewidth\":0,\"ticks\":\"\"},\"colorscale\":[[0.0,\"#0d0887\"],[0.1111111111111111,\"#46039f\"],[0.2222222222222222,\"#7201a8\"],[0.3333333333333333,\"#9c179e\"],[0.4444444444444444,\"#bd3786\"],[0.5555555555555556,\"#d8576b\"],[0.6666666666666666,\"#ed7953\"],[0.7777777777777778,\"#fb9f3a\"],[0.8888888888888888,\"#fdca26\"],[1.0,\"#f0f921\"]]}],\"choropleth\":[{\"type\":\"choropleth\",\"colorbar\":{\"outlinewidth\":0,\"ticks\":\"\"}}],\"histogram2d\":[{\"type\":\"histogram2d\",\"colorbar\":{\"outlinewidth\":0,\"ticks\":\"\"},\"colorscale\":[[0.0,\"#0d0887\"],[0.1111111111111111,\"#46039f\"],[0.2222222222222222,\"#7201a8\"],[0.3333333333333333,\"#9c179e\"],[0.4444444444444444,\"#bd3786\"],[0.5555555555555556,\"#d8576b\"],[0.6666666666666666,\"#ed7953\"],[0.7777777777777778,\"#fb9f3a\"],[0.8888888888888888,\"#fdca26\"],[1.0,\"#f0f921\"]]}],\"heatmap\":[{\"type\":\"heatmap\",\"colorbar\":{\"outlinewidth\":0,\"ticks\":\"\"},\"colorscale\":[[0.0,\"#0d0887\"],[0.1111111111111111,\"#46039f\"],[0.2222222222222222,\"#7201a8\"],[0.3333333333333333,\"#9c179e\"],[0.4444444444444444,\"#bd3786\"],[0.5555555555555556,\"#d8576b\"],[0.6666666666666666,\"#ed7953\"],[0.7777777777777778,\"#fb9f3a\"],[0.8888888888888888,\"#fdca26\"],[1.0,\"#f0f921\"]]}],\"heatmapgl\":[{\"type\":\"heatmapgl\",\"colorbar\":{\"outlinewidth\":0,\"ticks\":\"\"},\"colorscale\":[[0.0,\"#0d0887\"],[0.1111111111111111,\"#46039f\"],[0.2222222222222222,\"#7201a8\"],[0.3333333333333333,\"#9c179e\"],[0.4444444444444444,\"#bd3786\"],[0.5555555555555556,\"#d8576b\"],[0.6666666666666666,\"#ed7953\"],[0.7777777777777778,\"#fb9f3a\"],[0.8888888888888888,\"#fdca26\"],[1.0,\"#f0f921\"]]}],\"contourcarpet\":[{\"type\":\"contourcarpet\",\"colorbar\":{\"outlinewidth\":0,\"ticks\":\"\"}}],\"contour\":[{\"type\":\"contour\",\"colorbar\":{\"outlinewidth\":0,\"ticks\":\"\"},\"colorscale\":[[0.0,\"#0d0887\"],[0.1111111111111111,\"#46039f\"],[0.2222222222222222,\"#7201a8\"],[0.3333333333333333,\"#9c179e\"],[0.4444444444444444,\"#bd3786\"],[0.5555555555555556,\"#d8576b\"],[0.6666666666666666,\"#ed7953\"],[0.7777777777777778,\"#fb9f3a\"],[0.8888888888888888,\"#fdca26\"],[1.0,\"#f0f921\"]]}],\"surface\":[{\"type\":\"surface\",\"colorbar\":{\"outlinewidth\":0,\"ticks\":\"\"},\"colorscale\":[[0.0,\"#0d0887\"],[0.1111111111111111,\"#46039f\"],[0.2222222222222222,\"#7201a8\"],[0.3333333333333333,\"#9c179e\"],[0.4444444444444444,\"#bd3786\"],[0.5555555555555556,\"#d8576b\"],[0.6666666666666666,\"#ed7953\"],[0.7777777777777778,\"#fb9f3a\"],[0.8888888888888888,\"#fdca26\"],[1.0,\"#f0f921\"]]}],\"mesh3d\":[{\"type\":\"mesh3d\",\"colorbar\":{\"outlinewidth\":0,\"ticks\":\"\"}}],\"scatter\":[{\"fillpattern\":{\"fillmode\":\"overlay\",\"size\":10,\"solidity\":0.2},\"type\":\"scatter\"}],\"parcoords\":[{\"type\":\"parcoords\",\"line\":{\"colorbar\":{\"outlinewidth\":0,\"ticks\":\"\"}}}],\"scatterpolargl\":[{\"type\":\"scatterpolargl\",\"marker\":{\"colorbar\":{\"outlinewidth\":0,\"ticks\":\"\"}}}],\"bar\":[{\"error_x\":{\"color\":\"#2a3f5f\"},\"error_y\":{\"color\":\"#2a3f5f\"},\"marker\":{\"line\":{\"color\":\"#E5ECF6\",\"width\":0.5},\"pattern\":{\"fillmode\":\"overlay\",\"size\":10,\"solidity\":0.2}},\"type\":\"bar\"}],\"scattergeo\":[{\"type\":\"scattergeo\",\"marker\":{\"colorbar\":{\"outlinewidth\":0,\"ticks\":\"\"}}}],\"scatterpolar\":[{\"type\":\"scatterpolar\",\"marker\":{\"colorbar\":{\"outlinewidth\":0,\"ticks\":\"\"}}}],\"histogram\":[{\"marker\":{\"pattern\":{\"fillmode\":\"overlay\",\"size\":10,\"solidity\":0.2}},\"type\":\"histogram\"}],\"scattergl\":[{\"type\":\"scattergl\",\"marker\":{\"colorbar\":{\"outlinewidth\":0,\"ticks\":\"\"}}}],\"scatter3d\":[{\"type\":\"scatter3d\",\"line\":{\"colorbar\":{\"outlinewidth\":0,\"ticks\":\"\"}},\"marker\":{\"colorbar\":{\"outlinewidth\":0,\"ticks\":\"\"}}}],\"scattermapbox\":[{\"type\":\"scattermapbox\",\"marker\":{\"colorbar\":{\"outlinewidth\":0,\"ticks\":\"\"}}}],\"scatterternary\":[{\"type\":\"scatterternary\",\"marker\":{\"colorbar\":{\"outlinewidth\":0,\"ticks\":\"\"}}}],\"scattercarpet\":[{\"type\":\"scattercarpet\",\"marker\":{\"colorbar\":{\"outlinewidth\":0,\"ticks\":\"\"}}}],\"carpet\":[{\"aaxis\":{\"endlinecolor\":\"#2a3f5f\",\"gridcolor\":\"white\",\"linecolor\":\"white\",\"minorgridcolor\":\"white\",\"startlinecolor\":\"#2a3f5f\"},\"baxis\":{\"endlinecolor\":\"#2a3f5f\",\"gridcolor\":\"white\",\"linecolor\":\"white\",\"minorgridcolor\":\"white\",\"startlinecolor\":\"#2a3f5f\"},\"type\":\"carpet\"}],\"table\":[{\"cells\":{\"fill\":{\"color\":\"#EBF0F8\"},\"line\":{\"color\":\"white\"}},\"header\":{\"fill\":{\"color\":\"#C8D4E3\"},\"line\":{\"color\":\"white\"}},\"type\":\"table\"}],\"barpolar\":[{\"marker\":{\"line\":{\"color\":\"#E5ECF6\",\"width\":0.5},\"pattern\":{\"fillmode\":\"overlay\",\"size\":10,\"solidity\":0.2}},\"type\":\"barpolar\"}],\"pie\":[{\"automargin\":true,\"type\":\"pie\"}]},\"layout\":{\"autotypenumbers\":\"strict\",\"colorway\":[\"#636efa\",\"#EF553B\",\"#00cc96\",\"#ab63fa\",\"#FFA15A\",\"#19d3f3\",\"#FF6692\",\"#B6E880\",\"#FF97FF\",\"#FECB52\"],\"font\":{\"color\":\"#2a3f5f\"},\"hovermode\":\"closest\",\"hoverlabel\":{\"align\":\"left\"},\"paper_bgcolor\":\"white\",\"plot_bgcolor\":\"#E5ECF6\",\"polar\":{\"bgcolor\":\"#E5ECF6\",\"angularaxis\":{\"gridcolor\":\"white\",\"linecolor\":\"white\",\"ticks\":\"\"},\"radialaxis\":{\"gridcolor\":\"white\",\"linecolor\":\"white\",\"ticks\":\"\"}},\"ternary\":{\"bgcolor\":\"#E5ECF6\",\"aaxis\":{\"gridcolor\":\"white\",\"linecolor\":\"white\",\"ticks\":\"\"},\"baxis\":{\"gridcolor\":\"white\",\"linecolor\":\"white\",\"ticks\":\"\"},\"caxis\":{\"gridcolor\":\"white\",\"linecolor\":\"white\",\"ticks\":\"\"}},\"coloraxis\":{\"colorbar\":{\"outlinewidth\":0,\"ticks\":\"\"}},\"colorscale\":{\"sequential\":[[0.0,\"#0d0887\"],[0.1111111111111111,\"#46039f\"],[0.2222222222222222,\"#7201a8\"],[0.3333333333333333,\"#9c179e\"],[0.4444444444444444,\"#bd3786\"],[0.5555555555555556,\"#d8576b\"],[0.6666666666666666,\"#ed7953\"],[0.7777777777777778,\"#fb9f3a\"],[0.8888888888888888,\"#fdca26\"],[1.0,\"#f0f921\"]],\"sequentialminus\":[[0.0,\"#0d0887\"],[0.1111111111111111,\"#46039f\"],[0.2222222222222222,\"#7201a8\"],[0.3333333333333333,\"#9c179e\"],[0.4444444444444444,\"#bd3786\"],[0.5555555555555556,\"#d8576b\"],[0.6666666666666666,\"#ed7953\"],[0.7777777777777778,\"#fb9f3a\"],[0.8888888888888888,\"#fdca26\"],[1.0,\"#f0f921\"]],\"diverging\":[[0,\"#8e0152\"],[0.1,\"#c51b7d\"],[0.2,\"#de77ae\"],[0.3,\"#f1b6da\"],[0.4,\"#fde0ef\"],[0.5,\"#f7f7f7\"],[0.6,\"#e6f5d0\"],[0.7,\"#b8e186\"],[0.8,\"#7fbc41\"],[0.9,\"#4d9221\"],[1,\"#276419\"]]},\"xaxis\":{\"gridcolor\":\"white\",\"linecolor\":\"white\",\"ticks\":\"\",\"title\":{\"standoff\":15},\"zerolinecolor\":\"white\",\"automargin\":true,\"zerolinewidth\":2},\"yaxis\":{\"gridcolor\":\"white\",\"linecolor\":\"white\",\"ticks\":\"\",\"title\":{\"standoff\":15},\"zerolinecolor\":\"white\",\"automargin\":true,\"zerolinewidth\":2},\"scene\":{\"xaxis\":{\"backgroundcolor\":\"#E5ECF6\",\"gridcolor\":\"white\",\"linecolor\":\"white\",\"showbackground\":true,\"ticks\":\"\",\"zerolinecolor\":\"white\",\"gridwidth\":2},\"yaxis\":{\"backgroundcolor\":\"#E5ECF6\",\"gridcolor\":\"white\",\"linecolor\":\"white\",\"showbackground\":true,\"ticks\":\"\",\"zerolinecolor\":\"white\",\"gridwidth\":2},\"zaxis\":{\"backgroundcolor\":\"#E5ECF6\",\"gridcolor\":\"white\",\"linecolor\":\"white\",\"showbackground\":true,\"ticks\":\"\",\"zerolinecolor\":\"white\",\"gridwidth\":2}},\"shapedefaults\":{\"line\":{\"color\":\"#2a3f5f\"}},\"annotationdefaults\":{\"arrowcolor\":\"#2a3f5f\",\"arrowhead\":0,\"arrowwidth\":1},\"geo\":{\"bgcolor\":\"white\",\"landcolor\":\"#E5ECF6\",\"subunitcolor\":\"white\",\"showland\":true,\"showlakes\":true,\"lakecolor\":\"white\"},\"title\":{\"x\":0.05},\"mapbox\":{\"style\":\"light\"}}},\"width\":1200,\"height\":800,\"showlegend\":false},                        {\"responsive\": true}                    ).then(function(){\n",
       "                            \n",
       "var gd = document.getElementById('ae6fef68-25a5-48a6-98fd-6442c81317cf');\n",
       "var x = new MutationObserver(function (mutations, observer) {{\n",
       "        var display = window.getComputedStyle(gd).display;\n",
       "        if (!display || display === 'none') {{\n",
       "            console.log([gd, 'removed!']);\n",
       "            Plotly.purge(gd);\n",
       "            observer.disconnect();\n",
       "        }}\n",
       "}});\n",
       "\n",
       "// Listen for the removal of the full notebook cells\n",
       "var notebookContainer = gd.closest('#notebook-container');\n",
       "if (notebookContainer) {{\n",
       "    x.observe(notebookContainer, {childList: true});\n",
       "}}\n",
       "\n",
       "// Listen for the clearing of the current output cell\n",
       "var outputEl = gd.closest('.output');\n",
       "if (outputEl) {{\n",
       "    x.observe(outputEl, {childList: true});\n",
       "}}\n",
       "\n",
       "                        })                };                });            </script>        </div>"
      ]
     },
     "metadata": {},
     "output_type": "display_data"
    },
    {
     "data": {
      "text/html": [
       "        <script type=\"text/javascript\">\n",
       "        window.PlotlyConfig = {MathJaxConfig: 'local'};\n",
       "        if (window.MathJax && window.MathJax.Hub && window.MathJax.Hub.Config) {window.MathJax.Hub.Config({SVG: {font: \"STIX-Web\"}});}\n",
       "        if (typeof require !== 'undefined') {\n",
       "        require.undef(\"plotly\");\n",
       "        requirejs.config({\n",
       "            paths: {\n",
       "                'plotly': ['https://cdn.plot.ly/plotly-2.18.2.min']\n",
       "            }\n",
       "        });\n",
       "        require(['plotly'], function(Plotly) {\n",
       "            window._Plotly = Plotly;\n",
       "        });\n",
       "        }\n",
       "        </script>\n",
       "        "
      ]
     },
     "metadata": {},
     "output_type": "display_data"
    },
    {
     "data": {
      "text/html": [
       "<div>                            <div id=\"3b682c3c-d463-4db1-aff7-28048e2ae448\" class=\"plotly-graph-div\" style=\"height:800px; width:1200px;\"></div>            <script type=\"text/javascript\">                require([\"plotly\"], function(Plotly) {                    window.PLOTLYENV=window.PLOTLYENV || {};                                    if (document.getElementById(\"3b682c3c-d463-4db1-aff7-28048e2ae448\")) {                    Plotly.newPlot(                        \"3b682c3c-d463-4db1-aff7-28048e2ae448\",                        [{\"marker\":{\"color\":\"black\"},\"x\":[-29.880646898378075,-106.0132132],\"y\":[-8.757599103801436,89.40781657],\"type\":\"scatter\"},{\"marker\":{\"color\":\"red\"},\"mode\":\"markers\",\"name\":\"Trees covered by line 0\",\"x\":[-93.90127238,-97.02245733,-102.7610669,-106.9293573,-107.9110969,-110.3984335,-106.0132132,-115.0619992,-108.786355,-114.5846122,-110.2887047,-103.1629812,-105.839508,-107.0136188,-102.8911694,-104.5151239,-105.2474193,-111.0155589,-110.4334077,-109.0691822,-113.8496183,-115.6880358,-116.3580906,-114.450469,-115.5839619,-100.4964897,-113.9290292],\"y\":[85.11919619,88.54954267,77.77472,80.351252,82.70909714,75.82409401,89.40781657,85.04506755,77.02719052,82.96372814,86.10765266,85.29616635,86.49467744,95.28771062,86.20745338,87.68086518,97.1181028,90.92524233,96.00547745,82.99614333,87.2107575,80.37969702,88.860498,91.64478486,78.43012638,96.3416446,85.41514138],\"type\":\"scatter\"},{\"marker\":{\"color\":\"black\"},\"x\":[-15.12792573,-29.880646898378075],\"y\":[-26.16056076,-8.757599103801436],\"type\":\"scatter\"},{\"marker\":{\"color\":\"black\"},\"x\":[5.750624681,-29.880646898378075],\"y\":[-23.50333184,-8.757599103801436],\"type\":\"scatter\"},{\"marker\":{\"color\":\"black\"},\"x\":[-22.92090482,-29.880646898378075],\"y\":[-30.73934474,-8.757599103801436],\"type\":\"scatter\"},{\"marker\":{\"color\":\"black\"},\"x\":[-83.54479257],\"y\":[57.81202571],\"type\":\"scatter\"},{\"marker\":{\"color\":\"black\"},\"x\":[-28.09774993774453,-96.73072895],\"y\":[-7.853619242961038,98.53306229],\"type\":\"scatter\"},{\"marker\":{\"color\":\"blue\"},\"mode\":\"markers\",\"name\":\"Trees covered by line 1\",\"x\":[-83.48467459,-88.19360784,-96.73072895,-96.22606223,-98.31843957,-95.55933733,-95.6665854],\"y\":[95.86970097,98.34736686,98.53306229,100.1307978,100.5692092,104.3161573,102.4783549],\"type\":\"scatter\"},{\"marker\":{\"color\":\"black\"},\"x\":[-15.12792573,-28.09774993774453],\"y\":[-26.16056076,-7.853619242961038],\"type\":\"scatter\"},{\"marker\":{\"color\":\"black\"},\"x\":[5.750624681,-28.09774993774453],\"y\":[-23.50333184,-7.853619242961038],\"type\":\"scatter\"},{\"marker\":{\"color\":\"black\"},\"x\":[-22.92090482,-28.09774993774453],\"y\":[-30.73934474,-7.853619242961038],\"type\":\"scatter\"},{\"marker\":{\"color\":\"black\"},\"x\":[],\"y\":[],\"type\":\"scatter\"},{\"marker\":{\"color\":\"black\"},\"x\":[-26.335098015859195,-85.630951],\"y\":[-6.90860167578362,113.1640033],\"type\":\"scatter\"},{\"marker\":{\"color\":\"green\"},\"mode\":\"markers\",\"name\":\"Trees covered by line 2\",\"x\":[-77.38716,-74.37847497,-74.12546686,-83.96798843,-89.62130667,-83.3753646,-82.7508461,-78.26144619,-74.66894341,-85.630951,-90.57745961,-79.21758645,-87.31261084,-78.82330588,-72.28254052,-87.83312994,-60.13371324,-64.87632182],\"y\":[105.531576,104.4872907,104.5034411,102.8353679,107.525112,106.9914629,115.3560539,109.285201,120.7985667,113.1640033,107.7242429,104.8973871,111.5093353,117.612602,123.1188927,111.5008781,135.6421414,130.8051815],\"type\":\"scatter\"},{\"marker\":{\"color\":\"black\"},\"x\":[-15.12792573,-26.335098015859195],\"y\":[-26.16056076,-6.90860167578362],\"type\":\"scatter\"},{\"marker\":{\"color\":\"black\"},\"x\":[5.750624681,-26.335098015859195],\"y\":[-23.50333184,-6.90860167578362],\"type\":\"scatter\"},{\"marker\":{\"color\":\"black\"},\"x\":[-32.07481086,-26.335098015859195],\"y\":[-30.17481,-6.90860167578362],\"type\":\"scatter\"},{\"marker\":{\"color\":\"black\"},\"x\":[],\"y\":[],\"type\":\"scatter\"},{\"marker\":{\"color\":\"black\"},\"x\":[-24.572446093973856,-74.37847497],\"y\":[-5.963584108606202,104.4872907],\"type\":\"scatter\"},{\"marker\":{\"color\":\"orange\"},\"mode\":\"markers\",\"name\":\"Trees covered by line 3\",\"x\":[-72.9690587,-70.18942466,-70.13604975,-69.11292673,-20.01427656,-46.08530939,-39.1687174,-41.69020833,-20.15441667,-30.51452551,-65.84327489,-67.58248429,-65.91586274,-66.154401,-61.06820181,-65.06967068,-64.15900983,-55.91586735,-61.14652818,-64.44548,-57.75133942,-51.72634937,-54.22529924,-56.03364748,-51.34979148,-57.75406087,-47.45566976,-54.71720264,-48.32035725,-48.23730243,-37.09976663,-37.47195419,-38.754948,-28.88421312,-45.03471145,-52.09936048,-30.53919388,-33.86425279,-42.03635682,-43.77058695,-48.38149441,-33.38285971,-45.35963829,-20.31095449,-30.12933628,-38.2757944,-37.18284862,-26.71358941],\"y\":[113.7228677,120.3503284,119.873547,121.5114816,149.922979,140.8923356,139.7536376,142.3992175,148.7100133,144.0812844,113.24662,122.3045443,122.5960266,118.6669428,129.0447034,116.4094181,119.7839872,136.2810578,132.0985808,123.662627,129.7407148,139.1805794,132.3293989,131.1800298,136.4680276,135.4419983,141.6323199,138.5854925,139.9950704,134.702649,143.2286398,144.5117223,141.452916,149.7437673,135.7886081,129.4302928,148.8980511,147.9375081,145.0488265,142.5344245,130.5650093,144.4892955,129.9263817,155.2269872,150.6443552,147.5998112,141.5735606,150.2932019],\"type\":\"scatter\"},{\"marker\":{\"color\":\"black\"},\"x\":[-15.12792573,-24.572446093973856],\"y\":[-26.16056076,-5.963584108606202],\"type\":\"scatter\"},{\"marker\":{\"color\":\"black\"},\"x\":[5.750624681,-24.572446093973856],\"y\":[-23.50333184,-5.963584108606202],\"type\":\"scatter\"},{\"marker\":{\"color\":\"black\"},\"x\":[-22.92090482,-24.572446093973856],\"y\":[-30.73934474,-5.963584108606202],\"type\":\"scatter\"},{\"marker\":{\"color\":\"black\"},\"x\":[],\"y\":[],\"type\":\"scatter\"}],                        {\"template\":{\"data\":{\"histogram2dcontour\":[{\"type\":\"histogram2dcontour\",\"colorbar\":{\"outlinewidth\":0,\"ticks\":\"\"},\"colorscale\":[[0.0,\"#0d0887\"],[0.1111111111111111,\"#46039f\"],[0.2222222222222222,\"#7201a8\"],[0.3333333333333333,\"#9c179e\"],[0.4444444444444444,\"#bd3786\"],[0.5555555555555556,\"#d8576b\"],[0.6666666666666666,\"#ed7953\"],[0.7777777777777778,\"#fb9f3a\"],[0.8888888888888888,\"#fdca26\"],[1.0,\"#f0f921\"]]}],\"choropleth\":[{\"type\":\"choropleth\",\"colorbar\":{\"outlinewidth\":0,\"ticks\":\"\"}}],\"histogram2d\":[{\"type\":\"histogram2d\",\"colorbar\":{\"outlinewidth\":0,\"ticks\":\"\"},\"colorscale\":[[0.0,\"#0d0887\"],[0.1111111111111111,\"#46039f\"],[0.2222222222222222,\"#7201a8\"],[0.3333333333333333,\"#9c179e\"],[0.4444444444444444,\"#bd3786\"],[0.5555555555555556,\"#d8576b\"],[0.6666666666666666,\"#ed7953\"],[0.7777777777777778,\"#fb9f3a\"],[0.8888888888888888,\"#fdca26\"],[1.0,\"#f0f921\"]]}],\"heatmap\":[{\"type\":\"heatmap\",\"colorbar\":{\"outlinewidth\":0,\"ticks\":\"\"},\"colorscale\":[[0.0,\"#0d0887\"],[0.1111111111111111,\"#46039f\"],[0.2222222222222222,\"#7201a8\"],[0.3333333333333333,\"#9c179e\"],[0.4444444444444444,\"#bd3786\"],[0.5555555555555556,\"#d8576b\"],[0.6666666666666666,\"#ed7953\"],[0.7777777777777778,\"#fb9f3a\"],[0.8888888888888888,\"#fdca26\"],[1.0,\"#f0f921\"]]}],\"heatmapgl\":[{\"type\":\"heatmapgl\",\"colorbar\":{\"outlinewidth\":0,\"ticks\":\"\"},\"colorscale\":[[0.0,\"#0d0887\"],[0.1111111111111111,\"#46039f\"],[0.2222222222222222,\"#7201a8\"],[0.3333333333333333,\"#9c179e\"],[0.4444444444444444,\"#bd3786\"],[0.5555555555555556,\"#d8576b\"],[0.6666666666666666,\"#ed7953\"],[0.7777777777777778,\"#fb9f3a\"],[0.8888888888888888,\"#fdca26\"],[1.0,\"#f0f921\"]]}],\"contourcarpet\":[{\"type\":\"contourcarpet\",\"colorbar\":{\"outlinewidth\":0,\"ticks\":\"\"}}],\"contour\":[{\"type\":\"contour\",\"colorbar\":{\"outlinewidth\":0,\"ticks\":\"\"},\"colorscale\":[[0.0,\"#0d0887\"],[0.1111111111111111,\"#46039f\"],[0.2222222222222222,\"#7201a8\"],[0.3333333333333333,\"#9c179e\"],[0.4444444444444444,\"#bd3786\"],[0.5555555555555556,\"#d8576b\"],[0.6666666666666666,\"#ed7953\"],[0.7777777777777778,\"#fb9f3a\"],[0.8888888888888888,\"#fdca26\"],[1.0,\"#f0f921\"]]}],\"surface\":[{\"type\":\"surface\",\"colorbar\":{\"outlinewidth\":0,\"ticks\":\"\"},\"colorscale\":[[0.0,\"#0d0887\"],[0.1111111111111111,\"#46039f\"],[0.2222222222222222,\"#7201a8\"],[0.3333333333333333,\"#9c179e\"],[0.4444444444444444,\"#bd3786\"],[0.5555555555555556,\"#d8576b\"],[0.6666666666666666,\"#ed7953\"],[0.7777777777777778,\"#fb9f3a\"],[0.8888888888888888,\"#fdca26\"],[1.0,\"#f0f921\"]]}],\"mesh3d\":[{\"type\":\"mesh3d\",\"colorbar\":{\"outlinewidth\":0,\"ticks\":\"\"}}],\"scatter\":[{\"fillpattern\":{\"fillmode\":\"overlay\",\"size\":10,\"solidity\":0.2},\"type\":\"scatter\"}],\"parcoords\":[{\"type\":\"parcoords\",\"line\":{\"colorbar\":{\"outlinewidth\":0,\"ticks\":\"\"}}}],\"scatterpolargl\":[{\"type\":\"scatterpolargl\",\"marker\":{\"colorbar\":{\"outlinewidth\":0,\"ticks\":\"\"}}}],\"bar\":[{\"error_x\":{\"color\":\"#2a3f5f\"},\"error_y\":{\"color\":\"#2a3f5f\"},\"marker\":{\"line\":{\"color\":\"#E5ECF6\",\"width\":0.5},\"pattern\":{\"fillmode\":\"overlay\",\"size\":10,\"solidity\":0.2}},\"type\":\"bar\"}],\"scattergeo\":[{\"type\":\"scattergeo\",\"marker\":{\"colorbar\":{\"outlinewidth\":0,\"ticks\":\"\"}}}],\"scatterpolar\":[{\"type\":\"scatterpolar\",\"marker\":{\"colorbar\":{\"outlinewidth\":0,\"ticks\":\"\"}}}],\"histogram\":[{\"marker\":{\"pattern\":{\"fillmode\":\"overlay\",\"size\":10,\"solidity\":0.2}},\"type\":\"histogram\"}],\"scattergl\":[{\"type\":\"scattergl\",\"marker\":{\"colorbar\":{\"outlinewidth\":0,\"ticks\":\"\"}}}],\"scatter3d\":[{\"type\":\"scatter3d\",\"line\":{\"colorbar\":{\"outlinewidth\":0,\"ticks\":\"\"}},\"marker\":{\"colorbar\":{\"outlinewidth\":0,\"ticks\":\"\"}}}],\"scattermapbox\":[{\"type\":\"scattermapbox\",\"marker\":{\"colorbar\":{\"outlinewidth\":0,\"ticks\":\"\"}}}],\"scatterternary\":[{\"type\":\"scatterternary\",\"marker\":{\"colorbar\":{\"outlinewidth\":0,\"ticks\":\"\"}}}],\"scattercarpet\":[{\"type\":\"scattercarpet\",\"marker\":{\"colorbar\":{\"outlinewidth\":0,\"ticks\":\"\"}}}],\"carpet\":[{\"aaxis\":{\"endlinecolor\":\"#2a3f5f\",\"gridcolor\":\"white\",\"linecolor\":\"white\",\"minorgridcolor\":\"white\",\"startlinecolor\":\"#2a3f5f\"},\"baxis\":{\"endlinecolor\":\"#2a3f5f\",\"gridcolor\":\"white\",\"linecolor\":\"white\",\"minorgridcolor\":\"white\",\"startlinecolor\":\"#2a3f5f\"},\"type\":\"carpet\"}],\"table\":[{\"cells\":{\"fill\":{\"color\":\"#EBF0F8\"},\"line\":{\"color\":\"white\"}},\"header\":{\"fill\":{\"color\":\"#C8D4E3\"},\"line\":{\"color\":\"white\"}},\"type\":\"table\"}],\"barpolar\":[{\"marker\":{\"line\":{\"color\":\"#E5ECF6\",\"width\":0.5},\"pattern\":{\"fillmode\":\"overlay\",\"size\":10,\"solidity\":0.2}},\"type\":\"barpolar\"}],\"pie\":[{\"automargin\":true,\"type\":\"pie\"}]},\"layout\":{\"autotypenumbers\":\"strict\",\"colorway\":[\"#636efa\",\"#EF553B\",\"#00cc96\",\"#ab63fa\",\"#FFA15A\",\"#19d3f3\",\"#FF6692\",\"#B6E880\",\"#FF97FF\",\"#FECB52\"],\"font\":{\"color\":\"#2a3f5f\"},\"hovermode\":\"closest\",\"hoverlabel\":{\"align\":\"left\"},\"paper_bgcolor\":\"white\",\"plot_bgcolor\":\"#E5ECF6\",\"polar\":{\"bgcolor\":\"#E5ECF6\",\"angularaxis\":{\"gridcolor\":\"white\",\"linecolor\":\"white\",\"ticks\":\"\"},\"radialaxis\":{\"gridcolor\":\"white\",\"linecolor\":\"white\",\"ticks\":\"\"}},\"ternary\":{\"bgcolor\":\"#E5ECF6\",\"aaxis\":{\"gridcolor\":\"white\",\"linecolor\":\"white\",\"ticks\":\"\"},\"baxis\":{\"gridcolor\":\"white\",\"linecolor\":\"white\",\"ticks\":\"\"},\"caxis\":{\"gridcolor\":\"white\",\"linecolor\":\"white\",\"ticks\":\"\"}},\"coloraxis\":{\"colorbar\":{\"outlinewidth\":0,\"ticks\":\"\"}},\"colorscale\":{\"sequential\":[[0.0,\"#0d0887\"],[0.1111111111111111,\"#46039f\"],[0.2222222222222222,\"#7201a8\"],[0.3333333333333333,\"#9c179e\"],[0.4444444444444444,\"#bd3786\"],[0.5555555555555556,\"#d8576b\"],[0.6666666666666666,\"#ed7953\"],[0.7777777777777778,\"#fb9f3a\"],[0.8888888888888888,\"#fdca26\"],[1.0,\"#f0f921\"]],\"sequentialminus\":[[0.0,\"#0d0887\"],[0.1111111111111111,\"#46039f\"],[0.2222222222222222,\"#7201a8\"],[0.3333333333333333,\"#9c179e\"],[0.4444444444444444,\"#bd3786\"],[0.5555555555555556,\"#d8576b\"],[0.6666666666666666,\"#ed7953\"],[0.7777777777777778,\"#fb9f3a\"],[0.8888888888888888,\"#fdca26\"],[1.0,\"#f0f921\"]],\"diverging\":[[0,\"#8e0152\"],[0.1,\"#c51b7d\"],[0.2,\"#de77ae\"],[0.3,\"#f1b6da\"],[0.4,\"#fde0ef\"],[0.5,\"#f7f7f7\"],[0.6,\"#e6f5d0\"],[0.7,\"#b8e186\"],[0.8,\"#7fbc41\"],[0.9,\"#4d9221\"],[1,\"#276419\"]]},\"xaxis\":{\"gridcolor\":\"white\",\"linecolor\":\"white\",\"ticks\":\"\",\"title\":{\"standoff\":15},\"zerolinecolor\":\"white\",\"automargin\":true,\"zerolinewidth\":2},\"yaxis\":{\"gridcolor\":\"white\",\"linecolor\":\"white\",\"ticks\":\"\",\"title\":{\"standoff\":15},\"zerolinecolor\":\"white\",\"automargin\":true,\"zerolinewidth\":2},\"scene\":{\"xaxis\":{\"backgroundcolor\":\"#E5ECF6\",\"gridcolor\":\"white\",\"linecolor\":\"white\",\"showbackground\":true,\"ticks\":\"\",\"zerolinecolor\":\"white\",\"gridwidth\":2},\"yaxis\":{\"backgroundcolor\":\"#E5ECF6\",\"gridcolor\":\"white\",\"linecolor\":\"white\",\"showbackground\":true,\"ticks\":\"\",\"zerolinecolor\":\"white\",\"gridwidth\":2},\"zaxis\":{\"backgroundcolor\":\"#E5ECF6\",\"gridcolor\":\"white\",\"linecolor\":\"white\",\"showbackground\":true,\"ticks\":\"\",\"zerolinecolor\":\"white\",\"gridwidth\":2}},\"shapedefaults\":{\"line\":{\"color\":\"#2a3f5f\"}},\"annotationdefaults\":{\"arrowcolor\":\"#2a3f5f\",\"arrowhead\":0,\"arrowwidth\":1},\"geo\":{\"bgcolor\":\"white\",\"landcolor\":\"#E5ECF6\",\"subunitcolor\":\"white\",\"showland\":true,\"showlakes\":true,\"lakecolor\":\"white\"},\"title\":{\"x\":0.05},\"mapbox\":{\"style\":\"light\"}}},\"width\":1200,\"height\":800,\"showlegend\":false},                        {\"responsive\": true}                    ).then(function(){\n",
       "                            \n",
       "var gd = document.getElementById('3b682c3c-d463-4db1-aff7-28048e2ae448');\n",
       "var x = new MutationObserver(function (mutations, observer) {{\n",
       "        var display = window.getComputedStyle(gd).display;\n",
       "        if (!display || display === 'none') {{\n",
       "            console.log([gd, 'removed!']);\n",
       "            Plotly.purge(gd);\n",
       "            observer.disconnect();\n",
       "        }}\n",
       "}});\n",
       "\n",
       "// Listen for the removal of the full notebook cells\n",
       "var notebookContainer = gd.closest('#notebook-container');\n",
       "if (notebookContainer) {{\n",
       "    x.observe(notebookContainer, {childList: true});\n",
       "}}\n",
       "\n",
       "// Listen for the clearing of the current output cell\n",
       "var outputEl = gd.closest('.output');\n",
       "if (outputEl) {{\n",
       "    x.observe(outputEl, {childList: true});\n",
       "}}\n",
       "\n",
       "                        })                };                });            </script>        </div>"
      ]
     },
     "metadata": {},
     "output_type": "display_data"
    },
    {
     "data": {
      "text/html": [
       "        <script type=\"text/javascript\">\n",
       "        window.PlotlyConfig = {MathJaxConfig: 'local'};\n",
       "        if (window.MathJax && window.MathJax.Hub && window.MathJax.Hub.Config) {window.MathJax.Hub.Config({SVG: {font: \"STIX-Web\"}});}\n",
       "        if (typeof require !== 'undefined') {\n",
       "        require.undef(\"plotly\");\n",
       "        requirejs.config({\n",
       "            paths: {\n",
       "                'plotly': ['https://cdn.plot.ly/plotly-2.18.2.min']\n",
       "            }\n",
       "        });\n",
       "        require(['plotly'], function(Plotly) {\n",
       "            window._Plotly = Plotly;\n",
       "        });\n",
       "        }\n",
       "        </script>\n",
       "        "
      ]
     },
     "metadata": {},
     "output_type": "display_data"
    },
    {
     "data": {
      "text/html": [
       "<div>                            <div id=\"23cec29d-eae3-4f33-81a2-a47193bcbb16\" class=\"plotly-graph-div\" style=\"height:800px; width:1200px;\"></div>            <script type=\"text/javascript\">                require([\"plotly\"], function(Plotly) {                    window.PLOTLYENV=window.PLOTLYENV || {};                                    if (document.getElementById(\"23cec29d-eae3-4f33-81a2-a47193bcbb16\")) {                    Plotly.newPlot(                        \"23cec29d-eae3-4f33-81a2-a47193bcbb16\",                        [{\"marker\":{\"color\":\"black\"},\"x\":[-29.880646898378075,-106.0132132],\"y\":[-8.757599103801436,89.40781657],\"type\":\"scatter\"},{\"marker\":{\"color\":\"red\"},\"mode\":\"markers\",\"name\":\"Trees covered by line 0\",\"x\":[-93.90127238,-97.02245733,-102.7610669,-106.9293573,-107.9110969,-110.3984335,-106.0132132,-96.73072895,-96.22606223,-98.31843957,-115.0619992,-108.786355,-114.5846122,-110.2887047,-103.1629812,-105.839508,-107.0136188,-102.8911694,-104.5151239,-105.2474193,-111.0155589,-110.4334077,-109.0691822,-113.8496183,-115.6880358,-116.3580906,-114.450469,-115.5839619,-100.4964897,-113.9290292],\"y\":[85.11919619,88.54954267,77.77472,80.351252,82.70909714,75.82409401,89.40781657,98.53306229,100.1307978,100.5692092,85.04506755,77.02719052,82.96372814,86.10765266,85.29616635,86.49467744,95.28771062,86.20745338,87.68086518,97.1181028,90.92524233,96.00547745,82.99614333,87.2107575,80.37969702,88.860498,91.64478486,78.43012638,96.3416446,85.41514138],\"type\":\"scatter\"},{\"marker\":{\"color\":\"black\"},\"x\":[-15.12792573,-29.880646898378075],\"y\":[-26.16056076,-8.757599103801436],\"type\":\"scatter\"},{\"marker\":{\"color\":\"black\"},\"x\":[5.750624681,-29.880646898378075],\"y\":[-23.50333184,-8.757599103801436],\"type\":\"scatter\"},{\"marker\":{\"color\":\"black\"},\"x\":[-22.92090482,-29.880646898378075],\"y\":[-30.73934474,-8.757599103801436],\"type\":\"scatter\"},{\"marker\":{\"color\":\"black\"},\"x\":[-83.54479257],\"y\":[57.81202571],\"type\":\"scatter\"},{\"marker\":{\"color\":\"black\"},\"x\":[-28.09774993774453,-96.73072895],\"y\":[-7.853619242961038,98.53306229],\"type\":\"scatter\"},{\"marker\":{\"color\":\"blue\"},\"mode\":\"markers\",\"name\":\"Trees covered by line 1\",\"x\":[-83.48467459,-88.19360784,-95.55933733,-83.96798843,-89.62130667,-90.57745961,-95.6665854],\"y\":[95.86970097,98.34736686,104.3161573,102.8353679,107.525112,107.7242429,102.4783549],\"type\":\"scatter\"},{\"marker\":{\"color\":\"black\"},\"x\":[-15.12792573,-28.09774993774453],\"y\":[-26.16056076,-7.853619242961038],\"type\":\"scatter\"},{\"marker\":{\"color\":\"black\"},\"x\":[5.750624681,-28.09774993774453],\"y\":[-23.50333184,-7.853619242961038],\"type\":\"scatter\"},{\"marker\":{\"color\":\"black\"},\"x\":[-22.92090482,-28.09774993774453],\"y\":[-30.73934474,-7.853619242961038],\"type\":\"scatter\"},{\"marker\":{\"color\":\"black\"},\"x\":[],\"y\":[],\"type\":\"scatter\"},{\"marker\":{\"color\":\"black\"},\"x\":[-26.335098015859195,-85.630951],\"y\":[-6.90860167578362,113.1640033],\"type\":\"scatter\"},{\"marker\":{\"color\":\"green\"},\"mode\":\"markers\",\"name\":\"Trees covered by line 2\",\"x\":[-77.38716,-74.37847497,-74.12546686,-83.3753646,-82.7508461,-78.26144619,-74.66894341,-85.630951,-72.9690587,-79.21758645,-87.31261084,-78.82330588,-72.28254052,-87.83312994,-60.13371324,-64.87632182],\"y\":[105.531576,104.4872907,104.5034411,106.9914629,115.3560539,109.285201,120.7985667,113.1640033,113.7228677,104.8973871,111.5093353,117.612602,123.1188927,111.5008781,135.6421414,130.8051815],\"type\":\"scatter\"},{\"marker\":{\"color\":\"black\"},\"x\":[-15.12792573,-26.335098015859195],\"y\":[-26.16056076,-6.90860167578362],\"type\":\"scatter\"},{\"marker\":{\"color\":\"black\"},\"x\":[5.750624681,-26.335098015859195],\"y\":[-23.50333184,-6.90860167578362],\"type\":\"scatter\"},{\"marker\":{\"color\":\"black\"},\"x\":[-32.07481086,-26.335098015859195],\"y\":[-30.17481,-6.90860167578362],\"type\":\"scatter\"},{\"marker\":{\"color\":\"black\"},\"x\":[],\"y\":[],\"type\":\"scatter\"},{\"marker\":{\"color\":\"black\"},\"x\":[-24.572446093973856,-74.37847497],\"y\":[-5.963584108606202,104.4872907],\"type\":\"scatter\"},{\"marker\":{\"color\":\"orange\"},\"mode\":\"markers\",\"name\":\"Trees covered by line 3\",\"x\":[-70.18942466,-70.13604975,-69.11292673,-20.01427656,-46.08530939,-39.1687174,-41.69020833,-20.15441667,-30.51452551,-65.84327489,-67.58248429,-65.91586274,-66.154401,-61.06820181,-65.06967068,-64.15900983,-55.91586735,-61.14652818,-64.44548,-57.75133942,-51.72634937,-54.22529924,-56.03364748,-51.34979148,-57.75406087,-47.45566976,-54.71720264,-48.32035725,-48.23730243,-37.09976663,-37.47195419,-38.754948,-28.88421312,-45.03471145,-52.09936048,-30.53919388,-33.86425279,-42.03635682,-43.77058695,-48.38149441,-33.38285971,-45.35963829,-20.31095449,-30.12933628,-38.2757944,-37.18284862,-26.71358941],\"y\":[120.3503284,119.873547,121.5114816,149.922979,140.8923356,139.7536376,142.3992175,148.7100133,144.0812844,113.24662,122.3045443,122.5960266,118.6669428,129.0447034,116.4094181,119.7839872,136.2810578,132.0985808,123.662627,129.7407148,139.1805794,132.3293989,131.1800298,136.4680276,135.4419983,141.6323199,138.5854925,139.9950704,134.702649,143.2286398,144.5117223,141.452916,149.7437673,135.7886081,129.4302928,148.8980511,147.9375081,145.0488265,142.5344245,130.5650093,144.4892955,129.9263817,155.2269872,150.6443552,147.5998112,141.5735606,150.2932019],\"type\":\"scatter\"},{\"marker\":{\"color\":\"black\"},\"x\":[-15.12792573,-24.572446093973856],\"y\":[-26.16056076,-5.963584108606202],\"type\":\"scatter\"},{\"marker\":{\"color\":\"black\"},\"x\":[5.750624681,-24.572446093973856],\"y\":[-23.50333184,-5.963584108606202],\"type\":\"scatter\"},{\"marker\":{\"color\":\"black\"},\"x\":[-22.92090482,-24.572446093973856],\"y\":[-30.73934474,-5.963584108606202],\"type\":\"scatter\"},{\"marker\":{\"color\":\"black\"},\"x\":[],\"y\":[],\"type\":\"scatter\"}],                        {\"template\":{\"data\":{\"histogram2dcontour\":[{\"type\":\"histogram2dcontour\",\"colorbar\":{\"outlinewidth\":0,\"ticks\":\"\"},\"colorscale\":[[0.0,\"#0d0887\"],[0.1111111111111111,\"#46039f\"],[0.2222222222222222,\"#7201a8\"],[0.3333333333333333,\"#9c179e\"],[0.4444444444444444,\"#bd3786\"],[0.5555555555555556,\"#d8576b\"],[0.6666666666666666,\"#ed7953\"],[0.7777777777777778,\"#fb9f3a\"],[0.8888888888888888,\"#fdca26\"],[1.0,\"#f0f921\"]]}],\"choropleth\":[{\"type\":\"choropleth\",\"colorbar\":{\"outlinewidth\":0,\"ticks\":\"\"}}],\"histogram2d\":[{\"type\":\"histogram2d\",\"colorbar\":{\"outlinewidth\":0,\"ticks\":\"\"},\"colorscale\":[[0.0,\"#0d0887\"],[0.1111111111111111,\"#46039f\"],[0.2222222222222222,\"#7201a8\"],[0.3333333333333333,\"#9c179e\"],[0.4444444444444444,\"#bd3786\"],[0.5555555555555556,\"#d8576b\"],[0.6666666666666666,\"#ed7953\"],[0.7777777777777778,\"#fb9f3a\"],[0.8888888888888888,\"#fdca26\"],[1.0,\"#f0f921\"]]}],\"heatmap\":[{\"type\":\"heatmap\",\"colorbar\":{\"outlinewidth\":0,\"ticks\":\"\"},\"colorscale\":[[0.0,\"#0d0887\"],[0.1111111111111111,\"#46039f\"],[0.2222222222222222,\"#7201a8\"],[0.3333333333333333,\"#9c179e\"],[0.4444444444444444,\"#bd3786\"],[0.5555555555555556,\"#d8576b\"],[0.6666666666666666,\"#ed7953\"],[0.7777777777777778,\"#fb9f3a\"],[0.8888888888888888,\"#fdca26\"],[1.0,\"#f0f921\"]]}],\"heatmapgl\":[{\"type\":\"heatmapgl\",\"colorbar\":{\"outlinewidth\":0,\"ticks\":\"\"},\"colorscale\":[[0.0,\"#0d0887\"],[0.1111111111111111,\"#46039f\"],[0.2222222222222222,\"#7201a8\"],[0.3333333333333333,\"#9c179e\"],[0.4444444444444444,\"#bd3786\"],[0.5555555555555556,\"#d8576b\"],[0.6666666666666666,\"#ed7953\"],[0.7777777777777778,\"#fb9f3a\"],[0.8888888888888888,\"#fdca26\"],[1.0,\"#f0f921\"]]}],\"contourcarpet\":[{\"type\":\"contourcarpet\",\"colorbar\":{\"outlinewidth\":0,\"ticks\":\"\"}}],\"contour\":[{\"type\":\"contour\",\"colorbar\":{\"outlinewidth\":0,\"ticks\":\"\"},\"colorscale\":[[0.0,\"#0d0887\"],[0.1111111111111111,\"#46039f\"],[0.2222222222222222,\"#7201a8\"],[0.3333333333333333,\"#9c179e\"],[0.4444444444444444,\"#bd3786\"],[0.5555555555555556,\"#d8576b\"],[0.6666666666666666,\"#ed7953\"],[0.7777777777777778,\"#fb9f3a\"],[0.8888888888888888,\"#fdca26\"],[1.0,\"#f0f921\"]]}],\"surface\":[{\"type\":\"surface\",\"colorbar\":{\"outlinewidth\":0,\"ticks\":\"\"},\"colorscale\":[[0.0,\"#0d0887\"],[0.1111111111111111,\"#46039f\"],[0.2222222222222222,\"#7201a8\"],[0.3333333333333333,\"#9c179e\"],[0.4444444444444444,\"#bd3786\"],[0.5555555555555556,\"#d8576b\"],[0.6666666666666666,\"#ed7953\"],[0.7777777777777778,\"#fb9f3a\"],[0.8888888888888888,\"#fdca26\"],[1.0,\"#f0f921\"]]}],\"mesh3d\":[{\"type\":\"mesh3d\",\"colorbar\":{\"outlinewidth\":0,\"ticks\":\"\"}}],\"scatter\":[{\"fillpattern\":{\"fillmode\":\"overlay\",\"size\":10,\"solidity\":0.2},\"type\":\"scatter\"}],\"parcoords\":[{\"type\":\"parcoords\",\"line\":{\"colorbar\":{\"outlinewidth\":0,\"ticks\":\"\"}}}],\"scatterpolargl\":[{\"type\":\"scatterpolargl\",\"marker\":{\"colorbar\":{\"outlinewidth\":0,\"ticks\":\"\"}}}],\"bar\":[{\"error_x\":{\"color\":\"#2a3f5f\"},\"error_y\":{\"color\":\"#2a3f5f\"},\"marker\":{\"line\":{\"color\":\"#E5ECF6\",\"width\":0.5},\"pattern\":{\"fillmode\":\"overlay\",\"size\":10,\"solidity\":0.2}},\"type\":\"bar\"}],\"scattergeo\":[{\"type\":\"scattergeo\",\"marker\":{\"colorbar\":{\"outlinewidth\":0,\"ticks\":\"\"}}}],\"scatterpolar\":[{\"type\":\"scatterpolar\",\"marker\":{\"colorbar\":{\"outlinewidth\":0,\"ticks\":\"\"}}}],\"histogram\":[{\"marker\":{\"pattern\":{\"fillmode\":\"overlay\",\"size\":10,\"solidity\":0.2}},\"type\":\"histogram\"}],\"scattergl\":[{\"type\":\"scattergl\",\"marker\":{\"colorbar\":{\"outlinewidth\":0,\"ticks\":\"\"}}}],\"scatter3d\":[{\"type\":\"scatter3d\",\"line\":{\"colorbar\":{\"outlinewidth\":0,\"ticks\":\"\"}},\"marker\":{\"colorbar\":{\"outlinewidth\":0,\"ticks\":\"\"}}}],\"scattermapbox\":[{\"type\":\"scattermapbox\",\"marker\":{\"colorbar\":{\"outlinewidth\":0,\"ticks\":\"\"}}}],\"scatterternary\":[{\"type\":\"scatterternary\",\"marker\":{\"colorbar\":{\"outlinewidth\":0,\"ticks\":\"\"}}}],\"scattercarpet\":[{\"type\":\"scattercarpet\",\"marker\":{\"colorbar\":{\"outlinewidth\":0,\"ticks\":\"\"}}}],\"carpet\":[{\"aaxis\":{\"endlinecolor\":\"#2a3f5f\",\"gridcolor\":\"white\",\"linecolor\":\"white\",\"minorgridcolor\":\"white\",\"startlinecolor\":\"#2a3f5f\"},\"baxis\":{\"endlinecolor\":\"#2a3f5f\",\"gridcolor\":\"white\",\"linecolor\":\"white\",\"minorgridcolor\":\"white\",\"startlinecolor\":\"#2a3f5f\"},\"type\":\"carpet\"}],\"table\":[{\"cells\":{\"fill\":{\"color\":\"#EBF0F8\"},\"line\":{\"color\":\"white\"}},\"header\":{\"fill\":{\"color\":\"#C8D4E3\"},\"line\":{\"color\":\"white\"}},\"type\":\"table\"}],\"barpolar\":[{\"marker\":{\"line\":{\"color\":\"#E5ECF6\",\"width\":0.5},\"pattern\":{\"fillmode\":\"overlay\",\"size\":10,\"solidity\":0.2}},\"type\":\"barpolar\"}],\"pie\":[{\"automargin\":true,\"type\":\"pie\"}]},\"layout\":{\"autotypenumbers\":\"strict\",\"colorway\":[\"#636efa\",\"#EF553B\",\"#00cc96\",\"#ab63fa\",\"#FFA15A\",\"#19d3f3\",\"#FF6692\",\"#B6E880\",\"#FF97FF\",\"#FECB52\"],\"font\":{\"color\":\"#2a3f5f\"},\"hovermode\":\"closest\",\"hoverlabel\":{\"align\":\"left\"},\"paper_bgcolor\":\"white\",\"plot_bgcolor\":\"#E5ECF6\",\"polar\":{\"bgcolor\":\"#E5ECF6\",\"angularaxis\":{\"gridcolor\":\"white\",\"linecolor\":\"white\",\"ticks\":\"\"},\"radialaxis\":{\"gridcolor\":\"white\",\"linecolor\":\"white\",\"ticks\":\"\"}},\"ternary\":{\"bgcolor\":\"#E5ECF6\",\"aaxis\":{\"gridcolor\":\"white\",\"linecolor\":\"white\",\"ticks\":\"\"},\"baxis\":{\"gridcolor\":\"white\",\"linecolor\":\"white\",\"ticks\":\"\"},\"caxis\":{\"gridcolor\":\"white\",\"linecolor\":\"white\",\"ticks\":\"\"}},\"coloraxis\":{\"colorbar\":{\"outlinewidth\":0,\"ticks\":\"\"}},\"colorscale\":{\"sequential\":[[0.0,\"#0d0887\"],[0.1111111111111111,\"#46039f\"],[0.2222222222222222,\"#7201a8\"],[0.3333333333333333,\"#9c179e\"],[0.4444444444444444,\"#bd3786\"],[0.5555555555555556,\"#d8576b\"],[0.6666666666666666,\"#ed7953\"],[0.7777777777777778,\"#fb9f3a\"],[0.8888888888888888,\"#fdca26\"],[1.0,\"#f0f921\"]],\"sequentialminus\":[[0.0,\"#0d0887\"],[0.1111111111111111,\"#46039f\"],[0.2222222222222222,\"#7201a8\"],[0.3333333333333333,\"#9c179e\"],[0.4444444444444444,\"#bd3786\"],[0.5555555555555556,\"#d8576b\"],[0.6666666666666666,\"#ed7953\"],[0.7777777777777778,\"#fb9f3a\"],[0.8888888888888888,\"#fdca26\"],[1.0,\"#f0f921\"]],\"diverging\":[[0,\"#8e0152\"],[0.1,\"#c51b7d\"],[0.2,\"#de77ae\"],[0.3,\"#f1b6da\"],[0.4,\"#fde0ef\"],[0.5,\"#f7f7f7\"],[0.6,\"#e6f5d0\"],[0.7,\"#b8e186\"],[0.8,\"#7fbc41\"],[0.9,\"#4d9221\"],[1,\"#276419\"]]},\"xaxis\":{\"gridcolor\":\"white\",\"linecolor\":\"white\",\"ticks\":\"\",\"title\":{\"standoff\":15},\"zerolinecolor\":\"white\",\"automargin\":true,\"zerolinewidth\":2},\"yaxis\":{\"gridcolor\":\"white\",\"linecolor\":\"white\",\"ticks\":\"\",\"title\":{\"standoff\":15},\"zerolinecolor\":\"white\",\"automargin\":true,\"zerolinewidth\":2},\"scene\":{\"xaxis\":{\"backgroundcolor\":\"#E5ECF6\",\"gridcolor\":\"white\",\"linecolor\":\"white\",\"showbackground\":true,\"ticks\":\"\",\"zerolinecolor\":\"white\",\"gridwidth\":2},\"yaxis\":{\"backgroundcolor\":\"#E5ECF6\",\"gridcolor\":\"white\",\"linecolor\":\"white\",\"showbackground\":true,\"ticks\":\"\",\"zerolinecolor\":\"white\",\"gridwidth\":2},\"zaxis\":{\"backgroundcolor\":\"#E5ECF6\",\"gridcolor\":\"white\",\"linecolor\":\"white\",\"showbackground\":true,\"ticks\":\"\",\"zerolinecolor\":\"white\",\"gridwidth\":2}},\"shapedefaults\":{\"line\":{\"color\":\"#2a3f5f\"}},\"annotationdefaults\":{\"arrowcolor\":\"#2a3f5f\",\"arrowhead\":0,\"arrowwidth\":1},\"geo\":{\"bgcolor\":\"white\",\"landcolor\":\"#E5ECF6\",\"subunitcolor\":\"white\",\"showland\":true,\"showlakes\":true,\"lakecolor\":\"white\"},\"title\":{\"x\":0.05},\"mapbox\":{\"style\":\"light\"}}},\"width\":1200,\"height\":800,\"showlegend\":false},                        {\"responsive\": true}                    ).then(function(){\n",
       "                            \n",
       "var gd = document.getElementById('23cec29d-eae3-4f33-81a2-a47193bcbb16');\n",
       "var x = new MutationObserver(function (mutations, observer) {{\n",
       "        var display = window.getComputedStyle(gd).display;\n",
       "        if (!display || display === 'none') {{\n",
       "            console.log([gd, 'removed!']);\n",
       "            Plotly.purge(gd);\n",
       "            observer.disconnect();\n",
       "        }}\n",
       "}});\n",
       "\n",
       "// Listen for the removal of the full notebook cells\n",
       "var notebookContainer = gd.closest('#notebook-container');\n",
       "if (notebookContainer) {{\n",
       "    x.observe(notebookContainer, {childList: true});\n",
       "}}\n",
       "\n",
       "// Listen for the clearing of the current output cell\n",
       "var outputEl = gd.closest('.output');\n",
       "if (outputEl) {{\n",
       "    x.observe(outputEl, {childList: true});\n",
       "}}\n",
       "\n",
       "                        })                };                });            </script>        </div>"
      ]
     },
     "metadata": {},
     "output_type": "display_data"
    },
    {
     "data": {
      "text/html": [
       "        <script type=\"text/javascript\">\n",
       "        window.PlotlyConfig = {MathJaxConfig: 'local'};\n",
       "        if (window.MathJax && window.MathJax.Hub && window.MathJax.Hub.Config) {window.MathJax.Hub.Config({SVG: {font: \"STIX-Web\"}});}\n",
       "        if (typeof require !== 'undefined') {\n",
       "        require.undef(\"plotly\");\n",
       "        requirejs.config({\n",
       "            paths: {\n",
       "                'plotly': ['https://cdn.plot.ly/plotly-2.18.2.min']\n",
       "            }\n",
       "        });\n",
       "        require(['plotly'], function(Plotly) {\n",
       "            window._Plotly = Plotly;\n",
       "        });\n",
       "        }\n",
       "        </script>\n",
       "        "
      ]
     },
     "metadata": {},
     "output_type": "display_data"
    },
    {
     "data": {
      "text/html": [
       "<div>                            <div id=\"3530713b-20b4-4451-b7b8-b26851b12d45\" class=\"plotly-graph-div\" style=\"height:800px; width:1200px;\"></div>            <script type=\"text/javascript\">                require([\"plotly\"], function(Plotly) {                    window.PLOTLYENV=window.PLOTLYENV || {};                                    if (document.getElementById(\"3530713b-20b4-4451-b7b8-b26851b12d45\")) {                    Plotly.newPlot(                        \"3530713b-20b4-4451-b7b8-b26851b12d45\",                        [{\"marker\":{\"color\":\"black\"},\"x\":[-26.335098015859195,-85.630951],\"y\":[-6.90860167578362,113.1640033],\"type\":\"scatter\"},{\"marker\":{\"color\":\"red\"},\"mode\":\"markers\",\"name\":\"Trees covered by line 0\",\"x\":[-83.48467459,-88.19360784,-77.38716,-93.90127238,-97.02245733,-102.7610669,-106.9293573,-107.9110969,-110.3984335,-106.0132132,-96.73072895,-96.22606223,-98.31843957,-115.0619992,-108.786355,-114.5846122,-110.2887047,-103.1629812,-95.55933733,-74.37847497,-74.12546686,-83.96798843,-105.839508,-107.0136188,-89.62130667,-83.3753646,-102.8911694,-82.7508461,-78.26144619,-74.66894341,-85.630951,-104.5151239,-90.57745961,-72.9690587,-79.21758645,-87.31261084,-95.6665854,-78.82330588,-70.18942466,-70.13604975,-69.11292673,-105.2474193,-111.0155589,-110.4334077,-109.0691822,-113.8496183,-115.6880358,-116.3580906,-114.450469,-72.28254052,-115.5839619,-20.01427656,-46.08530939,-39.1687174,-41.69020833,-20.15441667,-30.51452551,-65.84327489,-100.4964897,-87.83312994,-67.58248429,-113.9290292,-65.91586274,-66.154401,-61.06820181,-65.06967068,-64.15900983,-55.91586735,-61.14652818,-60.13371324,-64.44548,-64.87632182,-57.75133942,-51.72634937,-54.22529924,-56.03364748,-51.34979148,-57.75406087,-47.45566976,-54.71720264,-48.32035725,-48.23730243,-37.09976663,-37.47195419,-38.754948,-28.88421312,-45.03471145,-52.09936048,-30.53919388,-33.86425279,-42.03635682,-43.77058695,-48.38149441,-33.38285971,-45.35963829,-20.31095449,-30.12933628,-38.2757944,-37.18284862,-26.71358941],\"y\":[95.86970097,98.34736686,105.531576,85.11919619,88.54954267,77.77472,80.351252,82.70909714,75.82409401,89.40781657,98.53306229,100.1307978,100.5692092,85.04506755,77.02719052,82.96372814,86.10765266,85.29616635,104.3161573,104.4872907,104.5034411,102.8353679,86.49467744,95.28771062,107.525112,106.9914629,86.20745338,115.3560539,109.285201,120.7985667,113.1640033,87.68086518,107.7242429,113.7228677,104.8973871,111.5093353,102.4783549,117.612602,120.3503284,119.873547,121.5114816,97.1181028,90.92524233,96.00547745,82.99614333,87.2107575,80.37969702,88.860498,91.64478486,123.1188927,78.43012638,149.922979,140.8923356,139.7536376,142.3992175,148.7100133,144.0812844,113.24662,96.3416446,111.5008781,122.3045443,85.41514138,122.5960266,118.6669428,129.0447034,116.4094181,119.7839872,136.2810578,132.0985808,135.6421414,123.662627,130.8051815,129.7407148,139.1805794,132.3293989,131.1800298,136.4680276,135.4419983,141.6323199,138.5854925,139.9950704,134.702649,143.2286398,144.5117223,141.452916,149.7437673,135.7886081,129.4302928,148.8980511,147.9375081,145.0488265,142.5344245,130.5650093,144.4892955,129.9263817,155.2269872,150.6443552,147.5998112,141.5735606,150.2932019],\"type\":\"scatter\"},{\"marker\":{\"color\":\"black\"},\"x\":[-15.12792573,-26.335098015859195],\"y\":[-26.16056076,-6.90860167578362],\"type\":\"scatter\"},{\"marker\":{\"color\":\"black\"},\"x\":[5.750624681,-26.335098015859195],\"y\":[-23.50333184,-6.90860167578362],\"type\":\"scatter\"},{\"marker\":{\"color\":\"black\"},\"x\":[-32.07481086,-26.335098015859195],\"y\":[-30.17481,-6.90860167578362],\"type\":\"scatter\"},{\"marker\":{\"color\":\"black\"},\"x\":[],\"y\":[],\"type\":\"scatter\"}],                        {\"template\":{\"data\":{\"histogram2dcontour\":[{\"type\":\"histogram2dcontour\",\"colorbar\":{\"outlinewidth\":0,\"ticks\":\"\"},\"colorscale\":[[0.0,\"#0d0887\"],[0.1111111111111111,\"#46039f\"],[0.2222222222222222,\"#7201a8\"],[0.3333333333333333,\"#9c179e\"],[0.4444444444444444,\"#bd3786\"],[0.5555555555555556,\"#d8576b\"],[0.6666666666666666,\"#ed7953\"],[0.7777777777777778,\"#fb9f3a\"],[0.8888888888888888,\"#fdca26\"],[1.0,\"#f0f921\"]]}],\"choropleth\":[{\"type\":\"choropleth\",\"colorbar\":{\"outlinewidth\":0,\"ticks\":\"\"}}],\"histogram2d\":[{\"type\":\"histogram2d\",\"colorbar\":{\"outlinewidth\":0,\"ticks\":\"\"},\"colorscale\":[[0.0,\"#0d0887\"],[0.1111111111111111,\"#46039f\"],[0.2222222222222222,\"#7201a8\"],[0.3333333333333333,\"#9c179e\"],[0.4444444444444444,\"#bd3786\"],[0.5555555555555556,\"#d8576b\"],[0.6666666666666666,\"#ed7953\"],[0.7777777777777778,\"#fb9f3a\"],[0.8888888888888888,\"#fdca26\"],[1.0,\"#f0f921\"]]}],\"heatmap\":[{\"type\":\"heatmap\",\"colorbar\":{\"outlinewidth\":0,\"ticks\":\"\"},\"colorscale\":[[0.0,\"#0d0887\"],[0.1111111111111111,\"#46039f\"],[0.2222222222222222,\"#7201a8\"],[0.3333333333333333,\"#9c179e\"],[0.4444444444444444,\"#bd3786\"],[0.5555555555555556,\"#d8576b\"],[0.6666666666666666,\"#ed7953\"],[0.7777777777777778,\"#fb9f3a\"],[0.8888888888888888,\"#fdca26\"],[1.0,\"#f0f921\"]]}],\"heatmapgl\":[{\"type\":\"heatmapgl\",\"colorbar\":{\"outlinewidth\":0,\"ticks\":\"\"},\"colorscale\":[[0.0,\"#0d0887\"],[0.1111111111111111,\"#46039f\"],[0.2222222222222222,\"#7201a8\"],[0.3333333333333333,\"#9c179e\"],[0.4444444444444444,\"#bd3786\"],[0.5555555555555556,\"#d8576b\"],[0.6666666666666666,\"#ed7953\"],[0.7777777777777778,\"#fb9f3a\"],[0.8888888888888888,\"#fdca26\"],[1.0,\"#f0f921\"]]}],\"contourcarpet\":[{\"type\":\"contourcarpet\",\"colorbar\":{\"outlinewidth\":0,\"ticks\":\"\"}}],\"contour\":[{\"type\":\"contour\",\"colorbar\":{\"outlinewidth\":0,\"ticks\":\"\"},\"colorscale\":[[0.0,\"#0d0887\"],[0.1111111111111111,\"#46039f\"],[0.2222222222222222,\"#7201a8\"],[0.3333333333333333,\"#9c179e\"],[0.4444444444444444,\"#bd3786\"],[0.5555555555555556,\"#d8576b\"],[0.6666666666666666,\"#ed7953\"],[0.7777777777777778,\"#fb9f3a\"],[0.8888888888888888,\"#fdca26\"],[1.0,\"#f0f921\"]]}],\"surface\":[{\"type\":\"surface\",\"colorbar\":{\"outlinewidth\":0,\"ticks\":\"\"},\"colorscale\":[[0.0,\"#0d0887\"],[0.1111111111111111,\"#46039f\"],[0.2222222222222222,\"#7201a8\"],[0.3333333333333333,\"#9c179e\"],[0.4444444444444444,\"#bd3786\"],[0.5555555555555556,\"#d8576b\"],[0.6666666666666666,\"#ed7953\"],[0.7777777777777778,\"#fb9f3a\"],[0.8888888888888888,\"#fdca26\"],[1.0,\"#f0f921\"]]}],\"mesh3d\":[{\"type\":\"mesh3d\",\"colorbar\":{\"outlinewidth\":0,\"ticks\":\"\"}}],\"scatter\":[{\"fillpattern\":{\"fillmode\":\"overlay\",\"size\":10,\"solidity\":0.2},\"type\":\"scatter\"}],\"parcoords\":[{\"type\":\"parcoords\",\"line\":{\"colorbar\":{\"outlinewidth\":0,\"ticks\":\"\"}}}],\"scatterpolargl\":[{\"type\":\"scatterpolargl\",\"marker\":{\"colorbar\":{\"outlinewidth\":0,\"ticks\":\"\"}}}],\"bar\":[{\"error_x\":{\"color\":\"#2a3f5f\"},\"error_y\":{\"color\":\"#2a3f5f\"},\"marker\":{\"line\":{\"color\":\"#E5ECF6\",\"width\":0.5},\"pattern\":{\"fillmode\":\"overlay\",\"size\":10,\"solidity\":0.2}},\"type\":\"bar\"}],\"scattergeo\":[{\"type\":\"scattergeo\",\"marker\":{\"colorbar\":{\"outlinewidth\":0,\"ticks\":\"\"}}}],\"scatterpolar\":[{\"type\":\"scatterpolar\",\"marker\":{\"colorbar\":{\"outlinewidth\":0,\"ticks\":\"\"}}}],\"histogram\":[{\"marker\":{\"pattern\":{\"fillmode\":\"overlay\",\"size\":10,\"solidity\":0.2}},\"type\":\"histogram\"}],\"scattergl\":[{\"type\":\"scattergl\",\"marker\":{\"colorbar\":{\"outlinewidth\":0,\"ticks\":\"\"}}}],\"scatter3d\":[{\"type\":\"scatter3d\",\"line\":{\"colorbar\":{\"outlinewidth\":0,\"ticks\":\"\"}},\"marker\":{\"colorbar\":{\"outlinewidth\":0,\"ticks\":\"\"}}}],\"scattermapbox\":[{\"type\":\"scattermapbox\",\"marker\":{\"colorbar\":{\"outlinewidth\":0,\"ticks\":\"\"}}}],\"scatterternary\":[{\"type\":\"scatterternary\",\"marker\":{\"colorbar\":{\"outlinewidth\":0,\"ticks\":\"\"}}}],\"scattercarpet\":[{\"type\":\"scattercarpet\",\"marker\":{\"colorbar\":{\"outlinewidth\":0,\"ticks\":\"\"}}}],\"carpet\":[{\"aaxis\":{\"endlinecolor\":\"#2a3f5f\",\"gridcolor\":\"white\",\"linecolor\":\"white\",\"minorgridcolor\":\"white\",\"startlinecolor\":\"#2a3f5f\"},\"baxis\":{\"endlinecolor\":\"#2a3f5f\",\"gridcolor\":\"white\",\"linecolor\":\"white\",\"minorgridcolor\":\"white\",\"startlinecolor\":\"#2a3f5f\"},\"type\":\"carpet\"}],\"table\":[{\"cells\":{\"fill\":{\"color\":\"#EBF0F8\"},\"line\":{\"color\":\"white\"}},\"header\":{\"fill\":{\"color\":\"#C8D4E3\"},\"line\":{\"color\":\"white\"}},\"type\":\"table\"}],\"barpolar\":[{\"marker\":{\"line\":{\"color\":\"#E5ECF6\",\"width\":0.5},\"pattern\":{\"fillmode\":\"overlay\",\"size\":10,\"solidity\":0.2}},\"type\":\"barpolar\"}],\"pie\":[{\"automargin\":true,\"type\":\"pie\"}]},\"layout\":{\"autotypenumbers\":\"strict\",\"colorway\":[\"#636efa\",\"#EF553B\",\"#00cc96\",\"#ab63fa\",\"#FFA15A\",\"#19d3f3\",\"#FF6692\",\"#B6E880\",\"#FF97FF\",\"#FECB52\"],\"font\":{\"color\":\"#2a3f5f\"},\"hovermode\":\"closest\",\"hoverlabel\":{\"align\":\"left\"},\"paper_bgcolor\":\"white\",\"plot_bgcolor\":\"#E5ECF6\",\"polar\":{\"bgcolor\":\"#E5ECF6\",\"angularaxis\":{\"gridcolor\":\"white\",\"linecolor\":\"white\",\"ticks\":\"\"},\"radialaxis\":{\"gridcolor\":\"white\",\"linecolor\":\"white\",\"ticks\":\"\"}},\"ternary\":{\"bgcolor\":\"#E5ECF6\",\"aaxis\":{\"gridcolor\":\"white\",\"linecolor\":\"white\",\"ticks\":\"\"},\"baxis\":{\"gridcolor\":\"white\",\"linecolor\":\"white\",\"ticks\":\"\"},\"caxis\":{\"gridcolor\":\"white\",\"linecolor\":\"white\",\"ticks\":\"\"}},\"coloraxis\":{\"colorbar\":{\"outlinewidth\":0,\"ticks\":\"\"}},\"colorscale\":{\"sequential\":[[0.0,\"#0d0887\"],[0.1111111111111111,\"#46039f\"],[0.2222222222222222,\"#7201a8\"],[0.3333333333333333,\"#9c179e\"],[0.4444444444444444,\"#bd3786\"],[0.5555555555555556,\"#d8576b\"],[0.6666666666666666,\"#ed7953\"],[0.7777777777777778,\"#fb9f3a\"],[0.8888888888888888,\"#fdca26\"],[1.0,\"#f0f921\"]],\"sequentialminus\":[[0.0,\"#0d0887\"],[0.1111111111111111,\"#46039f\"],[0.2222222222222222,\"#7201a8\"],[0.3333333333333333,\"#9c179e\"],[0.4444444444444444,\"#bd3786\"],[0.5555555555555556,\"#d8576b\"],[0.6666666666666666,\"#ed7953\"],[0.7777777777777778,\"#fb9f3a\"],[0.8888888888888888,\"#fdca26\"],[1.0,\"#f0f921\"]],\"diverging\":[[0,\"#8e0152\"],[0.1,\"#c51b7d\"],[0.2,\"#de77ae\"],[0.3,\"#f1b6da\"],[0.4,\"#fde0ef\"],[0.5,\"#f7f7f7\"],[0.6,\"#e6f5d0\"],[0.7,\"#b8e186\"],[0.8,\"#7fbc41\"],[0.9,\"#4d9221\"],[1,\"#276419\"]]},\"xaxis\":{\"gridcolor\":\"white\",\"linecolor\":\"white\",\"ticks\":\"\",\"title\":{\"standoff\":15},\"zerolinecolor\":\"white\",\"automargin\":true,\"zerolinewidth\":2},\"yaxis\":{\"gridcolor\":\"white\",\"linecolor\":\"white\",\"ticks\":\"\",\"title\":{\"standoff\":15},\"zerolinecolor\":\"white\",\"automargin\":true,\"zerolinewidth\":2},\"scene\":{\"xaxis\":{\"backgroundcolor\":\"#E5ECF6\",\"gridcolor\":\"white\",\"linecolor\":\"white\",\"showbackground\":true,\"ticks\":\"\",\"zerolinecolor\":\"white\",\"gridwidth\":2},\"yaxis\":{\"backgroundcolor\":\"#E5ECF6\",\"gridcolor\":\"white\",\"linecolor\":\"white\",\"showbackground\":true,\"ticks\":\"\",\"zerolinecolor\":\"white\",\"gridwidth\":2},\"zaxis\":{\"backgroundcolor\":\"#E5ECF6\",\"gridcolor\":\"white\",\"linecolor\":\"white\",\"showbackground\":true,\"ticks\":\"\",\"zerolinecolor\":\"white\",\"gridwidth\":2}},\"shapedefaults\":{\"line\":{\"color\":\"#2a3f5f\"}},\"annotationdefaults\":{\"arrowcolor\":\"#2a3f5f\",\"arrowhead\":0,\"arrowwidth\":1},\"geo\":{\"bgcolor\":\"white\",\"landcolor\":\"#E5ECF6\",\"subunitcolor\":\"white\",\"showland\":true,\"showlakes\":true,\"lakecolor\":\"white\"},\"title\":{\"x\":0.05},\"mapbox\":{\"style\":\"light\"}}},\"width\":1200,\"height\":800,\"showlegend\":false},                        {\"responsive\": true}                    ).then(function(){\n",
       "                            \n",
       "var gd = document.getElementById('3530713b-20b4-4451-b7b8-b26851b12d45');\n",
       "var x = new MutationObserver(function (mutations, observer) {{\n",
       "        var display = window.getComputedStyle(gd).display;\n",
       "        if (!display || display === 'none') {{\n",
       "            console.log([gd, 'removed!']);\n",
       "            Plotly.purge(gd);\n",
       "            observer.disconnect();\n",
       "        }}\n",
       "}});\n",
       "\n",
       "// Listen for the removal of the full notebook cells\n",
       "var notebookContainer = gd.closest('#notebook-container');\n",
       "if (notebookContainer) {{\n",
       "    x.observe(notebookContainer, {childList: true});\n",
       "}}\n",
       "\n",
       "// Listen for the clearing of the current output cell\n",
       "var outputEl = gd.closest('.output');\n",
       "if (outputEl) {{\n",
       "    x.observe(outputEl, {childList: true});\n",
       "}}\n",
       "\n",
       "                        })                };                });            </script>        </div>"
      ]
     },
     "metadata": {},
     "output_type": "display_data"
    },
    {
     "data": {
      "text/html": [
       "        <script type=\"text/javascript\">\n",
       "        window.PlotlyConfig = {MathJaxConfig: 'local'};\n",
       "        if (window.MathJax && window.MathJax.Hub && window.MathJax.Hub.Config) {window.MathJax.Hub.Config({SVG: {font: \"STIX-Web\"}});}\n",
       "        if (typeof require !== 'undefined') {\n",
       "        require.undef(\"plotly\");\n",
       "        requirejs.config({\n",
       "            paths: {\n",
       "                'plotly': ['https://cdn.plot.ly/plotly-2.18.2.min']\n",
       "            }\n",
       "        });\n",
       "        require(['plotly'], function(Plotly) {\n",
       "            window._Plotly = Plotly;\n",
       "        });\n",
       "        }\n",
       "        </script>\n",
       "        "
      ]
     },
     "metadata": {},
     "output_type": "display_data"
    },
    {
     "data": {
      "text/html": [
       "<div>                            <div id=\"ff6e64fc-d761-4dfa-9431-7d59b392d8b6\" class=\"plotly-graph-div\" style=\"height:800px; width:1200px;\"></div>            <script type=\"text/javascript\">                require([\"plotly\"], function(Plotly) {                    window.PLOTLYENV=window.PLOTLYENV || {};                                    if (document.getElementById(\"ff6e64fc-d761-4dfa-9431-7d59b392d8b6\")) {                    Plotly.newPlot(                        \"ff6e64fc-d761-4dfa-9431-7d59b392d8b6\",                        [{\"marker\":{\"color\":\"black\"},\"x\":[-28.09774993774453,-96.73072895],\"y\":[-7.853619242961038,98.53306229],\"type\":\"scatter\"},{\"marker\":{\"color\":\"red\"},\"mode\":\"markers\",\"name\":\"Trees covered by line 0\",\"x\":[-88.19360784,-93.90127238,-97.02245733,-102.7610669,-106.9293573,-107.9110969,-110.3984335,-106.0132132,-96.73072895,-96.22606223,-98.31843957,-115.0619992,-108.786355,-114.5846122,-110.2887047,-103.1629812,-95.55933733,-105.839508,-107.0136188,-89.62130667,-102.8911694,-104.5151239,-90.57745961,-95.6665854,-105.2474193,-111.0155589,-110.4334077,-109.0691822,-113.8496183,-115.6880358,-116.3580906,-114.450469,-115.5839619,-100.4964897,-113.9290292],\"y\":[98.34736686,85.11919619,88.54954267,77.77472,80.351252,82.70909714,75.82409401,89.40781657,98.53306229,100.1307978,100.5692092,85.04506755,77.02719052,82.96372814,86.10765266,85.29616635,104.3161573,86.49467744,95.28771062,107.525112,86.20745338,87.68086518,107.7242429,102.4783549,97.1181028,90.92524233,96.00547745,82.99614333,87.2107575,80.37969702,88.860498,91.64478486,78.43012638,96.3416446,85.41514138],\"type\":\"scatter\"},{\"marker\":{\"color\":\"black\"},\"x\":[-15.12792573,-28.09774993774453],\"y\":[-26.16056076,-7.853619242961038],\"type\":\"scatter\"},{\"marker\":{\"color\":\"black\"},\"x\":[5.750624681,-28.09774993774453],\"y\":[-23.50333184,-7.853619242961038],\"type\":\"scatter\"},{\"marker\":{\"color\":\"black\"},\"x\":[-22.92090482,-28.09774993774453],\"y\":[-30.73934474,-7.853619242961038],\"type\":\"scatter\"},{\"marker\":{\"color\":\"black\"},\"x\":[],\"y\":[],\"type\":\"scatter\"},{\"marker\":{\"color\":\"black\"},\"x\":[-24.572446093973856,-74.37847497],\"y\":[-5.963584108606202,104.4872907],\"type\":\"scatter\"},{\"marker\":{\"color\":\"blue\"},\"mode\":\"markers\",\"name\":\"Trees covered by line 1\",\"x\":[-83.48467459,-77.38716,-74.37847497,-74.12546686,-83.96798843,-83.3753646,-82.7508461,-78.26144619,-74.66894341,-85.630951,-72.9690587,-79.21758645,-87.31261084,-78.82330588,-70.18942466,-70.13604975,-69.11292673,-72.28254052,-20.01427656,-46.08530939,-39.1687174,-41.69020833,-20.15441667,-30.51452551,-65.84327489,-87.83312994,-67.58248429,-65.91586274,-66.154401,-61.06820181,-65.06967068,-64.15900983,-55.91586735,-61.14652818,-60.13371324,-64.44548,-64.87632182,-57.75133942,-51.72634937,-54.22529924,-56.03364748,-51.34979148,-57.75406087,-47.45566976,-54.71720264,-48.32035725,-48.23730243,-37.09976663,-37.47195419,-38.754948,-28.88421312,-45.03471145,-52.09936048,-30.53919388,-33.86425279,-42.03635682,-43.77058695,-48.38149441,-33.38285971,-45.35963829,-20.31095449,-30.12933628,-38.2757944,-37.18284862,-26.71358941],\"y\":[95.86970097,105.531576,104.4872907,104.5034411,102.8353679,106.9914629,115.3560539,109.285201,120.7985667,113.1640033,113.7228677,104.8973871,111.5093353,117.612602,120.3503284,119.873547,121.5114816,123.1188927,149.922979,140.8923356,139.7536376,142.3992175,148.7100133,144.0812844,113.24662,111.5008781,122.3045443,122.5960266,118.6669428,129.0447034,116.4094181,119.7839872,136.2810578,132.0985808,135.6421414,123.662627,130.8051815,129.7407148,139.1805794,132.3293989,131.1800298,136.4680276,135.4419983,141.6323199,138.5854925,139.9950704,134.702649,143.2286398,144.5117223,141.452916,149.7437673,135.7886081,129.4302928,148.8980511,147.9375081,145.0488265,142.5344245,130.5650093,144.4892955,129.9263817,155.2269872,150.6443552,147.5998112,141.5735606,150.2932019],\"type\":\"scatter\"},{\"marker\":{\"color\":\"black\"},\"x\":[-15.12792573,-24.572446093973856],\"y\":[-26.16056076,-5.963584108606202],\"type\":\"scatter\"},{\"marker\":{\"color\":\"black\"},\"x\":[5.750624681,-24.572446093973856],\"y\":[-23.50333184,-5.963584108606202],\"type\":\"scatter\"},{\"marker\":{\"color\":\"black\"},\"x\":[-22.92090482,-24.572446093973856],\"y\":[-30.73934474,-5.963584108606202],\"type\":\"scatter\"},{\"marker\":{\"color\":\"black\"},\"x\":[],\"y\":[],\"type\":\"scatter\"}],                        {\"template\":{\"data\":{\"histogram2dcontour\":[{\"type\":\"histogram2dcontour\",\"colorbar\":{\"outlinewidth\":0,\"ticks\":\"\"},\"colorscale\":[[0.0,\"#0d0887\"],[0.1111111111111111,\"#46039f\"],[0.2222222222222222,\"#7201a8\"],[0.3333333333333333,\"#9c179e\"],[0.4444444444444444,\"#bd3786\"],[0.5555555555555556,\"#d8576b\"],[0.6666666666666666,\"#ed7953\"],[0.7777777777777778,\"#fb9f3a\"],[0.8888888888888888,\"#fdca26\"],[1.0,\"#f0f921\"]]}],\"choropleth\":[{\"type\":\"choropleth\",\"colorbar\":{\"outlinewidth\":0,\"ticks\":\"\"}}],\"histogram2d\":[{\"type\":\"histogram2d\",\"colorbar\":{\"outlinewidth\":0,\"ticks\":\"\"},\"colorscale\":[[0.0,\"#0d0887\"],[0.1111111111111111,\"#46039f\"],[0.2222222222222222,\"#7201a8\"],[0.3333333333333333,\"#9c179e\"],[0.4444444444444444,\"#bd3786\"],[0.5555555555555556,\"#d8576b\"],[0.6666666666666666,\"#ed7953\"],[0.7777777777777778,\"#fb9f3a\"],[0.8888888888888888,\"#fdca26\"],[1.0,\"#f0f921\"]]}],\"heatmap\":[{\"type\":\"heatmap\",\"colorbar\":{\"outlinewidth\":0,\"ticks\":\"\"},\"colorscale\":[[0.0,\"#0d0887\"],[0.1111111111111111,\"#46039f\"],[0.2222222222222222,\"#7201a8\"],[0.3333333333333333,\"#9c179e\"],[0.4444444444444444,\"#bd3786\"],[0.5555555555555556,\"#d8576b\"],[0.6666666666666666,\"#ed7953\"],[0.7777777777777778,\"#fb9f3a\"],[0.8888888888888888,\"#fdca26\"],[1.0,\"#f0f921\"]]}],\"heatmapgl\":[{\"type\":\"heatmapgl\",\"colorbar\":{\"outlinewidth\":0,\"ticks\":\"\"},\"colorscale\":[[0.0,\"#0d0887\"],[0.1111111111111111,\"#46039f\"],[0.2222222222222222,\"#7201a8\"],[0.3333333333333333,\"#9c179e\"],[0.4444444444444444,\"#bd3786\"],[0.5555555555555556,\"#d8576b\"],[0.6666666666666666,\"#ed7953\"],[0.7777777777777778,\"#fb9f3a\"],[0.8888888888888888,\"#fdca26\"],[1.0,\"#f0f921\"]]}],\"contourcarpet\":[{\"type\":\"contourcarpet\",\"colorbar\":{\"outlinewidth\":0,\"ticks\":\"\"}}],\"contour\":[{\"type\":\"contour\",\"colorbar\":{\"outlinewidth\":0,\"ticks\":\"\"},\"colorscale\":[[0.0,\"#0d0887\"],[0.1111111111111111,\"#46039f\"],[0.2222222222222222,\"#7201a8\"],[0.3333333333333333,\"#9c179e\"],[0.4444444444444444,\"#bd3786\"],[0.5555555555555556,\"#d8576b\"],[0.6666666666666666,\"#ed7953\"],[0.7777777777777778,\"#fb9f3a\"],[0.8888888888888888,\"#fdca26\"],[1.0,\"#f0f921\"]]}],\"surface\":[{\"type\":\"surface\",\"colorbar\":{\"outlinewidth\":0,\"ticks\":\"\"},\"colorscale\":[[0.0,\"#0d0887\"],[0.1111111111111111,\"#46039f\"],[0.2222222222222222,\"#7201a8\"],[0.3333333333333333,\"#9c179e\"],[0.4444444444444444,\"#bd3786\"],[0.5555555555555556,\"#d8576b\"],[0.6666666666666666,\"#ed7953\"],[0.7777777777777778,\"#fb9f3a\"],[0.8888888888888888,\"#fdca26\"],[1.0,\"#f0f921\"]]}],\"mesh3d\":[{\"type\":\"mesh3d\",\"colorbar\":{\"outlinewidth\":0,\"ticks\":\"\"}}],\"scatter\":[{\"fillpattern\":{\"fillmode\":\"overlay\",\"size\":10,\"solidity\":0.2},\"type\":\"scatter\"}],\"parcoords\":[{\"type\":\"parcoords\",\"line\":{\"colorbar\":{\"outlinewidth\":0,\"ticks\":\"\"}}}],\"scatterpolargl\":[{\"type\":\"scatterpolargl\",\"marker\":{\"colorbar\":{\"outlinewidth\":0,\"ticks\":\"\"}}}],\"bar\":[{\"error_x\":{\"color\":\"#2a3f5f\"},\"error_y\":{\"color\":\"#2a3f5f\"},\"marker\":{\"line\":{\"color\":\"#E5ECF6\",\"width\":0.5},\"pattern\":{\"fillmode\":\"overlay\",\"size\":10,\"solidity\":0.2}},\"type\":\"bar\"}],\"scattergeo\":[{\"type\":\"scattergeo\",\"marker\":{\"colorbar\":{\"outlinewidth\":0,\"ticks\":\"\"}}}],\"scatterpolar\":[{\"type\":\"scatterpolar\",\"marker\":{\"colorbar\":{\"outlinewidth\":0,\"ticks\":\"\"}}}],\"histogram\":[{\"marker\":{\"pattern\":{\"fillmode\":\"overlay\",\"size\":10,\"solidity\":0.2}},\"type\":\"histogram\"}],\"scattergl\":[{\"type\":\"scattergl\",\"marker\":{\"colorbar\":{\"outlinewidth\":0,\"ticks\":\"\"}}}],\"scatter3d\":[{\"type\":\"scatter3d\",\"line\":{\"colorbar\":{\"outlinewidth\":0,\"ticks\":\"\"}},\"marker\":{\"colorbar\":{\"outlinewidth\":0,\"ticks\":\"\"}}}],\"scattermapbox\":[{\"type\":\"scattermapbox\",\"marker\":{\"colorbar\":{\"outlinewidth\":0,\"ticks\":\"\"}}}],\"scatterternary\":[{\"type\":\"scatterternary\",\"marker\":{\"colorbar\":{\"outlinewidth\":0,\"ticks\":\"\"}}}],\"scattercarpet\":[{\"type\":\"scattercarpet\",\"marker\":{\"colorbar\":{\"outlinewidth\":0,\"ticks\":\"\"}}}],\"carpet\":[{\"aaxis\":{\"endlinecolor\":\"#2a3f5f\",\"gridcolor\":\"white\",\"linecolor\":\"white\",\"minorgridcolor\":\"white\",\"startlinecolor\":\"#2a3f5f\"},\"baxis\":{\"endlinecolor\":\"#2a3f5f\",\"gridcolor\":\"white\",\"linecolor\":\"white\",\"minorgridcolor\":\"white\",\"startlinecolor\":\"#2a3f5f\"},\"type\":\"carpet\"}],\"table\":[{\"cells\":{\"fill\":{\"color\":\"#EBF0F8\"},\"line\":{\"color\":\"white\"}},\"header\":{\"fill\":{\"color\":\"#C8D4E3\"},\"line\":{\"color\":\"white\"}},\"type\":\"table\"}],\"barpolar\":[{\"marker\":{\"line\":{\"color\":\"#E5ECF6\",\"width\":0.5},\"pattern\":{\"fillmode\":\"overlay\",\"size\":10,\"solidity\":0.2}},\"type\":\"barpolar\"}],\"pie\":[{\"automargin\":true,\"type\":\"pie\"}]},\"layout\":{\"autotypenumbers\":\"strict\",\"colorway\":[\"#636efa\",\"#EF553B\",\"#00cc96\",\"#ab63fa\",\"#FFA15A\",\"#19d3f3\",\"#FF6692\",\"#B6E880\",\"#FF97FF\",\"#FECB52\"],\"font\":{\"color\":\"#2a3f5f\"},\"hovermode\":\"closest\",\"hoverlabel\":{\"align\":\"left\"},\"paper_bgcolor\":\"white\",\"plot_bgcolor\":\"#E5ECF6\",\"polar\":{\"bgcolor\":\"#E5ECF6\",\"angularaxis\":{\"gridcolor\":\"white\",\"linecolor\":\"white\",\"ticks\":\"\"},\"radialaxis\":{\"gridcolor\":\"white\",\"linecolor\":\"white\",\"ticks\":\"\"}},\"ternary\":{\"bgcolor\":\"#E5ECF6\",\"aaxis\":{\"gridcolor\":\"white\",\"linecolor\":\"white\",\"ticks\":\"\"},\"baxis\":{\"gridcolor\":\"white\",\"linecolor\":\"white\",\"ticks\":\"\"},\"caxis\":{\"gridcolor\":\"white\",\"linecolor\":\"white\",\"ticks\":\"\"}},\"coloraxis\":{\"colorbar\":{\"outlinewidth\":0,\"ticks\":\"\"}},\"colorscale\":{\"sequential\":[[0.0,\"#0d0887\"],[0.1111111111111111,\"#46039f\"],[0.2222222222222222,\"#7201a8\"],[0.3333333333333333,\"#9c179e\"],[0.4444444444444444,\"#bd3786\"],[0.5555555555555556,\"#d8576b\"],[0.6666666666666666,\"#ed7953\"],[0.7777777777777778,\"#fb9f3a\"],[0.8888888888888888,\"#fdca26\"],[1.0,\"#f0f921\"]],\"sequentialminus\":[[0.0,\"#0d0887\"],[0.1111111111111111,\"#46039f\"],[0.2222222222222222,\"#7201a8\"],[0.3333333333333333,\"#9c179e\"],[0.4444444444444444,\"#bd3786\"],[0.5555555555555556,\"#d8576b\"],[0.6666666666666666,\"#ed7953\"],[0.7777777777777778,\"#fb9f3a\"],[0.8888888888888888,\"#fdca26\"],[1.0,\"#f0f921\"]],\"diverging\":[[0,\"#8e0152\"],[0.1,\"#c51b7d\"],[0.2,\"#de77ae\"],[0.3,\"#f1b6da\"],[0.4,\"#fde0ef\"],[0.5,\"#f7f7f7\"],[0.6,\"#e6f5d0\"],[0.7,\"#b8e186\"],[0.8,\"#7fbc41\"],[0.9,\"#4d9221\"],[1,\"#276419\"]]},\"xaxis\":{\"gridcolor\":\"white\",\"linecolor\":\"white\",\"ticks\":\"\",\"title\":{\"standoff\":15},\"zerolinecolor\":\"white\",\"automargin\":true,\"zerolinewidth\":2},\"yaxis\":{\"gridcolor\":\"white\",\"linecolor\":\"white\",\"ticks\":\"\",\"title\":{\"standoff\":15},\"zerolinecolor\":\"white\",\"automargin\":true,\"zerolinewidth\":2},\"scene\":{\"xaxis\":{\"backgroundcolor\":\"#E5ECF6\",\"gridcolor\":\"white\",\"linecolor\":\"white\",\"showbackground\":true,\"ticks\":\"\",\"zerolinecolor\":\"white\",\"gridwidth\":2},\"yaxis\":{\"backgroundcolor\":\"#E5ECF6\",\"gridcolor\":\"white\",\"linecolor\":\"white\",\"showbackground\":true,\"ticks\":\"\",\"zerolinecolor\":\"white\",\"gridwidth\":2},\"zaxis\":{\"backgroundcolor\":\"#E5ECF6\",\"gridcolor\":\"white\",\"linecolor\":\"white\",\"showbackground\":true,\"ticks\":\"\",\"zerolinecolor\":\"white\",\"gridwidth\":2}},\"shapedefaults\":{\"line\":{\"color\":\"#2a3f5f\"}},\"annotationdefaults\":{\"arrowcolor\":\"#2a3f5f\",\"arrowhead\":0,\"arrowwidth\":1},\"geo\":{\"bgcolor\":\"white\",\"landcolor\":\"#E5ECF6\",\"subunitcolor\":\"white\",\"showland\":true,\"showlakes\":true,\"lakecolor\":\"white\"},\"title\":{\"x\":0.05},\"mapbox\":{\"style\":\"light\"}}},\"width\":1200,\"height\":800,\"showlegend\":false},                        {\"responsive\": true}                    ).then(function(){\n",
       "                            \n",
       "var gd = document.getElementById('ff6e64fc-d761-4dfa-9431-7d59b392d8b6');\n",
       "var x = new MutationObserver(function (mutations, observer) {{\n",
       "        var display = window.getComputedStyle(gd).display;\n",
       "        if (!display || display === 'none') {{\n",
       "            console.log([gd, 'removed!']);\n",
       "            Plotly.purge(gd);\n",
       "            observer.disconnect();\n",
       "        }}\n",
       "}});\n",
       "\n",
       "// Listen for the removal of the full notebook cells\n",
       "var notebookContainer = gd.closest('#notebook-container');\n",
       "if (notebookContainer) {{\n",
       "    x.observe(notebookContainer, {childList: true});\n",
       "}}\n",
       "\n",
       "// Listen for the clearing of the current output cell\n",
       "var outputEl = gd.closest('.output');\n",
       "if (outputEl) {{\n",
       "    x.observe(outputEl, {childList: true});\n",
       "}}\n",
       "\n",
       "                        })                };                });            </script>        </div>"
      ]
     },
     "metadata": {},
     "output_type": "display_data"
    },
    {
     "data": {
      "text/html": [
       "        <script type=\"text/javascript\">\n",
       "        window.PlotlyConfig = {MathJaxConfig: 'local'};\n",
       "        if (window.MathJax && window.MathJax.Hub && window.MathJax.Hub.Config) {window.MathJax.Hub.Config({SVG: {font: \"STIX-Web\"}});}\n",
       "        if (typeof require !== 'undefined') {\n",
       "        require.undef(\"plotly\");\n",
       "        requirejs.config({\n",
       "            paths: {\n",
       "                'plotly': ['https://cdn.plot.ly/plotly-2.18.2.min']\n",
       "            }\n",
       "        });\n",
       "        require(['plotly'], function(Plotly) {\n",
       "            window._Plotly = Plotly;\n",
       "        });\n",
       "        }\n",
       "        </script>\n",
       "        "
      ]
     },
     "metadata": {},
     "output_type": "display_data"
    },
    {
     "data": {
      "text/html": [
       "<div>                            <div id=\"75dd2ef9-f44d-415b-9bd8-76467f65faeb\" class=\"plotly-graph-div\" style=\"height:800px; width:1200px;\"></div>            <script type=\"text/javascript\">                require([\"plotly\"], function(Plotly) {                    window.PLOTLYENV=window.PLOTLYENV || {};                                    if (document.getElementById(\"75dd2ef9-f44d-415b-9bd8-76467f65faeb\")) {                    Plotly.newPlot(                        \"75dd2ef9-f44d-415b-9bd8-76467f65faeb\",                        [{\"marker\":{\"color\":\"black\"},\"x\":[-29.880646898378075,-106.0132132],\"y\":[-8.757599103801436,89.40781657],\"type\":\"scatter\"},{\"marker\":{\"color\":\"red\"},\"mode\":\"markers\",\"name\":\"Trees covered by line 0\",\"x\":[-93.90127238,-97.02245733,-102.7610669,-106.9293573,-107.9110969,-110.3984335,-106.0132132,-96.73072895,-96.22606223,-98.31843957,-115.0619992,-108.786355,-114.5846122,-110.2887047,-103.1629812,-105.839508,-107.0136188,-102.8911694,-104.5151239,-105.2474193,-111.0155589,-110.4334077,-109.0691822,-113.8496183,-115.6880358,-116.3580906,-114.450469,-115.5839619,-100.4964897,-113.9290292],\"y\":[85.11919619,88.54954267,77.77472,80.351252,82.70909714,75.82409401,89.40781657,98.53306229,100.1307978,100.5692092,85.04506755,77.02719052,82.96372814,86.10765266,85.29616635,86.49467744,95.28771062,86.20745338,87.68086518,97.1181028,90.92524233,96.00547745,82.99614333,87.2107575,80.37969702,88.860498,91.64478486,78.43012638,96.3416446,85.41514138],\"type\":\"scatter\"},{\"marker\":{\"color\":\"black\"},\"x\":[-15.12792573,-29.880646898378075],\"y\":[-26.16056076,-8.757599103801436],\"type\":\"scatter\"},{\"marker\":{\"color\":\"black\"},\"x\":[5.750624681,-29.880646898378075],\"y\":[-23.50333184,-8.757599103801436],\"type\":\"scatter\"},{\"marker\":{\"color\":\"black\"},\"x\":[-22.92090482,-29.880646898378075],\"y\":[-30.73934474,-8.757599103801436],\"type\":\"scatter\"},{\"marker\":{\"color\":\"black\"},\"x\":[-83.54479257],\"y\":[57.81202571],\"type\":\"scatter\"},{\"marker\":{\"color\":\"black\"},\"x\":[-26.335098015859195,-85.630951],\"y\":[-6.90860167578362,113.1640033],\"type\":\"scatter\"},{\"marker\":{\"color\":\"blue\"},\"mode\":\"markers\",\"name\":\"Trees covered by line 1\",\"x\":[-95.55933733,-89.62130667,-74.66894341,-85.630951,-90.57745961,-95.6665854,-72.28254052,-87.83312994,-64.87632182],\"y\":[104.3161573,107.525112,120.7985667,113.1640033,107.7242429,102.4783549,123.1188927,111.5008781,130.8051815],\"type\":\"scatter\"},{\"marker\":{\"color\":\"black\"},\"x\":[-15.12792573,-26.335098015859195],\"y\":[-26.16056076,-6.90860167578362],\"type\":\"scatter\"},{\"marker\":{\"color\":\"black\"},\"x\":[5.750624681,-26.335098015859195],\"y\":[-23.50333184,-6.90860167578362],\"type\":\"scatter\"},{\"marker\":{\"color\":\"black\"},\"x\":[-32.07481086,-26.335098015859195],\"y\":[-30.17481,-6.90860167578362],\"type\":\"scatter\"},{\"marker\":{\"color\":\"black\"},\"x\":[],\"y\":[],\"type\":\"scatter\"},{\"marker\":{\"color\":\"black\"},\"x\":[-24.572446093973856,-74.37847497],\"y\":[-5.963584108606202,104.4872907],\"type\":\"scatter\"},{\"marker\":{\"color\":\"green\"},\"mode\":\"markers\",\"name\":\"Trees covered by line 2\",\"x\":[-83.48467459,-88.19360784,-77.38716,-74.37847497,-74.12546686,-83.96798843,-83.3753646,-82.7508461,-78.26144619,-72.9690587,-79.21758645,-87.31261084,-78.82330588,-70.18942466,-70.13604975,-69.11292673,-20.01427656,-46.08530939,-39.1687174,-41.69020833,-20.15441667,-30.51452551,-65.84327489,-67.58248429,-65.91586274,-66.154401,-61.06820181,-65.06967068,-64.15900983,-55.91586735,-61.14652818,-60.13371324,-64.44548,-57.75133942,-51.72634937,-54.22529924,-56.03364748,-51.34979148,-57.75406087,-47.45566976,-54.71720264,-48.32035725,-48.23730243,-37.09976663,-37.47195419,-38.754948,-28.88421312,-45.03471145,-52.09936048,-30.53919388,-33.86425279,-42.03635682,-43.77058695,-48.38149441,-33.38285971,-45.35963829,-20.31095449,-30.12933628,-38.2757944,-37.18284862,-26.71358941],\"y\":[95.86970097,98.34736686,105.531576,104.4872907,104.5034411,102.8353679,106.9914629,115.3560539,109.285201,113.7228677,104.8973871,111.5093353,117.612602,120.3503284,119.873547,121.5114816,149.922979,140.8923356,139.7536376,142.3992175,148.7100133,144.0812844,113.24662,122.3045443,122.5960266,118.6669428,129.0447034,116.4094181,119.7839872,136.2810578,132.0985808,135.6421414,123.662627,129.7407148,139.1805794,132.3293989,131.1800298,136.4680276,135.4419983,141.6323199,138.5854925,139.9950704,134.702649,143.2286398,144.5117223,141.452916,149.7437673,135.7886081,129.4302928,148.8980511,147.9375081,145.0488265,142.5344245,130.5650093,144.4892955,129.9263817,155.2269872,150.6443552,147.5998112,141.5735606,150.2932019],\"type\":\"scatter\"},{\"marker\":{\"color\":\"black\"},\"x\":[-15.12792573,-24.572446093973856],\"y\":[-26.16056076,-5.963584108606202],\"type\":\"scatter\"},{\"marker\":{\"color\":\"black\"},\"x\":[5.750624681,-24.572446093973856],\"y\":[-23.50333184,-5.963584108606202],\"type\":\"scatter\"},{\"marker\":{\"color\":\"black\"},\"x\":[-22.92090482,-24.572446093973856],\"y\":[-30.73934474,-5.963584108606202],\"type\":\"scatter\"},{\"marker\":{\"color\":\"black\"},\"x\":[],\"y\":[],\"type\":\"scatter\"}],                        {\"template\":{\"data\":{\"histogram2dcontour\":[{\"type\":\"histogram2dcontour\",\"colorbar\":{\"outlinewidth\":0,\"ticks\":\"\"},\"colorscale\":[[0.0,\"#0d0887\"],[0.1111111111111111,\"#46039f\"],[0.2222222222222222,\"#7201a8\"],[0.3333333333333333,\"#9c179e\"],[0.4444444444444444,\"#bd3786\"],[0.5555555555555556,\"#d8576b\"],[0.6666666666666666,\"#ed7953\"],[0.7777777777777778,\"#fb9f3a\"],[0.8888888888888888,\"#fdca26\"],[1.0,\"#f0f921\"]]}],\"choropleth\":[{\"type\":\"choropleth\",\"colorbar\":{\"outlinewidth\":0,\"ticks\":\"\"}}],\"histogram2d\":[{\"type\":\"histogram2d\",\"colorbar\":{\"outlinewidth\":0,\"ticks\":\"\"},\"colorscale\":[[0.0,\"#0d0887\"],[0.1111111111111111,\"#46039f\"],[0.2222222222222222,\"#7201a8\"],[0.3333333333333333,\"#9c179e\"],[0.4444444444444444,\"#bd3786\"],[0.5555555555555556,\"#d8576b\"],[0.6666666666666666,\"#ed7953\"],[0.7777777777777778,\"#fb9f3a\"],[0.8888888888888888,\"#fdca26\"],[1.0,\"#f0f921\"]]}],\"heatmap\":[{\"type\":\"heatmap\",\"colorbar\":{\"outlinewidth\":0,\"ticks\":\"\"},\"colorscale\":[[0.0,\"#0d0887\"],[0.1111111111111111,\"#46039f\"],[0.2222222222222222,\"#7201a8\"],[0.3333333333333333,\"#9c179e\"],[0.4444444444444444,\"#bd3786\"],[0.5555555555555556,\"#d8576b\"],[0.6666666666666666,\"#ed7953\"],[0.7777777777777778,\"#fb9f3a\"],[0.8888888888888888,\"#fdca26\"],[1.0,\"#f0f921\"]]}],\"heatmapgl\":[{\"type\":\"heatmapgl\",\"colorbar\":{\"outlinewidth\":0,\"ticks\":\"\"},\"colorscale\":[[0.0,\"#0d0887\"],[0.1111111111111111,\"#46039f\"],[0.2222222222222222,\"#7201a8\"],[0.3333333333333333,\"#9c179e\"],[0.4444444444444444,\"#bd3786\"],[0.5555555555555556,\"#d8576b\"],[0.6666666666666666,\"#ed7953\"],[0.7777777777777778,\"#fb9f3a\"],[0.8888888888888888,\"#fdca26\"],[1.0,\"#f0f921\"]]}],\"contourcarpet\":[{\"type\":\"contourcarpet\",\"colorbar\":{\"outlinewidth\":0,\"ticks\":\"\"}}],\"contour\":[{\"type\":\"contour\",\"colorbar\":{\"outlinewidth\":0,\"ticks\":\"\"},\"colorscale\":[[0.0,\"#0d0887\"],[0.1111111111111111,\"#46039f\"],[0.2222222222222222,\"#7201a8\"],[0.3333333333333333,\"#9c179e\"],[0.4444444444444444,\"#bd3786\"],[0.5555555555555556,\"#d8576b\"],[0.6666666666666666,\"#ed7953\"],[0.7777777777777778,\"#fb9f3a\"],[0.8888888888888888,\"#fdca26\"],[1.0,\"#f0f921\"]]}],\"surface\":[{\"type\":\"surface\",\"colorbar\":{\"outlinewidth\":0,\"ticks\":\"\"},\"colorscale\":[[0.0,\"#0d0887\"],[0.1111111111111111,\"#46039f\"],[0.2222222222222222,\"#7201a8\"],[0.3333333333333333,\"#9c179e\"],[0.4444444444444444,\"#bd3786\"],[0.5555555555555556,\"#d8576b\"],[0.6666666666666666,\"#ed7953\"],[0.7777777777777778,\"#fb9f3a\"],[0.8888888888888888,\"#fdca26\"],[1.0,\"#f0f921\"]]}],\"mesh3d\":[{\"type\":\"mesh3d\",\"colorbar\":{\"outlinewidth\":0,\"ticks\":\"\"}}],\"scatter\":[{\"fillpattern\":{\"fillmode\":\"overlay\",\"size\":10,\"solidity\":0.2},\"type\":\"scatter\"}],\"parcoords\":[{\"type\":\"parcoords\",\"line\":{\"colorbar\":{\"outlinewidth\":0,\"ticks\":\"\"}}}],\"scatterpolargl\":[{\"type\":\"scatterpolargl\",\"marker\":{\"colorbar\":{\"outlinewidth\":0,\"ticks\":\"\"}}}],\"bar\":[{\"error_x\":{\"color\":\"#2a3f5f\"},\"error_y\":{\"color\":\"#2a3f5f\"},\"marker\":{\"line\":{\"color\":\"#E5ECF6\",\"width\":0.5},\"pattern\":{\"fillmode\":\"overlay\",\"size\":10,\"solidity\":0.2}},\"type\":\"bar\"}],\"scattergeo\":[{\"type\":\"scattergeo\",\"marker\":{\"colorbar\":{\"outlinewidth\":0,\"ticks\":\"\"}}}],\"scatterpolar\":[{\"type\":\"scatterpolar\",\"marker\":{\"colorbar\":{\"outlinewidth\":0,\"ticks\":\"\"}}}],\"histogram\":[{\"marker\":{\"pattern\":{\"fillmode\":\"overlay\",\"size\":10,\"solidity\":0.2}},\"type\":\"histogram\"}],\"scattergl\":[{\"type\":\"scattergl\",\"marker\":{\"colorbar\":{\"outlinewidth\":0,\"ticks\":\"\"}}}],\"scatter3d\":[{\"type\":\"scatter3d\",\"line\":{\"colorbar\":{\"outlinewidth\":0,\"ticks\":\"\"}},\"marker\":{\"colorbar\":{\"outlinewidth\":0,\"ticks\":\"\"}}}],\"scattermapbox\":[{\"type\":\"scattermapbox\",\"marker\":{\"colorbar\":{\"outlinewidth\":0,\"ticks\":\"\"}}}],\"scatterternary\":[{\"type\":\"scatterternary\",\"marker\":{\"colorbar\":{\"outlinewidth\":0,\"ticks\":\"\"}}}],\"scattercarpet\":[{\"type\":\"scattercarpet\",\"marker\":{\"colorbar\":{\"outlinewidth\":0,\"ticks\":\"\"}}}],\"carpet\":[{\"aaxis\":{\"endlinecolor\":\"#2a3f5f\",\"gridcolor\":\"white\",\"linecolor\":\"white\",\"minorgridcolor\":\"white\",\"startlinecolor\":\"#2a3f5f\"},\"baxis\":{\"endlinecolor\":\"#2a3f5f\",\"gridcolor\":\"white\",\"linecolor\":\"white\",\"minorgridcolor\":\"white\",\"startlinecolor\":\"#2a3f5f\"},\"type\":\"carpet\"}],\"table\":[{\"cells\":{\"fill\":{\"color\":\"#EBF0F8\"},\"line\":{\"color\":\"white\"}},\"header\":{\"fill\":{\"color\":\"#C8D4E3\"},\"line\":{\"color\":\"white\"}},\"type\":\"table\"}],\"barpolar\":[{\"marker\":{\"line\":{\"color\":\"#E5ECF6\",\"width\":0.5},\"pattern\":{\"fillmode\":\"overlay\",\"size\":10,\"solidity\":0.2}},\"type\":\"barpolar\"}],\"pie\":[{\"automargin\":true,\"type\":\"pie\"}]},\"layout\":{\"autotypenumbers\":\"strict\",\"colorway\":[\"#636efa\",\"#EF553B\",\"#00cc96\",\"#ab63fa\",\"#FFA15A\",\"#19d3f3\",\"#FF6692\",\"#B6E880\",\"#FF97FF\",\"#FECB52\"],\"font\":{\"color\":\"#2a3f5f\"},\"hovermode\":\"closest\",\"hoverlabel\":{\"align\":\"left\"},\"paper_bgcolor\":\"white\",\"plot_bgcolor\":\"#E5ECF6\",\"polar\":{\"bgcolor\":\"#E5ECF6\",\"angularaxis\":{\"gridcolor\":\"white\",\"linecolor\":\"white\",\"ticks\":\"\"},\"radialaxis\":{\"gridcolor\":\"white\",\"linecolor\":\"white\",\"ticks\":\"\"}},\"ternary\":{\"bgcolor\":\"#E5ECF6\",\"aaxis\":{\"gridcolor\":\"white\",\"linecolor\":\"white\",\"ticks\":\"\"},\"baxis\":{\"gridcolor\":\"white\",\"linecolor\":\"white\",\"ticks\":\"\"},\"caxis\":{\"gridcolor\":\"white\",\"linecolor\":\"white\",\"ticks\":\"\"}},\"coloraxis\":{\"colorbar\":{\"outlinewidth\":0,\"ticks\":\"\"}},\"colorscale\":{\"sequential\":[[0.0,\"#0d0887\"],[0.1111111111111111,\"#46039f\"],[0.2222222222222222,\"#7201a8\"],[0.3333333333333333,\"#9c179e\"],[0.4444444444444444,\"#bd3786\"],[0.5555555555555556,\"#d8576b\"],[0.6666666666666666,\"#ed7953\"],[0.7777777777777778,\"#fb9f3a\"],[0.8888888888888888,\"#fdca26\"],[1.0,\"#f0f921\"]],\"sequentialminus\":[[0.0,\"#0d0887\"],[0.1111111111111111,\"#46039f\"],[0.2222222222222222,\"#7201a8\"],[0.3333333333333333,\"#9c179e\"],[0.4444444444444444,\"#bd3786\"],[0.5555555555555556,\"#d8576b\"],[0.6666666666666666,\"#ed7953\"],[0.7777777777777778,\"#fb9f3a\"],[0.8888888888888888,\"#fdca26\"],[1.0,\"#f0f921\"]],\"diverging\":[[0,\"#8e0152\"],[0.1,\"#c51b7d\"],[0.2,\"#de77ae\"],[0.3,\"#f1b6da\"],[0.4,\"#fde0ef\"],[0.5,\"#f7f7f7\"],[0.6,\"#e6f5d0\"],[0.7,\"#b8e186\"],[0.8,\"#7fbc41\"],[0.9,\"#4d9221\"],[1,\"#276419\"]]},\"xaxis\":{\"gridcolor\":\"white\",\"linecolor\":\"white\",\"ticks\":\"\",\"title\":{\"standoff\":15},\"zerolinecolor\":\"white\",\"automargin\":true,\"zerolinewidth\":2},\"yaxis\":{\"gridcolor\":\"white\",\"linecolor\":\"white\",\"ticks\":\"\",\"title\":{\"standoff\":15},\"zerolinecolor\":\"white\",\"automargin\":true,\"zerolinewidth\":2},\"scene\":{\"xaxis\":{\"backgroundcolor\":\"#E5ECF6\",\"gridcolor\":\"white\",\"linecolor\":\"white\",\"showbackground\":true,\"ticks\":\"\",\"zerolinecolor\":\"white\",\"gridwidth\":2},\"yaxis\":{\"backgroundcolor\":\"#E5ECF6\",\"gridcolor\":\"white\",\"linecolor\":\"white\",\"showbackground\":true,\"ticks\":\"\",\"zerolinecolor\":\"white\",\"gridwidth\":2},\"zaxis\":{\"backgroundcolor\":\"#E5ECF6\",\"gridcolor\":\"white\",\"linecolor\":\"white\",\"showbackground\":true,\"ticks\":\"\",\"zerolinecolor\":\"white\",\"gridwidth\":2}},\"shapedefaults\":{\"line\":{\"color\":\"#2a3f5f\"}},\"annotationdefaults\":{\"arrowcolor\":\"#2a3f5f\",\"arrowhead\":0,\"arrowwidth\":1},\"geo\":{\"bgcolor\":\"white\",\"landcolor\":\"#E5ECF6\",\"subunitcolor\":\"white\",\"showland\":true,\"showlakes\":true,\"lakecolor\":\"white\"},\"title\":{\"x\":0.05},\"mapbox\":{\"style\":\"light\"}}},\"width\":1200,\"height\":800,\"showlegend\":false},                        {\"responsive\": true}                    ).then(function(){\n",
       "                            \n",
       "var gd = document.getElementById('75dd2ef9-f44d-415b-9bd8-76467f65faeb');\n",
       "var x = new MutationObserver(function (mutations, observer) {{\n",
       "        var display = window.getComputedStyle(gd).display;\n",
       "        if (!display || display === 'none') {{\n",
       "            console.log([gd, 'removed!']);\n",
       "            Plotly.purge(gd);\n",
       "            observer.disconnect();\n",
       "        }}\n",
       "}});\n",
       "\n",
       "// Listen for the removal of the full notebook cells\n",
       "var notebookContainer = gd.closest('#notebook-container');\n",
       "if (notebookContainer) {{\n",
       "    x.observe(notebookContainer, {childList: true});\n",
       "}}\n",
       "\n",
       "// Listen for the clearing of the current output cell\n",
       "var outputEl = gd.closest('.output');\n",
       "if (outputEl) {{\n",
       "    x.observe(outputEl, {childList: true});\n",
       "}}\n",
       "\n",
       "                        })                };                });            </script>        </div>"
      ]
     },
     "metadata": {},
     "output_type": "display_data"
    },
    {
     "data": {
      "text/html": [
       "        <script type=\"text/javascript\">\n",
       "        window.PlotlyConfig = {MathJaxConfig: 'local'};\n",
       "        if (window.MathJax && window.MathJax.Hub && window.MathJax.Hub.Config) {window.MathJax.Hub.Config({SVG: {font: \"STIX-Web\"}});}\n",
       "        if (typeof require !== 'undefined') {\n",
       "        require.undef(\"plotly\");\n",
       "        requirejs.config({\n",
       "            paths: {\n",
       "                'plotly': ['https://cdn.plot.ly/plotly-2.18.2.min']\n",
       "            }\n",
       "        });\n",
       "        require(['plotly'], function(Plotly) {\n",
       "            window._Plotly = Plotly;\n",
       "        });\n",
       "        }\n",
       "        </script>\n",
       "        "
      ]
     },
     "metadata": {},
     "output_type": "display_data"
    },
    {
     "data": {
      "text/html": [
       "<div>                            <div id=\"8b81fe9b-133f-49e7-b642-5dd679a523dd\" class=\"plotly-graph-div\" style=\"height:800px; width:1200px;\"></div>            <script type=\"text/javascript\">                require([\"plotly\"], function(Plotly) {                    window.PLOTLYENV=window.PLOTLYENV || {};                                    if (document.getElementById(\"8b81fe9b-133f-49e7-b642-5dd679a523dd\")) {                    Plotly.newPlot(                        \"8b81fe9b-133f-49e7-b642-5dd679a523dd\",                        [{\"marker\":{\"color\":\"black\"},\"x\":[-28.09774993774453,-96.73072895],\"y\":[-7.853619242961038,98.53306229],\"type\":\"scatter\"},{\"marker\":{\"color\":\"red\"},\"mode\":\"markers\",\"name\":\"Trees covered by line 0\",\"x\":[-88.19360784,-93.90127238,-97.02245733,-102.7610669,-106.9293573,-107.9110969,-110.3984335,-106.0132132,-96.73072895,-96.22606223,-98.31843957,-115.0619992,-108.786355,-114.5846122,-110.2887047,-103.1629812,-95.55933733,-105.839508,-107.0136188,-89.62130667,-102.8911694,-104.5151239,-90.57745961,-95.6665854,-105.2474193,-111.0155589,-110.4334077,-109.0691822,-113.8496183,-115.6880358,-116.3580906,-114.450469,-115.5839619,-100.4964897,-113.9290292],\"y\":[98.34736686,85.11919619,88.54954267,77.77472,80.351252,82.70909714,75.82409401,89.40781657,98.53306229,100.1307978,100.5692092,85.04506755,77.02719052,82.96372814,86.10765266,85.29616635,104.3161573,86.49467744,95.28771062,107.525112,86.20745338,87.68086518,107.7242429,102.4783549,97.1181028,90.92524233,96.00547745,82.99614333,87.2107575,80.37969702,88.860498,91.64478486,78.43012638,96.3416446,85.41514138],\"type\":\"scatter\"},{\"marker\":{\"color\":\"black\"},\"x\":[-15.12792573,-28.09774993774453],\"y\":[-26.16056076,-7.853619242961038],\"type\":\"scatter\"},{\"marker\":{\"color\":\"black\"},\"x\":[5.750624681,-28.09774993774453],\"y\":[-23.50333184,-7.853619242961038],\"type\":\"scatter\"},{\"marker\":{\"color\":\"black\"},\"x\":[-22.92090482,-28.09774993774453],\"y\":[-30.73934474,-7.853619242961038],\"type\":\"scatter\"},{\"marker\":{\"color\":\"black\"},\"x\":[],\"y\":[],\"type\":\"scatter\"},{\"marker\":{\"color\":\"black\"},\"x\":[-24.572446093973856,-74.37847497],\"y\":[-5.963584108606202,104.4872907],\"type\":\"scatter\"},{\"marker\":{\"color\":\"blue\"},\"mode\":\"markers\",\"name\":\"Trees covered by line 1\",\"x\":[-83.48467459,-77.38716,-74.37847497,-74.12546686,-83.96798843,-83.3753646,-82.7508461,-78.26144619,-74.66894341,-85.630951,-72.9690587,-79.21758645,-87.31261084,-78.82330588,-70.18942466,-70.13604975,-69.11292673,-72.28254052,-20.01427656,-46.08530939,-39.1687174,-41.69020833,-20.15441667,-30.51452551,-65.84327489,-87.83312994,-67.58248429,-65.91586274,-66.154401,-61.06820181,-65.06967068,-64.15900983,-55.91586735,-61.14652818,-60.13371324,-64.44548,-64.87632182,-57.75133942,-51.72634937,-54.22529924,-56.03364748,-51.34979148,-57.75406087,-47.45566976,-54.71720264,-48.32035725,-48.23730243,-37.09976663,-37.47195419,-38.754948,-28.88421312,-45.03471145,-52.09936048,-30.53919388,-33.86425279,-42.03635682,-43.77058695,-48.38149441,-33.38285971,-45.35963829,-20.31095449,-30.12933628,-38.2757944,-37.18284862,-26.71358941],\"y\":[95.86970097,105.531576,104.4872907,104.5034411,102.8353679,106.9914629,115.3560539,109.285201,120.7985667,113.1640033,113.7228677,104.8973871,111.5093353,117.612602,120.3503284,119.873547,121.5114816,123.1188927,149.922979,140.8923356,139.7536376,142.3992175,148.7100133,144.0812844,113.24662,111.5008781,122.3045443,122.5960266,118.6669428,129.0447034,116.4094181,119.7839872,136.2810578,132.0985808,135.6421414,123.662627,130.8051815,129.7407148,139.1805794,132.3293989,131.1800298,136.4680276,135.4419983,141.6323199,138.5854925,139.9950704,134.702649,143.2286398,144.5117223,141.452916,149.7437673,135.7886081,129.4302928,148.8980511,147.9375081,145.0488265,142.5344245,130.5650093,144.4892955,129.9263817,155.2269872,150.6443552,147.5998112,141.5735606,150.2932019],\"type\":\"scatter\"},{\"marker\":{\"color\":\"black\"},\"x\":[-15.12792573,-24.572446093973856],\"y\":[-26.16056076,-5.963584108606202],\"type\":\"scatter\"},{\"marker\":{\"color\":\"black\"},\"x\":[5.750624681,-24.572446093973856],\"y\":[-23.50333184,-5.963584108606202],\"type\":\"scatter\"},{\"marker\":{\"color\":\"black\"},\"x\":[-22.92090482,-24.572446093973856],\"y\":[-30.73934474,-5.963584108606202],\"type\":\"scatter\"},{\"marker\":{\"color\":\"black\"},\"x\":[],\"y\":[],\"type\":\"scatter\"}],                        {\"template\":{\"data\":{\"histogram2dcontour\":[{\"type\":\"histogram2dcontour\",\"colorbar\":{\"outlinewidth\":0,\"ticks\":\"\"},\"colorscale\":[[0.0,\"#0d0887\"],[0.1111111111111111,\"#46039f\"],[0.2222222222222222,\"#7201a8\"],[0.3333333333333333,\"#9c179e\"],[0.4444444444444444,\"#bd3786\"],[0.5555555555555556,\"#d8576b\"],[0.6666666666666666,\"#ed7953\"],[0.7777777777777778,\"#fb9f3a\"],[0.8888888888888888,\"#fdca26\"],[1.0,\"#f0f921\"]]}],\"choropleth\":[{\"type\":\"choropleth\",\"colorbar\":{\"outlinewidth\":0,\"ticks\":\"\"}}],\"histogram2d\":[{\"type\":\"histogram2d\",\"colorbar\":{\"outlinewidth\":0,\"ticks\":\"\"},\"colorscale\":[[0.0,\"#0d0887\"],[0.1111111111111111,\"#46039f\"],[0.2222222222222222,\"#7201a8\"],[0.3333333333333333,\"#9c179e\"],[0.4444444444444444,\"#bd3786\"],[0.5555555555555556,\"#d8576b\"],[0.6666666666666666,\"#ed7953\"],[0.7777777777777778,\"#fb9f3a\"],[0.8888888888888888,\"#fdca26\"],[1.0,\"#f0f921\"]]}],\"heatmap\":[{\"type\":\"heatmap\",\"colorbar\":{\"outlinewidth\":0,\"ticks\":\"\"},\"colorscale\":[[0.0,\"#0d0887\"],[0.1111111111111111,\"#46039f\"],[0.2222222222222222,\"#7201a8\"],[0.3333333333333333,\"#9c179e\"],[0.4444444444444444,\"#bd3786\"],[0.5555555555555556,\"#d8576b\"],[0.6666666666666666,\"#ed7953\"],[0.7777777777777778,\"#fb9f3a\"],[0.8888888888888888,\"#fdca26\"],[1.0,\"#f0f921\"]]}],\"heatmapgl\":[{\"type\":\"heatmapgl\",\"colorbar\":{\"outlinewidth\":0,\"ticks\":\"\"},\"colorscale\":[[0.0,\"#0d0887\"],[0.1111111111111111,\"#46039f\"],[0.2222222222222222,\"#7201a8\"],[0.3333333333333333,\"#9c179e\"],[0.4444444444444444,\"#bd3786\"],[0.5555555555555556,\"#d8576b\"],[0.6666666666666666,\"#ed7953\"],[0.7777777777777778,\"#fb9f3a\"],[0.8888888888888888,\"#fdca26\"],[1.0,\"#f0f921\"]]}],\"contourcarpet\":[{\"type\":\"contourcarpet\",\"colorbar\":{\"outlinewidth\":0,\"ticks\":\"\"}}],\"contour\":[{\"type\":\"contour\",\"colorbar\":{\"outlinewidth\":0,\"ticks\":\"\"},\"colorscale\":[[0.0,\"#0d0887\"],[0.1111111111111111,\"#46039f\"],[0.2222222222222222,\"#7201a8\"],[0.3333333333333333,\"#9c179e\"],[0.4444444444444444,\"#bd3786\"],[0.5555555555555556,\"#d8576b\"],[0.6666666666666666,\"#ed7953\"],[0.7777777777777778,\"#fb9f3a\"],[0.8888888888888888,\"#fdca26\"],[1.0,\"#f0f921\"]]}],\"surface\":[{\"type\":\"surface\",\"colorbar\":{\"outlinewidth\":0,\"ticks\":\"\"},\"colorscale\":[[0.0,\"#0d0887\"],[0.1111111111111111,\"#46039f\"],[0.2222222222222222,\"#7201a8\"],[0.3333333333333333,\"#9c179e\"],[0.4444444444444444,\"#bd3786\"],[0.5555555555555556,\"#d8576b\"],[0.6666666666666666,\"#ed7953\"],[0.7777777777777778,\"#fb9f3a\"],[0.8888888888888888,\"#fdca26\"],[1.0,\"#f0f921\"]]}],\"mesh3d\":[{\"type\":\"mesh3d\",\"colorbar\":{\"outlinewidth\":0,\"ticks\":\"\"}}],\"scatter\":[{\"fillpattern\":{\"fillmode\":\"overlay\",\"size\":10,\"solidity\":0.2},\"type\":\"scatter\"}],\"parcoords\":[{\"type\":\"parcoords\",\"line\":{\"colorbar\":{\"outlinewidth\":0,\"ticks\":\"\"}}}],\"scatterpolargl\":[{\"type\":\"scatterpolargl\",\"marker\":{\"colorbar\":{\"outlinewidth\":0,\"ticks\":\"\"}}}],\"bar\":[{\"error_x\":{\"color\":\"#2a3f5f\"},\"error_y\":{\"color\":\"#2a3f5f\"},\"marker\":{\"line\":{\"color\":\"#E5ECF6\",\"width\":0.5},\"pattern\":{\"fillmode\":\"overlay\",\"size\":10,\"solidity\":0.2}},\"type\":\"bar\"}],\"scattergeo\":[{\"type\":\"scattergeo\",\"marker\":{\"colorbar\":{\"outlinewidth\":0,\"ticks\":\"\"}}}],\"scatterpolar\":[{\"type\":\"scatterpolar\",\"marker\":{\"colorbar\":{\"outlinewidth\":0,\"ticks\":\"\"}}}],\"histogram\":[{\"marker\":{\"pattern\":{\"fillmode\":\"overlay\",\"size\":10,\"solidity\":0.2}},\"type\":\"histogram\"}],\"scattergl\":[{\"type\":\"scattergl\",\"marker\":{\"colorbar\":{\"outlinewidth\":0,\"ticks\":\"\"}}}],\"scatter3d\":[{\"type\":\"scatter3d\",\"line\":{\"colorbar\":{\"outlinewidth\":0,\"ticks\":\"\"}},\"marker\":{\"colorbar\":{\"outlinewidth\":0,\"ticks\":\"\"}}}],\"scattermapbox\":[{\"type\":\"scattermapbox\",\"marker\":{\"colorbar\":{\"outlinewidth\":0,\"ticks\":\"\"}}}],\"scatterternary\":[{\"type\":\"scatterternary\",\"marker\":{\"colorbar\":{\"outlinewidth\":0,\"ticks\":\"\"}}}],\"scattercarpet\":[{\"type\":\"scattercarpet\",\"marker\":{\"colorbar\":{\"outlinewidth\":0,\"ticks\":\"\"}}}],\"carpet\":[{\"aaxis\":{\"endlinecolor\":\"#2a3f5f\",\"gridcolor\":\"white\",\"linecolor\":\"white\",\"minorgridcolor\":\"white\",\"startlinecolor\":\"#2a3f5f\"},\"baxis\":{\"endlinecolor\":\"#2a3f5f\",\"gridcolor\":\"white\",\"linecolor\":\"white\",\"minorgridcolor\":\"white\",\"startlinecolor\":\"#2a3f5f\"},\"type\":\"carpet\"}],\"table\":[{\"cells\":{\"fill\":{\"color\":\"#EBF0F8\"},\"line\":{\"color\":\"white\"}},\"header\":{\"fill\":{\"color\":\"#C8D4E3\"},\"line\":{\"color\":\"white\"}},\"type\":\"table\"}],\"barpolar\":[{\"marker\":{\"line\":{\"color\":\"#E5ECF6\",\"width\":0.5},\"pattern\":{\"fillmode\":\"overlay\",\"size\":10,\"solidity\":0.2}},\"type\":\"barpolar\"}],\"pie\":[{\"automargin\":true,\"type\":\"pie\"}]},\"layout\":{\"autotypenumbers\":\"strict\",\"colorway\":[\"#636efa\",\"#EF553B\",\"#00cc96\",\"#ab63fa\",\"#FFA15A\",\"#19d3f3\",\"#FF6692\",\"#B6E880\",\"#FF97FF\",\"#FECB52\"],\"font\":{\"color\":\"#2a3f5f\"},\"hovermode\":\"closest\",\"hoverlabel\":{\"align\":\"left\"},\"paper_bgcolor\":\"white\",\"plot_bgcolor\":\"#E5ECF6\",\"polar\":{\"bgcolor\":\"#E5ECF6\",\"angularaxis\":{\"gridcolor\":\"white\",\"linecolor\":\"white\",\"ticks\":\"\"},\"radialaxis\":{\"gridcolor\":\"white\",\"linecolor\":\"white\",\"ticks\":\"\"}},\"ternary\":{\"bgcolor\":\"#E5ECF6\",\"aaxis\":{\"gridcolor\":\"white\",\"linecolor\":\"white\",\"ticks\":\"\"},\"baxis\":{\"gridcolor\":\"white\",\"linecolor\":\"white\",\"ticks\":\"\"},\"caxis\":{\"gridcolor\":\"white\",\"linecolor\":\"white\",\"ticks\":\"\"}},\"coloraxis\":{\"colorbar\":{\"outlinewidth\":0,\"ticks\":\"\"}},\"colorscale\":{\"sequential\":[[0.0,\"#0d0887\"],[0.1111111111111111,\"#46039f\"],[0.2222222222222222,\"#7201a8\"],[0.3333333333333333,\"#9c179e\"],[0.4444444444444444,\"#bd3786\"],[0.5555555555555556,\"#d8576b\"],[0.6666666666666666,\"#ed7953\"],[0.7777777777777778,\"#fb9f3a\"],[0.8888888888888888,\"#fdca26\"],[1.0,\"#f0f921\"]],\"sequentialminus\":[[0.0,\"#0d0887\"],[0.1111111111111111,\"#46039f\"],[0.2222222222222222,\"#7201a8\"],[0.3333333333333333,\"#9c179e\"],[0.4444444444444444,\"#bd3786\"],[0.5555555555555556,\"#d8576b\"],[0.6666666666666666,\"#ed7953\"],[0.7777777777777778,\"#fb9f3a\"],[0.8888888888888888,\"#fdca26\"],[1.0,\"#f0f921\"]],\"diverging\":[[0,\"#8e0152\"],[0.1,\"#c51b7d\"],[0.2,\"#de77ae\"],[0.3,\"#f1b6da\"],[0.4,\"#fde0ef\"],[0.5,\"#f7f7f7\"],[0.6,\"#e6f5d0\"],[0.7,\"#b8e186\"],[0.8,\"#7fbc41\"],[0.9,\"#4d9221\"],[1,\"#276419\"]]},\"xaxis\":{\"gridcolor\":\"white\",\"linecolor\":\"white\",\"ticks\":\"\",\"title\":{\"standoff\":15},\"zerolinecolor\":\"white\",\"automargin\":true,\"zerolinewidth\":2},\"yaxis\":{\"gridcolor\":\"white\",\"linecolor\":\"white\",\"ticks\":\"\",\"title\":{\"standoff\":15},\"zerolinecolor\":\"white\",\"automargin\":true,\"zerolinewidth\":2},\"scene\":{\"xaxis\":{\"backgroundcolor\":\"#E5ECF6\",\"gridcolor\":\"white\",\"linecolor\":\"white\",\"showbackground\":true,\"ticks\":\"\",\"zerolinecolor\":\"white\",\"gridwidth\":2},\"yaxis\":{\"backgroundcolor\":\"#E5ECF6\",\"gridcolor\":\"white\",\"linecolor\":\"white\",\"showbackground\":true,\"ticks\":\"\",\"zerolinecolor\":\"white\",\"gridwidth\":2},\"zaxis\":{\"backgroundcolor\":\"#E5ECF6\",\"gridcolor\":\"white\",\"linecolor\":\"white\",\"showbackground\":true,\"ticks\":\"\",\"zerolinecolor\":\"white\",\"gridwidth\":2}},\"shapedefaults\":{\"line\":{\"color\":\"#2a3f5f\"}},\"annotationdefaults\":{\"arrowcolor\":\"#2a3f5f\",\"arrowhead\":0,\"arrowwidth\":1},\"geo\":{\"bgcolor\":\"white\",\"landcolor\":\"#E5ECF6\",\"subunitcolor\":\"white\",\"showland\":true,\"showlakes\":true,\"lakecolor\":\"white\"},\"title\":{\"x\":0.05},\"mapbox\":{\"style\":\"light\"}}},\"width\":1200,\"height\":800,\"showlegend\":false},                        {\"responsive\": true}                    ).then(function(){\n",
       "                            \n",
       "var gd = document.getElementById('8b81fe9b-133f-49e7-b642-5dd679a523dd');\n",
       "var x = new MutationObserver(function (mutations, observer) {{\n",
       "        var display = window.getComputedStyle(gd).display;\n",
       "        if (!display || display === 'none') {{\n",
       "            console.log([gd, 'removed!']);\n",
       "            Plotly.purge(gd);\n",
       "            observer.disconnect();\n",
       "        }}\n",
       "}});\n",
       "\n",
       "// Listen for the removal of the full notebook cells\n",
       "var notebookContainer = gd.closest('#notebook-container');\n",
       "if (notebookContainer) {{\n",
       "    x.observe(notebookContainer, {childList: true});\n",
       "}}\n",
       "\n",
       "// Listen for the clearing of the current output cell\n",
       "var outputEl = gd.closest('.output');\n",
       "if (outputEl) {{\n",
       "    x.observe(outputEl, {childList: true});\n",
       "}}\n",
       "\n",
       "                        })                };                });            </script>        </div>"
      ]
     },
     "metadata": {},
     "output_type": "display_data"
    },
    {
     "data": {
      "text/html": [
       "        <script type=\"text/javascript\">\n",
       "        window.PlotlyConfig = {MathJaxConfig: 'local'};\n",
       "        if (window.MathJax && window.MathJax.Hub && window.MathJax.Hub.Config) {window.MathJax.Hub.Config({SVG: {font: \"STIX-Web\"}});}\n",
       "        if (typeof require !== 'undefined') {\n",
       "        require.undef(\"plotly\");\n",
       "        requirejs.config({\n",
       "            paths: {\n",
       "                'plotly': ['https://cdn.plot.ly/plotly-2.18.2.min']\n",
       "            }\n",
       "        });\n",
       "        require(['plotly'], function(Plotly) {\n",
       "            window._Plotly = Plotly;\n",
       "        });\n",
       "        }\n",
       "        </script>\n",
       "        "
      ]
     },
     "metadata": {},
     "output_type": "display_data"
    },
    {
     "data": {
      "text/html": [
       "<div>                            <div id=\"674a0ead-e5e9-48e9-af3f-4c30ecac9a6d\" class=\"plotly-graph-div\" style=\"height:800px; width:1200px;\"></div>            <script type=\"text/javascript\">                require([\"plotly\"], function(Plotly) {                    window.PLOTLYENV=window.PLOTLYENV || {};                                    if (document.getElementById(\"674a0ead-e5e9-48e9-af3f-4c30ecac9a6d\")) {                    Plotly.newPlot(                        \"674a0ead-e5e9-48e9-af3f-4c30ecac9a6d\",                        [{\"marker\":{\"color\":\"black\"},\"x\":[-29.880646898378075,-106.0132132],\"y\":[-8.757599103801436,89.40781657],\"type\":\"scatter\"},{\"marker\":{\"color\":\"red\"},\"mode\":\"markers\",\"name\":\"Trees covered by line 0\",\"x\":[-93.90127238,-97.02245733,-102.7610669,-106.9293573,-107.9110969,-110.3984335,-106.0132132,-96.73072895,-96.22606223,-98.31843957,-115.0619992,-108.786355,-114.5846122,-110.2887047,-103.1629812,-105.839508,-107.0136188,-102.8911694,-104.5151239,-105.2474193,-111.0155589,-110.4334077,-109.0691822,-113.8496183,-115.6880358,-116.3580906,-114.450469,-115.5839619,-100.4964897,-113.9290292],\"y\":[85.11919619,88.54954267,77.77472,80.351252,82.70909714,75.82409401,89.40781657,98.53306229,100.1307978,100.5692092,85.04506755,77.02719052,82.96372814,86.10765266,85.29616635,86.49467744,95.28771062,86.20745338,87.68086518,97.1181028,90.92524233,96.00547745,82.99614333,87.2107575,80.37969702,88.860498,91.64478486,78.43012638,96.3416446,85.41514138],\"type\":\"scatter\"},{\"marker\":{\"color\":\"black\"},\"x\":[-15.12792573,-29.880646898378075],\"y\":[-26.16056076,-8.757599103801436],\"type\":\"scatter\"},{\"marker\":{\"color\":\"black\"},\"x\":[5.750624681,-29.880646898378075],\"y\":[-23.50333184,-8.757599103801436],\"type\":\"scatter\"},{\"marker\":{\"color\":\"black\"},\"x\":[-22.92090482,-29.880646898378075],\"y\":[-30.73934474,-8.757599103801436],\"type\":\"scatter\"},{\"marker\":{\"color\":\"black\"},\"x\":[-83.54479257],\"y\":[57.81202571],\"type\":\"scatter\"},{\"marker\":{\"color\":\"black\"},\"x\":[-26.335098015859195,-85.630951],\"y\":[-6.90860167578362,113.1640033],\"type\":\"scatter\"},{\"marker\":{\"color\":\"blue\"},\"mode\":\"markers\",\"name\":\"Trees covered by line 1\",\"x\":[-95.55933733,-89.62130667,-74.66894341,-85.630951,-90.57745961,-95.6665854,-72.28254052,-87.83312994,-64.87632182],\"y\":[104.3161573,107.525112,120.7985667,113.1640033,107.7242429,102.4783549,123.1188927,111.5008781,130.8051815],\"type\":\"scatter\"},{\"marker\":{\"color\":\"black\"},\"x\":[-15.12792573,-26.335098015859195],\"y\":[-26.16056076,-6.90860167578362],\"type\":\"scatter\"},{\"marker\":{\"color\":\"black\"},\"x\":[5.750624681,-26.335098015859195],\"y\":[-23.50333184,-6.90860167578362],\"type\":\"scatter\"},{\"marker\":{\"color\":\"black\"},\"x\":[-32.07481086,-26.335098015859195],\"y\":[-30.17481,-6.90860167578362],\"type\":\"scatter\"},{\"marker\":{\"color\":\"black\"},\"x\":[],\"y\":[],\"type\":\"scatter\"},{\"marker\":{\"color\":\"black\"},\"x\":[-24.572446093973856,-74.37847497],\"y\":[-5.963584108606202,104.4872907],\"type\":\"scatter\"},{\"marker\":{\"color\":\"green\"},\"mode\":\"markers\",\"name\":\"Trees covered by line 2\",\"x\":[-83.48467459,-88.19360784,-77.38716,-74.37847497,-74.12546686,-83.96798843,-83.3753646,-82.7508461,-78.26144619,-72.9690587,-79.21758645,-87.31261084,-78.82330588,-70.18942466,-70.13604975,-69.11292673,-20.01427656,-46.08530939,-39.1687174,-41.69020833,-20.15441667,-30.51452551,-65.84327489,-67.58248429,-65.91586274,-66.154401,-61.06820181,-65.06967068,-64.15900983,-55.91586735,-61.14652818,-60.13371324,-64.44548,-57.75133942,-51.72634937,-54.22529924,-56.03364748,-51.34979148,-57.75406087,-47.45566976,-54.71720264,-48.32035725,-48.23730243,-37.09976663,-37.47195419,-38.754948,-28.88421312,-45.03471145,-52.09936048,-30.53919388,-33.86425279,-42.03635682,-43.77058695,-48.38149441,-33.38285971,-45.35963829,-20.31095449,-30.12933628,-38.2757944,-37.18284862,-26.71358941],\"y\":[95.86970097,98.34736686,105.531576,104.4872907,104.5034411,102.8353679,106.9914629,115.3560539,109.285201,113.7228677,104.8973871,111.5093353,117.612602,120.3503284,119.873547,121.5114816,149.922979,140.8923356,139.7536376,142.3992175,148.7100133,144.0812844,113.24662,122.3045443,122.5960266,118.6669428,129.0447034,116.4094181,119.7839872,136.2810578,132.0985808,135.6421414,123.662627,129.7407148,139.1805794,132.3293989,131.1800298,136.4680276,135.4419983,141.6323199,138.5854925,139.9950704,134.702649,143.2286398,144.5117223,141.452916,149.7437673,135.7886081,129.4302928,148.8980511,147.9375081,145.0488265,142.5344245,130.5650093,144.4892955,129.9263817,155.2269872,150.6443552,147.5998112,141.5735606,150.2932019],\"type\":\"scatter\"},{\"marker\":{\"color\":\"black\"},\"x\":[-15.12792573,-24.572446093973856],\"y\":[-26.16056076,-5.963584108606202],\"type\":\"scatter\"},{\"marker\":{\"color\":\"black\"},\"x\":[5.750624681,-24.572446093973856],\"y\":[-23.50333184,-5.963584108606202],\"type\":\"scatter\"},{\"marker\":{\"color\":\"black\"},\"x\":[-22.92090482,-24.572446093973856],\"y\":[-30.73934474,-5.963584108606202],\"type\":\"scatter\"},{\"marker\":{\"color\":\"black\"},\"x\":[],\"y\":[],\"type\":\"scatter\"}],                        {\"template\":{\"data\":{\"histogram2dcontour\":[{\"type\":\"histogram2dcontour\",\"colorbar\":{\"outlinewidth\":0,\"ticks\":\"\"},\"colorscale\":[[0.0,\"#0d0887\"],[0.1111111111111111,\"#46039f\"],[0.2222222222222222,\"#7201a8\"],[0.3333333333333333,\"#9c179e\"],[0.4444444444444444,\"#bd3786\"],[0.5555555555555556,\"#d8576b\"],[0.6666666666666666,\"#ed7953\"],[0.7777777777777778,\"#fb9f3a\"],[0.8888888888888888,\"#fdca26\"],[1.0,\"#f0f921\"]]}],\"choropleth\":[{\"type\":\"choropleth\",\"colorbar\":{\"outlinewidth\":0,\"ticks\":\"\"}}],\"histogram2d\":[{\"type\":\"histogram2d\",\"colorbar\":{\"outlinewidth\":0,\"ticks\":\"\"},\"colorscale\":[[0.0,\"#0d0887\"],[0.1111111111111111,\"#46039f\"],[0.2222222222222222,\"#7201a8\"],[0.3333333333333333,\"#9c179e\"],[0.4444444444444444,\"#bd3786\"],[0.5555555555555556,\"#d8576b\"],[0.6666666666666666,\"#ed7953\"],[0.7777777777777778,\"#fb9f3a\"],[0.8888888888888888,\"#fdca26\"],[1.0,\"#f0f921\"]]}],\"heatmap\":[{\"type\":\"heatmap\",\"colorbar\":{\"outlinewidth\":0,\"ticks\":\"\"},\"colorscale\":[[0.0,\"#0d0887\"],[0.1111111111111111,\"#46039f\"],[0.2222222222222222,\"#7201a8\"],[0.3333333333333333,\"#9c179e\"],[0.4444444444444444,\"#bd3786\"],[0.5555555555555556,\"#d8576b\"],[0.6666666666666666,\"#ed7953\"],[0.7777777777777778,\"#fb9f3a\"],[0.8888888888888888,\"#fdca26\"],[1.0,\"#f0f921\"]]}],\"heatmapgl\":[{\"type\":\"heatmapgl\",\"colorbar\":{\"outlinewidth\":0,\"ticks\":\"\"},\"colorscale\":[[0.0,\"#0d0887\"],[0.1111111111111111,\"#46039f\"],[0.2222222222222222,\"#7201a8\"],[0.3333333333333333,\"#9c179e\"],[0.4444444444444444,\"#bd3786\"],[0.5555555555555556,\"#d8576b\"],[0.6666666666666666,\"#ed7953\"],[0.7777777777777778,\"#fb9f3a\"],[0.8888888888888888,\"#fdca26\"],[1.0,\"#f0f921\"]]}],\"contourcarpet\":[{\"type\":\"contourcarpet\",\"colorbar\":{\"outlinewidth\":0,\"ticks\":\"\"}}],\"contour\":[{\"type\":\"contour\",\"colorbar\":{\"outlinewidth\":0,\"ticks\":\"\"},\"colorscale\":[[0.0,\"#0d0887\"],[0.1111111111111111,\"#46039f\"],[0.2222222222222222,\"#7201a8\"],[0.3333333333333333,\"#9c179e\"],[0.4444444444444444,\"#bd3786\"],[0.5555555555555556,\"#d8576b\"],[0.6666666666666666,\"#ed7953\"],[0.7777777777777778,\"#fb9f3a\"],[0.8888888888888888,\"#fdca26\"],[1.0,\"#f0f921\"]]}],\"surface\":[{\"type\":\"surface\",\"colorbar\":{\"outlinewidth\":0,\"ticks\":\"\"},\"colorscale\":[[0.0,\"#0d0887\"],[0.1111111111111111,\"#46039f\"],[0.2222222222222222,\"#7201a8\"],[0.3333333333333333,\"#9c179e\"],[0.4444444444444444,\"#bd3786\"],[0.5555555555555556,\"#d8576b\"],[0.6666666666666666,\"#ed7953\"],[0.7777777777777778,\"#fb9f3a\"],[0.8888888888888888,\"#fdca26\"],[1.0,\"#f0f921\"]]}],\"mesh3d\":[{\"type\":\"mesh3d\",\"colorbar\":{\"outlinewidth\":0,\"ticks\":\"\"}}],\"scatter\":[{\"fillpattern\":{\"fillmode\":\"overlay\",\"size\":10,\"solidity\":0.2},\"type\":\"scatter\"}],\"parcoords\":[{\"type\":\"parcoords\",\"line\":{\"colorbar\":{\"outlinewidth\":0,\"ticks\":\"\"}}}],\"scatterpolargl\":[{\"type\":\"scatterpolargl\",\"marker\":{\"colorbar\":{\"outlinewidth\":0,\"ticks\":\"\"}}}],\"bar\":[{\"error_x\":{\"color\":\"#2a3f5f\"},\"error_y\":{\"color\":\"#2a3f5f\"},\"marker\":{\"line\":{\"color\":\"#E5ECF6\",\"width\":0.5},\"pattern\":{\"fillmode\":\"overlay\",\"size\":10,\"solidity\":0.2}},\"type\":\"bar\"}],\"scattergeo\":[{\"type\":\"scattergeo\",\"marker\":{\"colorbar\":{\"outlinewidth\":0,\"ticks\":\"\"}}}],\"scatterpolar\":[{\"type\":\"scatterpolar\",\"marker\":{\"colorbar\":{\"outlinewidth\":0,\"ticks\":\"\"}}}],\"histogram\":[{\"marker\":{\"pattern\":{\"fillmode\":\"overlay\",\"size\":10,\"solidity\":0.2}},\"type\":\"histogram\"}],\"scattergl\":[{\"type\":\"scattergl\",\"marker\":{\"colorbar\":{\"outlinewidth\":0,\"ticks\":\"\"}}}],\"scatter3d\":[{\"type\":\"scatter3d\",\"line\":{\"colorbar\":{\"outlinewidth\":0,\"ticks\":\"\"}},\"marker\":{\"colorbar\":{\"outlinewidth\":0,\"ticks\":\"\"}}}],\"scattermapbox\":[{\"type\":\"scattermapbox\",\"marker\":{\"colorbar\":{\"outlinewidth\":0,\"ticks\":\"\"}}}],\"scatterternary\":[{\"type\":\"scatterternary\",\"marker\":{\"colorbar\":{\"outlinewidth\":0,\"ticks\":\"\"}}}],\"scattercarpet\":[{\"type\":\"scattercarpet\",\"marker\":{\"colorbar\":{\"outlinewidth\":0,\"ticks\":\"\"}}}],\"carpet\":[{\"aaxis\":{\"endlinecolor\":\"#2a3f5f\",\"gridcolor\":\"white\",\"linecolor\":\"white\",\"minorgridcolor\":\"white\",\"startlinecolor\":\"#2a3f5f\"},\"baxis\":{\"endlinecolor\":\"#2a3f5f\",\"gridcolor\":\"white\",\"linecolor\":\"white\",\"minorgridcolor\":\"white\",\"startlinecolor\":\"#2a3f5f\"},\"type\":\"carpet\"}],\"table\":[{\"cells\":{\"fill\":{\"color\":\"#EBF0F8\"},\"line\":{\"color\":\"white\"}},\"header\":{\"fill\":{\"color\":\"#C8D4E3\"},\"line\":{\"color\":\"white\"}},\"type\":\"table\"}],\"barpolar\":[{\"marker\":{\"line\":{\"color\":\"#E5ECF6\",\"width\":0.5},\"pattern\":{\"fillmode\":\"overlay\",\"size\":10,\"solidity\":0.2}},\"type\":\"barpolar\"}],\"pie\":[{\"automargin\":true,\"type\":\"pie\"}]},\"layout\":{\"autotypenumbers\":\"strict\",\"colorway\":[\"#636efa\",\"#EF553B\",\"#00cc96\",\"#ab63fa\",\"#FFA15A\",\"#19d3f3\",\"#FF6692\",\"#B6E880\",\"#FF97FF\",\"#FECB52\"],\"font\":{\"color\":\"#2a3f5f\"},\"hovermode\":\"closest\",\"hoverlabel\":{\"align\":\"left\"},\"paper_bgcolor\":\"white\",\"plot_bgcolor\":\"#E5ECF6\",\"polar\":{\"bgcolor\":\"#E5ECF6\",\"angularaxis\":{\"gridcolor\":\"white\",\"linecolor\":\"white\",\"ticks\":\"\"},\"radialaxis\":{\"gridcolor\":\"white\",\"linecolor\":\"white\",\"ticks\":\"\"}},\"ternary\":{\"bgcolor\":\"#E5ECF6\",\"aaxis\":{\"gridcolor\":\"white\",\"linecolor\":\"white\",\"ticks\":\"\"},\"baxis\":{\"gridcolor\":\"white\",\"linecolor\":\"white\",\"ticks\":\"\"},\"caxis\":{\"gridcolor\":\"white\",\"linecolor\":\"white\",\"ticks\":\"\"}},\"coloraxis\":{\"colorbar\":{\"outlinewidth\":0,\"ticks\":\"\"}},\"colorscale\":{\"sequential\":[[0.0,\"#0d0887\"],[0.1111111111111111,\"#46039f\"],[0.2222222222222222,\"#7201a8\"],[0.3333333333333333,\"#9c179e\"],[0.4444444444444444,\"#bd3786\"],[0.5555555555555556,\"#d8576b\"],[0.6666666666666666,\"#ed7953\"],[0.7777777777777778,\"#fb9f3a\"],[0.8888888888888888,\"#fdca26\"],[1.0,\"#f0f921\"]],\"sequentialminus\":[[0.0,\"#0d0887\"],[0.1111111111111111,\"#46039f\"],[0.2222222222222222,\"#7201a8\"],[0.3333333333333333,\"#9c179e\"],[0.4444444444444444,\"#bd3786\"],[0.5555555555555556,\"#d8576b\"],[0.6666666666666666,\"#ed7953\"],[0.7777777777777778,\"#fb9f3a\"],[0.8888888888888888,\"#fdca26\"],[1.0,\"#f0f921\"]],\"diverging\":[[0,\"#8e0152\"],[0.1,\"#c51b7d\"],[0.2,\"#de77ae\"],[0.3,\"#f1b6da\"],[0.4,\"#fde0ef\"],[0.5,\"#f7f7f7\"],[0.6,\"#e6f5d0\"],[0.7,\"#b8e186\"],[0.8,\"#7fbc41\"],[0.9,\"#4d9221\"],[1,\"#276419\"]]},\"xaxis\":{\"gridcolor\":\"white\",\"linecolor\":\"white\",\"ticks\":\"\",\"title\":{\"standoff\":15},\"zerolinecolor\":\"white\",\"automargin\":true,\"zerolinewidth\":2},\"yaxis\":{\"gridcolor\":\"white\",\"linecolor\":\"white\",\"ticks\":\"\",\"title\":{\"standoff\":15},\"zerolinecolor\":\"white\",\"automargin\":true,\"zerolinewidth\":2},\"scene\":{\"xaxis\":{\"backgroundcolor\":\"#E5ECF6\",\"gridcolor\":\"white\",\"linecolor\":\"white\",\"showbackground\":true,\"ticks\":\"\",\"zerolinecolor\":\"white\",\"gridwidth\":2},\"yaxis\":{\"backgroundcolor\":\"#E5ECF6\",\"gridcolor\":\"white\",\"linecolor\":\"white\",\"showbackground\":true,\"ticks\":\"\",\"zerolinecolor\":\"white\",\"gridwidth\":2},\"zaxis\":{\"backgroundcolor\":\"#E5ECF6\",\"gridcolor\":\"white\",\"linecolor\":\"white\",\"showbackground\":true,\"ticks\":\"\",\"zerolinecolor\":\"white\",\"gridwidth\":2}},\"shapedefaults\":{\"line\":{\"color\":\"#2a3f5f\"}},\"annotationdefaults\":{\"arrowcolor\":\"#2a3f5f\",\"arrowhead\":0,\"arrowwidth\":1},\"geo\":{\"bgcolor\":\"white\",\"landcolor\":\"#E5ECF6\",\"subunitcolor\":\"white\",\"showland\":true,\"showlakes\":true,\"lakecolor\":\"white\"},\"title\":{\"x\":0.05},\"mapbox\":{\"style\":\"light\"}}},\"width\":1200,\"height\":800,\"showlegend\":false},                        {\"responsive\": true}                    ).then(function(){\n",
       "                            \n",
       "var gd = document.getElementById('674a0ead-e5e9-48e9-af3f-4c30ecac9a6d');\n",
       "var x = new MutationObserver(function (mutations, observer) {{\n",
       "        var display = window.getComputedStyle(gd).display;\n",
       "        if (!display || display === 'none') {{\n",
       "            console.log([gd, 'removed!']);\n",
       "            Plotly.purge(gd);\n",
       "            observer.disconnect();\n",
       "        }}\n",
       "}});\n",
       "\n",
       "// Listen for the removal of the full notebook cells\n",
       "var notebookContainer = gd.closest('#notebook-container');\n",
       "if (notebookContainer) {{\n",
       "    x.observe(notebookContainer, {childList: true});\n",
       "}}\n",
       "\n",
       "// Listen for the clearing of the current output cell\n",
       "var outputEl = gd.closest('.output');\n",
       "if (outputEl) {{\n",
       "    x.observe(outputEl, {childList: true});\n",
       "}}\n",
       "\n",
       "                        })                };                });            </script>        </div>"
      ]
     },
     "metadata": {},
     "output_type": "display_data"
    },
    {
     "data": {
      "text/html": [
       "        <script type=\"text/javascript\">\n",
       "        window.PlotlyConfig = {MathJaxConfig: 'local'};\n",
       "        if (window.MathJax && window.MathJax.Hub && window.MathJax.Hub.Config) {window.MathJax.Hub.Config({SVG: {font: \"STIX-Web\"}});}\n",
       "        if (typeof require !== 'undefined') {\n",
       "        require.undef(\"plotly\");\n",
       "        requirejs.config({\n",
       "            paths: {\n",
       "                'plotly': ['https://cdn.plot.ly/plotly-2.18.2.min']\n",
       "            }\n",
       "        });\n",
       "        require(['plotly'], function(Plotly) {\n",
       "            window._Plotly = Plotly;\n",
       "        });\n",
       "        }\n",
       "        </script>\n",
       "        "
      ]
     },
     "metadata": {},
     "output_type": "display_data"
    },
    {
     "data": {
      "text/html": [
       "<div>                            <div id=\"120517df-f78a-4a78-9ecb-1d974bf27a19\" class=\"plotly-graph-div\" style=\"height:800px; width:1200px;\"></div>            <script type=\"text/javascript\">                require([\"plotly\"], function(Plotly) {                    window.PLOTLYENV=window.PLOTLYENV || {};                                    if (document.getElementById(\"120517df-f78a-4a78-9ecb-1d974bf27a19\")) {                    Plotly.newPlot(                        \"120517df-f78a-4a78-9ecb-1d974bf27a19\",                        [{\"marker\":{\"color\":\"black\"},\"x\":[-28.09774993774453,-96.73072895],\"y\":[-7.853619242961038,98.53306229],\"type\":\"scatter\"},{\"marker\":{\"color\":\"red\"},\"mode\":\"markers\",\"name\":\"Trees covered by line 0\",\"x\":[-88.19360784,-93.90127238,-97.02245733,-102.7610669,-106.9293573,-107.9110969,-110.3984335,-106.0132132,-96.73072895,-96.22606223,-98.31843957,-115.0619992,-108.786355,-114.5846122,-110.2887047,-103.1629812,-95.55933733,-105.839508,-107.0136188,-89.62130667,-102.8911694,-104.5151239,-90.57745961,-95.6665854,-105.2474193,-111.0155589,-110.4334077,-109.0691822,-113.8496183,-115.6880358,-116.3580906,-114.450469,-115.5839619,-100.4964897,-113.9290292],\"y\":[98.34736686,85.11919619,88.54954267,77.77472,80.351252,82.70909714,75.82409401,89.40781657,98.53306229,100.1307978,100.5692092,85.04506755,77.02719052,82.96372814,86.10765266,85.29616635,104.3161573,86.49467744,95.28771062,107.525112,86.20745338,87.68086518,107.7242429,102.4783549,97.1181028,90.92524233,96.00547745,82.99614333,87.2107575,80.37969702,88.860498,91.64478486,78.43012638,96.3416446,85.41514138],\"type\":\"scatter\"},{\"marker\":{\"color\":\"black\"},\"x\":[-15.12792573,-28.09774993774453],\"y\":[-26.16056076,-7.853619242961038],\"type\":\"scatter\"},{\"marker\":{\"color\":\"black\"},\"x\":[5.750624681,-28.09774993774453],\"y\":[-23.50333184,-7.853619242961038],\"type\":\"scatter\"},{\"marker\":{\"color\":\"black\"},\"x\":[-22.92090482,-28.09774993774453],\"y\":[-30.73934474,-7.853619242961038],\"type\":\"scatter\"},{\"marker\":{\"color\":\"black\"},\"x\":[],\"y\":[],\"type\":\"scatter\"},{\"marker\":{\"color\":\"black\"},\"x\":[-24.572446093973856,-74.37847497],\"y\":[-5.963584108606202,104.4872907],\"type\":\"scatter\"},{\"marker\":{\"color\":\"blue\"},\"mode\":\"markers\",\"name\":\"Trees covered by line 1\",\"x\":[-83.48467459,-77.38716,-74.37847497,-74.12546686,-83.96798843,-83.3753646,-82.7508461,-78.26144619,-74.66894341,-85.630951,-72.9690587,-79.21758645,-87.31261084,-78.82330588,-70.18942466,-70.13604975,-69.11292673,-72.28254052,-20.01427656,-46.08530939,-39.1687174,-41.69020833,-20.15441667,-30.51452551,-65.84327489,-87.83312994,-67.58248429,-65.91586274,-66.154401,-61.06820181,-65.06967068,-64.15900983,-55.91586735,-61.14652818,-60.13371324,-64.44548,-64.87632182,-57.75133942,-51.72634937,-54.22529924,-56.03364748,-51.34979148,-57.75406087,-47.45566976,-54.71720264,-48.32035725,-48.23730243,-37.09976663,-37.47195419,-38.754948,-28.88421312,-45.03471145,-52.09936048,-30.53919388,-33.86425279,-42.03635682,-43.77058695,-48.38149441,-33.38285971,-45.35963829,-20.31095449,-30.12933628,-38.2757944,-37.18284862,-26.71358941],\"y\":[95.86970097,105.531576,104.4872907,104.5034411,102.8353679,106.9914629,115.3560539,109.285201,120.7985667,113.1640033,113.7228677,104.8973871,111.5093353,117.612602,120.3503284,119.873547,121.5114816,123.1188927,149.922979,140.8923356,139.7536376,142.3992175,148.7100133,144.0812844,113.24662,111.5008781,122.3045443,122.5960266,118.6669428,129.0447034,116.4094181,119.7839872,136.2810578,132.0985808,135.6421414,123.662627,130.8051815,129.7407148,139.1805794,132.3293989,131.1800298,136.4680276,135.4419983,141.6323199,138.5854925,139.9950704,134.702649,143.2286398,144.5117223,141.452916,149.7437673,135.7886081,129.4302928,148.8980511,147.9375081,145.0488265,142.5344245,130.5650093,144.4892955,129.9263817,155.2269872,150.6443552,147.5998112,141.5735606,150.2932019],\"type\":\"scatter\"},{\"marker\":{\"color\":\"black\"},\"x\":[-15.12792573,-24.572446093973856],\"y\":[-26.16056076,-5.963584108606202],\"type\":\"scatter\"},{\"marker\":{\"color\":\"black\"},\"x\":[5.750624681,-24.572446093973856],\"y\":[-23.50333184,-5.963584108606202],\"type\":\"scatter\"},{\"marker\":{\"color\":\"black\"},\"x\":[-22.92090482,-24.572446093973856],\"y\":[-30.73934474,-5.963584108606202],\"type\":\"scatter\"},{\"marker\":{\"color\":\"black\"},\"x\":[],\"y\":[],\"type\":\"scatter\"}],                        {\"template\":{\"data\":{\"histogram2dcontour\":[{\"type\":\"histogram2dcontour\",\"colorbar\":{\"outlinewidth\":0,\"ticks\":\"\"},\"colorscale\":[[0.0,\"#0d0887\"],[0.1111111111111111,\"#46039f\"],[0.2222222222222222,\"#7201a8\"],[0.3333333333333333,\"#9c179e\"],[0.4444444444444444,\"#bd3786\"],[0.5555555555555556,\"#d8576b\"],[0.6666666666666666,\"#ed7953\"],[0.7777777777777778,\"#fb9f3a\"],[0.8888888888888888,\"#fdca26\"],[1.0,\"#f0f921\"]]}],\"choropleth\":[{\"type\":\"choropleth\",\"colorbar\":{\"outlinewidth\":0,\"ticks\":\"\"}}],\"histogram2d\":[{\"type\":\"histogram2d\",\"colorbar\":{\"outlinewidth\":0,\"ticks\":\"\"},\"colorscale\":[[0.0,\"#0d0887\"],[0.1111111111111111,\"#46039f\"],[0.2222222222222222,\"#7201a8\"],[0.3333333333333333,\"#9c179e\"],[0.4444444444444444,\"#bd3786\"],[0.5555555555555556,\"#d8576b\"],[0.6666666666666666,\"#ed7953\"],[0.7777777777777778,\"#fb9f3a\"],[0.8888888888888888,\"#fdca26\"],[1.0,\"#f0f921\"]]}],\"heatmap\":[{\"type\":\"heatmap\",\"colorbar\":{\"outlinewidth\":0,\"ticks\":\"\"},\"colorscale\":[[0.0,\"#0d0887\"],[0.1111111111111111,\"#46039f\"],[0.2222222222222222,\"#7201a8\"],[0.3333333333333333,\"#9c179e\"],[0.4444444444444444,\"#bd3786\"],[0.5555555555555556,\"#d8576b\"],[0.6666666666666666,\"#ed7953\"],[0.7777777777777778,\"#fb9f3a\"],[0.8888888888888888,\"#fdca26\"],[1.0,\"#f0f921\"]]}],\"heatmapgl\":[{\"type\":\"heatmapgl\",\"colorbar\":{\"outlinewidth\":0,\"ticks\":\"\"},\"colorscale\":[[0.0,\"#0d0887\"],[0.1111111111111111,\"#46039f\"],[0.2222222222222222,\"#7201a8\"],[0.3333333333333333,\"#9c179e\"],[0.4444444444444444,\"#bd3786\"],[0.5555555555555556,\"#d8576b\"],[0.6666666666666666,\"#ed7953\"],[0.7777777777777778,\"#fb9f3a\"],[0.8888888888888888,\"#fdca26\"],[1.0,\"#f0f921\"]]}],\"contourcarpet\":[{\"type\":\"contourcarpet\",\"colorbar\":{\"outlinewidth\":0,\"ticks\":\"\"}}],\"contour\":[{\"type\":\"contour\",\"colorbar\":{\"outlinewidth\":0,\"ticks\":\"\"},\"colorscale\":[[0.0,\"#0d0887\"],[0.1111111111111111,\"#46039f\"],[0.2222222222222222,\"#7201a8\"],[0.3333333333333333,\"#9c179e\"],[0.4444444444444444,\"#bd3786\"],[0.5555555555555556,\"#d8576b\"],[0.6666666666666666,\"#ed7953\"],[0.7777777777777778,\"#fb9f3a\"],[0.8888888888888888,\"#fdca26\"],[1.0,\"#f0f921\"]]}],\"surface\":[{\"type\":\"surface\",\"colorbar\":{\"outlinewidth\":0,\"ticks\":\"\"},\"colorscale\":[[0.0,\"#0d0887\"],[0.1111111111111111,\"#46039f\"],[0.2222222222222222,\"#7201a8\"],[0.3333333333333333,\"#9c179e\"],[0.4444444444444444,\"#bd3786\"],[0.5555555555555556,\"#d8576b\"],[0.6666666666666666,\"#ed7953\"],[0.7777777777777778,\"#fb9f3a\"],[0.8888888888888888,\"#fdca26\"],[1.0,\"#f0f921\"]]}],\"mesh3d\":[{\"type\":\"mesh3d\",\"colorbar\":{\"outlinewidth\":0,\"ticks\":\"\"}}],\"scatter\":[{\"fillpattern\":{\"fillmode\":\"overlay\",\"size\":10,\"solidity\":0.2},\"type\":\"scatter\"}],\"parcoords\":[{\"type\":\"parcoords\",\"line\":{\"colorbar\":{\"outlinewidth\":0,\"ticks\":\"\"}}}],\"scatterpolargl\":[{\"type\":\"scatterpolargl\",\"marker\":{\"colorbar\":{\"outlinewidth\":0,\"ticks\":\"\"}}}],\"bar\":[{\"error_x\":{\"color\":\"#2a3f5f\"},\"error_y\":{\"color\":\"#2a3f5f\"},\"marker\":{\"line\":{\"color\":\"#E5ECF6\",\"width\":0.5},\"pattern\":{\"fillmode\":\"overlay\",\"size\":10,\"solidity\":0.2}},\"type\":\"bar\"}],\"scattergeo\":[{\"type\":\"scattergeo\",\"marker\":{\"colorbar\":{\"outlinewidth\":0,\"ticks\":\"\"}}}],\"scatterpolar\":[{\"type\":\"scatterpolar\",\"marker\":{\"colorbar\":{\"outlinewidth\":0,\"ticks\":\"\"}}}],\"histogram\":[{\"marker\":{\"pattern\":{\"fillmode\":\"overlay\",\"size\":10,\"solidity\":0.2}},\"type\":\"histogram\"}],\"scattergl\":[{\"type\":\"scattergl\",\"marker\":{\"colorbar\":{\"outlinewidth\":0,\"ticks\":\"\"}}}],\"scatter3d\":[{\"type\":\"scatter3d\",\"line\":{\"colorbar\":{\"outlinewidth\":0,\"ticks\":\"\"}},\"marker\":{\"colorbar\":{\"outlinewidth\":0,\"ticks\":\"\"}}}],\"scattermapbox\":[{\"type\":\"scattermapbox\",\"marker\":{\"colorbar\":{\"outlinewidth\":0,\"ticks\":\"\"}}}],\"scatterternary\":[{\"type\":\"scatterternary\",\"marker\":{\"colorbar\":{\"outlinewidth\":0,\"ticks\":\"\"}}}],\"scattercarpet\":[{\"type\":\"scattercarpet\",\"marker\":{\"colorbar\":{\"outlinewidth\":0,\"ticks\":\"\"}}}],\"carpet\":[{\"aaxis\":{\"endlinecolor\":\"#2a3f5f\",\"gridcolor\":\"white\",\"linecolor\":\"white\",\"minorgridcolor\":\"white\",\"startlinecolor\":\"#2a3f5f\"},\"baxis\":{\"endlinecolor\":\"#2a3f5f\",\"gridcolor\":\"white\",\"linecolor\":\"white\",\"minorgridcolor\":\"white\",\"startlinecolor\":\"#2a3f5f\"},\"type\":\"carpet\"}],\"table\":[{\"cells\":{\"fill\":{\"color\":\"#EBF0F8\"},\"line\":{\"color\":\"white\"}},\"header\":{\"fill\":{\"color\":\"#C8D4E3\"},\"line\":{\"color\":\"white\"}},\"type\":\"table\"}],\"barpolar\":[{\"marker\":{\"line\":{\"color\":\"#E5ECF6\",\"width\":0.5},\"pattern\":{\"fillmode\":\"overlay\",\"size\":10,\"solidity\":0.2}},\"type\":\"barpolar\"}],\"pie\":[{\"automargin\":true,\"type\":\"pie\"}]},\"layout\":{\"autotypenumbers\":\"strict\",\"colorway\":[\"#636efa\",\"#EF553B\",\"#00cc96\",\"#ab63fa\",\"#FFA15A\",\"#19d3f3\",\"#FF6692\",\"#B6E880\",\"#FF97FF\",\"#FECB52\"],\"font\":{\"color\":\"#2a3f5f\"},\"hovermode\":\"closest\",\"hoverlabel\":{\"align\":\"left\"},\"paper_bgcolor\":\"white\",\"plot_bgcolor\":\"#E5ECF6\",\"polar\":{\"bgcolor\":\"#E5ECF6\",\"angularaxis\":{\"gridcolor\":\"white\",\"linecolor\":\"white\",\"ticks\":\"\"},\"radialaxis\":{\"gridcolor\":\"white\",\"linecolor\":\"white\",\"ticks\":\"\"}},\"ternary\":{\"bgcolor\":\"#E5ECF6\",\"aaxis\":{\"gridcolor\":\"white\",\"linecolor\":\"white\",\"ticks\":\"\"},\"baxis\":{\"gridcolor\":\"white\",\"linecolor\":\"white\",\"ticks\":\"\"},\"caxis\":{\"gridcolor\":\"white\",\"linecolor\":\"white\",\"ticks\":\"\"}},\"coloraxis\":{\"colorbar\":{\"outlinewidth\":0,\"ticks\":\"\"}},\"colorscale\":{\"sequential\":[[0.0,\"#0d0887\"],[0.1111111111111111,\"#46039f\"],[0.2222222222222222,\"#7201a8\"],[0.3333333333333333,\"#9c179e\"],[0.4444444444444444,\"#bd3786\"],[0.5555555555555556,\"#d8576b\"],[0.6666666666666666,\"#ed7953\"],[0.7777777777777778,\"#fb9f3a\"],[0.8888888888888888,\"#fdca26\"],[1.0,\"#f0f921\"]],\"sequentialminus\":[[0.0,\"#0d0887\"],[0.1111111111111111,\"#46039f\"],[0.2222222222222222,\"#7201a8\"],[0.3333333333333333,\"#9c179e\"],[0.4444444444444444,\"#bd3786\"],[0.5555555555555556,\"#d8576b\"],[0.6666666666666666,\"#ed7953\"],[0.7777777777777778,\"#fb9f3a\"],[0.8888888888888888,\"#fdca26\"],[1.0,\"#f0f921\"]],\"diverging\":[[0,\"#8e0152\"],[0.1,\"#c51b7d\"],[0.2,\"#de77ae\"],[0.3,\"#f1b6da\"],[0.4,\"#fde0ef\"],[0.5,\"#f7f7f7\"],[0.6,\"#e6f5d0\"],[0.7,\"#b8e186\"],[0.8,\"#7fbc41\"],[0.9,\"#4d9221\"],[1,\"#276419\"]]},\"xaxis\":{\"gridcolor\":\"white\",\"linecolor\":\"white\",\"ticks\":\"\",\"title\":{\"standoff\":15},\"zerolinecolor\":\"white\",\"automargin\":true,\"zerolinewidth\":2},\"yaxis\":{\"gridcolor\":\"white\",\"linecolor\":\"white\",\"ticks\":\"\",\"title\":{\"standoff\":15},\"zerolinecolor\":\"white\",\"automargin\":true,\"zerolinewidth\":2},\"scene\":{\"xaxis\":{\"backgroundcolor\":\"#E5ECF6\",\"gridcolor\":\"white\",\"linecolor\":\"white\",\"showbackground\":true,\"ticks\":\"\",\"zerolinecolor\":\"white\",\"gridwidth\":2},\"yaxis\":{\"backgroundcolor\":\"#E5ECF6\",\"gridcolor\":\"white\",\"linecolor\":\"white\",\"showbackground\":true,\"ticks\":\"\",\"zerolinecolor\":\"white\",\"gridwidth\":2},\"zaxis\":{\"backgroundcolor\":\"#E5ECF6\",\"gridcolor\":\"white\",\"linecolor\":\"white\",\"showbackground\":true,\"ticks\":\"\",\"zerolinecolor\":\"white\",\"gridwidth\":2}},\"shapedefaults\":{\"line\":{\"color\":\"#2a3f5f\"}},\"annotationdefaults\":{\"arrowcolor\":\"#2a3f5f\",\"arrowhead\":0,\"arrowwidth\":1},\"geo\":{\"bgcolor\":\"white\",\"landcolor\":\"#E5ECF6\",\"subunitcolor\":\"white\",\"showland\":true,\"showlakes\":true,\"lakecolor\":\"white\"},\"title\":{\"x\":0.05},\"mapbox\":{\"style\":\"light\"}}},\"width\":1200,\"height\":800,\"showlegend\":false},                        {\"responsive\": true}                    ).then(function(){\n",
       "                            \n",
       "var gd = document.getElementById('120517df-f78a-4a78-9ecb-1d974bf27a19');\n",
       "var x = new MutationObserver(function (mutations, observer) {{\n",
       "        var display = window.getComputedStyle(gd).display;\n",
       "        if (!display || display === 'none') {{\n",
       "            console.log([gd, 'removed!']);\n",
       "            Plotly.purge(gd);\n",
       "            observer.disconnect();\n",
       "        }}\n",
       "}});\n",
       "\n",
       "// Listen for the removal of the full notebook cells\n",
       "var notebookContainer = gd.closest('#notebook-container');\n",
       "if (notebookContainer) {{\n",
       "    x.observe(notebookContainer, {childList: true});\n",
       "}}\n",
       "\n",
       "// Listen for the clearing of the current output cell\n",
       "var outputEl = gd.closest('.output');\n",
       "if (outputEl) {{\n",
       "    x.observe(outputEl, {childList: true});\n",
       "}}\n",
       "\n",
       "                        })                };                });            </script>        </div>"
      ]
     },
     "metadata": {},
     "output_type": "display_data"
    },
    {
     "data": {
      "text/html": [
       "        <script type=\"text/javascript\">\n",
       "        window.PlotlyConfig = {MathJaxConfig: 'local'};\n",
       "        if (window.MathJax && window.MathJax.Hub && window.MathJax.Hub.Config) {window.MathJax.Hub.Config({SVG: {font: \"STIX-Web\"}});}\n",
       "        if (typeof require !== 'undefined') {\n",
       "        require.undef(\"plotly\");\n",
       "        requirejs.config({\n",
       "            paths: {\n",
       "                'plotly': ['https://cdn.plot.ly/plotly-2.18.2.min']\n",
       "            }\n",
       "        });\n",
       "        require(['plotly'], function(Plotly) {\n",
       "            window._Plotly = Plotly;\n",
       "        });\n",
       "        }\n",
       "        </script>\n",
       "        "
      ]
     },
     "metadata": {},
     "output_type": "display_data"
    },
    {
     "data": {
      "text/html": [
       "<div>                            <div id=\"9ae82b8e-0001-4c5a-8b51-1ce5f346fea4\" class=\"plotly-graph-div\" style=\"height:800px; width:1200px;\"></div>            <script type=\"text/javascript\">                require([\"plotly\"], function(Plotly) {                    window.PLOTLYENV=window.PLOTLYENV || {};                                    if (document.getElementById(\"9ae82b8e-0001-4c5a-8b51-1ce5f346fea4\")) {                    Plotly.newPlot(                        \"9ae82b8e-0001-4c5a-8b51-1ce5f346fea4\",                        [{\"marker\":{\"color\":\"black\"},\"x\":[-29.880646898378075,-106.0132132],\"y\":[-8.757599103801436,89.40781657],\"type\":\"scatter\"},{\"marker\":{\"color\":\"red\"},\"mode\":\"markers\",\"name\":\"Trees covered by line 0\",\"x\":[-93.90127238,-97.02245733,-102.7610669,-106.9293573,-107.9110969,-110.3984335,-106.0132132,-96.73072895,-96.22606223,-98.31843957,-115.0619992,-108.786355,-114.5846122,-110.2887047,-103.1629812,-105.839508,-107.0136188,-102.8911694,-104.5151239,-105.2474193,-111.0155589,-110.4334077,-109.0691822,-113.8496183,-115.6880358,-116.3580906,-114.450469,-115.5839619,-100.4964897,-113.9290292],\"y\":[85.11919619,88.54954267,77.77472,80.351252,82.70909714,75.82409401,89.40781657,98.53306229,100.1307978,100.5692092,85.04506755,77.02719052,82.96372814,86.10765266,85.29616635,86.49467744,95.28771062,86.20745338,87.68086518,97.1181028,90.92524233,96.00547745,82.99614333,87.2107575,80.37969702,88.860498,91.64478486,78.43012638,96.3416446,85.41514138],\"type\":\"scatter\"},{\"marker\":{\"color\":\"black\"},\"x\":[-15.12792573,-29.880646898378075],\"y\":[-26.16056076,-8.757599103801436],\"type\":\"scatter\"},{\"marker\":{\"color\":\"black\"},\"x\":[5.750624681,-29.880646898378075],\"y\":[-23.50333184,-8.757599103801436],\"type\":\"scatter\"},{\"marker\":{\"color\":\"black\"},\"x\":[-22.92090482,-29.880646898378075],\"y\":[-30.73934474,-8.757599103801436],\"type\":\"scatter\"},{\"marker\":{\"color\":\"black\"},\"x\":[-83.54479257],\"y\":[57.81202571],\"type\":\"scatter\"},{\"marker\":{\"color\":\"black\"},\"x\":[-26.335098015859195,-85.630951],\"y\":[-6.90860167578362,113.1640033],\"type\":\"scatter\"},{\"marker\":{\"color\":\"blue\"},\"mode\":\"markers\",\"name\":\"Trees covered by line 1\",\"x\":[-95.55933733,-89.62130667,-74.66894341,-85.630951,-90.57745961,-95.6665854,-72.28254052,-87.83312994,-64.87632182],\"y\":[104.3161573,107.525112,120.7985667,113.1640033,107.7242429,102.4783549,123.1188927,111.5008781,130.8051815],\"type\":\"scatter\"},{\"marker\":{\"color\":\"black\"},\"x\":[-15.12792573,-26.335098015859195],\"y\":[-26.16056076,-6.90860167578362],\"type\":\"scatter\"},{\"marker\":{\"color\":\"black\"},\"x\":[5.750624681,-26.335098015859195],\"y\":[-23.50333184,-6.90860167578362],\"type\":\"scatter\"},{\"marker\":{\"color\":\"black\"},\"x\":[-32.07481086,-26.335098015859195],\"y\":[-30.17481,-6.90860167578362],\"type\":\"scatter\"},{\"marker\":{\"color\":\"black\"},\"x\":[],\"y\":[],\"type\":\"scatter\"},{\"marker\":{\"color\":\"black\"},\"x\":[-24.572446093973856,-74.37847497],\"y\":[-5.963584108606202,104.4872907],\"type\":\"scatter\"},{\"marker\":{\"color\":\"green\"},\"mode\":\"markers\",\"name\":\"Trees covered by line 2\",\"x\":[-83.48467459,-88.19360784,-77.38716,-74.37847497,-74.12546686,-83.96798843,-83.3753646,-82.7508461,-78.26144619,-72.9690587,-79.21758645,-87.31261084,-78.82330588,-70.18942466,-70.13604975,-69.11292673,-20.01427656,-46.08530939,-39.1687174,-41.69020833,-20.15441667,-30.51452551,-65.84327489,-67.58248429,-65.91586274,-66.154401,-61.06820181,-65.06967068,-64.15900983,-55.91586735,-61.14652818,-60.13371324,-64.44548,-57.75133942,-51.72634937,-54.22529924,-56.03364748,-51.34979148,-57.75406087,-47.45566976,-54.71720264,-48.32035725,-48.23730243,-37.09976663,-37.47195419,-38.754948,-28.88421312,-45.03471145,-52.09936048,-30.53919388,-33.86425279,-42.03635682,-43.77058695,-48.38149441,-33.38285971,-45.35963829,-20.31095449,-30.12933628,-38.2757944,-37.18284862,-26.71358941],\"y\":[95.86970097,98.34736686,105.531576,104.4872907,104.5034411,102.8353679,106.9914629,115.3560539,109.285201,113.7228677,104.8973871,111.5093353,117.612602,120.3503284,119.873547,121.5114816,149.922979,140.8923356,139.7536376,142.3992175,148.7100133,144.0812844,113.24662,122.3045443,122.5960266,118.6669428,129.0447034,116.4094181,119.7839872,136.2810578,132.0985808,135.6421414,123.662627,129.7407148,139.1805794,132.3293989,131.1800298,136.4680276,135.4419983,141.6323199,138.5854925,139.9950704,134.702649,143.2286398,144.5117223,141.452916,149.7437673,135.7886081,129.4302928,148.8980511,147.9375081,145.0488265,142.5344245,130.5650093,144.4892955,129.9263817,155.2269872,150.6443552,147.5998112,141.5735606,150.2932019],\"type\":\"scatter\"},{\"marker\":{\"color\":\"black\"},\"x\":[-15.12792573,-24.572446093973856],\"y\":[-26.16056076,-5.963584108606202],\"type\":\"scatter\"},{\"marker\":{\"color\":\"black\"},\"x\":[5.750624681,-24.572446093973856],\"y\":[-23.50333184,-5.963584108606202],\"type\":\"scatter\"},{\"marker\":{\"color\":\"black\"},\"x\":[-22.92090482,-24.572446093973856],\"y\":[-30.73934474,-5.963584108606202],\"type\":\"scatter\"},{\"marker\":{\"color\":\"black\"},\"x\":[],\"y\":[],\"type\":\"scatter\"}],                        {\"template\":{\"data\":{\"histogram2dcontour\":[{\"type\":\"histogram2dcontour\",\"colorbar\":{\"outlinewidth\":0,\"ticks\":\"\"},\"colorscale\":[[0.0,\"#0d0887\"],[0.1111111111111111,\"#46039f\"],[0.2222222222222222,\"#7201a8\"],[0.3333333333333333,\"#9c179e\"],[0.4444444444444444,\"#bd3786\"],[0.5555555555555556,\"#d8576b\"],[0.6666666666666666,\"#ed7953\"],[0.7777777777777778,\"#fb9f3a\"],[0.8888888888888888,\"#fdca26\"],[1.0,\"#f0f921\"]]}],\"choropleth\":[{\"type\":\"choropleth\",\"colorbar\":{\"outlinewidth\":0,\"ticks\":\"\"}}],\"histogram2d\":[{\"type\":\"histogram2d\",\"colorbar\":{\"outlinewidth\":0,\"ticks\":\"\"},\"colorscale\":[[0.0,\"#0d0887\"],[0.1111111111111111,\"#46039f\"],[0.2222222222222222,\"#7201a8\"],[0.3333333333333333,\"#9c179e\"],[0.4444444444444444,\"#bd3786\"],[0.5555555555555556,\"#d8576b\"],[0.6666666666666666,\"#ed7953\"],[0.7777777777777778,\"#fb9f3a\"],[0.8888888888888888,\"#fdca26\"],[1.0,\"#f0f921\"]]}],\"heatmap\":[{\"type\":\"heatmap\",\"colorbar\":{\"outlinewidth\":0,\"ticks\":\"\"},\"colorscale\":[[0.0,\"#0d0887\"],[0.1111111111111111,\"#46039f\"],[0.2222222222222222,\"#7201a8\"],[0.3333333333333333,\"#9c179e\"],[0.4444444444444444,\"#bd3786\"],[0.5555555555555556,\"#d8576b\"],[0.6666666666666666,\"#ed7953\"],[0.7777777777777778,\"#fb9f3a\"],[0.8888888888888888,\"#fdca26\"],[1.0,\"#f0f921\"]]}],\"heatmapgl\":[{\"type\":\"heatmapgl\",\"colorbar\":{\"outlinewidth\":0,\"ticks\":\"\"},\"colorscale\":[[0.0,\"#0d0887\"],[0.1111111111111111,\"#46039f\"],[0.2222222222222222,\"#7201a8\"],[0.3333333333333333,\"#9c179e\"],[0.4444444444444444,\"#bd3786\"],[0.5555555555555556,\"#d8576b\"],[0.6666666666666666,\"#ed7953\"],[0.7777777777777778,\"#fb9f3a\"],[0.8888888888888888,\"#fdca26\"],[1.0,\"#f0f921\"]]}],\"contourcarpet\":[{\"type\":\"contourcarpet\",\"colorbar\":{\"outlinewidth\":0,\"ticks\":\"\"}}],\"contour\":[{\"type\":\"contour\",\"colorbar\":{\"outlinewidth\":0,\"ticks\":\"\"},\"colorscale\":[[0.0,\"#0d0887\"],[0.1111111111111111,\"#46039f\"],[0.2222222222222222,\"#7201a8\"],[0.3333333333333333,\"#9c179e\"],[0.4444444444444444,\"#bd3786\"],[0.5555555555555556,\"#d8576b\"],[0.6666666666666666,\"#ed7953\"],[0.7777777777777778,\"#fb9f3a\"],[0.8888888888888888,\"#fdca26\"],[1.0,\"#f0f921\"]]}],\"surface\":[{\"type\":\"surface\",\"colorbar\":{\"outlinewidth\":0,\"ticks\":\"\"},\"colorscale\":[[0.0,\"#0d0887\"],[0.1111111111111111,\"#46039f\"],[0.2222222222222222,\"#7201a8\"],[0.3333333333333333,\"#9c179e\"],[0.4444444444444444,\"#bd3786\"],[0.5555555555555556,\"#d8576b\"],[0.6666666666666666,\"#ed7953\"],[0.7777777777777778,\"#fb9f3a\"],[0.8888888888888888,\"#fdca26\"],[1.0,\"#f0f921\"]]}],\"mesh3d\":[{\"type\":\"mesh3d\",\"colorbar\":{\"outlinewidth\":0,\"ticks\":\"\"}}],\"scatter\":[{\"fillpattern\":{\"fillmode\":\"overlay\",\"size\":10,\"solidity\":0.2},\"type\":\"scatter\"}],\"parcoords\":[{\"type\":\"parcoords\",\"line\":{\"colorbar\":{\"outlinewidth\":0,\"ticks\":\"\"}}}],\"scatterpolargl\":[{\"type\":\"scatterpolargl\",\"marker\":{\"colorbar\":{\"outlinewidth\":0,\"ticks\":\"\"}}}],\"bar\":[{\"error_x\":{\"color\":\"#2a3f5f\"},\"error_y\":{\"color\":\"#2a3f5f\"},\"marker\":{\"line\":{\"color\":\"#E5ECF6\",\"width\":0.5},\"pattern\":{\"fillmode\":\"overlay\",\"size\":10,\"solidity\":0.2}},\"type\":\"bar\"}],\"scattergeo\":[{\"type\":\"scattergeo\",\"marker\":{\"colorbar\":{\"outlinewidth\":0,\"ticks\":\"\"}}}],\"scatterpolar\":[{\"type\":\"scatterpolar\",\"marker\":{\"colorbar\":{\"outlinewidth\":0,\"ticks\":\"\"}}}],\"histogram\":[{\"marker\":{\"pattern\":{\"fillmode\":\"overlay\",\"size\":10,\"solidity\":0.2}},\"type\":\"histogram\"}],\"scattergl\":[{\"type\":\"scattergl\",\"marker\":{\"colorbar\":{\"outlinewidth\":0,\"ticks\":\"\"}}}],\"scatter3d\":[{\"type\":\"scatter3d\",\"line\":{\"colorbar\":{\"outlinewidth\":0,\"ticks\":\"\"}},\"marker\":{\"colorbar\":{\"outlinewidth\":0,\"ticks\":\"\"}}}],\"scattermapbox\":[{\"type\":\"scattermapbox\",\"marker\":{\"colorbar\":{\"outlinewidth\":0,\"ticks\":\"\"}}}],\"scatterternary\":[{\"type\":\"scatterternary\",\"marker\":{\"colorbar\":{\"outlinewidth\":0,\"ticks\":\"\"}}}],\"scattercarpet\":[{\"type\":\"scattercarpet\",\"marker\":{\"colorbar\":{\"outlinewidth\":0,\"ticks\":\"\"}}}],\"carpet\":[{\"aaxis\":{\"endlinecolor\":\"#2a3f5f\",\"gridcolor\":\"white\",\"linecolor\":\"white\",\"minorgridcolor\":\"white\",\"startlinecolor\":\"#2a3f5f\"},\"baxis\":{\"endlinecolor\":\"#2a3f5f\",\"gridcolor\":\"white\",\"linecolor\":\"white\",\"minorgridcolor\":\"white\",\"startlinecolor\":\"#2a3f5f\"},\"type\":\"carpet\"}],\"table\":[{\"cells\":{\"fill\":{\"color\":\"#EBF0F8\"},\"line\":{\"color\":\"white\"}},\"header\":{\"fill\":{\"color\":\"#C8D4E3\"},\"line\":{\"color\":\"white\"}},\"type\":\"table\"}],\"barpolar\":[{\"marker\":{\"line\":{\"color\":\"#E5ECF6\",\"width\":0.5},\"pattern\":{\"fillmode\":\"overlay\",\"size\":10,\"solidity\":0.2}},\"type\":\"barpolar\"}],\"pie\":[{\"automargin\":true,\"type\":\"pie\"}]},\"layout\":{\"autotypenumbers\":\"strict\",\"colorway\":[\"#636efa\",\"#EF553B\",\"#00cc96\",\"#ab63fa\",\"#FFA15A\",\"#19d3f3\",\"#FF6692\",\"#B6E880\",\"#FF97FF\",\"#FECB52\"],\"font\":{\"color\":\"#2a3f5f\"},\"hovermode\":\"closest\",\"hoverlabel\":{\"align\":\"left\"},\"paper_bgcolor\":\"white\",\"plot_bgcolor\":\"#E5ECF6\",\"polar\":{\"bgcolor\":\"#E5ECF6\",\"angularaxis\":{\"gridcolor\":\"white\",\"linecolor\":\"white\",\"ticks\":\"\"},\"radialaxis\":{\"gridcolor\":\"white\",\"linecolor\":\"white\",\"ticks\":\"\"}},\"ternary\":{\"bgcolor\":\"#E5ECF6\",\"aaxis\":{\"gridcolor\":\"white\",\"linecolor\":\"white\",\"ticks\":\"\"},\"baxis\":{\"gridcolor\":\"white\",\"linecolor\":\"white\",\"ticks\":\"\"},\"caxis\":{\"gridcolor\":\"white\",\"linecolor\":\"white\",\"ticks\":\"\"}},\"coloraxis\":{\"colorbar\":{\"outlinewidth\":0,\"ticks\":\"\"}},\"colorscale\":{\"sequential\":[[0.0,\"#0d0887\"],[0.1111111111111111,\"#46039f\"],[0.2222222222222222,\"#7201a8\"],[0.3333333333333333,\"#9c179e\"],[0.4444444444444444,\"#bd3786\"],[0.5555555555555556,\"#d8576b\"],[0.6666666666666666,\"#ed7953\"],[0.7777777777777778,\"#fb9f3a\"],[0.8888888888888888,\"#fdca26\"],[1.0,\"#f0f921\"]],\"sequentialminus\":[[0.0,\"#0d0887\"],[0.1111111111111111,\"#46039f\"],[0.2222222222222222,\"#7201a8\"],[0.3333333333333333,\"#9c179e\"],[0.4444444444444444,\"#bd3786\"],[0.5555555555555556,\"#d8576b\"],[0.6666666666666666,\"#ed7953\"],[0.7777777777777778,\"#fb9f3a\"],[0.8888888888888888,\"#fdca26\"],[1.0,\"#f0f921\"]],\"diverging\":[[0,\"#8e0152\"],[0.1,\"#c51b7d\"],[0.2,\"#de77ae\"],[0.3,\"#f1b6da\"],[0.4,\"#fde0ef\"],[0.5,\"#f7f7f7\"],[0.6,\"#e6f5d0\"],[0.7,\"#b8e186\"],[0.8,\"#7fbc41\"],[0.9,\"#4d9221\"],[1,\"#276419\"]]},\"xaxis\":{\"gridcolor\":\"white\",\"linecolor\":\"white\",\"ticks\":\"\",\"title\":{\"standoff\":15},\"zerolinecolor\":\"white\",\"automargin\":true,\"zerolinewidth\":2},\"yaxis\":{\"gridcolor\":\"white\",\"linecolor\":\"white\",\"ticks\":\"\",\"title\":{\"standoff\":15},\"zerolinecolor\":\"white\",\"automargin\":true,\"zerolinewidth\":2},\"scene\":{\"xaxis\":{\"backgroundcolor\":\"#E5ECF6\",\"gridcolor\":\"white\",\"linecolor\":\"white\",\"showbackground\":true,\"ticks\":\"\",\"zerolinecolor\":\"white\",\"gridwidth\":2},\"yaxis\":{\"backgroundcolor\":\"#E5ECF6\",\"gridcolor\":\"white\",\"linecolor\":\"white\",\"showbackground\":true,\"ticks\":\"\",\"zerolinecolor\":\"white\",\"gridwidth\":2},\"zaxis\":{\"backgroundcolor\":\"#E5ECF6\",\"gridcolor\":\"white\",\"linecolor\":\"white\",\"showbackground\":true,\"ticks\":\"\",\"zerolinecolor\":\"white\",\"gridwidth\":2}},\"shapedefaults\":{\"line\":{\"color\":\"#2a3f5f\"}},\"annotationdefaults\":{\"arrowcolor\":\"#2a3f5f\",\"arrowhead\":0,\"arrowwidth\":1},\"geo\":{\"bgcolor\":\"white\",\"landcolor\":\"#E5ECF6\",\"subunitcolor\":\"white\",\"showland\":true,\"showlakes\":true,\"lakecolor\":\"white\"},\"title\":{\"x\":0.05},\"mapbox\":{\"style\":\"light\"}}},\"width\":1200,\"height\":800,\"showlegend\":false},                        {\"responsive\": true}                    ).then(function(){\n",
       "                            \n",
       "var gd = document.getElementById('9ae82b8e-0001-4c5a-8b51-1ce5f346fea4');\n",
       "var x = new MutationObserver(function (mutations, observer) {{\n",
       "        var display = window.getComputedStyle(gd).display;\n",
       "        if (!display || display === 'none') {{\n",
       "            console.log([gd, 'removed!']);\n",
       "            Plotly.purge(gd);\n",
       "            observer.disconnect();\n",
       "        }}\n",
       "}});\n",
       "\n",
       "// Listen for the removal of the full notebook cells\n",
       "var notebookContainer = gd.closest('#notebook-container');\n",
       "if (notebookContainer) {{\n",
       "    x.observe(notebookContainer, {childList: true});\n",
       "}}\n",
       "\n",
       "// Listen for the clearing of the current output cell\n",
       "var outputEl = gd.closest('.output');\n",
       "if (outputEl) {{\n",
       "    x.observe(outputEl, {childList: true});\n",
       "}}\n",
       "\n",
       "                        })                };                });            </script>        </div>"
      ]
     },
     "metadata": {},
     "output_type": "display_data"
    },
    {
     "data": {
      "text/html": [
       "        <script type=\"text/javascript\">\n",
       "        window.PlotlyConfig = {MathJaxConfig: 'local'};\n",
       "        if (window.MathJax && window.MathJax.Hub && window.MathJax.Hub.Config) {window.MathJax.Hub.Config({SVG: {font: \"STIX-Web\"}});}\n",
       "        if (typeof require !== 'undefined') {\n",
       "        require.undef(\"plotly\");\n",
       "        requirejs.config({\n",
       "            paths: {\n",
       "                'plotly': ['https://cdn.plot.ly/plotly-2.18.2.min']\n",
       "            }\n",
       "        });\n",
       "        require(['plotly'], function(Plotly) {\n",
       "            window._Plotly = Plotly;\n",
       "        });\n",
       "        }\n",
       "        </script>\n",
       "        "
      ]
     },
     "metadata": {},
     "output_type": "display_data"
    },
    {
     "data": {
      "text/html": [
       "<div>                            <div id=\"4cb26e20-6768-42b3-a00c-969bcde986e3\" class=\"plotly-graph-div\" style=\"height:800px; width:1200px;\"></div>            <script type=\"text/javascript\">                require([\"plotly\"], function(Plotly) {                    window.PLOTLYENV=window.PLOTLYENV || {};                                    if (document.getElementById(\"4cb26e20-6768-42b3-a00c-969bcde986e3\")) {                    Plotly.newPlot(                        \"4cb26e20-6768-42b3-a00c-969bcde986e3\",                        [{\"marker\":{\"color\":\"black\"},\"x\":[-29.880646898378075,-106.0132132],\"y\":[-8.757599103801436,89.40781657],\"type\":\"scatter\"},{\"marker\":{\"color\":\"red\"},\"mode\":\"markers\",\"name\":\"Trees covered by line 0\",\"x\":[-93.90127238,-97.02245733,-102.7610669,-106.9293573,-107.9110969,-110.3984335,-106.0132132,-96.73072895,-96.22606223,-98.31843957,-115.0619992,-108.786355,-114.5846122,-110.2887047,-103.1629812,-95.55933733,-105.839508,-107.0136188,-102.8911694,-104.5151239,-95.6665854,-105.2474193,-111.0155589,-110.4334077,-109.0691822,-113.8496183,-115.6880358,-116.3580906,-114.450469,-115.5839619,-100.4964897,-113.9290292],\"y\":[85.11919619,88.54954267,77.77472,80.351252,82.70909714,75.82409401,89.40781657,98.53306229,100.1307978,100.5692092,85.04506755,77.02719052,82.96372814,86.10765266,85.29616635,104.3161573,86.49467744,95.28771062,86.20745338,87.68086518,102.4783549,97.1181028,90.92524233,96.00547745,82.99614333,87.2107575,80.37969702,88.860498,91.64478486,78.43012638,96.3416446,85.41514138],\"type\":\"scatter\"},{\"marker\":{\"color\":\"black\"},\"x\":[-15.12792573,-29.880646898378075],\"y\":[-26.16056076,-8.757599103801436],\"type\":\"scatter\"},{\"marker\":{\"color\":\"black\"},\"x\":[5.750624681,-29.880646898378075],\"y\":[-23.50333184,-8.757599103801436],\"type\":\"scatter\"},{\"marker\":{\"color\":\"black\"},\"x\":[-22.92090482,-29.880646898378075],\"y\":[-30.73934474,-8.757599103801436],\"type\":\"scatter\"},{\"marker\":{\"color\":\"black\"},\"x\":[-83.54479257],\"y\":[57.81202571],\"type\":\"scatter\"},{\"marker\":{\"color\":\"black\"},\"x\":[-24.572446093973856,-74.37847497],\"y\":[-5.963584108606202,104.4872907],\"type\":\"scatter\"},{\"marker\":{\"color\":\"blue\"},\"mode\":\"markers\",\"name\":\"Trees covered by line 1\",\"x\":[-83.48467459,-88.19360784,-77.38716,-74.37847497,-74.12546686,-83.96798843,-89.62130667,-83.3753646,-82.7508461,-78.26144619,-74.66894341,-85.630951,-90.57745961,-72.9690587,-79.21758645,-87.31261084,-78.82330588,-70.18942466,-70.13604975,-69.11292673,-72.28254052,-20.01427656,-46.08530939,-39.1687174,-41.69020833,-20.15441667,-30.51452551,-65.84327489,-87.83312994,-67.58248429,-65.91586274,-66.154401,-61.06820181,-65.06967068,-64.15900983,-55.91586735,-61.14652818,-60.13371324,-64.44548,-64.87632182,-57.75133942,-51.72634937,-54.22529924,-56.03364748,-51.34979148,-57.75406087,-47.45566976,-54.71720264,-48.32035725,-48.23730243,-37.09976663,-37.47195419,-38.754948,-28.88421312,-45.03471145,-52.09936048,-30.53919388,-33.86425279,-42.03635682,-43.77058695,-48.38149441,-33.38285971,-45.35963829,-20.31095449,-30.12933628,-38.2757944,-37.18284862,-26.71358941],\"y\":[95.86970097,98.34736686,105.531576,104.4872907,104.5034411,102.8353679,107.525112,106.9914629,115.3560539,109.285201,120.7985667,113.1640033,107.7242429,113.7228677,104.8973871,111.5093353,117.612602,120.3503284,119.873547,121.5114816,123.1188927,149.922979,140.8923356,139.7536376,142.3992175,148.7100133,144.0812844,113.24662,111.5008781,122.3045443,122.5960266,118.6669428,129.0447034,116.4094181,119.7839872,136.2810578,132.0985808,135.6421414,123.662627,130.8051815,129.7407148,139.1805794,132.3293989,131.1800298,136.4680276,135.4419983,141.6323199,138.5854925,139.9950704,134.702649,143.2286398,144.5117223,141.452916,149.7437673,135.7886081,129.4302928,148.8980511,147.9375081,145.0488265,142.5344245,130.5650093,144.4892955,129.9263817,155.2269872,150.6443552,147.5998112,141.5735606,150.2932019],\"type\":\"scatter\"},{\"marker\":{\"color\":\"black\"},\"x\":[-15.12792573,-24.572446093973856],\"y\":[-26.16056076,-5.963584108606202],\"type\":\"scatter\"},{\"marker\":{\"color\":\"black\"},\"x\":[5.750624681,-24.572446093973856],\"y\":[-23.50333184,-5.963584108606202],\"type\":\"scatter\"},{\"marker\":{\"color\":\"black\"},\"x\":[-22.92090482,-24.572446093973856],\"y\":[-30.73934474,-5.963584108606202],\"type\":\"scatter\"},{\"marker\":{\"color\":\"black\"},\"x\":[],\"y\":[],\"type\":\"scatter\"}],                        {\"template\":{\"data\":{\"histogram2dcontour\":[{\"type\":\"histogram2dcontour\",\"colorbar\":{\"outlinewidth\":0,\"ticks\":\"\"},\"colorscale\":[[0.0,\"#0d0887\"],[0.1111111111111111,\"#46039f\"],[0.2222222222222222,\"#7201a8\"],[0.3333333333333333,\"#9c179e\"],[0.4444444444444444,\"#bd3786\"],[0.5555555555555556,\"#d8576b\"],[0.6666666666666666,\"#ed7953\"],[0.7777777777777778,\"#fb9f3a\"],[0.8888888888888888,\"#fdca26\"],[1.0,\"#f0f921\"]]}],\"choropleth\":[{\"type\":\"choropleth\",\"colorbar\":{\"outlinewidth\":0,\"ticks\":\"\"}}],\"histogram2d\":[{\"type\":\"histogram2d\",\"colorbar\":{\"outlinewidth\":0,\"ticks\":\"\"},\"colorscale\":[[0.0,\"#0d0887\"],[0.1111111111111111,\"#46039f\"],[0.2222222222222222,\"#7201a8\"],[0.3333333333333333,\"#9c179e\"],[0.4444444444444444,\"#bd3786\"],[0.5555555555555556,\"#d8576b\"],[0.6666666666666666,\"#ed7953\"],[0.7777777777777778,\"#fb9f3a\"],[0.8888888888888888,\"#fdca26\"],[1.0,\"#f0f921\"]]}],\"heatmap\":[{\"type\":\"heatmap\",\"colorbar\":{\"outlinewidth\":0,\"ticks\":\"\"},\"colorscale\":[[0.0,\"#0d0887\"],[0.1111111111111111,\"#46039f\"],[0.2222222222222222,\"#7201a8\"],[0.3333333333333333,\"#9c179e\"],[0.4444444444444444,\"#bd3786\"],[0.5555555555555556,\"#d8576b\"],[0.6666666666666666,\"#ed7953\"],[0.7777777777777778,\"#fb9f3a\"],[0.8888888888888888,\"#fdca26\"],[1.0,\"#f0f921\"]]}],\"heatmapgl\":[{\"type\":\"heatmapgl\",\"colorbar\":{\"outlinewidth\":0,\"ticks\":\"\"},\"colorscale\":[[0.0,\"#0d0887\"],[0.1111111111111111,\"#46039f\"],[0.2222222222222222,\"#7201a8\"],[0.3333333333333333,\"#9c179e\"],[0.4444444444444444,\"#bd3786\"],[0.5555555555555556,\"#d8576b\"],[0.6666666666666666,\"#ed7953\"],[0.7777777777777778,\"#fb9f3a\"],[0.8888888888888888,\"#fdca26\"],[1.0,\"#f0f921\"]]}],\"contourcarpet\":[{\"type\":\"contourcarpet\",\"colorbar\":{\"outlinewidth\":0,\"ticks\":\"\"}}],\"contour\":[{\"type\":\"contour\",\"colorbar\":{\"outlinewidth\":0,\"ticks\":\"\"},\"colorscale\":[[0.0,\"#0d0887\"],[0.1111111111111111,\"#46039f\"],[0.2222222222222222,\"#7201a8\"],[0.3333333333333333,\"#9c179e\"],[0.4444444444444444,\"#bd3786\"],[0.5555555555555556,\"#d8576b\"],[0.6666666666666666,\"#ed7953\"],[0.7777777777777778,\"#fb9f3a\"],[0.8888888888888888,\"#fdca26\"],[1.0,\"#f0f921\"]]}],\"surface\":[{\"type\":\"surface\",\"colorbar\":{\"outlinewidth\":0,\"ticks\":\"\"},\"colorscale\":[[0.0,\"#0d0887\"],[0.1111111111111111,\"#46039f\"],[0.2222222222222222,\"#7201a8\"],[0.3333333333333333,\"#9c179e\"],[0.4444444444444444,\"#bd3786\"],[0.5555555555555556,\"#d8576b\"],[0.6666666666666666,\"#ed7953\"],[0.7777777777777778,\"#fb9f3a\"],[0.8888888888888888,\"#fdca26\"],[1.0,\"#f0f921\"]]}],\"mesh3d\":[{\"type\":\"mesh3d\",\"colorbar\":{\"outlinewidth\":0,\"ticks\":\"\"}}],\"scatter\":[{\"fillpattern\":{\"fillmode\":\"overlay\",\"size\":10,\"solidity\":0.2},\"type\":\"scatter\"}],\"parcoords\":[{\"type\":\"parcoords\",\"line\":{\"colorbar\":{\"outlinewidth\":0,\"ticks\":\"\"}}}],\"scatterpolargl\":[{\"type\":\"scatterpolargl\",\"marker\":{\"colorbar\":{\"outlinewidth\":0,\"ticks\":\"\"}}}],\"bar\":[{\"error_x\":{\"color\":\"#2a3f5f\"},\"error_y\":{\"color\":\"#2a3f5f\"},\"marker\":{\"line\":{\"color\":\"#E5ECF6\",\"width\":0.5},\"pattern\":{\"fillmode\":\"overlay\",\"size\":10,\"solidity\":0.2}},\"type\":\"bar\"}],\"scattergeo\":[{\"type\":\"scattergeo\",\"marker\":{\"colorbar\":{\"outlinewidth\":0,\"ticks\":\"\"}}}],\"scatterpolar\":[{\"type\":\"scatterpolar\",\"marker\":{\"colorbar\":{\"outlinewidth\":0,\"ticks\":\"\"}}}],\"histogram\":[{\"marker\":{\"pattern\":{\"fillmode\":\"overlay\",\"size\":10,\"solidity\":0.2}},\"type\":\"histogram\"}],\"scattergl\":[{\"type\":\"scattergl\",\"marker\":{\"colorbar\":{\"outlinewidth\":0,\"ticks\":\"\"}}}],\"scatter3d\":[{\"type\":\"scatter3d\",\"line\":{\"colorbar\":{\"outlinewidth\":0,\"ticks\":\"\"}},\"marker\":{\"colorbar\":{\"outlinewidth\":0,\"ticks\":\"\"}}}],\"scattermapbox\":[{\"type\":\"scattermapbox\",\"marker\":{\"colorbar\":{\"outlinewidth\":0,\"ticks\":\"\"}}}],\"scatterternary\":[{\"type\":\"scatterternary\",\"marker\":{\"colorbar\":{\"outlinewidth\":0,\"ticks\":\"\"}}}],\"scattercarpet\":[{\"type\":\"scattercarpet\",\"marker\":{\"colorbar\":{\"outlinewidth\":0,\"ticks\":\"\"}}}],\"carpet\":[{\"aaxis\":{\"endlinecolor\":\"#2a3f5f\",\"gridcolor\":\"white\",\"linecolor\":\"white\",\"minorgridcolor\":\"white\",\"startlinecolor\":\"#2a3f5f\"},\"baxis\":{\"endlinecolor\":\"#2a3f5f\",\"gridcolor\":\"white\",\"linecolor\":\"white\",\"minorgridcolor\":\"white\",\"startlinecolor\":\"#2a3f5f\"},\"type\":\"carpet\"}],\"table\":[{\"cells\":{\"fill\":{\"color\":\"#EBF0F8\"},\"line\":{\"color\":\"white\"}},\"header\":{\"fill\":{\"color\":\"#C8D4E3\"},\"line\":{\"color\":\"white\"}},\"type\":\"table\"}],\"barpolar\":[{\"marker\":{\"line\":{\"color\":\"#E5ECF6\",\"width\":0.5},\"pattern\":{\"fillmode\":\"overlay\",\"size\":10,\"solidity\":0.2}},\"type\":\"barpolar\"}],\"pie\":[{\"automargin\":true,\"type\":\"pie\"}]},\"layout\":{\"autotypenumbers\":\"strict\",\"colorway\":[\"#636efa\",\"#EF553B\",\"#00cc96\",\"#ab63fa\",\"#FFA15A\",\"#19d3f3\",\"#FF6692\",\"#B6E880\",\"#FF97FF\",\"#FECB52\"],\"font\":{\"color\":\"#2a3f5f\"},\"hovermode\":\"closest\",\"hoverlabel\":{\"align\":\"left\"},\"paper_bgcolor\":\"white\",\"plot_bgcolor\":\"#E5ECF6\",\"polar\":{\"bgcolor\":\"#E5ECF6\",\"angularaxis\":{\"gridcolor\":\"white\",\"linecolor\":\"white\",\"ticks\":\"\"},\"radialaxis\":{\"gridcolor\":\"white\",\"linecolor\":\"white\",\"ticks\":\"\"}},\"ternary\":{\"bgcolor\":\"#E5ECF6\",\"aaxis\":{\"gridcolor\":\"white\",\"linecolor\":\"white\",\"ticks\":\"\"},\"baxis\":{\"gridcolor\":\"white\",\"linecolor\":\"white\",\"ticks\":\"\"},\"caxis\":{\"gridcolor\":\"white\",\"linecolor\":\"white\",\"ticks\":\"\"}},\"coloraxis\":{\"colorbar\":{\"outlinewidth\":0,\"ticks\":\"\"}},\"colorscale\":{\"sequential\":[[0.0,\"#0d0887\"],[0.1111111111111111,\"#46039f\"],[0.2222222222222222,\"#7201a8\"],[0.3333333333333333,\"#9c179e\"],[0.4444444444444444,\"#bd3786\"],[0.5555555555555556,\"#d8576b\"],[0.6666666666666666,\"#ed7953\"],[0.7777777777777778,\"#fb9f3a\"],[0.8888888888888888,\"#fdca26\"],[1.0,\"#f0f921\"]],\"sequentialminus\":[[0.0,\"#0d0887\"],[0.1111111111111111,\"#46039f\"],[0.2222222222222222,\"#7201a8\"],[0.3333333333333333,\"#9c179e\"],[0.4444444444444444,\"#bd3786\"],[0.5555555555555556,\"#d8576b\"],[0.6666666666666666,\"#ed7953\"],[0.7777777777777778,\"#fb9f3a\"],[0.8888888888888888,\"#fdca26\"],[1.0,\"#f0f921\"]],\"diverging\":[[0,\"#8e0152\"],[0.1,\"#c51b7d\"],[0.2,\"#de77ae\"],[0.3,\"#f1b6da\"],[0.4,\"#fde0ef\"],[0.5,\"#f7f7f7\"],[0.6,\"#e6f5d0\"],[0.7,\"#b8e186\"],[0.8,\"#7fbc41\"],[0.9,\"#4d9221\"],[1,\"#276419\"]]},\"xaxis\":{\"gridcolor\":\"white\",\"linecolor\":\"white\",\"ticks\":\"\",\"title\":{\"standoff\":15},\"zerolinecolor\":\"white\",\"automargin\":true,\"zerolinewidth\":2},\"yaxis\":{\"gridcolor\":\"white\",\"linecolor\":\"white\",\"ticks\":\"\",\"title\":{\"standoff\":15},\"zerolinecolor\":\"white\",\"automargin\":true,\"zerolinewidth\":2},\"scene\":{\"xaxis\":{\"backgroundcolor\":\"#E5ECF6\",\"gridcolor\":\"white\",\"linecolor\":\"white\",\"showbackground\":true,\"ticks\":\"\",\"zerolinecolor\":\"white\",\"gridwidth\":2},\"yaxis\":{\"backgroundcolor\":\"#E5ECF6\",\"gridcolor\":\"white\",\"linecolor\":\"white\",\"showbackground\":true,\"ticks\":\"\",\"zerolinecolor\":\"white\",\"gridwidth\":2},\"zaxis\":{\"backgroundcolor\":\"#E5ECF6\",\"gridcolor\":\"white\",\"linecolor\":\"white\",\"showbackground\":true,\"ticks\":\"\",\"zerolinecolor\":\"white\",\"gridwidth\":2}},\"shapedefaults\":{\"line\":{\"color\":\"#2a3f5f\"}},\"annotationdefaults\":{\"arrowcolor\":\"#2a3f5f\",\"arrowhead\":0,\"arrowwidth\":1},\"geo\":{\"bgcolor\":\"white\",\"landcolor\":\"#E5ECF6\",\"subunitcolor\":\"white\",\"showland\":true,\"showlakes\":true,\"lakecolor\":\"white\"},\"title\":{\"x\":0.05},\"mapbox\":{\"style\":\"light\"}}},\"width\":1200,\"height\":800,\"showlegend\":false},                        {\"responsive\": true}                    ).then(function(){\n",
       "                            \n",
       "var gd = document.getElementById('4cb26e20-6768-42b3-a00c-969bcde986e3');\n",
       "var x = new MutationObserver(function (mutations, observer) {{\n",
       "        var display = window.getComputedStyle(gd).display;\n",
       "        if (!display || display === 'none') {{\n",
       "            console.log([gd, 'removed!']);\n",
       "            Plotly.purge(gd);\n",
       "            observer.disconnect();\n",
       "        }}\n",
       "}});\n",
       "\n",
       "// Listen for the removal of the full notebook cells\n",
       "var notebookContainer = gd.closest('#notebook-container');\n",
       "if (notebookContainer) {{\n",
       "    x.observe(notebookContainer, {childList: true});\n",
       "}}\n",
       "\n",
       "// Listen for the clearing of the current output cell\n",
       "var outputEl = gd.closest('.output');\n",
       "if (outputEl) {{\n",
       "    x.observe(outputEl, {childList: true});\n",
       "}}\n",
       "\n",
       "                        })                };                });            </script>        </div>"
      ]
     },
     "metadata": {},
     "output_type": "display_data"
    },
    {
     "data": {
      "text/html": [
       "        <script type=\"text/javascript\">\n",
       "        window.PlotlyConfig = {MathJaxConfig: 'local'};\n",
       "        if (window.MathJax && window.MathJax.Hub && window.MathJax.Hub.Config) {window.MathJax.Hub.Config({SVG: {font: \"STIX-Web\"}});}\n",
       "        if (typeof require !== 'undefined') {\n",
       "        require.undef(\"plotly\");\n",
       "        requirejs.config({\n",
       "            paths: {\n",
       "                'plotly': ['https://cdn.plot.ly/plotly-2.18.2.min']\n",
       "            }\n",
       "        });\n",
       "        require(['plotly'], function(Plotly) {\n",
       "            window._Plotly = Plotly;\n",
       "        });\n",
       "        }\n",
       "        </script>\n",
       "        "
      ]
     },
     "metadata": {},
     "output_type": "display_data"
    },
    {
     "data": {
      "text/html": [
       "<div>                            <div id=\"60885e4b-3319-497e-9374-076ca3b65251\" class=\"plotly-graph-div\" style=\"height:800px; width:1200px;\"></div>            <script type=\"text/javascript\">                require([\"plotly\"], function(Plotly) {                    window.PLOTLYENV=window.PLOTLYENV || {};                                    if (document.getElementById(\"60885e4b-3319-497e-9374-076ca3b65251\")) {                    Plotly.newPlot(                        \"60885e4b-3319-497e-9374-076ca3b65251\",                        [{\"marker\":{\"color\":\"black\"},\"x\":[-29.880646898378075,-106.0132132],\"y\":[-8.757599103801436,89.40781657],\"type\":\"scatter\"},{\"marker\":{\"color\":\"red\"},\"mode\":\"markers\",\"name\":\"Trees covered by line 0\",\"x\":[-93.90127238,-97.02245733,-102.7610669,-106.9293573,-107.9110969,-110.3984335,-106.0132132,-96.73072895,-96.22606223,-98.31843957,-115.0619992,-108.786355,-114.5846122,-110.2887047,-103.1629812,-105.839508,-107.0136188,-102.8911694,-104.5151239,-105.2474193,-111.0155589,-110.4334077,-109.0691822,-113.8496183,-115.6880358,-116.3580906,-114.450469,-115.5839619,-100.4964897,-113.9290292],\"y\":[85.11919619,88.54954267,77.77472,80.351252,82.70909714,75.82409401,89.40781657,98.53306229,100.1307978,100.5692092,85.04506755,77.02719052,82.96372814,86.10765266,85.29616635,86.49467744,95.28771062,86.20745338,87.68086518,97.1181028,90.92524233,96.00547745,82.99614333,87.2107575,80.37969702,88.860498,91.64478486,78.43012638,96.3416446,85.41514138],\"type\":\"scatter\"},{\"marker\":{\"color\":\"black\"},\"x\":[-15.12792573,-29.880646898378075],\"y\":[-26.16056076,-8.757599103801436],\"type\":\"scatter\"},{\"marker\":{\"color\":\"black\"},\"x\":[5.750624681,-29.880646898378075],\"y\":[-23.50333184,-8.757599103801436],\"type\":\"scatter\"},{\"marker\":{\"color\":\"black\"},\"x\":[-22.92090482,-29.880646898378075],\"y\":[-30.73934474,-8.757599103801436],\"type\":\"scatter\"},{\"marker\":{\"color\":\"black\"},\"x\":[-83.54479257],\"y\":[57.81202571],\"type\":\"scatter\"},{\"marker\":{\"color\":\"black\"},\"x\":[-26.335098015859195,-85.630951],\"y\":[-6.90860167578362,113.1640033],\"type\":\"scatter\"},{\"marker\":{\"color\":\"blue\"},\"mode\":\"markers\",\"name\":\"Trees covered by line 1\",\"x\":[-95.55933733,-89.62130667,-74.66894341,-85.630951,-90.57745961,-95.6665854,-72.28254052,-87.83312994,-64.87632182],\"y\":[104.3161573,107.525112,120.7985667,113.1640033,107.7242429,102.4783549,123.1188927,111.5008781,130.8051815],\"type\":\"scatter\"},{\"marker\":{\"color\":\"black\"},\"x\":[-15.12792573,-26.335098015859195],\"y\":[-26.16056076,-6.90860167578362],\"type\":\"scatter\"},{\"marker\":{\"color\":\"black\"},\"x\":[5.750624681,-26.335098015859195],\"y\":[-23.50333184,-6.90860167578362],\"type\":\"scatter\"},{\"marker\":{\"color\":\"black\"},\"x\":[-32.07481086,-26.335098015859195],\"y\":[-30.17481,-6.90860167578362],\"type\":\"scatter\"},{\"marker\":{\"color\":\"black\"},\"x\":[],\"y\":[],\"type\":\"scatter\"},{\"marker\":{\"color\":\"black\"},\"x\":[-24.572446093973856,-74.37847497],\"y\":[-5.963584108606202,104.4872907],\"type\":\"scatter\"},{\"marker\":{\"color\":\"green\"},\"mode\":\"markers\",\"name\":\"Trees covered by line 2\",\"x\":[-83.48467459,-88.19360784,-77.38716,-74.37847497,-74.12546686,-83.96798843,-83.3753646,-82.7508461,-78.26144619,-72.9690587,-79.21758645,-87.31261084,-78.82330588,-70.18942466,-70.13604975,-69.11292673,-20.01427656,-46.08530939,-39.1687174,-41.69020833,-20.15441667,-30.51452551,-65.84327489,-67.58248429,-65.91586274,-66.154401,-61.06820181,-65.06967068,-64.15900983,-55.91586735,-61.14652818,-60.13371324,-64.44548,-57.75133942,-51.72634937,-54.22529924,-56.03364748,-51.34979148,-57.75406087,-47.45566976,-54.71720264,-48.32035725,-48.23730243,-37.09976663,-37.47195419,-38.754948,-28.88421312,-45.03471145,-52.09936048,-30.53919388,-33.86425279,-42.03635682,-43.77058695,-48.38149441,-33.38285971,-45.35963829,-20.31095449,-30.12933628,-38.2757944,-37.18284862,-26.71358941],\"y\":[95.86970097,98.34736686,105.531576,104.4872907,104.5034411,102.8353679,106.9914629,115.3560539,109.285201,113.7228677,104.8973871,111.5093353,117.612602,120.3503284,119.873547,121.5114816,149.922979,140.8923356,139.7536376,142.3992175,148.7100133,144.0812844,113.24662,122.3045443,122.5960266,118.6669428,129.0447034,116.4094181,119.7839872,136.2810578,132.0985808,135.6421414,123.662627,129.7407148,139.1805794,132.3293989,131.1800298,136.4680276,135.4419983,141.6323199,138.5854925,139.9950704,134.702649,143.2286398,144.5117223,141.452916,149.7437673,135.7886081,129.4302928,148.8980511,147.9375081,145.0488265,142.5344245,130.5650093,144.4892955,129.9263817,155.2269872,150.6443552,147.5998112,141.5735606,150.2932019],\"type\":\"scatter\"},{\"marker\":{\"color\":\"black\"},\"x\":[-15.12792573,-24.572446093973856],\"y\":[-26.16056076,-5.963584108606202],\"type\":\"scatter\"},{\"marker\":{\"color\":\"black\"},\"x\":[5.750624681,-24.572446093973856],\"y\":[-23.50333184,-5.963584108606202],\"type\":\"scatter\"},{\"marker\":{\"color\":\"black\"},\"x\":[-22.92090482,-24.572446093973856],\"y\":[-30.73934474,-5.963584108606202],\"type\":\"scatter\"},{\"marker\":{\"color\":\"black\"},\"x\":[],\"y\":[],\"type\":\"scatter\"}],                        {\"template\":{\"data\":{\"histogram2dcontour\":[{\"type\":\"histogram2dcontour\",\"colorbar\":{\"outlinewidth\":0,\"ticks\":\"\"},\"colorscale\":[[0.0,\"#0d0887\"],[0.1111111111111111,\"#46039f\"],[0.2222222222222222,\"#7201a8\"],[0.3333333333333333,\"#9c179e\"],[0.4444444444444444,\"#bd3786\"],[0.5555555555555556,\"#d8576b\"],[0.6666666666666666,\"#ed7953\"],[0.7777777777777778,\"#fb9f3a\"],[0.8888888888888888,\"#fdca26\"],[1.0,\"#f0f921\"]]}],\"choropleth\":[{\"type\":\"choropleth\",\"colorbar\":{\"outlinewidth\":0,\"ticks\":\"\"}}],\"histogram2d\":[{\"type\":\"histogram2d\",\"colorbar\":{\"outlinewidth\":0,\"ticks\":\"\"},\"colorscale\":[[0.0,\"#0d0887\"],[0.1111111111111111,\"#46039f\"],[0.2222222222222222,\"#7201a8\"],[0.3333333333333333,\"#9c179e\"],[0.4444444444444444,\"#bd3786\"],[0.5555555555555556,\"#d8576b\"],[0.6666666666666666,\"#ed7953\"],[0.7777777777777778,\"#fb9f3a\"],[0.8888888888888888,\"#fdca26\"],[1.0,\"#f0f921\"]]}],\"heatmap\":[{\"type\":\"heatmap\",\"colorbar\":{\"outlinewidth\":0,\"ticks\":\"\"},\"colorscale\":[[0.0,\"#0d0887\"],[0.1111111111111111,\"#46039f\"],[0.2222222222222222,\"#7201a8\"],[0.3333333333333333,\"#9c179e\"],[0.4444444444444444,\"#bd3786\"],[0.5555555555555556,\"#d8576b\"],[0.6666666666666666,\"#ed7953\"],[0.7777777777777778,\"#fb9f3a\"],[0.8888888888888888,\"#fdca26\"],[1.0,\"#f0f921\"]]}],\"heatmapgl\":[{\"type\":\"heatmapgl\",\"colorbar\":{\"outlinewidth\":0,\"ticks\":\"\"},\"colorscale\":[[0.0,\"#0d0887\"],[0.1111111111111111,\"#46039f\"],[0.2222222222222222,\"#7201a8\"],[0.3333333333333333,\"#9c179e\"],[0.4444444444444444,\"#bd3786\"],[0.5555555555555556,\"#d8576b\"],[0.6666666666666666,\"#ed7953\"],[0.7777777777777778,\"#fb9f3a\"],[0.8888888888888888,\"#fdca26\"],[1.0,\"#f0f921\"]]}],\"contourcarpet\":[{\"type\":\"contourcarpet\",\"colorbar\":{\"outlinewidth\":0,\"ticks\":\"\"}}],\"contour\":[{\"type\":\"contour\",\"colorbar\":{\"outlinewidth\":0,\"ticks\":\"\"},\"colorscale\":[[0.0,\"#0d0887\"],[0.1111111111111111,\"#46039f\"],[0.2222222222222222,\"#7201a8\"],[0.3333333333333333,\"#9c179e\"],[0.4444444444444444,\"#bd3786\"],[0.5555555555555556,\"#d8576b\"],[0.6666666666666666,\"#ed7953\"],[0.7777777777777778,\"#fb9f3a\"],[0.8888888888888888,\"#fdca26\"],[1.0,\"#f0f921\"]]}],\"surface\":[{\"type\":\"surface\",\"colorbar\":{\"outlinewidth\":0,\"ticks\":\"\"},\"colorscale\":[[0.0,\"#0d0887\"],[0.1111111111111111,\"#46039f\"],[0.2222222222222222,\"#7201a8\"],[0.3333333333333333,\"#9c179e\"],[0.4444444444444444,\"#bd3786\"],[0.5555555555555556,\"#d8576b\"],[0.6666666666666666,\"#ed7953\"],[0.7777777777777778,\"#fb9f3a\"],[0.8888888888888888,\"#fdca26\"],[1.0,\"#f0f921\"]]}],\"mesh3d\":[{\"type\":\"mesh3d\",\"colorbar\":{\"outlinewidth\":0,\"ticks\":\"\"}}],\"scatter\":[{\"fillpattern\":{\"fillmode\":\"overlay\",\"size\":10,\"solidity\":0.2},\"type\":\"scatter\"}],\"parcoords\":[{\"type\":\"parcoords\",\"line\":{\"colorbar\":{\"outlinewidth\":0,\"ticks\":\"\"}}}],\"scatterpolargl\":[{\"type\":\"scatterpolargl\",\"marker\":{\"colorbar\":{\"outlinewidth\":0,\"ticks\":\"\"}}}],\"bar\":[{\"error_x\":{\"color\":\"#2a3f5f\"},\"error_y\":{\"color\":\"#2a3f5f\"},\"marker\":{\"line\":{\"color\":\"#E5ECF6\",\"width\":0.5},\"pattern\":{\"fillmode\":\"overlay\",\"size\":10,\"solidity\":0.2}},\"type\":\"bar\"}],\"scattergeo\":[{\"type\":\"scattergeo\",\"marker\":{\"colorbar\":{\"outlinewidth\":0,\"ticks\":\"\"}}}],\"scatterpolar\":[{\"type\":\"scatterpolar\",\"marker\":{\"colorbar\":{\"outlinewidth\":0,\"ticks\":\"\"}}}],\"histogram\":[{\"marker\":{\"pattern\":{\"fillmode\":\"overlay\",\"size\":10,\"solidity\":0.2}},\"type\":\"histogram\"}],\"scattergl\":[{\"type\":\"scattergl\",\"marker\":{\"colorbar\":{\"outlinewidth\":0,\"ticks\":\"\"}}}],\"scatter3d\":[{\"type\":\"scatter3d\",\"line\":{\"colorbar\":{\"outlinewidth\":0,\"ticks\":\"\"}},\"marker\":{\"colorbar\":{\"outlinewidth\":0,\"ticks\":\"\"}}}],\"scattermapbox\":[{\"type\":\"scattermapbox\",\"marker\":{\"colorbar\":{\"outlinewidth\":0,\"ticks\":\"\"}}}],\"scatterternary\":[{\"type\":\"scatterternary\",\"marker\":{\"colorbar\":{\"outlinewidth\":0,\"ticks\":\"\"}}}],\"scattercarpet\":[{\"type\":\"scattercarpet\",\"marker\":{\"colorbar\":{\"outlinewidth\":0,\"ticks\":\"\"}}}],\"carpet\":[{\"aaxis\":{\"endlinecolor\":\"#2a3f5f\",\"gridcolor\":\"white\",\"linecolor\":\"white\",\"minorgridcolor\":\"white\",\"startlinecolor\":\"#2a3f5f\"},\"baxis\":{\"endlinecolor\":\"#2a3f5f\",\"gridcolor\":\"white\",\"linecolor\":\"white\",\"minorgridcolor\":\"white\",\"startlinecolor\":\"#2a3f5f\"},\"type\":\"carpet\"}],\"table\":[{\"cells\":{\"fill\":{\"color\":\"#EBF0F8\"},\"line\":{\"color\":\"white\"}},\"header\":{\"fill\":{\"color\":\"#C8D4E3\"},\"line\":{\"color\":\"white\"}},\"type\":\"table\"}],\"barpolar\":[{\"marker\":{\"line\":{\"color\":\"#E5ECF6\",\"width\":0.5},\"pattern\":{\"fillmode\":\"overlay\",\"size\":10,\"solidity\":0.2}},\"type\":\"barpolar\"}],\"pie\":[{\"automargin\":true,\"type\":\"pie\"}]},\"layout\":{\"autotypenumbers\":\"strict\",\"colorway\":[\"#636efa\",\"#EF553B\",\"#00cc96\",\"#ab63fa\",\"#FFA15A\",\"#19d3f3\",\"#FF6692\",\"#B6E880\",\"#FF97FF\",\"#FECB52\"],\"font\":{\"color\":\"#2a3f5f\"},\"hovermode\":\"closest\",\"hoverlabel\":{\"align\":\"left\"},\"paper_bgcolor\":\"white\",\"plot_bgcolor\":\"#E5ECF6\",\"polar\":{\"bgcolor\":\"#E5ECF6\",\"angularaxis\":{\"gridcolor\":\"white\",\"linecolor\":\"white\",\"ticks\":\"\"},\"radialaxis\":{\"gridcolor\":\"white\",\"linecolor\":\"white\",\"ticks\":\"\"}},\"ternary\":{\"bgcolor\":\"#E5ECF6\",\"aaxis\":{\"gridcolor\":\"white\",\"linecolor\":\"white\",\"ticks\":\"\"},\"baxis\":{\"gridcolor\":\"white\",\"linecolor\":\"white\",\"ticks\":\"\"},\"caxis\":{\"gridcolor\":\"white\",\"linecolor\":\"white\",\"ticks\":\"\"}},\"coloraxis\":{\"colorbar\":{\"outlinewidth\":0,\"ticks\":\"\"}},\"colorscale\":{\"sequential\":[[0.0,\"#0d0887\"],[0.1111111111111111,\"#46039f\"],[0.2222222222222222,\"#7201a8\"],[0.3333333333333333,\"#9c179e\"],[0.4444444444444444,\"#bd3786\"],[0.5555555555555556,\"#d8576b\"],[0.6666666666666666,\"#ed7953\"],[0.7777777777777778,\"#fb9f3a\"],[0.8888888888888888,\"#fdca26\"],[1.0,\"#f0f921\"]],\"sequentialminus\":[[0.0,\"#0d0887\"],[0.1111111111111111,\"#46039f\"],[0.2222222222222222,\"#7201a8\"],[0.3333333333333333,\"#9c179e\"],[0.4444444444444444,\"#bd3786\"],[0.5555555555555556,\"#d8576b\"],[0.6666666666666666,\"#ed7953\"],[0.7777777777777778,\"#fb9f3a\"],[0.8888888888888888,\"#fdca26\"],[1.0,\"#f0f921\"]],\"diverging\":[[0,\"#8e0152\"],[0.1,\"#c51b7d\"],[0.2,\"#de77ae\"],[0.3,\"#f1b6da\"],[0.4,\"#fde0ef\"],[0.5,\"#f7f7f7\"],[0.6,\"#e6f5d0\"],[0.7,\"#b8e186\"],[0.8,\"#7fbc41\"],[0.9,\"#4d9221\"],[1,\"#276419\"]]},\"xaxis\":{\"gridcolor\":\"white\",\"linecolor\":\"white\",\"ticks\":\"\",\"title\":{\"standoff\":15},\"zerolinecolor\":\"white\",\"automargin\":true,\"zerolinewidth\":2},\"yaxis\":{\"gridcolor\":\"white\",\"linecolor\":\"white\",\"ticks\":\"\",\"title\":{\"standoff\":15},\"zerolinecolor\":\"white\",\"automargin\":true,\"zerolinewidth\":2},\"scene\":{\"xaxis\":{\"backgroundcolor\":\"#E5ECF6\",\"gridcolor\":\"white\",\"linecolor\":\"white\",\"showbackground\":true,\"ticks\":\"\",\"zerolinecolor\":\"white\",\"gridwidth\":2},\"yaxis\":{\"backgroundcolor\":\"#E5ECF6\",\"gridcolor\":\"white\",\"linecolor\":\"white\",\"showbackground\":true,\"ticks\":\"\",\"zerolinecolor\":\"white\",\"gridwidth\":2},\"zaxis\":{\"backgroundcolor\":\"#E5ECF6\",\"gridcolor\":\"white\",\"linecolor\":\"white\",\"showbackground\":true,\"ticks\":\"\",\"zerolinecolor\":\"white\",\"gridwidth\":2}},\"shapedefaults\":{\"line\":{\"color\":\"#2a3f5f\"}},\"annotationdefaults\":{\"arrowcolor\":\"#2a3f5f\",\"arrowhead\":0,\"arrowwidth\":1},\"geo\":{\"bgcolor\":\"white\",\"landcolor\":\"#E5ECF6\",\"subunitcolor\":\"white\",\"showland\":true,\"showlakes\":true,\"lakecolor\":\"white\"},\"title\":{\"x\":0.05},\"mapbox\":{\"style\":\"light\"}}},\"width\":1200,\"height\":800,\"showlegend\":false},                        {\"responsive\": true}                    ).then(function(){\n",
       "                            \n",
       "var gd = document.getElementById('60885e4b-3319-497e-9374-076ca3b65251');\n",
       "var x = new MutationObserver(function (mutations, observer) {{\n",
       "        var display = window.getComputedStyle(gd).display;\n",
       "        if (!display || display === 'none') {{\n",
       "            console.log([gd, 'removed!']);\n",
       "            Plotly.purge(gd);\n",
       "            observer.disconnect();\n",
       "        }}\n",
       "}});\n",
       "\n",
       "// Listen for the removal of the full notebook cells\n",
       "var notebookContainer = gd.closest('#notebook-container');\n",
       "if (notebookContainer) {{\n",
       "    x.observe(notebookContainer, {childList: true});\n",
       "}}\n",
       "\n",
       "// Listen for the clearing of the current output cell\n",
       "var outputEl = gd.closest('.output');\n",
       "if (outputEl) {{\n",
       "    x.observe(outputEl, {childList: true});\n",
       "}}\n",
       "\n",
       "                        })                };                });            </script>        </div>"
      ]
     },
     "metadata": {},
     "output_type": "display_data"
    },
    {
     "data": {
      "text/html": [
       "        <script type=\"text/javascript\">\n",
       "        window.PlotlyConfig = {MathJaxConfig: 'local'};\n",
       "        if (window.MathJax && window.MathJax.Hub && window.MathJax.Hub.Config) {window.MathJax.Hub.Config({SVG: {font: \"STIX-Web\"}});}\n",
       "        if (typeof require !== 'undefined') {\n",
       "        require.undef(\"plotly\");\n",
       "        requirejs.config({\n",
       "            paths: {\n",
       "                'plotly': ['https://cdn.plot.ly/plotly-2.18.2.min']\n",
       "            }\n",
       "        });\n",
       "        require(['plotly'], function(Plotly) {\n",
       "            window._Plotly = Plotly;\n",
       "        });\n",
       "        }\n",
       "        </script>\n",
       "        "
      ]
     },
     "metadata": {},
     "output_type": "display_data"
    },
    {
     "data": {
      "text/html": [
       "<div>                            <div id=\"8e330ae6-2929-42e2-b2d6-7276c5adeed2\" class=\"plotly-graph-div\" style=\"height:800px; width:1200px;\"></div>            <script type=\"text/javascript\">                require([\"plotly\"], function(Plotly) {                    window.PLOTLYENV=window.PLOTLYENV || {};                                    if (document.getElementById(\"8e330ae6-2929-42e2-b2d6-7276c5adeed2\")) {                    Plotly.newPlot(                        \"8e330ae6-2929-42e2-b2d6-7276c5adeed2\",                        [{\"marker\":{\"color\":\"black\"},\"x\":[-29.880646898378075,-106.0132132],\"y\":[-8.757599103801436,89.40781657],\"type\":\"scatter\"},{\"marker\":{\"color\":\"red\"},\"mode\":\"markers\",\"name\":\"Trees covered by line 0\",\"x\":[-102.7610669,-106.9293573,-107.9110969,-110.3984335,-106.0132132,-115.0619992,-108.786355,-114.5846122,-110.2887047,-103.1629812,-105.839508,-107.0136188,-102.8911694,-104.5151239,-105.2474193,-111.0155589,-110.4334077,-109.0691822,-113.8496183,-115.6880358,-116.3580906,-114.450469,-115.5839619,-113.9290292],\"y\":[77.77472,80.351252,82.70909714,75.82409401,89.40781657,85.04506755,77.02719052,82.96372814,86.10765266,85.29616635,86.49467744,95.28771062,86.20745338,87.68086518,97.1181028,90.92524233,96.00547745,82.99614333,87.2107575,80.37969702,88.860498,91.64478486,78.43012638,85.41514138],\"type\":\"scatter\"},{\"marker\":{\"color\":\"black\"},\"x\":[-15.12792573,-29.880646898378075],\"y\":[-26.16056076,-8.757599103801436],\"type\":\"scatter\"},{\"marker\":{\"color\":\"black\"},\"x\":[5.750624681,-29.880646898378075],\"y\":[-23.50333184,-8.757599103801436],\"type\":\"scatter\"},{\"marker\":{\"color\":\"black\"},\"x\":[-22.92090482,-29.880646898378075],\"y\":[-30.73934474,-8.757599103801436],\"type\":\"scatter\"},{\"marker\":{\"color\":\"black\"},\"x\":[-83.54479257],\"y\":[57.81202571],\"type\":\"scatter\"},{\"marker\":{\"color\":\"black\"},\"x\":[-28.09774993774453,-96.73072895],\"y\":[-7.853619242961038,98.53306229],\"type\":\"scatter\"},{\"marker\":{\"color\":\"blue\"},\"mode\":\"markers\",\"name\":\"Trees covered by line 1\",\"x\":[-83.48467459,-88.19360784,-93.90127238,-97.02245733,-96.73072895,-96.22606223,-98.31843957,-95.55933733,-95.6665854,-100.4964897],\"y\":[95.86970097,98.34736686,85.11919619,88.54954267,98.53306229,100.1307978,100.5692092,104.3161573,102.4783549,96.3416446],\"type\":\"scatter\"},{\"marker\":{\"color\":\"black\"},\"x\":[-15.12792573,-28.09774993774453],\"y\":[-26.16056076,-7.853619242961038],\"type\":\"scatter\"},{\"marker\":{\"color\":\"black\"},\"x\":[5.750624681,-28.09774993774453],\"y\":[-23.50333184,-7.853619242961038],\"type\":\"scatter\"},{\"marker\":{\"color\":\"black\"},\"x\":[-22.92090482,-28.09774993774453],\"y\":[-30.73934474,-7.853619242961038],\"type\":\"scatter\"},{\"marker\":{\"color\":\"black\"},\"x\":[],\"y\":[],\"type\":\"scatter\"},{\"marker\":{\"color\":\"black\"},\"x\":[-26.335098015859195,-85.630951],\"y\":[-6.90860167578362,113.1640033],\"type\":\"scatter\"},{\"marker\":{\"color\":\"green\"},\"mode\":\"markers\",\"name\":\"Trees covered by line 2\",\"x\":[-89.62130667,-82.7508461,-74.66894341,-85.630951,-90.57745961,-87.31261084,-78.82330588,-72.28254052,-87.83312994,-64.87632182],\"y\":[107.525112,115.3560539,120.7985667,113.1640033,107.7242429,111.5093353,117.612602,123.1188927,111.5008781,130.8051815],\"type\":\"scatter\"},{\"marker\":{\"color\":\"black\"},\"x\":[-15.12792573,-26.335098015859195],\"y\":[-26.16056076,-6.90860167578362],\"type\":\"scatter\"},{\"marker\":{\"color\":\"black\"},\"x\":[5.750624681,-26.335098015859195],\"y\":[-23.50333184,-6.90860167578362],\"type\":\"scatter\"},{\"marker\":{\"color\":\"black\"},\"x\":[-32.07481086,-26.335098015859195],\"y\":[-30.17481,-6.90860167578362],\"type\":\"scatter\"},{\"marker\":{\"color\":\"black\"},\"x\":[],\"y\":[],\"type\":\"scatter\"},{\"marker\":{\"color\":\"black\"},\"x\":[-24.572446093973856,-74.37847497],\"y\":[-5.963584108606202,104.4872907],\"type\":\"scatter\"},{\"marker\":{\"color\":\"orange\"},\"mode\":\"markers\",\"name\":\"Trees covered by line 3\",\"x\":[-77.38716,-74.37847497,-74.12546686,-83.96798843,-83.3753646,-78.26144619,-72.9690587,-79.21758645,-70.18942466,-70.13604975,-69.11292673,-20.01427656,-46.08530939,-39.1687174,-41.69020833,-20.15441667,-30.51452551,-65.84327489,-67.58248429,-65.91586274,-66.154401,-61.06820181,-65.06967068,-64.15900983,-55.91586735,-61.14652818,-60.13371324,-64.44548,-57.75133942,-51.72634937,-54.22529924,-56.03364748,-51.34979148,-57.75406087,-47.45566976,-54.71720264,-48.32035725,-48.23730243,-37.09976663,-37.47195419,-38.754948,-28.88421312,-45.03471145,-52.09936048,-30.53919388,-33.86425279,-42.03635682,-43.77058695,-48.38149441,-33.38285971,-45.35963829,-20.31095449,-30.12933628,-38.2757944,-37.18284862,-26.71358941],\"y\":[105.531576,104.4872907,104.5034411,102.8353679,106.9914629,109.285201,113.7228677,104.8973871,120.3503284,119.873547,121.5114816,149.922979,140.8923356,139.7536376,142.3992175,148.7100133,144.0812844,113.24662,122.3045443,122.5960266,118.6669428,129.0447034,116.4094181,119.7839872,136.2810578,132.0985808,135.6421414,123.662627,129.7407148,139.1805794,132.3293989,131.1800298,136.4680276,135.4419983,141.6323199,138.5854925,139.9950704,134.702649,143.2286398,144.5117223,141.452916,149.7437673,135.7886081,129.4302928,148.8980511,147.9375081,145.0488265,142.5344245,130.5650093,144.4892955,129.9263817,155.2269872,150.6443552,147.5998112,141.5735606,150.2932019],\"type\":\"scatter\"},{\"marker\":{\"color\":\"black\"},\"x\":[-15.12792573,-24.572446093973856],\"y\":[-26.16056076,-5.963584108606202],\"type\":\"scatter\"},{\"marker\":{\"color\":\"black\"},\"x\":[5.750624681,-24.572446093973856],\"y\":[-23.50333184,-5.963584108606202],\"type\":\"scatter\"},{\"marker\":{\"color\":\"black\"},\"x\":[-22.92090482,-24.572446093973856],\"y\":[-30.73934474,-5.963584108606202],\"type\":\"scatter\"},{\"marker\":{\"color\":\"black\"},\"x\":[],\"y\":[],\"type\":\"scatter\"}],                        {\"template\":{\"data\":{\"histogram2dcontour\":[{\"type\":\"histogram2dcontour\",\"colorbar\":{\"outlinewidth\":0,\"ticks\":\"\"},\"colorscale\":[[0.0,\"#0d0887\"],[0.1111111111111111,\"#46039f\"],[0.2222222222222222,\"#7201a8\"],[0.3333333333333333,\"#9c179e\"],[0.4444444444444444,\"#bd3786\"],[0.5555555555555556,\"#d8576b\"],[0.6666666666666666,\"#ed7953\"],[0.7777777777777778,\"#fb9f3a\"],[0.8888888888888888,\"#fdca26\"],[1.0,\"#f0f921\"]]}],\"choropleth\":[{\"type\":\"choropleth\",\"colorbar\":{\"outlinewidth\":0,\"ticks\":\"\"}}],\"histogram2d\":[{\"type\":\"histogram2d\",\"colorbar\":{\"outlinewidth\":0,\"ticks\":\"\"},\"colorscale\":[[0.0,\"#0d0887\"],[0.1111111111111111,\"#46039f\"],[0.2222222222222222,\"#7201a8\"],[0.3333333333333333,\"#9c179e\"],[0.4444444444444444,\"#bd3786\"],[0.5555555555555556,\"#d8576b\"],[0.6666666666666666,\"#ed7953\"],[0.7777777777777778,\"#fb9f3a\"],[0.8888888888888888,\"#fdca26\"],[1.0,\"#f0f921\"]]}],\"heatmap\":[{\"type\":\"heatmap\",\"colorbar\":{\"outlinewidth\":0,\"ticks\":\"\"},\"colorscale\":[[0.0,\"#0d0887\"],[0.1111111111111111,\"#46039f\"],[0.2222222222222222,\"#7201a8\"],[0.3333333333333333,\"#9c179e\"],[0.4444444444444444,\"#bd3786\"],[0.5555555555555556,\"#d8576b\"],[0.6666666666666666,\"#ed7953\"],[0.7777777777777778,\"#fb9f3a\"],[0.8888888888888888,\"#fdca26\"],[1.0,\"#f0f921\"]]}],\"heatmapgl\":[{\"type\":\"heatmapgl\",\"colorbar\":{\"outlinewidth\":0,\"ticks\":\"\"},\"colorscale\":[[0.0,\"#0d0887\"],[0.1111111111111111,\"#46039f\"],[0.2222222222222222,\"#7201a8\"],[0.3333333333333333,\"#9c179e\"],[0.4444444444444444,\"#bd3786\"],[0.5555555555555556,\"#d8576b\"],[0.6666666666666666,\"#ed7953\"],[0.7777777777777778,\"#fb9f3a\"],[0.8888888888888888,\"#fdca26\"],[1.0,\"#f0f921\"]]}],\"contourcarpet\":[{\"type\":\"contourcarpet\",\"colorbar\":{\"outlinewidth\":0,\"ticks\":\"\"}}],\"contour\":[{\"type\":\"contour\",\"colorbar\":{\"outlinewidth\":0,\"ticks\":\"\"},\"colorscale\":[[0.0,\"#0d0887\"],[0.1111111111111111,\"#46039f\"],[0.2222222222222222,\"#7201a8\"],[0.3333333333333333,\"#9c179e\"],[0.4444444444444444,\"#bd3786\"],[0.5555555555555556,\"#d8576b\"],[0.6666666666666666,\"#ed7953\"],[0.7777777777777778,\"#fb9f3a\"],[0.8888888888888888,\"#fdca26\"],[1.0,\"#f0f921\"]]}],\"surface\":[{\"type\":\"surface\",\"colorbar\":{\"outlinewidth\":0,\"ticks\":\"\"},\"colorscale\":[[0.0,\"#0d0887\"],[0.1111111111111111,\"#46039f\"],[0.2222222222222222,\"#7201a8\"],[0.3333333333333333,\"#9c179e\"],[0.4444444444444444,\"#bd3786\"],[0.5555555555555556,\"#d8576b\"],[0.6666666666666666,\"#ed7953\"],[0.7777777777777778,\"#fb9f3a\"],[0.8888888888888888,\"#fdca26\"],[1.0,\"#f0f921\"]]}],\"mesh3d\":[{\"type\":\"mesh3d\",\"colorbar\":{\"outlinewidth\":0,\"ticks\":\"\"}}],\"scatter\":[{\"fillpattern\":{\"fillmode\":\"overlay\",\"size\":10,\"solidity\":0.2},\"type\":\"scatter\"}],\"parcoords\":[{\"type\":\"parcoords\",\"line\":{\"colorbar\":{\"outlinewidth\":0,\"ticks\":\"\"}}}],\"scatterpolargl\":[{\"type\":\"scatterpolargl\",\"marker\":{\"colorbar\":{\"outlinewidth\":0,\"ticks\":\"\"}}}],\"bar\":[{\"error_x\":{\"color\":\"#2a3f5f\"},\"error_y\":{\"color\":\"#2a3f5f\"},\"marker\":{\"line\":{\"color\":\"#E5ECF6\",\"width\":0.5},\"pattern\":{\"fillmode\":\"overlay\",\"size\":10,\"solidity\":0.2}},\"type\":\"bar\"}],\"scattergeo\":[{\"type\":\"scattergeo\",\"marker\":{\"colorbar\":{\"outlinewidth\":0,\"ticks\":\"\"}}}],\"scatterpolar\":[{\"type\":\"scatterpolar\",\"marker\":{\"colorbar\":{\"outlinewidth\":0,\"ticks\":\"\"}}}],\"histogram\":[{\"marker\":{\"pattern\":{\"fillmode\":\"overlay\",\"size\":10,\"solidity\":0.2}},\"type\":\"histogram\"}],\"scattergl\":[{\"type\":\"scattergl\",\"marker\":{\"colorbar\":{\"outlinewidth\":0,\"ticks\":\"\"}}}],\"scatter3d\":[{\"type\":\"scatter3d\",\"line\":{\"colorbar\":{\"outlinewidth\":0,\"ticks\":\"\"}},\"marker\":{\"colorbar\":{\"outlinewidth\":0,\"ticks\":\"\"}}}],\"scattermapbox\":[{\"type\":\"scattermapbox\",\"marker\":{\"colorbar\":{\"outlinewidth\":0,\"ticks\":\"\"}}}],\"scatterternary\":[{\"type\":\"scatterternary\",\"marker\":{\"colorbar\":{\"outlinewidth\":0,\"ticks\":\"\"}}}],\"scattercarpet\":[{\"type\":\"scattercarpet\",\"marker\":{\"colorbar\":{\"outlinewidth\":0,\"ticks\":\"\"}}}],\"carpet\":[{\"aaxis\":{\"endlinecolor\":\"#2a3f5f\",\"gridcolor\":\"white\",\"linecolor\":\"white\",\"minorgridcolor\":\"white\",\"startlinecolor\":\"#2a3f5f\"},\"baxis\":{\"endlinecolor\":\"#2a3f5f\",\"gridcolor\":\"white\",\"linecolor\":\"white\",\"minorgridcolor\":\"white\",\"startlinecolor\":\"#2a3f5f\"},\"type\":\"carpet\"}],\"table\":[{\"cells\":{\"fill\":{\"color\":\"#EBF0F8\"},\"line\":{\"color\":\"white\"}},\"header\":{\"fill\":{\"color\":\"#C8D4E3\"},\"line\":{\"color\":\"white\"}},\"type\":\"table\"}],\"barpolar\":[{\"marker\":{\"line\":{\"color\":\"#E5ECF6\",\"width\":0.5},\"pattern\":{\"fillmode\":\"overlay\",\"size\":10,\"solidity\":0.2}},\"type\":\"barpolar\"}],\"pie\":[{\"automargin\":true,\"type\":\"pie\"}]},\"layout\":{\"autotypenumbers\":\"strict\",\"colorway\":[\"#636efa\",\"#EF553B\",\"#00cc96\",\"#ab63fa\",\"#FFA15A\",\"#19d3f3\",\"#FF6692\",\"#B6E880\",\"#FF97FF\",\"#FECB52\"],\"font\":{\"color\":\"#2a3f5f\"},\"hovermode\":\"closest\",\"hoverlabel\":{\"align\":\"left\"},\"paper_bgcolor\":\"white\",\"plot_bgcolor\":\"#E5ECF6\",\"polar\":{\"bgcolor\":\"#E5ECF6\",\"angularaxis\":{\"gridcolor\":\"white\",\"linecolor\":\"white\",\"ticks\":\"\"},\"radialaxis\":{\"gridcolor\":\"white\",\"linecolor\":\"white\",\"ticks\":\"\"}},\"ternary\":{\"bgcolor\":\"#E5ECF6\",\"aaxis\":{\"gridcolor\":\"white\",\"linecolor\":\"white\",\"ticks\":\"\"},\"baxis\":{\"gridcolor\":\"white\",\"linecolor\":\"white\",\"ticks\":\"\"},\"caxis\":{\"gridcolor\":\"white\",\"linecolor\":\"white\",\"ticks\":\"\"}},\"coloraxis\":{\"colorbar\":{\"outlinewidth\":0,\"ticks\":\"\"}},\"colorscale\":{\"sequential\":[[0.0,\"#0d0887\"],[0.1111111111111111,\"#46039f\"],[0.2222222222222222,\"#7201a8\"],[0.3333333333333333,\"#9c179e\"],[0.4444444444444444,\"#bd3786\"],[0.5555555555555556,\"#d8576b\"],[0.6666666666666666,\"#ed7953\"],[0.7777777777777778,\"#fb9f3a\"],[0.8888888888888888,\"#fdca26\"],[1.0,\"#f0f921\"]],\"sequentialminus\":[[0.0,\"#0d0887\"],[0.1111111111111111,\"#46039f\"],[0.2222222222222222,\"#7201a8\"],[0.3333333333333333,\"#9c179e\"],[0.4444444444444444,\"#bd3786\"],[0.5555555555555556,\"#d8576b\"],[0.6666666666666666,\"#ed7953\"],[0.7777777777777778,\"#fb9f3a\"],[0.8888888888888888,\"#fdca26\"],[1.0,\"#f0f921\"]],\"diverging\":[[0,\"#8e0152\"],[0.1,\"#c51b7d\"],[0.2,\"#de77ae\"],[0.3,\"#f1b6da\"],[0.4,\"#fde0ef\"],[0.5,\"#f7f7f7\"],[0.6,\"#e6f5d0\"],[0.7,\"#b8e186\"],[0.8,\"#7fbc41\"],[0.9,\"#4d9221\"],[1,\"#276419\"]]},\"xaxis\":{\"gridcolor\":\"white\",\"linecolor\":\"white\",\"ticks\":\"\",\"title\":{\"standoff\":15},\"zerolinecolor\":\"white\",\"automargin\":true,\"zerolinewidth\":2},\"yaxis\":{\"gridcolor\":\"white\",\"linecolor\":\"white\",\"ticks\":\"\",\"title\":{\"standoff\":15},\"zerolinecolor\":\"white\",\"automargin\":true,\"zerolinewidth\":2},\"scene\":{\"xaxis\":{\"backgroundcolor\":\"#E5ECF6\",\"gridcolor\":\"white\",\"linecolor\":\"white\",\"showbackground\":true,\"ticks\":\"\",\"zerolinecolor\":\"white\",\"gridwidth\":2},\"yaxis\":{\"backgroundcolor\":\"#E5ECF6\",\"gridcolor\":\"white\",\"linecolor\":\"white\",\"showbackground\":true,\"ticks\":\"\",\"zerolinecolor\":\"white\",\"gridwidth\":2},\"zaxis\":{\"backgroundcolor\":\"#E5ECF6\",\"gridcolor\":\"white\",\"linecolor\":\"white\",\"showbackground\":true,\"ticks\":\"\",\"zerolinecolor\":\"white\",\"gridwidth\":2}},\"shapedefaults\":{\"line\":{\"color\":\"#2a3f5f\"}},\"annotationdefaults\":{\"arrowcolor\":\"#2a3f5f\",\"arrowhead\":0,\"arrowwidth\":1},\"geo\":{\"bgcolor\":\"white\",\"landcolor\":\"#E5ECF6\",\"subunitcolor\":\"white\",\"showland\":true,\"showlakes\":true,\"lakecolor\":\"white\"},\"title\":{\"x\":0.05},\"mapbox\":{\"style\":\"light\"}}},\"width\":1200,\"height\":800,\"showlegend\":false},                        {\"responsive\": true}                    ).then(function(){\n",
       "                            \n",
       "var gd = document.getElementById('8e330ae6-2929-42e2-b2d6-7276c5adeed2');\n",
       "var x = new MutationObserver(function (mutations, observer) {{\n",
       "        var display = window.getComputedStyle(gd).display;\n",
       "        if (!display || display === 'none') {{\n",
       "            console.log([gd, 'removed!']);\n",
       "            Plotly.purge(gd);\n",
       "            observer.disconnect();\n",
       "        }}\n",
       "}});\n",
       "\n",
       "// Listen for the removal of the full notebook cells\n",
       "var notebookContainer = gd.closest('#notebook-container');\n",
       "if (notebookContainer) {{\n",
       "    x.observe(notebookContainer, {childList: true});\n",
       "}}\n",
       "\n",
       "// Listen for the clearing of the current output cell\n",
       "var outputEl = gd.closest('.output');\n",
       "if (outputEl) {{\n",
       "    x.observe(outputEl, {childList: true});\n",
       "}}\n",
       "\n",
       "                        })                };                });            </script>        </div>"
      ]
     },
     "metadata": {},
     "output_type": "display_data"
    }
   ],
   "source": [
    "from src.main import plotting_2d\n",
    "\n",
    "reload(plotting_2d)\n",
    "for result in optimization_result_list:\n",
    "    fig = plotting_2d.plot_optimization_layout(result, line_gdf, harvesteable_trees_gdf)\n",
    "    fig.update_layout(showlegend=False)\n",
    "    fig.show(\"notebook_connected\")"
   ]
  },
  {
   "cell_type": "code",
   "execution_count": 100,
   "metadata": {},
   "outputs": [
    {
     "data": {
      "application/vnd.jupyter.widget-view+json": {
       "model_id": "e313ce5295b74cba966919d36d14610e",
       "version_major": 2,
       "version_minor": 0
      },
      "text/plain": [
       "VBox(children=(FigureWidget({\n",
       "    'data': [{'type': 'scatter3d',\n",
       "              'uid': '989a5aef-7499-4a76-9326…"
      ]
     },
     "metadata": {},
     "output_type": "display_data"
    }
   ],
   "source": [
    "reload(plotting_2d)\n",
    "import plotly.graph_objects as go\n",
    "from ipywidgets import VBox\n",
    "\n",
    "f = go.FigureWidget(\n",
    "    go.Scatter3d(\n",
    "        x=results_df[\"sideways_slope_deviations\"],\n",
    "        y=results_df[\"bad_ergonomics_distance\"],\n",
    "        z=results_df[\"overall_profit\"],\n",
    "    )\n",
    ")\n",
    "\n",
    "f.update_layout(\n",
    "    width=1200,\n",
    "    height=800,\n",
    "    title=\"Pareto Frontier\",\n",
    "    xaxis_title=\"Sideways slope deviations\",\n",
    "    yaxis_title=\"bad_ergonomics_distance\",\n",
    "    scene_zaxis_title=\"Overall profit\",\n",
    ")\n",
    "\n",
    "t = go.FigureWidget([])\n",
    "\n",
    "\n",
    "def selection_fn(trace, points, selector):\n",
    "    # get index of this point in the trace\n",
    "    index = points.point_inds[0]\n",
    "\n",
    "    # update the layout plot to show this result\n",
    "    t.data = []\n",
    "    #\n",
    "    t.add_traces(\n",
    "        list(\n",
    "            plotting_2d.plot_optimization_layout(\n",
    "                optimization_result_list[index], line_gdf, harvesteable_trees_gdf\n",
    "            ).data\n",
    "        )\n",
    "    )\n",
    "\n",
    "    t.update_layout(title=optimization_result_list[index].name)\n",
    "\n",
    "\n",
    "t.update_layout(width=1200, height=800)\n",
    "f.data[0].on_click(selection_fn)\n",
    "VBox((f, t))"
   ]
  },
  {
   "cell_type": "markdown",
   "metadata": {},
   "source": [
    "#### Interactive CR Selection\n"
   ]
  },
  {
   "cell_type": "code",
   "execution_count": 77,
   "metadata": {},
   "outputs": [
    {
     "data": {
      "application/vnd.jupyter.widget-view+json": {
       "model_id": "26b23d450ddc4e1a9ed6bb802a6784c9",
       "version_major": 2,
       "version_minor": 0
      },
      "text/plain": [
       "VBox(children=(FigureWidget({\n",
       "    'data': [{'line': {'color': 'lightgrey'},\n",
       "              'mode': 'lines',\n",
       "   …"
      ]
     },
     "metadata": {},
     "output_type": "display_data"
    }
   ],
   "source": [
    "import plotly.graph_objs as go\n",
    "import plotly.offline as py\n",
    "\n",
    "import pandas as pd\n",
    "import numpy as np\n",
    "from ipywidgets import VBox\n",
    "\n",
    "from random import random\n",
    "\n",
    "# create a trace for the trees\n",
    "xs, ys = zip(*[(row.xy[0][0], row.xy[1][0]) for row in harvesteable_trees_gdf.geometry])\n",
    "trees = go.Scatter(\n",
    "    x=xs,\n",
    "    y=ys,\n",
    "    mode=\"markers\",\n",
    "    marker=dict(color=\"green\"),\n",
    "    name=\"trees\",\n",
    ")\n",
    "\n",
    "# Create traces for each line\n",
    "individual_lines = [\n",
    "    go.Scatter(\n",
    "        x=np.asarray(row.geometry.xy[0]) + random(),\n",
    "        y=np.asarray(row.geometry.xy[1]) + random(),\n",
    "        mode=\"lines\",\n",
    "        line=dict(color=\"lightgrey\"),\n",
    "        name=str(id),\n",
    "    )\n",
    "    for id, row in line_gdf.iterrows()\n",
    "]\n",
    "\n",
    "# create a figure from all individual scatter lines\n",
    "f = go.FigureWidget([*individual_lines, trees])\n",
    "f.update_layout(\n",
    "    width=2000,\n",
    "    height=1800,\n",
    ")\n",
    "\n",
    "\n",
    "# create the onclick function to select new CRs\n",
    "def selection_fn(trace, points, selector):\n",
    "    # since the handler is activated for all lines, test if this one has coordinates, ie. is the clicked line\n",
    "    if points.xs:\n",
    "        if trace.line.color == \"black\":\n",
    "            f.update_traces(line=dict(color=\"lightgrey\"), selector={\"name\": trace.name})\n",
    "        elif trace.line.color == \"lightgrey\":\n",
    "            # update this trace to turn black\n",
    "            f.update_traces(line=dict(color=\"black\"), selector={\"name\": trace.name})\n",
    "\n",
    "        # get all active traces\n",
    "        active_traces = f.select_traces(selector={\"line.color\": \"black\"})\n",
    "        active_traces_names = [int(trace.name) for trace in active_traces]\n",
    "\n",
    "        # set the dataframe rows to show only these CRs\n",
    "        t.data[0].cells.values = [df[df.index.isin(active_traces_names)]]\n",
    "        # and update the dataframe showing the computed costs\n",
    "        c.data[0].cells.values, test = update_layout_cost_df(active_traces_names)\n",
    "\n",
    "\n",
    "# add the onclick function to all traces\n",
    "for trace in f.data:\n",
    "    trace.on_click(selection_fn)\n",
    "\n",
    "# create a dataframe and push it to a figurewidget to display details about our selected lines\n",
    "df = line_gdf[[\"line_cost\", \"line_length\"]]\n",
    "t = go.FigureWidget([go.Table(header=dict(values=df.columns), cells=dict(values=[df]))])\n",
    "\n",
    "cost_gdf = pd.DataFrame(\n",
    "    columns=[\"Tree_to_line_distance\", \"Productivity_cost\", \"Line_cost\", \"Profit\"]\n",
    ")\n",
    "c = go.FigureWidget(\n",
    "    [go.Table(header=dict(values=cost_gdf.columns), cells=dict(values=[cost_gdf]))]\n",
    ")\n",
    "\n",
    "\n",
    "def update_layout_cost_df(indices):\n",
    "    rot_line_gdf = line_gdf[line_gdf.index.isin(indices)]\n",
    "\n",
    "    # Create a matrix with the distance between every tree and line and the distance between the support (beginning of the CR) and the carriage (cloests point on the CR to the tree)\n",
    "    (\n",
    "        distance_tree_line,\n",
    "        distance_carriage_support,\n",
    "    ) = geometry_operations.compute_distances_facilities_clients(\n",
    "        harvesteable_trees_gdf, rot_line_gdf\n",
    "    )\n",
    "\n",
    "    # assign all trees to their closest line\n",
    "    try:\n",
    "        tree_to_line_assignment = np.argmin(distance_tree_line, axis=1)\n",
    "\n",
    "        # compute the distance of each tree to its assigned line\n",
    "        distance_trees_to_lines = sum(\n",
    "            distance_tree_line[\n",
    "                range(len(tree_to_line_assignment)), tree_to_line_assignment\n",
    "            ]\n",
    "        )\n",
    "    except:\n",
    "        tree_to_line_assignment = [1 for i in range(len(distance_tree_line))]\n",
    "        distance_trees_to_lines = sum(distance_tree_line)\n",
    "\n",
    "    # compute the productivity cost\n",
    "    productivity_cost_overall = np.sum(\n",
    "        lscp_model_list[0].productivity_cost[\n",
    "            range(len(tree_to_line_assignment)), tree_to_line_assignment\n",
    "        ]\n",
    "    )\n",
    "\n",
    "    print(indices)\n",
    "    line_cost = sum(rot_line_gdf[\"line_cost\"])\n",
    "    return [\n",
    "        distance_trees_to_lines,\n",
    "        productivity_cost_overall,\n",
    "        line_cost,\n",
    "        63025 - productivity_cost_overall,\n",
    "        tree_to_line_assignment,\n",
    "    ]\n",
    "\n",
    "\n",
    "# Put everything together in a VBox\n",
    "VBox((f, t, c))"
   ]
  },
  {
   "cell_type": "code",
   "execution_count": 119,
   "metadata": {},
   "outputs": [
    {
     "name": "stdout",
     "output_type": "stream",
     "text": [
      "[32, 59, 71]\n",
      "Profit baseline is 62091.53735670836\n"
     ]
    },
    {
     "data": {
      "text/html": [
       "<div>\n",
       "<style scoped>\n",
       "    .dataframe tbody tr th:only-of-type {\n",
       "        vertical-align: middle;\n",
       "    }\n",
       "\n",
       "    .dataframe tbody tr th {\n",
       "        vertical-align: top;\n",
       "    }\n",
       "\n",
       "    .dataframe thead th {\n",
       "        text-align: right;\n",
       "    }\n",
       "</style>\n",
       "<table border=\"1\" class=\"dataframe\">\n",
       "  <thead>\n",
       "    <tr style=\"text-align: right;\">\n",
       "      <th></th>\n",
       "      <th>Total distance of trees to cable roads</th>\n",
       "      <th>Productivity cost per m3 as per Stampfer</th>\n",
       "      <th>Total distance from carriage to support</th>\n",
       "      <th>overall_profit</th>\n",
       "      <th>cable_road_costs</th>\n",
       "      <th>profit_comparison</th>\n",
       "      <th>name</th>\n",
       "      <th>sideways_slope_deviations</th>\n",
       "      <th>bad_ergonomics_distance</th>\n",
       "    </tr>\n",
       "  </thead>\n",
       "  <tbody>\n",
       "    <tr>\n",
       "      <th>0</th>\n",
       "      <td>5285.048891</td>\n",
       "      <td>4268.784147</td>\n",
       "      <td>45026.320343</td>\n",
       "      <td>62091.537357</td>\n",
       "      <td>1740.761392</td>\n",
       "      <td>0.0</td>\n",
       "      <td>expert_layout</td>\n",
       "      <td>396.377049</td>\n",
       "      <td>66704.044495</td>\n",
       "    </tr>\n",
       "  </tbody>\n",
       "</table>\n",
       "</div>"
      ],
      "text/plain": [
       "   Total distance of trees to cable roads  \\\n",
       "0                             5285.048891   \n",
       "\n",
       "   Productivity cost per m3 as per Stampfer  \\\n",
       "0                               4268.784147   \n",
       "\n",
       "   Total distance from carriage to support  overall_profit  cable_road_costs  \\\n",
       "0                             45026.320343    62091.537357       1740.761392   \n",
       "\n",
       "   profit_comparison           name  sideways_slope_deviations  \\\n",
       "0                0.0  expert_layout                 396.377049   \n",
       "\n",
       "   bad_ergonomics_distance  \n",
       "0             66704.044495  "
      ]
     },
     "execution_count": 119,
     "metadata": {},
     "output_type": "execute_result"
    }
   ],
   "source": [
    "reload(plotting_2d)\n",
    "\n",
    "## Computing cost of Christophs layout\n",
    "\n",
    "selected_lines = [32, 59, 71]\n",
    "a, b, c, d, e = update_layout_cost_df(selected_lines)\n",
    "\n",
    "fac2cli = [[] for i in range(len(line_gdf))]\n",
    "for index, val in enumerate(e):\n",
    "    fac2cli[selected_lines[val]].append(index)\n",
    "\n",
    "expert_df_1 = plotting_2d.expert_results_extraction(\n",
    "    fac2cli,\n",
    "    line_gdf,\n",
    "    sample_model.aij,\n",
    "    distance_carriage_support,\n",
    "    sample_model.productivity_cost,\n",
    "    tree_volumes_list,\n",
    "    sample_model.sideways_slope_deviations_per_cable_road,\n",
    "    sample_model.ergonomic_penalty_lateral_distances,\n",
    "    \"expert_layout\",\n",
    ")\n",
    "\n",
    "expert_df_1"
   ]
  },
  {
   "cell_type": "code",
   "execution_count": 117,
   "metadata": {},
   "outputs": [
    {
     "name": "stdout",
     "output_type": "stream",
     "text": [
      "[30, 37]\n",
      "Profit baseline is 61938.02227946889\n"
     ]
    },
    {
     "data": {
      "text/html": [
       "<div>\n",
       "<style scoped>\n",
       "    .dataframe tbody tr th:only-of-type {\n",
       "        vertical-align: middle;\n",
       "    }\n",
       "\n",
       "    .dataframe tbody tr th {\n",
       "        vertical-align: top;\n",
       "    }\n",
       "\n",
       "    .dataframe thead th {\n",
       "        text-align: right;\n",
       "    }\n",
       "</style>\n",
       "<table border=\"1\" class=\"dataframe\">\n",
       "  <thead>\n",
       "    <tr style=\"text-align: right;\">\n",
       "      <th></th>\n",
       "      <th>Total distance of trees to cable roads</th>\n",
       "      <th>Productivity cost per m3 as per Stampfer</th>\n",
       "      <th>Total distance from carriage to support</th>\n",
       "      <th>overall_profit</th>\n",
       "      <th>cable_road_costs</th>\n",
       "      <th>profit_comparison</th>\n",
       "      <th>name</th>\n",
       "      <th>sideways_slope_deviations</th>\n",
       "      <th>bad_ergonomics_distance</th>\n",
       "    </tr>\n",
       "  </thead>\n",
       "  <tbody>\n",
       "    <tr>\n",
       "      <th>0</th>\n",
       "      <td>7927.307317</td>\n",
       "      <td>4422.299225</td>\n",
       "      <td>45421.926804</td>\n",
       "      <td>61938.022279</td>\n",
       "      <td>1160.394259</td>\n",
       "      <td>0.0</td>\n",
       "      <td>expert_layout</td>\n",
       "      <td>264.050473</td>\n",
       "      <td>38082.1076</td>\n",
       "    </tr>\n",
       "  </tbody>\n",
       "</table>\n",
       "</div>"
      ],
      "text/plain": [
       "   Total distance of trees to cable roads  \\\n",
       "0                             7927.307317   \n",
       "\n",
       "   Productivity cost per m3 as per Stampfer  \\\n",
       "0                               4422.299225   \n",
       "\n",
       "   Total distance from carriage to support  overall_profit  cable_road_costs  \\\n",
       "0                             45421.926804    61938.022279       1160.394259   \n",
       "\n",
       "   profit_comparison           name  sideways_slope_deviations  \\\n",
       "0                0.0  expert_layout                 264.050473   \n",
       "\n",
       "   bad_ergonomics_distance  \n",
       "0               38082.1076  "
      ]
     },
     "execution_count": 117,
     "metadata": {},
     "output_type": "execute_result"
    }
   ],
   "source": [
    "reload(plotting_2d)\n",
    "\n",
    "## Computing cost of Christophs layout\n",
    "\n",
    "selected_lines = [30, 37]\n",
    "a, b, c, d, e = update_layout_cost_df(selected_lines)\n",
    "\n",
    "fac2cli = [[] for i in range(len(line_gdf))]\n",
    "for index, val in enumerate(e):\n",
    "    fac2cli[selected_lines[val]].append(index)\n",
    "\n",
    "expert_df_2 = plotting_2d.expert_results_extraction(\n",
    "    fac2cli,\n",
    "    line_gdf,\n",
    "    sample_model.aij,\n",
    "    distance_carriage_support,\n",
    "    sample_model.productivity_cost,\n",
    "    tree_volumes_list,\n",
    "    sample_model.sideways_slope_deviations_per_cable_road,\n",
    "    sample_model.ergonomic_penalty_lateral_distances,\n",
    "    \"expert_layout\",\n",
    ")\n",
    "\n",
    "expert_df_2"
   ]
  },
  {
   "cell_type": "code",
   "execution_count": 120,
   "metadata": {},
   "outputs": [
    {
     "data": {
      "text/html": [
       "<div>\n",
       "<style scoped>\n",
       "    .dataframe tbody tr th:only-of-type {\n",
       "        vertical-align: middle;\n",
       "    }\n",
       "\n",
       "    .dataframe tbody tr th {\n",
       "        vertical-align: top;\n",
       "    }\n",
       "\n",
       "    .dataframe thead th {\n",
       "        text-align: right;\n",
       "    }\n",
       "</style>\n",
       "<table border=\"1\" class=\"dataframe\">\n",
       "  <thead>\n",
       "    <tr style=\"text-align: right;\">\n",
       "      <th></th>\n",
       "      <th>Total distance of trees to cable roads</th>\n",
       "      <th>Productivity cost per m3 as per Stampfer</th>\n",
       "      <th>Total distance from carriage to support</th>\n",
       "      <th>overall_profit</th>\n",
       "      <th>cable_road_costs</th>\n",
       "      <th>profit_comparison</th>\n",
       "      <th>name</th>\n",
       "      <th>sideways_slope_deviations</th>\n",
       "      <th>bad_ergonomics_distance</th>\n",
       "    </tr>\n",
       "  </thead>\n",
       "  <tbody>\n",
       "    <tr>\n",
       "      <th>0</th>\n",
       "      <td>5285.048891</td>\n",
       "      <td>4268.784147</td>\n",
       "      <td>45026.320343</td>\n",
       "      <td>62091.537357</td>\n",
       "      <td>1740.761392</td>\n",
       "      <td>0.0</td>\n",
       "      <td>expert_layout</td>\n",
       "      <td>396.377049</td>\n",
       "      <td>66704.044495</td>\n",
       "    </tr>\n",
       "    <tr>\n",
       "      <th>0</th>\n",
       "      <td>7927.307317</td>\n",
       "      <td>4422.299225</td>\n",
       "      <td>45421.926804</td>\n",
       "      <td>61938.022279</td>\n",
       "      <td>1160.394259</td>\n",
       "      <td>0.0</td>\n",
       "      <td>expert_layout</td>\n",
       "      <td>264.050473</td>\n",
       "      <td>38082.107600</td>\n",
       "    </tr>\n",
       "  </tbody>\n",
       "</table>\n",
       "</div>"
      ],
      "text/plain": [
       "   Total distance of trees to cable roads  \\\n",
       "0                             5285.048891   \n",
       "0                             7927.307317   \n",
       "\n",
       "   Productivity cost per m3 as per Stampfer  \\\n",
       "0                               4268.784147   \n",
       "0                               4422.299225   \n",
       "\n",
       "   Total distance from carriage to support  overall_profit  cable_road_costs  \\\n",
       "0                             45026.320343    62091.537357       1740.761392   \n",
       "0                             45421.926804    61938.022279       1160.394259   \n",
       "\n",
       "   profit_comparison           name  sideways_slope_deviations  \\\n",
       "0                0.0  expert_layout                 396.377049   \n",
       "0                0.0  expert_layout                 264.050473   \n",
       "\n",
       "   bad_ergonomics_distance  \n",
       "0             66704.044495  \n",
       "0             38082.107600  "
      ]
     },
     "execution_count": 120,
     "metadata": {},
     "output_type": "execute_result"
    }
   ],
   "source": [
    "expert_df = pd.concat([expert_df_1, expert_df_2])\n",
    "expert_df"
   ]
  }
 ],
 "metadata": {
  "kernelspec": {
   "display_name": "moo_env",
   "language": "python",
   "name": "python3"
  },
  "language_info": {
   "codemirror_mode": {
    "name": "ipython",
    "version": 3
   },
   "file_extension": ".py",
   "mimetype": "text/x-python",
   "name": "python",
   "nbconvert_exporter": "python",
   "pygments_lexer": "ipython3",
   "version": "3.10.12"
  },
  "orig_nbformat": 4
 },
 "nbformat": 4,
 "nbformat_minor": 2
}
