{
 "cells": [
  {
   "cell_type": "code",
   "execution_count": 7,
   "metadata": {},
   "outputs": [
    {
     "data": {
      "text/plain": [
       "[1, 2.0, '3', 4, 5.0, '6', 7, 8.0, '9', 10]"
      ]
     },
     "execution_count": 7,
     "metadata": {},
     "output_type": "execute_result"
    }
   ],
   "source": [
    "def data_type_list(list_to_fill: list, list_target_size: int = 10) -> list:\n",
    "    \"\"\"\n",
    "    Take an empty list and fill it with the following data types in this order:\n",
    "    int, float, str\n",
    "    until list_target_size is reached.\n",
    "\n",
    "    Args:\n",
    "        list_to_fill (list): empty list\n",
    "        list_target_size (int): range of numbers to fill the list with\n",
    "    Returns:\n",
    "        list: filled list\n",
    "    \"\"\"\n",
    "\n",
    "    dtypes = [int, float, str]\n",
    "    for i in range(list_target_size):\n",
    "        list_to_fill.append(dtypes[i % 3](i + 1))\n",
    "\n",
    "    return list_to_fill\n",
    "\n",
    "\n",
    "# check your solution\n",
    "empty_list = []\n",
    "data_type_list(empty_list)\n",
    "# expected result\n",
    "# [1, 2.0, '3', 4, 5.0, '6', 7, 8.0, '9', 10]"
   ]
  },
  {
   "cell_type": "code",
   "execution_count": 31,
   "metadata": {},
   "outputs": [
    {
     "data": {
      "text/plain": [
       "{'integer': [1, 4, 7, 10], 'float': [2.0, 5.0, 8.0], 'string': ['3', '6', '9']}"
      ]
     },
     "execution_count": 31,
     "metadata": {},
     "output_type": "execute_result"
    }
   ],
   "source": [
    "def list_to_dict(list_input: list) -> dict:\n",
    "    \"\"\"\n",
    "    Take a list of integers, floats and strings and convert it into a dictionary with\n",
    "    keys integer, float and string and store the corresponding values in a list.\n",
    "    Args:\n",
    "        list_input (list): list to convert with integers, floats and strings\n",
    "    Returns:\n",
    "        dict_of_lists: dictionary with keys integer, float and string\n",
    "    \"\"\"\n",
    "\n",
    "    dict_of_lists = {\"integer\": [], \"float\": [], \"string\": []}\n",
    "\n",
    "    # barebones solution\n",
    "    for el in list_input:\n",
    "        if type(el) == int:\n",
    "            dict_of_lists[\"integer\"].append(el)\n",
    "        elif type(el) == float:\n",
    "            dict_of_lists[\"float\"].append(el)\n",
    "        elif type(el) == str:\n",
    "            dict_of_lists[\"string\"].append(el)\n",
    "        else:\n",
    "            print(\"Error: unknown type\")\n",
    "\n",
    "    # alternative solution using filter and lambda, which surprisingly is slower\n",
    "    # dict_of_lists[\"string\"] = list(filter(lambda x: type(x) == str, list_input))\n",
    "    # dict_of_lists[\"float\"] = list(filter(lambda x: type(x) == float, list_input))\n",
    "    # dict_of_lists[\"integer\"] = list(filter(lambda x: type(x) == int, list_input))\n",
    "\n",
    "    return dict_of_lists\n",
    "\n",
    "\n",
    "# check your solution\n",
    "a = [1, 2.0, \"3\", 4, 5.0, \"6\", 7, 8.0, \"9\", 10]\n",
    "list_to_dict(a)\n",
    "# expected result\n",
    "# {'integer': [1, 4, 7, 10], 'float': [2.0, 5.0, 8.0], 'string': ['3', '6', '9']}"
   ]
  },
  {
   "cell_type": "code",
   "execution_count": null,
   "metadata": {},
   "outputs": [],
   "source": [
    "Generator example   \n",
    "2 def firstn(n):\n",
    "   3     num = 0\n",
    "   4     while num < n:\n",
    "   5         yield num\n",
    "   6         num += 1\n",
    "   7 \n",
    "   8 sum_of_first_n = sum(firstn(1000000))"
   ]
  },
  {
   "cell_type": "code",
   "execution_count": 34,
   "metadata": {},
   "outputs": [
    {
     "data": {
      "text/plain": [
       "[2, 3, 5, 7, 11, 13, 17, 19, 23, 29]"
      ]
     },
     "execution_count": 34,
     "metadata": {},
     "output_type": "execute_result"
    }
   ],
   "source": [
    "def get_primes(n: int) -> int:\n",
    "    \"\"\"\n",
    "    Find primes up to n, yielding the primes as we go along.\n",
    "    input - Interger n to find primes up to\n",
    "    output - generator object\n",
    "    Args:\n",
    "        n (int): find primes up to n\n",
    "    Returns:\n",
    "        int: prime number\n",
    "    \"\"\"\n",
    "    # set up a mask within in the range\n",
    "    mask = [True for i in range(n)]\n",
    "\n",
    "    # iterate through all unmasked numbers\n",
    "    for num in range(2, n):\n",
    "        candidate = num\n",
    "        if mask[candidate]:\n",
    "            # found a prime number (unmasked so far)\n",
    "            yield candidate\n",
    "            # and mask all multiples of it\n",
    "            for i in range(candidate, n, candidate):\n",
    "                mask[i] = False\n",
    "\n",
    "\n",
    "list(get_primes(30))"
   ]
  },
  {
   "cell_type": "code",
   "execution_count": 37,
   "metadata": {},
   "outputs": [
    {
     "name": "stdout",
     "output_type": "stream",
     "text": [
      "16\n"
     ]
    }
   ],
   "source": [
    "Base2 = \"TTTTCCCCAAAAGGGGTTTTCCCCAAAAGGGGTTTTCCCCAAAAGGGGTTTTCCCCAAAAGGGG\"\n",
    "\n",
    "\n",
    "def count_C(input_string: str, counter=0, char_to_count: str = \"C\") -> int:\n",
    "    \"\"\"\n",
    "    Recusively count the number of C's in a DNA sequence\n",
    "    Args:\n",
    "        input_string (str): DNA sequence\n",
    "        count_from (int): starting position\n",
    "        char_to_count (str): character to count\n",
    "    Returns:\n",
    "        int: number of C's\n",
    "    \"\"\"\n",
    "    # Termination condition\n",
    "    if len(input_string) == 0:\n",
    "        return counter\n",
    "    else:\n",
    "        # Found our character to count\n",
    "        if input_string[0] == char_to_count:\n",
    "            counter += 1\n",
    "        # Recursively call the function with the next character\n",
    "        return count_C(input_string[1:], counter, char_to_count)\n",
    "\n",
    "\n",
    "# check your solution\n",
    "count = count_C(Base2)\n",
    "print(count)\n",
    "# expected reults\n",
    "# 16"
   ]
  },
  {
   "cell_type": "code",
   "execution_count": 39,
   "metadata": {},
   "outputs": [
    {
     "name": "stdout",
     "output_type": "stream",
     "text": [
      "[1, 2, 3, 4, 5]\n"
     ]
    }
   ],
   "source": [
    "def bubble_sort(arr: list[int]) -> list[int]:\n",
    "    \"\"\"\n",
    "    Bubble sorting the input array\n",
    "\n",
    "    Args:\n",
    "        arr (list): input array\n",
    "    Returns:\n",
    "        list: sorted array\n",
    "    \"\"\"\n",
    "    len_arr = len(arr)\n",
    "    for i in range(len_arr):\n",
    "        for j in range(len_arr):\n",
    "            if arr[i] < arr[j]:\n",
    "                arr[i], arr[j] = arr[j], arr[i]\n",
    "\n",
    "    return arr\n",
    "\n",
    "\n",
    "# check your solution\n",
    "arr = [4, 2, 5, 3, 1]\n",
    "bubble_sort(arr)\n",
    "print(arr)\n",
    "# expected result\n",
    "# [1,2,3,4,5]"
   ]
  },
  {
   "cell_type": "code",
   "execution_count": 47,
   "metadata": {},
   "outputs": [],
   "source": [
    "# code taken from:\n",
    "# https://www.geeksforgeeks.org/building-heap-from-array/\n",
    "\n",
    "\n",
    "# To heapify a subtree rooted with node i\n",
    "# which is an index in arr[]. N is size of heap\n",
    "def heapify(arr: list, n: int, i: int) -> list:\n",
    "    \"\"\"\n",
    "    Heapify the input array, ie sorting it in descending order.\n",
    "    Args:\n",
    "        arr (list): input array\n",
    "        n (int): size of heap\n",
    "        i (int): index of root node\n",
    "    Returns:\n",
    "        list: sorted array\n",
    "    \"\"\"\n",
    "    largest = i\n",
    "    # Initialize largest as root\n",
    "    l = 2 * i + 1\n",
    "    # left = 2*i + 1\n",
    "    r = 2 * i + 2\n",
    "    # right = 2*i + 2\n",
    "\n",
    "    # If left child is larger than root\n",
    "    if l < n and arr[l] > arr[largest]:\n",
    "        largest = l\n",
    "\n",
    "    # If right child is larger than largest so far\n",
    "    if r < n and arr[r] > arr[largest]:\n",
    "        largest = r\n",
    "\n",
    "    # If largest is not root\n",
    "    if largest != i:\n",
    "        arr[i], arr[largest] = arr[largest], arr[i]\n",
    "\n",
    "        # Recursively heapify the affected sub-tree\n",
    "        heapify(arr, n, largest)\n",
    "    return arr\n",
    "\n",
    "\n",
    "def buildHeap(arr: list, n: int) -> list:\n",
    "    \"\"\"\n",
    "    Build a heap from an array\n",
    "    Args:\n",
    "        arr (list): input array\n",
    "        n (int): size of heap\n",
    "    Returns:\n",
    "        list: sorted array\n",
    "    \"\"\"\n",
    "    # Index of last non-leaf node\n",
    "    startIdx = n // 2 - 1\n",
    "\n",
    "    # Perform reverse level order traversal\n",
    "    # from last non-leaf node and heapify\n",
    "    # each node\n",
    "    for i in range(startIdx, -1, -1):\n",
    "        heapify(arr, n, i)\n",
    "    return arr"
   ]
  },
  {
   "cell_type": "code",
   "execution_count": 55,
   "metadata": {},
   "outputs": [
    {
     "name": "stdout",
     "output_type": "stream",
     "text": [
      "[-3, -2, 1, 3, 4, 5, 7, 10]\n"
     ]
    }
   ],
   "source": [
    "def heap_sort(input_list: list) -> list:\n",
    "    \"\"\"\n",
    "    Heap sort the input list\n",
    "    Args:\n",
    "        input_list (list): list to sort\n",
    "    Returns:\n",
    "        list: sorted list\n",
    "    \"\"\"\n",
    "\n",
    "    n = len(input_list)\n",
    "    # Initialize heap with the largest item at the root\n",
    "    heapified_list = buildHeap(input_list, n)\n",
    "    # Iterature through the heap from the smallest element on\n",
    "    for i in range(n - 1, 0, -1):\n",
    "        # Swap the largest element with the last element\n",
    "        heapified_list[i], heapified_list[0] = heapified_list[0], heapified_list[i]\n",
    "        # Heapify the new root element\n",
    "        heapified_list = heapify(heapified_list, i, 0)\n",
    "\n",
    "    return heapified_list\n",
    "\n",
    "\n",
    "# check your solution\n",
    "arr = [1, 5, 3, 7, -3, 4, 10, -2]\n",
    "heap_sort(arr)\n",
    "print(arr)\n",
    "# expected result\n",
    "# [-3, -2, 1, 3, 4, 5, 7, 10]"
   ]
  }
 ],
 "metadata": {
  "kernelspec": {
   "display_name": "moo_env",
   "language": "python",
   "name": "python3"
  },
  "language_info": {
   "codemirror_mode": {
    "name": "ipython",
    "version": 3
   },
   "file_extension": ".py",
   "mimetype": "text/x-python",
   "name": "python",
   "nbconvert_exporter": "python",
   "pygments_lexer": "ipython3",
   "version": "3.10.12"
  }
 },
 "nbformat": 4,
 "nbformat_minor": 2
}
