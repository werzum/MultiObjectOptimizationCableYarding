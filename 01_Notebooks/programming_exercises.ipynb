{
 "cells": [
  {
   "cell_type": "code",
   "execution_count": 7,
   "metadata": {},
   "outputs": [
    {
     "data": {
      "text/plain": [
       "[1, 2.0, '3', 4, 5.0, '6', 7, 8.0, '9', 10]"
      ]
     },
     "execution_count": 7,
     "metadata": {},
     "output_type": "execute_result"
    }
   ],
   "source": [
    "def data_type_list(list_to_fill: list, list_target_size: int = 10) -> list:\n",
    "    \"\"\"\n",
    "    Take an empty list and fill it with the following data types in this order:\n",
    "    int, float, str\n",
    "    until list_target_size is reached.\n",
    "\n",
    "    Args:\n",
    "        list_to_fill (list): empty list\n",
    "        list_target_size (int): range of numbers to fill the list with\n",
    "    Returns:\n",
    "        list: filled list\n",
    "    \"\"\"\n",
    "\n",
    "    dtypes = [int, float, str]\n",
    "    for i in range(list_target_size):\n",
    "        list_to_fill.append(dtypes[i % 3](i + 1))\n",
    "\n",
    "    return list_to_fill\n",
    "\n",
    "\n",
    "# check your solution\n",
    "empty_list = []\n",
    "data_type_list(empty_list)\n",
    "# expected result\n",
    "# [1, 2.0, '3', 4, 5.0, '6', 7, 8.0, '9', 10]"
   ]
  },
  {
   "cell_type": "code",
   "execution_count": 31,
   "metadata": {},
   "outputs": [
    {
     "data": {
      "text/plain": [
       "{'integer': [1, 4, 7, 10], 'float': [2.0, 5.0, 8.0], 'string': ['3', '6', '9']}"
      ]
     },
     "execution_count": 31,
     "metadata": {},
     "output_type": "execute_result"
    }
   ],
   "source": [
    "def list_to_dict(list_input: list) -> dict:\n",
    "    \"\"\"\n",
    "    Take a list of integers, floats and strings and convert it into a dictionary with\n",
    "    keys integer, float and string and store the corresponding values in a list.\n",
    "    Args:\n",
    "        list_input (list): list to convert with integers, floats and strings\n",
    "    Returns:\n",
    "        dict_of_lists: dictionary with keys integer, float and string\n",
    "    \"\"\"\n",
    "\n",
    "    dict_of_lists = {\"integer\": [], \"float\": [], \"string\": []}\n",
    "\n",
    "    # barebones solution\n",
    "    for el in list_input:\n",
    "        if type(el) == int:\n",
    "            dict_of_lists[\"integer\"].append(el)\n",
    "        elif type(el) == float:\n",
    "            dict_of_lists[\"float\"].append(el)\n",
    "        elif type(el) == str:\n",
    "            dict_of_lists[\"string\"].append(el)\n",
    "        else:\n",
    "            print(\"Error: unknown type\")\n",
    "\n",
    "    # alternative solution using filter and lambda, which surprisingly is slower\n",
    "    # dict_of_lists[\"string\"] = list(filter(lambda x: type(x) == str, list_input))\n",
    "    # dict_of_lists[\"float\"] = list(filter(lambda x: type(x) == float, list_input))\n",
    "    # dict_of_lists[\"integer\"] = list(filter(lambda x: type(x) == int, list_input))\n",
    "\n",
    "    return dict_of_lists\n",
    "\n",
    "\n",
    "# check your solution\n",
    "a = [1, 2.0, \"3\", 4, 5.0, \"6\", 7, 8.0, \"9\", 10]\n",
    "list_to_dict(a)\n",
    "# expected result\n",
    "# {'integer': [1, 4, 7, 10], 'float': [2.0, 5.0, 8.0], 'string': ['3', '6', '9']}"
   ]
  },
  {
   "cell_type": "code",
   "execution_count": null,
   "metadata": {},
   "outputs": [],
   "source": [
    "Generator example   \n",
    "2 def firstn(n):\n",
    "   3     num = 0\n",
    "   4     while num < n:\n",
    "   5         yield num\n",
    "   6         num += 1\n",
    "   7 \n",
    "   8 sum_of_first_n = sum(firstn(1000000))"
   ]
  },
  {
   "cell_type": "code",
   "execution_count": 34,
   "metadata": {},
   "outputs": [
    {
     "data": {
      "text/plain": [
       "[2, 3, 5, 7, 11, 13, 17, 19, 23, 29]"
      ]
     },
     "execution_count": 34,
     "metadata": {},
     "output_type": "execute_result"
    }
   ],
   "source": [
    "def get_primes(n: int) -> int:\n",
    "    \"\"\"\n",
    "    Find primes up to n, yielding the primes as we go along.\n",
    "    input - Interger n to find primes up to\n",
    "    output - generator object\n",
    "    Args:\n",
    "        n (int): find primes up to n\n",
    "    Returns:\n",
    "        int: prime number\n",
    "    \"\"\"\n",
    "    # set up a mask within in the range\n",
    "    mask = [True for i in range(n)]\n",
    "\n",
    "    # iterate through all unmasked numbers\n",
    "    for num in range(2, n):\n",
    "        candidate = num\n",
    "        if mask[candidate]:\n",
    "            # found a prime number (unmasked so far)\n",
    "            yield candidate\n",
    "            # and mask all multiples of it\n",
    "            for i in range(candidate, n, candidate):\n",
    "                mask[i] = False\n",
    "\n",
    "\n",
    "list(get_primes(30))"
   ]
  },
  {
   "cell_type": "code",
   "execution_count": 37,
   "metadata": {},
   "outputs": [
    {
     "name": "stdout",
     "output_type": "stream",
     "text": [
      "16\n"
     ]
    }
   ],
   "source": [
    "Base2 = \"TTTTCCCCAAAAGGGGTTTTCCCCAAAAGGGGTTTTCCCCAAAAGGGGTTTTCCCCAAAAGGGG\"\n",
    "\n",
    "\n",
    "def count_C(input_string: str, counter=0, char_to_count: str = \"C\") -> int:\n",
    "    \"\"\"\n",
    "    Recusively count the number of C's in a DNA sequence\n",
    "    Args:\n",
    "        input_string (str): DNA sequence\n",
    "        count_from (int): starting position\n",
    "        char_to_count (str): character to count\n",
    "    Returns:\n",
    "        int: number of C's\n",
    "    \"\"\"\n",
    "    # Termination condition\n",
    "    if len(input_string) == 0:\n",
    "        return counter\n",
    "    else:\n",
    "        # Found our character to count\n",
    "        if input_string[0] == char_to_count:\n",
    "            counter += 1\n",
    "        # Recursively call the function with the next character\n",
    "        return count_C(input_string[1:], counter, char_to_count)\n",
    "\n",
    "\n",
    "# check your solution\n",
    "count = count_C(Base2)\n",
    "print(count)\n",
    "# expected reults\n",
    "# 16"
   ]
  },
  {
   "cell_type": "code",
   "execution_count": 39,
   "metadata": {},
   "outputs": [
    {
     "name": "stdout",
     "output_type": "stream",
     "text": [
      "[1, 2, 3, 4, 5]\n"
     ]
    }
   ],
   "source": [
    "def bubble_sort(arr: list[int]) -> list[int]:\n",
    "    \"\"\"\n",
    "    Bubble sorting the input array\n",
    "\n",
    "    Args:\n",
    "        arr (list): input array\n",
    "    Returns:\n",
    "        list: sorted array\n",
    "    \"\"\"\n",
    "    len_arr = len(arr)\n",
    "    for i in range(len_arr):\n",
    "        for j in range(len_arr):\n",
    "            if arr[i] < arr[j]:\n",
    "                arr[i], arr[j] = arr[j], arr[i]\n",
    "\n",
    "    return arr\n",
    "\n",
    "\n",
    "# check your solution\n",
    "arr = [4, 2, 5, 3, 1]\n",
    "bubble_sort(arr)\n",
    "print(arr)\n",
    "# expected result\n",
    "# [1,2,3,4,5]"
   ]
  },
  {
   "cell_type": "code",
   "execution_count": 47,
   "metadata": {},
   "outputs": [],
   "source": [
    "# code taken from:\n",
    "# https://www.geeksforgeeks.org/building-heap-from-array/\n",
    "\n",
    "\n",
    "# To heapify a subtree rooted with node i\n",
    "# which is an index in arr[]. N is size of heap\n",
    "def heapify(arr: list, n: int, i: int) -> list:\n",
    "    \"\"\"\n",
    "    Heapify the input array, ie sorting it in descending order.\n",
    "    Args:\n",
    "        arr (list): input array\n",
    "        n (int): size of heap\n",
    "        i (int): index of root node\n",
    "    Returns:\n",
    "        list: sorted array\n",
    "    \"\"\"\n",
    "    largest = i\n",
    "    # Initialize largest as root\n",
    "    l = 2 * i + 1\n",
    "    # left = 2*i + 1\n",
    "    r = 2 * i + 2\n",
    "    # right = 2*i + 2\n",
    "\n",
    "    # If left child is larger than root\n",
    "    if l < n and arr[l] > arr[largest]:\n",
    "        largest = l\n",
    "\n",
    "    # If right child is larger than largest so far\n",
    "    if r < n and arr[r] > arr[largest]:\n",
    "        largest = r\n",
    "\n",
    "    # If largest is not root\n",
    "    if largest != i:\n",
    "        arr[i], arr[largest] = arr[largest], arr[i]\n",
    "\n",
    "        # Recursively heapify the affected sub-tree\n",
    "        heapify(arr, n, largest)\n",
    "    return arr\n",
    "\n",
    "\n",
    "def buildHeap(arr: list, n: int) -> list:\n",
    "    \"\"\"\n",
    "    Build a heap from an array\n",
    "    Args:\n",
    "        arr (list): input array\n",
    "        n (int): size of heap\n",
    "    Returns:\n",
    "        list: sorted array\n",
    "    \"\"\"\n",
    "    # Index of last non-leaf node\n",
    "    startIdx = n // 2 - 1\n",
    "\n",
    "    # Perform reverse level order traversal\n",
    "    # from last non-leaf node and heapify\n",
    "    # each node\n",
    "    for i in range(startIdx, -1, -1):\n",
    "        heapify(arr, n, i)\n",
    "    return arr"
   ]
  },
  {
   "cell_type": "code",
   "execution_count": 55,
   "metadata": {},
   "outputs": [
    {
     "name": "stdout",
     "output_type": "stream",
     "text": [
      "[-3, -2, 1, 3, 4, 5, 7, 10]\n"
     ]
    }
   ],
   "source": [
    "def heap_sort(input_list: list) -> list:\n",
    "    \"\"\"\n",
    "    Heap sort the input list\n",
    "    Args:\n",
    "        input_list (list): list to sort\n",
    "    Returns:\n",
    "        list: sorted list\n",
    "    \"\"\"\n",
    "\n",
    "    n = len(input_list)\n",
    "    # Initialize heap with the largest item at the root\n",
    "    heapified_list = buildHeap(input_list, n)\n",
    "    # Iterature through the heap from the smallest element on\n",
    "    for i in range(n - 1, 0, -1):\n",
    "        # Swap the largest element with the last element\n",
    "        heapified_list[i], heapified_list[0] = heapified_list[0], heapified_list[i]\n",
    "        # Heapify the new root element\n",
    "        heapified_list = heapify(heapified_list, i, 0)\n",
    "\n",
    "    return heapified_list\n",
    "\n",
    "\n",
    "# check your solution\n",
    "arr = [1, 5, 3, 7, -3, 4, 10, -2]\n",
    "heap_sort(arr)\n",
    "print(arr)\n",
    "# expected result\n",
    "# [-3, -2, 1, 3, 4, 5, 7, 10]"
   ]
  },
  {
   "cell_type": "code",
   "execution_count": 22,
   "metadata": {},
   "outputs": [],
   "source": [
    "import numpy as np\n",
    "from time import time\n",
    "import multiprocessing as mp\n",
    "\n",
    "# Prepare data\n",
    "np.random.RandomState(100)\n",
    "arr = np.random.randint(0, 10, size=[1000, 5])\n",
    "data = arr.tolist()\n",
    "\n",
    "\n",
    "# Input function\n",
    "def howmany_in_between(input_variables):\n",
    "    \"\"\"Returns how many numbers lie within `maximum` and `minimum` in a given `row` (from data above)\n",
    "    i, row = used to enumerate over the data\n",
    "    minimum = int set by user\n",
    "    maximum = int set by user\"\"\"\n",
    "    try:\n",
    "        i, row, minimum, maximum = input_variables\n",
    "        count = 0\n",
    "        for n in row:\n",
    "            if minimum <= n <= maximum:\n",
    "                count = count + 1\n",
    "        return (i, count)\n",
    "    except:\n",
    "        return\n",
    "\n",
    "\n",
    "if __name__ == \"__main__\":\n",
    "    pool = mp.Pool(4)\n",
    "    results = np.zeros(len(data))\n",
    "    min, max = 2, 6\n",
    "    try:\n",
    "        # unzip the resulting list of tuples\n",
    "        indices, result = zip(\n",
    "            *pool.map_async(\n",
    "                # call the function with the input variables for each row in the data\n",
    "                howmany_in_between,\n",
    "                [(i, row, min, max) for i, row in enumerate(data)]\n",
    "                # get the result once finished and save it in a list\n",
    "            ).get()\n",
    "        )\n",
    "        # save the result in the corresponding index\n",
    "        results[list(indices)] = result\n",
    "\n",
    "    except:\n",
    "        pass\n",
    "    pool.close()\n",
    "    pool.join()"
   ]
  },
  {
   "cell_type": "code",
   "execution_count": 27,
   "metadata": {},
   "outputs": [
    {
     "name": "stdout",
     "output_type": "stream",
     "text": [
      "It takes 1.0 milli-seconds to calculate the fibonacci of 100 concurrently\n",
      "Last fib_num 218922995834555169026\n"
     ]
    }
   ],
   "source": [
    "import time\n",
    "\n",
    "\n",
    "def fibonacci_sequence_of(num, flag_print=False):\n",
    "    try:\n",
    "        fib_num = [0, 1]\n",
    "        num = int(num)\n",
    "        if num == 0:\n",
    "            if flag_print:\n",
    "                print(f\"Fibonacci series of the {num} first numbers is {num}\\n\")\n",
    "            return num\n",
    "        elif num == 1:\n",
    "            if flag_print:\n",
    "                print(f\"Fibonacci series of the {num} first numbers is {num}\\n\")\n",
    "            return num\n",
    "        else:\n",
    "            for i in range(num - 2):\n",
    "                fib_num = fib_num[-1], fib_num[-2] + fib_num[-1]\n",
    "            if flag_print:\n",
    "                print(f\"Fibonacci series of the {num} first numbers is {fib_num[-1]}\\n\")\n",
    "            return fib_num[-1]\n",
    "    except:\n",
    "        return\n",
    "\n",
    "\n",
    "if __name__ == \"__main__\":\n",
    "    pool = mp.Pool(4)\n",
    "\n",
    "    N_fibs = 100\n",
    "    input_values = [i + 1 for i in range(N_fibs)]\n",
    "    toc = time.time()\n",
    "    results = pool.map_async(fibonacci_sequence_of, input_values).get()\n",
    "\n",
    "    tic = time.time()\n",
    "    time_taken = round((tic - toc) * 1000, 1)\n",
    "    print(\n",
    "        f\"It takes {time_taken} milli-seconds to calculate the fibonacci of {N_fibs} concurrently\"\n",
    "    )\n",
    "    print(f\"Last fib_num {results[-1]}\")\n",
    "    pool.close()"
   ]
  },
  {
   "cell_type": "code",
   "execution_count": 24,
   "metadata": {},
   "outputs": [
    {
     "name": "stdout",
     "output_type": "stream",
     "text": [
      "It takes 0.0 milli-seconds to calculate the fibonacci of 10 concurrently\n",
      "Last fib_num 34\n"
     ]
    }
   ],
   "source": [
    "import time\n",
    "\n",
    "\n",
    "def fibonacci_sequence_of(num, flag_print=False):\n",
    "    try:\n",
    "        fib_num = [0, 1]\n",
    "        num = int(num)\n",
    "        if num == 0:\n",
    "            if flag_print:\n",
    "                print(f\"Fibonacci series of the {num} first numbers is {num}\\n\")\n",
    "            return num\n",
    "        elif num == 1:\n",
    "            if flag_print:\n",
    "                print(f\"Fibonacci series of the {num} first numbers is {num}\\n\")\n",
    "            return num\n",
    "        else:\n",
    "            for i in range(num - 2):\n",
    "                fib_num = fib_num[-1], fib_num[-2] + fib_num[-1]\n",
    "            if flag_print:\n",
    "                print(f\"Fibonacci series of the {num} first numbers is {fib_num[-1]}\\n\")\n",
    "            return fib_num[-1]\n",
    "    except:\n",
    "        return\n",
    "\n",
    "\n",
    "if __name__ == \"__main__\":\n",
    "    N_fibs = 10\n",
    "    input_values = [i + 1 for i in range(N_fibs)]\n",
    "    toc = time.time()\n",
    "    results = []\n",
    "    for i in input_values:\n",
    "        results.append(fibonacci_sequence_of(i))\n",
    "    tic = time.time()\n",
    "    time_taken = round((tic - toc) * 1000, 1)\n",
    "    print(\n",
    "        f\"It takes {time_taken} milli-seconds to calculate the fibonacci of {N_fibs} concurrently\"\n",
    "    )\n",
    "    print(f\"Last fib_num {results[-1]}\")"
   ]
  },
  {
   "cell_type": "code",
   "execution_count": 33,
   "metadata": {},
   "outputs": [],
   "source": [
    "df = pd.DataFrame(np.random.randint(0, 100, size=(5, 2)), columns=list(\"AB\"))\n",
    "a = [df.iloc[i, :] for i in range(len(df))]"
   ]
  },
  {
   "cell_type": "code",
   "execution_count": 34,
   "metadata": {},
   "outputs": [
    {
     "data": {
      "text/plain": [
       "[A    19\n",
       " B    87\n",
       " Name: 0, dtype: int64,\n",
       " A     6\n",
       " B    72\n",
       " Name: 1, dtype: int64,\n",
       " A     3\n",
       " B    35\n",
       " Name: 2, dtype: int64,\n",
       " A    50\n",
       " B    93\n",
       " Name: 3, dtype: int64,\n",
       " A    78\n",
       " B    53\n",
       " Name: 4, dtype: int64]"
      ]
     },
     "execution_count": 34,
     "metadata": {},
     "output_type": "execute_result"
    }
   ],
   "source": [
    "a"
   ]
  },
  {
   "cell_type": "code",
   "execution_count": 35,
   "metadata": {},
   "outputs": [],
   "source": [
    "import numpy as np\n",
    "import pandas as pd\n",
    "import multiprocessing as mp\n",
    "\n",
    "if __name__ == \"__main__\":\n",
    "    # create random dataframe\n",
    "    df = pd.DataFrame(np.random.randint(0, 100, size=(5, 2)), columns=list(\"AB\"))\n",
    "    pool = mp.Pool(4)\n",
    "    try:\n",
    "        stdves = pool.map_async(\n",
    "            np.std,\n",
    "            [\n",
    "                df.iloc[i, :] for i in range(len(df))\n",
    "            ],  # pass the individual dataframe rows to the function\n",
    "        ).get()\n",
    "        means = pool.map_async(np.mean, [df.iloc[i, :] for i in range(len(df))]).get()\n",
    "    except:\n",
    "        print(\"error\")\n",
    "    pool.close()\n",
    "    pool.join()"
   ]
  },
  {
   "cell_type": "markdown",
   "metadata": {},
   "source": [
    "Inheritance¶\n",
    "\n",
    "Inheritance is very important in terms of code reusability. As you learned in the lecture classes consist out of class variables, constructors, and methods.\n",
    "\n",
    "Create a class \"Polygon\" with a method that takes the number of sides & length of the side as input. In this example, we will go for regular polygons (all sides have the same lengths).\n",
    "\n",
    "Create a second class \"Area_of_polygon\" that inherits from \"Polygon\" and calculates the area within your polygon.\n",
    "\n",
    "Hint: It might be useful to have another class \"Triangle\".\n"
   ]
  },
  {
   "cell_type": "code",
   "execution_count": 8,
   "metadata": {},
   "outputs": [
    {
     "name": "stdout",
     "output_type": "stream",
     "text": [
      "2.752763840942347\n"
     ]
    },
    {
     "data": {
      "text/plain": [
       "27.52763840942347"
      ]
     },
     "execution_count": 8,
     "metadata": {},
     "output_type": "execute_result"
    }
   ],
   "source": [
    "import numpy as np\n",
    "\n",
    "\n",
    "class Polygon:\n",
    "    \"\"\"\n",
    "    Polygon class. Takes number of side and side length of regular polygons.\n",
    "    \"\"\"\n",
    "\n",
    "    def __init__(self):\n",
    "        pass\n",
    "\n",
    "    def inputSideAttributes(self, n, l):\n",
    "        self.n_sides = n\n",
    "        self.length = l\n",
    "\n",
    "\n",
    "class Area_of_polygon(Polygon):\n",
    "    def __init__(self):\n",
    "        # super().__init__(n_sides, length)\n",
    "        pass\n",
    "\n",
    "    def area(self):\n",
    "        apothem = self.length / (2 * np.tan(np.pi / self.n_sides))\n",
    "        print(apothem)\n",
    "        return (self.n_sides * self.length * apothem) / 2\n",
    "\n",
    "\n",
    "aop = Area_of_polygon()\n",
    "aop.inputSideAttributes(5, 4)\n",
    "aop.area()"
   ]
  },
  {
   "cell_type": "code",
   "execution_count": null,
   "metadata": {},
   "outputs": [],
   "source": [
    "# Your output for and pentagon with side length 4 could look like this:\n",
    "#\n",
    "# The apothem of a partial triangle is 2.752763840942347\n",
    "# The area of the triangle is 5.51\n",
    "# The area of the polygon is 27.53\n",
    "#"
   ]
  },
  {
   "cell_type": "markdown",
   "metadata": {},
   "source": [
    "Sorting in linear time\n",
    "\n",
    "Write a function that sorts an array of integers in linear time (counting sort)\n",
    "NOTE:\n",
    "\n",
    "You are not allowed to use any built-in sorting function of python. The sorting code has to be written by you\n"
   ]
  },
  {
   "cell_type": "code",
   "execution_count": 22,
   "metadata": {},
   "outputs": [
    {
     "data": {
      "text/plain": [
       "[1, 1, 2, 2, 3]"
      ]
     },
     "execution_count": 22,
     "metadata": {},
     "output_type": "execute_result"
    }
   ],
   "source": [
    "def counting_sort(a: list[int]) -> list[int]:\n",
    "    \"\"\"\n",
    "    input - list of integers (only numbers [1-10] are allowed)\n",
    "    output - sorted list\n",
    "    \"\"\"\n",
    "    max_val = max(a)\n",
    "    placeholder_array = [0 for i in range(max_val + 1)]\n",
    "    # count the ocurrences of each digit\n",
    "    for i in a:\n",
    "        placeholder_array[i] += 1\n",
    "\n",
    "    # store cumulated count:\n",
    "    for i in range(1, len(placeholder_array)):\n",
    "        placeholder_array[i] += placeholder_array[i - 1]\n",
    "\n",
    "    # sort the array by using the placeholder array to determine the position of each element\n",
    "    sorted_array = [0 for i in range(len(a))]\n",
    "    for i in range(len(a)):\n",
    "        # get the value of the original array\n",
    "        orginal_array_value = a[i]\n",
    "        # get the index of this value in the placeholder array\n",
    "        index_of_this_value = placeholder_array[orginal_array_value] - 1\n",
    "        # store the value in the sorted array\n",
    "        sorted_array[index_of_this_value] = orginal_array_value\n",
    "        # decrease the count in the placeholder array by 1\n",
    "        placeholder_array[orginal_array_value] -= 1\n",
    "\n",
    "    return sorted_array\n",
    "\n",
    "\n",
    "# check your solution\n",
    "a = [1, 2, 3, 1, 2]\n",
    "counting_sort(a)\n",
    "# expected result\n",
    "# [1, 1, 2, 2, 3]"
   ]
  },
  {
   "cell_type": "markdown",
   "metadata": {},
   "source": [
    "Sum all numbers from an unstructured dictionary\n",
    "\n",
    "Sum all numbers from a given input (dictionary of dictionaries with an unknown structure and depth).\n",
    "\n",
    "Input is a dictionary, that contains other dictionaries (that can also contain dictionaries, and so on...). Each of the last level dictionaries (of unknown and different depths) contain numbers.\n",
    "\n",
    "Write a function that calculates the sum of these numbers.\n",
    "NOTE:\n",
    "\n",
    "Each of the dictionaries contains either other dictionaries or numbers\n",
    "Also, keys don't have to be called \"dict_xyz\" or \"num_xyz\", as in the example below\n"
   ]
  },
  {
   "cell_type": "code",
   "execution_count": 25,
   "metadata": {},
   "outputs": [],
   "source": [
    "def sum_numbers(d: dict) -> int:\n",
    "    \"\"\"\n",
    "    input - dict of dicts\n",
    "    output - number (sum)\n",
    "    \"\"\"\n",
    "    cumulative_sum = 0\n",
    "    for key, value in d.items():\n",
    "        if type(value) == dict:\n",
    "            cumulative_sum += sum_numbers(value)\n",
    "        else:\n",
    "            cumulative_sum += value\n",
    "\n",
    "    return cumulative_sum"
   ]
  },
  {
   "cell_type": "code",
   "execution_count": 27,
   "metadata": {},
   "outputs": [
    {
     "data": {
      "text/plain": [
       "1266"
      ]
     },
     "execution_count": 27,
     "metadata": {},
     "output_type": "execute_result"
    }
   ],
   "source": [
    "# check your solution\n",
    "\n",
    "d = {\n",
    "    \"dict_1\": {\"num1\": 100, \"num2\": 20},\n",
    "    \"dict_2\": {\n",
    "        \"dict_2_1\": {\"num1\": 100, \"num2\": 300, \"num3\": 200},\n",
    "        \"dict_2_2\": {\"num1\": 10, \"num2\": 500, \"num3\": 1},\n",
    "        \"dict_2_3\": {\"dict_2_3_1\": {\"num1\": 5}},\n",
    "    },\n",
    "    \"dict_3\": {\"dict_3_1\": {\"num1\": 10, \"num2\": 20}},\n",
    "}\n",
    "\n",
    "sum_numbers(d)\n",
    "\n",
    "# expected result\n",
    "# 31"
   ]
  },
  {
   "cell_type": "markdown",
   "metadata": {},
   "source": [
    "Parallel bootstrapping\n",
    "\n",
    "Parallelize the following bootstrapping function (calculates error estimate based on randomizing the measurement data)\n"
   ]
  },
  {
   "cell_type": "code",
   "execution_count": 2,
   "metadata": {},
   "outputs": [
    {
     "data": {
      "text/plain": [
       "0.24870032539554873"
      ]
     },
     "execution_count": 2,
     "metadata": {},
     "output_type": "execute_result"
    }
   ],
   "source": [
    "# normal code\n",
    "import numpy as np\n",
    "\n",
    "\n",
    "def bootstrap(data, N_resampling=20):\n",
    "    averages = []\n",
    "    for i in range(N_resampling):\n",
    "        # random sample from data\n",
    "        temp_sample = np.random.choice(data, len(data))\n",
    "        averages.append(np.mean(temp_sample))\n",
    "    error_estimate = np.std(averages)\n",
    "    return error_estimate\n",
    "\n",
    "\n",
    "data = [4, 5, 6, 4, 5, 6, 4, 5, 6]\n",
    "bootstrap(data)"
   ]
  },
  {
   "cell_type": "code",
   "execution_count": 22,
   "metadata": {},
   "outputs": [
    {
     "data": {
      "text/plain": [
       "0.17213259316477417"
      ]
     },
     "execution_count": 22,
     "metadata": {},
     "output_type": "execute_result"
    }
   ],
   "source": [
    "from multiprocessing import Pool\n",
    "import numpy as np\n",
    "\n",
    "\n",
    "def bootstrap_parallel_call(data):\n",
    "    # draw a random sample from the data\n",
    "    temp_sample = np.random.choice(data, len(data))\n",
    "    # calculate the mean of the random sample\n",
    "    return np.mean(temp_sample)\n",
    "\n",
    "\n",
    "def bootstrap_parallel(data, N_resampling=20, N_proc=4):\n",
    "    pool = Pool(N_proc)\n",
    "    error_estimate = None\n",
    "    averages = []\n",
    "    # start a new sampling process for each of the N_resamplings\n",
    "    for i in range(N_resampling):\n",
    "        averages.append(pool.apply(bootstrap_parallel_call, args=(data,)))\n",
    "    # get the overall error estimate\n",
    "    error_estimate = np.std(averages)\n",
    "    pool.close()\n",
    "    pool.join()\n",
    "    return error_estimate\n",
    "\n",
    "\n",
    "bootstrap_parallel(data)"
   ]
  },
  {
   "cell_type": "code",
   "execution_count": 26,
   "metadata": {},
   "outputs": [
    {
     "name": "stdout",
     "output_type": "stream",
     "text": [
      "0.2257361072656669\n"
     ]
    }
   ],
   "source": [
    "# check your solution\n",
    "\n",
    "if __name__ == \"__main__\":\n",
    "    np.random.seed(1)\n",
    "    data = [4, 5, 6, 4, 5, 6, 4, 5, 6]\n",
    "    error_estimate = bootstrap_parallel(data)\n",
    "    print(error_estimate)\n",
    "\n",
    "# expected result\n",
    "# around 0.22 (as it's random, it can change a bit)"
   ]
  },
  {
   "cell_type": "markdown",
   "metadata": {},
   "source": [
    "Class Molecule / PDB\n",
    "\n",
    "    For the class Molecule below, implement 2 additional functions:\n",
    "\n",
    "    translate function (takes a 3D vector as an input and translates the molecule (changes the coordinates)\n",
    "\n",
    "    number_of_atoms function (no arguments, returns the number of atoms in the molecule)\n",
    "\n",
    "    Based on that class, implement class called PDB that inherits from Molecule such that:\n",
    "\n",
    "    __init__ function takes a pdb file as an argument and parses it (coordinates)\n",
    "\n",
    "    functions translate and number_of_atoms execute properly\n"
   ]
  },
  {
   "cell_type": "code",
   "execution_count": 27,
   "metadata": {},
   "outputs": [
    {
     "name": "stdout",
     "output_type": "stream",
     "text": [
      "Writing example_1.pdb\n"
     ]
    }
   ],
   "source": [
    "%%writefile example_1.pdb\n",
    "HEADER    ACTIN BINDING                           15-JAN-97   1VII              \n",
    "TITLE     THERMOSTABLE SUBDOMAIN FROM CHICKEN VILLIN HEADPIECE, NMR,            \n",
    "TITLE    2 MINIMIZED AVERAGE STRUCTURE                                          \n",
    "ATOM      1  N   MET A  41       1.177 -10.035  -3.493  1.00  2.04           N  \n",
    "ATOM      2  CA  MET A  41       0.292  -8.839  -3.377  1.00  1.55           C  \n",
    "ATOM      3  C   MET A  41      -0.488  -8.912  -2.063  1.00  1.22           C  "
   ]
  },
  {
   "cell_type": "code",
   "execution_count": 39,
   "metadata": {},
   "outputs": [],
   "source": [
    "class Molecule:\n",
    "    def __init__(self):\n",
    "        self.coords = np.array([])\n",
    "        self.number_atoms = 0\n",
    "        self.atom = pd.DataFrame()\n",
    "\n",
    "    def translate(self, vector_3d):\n",
    "        self.coords += np.array(vector_3d)\n",
    "        return self.coords\n",
    "\n",
    "    def number_of_atoms(self):\n",
    "        return self.number_atoms\n",
    "\n",
    "\n",
    "import pdbreader\n",
    "\n",
    "\n",
    "class PDB(Molecule):\n",
    "    def __init__(self, path_to_pdb):\n",
    "        self.pdb = pdbreader.read_pdb(path_to_pdb)\n",
    "        self.atom = self.pdb[\"ATOM\"]\n",
    "        self.coords = self.atom[[\"x\", \"y\", \"z\"]].to_numpy()\n",
    "        self.number_atoms = len(self.atom)\n",
    "\n",
    "\n",
    "a = PDB(\"example_1.pdb\")"
   ]
  },
  {
   "cell_type": "markdown",
   "metadata": {},
   "source": [
    "You are taking place in a course where a list of exercises with different number of points and different deadlines is given. As you only have limited amount of time for solving the exercises, you want to optimize the choice of exercises that you want to submit to get the maximum number of points.\n",
    "\n",
    "Input:\n",
    "\n",
    "    list of exercises – where each element in the list is a tuple (representing one exercise) with exercise name, deadline and number of points.\n",
    "    Number (int) of days that you have available for submitting the exercises\n",
    "\n",
    "Output:\n",
    "\n",
    "    Optimized list of exercises you want to submit, such that you collect maximum number of points. You can submit only one exercise per day.\n"
   ]
  },
  {
   "cell_type": "code",
   "execution_count": 117,
   "metadata": {},
   "outputs": [],
   "source": [
    "def exercises_scheduler(exercises, days):\n",
    "    \"\"\"\n",
    "    Schedule exercises to maximize the points. Greedily selects the max-points option for each day.\n",
    "    Args:\n",
    "        exercises (list): list of tuples (exercise_name, day, points)\n",
    "        days (int): number of days\n",
    "    Returns:\n",
    "        list: list of tuples (exercise_name, day, points) which should be done\n",
    "        int: total points\n",
    "    \"\"\"\n",
    "    exercise_list = []\n",
    "    for day in range(1, days + 1):\n",
    "        # exercises which could be done today\n",
    "        due_today = [\n",
    "            (index, exercise)\n",
    "            for index, exercise in enumerate(exercises)\n",
    "            if exercise[1] == day\n",
    "        ]\n",
    "\n",
    "        # if no exercises are due today, select from all exercises\n",
    "        if len(due_today) == 0:\n",
    "            array_to_use = exercises\n",
    "        # else select from the exercises due today\n",
    "        else:\n",
    "            indexes, exercises_today = list(zip(*due_today))\n",
    "            array_to_use = exercises_today\n",
    "\n",
    "        # select the exercise with the most points\n",
    "        index_largest_points = np.argmax([exercise[2] for exercise in array_to_use])\n",
    "\n",
    "        # select the index of the exercise with the most points\n",
    "        if len(due_today) != 0:\n",
    "            index_largest_points = indexes[index_largest_points]\n",
    "\n",
    "        # select the one with the most points\n",
    "        exercise_list.append(exercises[index_largest_points])\n",
    "        # remove it from the exercises list\n",
    "        exercises.pop(index_largest_points)\n",
    "\n",
    "    total_points = sum([exercise[2] for exercise in exercise_list])\n",
    "    return exercise_list, total_points"
   ]
  },
  {
   "cell_type": "code",
   "execution_count": 171,
   "metadata": {},
   "outputs": [],
   "source": [
    "def exercises_scheduler(exercises, days):\n",
    "    \"\"\"\n",
    "    Schedule exercises to maximize the points. Greedily selects the max-points option for each day.\n",
    "    Args:\n",
    "        exercises (list): list of tuples (exercise_name, day, points)\n",
    "        days (int): number of days\n",
    "    Returns:\n",
    "        list: list of tuples (exercise_name, day, points) which should be done\n",
    "        int: total points\n",
    "    \"\"\"\n",
    "    exercise_list = []\n",
    "    for day in range(days, 0, -1):\n",
    "        # get all exercises which I can still do today\n",
    "        due_today = [\n",
    "            (index, exercise)\n",
    "            for index, exercise in enumerate(exercises)\n",
    "            if exercise[1] >= day\n",
    "        ]\n",
    "\n",
    "        # if we cant do anymore exercises, continue\n",
    "        if len(due_today) == 0:\n",
    "            continue\n",
    "\n",
    "        # get the indexes and exercises\n",
    "        indexes, exercises_today = list(zip(*due_today))\n",
    "\n",
    "        # select the exercise with the most points\n",
    "        index_largest_points = np.argmax([exercise[2] for exercise in exercises_today])\n",
    "\n",
    "        # select the index of the exercise with the most points\n",
    "        index_largest_points = indexes[index_largest_points]\n",
    "\n",
    "        # add the one with the most points to our exercise list\n",
    "        exercise_list.append(exercises[index_largest_points])\n",
    "        # and remove it from the exercises list so we cant choose it again\n",
    "        exercises.pop(index_largest_points)\n",
    "\n",
    "    total_points = sum([exercise[2] for exercise in exercise_list])\n",
    "    # reverse the list to get the correct order\n",
    "    exercise_list.reverse()\n",
    "    return exercise_list, total_points"
   ]
  },
  {
   "cell_type": "code",
   "execution_count": 168,
   "metadata": {},
   "outputs": [
    {
     "name": "stdout",
     "output_type": "stream",
     "text": [
      "[('Exercise 4', 1, 25), ('Exercise 2', 2, 40), ('Exercise 3', 3, 30)] 95\n"
     ]
    }
   ],
   "source": [
    "# check your solution\n",
    "exercises = [\n",
    "    (\"Exercise 1\", 2, 20),\n",
    "    (\"Exercise 2\", 2, 40),\n",
    "    (\"Exercise 3\", 3, 30),\n",
    "    (\"Exercise 4\", 1, 25),\n",
    "]\n",
    "number_of_days = 3\n",
    "\n",
    "exercises2do, total_points = exercises_scheduler(exercises, number_of_days)\n",
    "print(exercises2do, total_points)\n",
    "# expected result\n",
    "# [('Exercise 4', 1, 25), ('Exercise 2', 2, 40), ('Exercise 3', 3, 30)] 95"
   ]
  },
  {
   "cell_type": "code",
   "execution_count": 166,
   "metadata": {},
   "outputs": [
    {
     "name": "stdout",
     "output_type": "stream",
     "text": [
      "[('Exercise 3', 2, 49), ('Exercise 1', 2, 80), ('Exercise 5', 3, 18)] 147\n"
     ]
    }
   ],
   "source": [
    "# check your solution\n",
    "\n",
    "exercises = [\n",
    "    (\"Exercise 1\", 2, 20),\n",
    "    (\"Exercise 2\", 2, 40),\n",
    "    (\"Exercise 3\", 3, 30),\n",
    "    (\"Exercise 4\", 1, 25),\n",
    "]\n",
    "number_of_days = 3\n",
    "\n",
    "exercises2do, total_points = exercises_scheduler(exercises, number_of_days)\n",
    "assert (\n",
    "    exercises2do\n",
    "    == [(\"Exercise 4\", 1, 25), (\"Exercise 2\", 2, 40), (\"Exercise 3\", 3, 30)]\n",
    "    and total_points == 95\n",
    ")\n",
    "\n",
    "\n",
    "exercise_names = [\"Exercise \" + str(i + 1) for i in range(5)]\n",
    "deadlines = [2, 1, 2, 1, 3]\n",
    "points = [80, 29, 49, 41, 18]\n",
    "exercises = list(zip(exercise_names, deadlines, points))\n",
    "\n",
    "exercises2do, total_points = exercises_scheduler(exercises, number_of_days)\n",
    "# solution\n",
    "# exercises2do == [('Exercise 3', 2, 49), ('Exercise 1', 2, 80), ('Exercise 5', 3, 18)]\n",
    "# another possibility\n",
    "# exercises2do == [('Exercise 1', 2, 80), ('Exercise 3', 2, 49), ('Exercise 5', 3, 18)]\n",
    "print(exercises2do, total_points)\n",
    "assert (\n",
    "    exercises2do\n",
    "    == [(\"Exercise 3\", 2, 49), (\"Exercise 1\", 2, 80), (\"Exercise 5\", 3, 18)]\n",
    "    and total_points == 147\n",
    ")\n",
    "\n",
    "\n",
    "def check_correctness(exercises2do):\n",
    "    for day, ex2do in enumerate(exercises2do):\n",
    "        if isinstance(ex2do, (list, tuple)) and len(ex2do) == 3:\n",
    "            if ex2do[1]:\n",
    "                assert ex2do[1] > day\n",
    "\n",
    "\n",
    "check_correctness(exercises2do)"
   ]
  },
  {
   "cell_type": "code",
   "execution_count": 172,
   "metadata": {},
   "outputs": [
    {
     "name": "stdout",
     "output_type": "stream",
     "text": [
      "50.0204234958025\n",
      "489.21067858212376\n",
      "4998.796816318582\n"
     ]
    }
   ],
   "source": [
    "# check your solution (and performance of the algorithm)\n",
    "\n",
    "import numpy as np\n",
    "\n",
    "np.random.seed(1)\n",
    "\n",
    "import time\n",
    "\n",
    "\n",
    "def measure_time(fnc, *args, **kwargs):\n",
    "    start = time.time()\n",
    "    result = fnc(*args, **kwargs)\n",
    "    end = time.time()\n",
    "    return end - start, result\n",
    "\n",
    "\n",
    "expected_results = [50.020423495802525, 489.2106785821243, 4998.796816318576]\n",
    "times = []\n",
    "x = range(2, 5)\n",
    "for i in x:\n",
    "    N_exer = 10**i\n",
    "    N_days = int(N_exer) - 10\n",
    "    exercises = []\n",
    "    for j in range(N_exer):\n",
    "        temp_points = np.random.rand()\n",
    "        temp_deadline = np.random.randint(int(N_days / 2), N_days)\n",
    "        exercises.append((\"Ex_\" + str(j), temp_deadline, temp_points))\n",
    "\n",
    "    t, res = measure_time(exercises_scheduler, exercises, N_days)\n",
    "    check_correctness(res)\n",
    "    times.append(t)\n",
    "    exercises2do, total_points = res\n",
    "    print(total_points)\n",
    "    np.testing.assert_almost_equal(total_points, expected_results[i - 2])\n",
    "\n",
    "\n",
    "from scipy.stats import linregress\n",
    "\n",
    "y = np.log10(times)\n",
    "slope = linregress(x, y).slope\n",
    "\n",
    "assert slope < 2.05"
   ]
  },
  {
   "cell_type": "markdown",
   "metadata": {},
   "source": [
    "#### Exercise 6\n"
   ]
  },
  {
   "cell_type": "code",
   "execution_count": 5,
   "metadata": {},
   "outputs": [
    {
     "name": "stdout",
     "output_type": "stream",
     "text": [
      "[[3, 3]]\n",
      "None\n"
     ]
    }
   ],
   "source": [
    "import numpy as np\n",
    "\n",
    "\n",
    "def matrix_addition(M1, M2):\n",
    "    \"\"\"M1 and M2 are two matrices (size m1 x n1 and m2 x n2) represented as a list of lists\n",
    "    with M1 having m1 lists, each having n1 elements and M2 having m2 lists with n2 elements\n",
    "    results: M3 = M1 + M2 if matrices are of same size and None otherwise\n",
    "    check https://en.wikipedia.org/wiki/Matrix_addition\n",
    "    \"\"\"\n",
    "    if len(M1) == len(M2) and len(M1[0]) == len(M2[0]):\n",
    "        return [\n",
    "            [M1[i][j] + M2[i][j] for j in range(len(M1[0]))] for i in range(len(M1))\n",
    "        ]\n",
    "    else:\n",
    "        return None\n",
    "\n",
    "\n",
    "# check your results\n",
    "print(matrix_addition([[1, 2]], [[2, 1]]))\n",
    "print(matrix_addition([[1, 2], [3, 4]], [[1, 2, 3], [4, 5, 6]]))\n",
    "\n",
    "# results:\n",
    "# [[3, 3]]\n",
    "# None"
   ]
  },
  {
   "cell_type": "code",
   "execution_count": 6,
   "metadata": {},
   "outputs": [],
   "source": [
    "M1 = [[1, 2], [3, 4], [5, 6]]\n",
    "M2 = [[1, 2, 3], [4, 5, 6]]\n",
    "# check solution\n",
    "assert matrix_addition([[1, 2]], [[2, 1]]) == [[3, 3]]\n",
    "assert matrix_addition(M1, M2) is None"
   ]
  }
 ],
 "metadata": {
  "kernelspec": {
   "display_name": "moo_env",
   "language": "python",
   "name": "python3"
  },
  "language_info": {
   "codemirror_mode": {
    "name": "ipython",
    "version": 3
   },
   "file_extension": ".py",
   "mimetype": "text/x-python",
   "name": "python",
   "nbconvert_exporter": "python",
   "pygments_lexer": "ipython3",
   "version": "3.10.12"
  }
 },
 "nbformat": 4,
 "nbformat_minor": 2
}
