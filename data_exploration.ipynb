{
 "cells": [
  {
   "cell_type": "code",
   "execution_count": 1,
   "id": "a09bcf89",
   "metadata": {},
   "outputs": [
    {
     "data": {
      "text/plain": [
       "<bound method NDFrame.head of       id                  x                 y               BHD\n",
       "0      1  -68,2167006832299  61,3956239130436  56,1497142857143\n",
       "1      2  -42,1984159281437  22,2948881437126  15,1288982035928\n",
       "2      3  -35,6605485714286  48,7894283809524  34,5655619047619\n",
       "3      4         -63,811228  60,6850993333333           32,0572\n",
       "4      5  -12,3950435835351   77,242318062954  38,3888232445521\n",
       "..   ...                ...               ...               ...\n",
       "585  586  -36,9743130434783  38,8572591304348  28,9052173913044\n",
       "586  587   -52,159067823765  38,5023822162884  40,0141842456609\n",
       "587  588  -25,4799277966102  77,1735644067797  42,7526101694916\n",
       "588  589  -8,60909308411215   75,078196728972  20,3729345794393\n",
       "589  590  -26,3242885714286  59,0683546666667  46,8279238095239\n",
       "\n",
       "[590 rows x 4 columns]>"
      ]
     },
     "execution_count": 1,
     "metadata": {},
     "output_type": "execute_result"
    }
   ],
   "source": [
    "import pandas as pd\n",
    "import geopandas as gpd\n",
    "\n",
    "#load the data and show that we have correctly parsed the CSV\n",
    "with open(\"Resources_Organized/Bestand3.csv\") as file:\n",
    "    data = pd.read_csv(file,sep=\";\")\n",
    "data.head"
   ]
  },
  {
   "cell_type": "markdown",
   "id": "9db5fa86",
   "metadata": {},
   "source": [
    "#### Bird Eye Problem Approach\n",
    "\n",
    "Set-up the map\n",
    "1. Create a spatial map from the largest coordinates of each dataset\n",
    "2. Add the trees to the map, classifying them wrt BHD (and possibly other factors)\n",
    "3. Somehow designate the road area? Or should this happen manually?"
   ]
  }
 ],
 "metadata": {
  "kernelspec": {
   "display_name": "Python 3.10.4 ('moo_env': venv)",
   "language": "python",
   "name": "python3"
  },
  "language_info": {
   "codemirror_mode": {
    "name": "ipython",
    "version": 3
   },
   "file_extension": ".py",
   "mimetype": "text/x-python",
   "name": "python",
   "nbconvert_exporter": "python",
   "pygments_lexer": "ipython3",
   "version": "3.10.4"
  },
  "vscode": {
   "interpreter": {
    "hash": "91c48f7d0aa2425417474f308d34283669fba62ad21892aa9f3358b3314e0943"
   }
  }
 },
 "nbformat": 4,
 "nbformat_minor": 5
}
