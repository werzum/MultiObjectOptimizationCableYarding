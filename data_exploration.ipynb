{
 "cells": [
  {
   "cell_type": "code",
   "execution_count": 31,
   "id": "e0075c2e",
   "metadata": {},
   "outputs": [],
   "source": [
    "#Imports\n",
    "\n",
    "import rasterio as rs\n",
    "from rasterio.plot import show\n",
    "import matplotlib"
   ]
  },
  {
   "cell_type": "markdown",
   "id": "c2a10009",
   "metadata": {},
   "source": [
    "##### Reading the TIF Data"
   ]
  },
  {
   "cell_type": "code",
   "execution_count": 30,
   "id": "f8d3e9a6",
   "metadata": {},
   "outputs": [
    {
     "ename": "RasterioIOError",
     "evalue": "Resources_Organized/Bestand3.tif: No such file or directory",
     "output_type": "error",
     "traceback": [
      "\u001b[0;31m---------------------------------------------------------------------------\u001b[0m",
      "\u001b[0;31mCPLE_OpenFailedError\u001b[0m                      Traceback (most recent call last)",
      "File \u001b[0;32mrasterio/_base.pyx:302\u001b[0m, in \u001b[0;36mrasterio._base.DatasetBase.__init__\u001b[0;34m()\u001b[0m\n",
      "File \u001b[0;32mrasterio/_base.pyx:213\u001b[0m, in \u001b[0;36mrasterio._base.open_dataset\u001b[0;34m()\u001b[0m\n",
      "File \u001b[0;32mrasterio/_err.pyx:217\u001b[0m, in \u001b[0;36mrasterio._err.exc_wrap_pointer\u001b[0;34m()\u001b[0m\n",
      "\u001b[0;31mCPLE_OpenFailedError\u001b[0m: Resources_Organized/Bestand3.tif: No such file or directory",
      "\nDuring handling of the above exception, another exception occurred:\n",
      "\u001b[0;31mRasterioIOError\u001b[0m                           Traceback (most recent call last)",
      "\u001b[1;32m/home/carlo/GitHub/MultiObjectOptimizationCableYarding/data_exploration.ipynb Cell 2'\u001b[0m in \u001b[0;36m<cell line: 6>\u001b[0;34m()\u001b[0m\n\u001b[1;32m      <a href='vscode-notebook-cell:/home/carlo/GitHub/MultiObjectOptimizationCableYarding/data_exploration.ipynb#ch0000001?line=2'>3</a>\u001b[0m \u001b[39mimport\u001b[39;00m \u001b[39mmatplotlib\u001b[39;00m\n\u001b[1;32m      <a href='vscode-notebook-cell:/home/carlo/GitHub/MultiObjectOptimizationCableYarding/data_exploration.ipynb#ch0000001?line=4'>5</a>\u001b[0m fp \u001b[39m=\u001b[39m \u001b[39mr\u001b[39m\u001b[39m'\u001b[39m\u001b[39mResources_Organized/Bestand3.tif\u001b[39m\u001b[39m'\u001b[39m\n\u001b[0;32m----> <a href='vscode-notebook-cell:/home/carlo/GitHub/MultiObjectOptimizationCableYarding/data_exploration.ipynb#ch0000001?line=5'>6</a>\u001b[0m bestand_tif \u001b[39m=\u001b[39m rs\u001b[39m.\u001b[39;49mopen(fp)\n\u001b[1;32m      <a href='vscode-notebook-cell:/home/carlo/GitHub/MultiObjectOptimizationCableYarding/data_exploration.ipynb#ch0000001?line=6'>7</a>\u001b[0m show(bestand_tif, aspect\u001b[39m=\u001b[39m\u001b[39m'\u001b[39m\u001b[39mauto\u001b[39m\u001b[39m'\u001b[39m)\n",
      "File \u001b[0;32m~/GitHub/MultiObjectOptimizationCableYarding/moo_env/lib/python3.10/site-packages/rasterio/env.py:442\u001b[0m, in \u001b[0;36mensure_env_with_credentials.<locals>.wrapper\u001b[0;34m(*args, **kwds)\u001b[0m\n\u001b[1;32m    439\u001b[0m     session \u001b[39m=\u001b[39m DummySession()\n\u001b[1;32m    441\u001b[0m \u001b[39mwith\u001b[39;00m env_ctor(session\u001b[39m=\u001b[39msession):\n\u001b[0;32m--> 442\u001b[0m     \u001b[39mreturn\u001b[39;00m f(\u001b[39m*\u001b[39;49margs, \u001b[39m*\u001b[39;49m\u001b[39m*\u001b[39;49mkwds)\n",
      "File \u001b[0;32m~/GitHub/MultiObjectOptimizationCableYarding/moo_env/lib/python3.10/site-packages/rasterio/__init__.py:277\u001b[0m, in \u001b[0;36mopen\u001b[0;34m(fp, mode, driver, width, height, count, crs, transform, dtype, nodata, sharing, **kwargs)\u001b[0m\n\u001b[1;32m    274\u001b[0m path \u001b[39m=\u001b[39m _parse_path(raw_dataset_path)\n\u001b[1;32m    276\u001b[0m \u001b[39mif\u001b[39;00m mode \u001b[39m==\u001b[39m \u001b[39m\"\u001b[39m\u001b[39mr\u001b[39m\u001b[39m\"\u001b[39m:\n\u001b[0;32m--> 277\u001b[0m     dataset \u001b[39m=\u001b[39m DatasetReader(path, driver\u001b[39m=\u001b[39;49mdriver, sharing\u001b[39m=\u001b[39;49msharing, \u001b[39m*\u001b[39;49m\u001b[39m*\u001b[39;49mkwargs)\n\u001b[1;32m    278\u001b[0m \u001b[39melif\u001b[39;00m mode \u001b[39m==\u001b[39m \u001b[39m\"\u001b[39m\u001b[39mr+\u001b[39m\u001b[39m\"\u001b[39m:\n\u001b[1;32m    279\u001b[0m     dataset \u001b[39m=\u001b[39m get_writer_for_path(path, driver\u001b[39m=\u001b[39mdriver)(\n\u001b[1;32m    280\u001b[0m         path, mode, driver\u001b[39m=\u001b[39mdriver, sharing\u001b[39m=\u001b[39msharing, \u001b[39m*\u001b[39m\u001b[39m*\u001b[39mkwargs\n\u001b[1;32m    281\u001b[0m     )\n",
      "File \u001b[0;32mrasterio/_base.pyx:304\u001b[0m, in \u001b[0;36mrasterio._base.DatasetBase.__init__\u001b[0;34m()\u001b[0m\n",
      "\u001b[0;31mRasterioIOError\u001b[0m: Resources_Organized/Bestand3.tif: No such file or directory"
     ]
    }
   ],
   "source": [
    "fp = r'Resources_Organized/tif/Bestand3.tif'\n",
    "bestand_tif = rs.open(fp)\n",
    "show(bestand_tif, aspect='auto')"
   ]
  },
  {
   "cell_type": "code",
   "execution_count": 16,
   "id": "0e4f5e49",
   "metadata": {},
   "outputs": [
    {
     "name": "stdout",
     "output_type": "stream",
     "text": [
      "1\n"
     ]
    },
    {
     "data": {
      "image/png": "[encoded data removed]",
      "text/plain": [
       "<Figure size 432x288 with 1 Axes>"
      ]
     },
     "metadata": {
      "needs_background": "light"
     },
     "output_type": "display_data"
    },
    {
     "data": {
      "text/plain": [
       "<AxesSubplot:>"
      ]
     },
     "execution_count": 16,
     "metadata": {},
     "output_type": "execute_result"
    }
   ],
   "source": [
    "# Read the band1 from the tif so we have array data\n",
    "print(bestand_tif.count)\n",
    "band1 = bestand_tif.read(1)\n",
    "show(band1, aspect=\"auto\")"
   ]
  },
  {
   "cell_type": "code",
   "execution_count": 26,
   "id": "c72e85f2",
   "metadata": {},
   "outputs": [],
   "source": [
    "# Convert tif to geometry\n",
    "from shapely.geometry import Polygon\n",
    "import rasterio\n",
    "import rasterio.features\n",
    "import rasterio.warp\n",
    "\n",
    "geom_array=[]\n",
    "\n",
    "with rasterio.open(\"Resources_Organized/tif/Bestand3.tif\") as dataset:\n",
    "\n",
    "    # Read the dataset's valid data mask as a ndarray.\n",
    "    mask = dataset.dataset_mask()\n",
    "\n",
    "    # Extract feature shapes and values from the array.\n",
    "    for geom, val in rasterio.features.shapes(\n",
    "            mask, transform=dataset.transform):\n",
    "\n",
    "        # Transform shapes from the dataset's own coordinate\n",
    "        # reference system to CRS84 (EPSG:4326).\n",
    "        # geom = rasterio.warp.transform_geom(\n",
    "        #     dataset.crs, 'EPSG:4326', geom, precision=6)\n",
    "        geom_array.append(Polygon(geom[\"coordinates\"][0]))"
   ]
  },
  {
   "cell_type": "code",
   "execution_count": 27,
   "id": "f1bd63bd",
   "metadata": {},
   "outputs": [
    {
     "data": {
      "text/plain": [
       "<AxesSubplot:>"
      ]
     },
     "execution_count": 27,
     "metadata": {},
     "output_type": "execute_result"
    },
    {
     "data": {
      "image/png": "[encoded data removed]",
      "text/plain": [
       "<Figure size 432x288 with 1 Axes>"
      ]
     },
     "metadata": {
      "needs_background": "light"
     },
     "output_type": "display_data"
    }
   ],
   "source": [
    "forest = gpd.GeoDataFrame(geometry=geom_array)   \n",
    "forest.plot()"
   ]
  },
  {
   "cell_type": "markdown",
   "id": "dc67957c",
   "metadata": {},
   "source": [
    "#### And add the trees to the map"
   ]
  },
  {
   "cell_type": "code",
   "execution_count": 33,
   "id": "6c167662",
   "metadata": {},
   "outputs": [],
   "source": [
    "from shapely.geometry import Point\n",
    "import pandas as pd\n",
    "from pandas.api.types import is_string_dtype\n",
    "import geopandas as gpd"
   ]
  },
  {
   "cell_type": "code",
   "execution_count": null,
   "id": "a09bcf89",
   "metadata": {},
   "outputs": [],
   "source": [
    "#load the data and show that we have correctly parsed the CSV\n",
    "with open(\"Resources_Organized/csv/Bestand3_h.csv\") as file:\n",
    "    bestand_3_csv = pd.read_csv(file,sep=\"\\t\")\n",
    "\n",
    "for column in  [\"x\",\"y\",\"z\",\"id\"]:\n",
    "    \n",
    "    if is_string_dtype(bestand_3_csv[column]):\n",
    "        bestand_3_csv[column] = bestand_3_csv[column].str.replace(',', '').astype(float)\n",
    "    bestand_3_csv[column] = pd.to_numeric(bestand_3_csv[column])\n",
    "\n",
    "print(bestand_3_csv.head())\n",
    "print(bestand_3_csv.dtypes)"
   ]
  },
  {
   "cell_type": "code",
   "execution_count": 36,
   "id": "35a3c897",
   "metadata": {},
   "outputs": [
    {
     "data": {
      "text/plain": [
       "<AxesSubplot:>"
      ]
     },
     "execution_count": 36,
     "metadata": {},
     "output_type": "execute_result"
    },
    {
     "data": {
      "image/png": "[encoded data removed]",
      "text/plain": [
       "<Figure size 432x288 with 1 Axes>"
      ]
     },
     "metadata": {
      "needs_background": "light"
     },
     "output_type": "display_data"
    }
   ],
   "source": [
    "point_list = [Point(xy) for xy in zip(bestand_3_csv[\"x\"], bestand_3_csv[\"y\"])]\n",
    "tree_gpd = gpd.GeoDataFrame(data=bestand_3_csv,geometry=point_list)\n",
    "tree_gpd.plot()"
   ]
  },
  {
   "cell_type": "markdown",
   "id": "1cd29370",
   "metadata": {},
   "source": [
    "#### Function Planning\n",
    "\n",
    "- What do we actually need for our computations?\n",
    "\n",
    "1. Distances, angles between two points (ie. trees)\n",
    "-> Easy, euclidean distance and some trigonometry\n",
    "2. Check intersection with shapefiles\n",
    "-> This can be skipped as req for now\n",
    "3. Designate areas for roads, anchor trees and so on\n",
    "-> manually draw those in - need a tool to allow to draw lines and polygons into our matrix\n",
    "    1. This should probably happen on the raster map? So we have z coordinates\n",
    "    2. Nope, we can use the geopandas area - they provide adequate geometry functions (isdisjoint, contains, areas, lines,...)\n",
    "4. Computation of sample line:\n",
    "    1. ID possible starting points and their cost\n",
    "        1. Walk along street path\n",
    "        2. Each 1m, test if:\n",
    "            1. we find suitable anchor tree \n",
    "        1. Set line as vector\n",
    "        2. Get distances of trees (scaling them with distance)\n",
    "        3. \n",
    "- Ist es ein MIP, MILP Problem?\n",
    "- Was ist die Kostenfunktion, was sind die Nebenbedingungen?\n",
    "- Was sind die Variablentypen?"
   ]
  }
 ],
 "metadata": {
  "kernelspec": {
   "display_name": "Python 3.10.4 ('moo_env': venv)",
   "language": "python",
   "name": "python3"
  },
  "language_info": {
   "codemirror_mode": {
    "name": "ipython",
    "version": 3
   },
   "file_extension": ".py",
   "mimetype": "text/x-python",
   "name": "python",
   "nbconvert_exporter": "python",
   "pygments_lexer": "ipython3",
   "version": "3.10.4"
  },
  "vscode": {
   "interpreter": {
    "hash": "91c48f7d0aa2425417474f308d34283669fba62ad21892aa9f3358b3314e0943"
   }
  }
 },
 "nbformat": 4,
 "nbformat_minor": 5
}
